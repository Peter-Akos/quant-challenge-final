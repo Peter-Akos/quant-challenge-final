{
 "cells": [
  {
   "cell_type": "code",
   "execution_count": 1,
   "metadata": {},
   "outputs": [],
   "source": [
    "import pandas as pd\n",
    "import numpy as np\n",
    "import torch\n",
    "import copy\n",
    "from tqdm import tqdm\n",
    "import datetime\n",
    "import time"
   ]
  },
  {
   "cell_type": "code",
   "execution_count": 2,
   "metadata": {},
   "outputs": [],
   "source": [
    "scenario_requirements = {\n",
    "    1:[1320000, 1400000],\n",
    "    2:[1200000, 1300000],\n",
    "    3:[1370000, 1260000],\n",
    "}"
   ]
  },
  {
   "cell_type": "code",
   "execution_count": 3,
   "metadata": {},
   "outputs": [],
   "source": [
    "SCENARIO_NUMBER = 3\n",
    "min_quantile_10 = scenario_requirements[SCENARIO_NUMBER][0]\n",
    "min_quantile_25 = scenario_requirements[SCENARIO_NUMBER][1]\n",
    "best_strat = []\n",
    "best_profit = 0\n",
    "options = {\n",
    "    0:(5.0,'put'),\n",
    "    1:(5.5,'put'),\n",
    "    2:(6.0,'put'),\n",
    "    3:(6.5,'put'),\n",
    "    4:(7.0,'put'),\n",
    "    5:(7.5,'put'),\n",
    "    6:(8.0,'put'),\n",
    "    7:(5.0,'call'),\n",
    "    8:(5.5,'call'),\n",
    "    9:(6.0,'call'),\n",
    "    10:(6.5,'call'),\n",
    "    11:(7.0,'call'),\n",
    "    12:(7.5,'call'),\n",
    "    13:(8.0,'call'),\n",
    "}"
   ]
  },
  {
   "cell_type": "code",
   "execution_count": 4,
   "metadata": {},
   "outputs": [],
   "source": [
    "scenario = pd.read_csv('104/Scenario'+ str(SCENARIO_NUMBER) +'.csv')\n",
    "prices = pd.read_csv('104/option_prices_scenario_'+ str(SCENARIO_NUMBER) + '.csv')\n",
    "prices_list = prices['Price [USD]'].to_list()\n",
    "scenario_list = scenario.to_dict(orient='list')"
   ]
  },
  {
   "cell_type": "code",
   "execution_count": 5,
   "metadata": {},
   "outputs": [],
   "source": [
    "def get_vectors_closer(vec1, vec2):\n",
    "  sum = np.add(vec1, vec2)\n",
    "  sum = sum * 0.5\n",
    "  return sum\n",
    "  \n",
    "def closer_one_step(vec1, vec2):\n",
    "  vec = get_vectors_closer(vec1, vec2)\n",
    "  return get_vectors_closer(vec1, vec)\n",
    "\n",
    "def closer_sbs(vec1, vec2, n):\n",
    "  vec = closer_one_step(vec1, vec2)\n",
    "  for i in range(n-1):\n",
    "    vec = closer_one_step(vec1, vec)\n",
    "  return vec"
   ]
  },
  {
   "cell_type": "code",
   "execution_count": 6,
   "metadata": {},
   "outputs": [],
   "source": [
    "def calculate_profit(strike, market_price, typ):\n",
    "    if typ == 'call':\n",
    "        return max(100 * (market_price - strike), 0.0)\n",
    "    return max(100 * (strike - market_price), 0.0)"
   ]
  },
  {
   "cell_type": "code",
   "execution_count": 7,
   "metadata": {},
   "outputs": [],
   "source": [
    "def profit(option_prices, yi, market_price, strategy):\n",
    "    res = yi * market_price * 1000\n",
    "    before_options = res\n",
    "    for i in range(14):\n",
    "        strike, typ = options[i]\n",
    "        res += strategy[i] * calculate_profit(strike, market_price, typ)\n",
    "        res -= option_prices[i] * strategy[i]\n",
    "    return res"
   ]
  },
  {
   "cell_type": "markdown",
   "metadata": {},
   "source": [
    "### Saska es Huni"
   ]
  },
  {
   "cell_type": "code",
   "execution_count": 20,
   "metadata": {},
   "outputs": [
    {
     "name": "stderr",
     "output_type": "stream",
     "text": [
      "  1%|▉                                                                           | 1174/100000 [00:16<23:12, 70.98it/s]\n"
     ]
    },
    {
     "ename": "KeyboardInterrupt",
     "evalue": "",
     "output_type": "error",
     "traceback": [
      "\u001b[1;31m---------------------------------------------------------------------------\u001b[0m",
      "\u001b[1;31mKeyboardInterrupt\u001b[0m                         Traceback (most recent call last)",
      "Cell \u001b[1;32mIn[20], line 11\u001b[0m\n\u001b[0;32m      9\u001b[0m     curr_profits \u001b[38;5;241m=\u001b[39m []\n\u001b[0;32m     10\u001b[0m     \u001b[38;5;28;01mfor\u001b[39;00m j \u001b[38;5;129;01min\u001b[39;00m \u001b[38;5;28mrange\u001b[39m(\u001b[38;5;241m1000\u001b[39m):\n\u001b[1;32m---> 11\u001b[0m         curr_strat_profit \u001b[38;5;241m=\u001b[39m \u001b[43mprofit\u001b[49m\u001b[43m(\u001b[49m\u001b[43mprices_list\u001b[49m\u001b[43m,\u001b[49m\u001b[43m \u001b[49m\u001b[43mscenario_list\u001b[49m\u001b[43m[\u001b[49m\u001b[38;5;124;43m'\u001b[39;49m\u001b[38;5;124;43myield [thousands of bushels]\u001b[39;49m\u001b[38;5;124;43m'\u001b[39;49m\u001b[43m]\u001b[49m\u001b[43m[\u001b[49m\u001b[43mj\u001b[49m\u001b[43m]\u001b[49m\u001b[43m,\u001b[49m\u001b[43m \u001b[49m\u001b[43mscenario_list\u001b[49m\u001b[43m[\u001b[49m\u001b[38;5;124;43m'\u001b[39;49m\u001b[38;5;124;43mprice [$/bushel]\u001b[39;49m\u001b[38;5;124;43m'\u001b[39;49m\u001b[43m]\u001b[49m\u001b[43m[\u001b[49m\u001b[43mj\u001b[49m\u001b[43m]\u001b[49m\u001b[43m,\u001b[49m\u001b[43m \u001b[49m\u001b[43mstrat\u001b[49m\u001b[43m)\u001b[49m\n\u001b[0;32m     12\u001b[0m \u001b[38;5;66;03m#         print(curr_strat_profit)\u001b[39;00m\n\u001b[0;32m     13\u001b[0m \u001b[38;5;66;03m#         print(sc1_list['yield [thousands of bushels]'][j])\u001b[39;00m\n\u001b[0;32m     14\u001b[0m \u001b[38;5;66;03m#         print(sc1_list['price [$/bushel]'][j])\u001b[39;00m\n\u001b[0;32m     15\u001b[0m         curr_profits\u001b[38;5;241m.\u001b[39mappend(curr_strat_profit)\n",
      "Cell \u001b[1;32mIn[7], line 6\u001b[0m, in \u001b[0;36mprofit\u001b[1;34m(option_prices, yi, market_price, strategy)\u001b[0m\n\u001b[0;32m      4\u001b[0m \u001b[38;5;28;01mfor\u001b[39;00m i \u001b[38;5;129;01min\u001b[39;00m \u001b[38;5;28mrange\u001b[39m(\u001b[38;5;241m14\u001b[39m):\n\u001b[0;32m      5\u001b[0m     strike, typ \u001b[38;5;241m=\u001b[39m options[i]\n\u001b[1;32m----> 6\u001b[0m     res \u001b[38;5;241m+\u001b[39m\u001b[38;5;241m=\u001b[39m strategy[i] \u001b[38;5;241m*\u001b[39m \u001b[43mcalculate_profit\u001b[49m\u001b[43m(\u001b[49m\u001b[43mstrike\u001b[49m\u001b[43m,\u001b[49m\u001b[43m \u001b[49m\u001b[43mmarket_price\u001b[49m\u001b[43m,\u001b[49m\u001b[43m \u001b[49m\u001b[43mtyp\u001b[49m\u001b[43m)\u001b[49m\n\u001b[0;32m      7\u001b[0m     res \u001b[38;5;241m-\u001b[39m\u001b[38;5;241m=\u001b[39m option_prices[i] \u001b[38;5;241m*\u001b[39m strategy[i]\n\u001b[0;32m      8\u001b[0m \u001b[38;5;28;01mreturn\u001b[39;00m res\n",
      "Cell \u001b[1;32mIn[6], line 3\u001b[0m, in \u001b[0;36mcalculate_profit\u001b[1;34m(strike, market_price, typ)\u001b[0m\n\u001b[0;32m      1\u001b[0m \u001b[38;5;28;01mdef\u001b[39;00m \u001b[38;5;21mcalculate_profit\u001b[39m(strike, market_price, typ):\n\u001b[0;32m      2\u001b[0m     \u001b[38;5;28;01mif\u001b[39;00m typ \u001b[38;5;241m==\u001b[39m \u001b[38;5;124m'\u001b[39m\u001b[38;5;124mcall\u001b[39m\u001b[38;5;124m'\u001b[39m:\n\u001b[1;32m----> 3\u001b[0m         \u001b[38;5;28;01mreturn\u001b[39;00m \u001b[38;5;28;43mmax\u001b[39;49m\u001b[43m(\u001b[49m\u001b[38;5;241;43m100\u001b[39;49m\u001b[43m \u001b[49m\u001b[38;5;241;43m*\u001b[39;49m\u001b[43m \u001b[49m\u001b[43m(\u001b[49m\u001b[43mmarket_price\u001b[49m\u001b[43m \u001b[49m\u001b[38;5;241;43m-\u001b[39;49m\u001b[43m \u001b[49m\u001b[43mstrike\u001b[49m\u001b[43m)\u001b[49m\u001b[43m,\u001b[49m\u001b[43m \u001b[49m\u001b[38;5;241;43m0.0\u001b[39;49m\u001b[43m)\u001b[49m\n\u001b[0;32m      4\u001b[0m     \u001b[38;5;28;01mreturn\u001b[39;00m \u001b[38;5;28mmax\u001b[39m(\u001b[38;5;241m100\u001b[39m \u001b[38;5;241m*\u001b[39m (strike \u001b[38;5;241m-\u001b[39m market_price), \u001b[38;5;241m0.0\u001b[39m)\n",
      "\u001b[1;31mKeyboardInterrupt\u001b[0m: "
     ]
    }
   ],
   "source": [
    "number_of_random_strategies = 100000\n",
    "best_quantile_10 = 0\n",
    "for i in tqdm(range(number_of_random_strategies)):\n",
    "#     strat = np.random.randint(100, size=14)\n",
    "    strat = [145.0, 387.0, 537.0, 1090.0, 267.0, 256.0, 237.0, 0.0, 0.0, 0.0, 0.0, 0.0, 0.0, 0.0]\n",
    "    if (best_strat != []):\n",
    "      strat = np.round(closer_sbs(best_strat, strat, 2))\n",
    "#     strat = [1000, 1000, 1000, 100, 1000, 100, 0, 0, 0, 0, 0, 0, 0, 0]\n",
    "    curr_profits = []\n",
    "    for j in range(1000):\n",
    "        curr_strat_profit = profit(prices_list, scenario_list['yield [thousands of bushels]'][j], scenario_list['price [$/bushel]'][j], strat)\n",
    "#         print(curr_strat_profit)\n",
    "#         print(sc1_list['yield [thousands of bushels]'][j])\n",
    "#         print(sc1_list['price [$/bushel]'][j])\n",
    "        curr_profits.append(curr_strat_profit)\n",
    "    curr_expectet_profit = np.mean(curr_profits)\n",
    "    quantile_10 = np.quantile(curr_profits, 0.1)\n",
    "    quantile_25 = np.quantile(curr_profits, 0.25)\n",
    "    if curr_expectet_profit > best_profit and quantile_10 > min_quantile_10 and quantile_25 > min_quantile_25:\n",
    "        best_profit = curr_expectet_profit\n",
    "        best_strat = strat\n",
    "        print(quantile_10)\n",
    "        print(quantile_25)\n",
    "        print('New best strategy at iteration ',i,' : ', strat, 'Expected Profit:', curr_expectet_profit)"
   ]
  },
  {
   "cell_type": "markdown",
   "metadata": {},
   "source": [
    "### Akos"
   ]
  },
  {
   "cell_type": "code",
   "execution_count": 8,
   "metadata": {},
   "outputs": [],
   "source": [
    "def get_expected_value_of_strategy(strategy, market_prices, yields, option_prices, return_quantiles=False):\n",
    "    profits = []\n",
    "    for i in range(1000):\n",
    "        curr_profit = profit(option_prices, yields[i], market_prices[i], strategy)\n",
    "        profits.append(curr_profit)\n",
    "    expected_profit = np.mean(profits)\n",
    "    quantile_10 = np.quantile(profits, 0.1)\n",
    "    quantile_25 = np.quantile(profits, 0.25)\n",
    "#     print(quantile_10)\n",
    "#     print(quantile_25)\n",
    "    if return_quantiles:\n",
    "        return quantile_10,quantile_25\n",
    "    if quantile_10 > min_quantile_10 and quantile_25 > min_quantile_25:\n",
    "        return expected_profit\n",
    "    return 0"
   ]
  },
  {
   "cell_type": "code",
   "execution_count": 9,
   "metadata": {},
   "outputs": [],
   "source": [
    "def get_similar_strategies(strat):\n",
    "    ret = []\n",
    "    for i in range(14):\n",
    "        temp1 = copy.deepcopy(strat)\n",
    "        temp2 = copy.deepcopy(strat)\n",
    "        temp1[i] = strat[i] +1\n",
    "        temp2[i] -= 1\n",
    "        if np.min(temp1) >= 0:\n",
    "            ret.append(temp1)\n",
    "        if np.min(temp2) >= 0:\n",
    "            ret.append(temp2)\n",
    "    return ret"
   ]
  },
  {
   "cell_type": "code",
   "execution_count": 14,
   "metadata": {},
   "outputs": [
    {
     "name": "stderr",
     "output_type": "stream",
     "text": [
      "  0%|                                                                         | 75/1000000 [00:36<135:30:37,  2.05it/s]\n"
     ]
    },
    {
     "ename": "KeyboardInterrupt",
     "evalue": "",
     "output_type": "error",
     "traceback": [
      "\u001b[1;31m---------------------------------------------------------------------------\u001b[0m",
      "\u001b[1;31mKeyboardInterrupt\u001b[0m                         Traceback (most recent call last)",
      "Cell \u001b[1;32mIn[14], line 13\u001b[0m\n\u001b[0;32m     11\u001b[0m similar_strategies \u001b[38;5;241m=\u001b[39m get_similar_strategies(curr_strat)\n\u001b[0;32m     12\u001b[0m \u001b[38;5;28;01mfor\u001b[39;00m strat \u001b[38;5;129;01min\u001b[39;00m similar_strategies:\n\u001b[1;32m---> 13\u001b[0m     curr_strat_expected_profit \u001b[38;5;241m=\u001b[39m \u001b[43mget_expected_value_of_strategy\u001b[49m\u001b[43m(\u001b[49m\u001b[43mstrat\u001b[49m\u001b[43m,\u001b[49m\u001b[43m \u001b[49m\u001b[43mscenario_list\u001b[49m\u001b[43m[\u001b[49m\u001b[38;5;124;43m'\u001b[39;49m\u001b[38;5;124;43mprice [$/bushel]\u001b[39;49m\u001b[38;5;124;43m'\u001b[39;49m\u001b[43m]\u001b[49m\u001b[43m,\u001b[49m\u001b[43m \u001b[49m\u001b[43mscenario_list\u001b[49m\u001b[43m[\u001b[49m\u001b[38;5;124;43m'\u001b[39;49m\u001b[38;5;124;43myield [thousands of bushels]\u001b[39;49m\u001b[38;5;124;43m'\u001b[39;49m\u001b[43m]\u001b[49m\u001b[43m,\u001b[49m\u001b[43m \u001b[49m\u001b[43mprices_list\u001b[49m\u001b[43m)\u001b[49m\n\u001b[0;32m     14\u001b[0m     \u001b[38;5;28;01mif\u001b[39;00m curr_strat_expected_profit \u001b[38;5;241m>\u001b[39m best_expected_profit:\n\u001b[0;32m     15\u001b[0m         best_expected_profit \u001b[38;5;241m=\u001b[39m curr_strat_expected_profit\n",
      "Cell \u001b[1;32mIn[8], line 4\u001b[0m, in \u001b[0;36mget_expected_value_of_strategy\u001b[1;34m(strategy, market_prices, yields, option_prices, return_quantiles)\u001b[0m\n\u001b[0;32m      2\u001b[0m profits \u001b[38;5;241m=\u001b[39m []\n\u001b[0;32m      3\u001b[0m \u001b[38;5;28;01mfor\u001b[39;00m i \u001b[38;5;129;01min\u001b[39;00m \u001b[38;5;28mrange\u001b[39m(\u001b[38;5;241m1000\u001b[39m):\n\u001b[1;32m----> 4\u001b[0m     curr_profit \u001b[38;5;241m=\u001b[39m \u001b[43mprofit\u001b[49m\u001b[43m(\u001b[49m\u001b[43moption_prices\u001b[49m\u001b[43m,\u001b[49m\u001b[43m \u001b[49m\u001b[43myields\u001b[49m\u001b[43m[\u001b[49m\u001b[43mi\u001b[49m\u001b[43m]\u001b[49m\u001b[43m,\u001b[49m\u001b[43m \u001b[49m\u001b[43mmarket_prices\u001b[49m\u001b[43m[\u001b[49m\u001b[43mi\u001b[49m\u001b[43m]\u001b[49m\u001b[43m,\u001b[49m\u001b[43m \u001b[49m\u001b[43mstrategy\u001b[49m\u001b[43m)\u001b[49m\n\u001b[0;32m      5\u001b[0m     profits\u001b[38;5;241m.\u001b[39mappend(curr_profit)\n\u001b[0;32m      6\u001b[0m expected_profit \u001b[38;5;241m=\u001b[39m np\u001b[38;5;241m.\u001b[39mmean(profits)\n",
      "Cell \u001b[1;32mIn[7], line 6\u001b[0m, in \u001b[0;36mprofit\u001b[1;34m(option_prices, yi, market_price, strategy)\u001b[0m\n\u001b[0;32m      4\u001b[0m \u001b[38;5;28;01mfor\u001b[39;00m i \u001b[38;5;129;01min\u001b[39;00m \u001b[38;5;28mrange\u001b[39m(\u001b[38;5;241m14\u001b[39m):\n\u001b[0;32m      5\u001b[0m     strike, typ \u001b[38;5;241m=\u001b[39m options[i]\n\u001b[1;32m----> 6\u001b[0m     res \u001b[38;5;241m+\u001b[39m\u001b[38;5;241m=\u001b[39m \u001b[43mstrategy\u001b[49m\u001b[43m[\u001b[49m\u001b[43mi\u001b[49m\u001b[43m]\u001b[49m\u001b[43m \u001b[49m\u001b[38;5;241;43m*\u001b[39;49m\u001b[43m \u001b[49m\u001b[43mcalculate_profit\u001b[49m\u001b[43m(\u001b[49m\u001b[43mstrike\u001b[49m\u001b[43m,\u001b[49m\u001b[43m \u001b[49m\u001b[43mmarket_price\u001b[49m\u001b[43m,\u001b[49m\u001b[43m \u001b[49m\u001b[43mtyp\u001b[49m\u001b[43m)\u001b[49m\n\u001b[0;32m      7\u001b[0m     res \u001b[38;5;241m-\u001b[39m\u001b[38;5;241m=\u001b[39m option_prices[i] \u001b[38;5;241m*\u001b[39m strategy[i]\n\u001b[0;32m      8\u001b[0m \u001b[38;5;28;01mreturn\u001b[39;00m res\n",
      "\u001b[1;31mKeyboardInterrupt\u001b[0m: "
     ]
    }
   ],
   "source": [
    "filename = \"results_scenario\" + str(SCENARIO_NUMBER) + \".txt\"\n",
    "number_of_random_strategies = 1000000\n",
    "# best_profit = 0\n",
    "best_quantile_10 = 0\n",
    "curr_strat = [145.0, 387.0, 537.0, 1090.0, 267.0, 256.0, 237.0, 0.0, 0.0, 0.0, 0.0, 0.0, 0.0, 0.0]\n",
    "best_expected_profit = 0\n",
    "prev_best = -1\n",
    "for i in tqdm(range(number_of_random_strategies)):\n",
    "    prev_best = best_expected_profit\n",
    "    curr_profits = []\n",
    "    similar_strategies = get_similar_strategies(curr_strat)\n",
    "    for strat in similar_strategies:\n",
    "        curr_strat_expected_profit = get_expected_value_of_strategy(strat, scenario_list['price [$/bushel]'], scenario_list['yield [thousands of bushels]'], prices_list)\n",
    "        if curr_strat_expected_profit > best_expected_profit:\n",
    "            best_expected_profit = curr_strat_expected_profit\n",
    "            curr_strat = strat\n",
    "            print('New best strategy at iteration ',i,' : ', strat, 'Expected Profit:', curr_strat_expected_profit)\n",
    "    if prev_best == best_expected_profit:\n",
    "        if best_expected_profit != 0:\n",
    "            print('Start:', curr_strat, \"Expected Profit: \", best_expected_profit)\n",
    "            to_write = ''\n",
    "            for e in curr_strat:\n",
    "                to_write += str(e) + ' '\n",
    "            to_write = to_write + ',' + str(best_expected_profit) + '\\n'\n",
    "            f = open(filename, \"a\")\n",
    "            f.write(to_write)\n",
    "            f.close()\n",
    "        curr_strat = np.hstack((np.random.randint(2000, size=7), np.zeros(7)))\n",
    "        best_expected_profit = 0\n"
   ]
  },
  {
   "cell_type": "code",
   "execution_count": 10,
   "metadata": {},
   "outputs": [],
   "source": [
    "strat = [145.0, 387.0, 537.0, 1090.0, 267.0, 256.0, 237.0, 0.0, 0.0, 0.0, 0.0, 0.0, 0.0, 0.0]"
   ]
  },
  {
   "cell_type": "code",
   "execution_count": 14,
   "metadata": {},
   "outputs": [
    {
     "data": {
      "text/plain": [
       "(1300089.9891, 1370591.5536)"
      ]
     },
     "execution_count": 14,
     "metadata": {},
     "output_type": "execute_result"
    }
   ],
   "source": [
    "get_expected_value_of_strategy(strat, scenario_list['price [$/bushel]'], scenario_list['yield [thousands of bushels]'], prices_list, return_quantiles=True)"
   ]
  },
  {
   "cell_type": "markdown",
   "metadata": {},
   "source": [
    "### Find similar strategy that fulfills the quantile criteria"
   ]
  },
  {
   "cell_type": "code",
   "execution_count": 24,
   "metadata": {},
   "outputs": [],
   "source": [
    "similars = get_similar_strategies(strat)"
   ]
  },
  {
   "cell_type": "code",
   "execution_count": null,
   "metadata": {},
   "outputs": [],
   "source": [
    "while True:\n",
    "    \n",
    "    qs = []\n",
    "    similars = get_similar_strategies(strat)\n",
    "    for strat in similars:\n",
    "        q1, q2 = get_expected_value_of_strategy(strat, scenario_list['price [$/bushel]'], scenario_list['yield [thousands of bushels]'], prices_list, return_quantiles=True)\n",
    "        qs.append(q2)\n",
    "    print('Strategy with max q25:', np.max(qs))\n",
    "    strat = similars[np.argmax(qs)]\n",
    "    time.sleep(100)\n",
    "    "
   ]
  },
  {
   "cell_type": "code",
   "execution_count": 28,
   "metadata": {},
   "outputs": [
    {
     "data": {
      "text/plain": [
       "12"
      ]
     },
     "execution_count": 28,
     "metadata": {},
     "output_type": "execute_result"
    }
   ],
   "source": [
    "np.argmax(qs)"
   ]
  },
  {
   "cell_type": "code",
   "execution_count": 13,
   "metadata": {},
   "outputs": [
    {
     "name": "stdout",
     "output_type": "stream",
     "text": [
      "Strategy with max q25: 0\n"
     ]
    }
   ],
   "source": [
    "qs = []\n",
    "similars = get_similar_strategies(strat)\n",
    "for strat in similars:\n",
    "    q1, q2 = get_expected_value_of_strategy(strat, scenario_list['price [$/bushel]'], scenario_list['yield [thousands of bushels]'], prices_list, return_quantiles=True)\n",
    "    e = get_expected_value_of_strategy(strat, scenario_list['price [$/bushel]'], scenario_list['yield [thousands of bushels]'], prices_list)\n",
    "    qs.append(e)\n",
    "    \n",
    "print('Strategy with max q25:', np.max(qs))\n",
    "strat = similars[np.argmax(qs)]"
   ]
  },
  {
   "cell_type": "code",
   "execution_count": null,
   "metadata": {},
   "outputs": [],
   "source": []
  }
 ],
 "metadata": {
  "kernelspec": {
   "display_name": "Python 3 (ipykernel)",
   "language": "python",
   "name": "python3"
  },
  "language_info": {
   "codemirror_mode": {
    "name": "ipython",
    "version": 3
   },
   "file_extension": ".py",
   "mimetype": "text/x-python",
   "name": "python",
   "nbconvert_exporter": "python",
   "pygments_lexer": "ipython3",
   "version": "3.9.13"
  }
 },
 "nbformat": 4,
 "nbformat_minor": 2
}
