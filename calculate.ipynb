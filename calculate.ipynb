{
 "cells": [
  {
   "cell_type": "code",
   "execution_count": 1,
   "metadata": {},
   "outputs": [],
   "source": [
    "import pandas as pd\n",
    "import numpy as np\n",
    "import torch\n",
    "import copy\n",
    "from tqdm import tqdm\n",
    "import datetime"
   ]
  },
  {
   "cell_type": "code",
   "execution_count": 2,
   "metadata": {},
   "outputs": [],
   "source": [
    "scenario_requirements = {\n",
    "    1:[1320000, 1400000],\n",
    "    2:[1200000, 1300000],\n",
    "    3:[1370000, 1260000],\n",
    "}"
   ]
  },
  {
   "cell_type": "code",
   "execution_count": 3,
   "metadata": {},
   "outputs": [],
   "source": [
    "SCENARIO_NUMBER = 1\n",
    "min_quantile_10 = scenario_requirements[SCENARIO_NUMBER][0]\n",
    "min_quantile_25 = scenario_requirements[SCENARIO_NUMBER][1]\n",
    "best_strat = []\n",
    "best_profit = 0\n",
    "options = {\n",
    "    0:(5.0,'put'),\n",
    "    1:(5.5,'put'),\n",
    "    2:(6.0,'put'),\n",
    "    3:(6.5,'put'),\n",
    "    4:(7.0,'put'),\n",
    "    5:(7.5,'put'),\n",
    "    6:(8.0,'put'),\n",
    "    7:(5.0,'call'),\n",
    "    8:(5.5,'call'),\n",
    "    9:(6.0,'call'),\n",
    "    10:(6.5,'call'),\n",
    "    11:(7.0,'call'),\n",
    "    12:(7.5,'call'),\n",
    "    13:(8.0,'call'),\n",
    "}"
   ]
  },
  {
   "cell_type": "code",
   "execution_count": 4,
   "metadata": {},
   "outputs": [],
   "source": [
    "scenario = pd.read_csv('104/Scenario'+ str(SCENARIO_NUMBER) +'.csv')\n",
    "prices = pd.read_csv('104/option_prices_scenario_'+ str(SCENARIO_NUMBER) + '.csv')\n",
    "prices_list = prices['Price [USD]'].to_list()\n",
    "scenario_list = scenario.to_dict(orient='list')"
   ]
  },
  {
   "cell_type": "code",
   "execution_count": 5,
   "metadata": {},
   "outputs": [],
   "source": [
    "def get_vectors_closer(vec1, vec2):\n",
    "  sum = np.add(vec1, vec2)\n",
    "  sum = sum * 0.5\n",
    "  return sum\n",
    "  \n",
    "def closer_one_step(vec1, vec2):\n",
    "  vec = get_vectors_closer(vec1, vec2)\n",
    "  return get_vectors_closer(vec1, vec)\n",
    "\n",
    "def closer_sbs(vec1, vec2, n):\n",
    "  vec = closer_one_step(vec1, vec2)\n",
    "  for i in range(n-1):\n",
    "    vec = closer_one_step(vec1, vec)\n",
    "  return vec"
   ]
  },
  {
   "cell_type": "code",
   "execution_count": 6,
   "metadata": {},
   "outputs": [],
   "source": [
    "def calculate_profit(strike, market_price, typ):\n",
    "    if typ == 'call':\n",
    "        return max(100 * (market_price - strike), 0.0)\n",
    "    return max(100 * (strike - market_price), 0.0)"
   ]
  },
  {
   "cell_type": "code",
   "execution_count": 7,
   "metadata": {},
   "outputs": [],
   "source": [
    "def profit(option_prices, yi, market_price, strategy):\n",
    "    res = yi * market_price * 1000\n",
    "    before_options = res\n",
    "    for i in range(14):\n",
    "        strike, typ = options[i]\n",
    "        res += strategy[i] * calculate_profit(strike, market_price, typ)\n",
    "        res -= option_prices[i] * strategy[i]\n",
    "    return res"
   ]
  },
  {
   "cell_type": "markdown",
   "metadata": {},
   "source": [
    "### Saska es Huni"
   ]
  },
  {
   "cell_type": "code",
   "execution_count": 43,
   "metadata": {},
   "outputs": [
    {
     "name": "stderr",
     "output_type": "stream",
     "text": [
      "  0%|                                                                                       | 0/100000 [00:00<?, ?it/s]C:\\Users\\peter\\AppData\\Local\\Temp\\ipykernel_26288\\1578977321.py:8: DeprecationWarning: elementwise comparison failed; this will raise an error in the future.\n",
      "  if (best_strat != []):\n",
      "  1%|▍                                                                            | 578/100000 [00:06<17:57, 92.28it/s]"
     ]
    },
    {
     "name": "stdout",
     "output_type": "stream",
     "text": [
      "1325019.1199\n",
      "1400320.9688999997\n",
      "New best strategy at iteration  561  :  [600. 498. 500. 517. 554. 347. 264.   0.   0.   0.   0.   0.   0.   0.] Expected Profit: 1558547.1996\n"
     ]
    },
    {
     "name": "stderr",
     "output_type": "stream",
     "text": [
      "  4%|██▋                                                                         | 3612/100000 [00:38<16:56, 94.79it/s]"
     ]
    },
    {
     "name": "stdout",
     "output_type": "stream",
     "text": [
      "1325127.7754999998\n",
      "1400266.6839999997\n",
      "New best strategy at iteration  3595  :  [583. 525. 476. 502. 571. 332. 273.   0.   0.   0.   0.   0.   0.   0.] Expected Profit: 1558603.1084999999\n"
     ]
    },
    {
     "name": "stderr",
     "output_type": "stream",
     "text": [
      "  8%|██████▎                                                                     | 8225/100000 [01:29<16:24, 93.18it/s]"
     ]
    },
    {
     "name": "stdout",
     "output_type": "stream",
     "text": [
      "1325215.2566000002\n",
      "1400018.7896000003\n",
      "New best strategy at iteration  8207  :  [549. 521. 521. 510. 554. 346. 258.   0.   0.   0.   0.   0.   0.   0.] Expected Profit: 1558642.6753000002\n"
     ]
    },
    {
     "name": "stderr",
     "output_type": "stream",
     "text": [
      "  9%|██████▋                                                                     | 8743/100000 [01:35<16:49, 90.43it/s]"
     ]
    },
    {
     "name": "stdout",
     "output_type": "stream",
     "text": [
      "1325621.9612000003\n",
      "1400147.3742000002\n",
      "New best strategy at iteration  8729  :  [535. 507. 512. 538. 561. 336. 254.   0.   0.   0.   0.   0.   0.   0.] Expected Profit: 1558693.2204000002\n"
     ]
    },
    {
     "name": "stderr",
     "output_type": "stream",
     "text": [
      " 15%|███████████                                                                | 14699/100000 [02:41<15:36, 91.11it/s]\n"
     ]
    },
    {
     "ename": "KeyboardInterrupt",
     "evalue": "",
     "output_type": "error",
     "traceback": [
      "\u001b[1;31m---------------------------------------------------------------------------\u001b[0m",
      "\u001b[1;31mKeyboardInterrupt\u001b[0m                         Traceback (most recent call last)",
      "Cell \u001b[1;32mIn[43], line 13\u001b[0m\n\u001b[0;32m     11\u001b[0m     curr_profits \u001b[38;5;241m=\u001b[39m []\n\u001b[0;32m     12\u001b[0m     \u001b[38;5;28;01mfor\u001b[39;00m j \u001b[38;5;129;01min\u001b[39;00m \u001b[38;5;28mrange\u001b[39m(\u001b[38;5;241m1000\u001b[39m):\n\u001b[1;32m---> 13\u001b[0m         curr_strat_profit \u001b[38;5;241m=\u001b[39m \u001b[43mprofit\u001b[49m\u001b[43m(\u001b[49m\u001b[43mprices_list\u001b[49m\u001b[43m,\u001b[49m\u001b[43m \u001b[49m\u001b[43mscenario_list\u001b[49m\u001b[43m[\u001b[49m\u001b[38;5;124;43m'\u001b[39;49m\u001b[38;5;124;43myield [thousands of bushels]\u001b[39;49m\u001b[38;5;124;43m'\u001b[39;49m\u001b[43m]\u001b[49m\u001b[43m[\u001b[49m\u001b[43mj\u001b[49m\u001b[43m]\u001b[49m\u001b[43m,\u001b[49m\u001b[43m \u001b[49m\u001b[43mscenario_list\u001b[49m\u001b[43m[\u001b[49m\u001b[38;5;124;43m'\u001b[39;49m\u001b[38;5;124;43mprice [$/bushel]\u001b[39;49m\u001b[38;5;124;43m'\u001b[39;49m\u001b[43m]\u001b[49m\u001b[43m[\u001b[49m\u001b[43mj\u001b[49m\u001b[43m]\u001b[49m\u001b[43m,\u001b[49m\u001b[43m \u001b[49m\u001b[43mstrat\u001b[49m\u001b[43m)\u001b[49m\n\u001b[0;32m     14\u001b[0m \u001b[38;5;66;03m#         print(curr_strat_profit)\u001b[39;00m\n\u001b[0;32m     15\u001b[0m \u001b[38;5;66;03m#         print(sc1_list['yield [thousands of bushels]'][j])\u001b[39;00m\n\u001b[0;32m     16\u001b[0m \u001b[38;5;66;03m#         print(sc1_list['price [$/bushel]'][j])\u001b[39;00m\n\u001b[0;32m     17\u001b[0m         curr_profits\u001b[38;5;241m.\u001b[39mappend(curr_strat_profit)\n",
      "Cell \u001b[1;32mIn[41], line 5\u001b[0m, in \u001b[0;36mprofit\u001b[1;34m(option_prices, yi, market_price, strategy)\u001b[0m\n\u001b[0;32m      3\u001b[0m before_options \u001b[38;5;241m=\u001b[39m res\n\u001b[0;32m      4\u001b[0m \u001b[38;5;28;01mfor\u001b[39;00m i \u001b[38;5;129;01min\u001b[39;00m \u001b[38;5;28mrange\u001b[39m(\u001b[38;5;241m14\u001b[39m):\n\u001b[1;32m----> 5\u001b[0m     strike, typ \u001b[38;5;241m=\u001b[39m options[i]\n\u001b[0;32m      6\u001b[0m     res \u001b[38;5;241m+\u001b[39m\u001b[38;5;241m=\u001b[39m strategy[i] \u001b[38;5;241m*\u001b[39m calculate_profit(strike, market_price, typ)\n\u001b[0;32m      7\u001b[0m     res \u001b[38;5;241m-\u001b[39m\u001b[38;5;241m=\u001b[39m option_prices[i] \u001b[38;5;241m*\u001b[39m strategy[i]\n",
      "\u001b[1;31mKeyboardInterrupt\u001b[0m: "
     ]
    }
   ],
   "source": [
    "number_of_random_strategies = 100000\n",
    "best_quantile_10 = 0\n",
    "for i in tqdm(range(number_of_random_strategies)):\n",
    "#     strat = np.random.randint(100, size=14)\n",
    "    strat = np.hstack((np.random.randint(2000, size=7), np.zeros(7)))\n",
    "    if (best_strat != []):\n",
    "      strat = np.round(closer_sbs(best_strat, strat, 2))\n",
    "#     strat = [1000, 1000, 1000, 100, 1000, 100, 0, 0, 0, 0, 0, 0, 0, 0]\n",
    "    curr_profits = []\n",
    "    for j in range(1000):\n",
    "        curr_strat_profit = profit(prices_list, scenario_list['yield [thousands of bushels]'][j], scenario_list['price [$/bushel]'][j], strat)\n",
    "#         print(curr_strat_profit)\n",
    "#         print(sc1_list['yield [thousands of bushels]'][j])\n",
    "#         print(sc1_list['price [$/bushel]'][j])\n",
    "        curr_profits.append(curr_strat_profit)\n",
    "    curr_expectet_profit = np.mean(curr_profits)\n",
    "    quantile_10 = np.quantile(curr_profits, 0.1)\n",
    "    quantile_25 = np.quantile(curr_profits, 0.25)\n",
    "    if curr_expectet_profit > best_profit and quantile_10 > min_quantile_10 and quantile_25 > min_quantile_25:\n",
    "        best_profit = curr_expectet_profit\n",
    "        best_strat = strat\n",
    "        print(quantile_10)\n",
    "        print(quantile_25)\n",
    "        print('New best strategy at iteration ',i,' : ', strat, 'Expected Profit:', curr_expectet_profit)"
   ]
  },
  {
   "cell_type": "markdown",
   "metadata": {},
   "source": [
    "### Akos"
   ]
  },
  {
   "cell_type": "code",
   "execution_count": 8,
   "metadata": {},
   "outputs": [],
   "source": [
    "def get_expected_value_of_strategy(strategy, market_prices, yields, option_prices):\n",
    "    profits = []\n",
    "    for i in range(1000):\n",
    "        curr_profit = profit(option_prices, yields[i], market_prices[i], strategy)\n",
    "        profits.append(curr_profit)\n",
    "    expected_profit = np.mean(profits)\n",
    "    quantile_10 = np.quantile(profits, 0.1)\n",
    "    quantile_25 = np.quantile(profits, 0.25)\n",
    "    if quantile_10 > min_quantile_10 and quantile_25 > min_quantile_25:\n",
    "        return expected_profit\n",
    "    return 0"
   ]
  },
  {
   "cell_type": "code",
   "execution_count": 9,
   "metadata": {},
   "outputs": [],
   "source": [
    "def get_similar_strategies(strat):\n",
    "    ret = []\n",
    "    for i in range(14):\n",
    "        temp1 = copy.deepcopy(strat)\n",
    "        temp2 = copy.deepcopy(strat)\n",
    "        temp1[i] = strat[i] +1\n",
    "        temp2[i] -= 1\n",
    "        if np.min(temp1) >= 0:\n",
    "            ret.append(temp1)\n",
    "        if np.min(temp2) >= 0:\n",
    "            ret.append(temp2)\n",
    "    return ret"
   ]
  },
  {
   "cell_type": "code",
   "execution_count": 10,
   "metadata": {},
   "outputs": [
    {
     "name": "stderr",
     "output_type": "stream",
     "text": [
      " 10%|████████▎                                                                      | 105/1000 [00:12<02:10,  6.88it/s]"
     ]
    },
    {
     "name": "stdout",
     "output_type": "stream",
     "text": [
      "Start: [256.0, 136.0, 332.0, 622.0, 1221.0, 180.0, 0.0, 0.0, 0.0, 0.0, 0.0, 0.0, 0.0, 0.0] Expected Profit:  1560676.4246000005\n"
     ]
    },
    {
     "name": "stderr",
     "output_type": "stream",
     "text": [
      " 22%|█████████████████▋                                                             | 224/1000 [00:40<02:20,  5.51it/s]\n"
     ]
    },
    {
     "ename": "KeyboardInterrupt",
     "evalue": "",
     "output_type": "error",
     "traceback": [
      "\u001b[1;31m---------------------------------------------------------------------------\u001b[0m",
      "\u001b[1;31mKeyboardInterrupt\u001b[0m                         Traceback (most recent call last)",
      "Cell \u001b[1;32mIn[10], line 13\u001b[0m\n\u001b[0;32m     11\u001b[0m similar_strategies \u001b[38;5;241m=\u001b[39m get_similar_strategies(curr_strat)\n\u001b[0;32m     12\u001b[0m \u001b[38;5;28;01mfor\u001b[39;00m strat \u001b[38;5;129;01min\u001b[39;00m similar_strategies:\n\u001b[1;32m---> 13\u001b[0m     curr_strat_expected_profit \u001b[38;5;241m=\u001b[39m \u001b[43mget_expected_value_of_strategy\u001b[49m\u001b[43m(\u001b[49m\u001b[43mstrat\u001b[49m\u001b[43m,\u001b[49m\u001b[43m \u001b[49m\u001b[43mscenario_list\u001b[49m\u001b[43m[\u001b[49m\u001b[38;5;124;43m'\u001b[39;49m\u001b[38;5;124;43mprice [$/bushel]\u001b[39;49m\u001b[38;5;124;43m'\u001b[39;49m\u001b[43m]\u001b[49m\u001b[43m,\u001b[49m\u001b[43m \u001b[49m\u001b[43mscenario_list\u001b[49m\u001b[43m[\u001b[49m\u001b[38;5;124;43m'\u001b[39;49m\u001b[38;5;124;43myield [thousands of bushels]\u001b[39;49m\u001b[38;5;124;43m'\u001b[39;49m\u001b[43m]\u001b[49m\u001b[43m,\u001b[49m\u001b[43m \u001b[49m\u001b[43mprices_list\u001b[49m\u001b[43m)\u001b[49m\n\u001b[0;32m     14\u001b[0m     \u001b[38;5;28;01mif\u001b[39;00m curr_strat_expected_profit \u001b[38;5;241m>\u001b[39m best_expected_profit:\n\u001b[0;32m     15\u001b[0m         best_expected_profit \u001b[38;5;241m=\u001b[39m curr_strat_expected_profit\n",
      "Cell \u001b[1;32mIn[8], line 7\u001b[0m, in \u001b[0;36mget_expected_value_of_strategy\u001b[1;34m(strategy, market_prices, yields, option_prices)\u001b[0m\n\u001b[0;32m      5\u001b[0m     profits\u001b[38;5;241m.\u001b[39mappend(curr_profit)\n\u001b[0;32m      6\u001b[0m expected_profit \u001b[38;5;241m=\u001b[39m np\u001b[38;5;241m.\u001b[39mmean(profits)\n\u001b[1;32m----> 7\u001b[0m quantile_10 \u001b[38;5;241m=\u001b[39m \u001b[43mnp\u001b[49m\u001b[38;5;241;43m.\u001b[39;49m\u001b[43mquantile\u001b[49m\u001b[43m(\u001b[49m\u001b[43mprofits\u001b[49m\u001b[43m,\u001b[49m\u001b[43m \u001b[49m\u001b[38;5;241;43m0.1\u001b[39;49m\u001b[43m)\u001b[49m\n\u001b[0;32m      8\u001b[0m quantile_25 \u001b[38;5;241m=\u001b[39m np\u001b[38;5;241m.\u001b[39mquantile(profits, \u001b[38;5;241m0.25\u001b[39m)\n\u001b[0;32m      9\u001b[0m \u001b[38;5;28;01mif\u001b[39;00m quantile_10 \u001b[38;5;241m>\u001b[39m min_quantile_10 \u001b[38;5;129;01mand\u001b[39;00m quantile_25 \u001b[38;5;241m>\u001b[39m min_quantile_25:\n",
      "File \u001b[1;32m<__array_function__ internals>:200\u001b[0m, in \u001b[0;36mquantile\u001b[1;34m(*args, **kwargs)\u001b[0m\n",
      "File \u001b[1;32m~\\AppData\\Local\\Programs\\Python\\Python39\\lib\\site-packages\\numpy\\lib\\function_base.py:4461\u001b[0m, in \u001b[0;36mquantile\u001b[1;34m(a, q, axis, out, overwrite_input, method, keepdims, interpolation)\u001b[0m\n\u001b[0;32m   4459\u001b[0m \u001b[38;5;28;01mif\u001b[39;00m \u001b[38;5;129;01mnot\u001b[39;00m _quantile_is_valid(q):\n\u001b[0;32m   4460\u001b[0m     \u001b[38;5;28;01mraise\u001b[39;00m \u001b[38;5;167;01mValueError\u001b[39;00m(\u001b[38;5;124m\"\u001b[39m\u001b[38;5;124mQuantiles must be in the range [0, 1]\u001b[39m\u001b[38;5;124m\"\u001b[39m)\n\u001b[1;32m-> 4461\u001b[0m \u001b[38;5;28;01mreturn\u001b[39;00m \u001b[43m_quantile_unchecked\u001b[49m\u001b[43m(\u001b[49m\n\u001b[0;32m   4462\u001b[0m \u001b[43m    \u001b[49m\u001b[43ma\u001b[49m\u001b[43m,\u001b[49m\u001b[43m \u001b[49m\u001b[43mq\u001b[49m\u001b[43m,\u001b[49m\u001b[43m \u001b[49m\u001b[43maxis\u001b[49m\u001b[43m,\u001b[49m\u001b[43m \u001b[49m\u001b[43mout\u001b[49m\u001b[43m,\u001b[49m\u001b[43m \u001b[49m\u001b[43moverwrite_input\u001b[49m\u001b[43m,\u001b[49m\u001b[43m \u001b[49m\u001b[43mmethod\u001b[49m\u001b[43m,\u001b[49m\u001b[43m \u001b[49m\u001b[43mkeepdims\u001b[49m\u001b[43m)\u001b[49m\n",
      "File \u001b[1;32m~\\AppData\\Local\\Programs\\Python\\Python39\\lib\\site-packages\\numpy\\lib\\function_base.py:4473\u001b[0m, in \u001b[0;36m_quantile_unchecked\u001b[1;34m(a, q, axis, out, overwrite_input, method, keepdims)\u001b[0m\n\u001b[0;32m   4465\u001b[0m \u001b[38;5;28;01mdef\u001b[39;00m \u001b[38;5;21m_quantile_unchecked\u001b[39m(a,\n\u001b[0;32m   4466\u001b[0m                         q,\n\u001b[0;32m   4467\u001b[0m                         axis\u001b[38;5;241m=\u001b[39m\u001b[38;5;28;01mNone\u001b[39;00m,\n\u001b[1;32m   (...)\u001b[0m\n\u001b[0;32m   4470\u001b[0m                         method\u001b[38;5;241m=\u001b[39m\u001b[38;5;124m\"\u001b[39m\u001b[38;5;124mlinear\u001b[39m\u001b[38;5;124m\"\u001b[39m,\n\u001b[0;32m   4471\u001b[0m                         keepdims\u001b[38;5;241m=\u001b[39m\u001b[38;5;28;01mFalse\u001b[39;00m):\n\u001b[0;32m   4472\u001b[0m \u001b[38;5;250m    \u001b[39m\u001b[38;5;124;03m\"\"\"Assumes that q is in [0, 1], and is an ndarray\"\"\"\u001b[39;00m\n\u001b[1;32m-> 4473\u001b[0m     \u001b[38;5;28;01mreturn\u001b[39;00m \u001b[43m_ureduce\u001b[49m\u001b[43m(\u001b[49m\u001b[43ma\u001b[49m\u001b[43m,\u001b[49m\n\u001b[0;32m   4474\u001b[0m \u001b[43m                    \u001b[49m\u001b[43mfunc\u001b[49m\u001b[38;5;241;43m=\u001b[39;49m\u001b[43m_quantile_ureduce_func\u001b[49m\u001b[43m,\u001b[49m\n\u001b[0;32m   4475\u001b[0m \u001b[43m                    \u001b[49m\u001b[43mq\u001b[49m\u001b[38;5;241;43m=\u001b[39;49m\u001b[43mq\u001b[49m\u001b[43m,\u001b[49m\n\u001b[0;32m   4476\u001b[0m \u001b[43m                    \u001b[49m\u001b[43mkeepdims\u001b[49m\u001b[38;5;241;43m=\u001b[39;49m\u001b[43mkeepdims\u001b[49m\u001b[43m,\u001b[49m\n\u001b[0;32m   4477\u001b[0m \u001b[43m                    \u001b[49m\u001b[43maxis\u001b[49m\u001b[38;5;241;43m=\u001b[39;49m\u001b[43maxis\u001b[49m\u001b[43m,\u001b[49m\n\u001b[0;32m   4478\u001b[0m \u001b[43m                    \u001b[49m\u001b[43mout\u001b[49m\u001b[38;5;241;43m=\u001b[39;49m\u001b[43mout\u001b[49m\u001b[43m,\u001b[49m\n\u001b[0;32m   4479\u001b[0m \u001b[43m                    \u001b[49m\u001b[43moverwrite_input\u001b[49m\u001b[38;5;241;43m=\u001b[39;49m\u001b[43moverwrite_input\u001b[49m\u001b[43m,\u001b[49m\n\u001b[0;32m   4480\u001b[0m \u001b[43m                    \u001b[49m\u001b[43mmethod\u001b[49m\u001b[38;5;241;43m=\u001b[39;49m\u001b[43mmethod\u001b[49m\u001b[43m)\u001b[49m\n",
      "File \u001b[1;32m~\\AppData\\Local\\Programs\\Python\\Python39\\lib\\site-packages\\numpy\\lib\\function_base.py:3752\u001b[0m, in \u001b[0;36m_ureduce\u001b[1;34m(a, func, keepdims, **kwargs)\u001b[0m\n\u001b[0;32m   3749\u001b[0m             index_out \u001b[38;5;241m=\u001b[39m (\u001b[38;5;241m0\u001b[39m, ) \u001b[38;5;241m*\u001b[39m nd\n\u001b[0;32m   3750\u001b[0m             kwargs[\u001b[38;5;124m'\u001b[39m\u001b[38;5;124mout\u001b[39m\u001b[38;5;124m'\u001b[39m] \u001b[38;5;241m=\u001b[39m out[(\u001b[38;5;28mEllipsis\u001b[39m, ) \u001b[38;5;241m+\u001b[39m index_out]\n\u001b[1;32m-> 3752\u001b[0m r \u001b[38;5;241m=\u001b[39m func(a, \u001b[38;5;241m*\u001b[39m\u001b[38;5;241m*\u001b[39mkwargs)\n\u001b[0;32m   3754\u001b[0m \u001b[38;5;28;01mif\u001b[39;00m out \u001b[38;5;129;01mis\u001b[39;00m \u001b[38;5;129;01mnot\u001b[39;00m \u001b[38;5;28;01mNone\u001b[39;00m:\n\u001b[0;32m   3755\u001b[0m     \u001b[38;5;28;01mreturn\u001b[39;00m out\n",
      "File \u001b[1;32m~\\AppData\\Local\\Programs\\Python\\Python39\\lib\\site-packages\\numpy\\lib\\function_base.py:4636\u001b[0m, in \u001b[0;36m_quantile_ureduce_func\u001b[1;34m(a, q, axis, out, overwrite_input, method)\u001b[0m\n\u001b[0;32m   4634\u001b[0m \u001b[38;5;28;01mif\u001b[39;00m axis \u001b[38;5;129;01mis\u001b[39;00m \u001b[38;5;28;01mNone\u001b[39;00m:\n\u001b[0;32m   4635\u001b[0m     axis \u001b[38;5;241m=\u001b[39m \u001b[38;5;241m0\u001b[39m\n\u001b[1;32m-> 4636\u001b[0m     arr \u001b[38;5;241m=\u001b[39m \u001b[43ma\u001b[49m\u001b[38;5;241;43m.\u001b[39;49m\u001b[43mflatten\u001b[49m\u001b[43m(\u001b[49m\u001b[43m)\u001b[49m\n\u001b[0;32m   4637\u001b[0m \u001b[38;5;28;01melse\u001b[39;00m:\n\u001b[0;32m   4638\u001b[0m     arr \u001b[38;5;241m=\u001b[39m a\u001b[38;5;241m.\u001b[39mcopy()\n",
      "\u001b[1;31mKeyboardInterrupt\u001b[0m: "
     ]
    }
   ],
   "source": [
    "filename = \"results_scenario\" + str(SCENARIO_NUMBER) + \".txt\"\n",
    "number_of_random_strategies = 1000000\n",
    "# best_profit = 0\n",
    "best_quantile_10 = 0\n",
    "curr_strat = np.hstack((np.random.randint(2000, size=7), np.zeros(7)))\n",
    "best_expected_profit = 0\n",
    "prev_best = -1\n",
    "for i in tqdm(range(number_of_random_strategies)):\n",
    "    prev_best = best_expected_profit\n",
    "    curr_profits = []\n",
    "    similar_strategies = get_similar_strategies(curr_strat)\n",
    "    for strat in similar_strategies:\n",
    "        curr_strat_expected_profit = get_expected_value_of_strategy(strat, scenario_list['price [$/bushel]'], scenario_list['yield [thousands of bushels]'], prices_list)\n",
    "        if curr_strat_expected_profit > best_expected_profit:\n",
    "            best_expected_profit = curr_strat_expected_profit\n",
    "            curr_strat = strat\n",
    "#             print('New best strategy at iteration ',i,' : ', strat, 'Expected Profit:', curr_strat_expected_profit)\n",
    "    if prev_best == best_expected_profit:\n",
    "        if best_expected_profit != 0:\n",
    "            print('Start:', curr_strat, \"Expected Profit: \", best_expected_profit)\n",
    "            to_write = ''\n",
    "            for e in curr_strat:\n",
    "                to_write += str(e) + ' '\n",
    "            to_write = to_write + ',' + str(best_expected_profit)\n",
    "            f = open(filename, \"a\")\n",
    "            f.write(to_write)\n",
    "            f.close()\n",
    "        curr_strat = np.hstack((np.random.randint(2000, size=7), np.zeros(7)))\n",
    "        best_expected_profit = 0\n"
   ]
  },
  {
   "cell_type": "code",
   "execution_count": 96,
   "metadata": {},
   "outputs": [],
   "source": [
    "to_write = str(np.asarray(curr_strat)) + \",\" + str(best_expected_profit) + '\\n'"
   ]
  },
  {
   "cell_type": "code",
   "execution_count": 97,
   "metadata": {},
   "outputs": [
    {
     "data": {
      "text/plain": [
       "'[ 770.  132.  273.  254. 1720.    0.    0.    0.    0.    0.    0.    0.\\n    0.    0.],1559901.0591\\n\\n'"
      ]
     },
     "execution_count": 97,
     "metadata": {},
     "output_type": "execute_result"
    }
   ],
   "source": [
    "to_write.replace('\\n', '')\n",
    "to_write += '\\n'\n",
    "to_write"
   ]
  },
  {
   "cell_type": "code",
   "execution_count": 102,
   "metadata": {},
   "outputs": [],
   "source": [
    "filename = \"results_scenario\" + str(SCENARIO_NUMBER) + '_'+ str(datetime.datetime.now())[11:19] +\".txt\"\n",
    "filename = filename.replace(':', '-')\n",
    "f = open(filename, \"w\")\n",
    "f.write(to_write)\n",
    "f.write(to_write)\n",
    "f.write(to_write)\n",
    "f.write(to_write)\n",
    "f.close()"
   ]
  },
  {
   "cell_type": "code",
   "execution_count": 98,
   "metadata": {},
   "outputs": [
    {
     "data": {
      "text/plain": [
       "array([ 770.,  132.,  273.,  254., 1720.,    0.,    0.,    0.,    0.,\n",
       "          0.,    0.,    0.,    0.,    0.])"
      ]
     },
     "execution_count": 98,
     "metadata": {},
     "output_type": "execute_result"
    }
   ],
   "source": [
    "curr_strat"
   ]
  },
  {
   "cell_type": "code",
   "execution_count": 99,
   "metadata": {},
   "outputs": [],
   "source": [
    "to_write = ''\n",
    "for e in curr_strat:\n",
    "    to_write += str(e) + ' '"
   ]
  },
  {
   "cell_type": "code",
   "execution_count": 101,
   "metadata": {},
   "outputs": [
    {
     "data": {
      "text/plain": [
       "'770.0 132.0 273.0 254.0 1720.0 0.0 0.0 0.0 0.0 0.0 0.0 0.0 0.0 0.0 ,1559901.0591'"
      ]
     },
     "execution_count": 101,
     "metadata": {},
     "output_type": "execute_result"
    }
   ],
   "source": [
    "to_write + ',' + str(best_expected_profit)"
   ]
  },
  {
   "cell_type": "code",
   "execution_count": null,
   "metadata": {},
   "outputs": [],
   "source": []
  }
 ],
 "metadata": {
  "kernelspec": {
   "display_name": "Python 3 (ipykernel)",
   "language": "python",
   "name": "python3"
  },
  "language_info": {
   "codemirror_mode": {
    "name": "ipython",
    "version": 3
   },
   "file_extension": ".py",
   "mimetype": "text/x-python",
   "name": "python",
   "nbconvert_exporter": "python",
   "pygments_lexer": "ipython3",
   "version": "3.9.13"
  }
 },
 "nbformat": 4,
 "nbformat_minor": 2
}
