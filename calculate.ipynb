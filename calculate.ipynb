{
 "cells": [
  {
   "cell_type": "code",
   "execution_count": null,
   "metadata": {},
   "outputs": [],
   "source": [
    "import pandas as pd\n",
    "import numpy as np\n",
    "import torch\n",
    "from tqdm import tqdm"
   ]
  },
  {
   "cell_type": "code",
   "execution_count": null,
   "metadata": {},
   "outputs": [],
   "source": [
    "def profit(option_prices, yi, market_price, strategy):\n",
    "    res = yi * market_price * 1000\n",
    "    before_options = res\n",
    "#     print('Income from selling is:', res)\n",
    "    for i in range(14):\n",
    "        strike, typ = options[i]\n",
    "#         print(strike, typ)\n",
    "        res += strategy[i] * calculate_profit(strike, market_price, typ)\n",
    "        res -= option_prices[i] * strategy[i]\n",
    "#     if res-before_options > 0:\n",
    "#         print(res-before_options, strategy)\n",
    "#     print(\"profit on options:\", res-before_options)\n",
    "    return res"
   ]
  },
  {
   "cell_type": "code",
   "execution_count": null,
   "metadata": {},
   "outputs": [],
   "source": [
    "number_of_random_strategies = 10000\n",
    "best_quantile_10 = 0\n",
    "min_quantile_10 = 1320000\n",
    "min_quantile_25 = 1400000\n",
    "for i in tqdm(range(number_of_random_strategies)):\n",
    "#     strat = np.random.randint(100, size=14)\n",
    "    strat = np.hstack((np.random.randint(2000, size=7), np.zeros(7)))\n",
    "    if (best_strat != []):\n",
    "      strat = np.round(closer_sbs(best_strat, strat, 2))\n",
    "#     strat = [1000, 1000, 1000, 100, 1000, 100, 0, 0, 0, 0, 0, 0, 0, 0]\n",
    "    curr_profits = []\n",
    "    for j in range(1000):\n",
    "        curr_strat_profit = profit(prices_list, sc1_list['yield [thousands of bushels]'][j], sc1_list['price [$/bushel]'][j], strat)\n",
    "#         print(curr_strat_profit)\n",
    "#         print(sc1_list['yield [thousands of bushels]'][j])\n",
    "#         print(sc1_list['price [$/bushel]'][j])\n",
    "        curr_profits.append(curr_strat_profit)\n",
    "    curr_expectet_profit = np.mean(curr_profits)\n",
    "    quantile_10 = np.quantile(curr_profits, 0.1)\n",
    "    quantile_25 = np.quantile(curr_profits, 0.25)\n",
    "    if curr_expectet_profit > best_profit and quantile_10 > min_quantile_10 and quantile_25 > min_quantile_25:\n",
    "        best_profit = curr_expectet_profit\n",
    "        best_strat = strat\n",
    "        print(quantile_10)\n",
    "        print(quantile_25)\n",
    "        print('New best strategy at iteration ',i,' : ', strat, 'Expected Profit:', curr_expectet_profit)"
   ]
  }
 ],
 "metadata": {
  "language_info": {
   "name": "python"
  },
  "orig_nbformat": 4
 },
 "nbformat": 4,
 "nbformat_minor": 2
}
