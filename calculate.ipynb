{
 "cells": [
  {
   "cell_type": "code",
   "execution_count": 1,
   "metadata": {},
   "outputs": [],
   "source": [
    "import pandas as pd\n",
    "import numpy as np\n",
    "import torch\n",
    "import copy\n",
    "from tqdm import tqdm\n",
    "import datetime"
   ]
  },
  {
   "cell_type": "code",
   "execution_count": 2,
   "metadata": {},
   "outputs": [],
   "source": [
    "scenario_requirements = {\n",
    "    1:[1320000, 1400000],\n",
    "    2:[1200000, 1300000],\n",
    "    3:[1370000, 1260000],\n",
    "}"
   ]
  },
  {
   "cell_type": "code",
   "execution_count": 3,
   "metadata": {},
   "outputs": [],
   "source": [
    "SCENARIO_NUMBER = 2\n",
    "min_quantile_10 = scenario_requirements[SCENARIO_NUMBER][0]\n",
    "min_quantile_25 = scenario_requirements[SCENARIO_NUMBER][1]\n",
    "best_strat = []\n",
    "best_profit = 0\n",
    "options = {\n",
    "    0:(5.0,'put'),\n",
    "    1:(5.5,'put'),\n",
    "    2:(6.0,'put'),\n",
    "    3:(6.5,'put'),\n",
    "    4:(7.0,'put'),\n",
    "    5:(7.5,'put'),\n",
    "    6:(8.0,'put'),\n",
    "    7:(5.0,'call'),\n",
    "    8:(5.5,'call'),\n",
    "    9:(6.0,'call'),\n",
    "    10:(6.5,'call'),\n",
    "    11:(7.0,'call'),\n",
    "    12:(7.5,'call'),\n",
    "    13:(8.0,'call'),\n",
    "}"
   ]
  },
  {
   "cell_type": "code",
   "execution_count": 4,
   "metadata": {},
   "outputs": [],
   "source": [
    "scenario = pd.read_csv('104/Scenario'+ str(SCENARIO_NUMBER) +'.csv')\n",
    "prices = pd.read_csv('104/option_prices_scenario_'+ str(SCENARIO_NUMBER) + '.csv')\n",
    "prices_list = prices['Price [USD]'].to_list()\n",
    "scenario_list = scenario.to_dict(orient='list')"
   ]
  },
  {
   "cell_type": "code",
   "execution_count": 5,
   "metadata": {},
   "outputs": [],
   "source": [
    "def get_vectors_closer(vec1, vec2):\n",
    "  sum = np.add(vec1, vec2)\n",
    "  sum = sum * 0.5\n",
    "  return sum\n",
    "  \n",
    "def closer_one_step(vec1, vec2):\n",
    "  vec = get_vectors_closer(vec1, vec2)\n",
    "  return get_vectors_closer(vec1, vec)\n",
    "\n",
    "def closer_sbs(vec1, vec2, n):\n",
    "  vec = closer_one_step(vec1, vec2)\n",
    "  for i in range(n-1):\n",
    "    vec = closer_one_step(vec1, vec)\n",
    "  return vec"
   ]
  },
  {
   "cell_type": "code",
   "execution_count": 6,
   "metadata": {},
   "outputs": [],
   "source": [
    "def calculate_profit(strike, market_price, typ):\n",
    "    if typ == 'call':\n",
    "        return max(100 * (market_price - strike), 0.0)\n",
    "    return max(100 * (strike - market_price), 0.0)"
   ]
  },
  {
   "cell_type": "code",
   "execution_count": 11,
   "metadata": {},
   "outputs": [],
   "source": [
    "def profit(option_prices, yi, market_price, strategy):\n",
    "    res = yi * market_price * 1000\n",
    "    before_options = res\n",
    "    for i in range(14):\n",
    "        strike, typ = options[i]\n",
    "        res += strategy[i] * calculate_profit(strike, market_price, typ)\n",
    "        res -= option_prices[i] * strategy[i]\n",
    "    return res"
   ]
  },
  {
   "cell_type": "markdown",
   "metadata": {},
   "source": [
    "### Saska es Huni"
   ]
  },
  {
   "cell_type": "code",
   "execution_count": 43,
   "metadata": {},
   "outputs": [
    {
     "name": "stderr",
     "output_type": "stream",
     "text": [
      "  0%|                                                                                       | 0/100000 [00:00<?, ?it/s]C:\\Users\\peter\\AppData\\Local\\Temp\\ipykernel_26288\\1578977321.py:8: DeprecationWarning: elementwise comparison failed; this will raise an error in the future.\n",
      "  if (best_strat != []):\n",
      "  1%|▍                                                                            | 578/100000 [00:06<17:57, 92.28it/s]"
     ]
    },
    {
     "name": "stdout",
     "output_type": "stream",
     "text": [
      "1325019.1199\n",
      "1400320.9688999997\n",
      "New best strategy at iteration  561  :  [600. 498. 500. 517. 554. 347. 264.   0.   0.   0.   0.   0.   0.   0.] Expected Profit: 1558547.1996\n"
     ]
    },
    {
     "name": "stderr",
     "output_type": "stream",
     "text": [
      "  4%|██▋                                                                         | 3612/100000 [00:38<16:56, 94.79it/s]"
     ]
    },
    {
     "name": "stdout",
     "output_type": "stream",
     "text": [
      "1325127.7754999998\n",
      "1400266.6839999997\n",
      "New best strategy at iteration  3595  :  [583. 525. 476. 502. 571. 332. 273.   0.   0.   0.   0.   0.   0.   0.] Expected Profit: 1558603.1084999999\n"
     ]
    },
    {
     "name": "stderr",
     "output_type": "stream",
     "text": [
      "  8%|██████▎                                                                     | 8225/100000 [01:29<16:24, 93.18it/s]"
     ]
    },
    {
     "name": "stdout",
     "output_type": "stream",
     "text": [
      "1325215.2566000002\n",
      "1400018.7896000003\n",
      "New best strategy at iteration  8207  :  [549. 521. 521. 510. 554. 346. 258.   0.   0.   0.   0.   0.   0.   0.] Expected Profit: 1558642.6753000002\n"
     ]
    },
    {
     "name": "stderr",
     "output_type": "stream",
     "text": [
      "  9%|██████▋                                                                     | 8743/100000 [01:35<16:49, 90.43it/s]"
     ]
    },
    {
     "name": "stdout",
     "output_type": "stream",
     "text": [
      "1325621.9612000003\n",
      "1400147.3742000002\n",
      "New best strategy at iteration  8729  :  [535. 507. 512. 538. 561. 336. 254.   0.   0.   0.   0.   0.   0.   0.] Expected Profit: 1558693.2204000002\n"
     ]
    },
    {
     "name": "stderr",
     "output_type": "stream",
     "text": [
      " 15%|███████████                                                                | 14699/100000 [02:41<15:36, 91.11it/s]\n"
     ]
    },
    {
     "ename": "KeyboardInterrupt",
     "evalue": "",
     "output_type": "error",
     "traceback": [
      "\u001b[1;31m---------------------------------------------------------------------------\u001b[0m",
      "\u001b[1;31mKeyboardInterrupt\u001b[0m                         Traceback (most recent call last)",
      "Cell \u001b[1;32mIn[43], line 13\u001b[0m\n\u001b[0;32m     11\u001b[0m     curr_profits \u001b[38;5;241m=\u001b[39m []\n\u001b[0;32m     12\u001b[0m     \u001b[38;5;28;01mfor\u001b[39;00m j \u001b[38;5;129;01min\u001b[39;00m \u001b[38;5;28mrange\u001b[39m(\u001b[38;5;241m1000\u001b[39m):\n\u001b[1;32m---> 13\u001b[0m         curr_strat_profit \u001b[38;5;241m=\u001b[39m \u001b[43mprofit\u001b[49m\u001b[43m(\u001b[49m\u001b[43mprices_list\u001b[49m\u001b[43m,\u001b[49m\u001b[43m \u001b[49m\u001b[43mscenario_list\u001b[49m\u001b[43m[\u001b[49m\u001b[38;5;124;43m'\u001b[39;49m\u001b[38;5;124;43myield [thousands of bushels]\u001b[39;49m\u001b[38;5;124;43m'\u001b[39;49m\u001b[43m]\u001b[49m\u001b[43m[\u001b[49m\u001b[43mj\u001b[49m\u001b[43m]\u001b[49m\u001b[43m,\u001b[49m\u001b[43m \u001b[49m\u001b[43mscenario_list\u001b[49m\u001b[43m[\u001b[49m\u001b[38;5;124;43m'\u001b[39;49m\u001b[38;5;124;43mprice [$/bushel]\u001b[39;49m\u001b[38;5;124;43m'\u001b[39;49m\u001b[43m]\u001b[49m\u001b[43m[\u001b[49m\u001b[43mj\u001b[49m\u001b[43m]\u001b[49m\u001b[43m,\u001b[49m\u001b[43m \u001b[49m\u001b[43mstrat\u001b[49m\u001b[43m)\u001b[49m\n\u001b[0;32m     14\u001b[0m \u001b[38;5;66;03m#         print(curr_strat_profit)\u001b[39;00m\n\u001b[0;32m     15\u001b[0m \u001b[38;5;66;03m#         print(sc1_list['yield [thousands of bushels]'][j])\u001b[39;00m\n\u001b[0;32m     16\u001b[0m \u001b[38;5;66;03m#         print(sc1_list['price [$/bushel]'][j])\u001b[39;00m\n\u001b[0;32m     17\u001b[0m         curr_profits\u001b[38;5;241m.\u001b[39mappend(curr_strat_profit)\n",
      "Cell \u001b[1;32mIn[41], line 5\u001b[0m, in \u001b[0;36mprofit\u001b[1;34m(option_prices, yi, market_price, strategy)\u001b[0m\n\u001b[0;32m      3\u001b[0m before_options \u001b[38;5;241m=\u001b[39m res\n\u001b[0;32m      4\u001b[0m \u001b[38;5;28;01mfor\u001b[39;00m i \u001b[38;5;129;01min\u001b[39;00m \u001b[38;5;28mrange\u001b[39m(\u001b[38;5;241m14\u001b[39m):\n\u001b[1;32m----> 5\u001b[0m     strike, typ \u001b[38;5;241m=\u001b[39m options[i]\n\u001b[0;32m      6\u001b[0m     res \u001b[38;5;241m+\u001b[39m\u001b[38;5;241m=\u001b[39m strategy[i] \u001b[38;5;241m*\u001b[39m calculate_profit(strike, market_price, typ)\n\u001b[0;32m      7\u001b[0m     res \u001b[38;5;241m-\u001b[39m\u001b[38;5;241m=\u001b[39m option_prices[i] \u001b[38;5;241m*\u001b[39m strategy[i]\n",
      "\u001b[1;31mKeyboardInterrupt\u001b[0m: "
     ]
    }
   ],
   "source": [
    "number_of_random_strategies = 100000\n",
    "best_quantile_10 = 0\n",
    "for i in tqdm(range(number_of_random_strategies)):\n",
    "#     strat = np.random.randint(100, size=14)\n",
    "    strat = np.hstack((np.random.randint(2000, size=7), np.zeros(7)))\n",
    "    if (best_strat != []):\n",
    "      strat = np.round(closer_sbs(best_strat, strat, 2))\n",
    "#     strat = [1000, 1000, 1000, 100, 1000, 100, 0, 0, 0, 0, 0, 0, 0, 0]\n",
    "    curr_profits = []\n",
    "    for j in range(1000):\n",
    "        curr_strat_profit = profit(prices_list, scenario_list['yield [thousands of bushels]'][j], scenario_list['price [$/bushel]'][j], strat)\n",
    "#         print(curr_strat_profit)\n",
    "#         print(sc1_list['yield [thousands of bushels]'][j])\n",
    "#         print(sc1_list['price [$/bushel]'][j])\n",
    "        curr_profits.append(curr_strat_profit)\n",
    "    curr_expectet_profit = np.mean(curr_profits)\n",
    "    quantile_10 = np.quantile(curr_profits, 0.1)\n",
    "    quantile_25 = np.quantile(curr_profits, 0.25)\n",
    "    if curr_expectet_profit > best_profit and quantile_10 > min_quantile_10 and quantile_25 > min_quantile_25:\n",
    "        best_profit = curr_expectet_profit\n",
    "        best_strat = strat\n",
    "        print(quantile_10)\n",
    "        print(quantile_25)\n",
    "        print('New best strategy at iteration ',i,' : ', strat, 'Expected Profit:', curr_expectet_profit)"
   ]
  },
  {
   "cell_type": "markdown",
   "metadata": {},
   "source": [
    "### Akos"
   ]
  },
  {
   "cell_type": "code",
   "execution_count": 7,
   "metadata": {},
   "outputs": [],
   "source": [
    "def get_expected_value_of_strategy(strategy, market_prices, yields, option_prices):\n",
    "    profits = []\n",
    "    for i in range(1000):\n",
    "        curr_profit = profit(option_prices, yields[i], market_prices[i], strategy)\n",
    "        profits.append(curr_profit)\n",
    "    expected_profit = np.mean(profits)\n",
    "    quantile_10 = np.quantile(profits, 0.1)\n",
    "    quantile_25 = np.quantile(profits, 0.25)\n",
    "    if quantile_10 > min_quantile_10 and quantile_25 > min_quantile_25:\n",
    "        return expected_profit\n",
    "    return 0"
   ]
  },
  {
   "cell_type": "code",
   "execution_count": 8,
   "metadata": {},
   "outputs": [],
   "source": [
    "def get_similar_strategies(strat):\n",
    "    ret = []\n",
    "    for i in range(14):\n",
    "        temp1 = copy.deepcopy(strat)\n",
    "        temp2 = copy.deepcopy(strat)\n",
    "        temp1[i] = strat[i] +1\n",
    "        temp2[i] -= 1\n",
    "        if np.min(temp1) >= 0:\n",
    "            ret.append(temp1)\n",
    "        if np.min(temp2) >= 0:\n",
    "            ret.append(temp2)\n",
    "    return ret"
   ]
  },
  {
   "cell_type": "code",
   "execution_count": 12,
   "metadata": {},
   "outputs": [
    {
     "name": "stderr",
     "output_type": "stream",
     "text": [
      "  0%|          | 1417/1000000 [04:58<55:35:47,  4.99it/s]"
     ]
    },
    {
     "name": "stdout",
     "output_type": "stream",
     "text": [
      "Start: [1544.   59.  168.  120.  223.  943.    0.    0.    0.    0.    0.    0.\n",
      "    0.    0.] Expected Profit:  1618058.1959899997\n"
     ]
    },
    {
     "name": "stderr",
     "output_type": "stream",
     "text": [
      "  0%|          | 2030/1000000 [07:09<59:41:42,  4.64it/s]"
     ]
    },
    {
     "name": "stdout",
     "output_type": "stream",
     "text": [
      "Start: [190. 484. 201. 979. 150.  83. 447.   0.   0.   0.   0.   0.   0.   0.] Expected Profit:  1618889.6423900002\n"
     ]
    },
    {
     "name": "stderr",
     "output_type": "stream",
     "text": [
      "  0%|          | 3206/1000000 [11:18<57:53:35,  4.78it/s]"
     ]
    },
    {
     "name": "stdout",
     "output_type": "stream",
     "text": [
      "Start: [164. 123. 602. 374. 168. 851. 155.   0.   0.   0.   0.   0.   0.   0.] Expected Profit:  1617478.81669\n"
     ]
    },
    {
     "name": "stderr",
     "output_type": "stream",
     "text": [
      "  0%|          | 4107/1000000 [15:32<58:38:01,  4.72it/s]  "
     ]
    },
    {
     "name": "stdout",
     "output_type": "stream",
     "text": [
      "Start: [167. 293. 596. 526. 463.  42. 427.   0.   0.   0.   0.   0.   0.   0.] Expected Profit:  1618652.89729\n"
     ]
    },
    {
     "name": "stderr",
     "output_type": "stream",
     "text": [
      "  1%|          | 5616/1000000 [20:35<52:40:45,  5.24it/s]"
     ]
    },
    {
     "name": "stdout",
     "output_type": "stream",
     "text": [
      "Start: [  44.  275.  283.  447. 1420.    0.    0.    0.    0.    0.    0.    0.\n",
      "    0.    0.] Expected Profit:  1619089.09239\n"
     ]
    },
    {
     "name": "stderr",
     "output_type": "stream",
     "text": [
      "  1%|          | 7177/1000000 [26:02<54:43:46,  5.04it/s]"
     ]
    },
    {
     "name": "stdout",
     "output_type": "stream",
     "text": [
      "Start: [328. 300. 448. 508. 232. 736.   0.   0.   0.   0.   0.   0.   0.   0.] Expected Profit:  1619368.5300900002\n"
     ]
    },
    {
     "name": "stderr",
     "output_type": "stream",
     "text": [
      "  1%|          | 8663/1000000 [31:14<59:34:58,  4.62it/s]\n"
     ]
    },
    {
     "ename": "KeyboardInterrupt",
     "evalue": "",
     "output_type": "error",
     "traceback": [
      "\u001b[0;31m---------------------------------------------------------------------------\u001b[0m",
      "\u001b[0;31mKeyboardInterrupt\u001b[0m                         Traceback (most recent call last)",
      "\u001b[1;32m/Users/acsmahal/MCC/quant-challenge-final/calculate.ipynb Cell 13\u001b[0m in \u001b[0;36m<cell line: 8>\u001b[0;34m()\u001b[0m\n\u001b[1;32m     <a href='vscode-notebook-cell:/Users/acsmahal/MCC/quant-challenge-final/calculate.ipynb#X15sZmlsZQ%3D%3D?line=10'>11</a>\u001b[0m similar_strategies \u001b[39m=\u001b[39m get_similar_strategies(curr_strat)\n\u001b[1;32m     <a href='vscode-notebook-cell:/Users/acsmahal/MCC/quant-challenge-final/calculate.ipynb#X15sZmlsZQ%3D%3D?line=11'>12</a>\u001b[0m \u001b[39mfor\u001b[39;00m strat \u001b[39min\u001b[39;00m similar_strategies:\n\u001b[0;32m---> <a href='vscode-notebook-cell:/Users/acsmahal/MCC/quant-challenge-final/calculate.ipynb#X15sZmlsZQ%3D%3D?line=12'>13</a>\u001b[0m     curr_strat_expected_profit \u001b[39m=\u001b[39m get_expected_value_of_strategy(strat, scenario_list[\u001b[39m'\u001b[39;49m\u001b[39mprice [$/bushel]\u001b[39;49m\u001b[39m'\u001b[39;49m], scenario_list[\u001b[39m'\u001b[39;49m\u001b[39myield [thousands of bushels]\u001b[39;49m\u001b[39m'\u001b[39;49m], prices_list)\n\u001b[1;32m     <a href='vscode-notebook-cell:/Users/acsmahal/MCC/quant-challenge-final/calculate.ipynb#X15sZmlsZQ%3D%3D?line=13'>14</a>\u001b[0m     \u001b[39mif\u001b[39;00m curr_strat_expected_profit \u001b[39m>\u001b[39m best_expected_profit:\n\u001b[1;32m     <a href='vscode-notebook-cell:/Users/acsmahal/MCC/quant-challenge-final/calculate.ipynb#X15sZmlsZQ%3D%3D?line=14'>15</a>\u001b[0m         best_expected_profit \u001b[39m=\u001b[39m curr_strat_expected_profit\n",
      "\u001b[1;32m/Users/acsmahal/MCC/quant-challenge-final/calculate.ipynb Cell 13\u001b[0m in \u001b[0;36mget_expected_value_of_strategy\u001b[0;34m(strategy, market_prices, yields, option_prices)\u001b[0m\n\u001b[1;32m      <a href='vscode-notebook-cell:/Users/acsmahal/MCC/quant-challenge-final/calculate.ipynb#X15sZmlsZQ%3D%3D?line=1'>2</a>\u001b[0m profits \u001b[39m=\u001b[39m []\n\u001b[1;32m      <a href='vscode-notebook-cell:/Users/acsmahal/MCC/quant-challenge-final/calculate.ipynb#X15sZmlsZQ%3D%3D?line=2'>3</a>\u001b[0m \u001b[39mfor\u001b[39;00m i \u001b[39min\u001b[39;00m \u001b[39mrange\u001b[39m(\u001b[39m1000\u001b[39m):\n\u001b[0;32m----> <a href='vscode-notebook-cell:/Users/acsmahal/MCC/quant-challenge-final/calculate.ipynb#X15sZmlsZQ%3D%3D?line=3'>4</a>\u001b[0m     curr_profit \u001b[39m=\u001b[39m profit(option_prices, yields[i], market_prices[i], strategy)\n\u001b[1;32m      <a href='vscode-notebook-cell:/Users/acsmahal/MCC/quant-challenge-final/calculate.ipynb#X15sZmlsZQ%3D%3D?line=4'>5</a>\u001b[0m     profits\u001b[39m.\u001b[39mappend(curr_profit)\n\u001b[1;32m      <a href='vscode-notebook-cell:/Users/acsmahal/MCC/quant-challenge-final/calculate.ipynb#X15sZmlsZQ%3D%3D?line=5'>6</a>\u001b[0m expected_profit \u001b[39m=\u001b[39m np\u001b[39m.\u001b[39mmean(profits)\n",
      "\u001b[1;32m/Users/acsmahal/MCC/quant-challenge-final/calculate.ipynb Cell 13\u001b[0m in \u001b[0;36mprofit\u001b[0;34m(option_prices, yi, market_price, strategy)\u001b[0m\n\u001b[1;32m      <a href='vscode-notebook-cell:/Users/acsmahal/MCC/quant-challenge-final/calculate.ipynb#X15sZmlsZQ%3D%3D?line=3'>4</a>\u001b[0m \u001b[39mfor\u001b[39;00m i \u001b[39min\u001b[39;00m \u001b[39mrange\u001b[39m(\u001b[39m14\u001b[39m):\n\u001b[1;32m      <a href='vscode-notebook-cell:/Users/acsmahal/MCC/quant-challenge-final/calculate.ipynb#X15sZmlsZQ%3D%3D?line=4'>5</a>\u001b[0m     strike, typ \u001b[39m=\u001b[39m options[i]\n\u001b[0;32m----> <a href='vscode-notebook-cell:/Users/acsmahal/MCC/quant-challenge-final/calculate.ipynb#X15sZmlsZQ%3D%3D?line=5'>6</a>\u001b[0m     res \u001b[39m+\u001b[39m\u001b[39m=\u001b[39m strategy[i] \u001b[39m*\u001b[39m calculate_profit(strike, market_price, typ)\n\u001b[1;32m      <a href='vscode-notebook-cell:/Users/acsmahal/MCC/quant-challenge-final/calculate.ipynb#X15sZmlsZQ%3D%3D?line=6'>7</a>\u001b[0m     res \u001b[39m-\u001b[39m\u001b[39m=\u001b[39m option_prices[i] \u001b[39m*\u001b[39m strategy[i]\n\u001b[1;32m      <a href='vscode-notebook-cell:/Users/acsmahal/MCC/quant-challenge-final/calculate.ipynb#X15sZmlsZQ%3D%3D?line=7'>8</a>\u001b[0m \u001b[39mreturn\u001b[39;00m res\n",
      "\u001b[0;31mKeyboardInterrupt\u001b[0m: "
     ]
    }
   ],
   "source": [
    "filename = \"results_scenario\" + str(SCENARIO_NUMBER) + \".txt\"\n",
    "number_of_random_strategies = 1000000\n",
    "# best_profit = 0\n",
    "best_quantile_10 = 0\n",
    "curr_strat = np.hstack((np.random.randint(2000, size=7), np.zeros(7)))\n",
    "best_expected_profit = 0\n",
    "prev_best = -1\n",
    "for i in tqdm(range(number_of_random_strategies)):\n",
    "    prev_best = best_expected_profit\n",
    "    curr_profits = []\n",
    "    similar_strategies = get_similar_strategies(curr_strat)\n",
    "    for strat in similar_strategies:\n",
    "        curr_strat_expected_profit = get_expected_value_of_strategy(strat, scenario_list['price [$/bushel]'], scenario_list['yield [thousands of bushels]'], prices_list)\n",
    "        if curr_strat_expected_profit > best_expected_profit:\n",
    "            best_expected_profit = curr_strat_expected_profit\n",
    "            curr_strat = strat\n",
    "#             print('New best strategy at iteration ',i,' : ', strat, 'Expected Profit:', curr_strat_expected_profit)\n",
    "    if prev_best == best_expected_profit:\n",
    "        if best_expected_profit != 0:\n",
    "            print('Start:', curr_strat, \"Expected Profit: \", best_expected_profit)\n",
    "            to_write = ''\n",
    "            for e in curr_strat:\n",
    "                to_write += str(e) + ' '\n",
    "            to_write = to_write + ',' + str(best_expected_profit)\n",
    "            f = open(filename, \"a\")\n",
    "            f.write(to_write)\n",
    "            f.close()\n",
    "        curr_strat = np.hstack((np.random.randint(2000, size=7), np.zeros(7)))\n",
    "        best_expected_profit = 0\n"
   ]
  },
  {
   "cell_type": "code",
   "execution_count": 10,
   "metadata": {},
   "outputs": [],
   "source": [
    "to_write = str(np.asarray(curr_strat)) + \",\" + str(best_expected_profit) + '\\n'"
   ]
  },
  {
   "cell_type": "code",
   "execution_count": 97,
   "metadata": {},
   "outputs": [
    {
     "data": {
      "text/plain": [
       "'[ 770.  132.  273.  254. 1720.    0.    0.    0.    0.    0.    0.    0.\\n    0.    0.],1559901.0591\\n\\n'"
      ]
     },
     "execution_count": 97,
     "metadata": {},
     "output_type": "execute_result"
    }
   ],
   "source": [
    "to_write.replace('\\n', '')\n",
    "to_write += '\\n'\n",
    "to_write"
   ]
  },
  {
   "cell_type": "code",
   "execution_count": 102,
   "metadata": {},
   "outputs": [],
   "source": [
    "filename = \"results_scenario\" + str(SCENARIO_NUMBER) + '_'+ str(datetime.datetime.now())[11:19] +\".txt\"\n",
    "filename = filename.replace(':', '-')\n",
    "f = open(filename, \"w\")\n",
    "f.write(to_write)\n",
    "f.write(to_write)\n",
    "f.write(to_write)\n",
    "f.write(to_write)\n",
    "f.close()"
   ]
  },
  {
   "cell_type": "code",
   "execution_count": 98,
   "metadata": {},
   "outputs": [
    {
     "data": {
      "text/plain": [
       "array([ 770.,  132.,  273.,  254., 1720.,    0.,    0.,    0.,    0.,\n",
       "          0.,    0.,    0.,    0.,    0.])"
      ]
     },
     "execution_count": 98,
     "metadata": {},
     "output_type": "execute_result"
    }
   ],
   "source": [
    "curr_strat"
   ]
  },
  {
   "cell_type": "code",
   "execution_count": 99,
   "metadata": {},
   "outputs": [],
   "source": [
    "to_write = ''\n",
    "for e in curr_strat:\n",
    "    to_write += str(e) + ' '"
   ]
  },
  {
   "cell_type": "code",
   "execution_count": 101,
   "metadata": {},
   "outputs": [
    {
     "data": {
      "text/plain": [
       "'770.0 132.0 273.0 254.0 1720.0 0.0 0.0 0.0 0.0 0.0 0.0 0.0 0.0 0.0 ,1559901.0591'"
      ]
     },
     "execution_count": 101,
     "metadata": {},
     "output_type": "execute_result"
    }
   ],
   "source": [
    "to_write + ',' + str(best_expected_profit)"
   ]
  },
  {
   "cell_type": "code",
   "execution_count": null,
   "metadata": {},
   "outputs": [],
   "source": []
  }
 ],
 "metadata": {
  "kernelspec": {
   "display_name": "Python 3 (ipykernel)",
   "language": "python",
   "name": "python3"
  },
  "language_info": {
   "codemirror_mode": {
    "name": "ipython",
    "version": 3
   },
   "file_extension": ".py",
   "mimetype": "text/x-python",
   "name": "python",
   "nbconvert_exporter": "python",
   "pygments_lexer": "ipython3",
   "version": "3.9.12"
  }
 },
 "nbformat": 4,
 "nbformat_minor": 2
}
