{
 "cells": [
  {
   "cell_type": "code",
   "execution_count": 30,
   "metadata": {},
   "outputs": [],
   "source": [
    "import pandas as pd\n",
    "import numpy as np\n",
    "import torch\n",
    "import copy\n",
    "from tqdm import tqdm\n",
    "import datetime\n",
    "import time"
   ]
  },
  {
   "cell_type": "code",
   "execution_count": 2,
   "metadata": {},
   "outputs": [],
   "source": [
    "scenario_requirements = {\n",
    "    1:[1320000, 1400000],\n",
    "    2:[1200000, 1300000],\n",
    "    3:[1300000, 1200000],\n",
    "}"
   ]
  },
  {
   "cell_type": "code",
   "execution_count": 3,
   "metadata": {},
   "outputs": [],
   "source": [
    "SCENARIO_NUMBER = 3\n",
    "min_quantile_10 = scenario_requirements[SCENARIO_NUMBER][0]\n",
    "min_quantile_25 = scenario_requirements[SCENARIO_NUMBER][1]\n",
    "best_strat = []\n",
    "best_profit = 0\n",
    "options = {\n",
    "    0:(5.0,'put'),\n",
    "    1:(5.5,'put'),\n",
    "    2:(6.0,'put'),\n",
    "    3:(6.5,'put'),\n",
    "    4:(7.0,'put'),\n",
    "    5:(7.5,'put'),\n",
    "    6:(8.0,'put'),\n",
    "    7:(5.0,'call'),\n",
    "    8:(5.5,'call'),\n",
    "    9:(6.0,'call'),\n",
    "    10:(6.5,'call'),\n",
    "    11:(7.0,'call'),\n",
    "    12:(7.5,'call'),\n",
    "    13:(8.0,'call'),\n",
    "}"
   ]
  },
  {
   "cell_type": "code",
   "execution_count": 4,
   "metadata": {},
   "outputs": [],
   "source": [
    "scenario = pd.read_csv('104/Scenario'+ str(SCENARIO_NUMBER) +'.csv')\n",
    "prices = pd.read_csv('104/option_prices_scenario_'+ str(SCENARIO_NUMBER) + '.csv')\n",
    "prices_list = prices['Price [USD]'].to_list()\n",
    "scenario_list = scenario.to_dict(orient='list')"
   ]
  },
  {
   "cell_type": "code",
   "execution_count": 5,
   "metadata": {},
   "outputs": [],
   "source": [
    "def get_vectors_closer(vec1, vec2):\n",
    "  sum = np.add(vec1, vec2)\n",
    "  sum = sum * 0.5\n",
    "  return sum\n",
    "  \n",
    "def closer_one_step(vec1, vec2):\n",
    "  vec = get_vectors_closer(vec1, vec2)\n",
    "  return get_vectors_closer(vec1, vec)\n",
    "\n",
    "def closer_sbs(vec1, vec2, n):\n",
    "  vec = closer_one_step(vec1, vec2)\n",
    "  for i in range(n-1):\n",
    "    vec = closer_one_step(vec1, vec)\n",
    "  return vec"
   ]
  },
  {
   "cell_type": "code",
   "execution_count": 6,
   "metadata": {},
   "outputs": [],
   "source": [
    "def calculate_profit(strike, market_price, typ):\n",
    "    if typ == 'call':\n",
    "        return max(100 * (market_price - strike), 0.0)\n",
    "    return max(100 * (strike - market_price), 0.0)"
   ]
  },
  {
   "cell_type": "code",
   "execution_count": 7,
   "metadata": {},
   "outputs": [],
   "source": [
    "def profit(option_prices, yi, market_price, strategy):\n",
    "    res = yi * market_price * 1000\n",
    "    before_options = res\n",
    "    for i in range(14):\n",
    "        strike, typ = options[i]\n",
    "        res += strategy[i] * calculate_profit(strike, market_price, typ)\n",
    "        res -= option_prices[i] * strategy[i]\n",
    "    return res"
   ]
  },
  {
   "cell_type": "markdown",
   "metadata": {},
   "source": [
    "### Saska es Huni"
   ]
  },
  {
   "cell_type": "code",
   "execution_count": 43,
   "metadata": {},
   "outputs": [
    {
     "name": "stderr",
     "output_type": "stream",
     "text": [
      "  0%|                                                                                       | 0/100000 [00:00<?, ?it/s]C:\\Users\\peter\\AppData\\Local\\Temp\\ipykernel_26288\\1578977321.py:8: DeprecationWarning: elementwise comparison failed; this will raise an error in the future.\n",
      "  if (best_strat != []):\n",
      "  1%|▍                                                                            | 578/100000 [00:06<17:57, 92.28it/s]"
     ]
    },
    {
     "name": "stdout",
     "output_type": "stream",
     "text": [
      "1325019.1199\n",
      "1400320.9688999997\n",
      "New best strategy at iteration  561  :  [600. 498. 500. 517. 554. 347. 264.   0.   0.   0.   0.   0.   0.   0.] Expected Profit: 1558547.1996\n"
     ]
    },
    {
     "name": "stderr",
     "output_type": "stream",
     "text": [
      "  4%|██▋                                                                         | 3612/100000 [00:38<16:56, 94.79it/s]"
     ]
    },
    {
     "name": "stdout",
     "output_type": "stream",
     "text": [
      "1325127.7754999998\n",
      "1400266.6839999997\n",
      "New best strategy at iteration  3595  :  [583. 525. 476. 502. 571. 332. 273.   0.   0.   0.   0.   0.   0.   0.] Expected Profit: 1558603.1084999999\n"
     ]
    },
    {
     "name": "stderr",
     "output_type": "stream",
     "text": [
      "  8%|██████▎                                                                     | 8225/100000 [01:29<16:24, 93.18it/s]"
     ]
    },
    {
     "name": "stdout",
     "output_type": "stream",
     "text": [
      "1325215.2566000002\n",
      "1400018.7896000003\n",
      "New best strategy at iteration  8207  :  [549. 521. 521. 510. 554. 346. 258.   0.   0.   0.   0.   0.   0.   0.] Expected Profit: 1558642.6753000002\n"
     ]
    },
    {
     "name": "stderr",
     "output_type": "stream",
     "text": [
      "  9%|██████▋                                                                     | 8743/100000 [01:35<16:49, 90.43it/s]"
     ]
    },
    {
     "name": "stdout",
     "output_type": "stream",
     "text": [
      "1325621.9612000003\n",
      "1400147.3742000002\n",
      "New best strategy at iteration  8729  :  [535. 507. 512. 538. 561. 336. 254.   0.   0.   0.   0.   0.   0.   0.] Expected Profit: 1558693.2204000002\n"
     ]
    },
    {
     "name": "stderr",
     "output_type": "stream",
     "text": [
      " 15%|███████████                                                                | 14699/100000 [02:41<15:36, 91.11it/s]\n"
     ]
    },
    {
     "ename": "KeyboardInterrupt",
     "evalue": "",
     "output_type": "error",
     "traceback": [
      "\u001b[1;31m---------------------------------------------------------------------------\u001b[0m",
      "\u001b[1;31mKeyboardInterrupt\u001b[0m                         Traceback (most recent call last)",
      "Cell \u001b[1;32mIn[43], line 13\u001b[0m\n\u001b[0;32m     11\u001b[0m     curr_profits \u001b[38;5;241m=\u001b[39m []\n\u001b[0;32m     12\u001b[0m     \u001b[38;5;28;01mfor\u001b[39;00m j \u001b[38;5;129;01min\u001b[39;00m \u001b[38;5;28mrange\u001b[39m(\u001b[38;5;241m1000\u001b[39m):\n\u001b[1;32m---> 13\u001b[0m         curr_strat_profit \u001b[38;5;241m=\u001b[39m \u001b[43mprofit\u001b[49m\u001b[43m(\u001b[49m\u001b[43mprices_list\u001b[49m\u001b[43m,\u001b[49m\u001b[43m \u001b[49m\u001b[43mscenario_list\u001b[49m\u001b[43m[\u001b[49m\u001b[38;5;124;43m'\u001b[39;49m\u001b[38;5;124;43myield [thousands of bushels]\u001b[39;49m\u001b[38;5;124;43m'\u001b[39;49m\u001b[43m]\u001b[49m\u001b[43m[\u001b[49m\u001b[43mj\u001b[49m\u001b[43m]\u001b[49m\u001b[43m,\u001b[49m\u001b[43m \u001b[49m\u001b[43mscenario_list\u001b[49m\u001b[43m[\u001b[49m\u001b[38;5;124;43m'\u001b[39;49m\u001b[38;5;124;43mprice [$/bushel]\u001b[39;49m\u001b[38;5;124;43m'\u001b[39;49m\u001b[43m]\u001b[49m\u001b[43m[\u001b[49m\u001b[43mj\u001b[49m\u001b[43m]\u001b[49m\u001b[43m,\u001b[49m\u001b[43m \u001b[49m\u001b[43mstrat\u001b[49m\u001b[43m)\u001b[49m\n\u001b[0;32m     14\u001b[0m \u001b[38;5;66;03m#         print(curr_strat_profit)\u001b[39;00m\n\u001b[0;32m     15\u001b[0m \u001b[38;5;66;03m#         print(sc1_list['yield [thousands of bushels]'][j])\u001b[39;00m\n\u001b[0;32m     16\u001b[0m \u001b[38;5;66;03m#         print(sc1_list['price [$/bushel]'][j])\u001b[39;00m\n\u001b[0;32m     17\u001b[0m         curr_profits\u001b[38;5;241m.\u001b[39mappend(curr_strat_profit)\n",
      "Cell \u001b[1;32mIn[41], line 5\u001b[0m, in \u001b[0;36mprofit\u001b[1;34m(option_prices, yi, market_price, strategy)\u001b[0m\n\u001b[0;32m      3\u001b[0m before_options \u001b[38;5;241m=\u001b[39m res\n\u001b[0;32m      4\u001b[0m \u001b[38;5;28;01mfor\u001b[39;00m i \u001b[38;5;129;01min\u001b[39;00m \u001b[38;5;28mrange\u001b[39m(\u001b[38;5;241m14\u001b[39m):\n\u001b[1;32m----> 5\u001b[0m     strike, typ \u001b[38;5;241m=\u001b[39m options[i]\n\u001b[0;32m      6\u001b[0m     res \u001b[38;5;241m+\u001b[39m\u001b[38;5;241m=\u001b[39m strategy[i] \u001b[38;5;241m*\u001b[39m calculate_profit(strike, market_price, typ)\n\u001b[0;32m      7\u001b[0m     res \u001b[38;5;241m-\u001b[39m\u001b[38;5;241m=\u001b[39m option_prices[i] \u001b[38;5;241m*\u001b[39m strategy[i]\n",
      "\u001b[1;31mKeyboardInterrupt\u001b[0m: "
     ]
    }
   ],
   "source": [
    "number_of_random_strategies = 100000\n",
    "best_quantile_10 = 0\n",
    "for i in tqdm(range(number_of_random_strategies)):\n",
    "#     strat = np.random.randint(100, size=14)\n",
    "    strat = np.hstack((np.random.randint(2000, size=7), np.zeros(7)))\n",
    "    if (best_strat != []):\n",
    "      strat = np.round(closer_sbs(best_strat, strat, 2))\n",
    "#     strat = [1000, 1000, 1000, 100, 1000, 100, 0, 0, 0, 0, 0, 0, 0, 0]\n",
    "    curr_profits = []\n",
    "    for j in range(1000):\n",
    "        curr_strat_profit = profit(prices_list, scenario_list['yield [thousands of bushels]'][j], scenario_list['price [$/bushel]'][j], strat)\n",
    "#         print(curr_strat_profit)\n",
    "#         print(sc1_list['yield [thousands of bushels]'][j])\n",
    "#         print(sc1_list['price [$/bushel]'][j])\n",
    "        curr_profits.append(curr_strat_profit)\n",
    "    curr_expectet_profit = np.mean(curr_profits)\n",
    "    quantile_10 = np.quantile(curr_profits, 0.1)\n",
    "    quantile_25 = np.quantile(curr_profits, 0.25)\n",
    "    if curr_expectet_profit > best_profit and quantile_10 > min_quantile_10 and quantile_25 > min_quantile_25:\n",
    "        best_profit = curr_expectet_profit\n",
    "        best_strat = strat\n",
    "        print(quantile_10)\n",
    "        print(quantile_25)\n",
    "        print('New best strategy at iteration ',i,' : ', strat, 'Expected Profit:', curr_expectet_profit)"
   ]
  },
  {
   "cell_type": "markdown",
   "metadata": {},
   "source": [
    "### Akos"
   ]
  },
  {
   "cell_type": "code",
   "execution_count": 32,
   "metadata": {},
   "outputs": [],
   "source": [
    "def get_expected_value_of_strategy(strategy, market_prices, yields, option_prices, return_quantiles=False):\n",
    "    profits = []\n",
    "    for i in range(1000):\n",
    "        curr_profit = profit(option_prices, yields[i], market_prices[i], strategy)\n",
    "        profits.append(curr_profit)\n",
    "    expected_profit = np.mean(profits)\n",
    "    quantile_10 = np.quantile(profits, 0.1)\n",
    "    quantile_25 = np.quantile(profits, 0.25)\n",
    "#     print(quantile_10)\n",
    "#     print(quantile_25)\n",
    "    if return_quantiles:\n",
    "        return quantile_10,quantile_25\n",
    "    if quantile_10 > min_quantile_10 and quantile_25 > min_quantile_25:\n",
    "        return expected_profit\n",
    "    return 0"
   ]
  },
  {
   "cell_type": "code",
   "execution_count": 9,
   "metadata": {},
   "outputs": [],
   "source": [
    "def get_similar_strategies(strat):\n",
    "    ret = []\n",
    "    for i in range(14):\n",
    "        temp1 = copy.deepcopy(strat)\n",
    "        temp2 = copy.deepcopy(strat)\n",
    "        temp1[i] = strat[i] +1\n",
    "        temp2[i] -= 1\n",
    "        if np.min(temp1) >= 0:\n",
    "            ret.append(temp1)\n",
    "        if np.min(temp2) >= 0:\n",
    "            ret.append(temp2)\n",
    "    return ret"
   ]
  },
  {
   "cell_type": "code",
   "execution_count": 36,
   "metadata": {},
   "outputs": [
    {
     "name": "stderr",
     "output_type": "stream",
     "text": [
      "  0%|                                                                          | 99/1000000 [00:20<57:15:43,  4.85it/s]"
     ]
    },
    {
     "name": "stdout",
     "output_type": "stream",
     "text": [
      "New best strategy at iteration  99  :  [ 148.  388.  539. 1090.  268.  256.  552.    0.    0.    0.    0.    0.\n",
      "    0.    0.] Expected Profit: 1542348.70507\n",
      "New best strategy at iteration  99  :  [ 146.  388.  539. 1090.  268.  256.  552.    0.    0.    0.    0.    0.\n",
      "    0.    0.] Expected Profit: 1542354.5536699996\n",
      "New best strategy at iteration  99  :  [ 147.  387.  539. 1090.  268.  256.  552.    0.    0.    0.    0.    0.\n",
      "    0.    0.] Expected Profit: 1542356.02967\n",
      "New best strategy at iteration  99  :  [ 147.  388.  538. 1090.  268.  256.  552.    0.    0.    0.    0.    0.\n",
      "    0.    0.] Expected Profit: 1542357.94867\n",
      "New best strategy at iteration  99  :  [ 147.  388.  539. 1089.  268.  256.  552.    0.    0.    0.    0.    0.\n",
      "    0.    0.] Expected Profit: 1542360.34717\n",
      "New best strategy at iteration  99  :  [ 147.  388.  539. 1090.  267.  256.  552.    0.    0.    0.    0.    0.\n",
      "    0.    0.] Expected Profit: 1542363.1608699998\n",
      "New best strategy at iteration  99  :  [ 147.  388.  539. 1090.  268.  255.  552.    0.    0.    0.    0.    0.\n",
      "    0.    0.] Expected Profit: 1542366.39717\n",
      "New best strategy at iteration  99  :  [ 147.  388.  539. 1090.  268.  256.  551.    0.    0.    0.    0.    0.\n",
      "    0.    0.] Expected Profit: 1542370.0520700002\n"
     ]
    },
    {
     "name": "stderr",
     "output_type": "stream",
     "text": [
      "\r",
      "  0%|                                                                         | 100/1000000 [00:20<57:31:54,  4.83it/s]"
     ]
    },
    {
     "name": "stdout",
     "output_type": "stream",
     "text": [
      "New best strategy at iteration  100  :  [ 146.  388.  539. 1090.  268.  256.  551.    0.    0.    0.    0.    0.\n",
      "    0.    0.] Expected Profit: 1542372.9763699998\n",
      "New best strategy at iteration  100  :  [ 147.  387.  539. 1090.  268.  256.  551.    0.    0.    0.    0.    0.\n",
      "    0.    0.] Expected Profit: 1542374.4523699998\n",
      "New best strategy at iteration  100  :  [ 147.  388.  538. 1090.  268.  256.  551.    0.    0.    0.    0.    0.\n",
      "    0.    0.] Expected Profit: 1542376.3713699998\n",
      "New best strategy at iteration  100  :  [ 147.  388.  539. 1089.  268.  256.  551.    0.    0.    0.    0.    0.\n",
      "    0.    0.] Expected Profit: 1542378.76987\n",
      "New best strategy at iteration  100  :  [ 147.  388.  539. 1090.  267.  256.  551.    0.    0.    0.    0.    0.\n",
      "    0.    0.] Expected Profit: 1542381.5835700002\n",
      "New best strategy at iteration  100  :  [ 147.  388.  539. 1090.  268.  255.  551.    0.    0.    0.    0.    0.\n",
      "    0.    0.] Expected Profit: 1542384.8198699998\n",
      "New best strategy at iteration  100  :  [ 147.  388.  539. 1090.  268.  256.  550.    0.    0.    0.    0.    0.\n",
      "    0.    0.] Expected Profit: 1542388.47477\n"
     ]
    },
    {
     "name": "stderr",
     "output_type": "stream",
     "text": [
      "  0%|                                                                         | 102/1000000 [00:21<57:36:58,  4.82it/s]"
     ]
    },
    {
     "name": "stdout",
     "output_type": "stream",
     "text": [
      "New best strategy at iteration  101  :  [ 146.  388.  539. 1090.  268.  256.  550.    0.    0.    0.    0.    0.\n",
      "    0.    0.] Expected Profit: 1542391.3990699998\n",
      "New best strategy at iteration  101  :  [ 147.  387.  539. 1090.  268.  256.  550.    0.    0.    0.    0.    0.\n",
      "    0.    0.] Expected Profit: 1542392.8750699998\n",
      "New best strategy at iteration  101  :  [ 147.  388.  538. 1090.  268.  256.  550.    0.    0.    0.    0.    0.\n",
      "    0.    0.] Expected Profit: 1542394.7940699998\n",
      "New best strategy at iteration  101  :  [ 147.  388.  539. 1089.  268.  256.  550.    0.    0.    0.    0.    0.\n",
      "    0.    0.] Expected Profit: 1542397.1925699997\n",
      "New best strategy at iteration  101  :  [ 147.  388.  539. 1090.  267.  256.  550.    0.    0.    0.    0.    0.\n",
      "    0.    0.] Expected Profit: 1542400.00627\n",
      "New best strategy at iteration  101  :  [ 147.  388.  539. 1090.  268.  255.  550.    0.    0.    0.    0.    0.\n",
      "    0.    0.] Expected Profit: 1542403.2425699998\n",
      "New best strategy at iteration  101  :  [ 147.  388.  539. 1090.  268.  256.  549.    0.    0.    0.    0.    0.\n",
      "    0.    0.] Expected Profit: 1542406.89747\n",
      "New best strategy at iteration  102  :  [ 146.  388.  539. 1090.  268.  256.  549.    0.    0.    0.    0.    0.\n",
      "    0.    0.] Expected Profit: 1542409.8217699998\n",
      "New best strategy at iteration  102  :  [ 147.  387.  539. 1090.  268.  256.  549.    0.    0.    0.    0.    0.\n",
      "    0.    0.] Expected Profit: 1542411.29777\n",
      "New best strategy at iteration  102  :  [ 147.  388.  538. 1090.  268.  256.  549.    0.    0.    0.    0.    0.\n",
      "    0.    0.] Expected Profit: 1542413.21677\n",
      "New best strategy at iteration  102  :  [ 147.  388.  539. 1089.  268.  256.  549.    0.    0.    0.    0.    0.\n",
      "    0.    0.] Expected Profit: 1542415.61527\n",
      "New best strategy at iteration  102  :  [ 147.  388.  539. 1090.  267.  256.  549.    0.    0.    0.    0.    0.\n",
      "    0.    0.] Expected Profit: 1542418.4289699998\n",
      "New best strategy at iteration  102  :  [ 147.  388.  539. 1090.  268.  255.  549.    0.    0.    0.    0.    0.\n",
      "    0.    0.] Expected Profit: 1542421.66527\n",
      "New best strategy at iteration  102  :  [ 147.  388.  539. 1090.  268.  256.  548.    0.    0.    0.    0.    0.\n",
      "    0.    0.] Expected Profit: 1542425.3201699997\n"
     ]
    },
    {
     "name": "stderr",
     "output_type": "stream",
     "text": [
      "  0%|                                                                         | 104/1000000 [00:21<57:36:37,  4.82it/s]"
     ]
    },
    {
     "name": "stdout",
     "output_type": "stream",
     "text": [
      "New best strategy at iteration  103  :  [ 146.  388.  539. 1090.  268.  256.  548.    0.    0.    0.    0.    0.\n",
      "    0.    0.] Expected Profit: 1542428.2444699998\n",
      "New best strategy at iteration  103  :  [ 147.  387.  539. 1090.  268.  256.  548.    0.    0.    0.    0.    0.\n",
      "    0.    0.] Expected Profit: 1542429.7204699998\n",
      "New best strategy at iteration  103  :  [ 147.  388.  538. 1090.  268.  256.  548.    0.    0.    0.    0.    0.\n",
      "    0.    0.] Expected Profit: 1542431.63947\n",
      "New best strategy at iteration  103  :  [ 147.  388.  539. 1089.  268.  256.  548.    0.    0.    0.    0.    0.\n",
      "    0.    0.] Expected Profit: 1542434.0379699997\n",
      "New best strategy at iteration  103  :  [ 147.  388.  539. 1090.  267.  256.  548.    0.    0.    0.    0.    0.\n",
      "    0.    0.] Expected Profit: 1542436.85167\n",
      "New best strategy at iteration  103  :  [ 147.  388.  539. 1090.  268.  255.  548.    0.    0.    0.    0.    0.\n",
      "    0.    0.] Expected Profit: 1542440.08797\n",
      "New best strategy at iteration  103  :  [ 147.  388.  539. 1090.  268.  256.  547.    0.    0.    0.    0.    0.\n",
      "    0.    0.] Expected Profit: 1542443.7428700002\n",
      "New best strategy at iteration  104  :  [ 146.  388.  539. 1090.  268.  256.  547.    0.    0.    0.    0.    0.\n",
      "    0.    0.] Expected Profit: 1542446.6671699998\n"
     ]
    },
    {
     "name": "stderr",
     "output_type": "stream",
     "text": [
      "\r",
      "  0%|                                                                         | 105/1000000 [00:22<57:42:59,  4.81it/s]"
     ]
    },
    {
     "name": "stdout",
     "output_type": "stream",
     "text": [
      "New best strategy at iteration  104  :  [ 147.  387.  539. 1090.  268.  256.  547.    0.    0.    0.    0.    0.\n",
      "    0.    0.] Expected Profit: 1542448.14317\n",
      "New best strategy at iteration  104  :  [ 147.  388.  538. 1090.  268.  256.  547.    0.    0.    0.    0.    0.\n",
      "    0.    0.] Expected Profit: 1542450.06217\n",
      "New best strategy at iteration  104  :  [ 147.  388.  539. 1089.  268.  256.  547.    0.    0.    0.    0.    0.\n",
      "    0.    0.] Expected Profit: 1542452.4606700002\n",
      "New best strategy at iteration  104  :  [ 147.  388.  539. 1090.  267.  256.  547.    0.    0.    0.    0.    0.\n",
      "    0.    0.] Expected Profit: 1542455.2743700002\n",
      "New best strategy at iteration  104  :  [ 147.  388.  539. 1090.  268.  255.  547.    0.    0.    0.    0.    0.\n",
      "    0.    0.] Expected Profit: 1542458.51067\n",
      "New best strategy at iteration  104  :  [ 147.  388.  539. 1090.  268.  256.  546.    0.    0.    0.    0.    0.\n",
      "    0.    0.] Expected Profit: 1542462.16557\n"
     ]
    },
    {
     "name": "stderr",
     "output_type": "stream",
     "text": [
      "\r",
      "  0%|                                                                         | 106/1000000 [00:22<57:49:10,  4.80it/s]"
     ]
    },
    {
     "name": "stdout",
     "output_type": "stream",
     "text": [
      "New best strategy at iteration  105  :  [ 146.  388.  539. 1090.  268.  256.  546.    0.    0.    0.    0.    0.\n",
      "    0.    0.] Expected Profit: 1542465.0898699998\n",
      "New best strategy at iteration  105  :  [ 147.  387.  539. 1090.  268.  256.  546.    0.    0.    0.    0.    0.\n",
      "    0.    0.] Expected Profit: 1542466.5658699998\n",
      "New best strategy at iteration  105  :  [ 147.  388.  538. 1090.  268.  256.  546.    0.    0.    0.    0.    0.\n",
      "    0.    0.] Expected Profit: 1542468.4848699998\n",
      "New best strategy at iteration  105  :  [ 147.  388.  539. 1089.  268.  256.  546.    0.    0.    0.    0.    0.\n",
      "    0.    0.] Expected Profit: 1542470.88337\n",
      "New best strategy at iteration  105  :  [ 147.  388.  539. 1090.  267.  256.  546.    0.    0.    0.    0.    0.\n",
      "    0.    0.] Expected Profit: 1542473.69707\n",
      "New best strategy at iteration  105  :  [ 147.  388.  539. 1090.  268.  255.  546.    0.    0.    0.    0.    0.\n",
      "    0.    0.] Expected Profit: 1542476.93337\n",
      "New best strategy at iteration  105  :  [ 147.  388.  539. 1090.  268.  256.  545.    0.    0.    0.    0.    0.\n",
      "    0.    0.] Expected Profit: 1542480.58827\n"
     ]
    },
    {
     "name": "stderr",
     "output_type": "stream",
     "text": [
      "\r",
      "  0%|                                                                         | 107/1000000 [00:22<57:47:58,  4.81it/s]"
     ]
    },
    {
     "name": "stdout",
     "output_type": "stream",
     "text": [
      "New best strategy at iteration  106  :  [ 146.  388.  539. 1090.  268.  256.  545.    0.    0.    0.    0.    0.\n",
      "    0.    0.] Expected Profit: 1542483.5125699998\n",
      "New best strategy at iteration  106  :  [ 147.  387.  539. 1090.  268.  256.  545.    0.    0.    0.    0.    0.\n",
      "    0.    0.] Expected Profit: 1542484.98857\n",
      "New best strategy at iteration  106  :  [ 147.  388.  538. 1090.  268.  256.  545.    0.    0.    0.    0.    0.\n",
      "    0.    0.] Expected Profit: 1542486.9075700003\n",
      "New best strategy at iteration  106  :  [ 147.  388.  539. 1089.  268.  256.  545.    0.    0.    0.    0.    0.\n",
      "    0.    0.] Expected Profit: 1542489.3060699997\n",
      "New best strategy at iteration  106  :  [ 147.  388.  539. 1090.  267.  256.  545.    0.    0.    0.    0.    0.\n",
      "    0.    0.] Expected Profit: 1542492.11977\n",
      "New best strategy at iteration  106  :  [ 147.  388.  539. 1090.  268.  255.  545.    0.    0.    0.    0.    0.\n",
      "    0.    0.] Expected Profit: 1542495.35607\n",
      "New best strategy at iteration  106  :  [ 147.  388.  539. 1090.  268.  256.  544.    0.    0.    0.    0.    0.\n",
      "    0.    0.] Expected Profit: 1542499.0109699997\n"
     ]
    },
    {
     "name": "stderr",
     "output_type": "stream",
     "text": [
      "\r",
      "  0%|                                                                         | 108/1000000 [00:22<58:43:19,  4.73it/s]"
     ]
    },
    {
     "name": "stdout",
     "output_type": "stream",
     "text": [
      "New best strategy at iteration  107  :  [ 146.  388.  539. 1090.  268.  256.  544.    0.    0.    0.    0.    0.\n",
      "    0.    0.] Expected Profit: 1542501.9352699998\n",
      "New best strategy at iteration  107  :  [ 147.  387.  539. 1090.  268.  256.  544.    0.    0.    0.    0.    0.\n",
      "    0.    0.] Expected Profit: 1542503.41127\n",
      "New best strategy at iteration  107  :  [ 147.  388.  538. 1090.  268.  256.  544.    0.    0.    0.    0.    0.\n",
      "    0.    0.] Expected Profit: 1542505.33027\n",
      "New best strategy at iteration  107  :  [ 147.  388.  539. 1089.  268.  256.  544.    0.    0.    0.    0.    0.\n",
      "    0.    0.] Expected Profit: 1542507.72877\n",
      "New best strategy at iteration  107  :  [ 147.  388.  539. 1090.  267.  256.  544.    0.    0.    0.    0.    0.\n",
      "    0.    0.] Expected Profit: 1542510.5424699998\n",
      "New best strategy at iteration  107  :  [ 147.  388.  539. 1090.  268.  255.  544.    0.    0.    0.    0.    0.\n",
      "    0.    0.] Expected Profit: 1542513.77877\n",
      "New best strategy at iteration  107  :  [ 147.  388.  539. 1090.  268.  256.  543.    0.    0.    0.    0.    0.\n",
      "    0.    0.] Expected Profit: 1542517.43367\n"
     ]
    },
    {
     "name": "stderr",
     "output_type": "stream",
     "text": [
      "\r",
      "  0%|                                                                         | 109/1000000 [00:22<58:21:13,  4.76it/s]"
     ]
    },
    {
     "name": "stdout",
     "output_type": "stream",
     "text": [
      "New best strategy at iteration  108  :  [ 146.  388.  539. 1090.  268.  256.  543.    0.    0.    0.    0.    0.\n",
      "    0.    0.] Expected Profit: 1542520.35797\n",
      "New best strategy at iteration  108  :  [ 147.  387.  539. 1090.  268.  256.  543.    0.    0.    0.    0.    0.\n",
      "    0.    0.] Expected Profit: 1542521.83397\n",
      "New best strategy at iteration  108  :  [ 147.  388.  538. 1090.  268.  256.  543.    0.    0.    0.    0.    0.\n",
      "    0.    0.] Expected Profit: 1542523.75297\n",
      "New best strategy at iteration  108  :  [ 147.  388.  539. 1089.  268.  256.  543.    0.    0.    0.    0.    0.\n",
      "    0.    0.] Expected Profit: 1542526.1514699997\n",
      "New best strategy at iteration  108  :  [ 147.  388.  539. 1090.  267.  256.  543.    0.    0.    0.    0.    0.\n",
      "    0.    0.] Expected Profit: 1542528.96517\n",
      "New best strategy at iteration  108  :  [ 147.  388.  539. 1090.  268.  255.  543.    0.    0.    0.    0.    0.\n",
      "    0.    0.] Expected Profit: 1542532.2014700002\n",
      "New best strategy at iteration  108  :  [ 147.  388.  539. 1090.  268.  256.  542.    0.    0.    0.    0.    0.\n",
      "    0.    0.] Expected Profit: 1542535.85637\n"
     ]
    },
    {
     "name": "stderr",
     "output_type": "stream",
     "text": [
      "\r",
      "  0%|                                                                         | 110/1000000 [00:23<58:10:43,  4.77it/s]"
     ]
    },
    {
     "name": "stdout",
     "output_type": "stream",
     "text": [
      "New best strategy at iteration  109  :  [ 146.  388.  539. 1090.  268.  256.  542.    0.    0.    0.    0.    0.\n",
      "    0.    0.] Expected Profit: 1542538.7806699998\n",
      "New best strategy at iteration  109  :  [ 147.  387.  539. 1090.  268.  256.  542.    0.    0.    0.    0.    0.\n",
      "    0.    0.] Expected Profit: 1542540.25667\n",
      "New best strategy at iteration  109  :  [ 147.  388.  538. 1090.  268.  256.  542.    0.    0.    0.    0.    0.\n",
      "    0.    0.] Expected Profit: 1542542.17567\n",
      "New best strategy at iteration  109  :  [ 147.  388.  539. 1089.  268.  256.  542.    0.    0.    0.    0.    0.\n",
      "    0.    0.] Expected Profit: 1542544.5741699997\n",
      "New best strategy at iteration  109  :  [ 147.  388.  539. 1090.  267.  256.  542.    0.    0.    0.    0.    0.\n",
      "    0.    0.] Expected Profit: 1542547.38787\n",
      "New best strategy at iteration  109  :  [ 147.  388.  539. 1090.  268.  255.  542.    0.    0.    0.    0.    0.\n",
      "    0.    0.] Expected Profit: 1542550.6241699997\n",
      "New best strategy at iteration  109  :  [ 147.  388.  539. 1090.  268.  256.  541.    0.    0.    0.    0.    0.\n",
      "    0.    0.] Expected Profit: 1542554.27907\n"
     ]
    },
    {
     "name": "stderr",
     "output_type": "stream",
     "text": [
      "\r",
      "  0%|                                                                         | 111/1000000 [00:23<57:57:21,  4.79it/s]"
     ]
    },
    {
     "name": "stdout",
     "output_type": "stream",
     "text": [
      "New best strategy at iteration  110  :  [ 146.  388.  539. 1090.  268.  256.  541.    0.    0.    0.    0.    0.\n",
      "    0.    0.] Expected Profit: 1542557.2033699998\n",
      "New best strategy at iteration  110  :  [ 147.  387.  539. 1090.  268.  256.  541.    0.    0.    0.    0.    0.\n",
      "    0.    0.] Expected Profit: 1542558.6793699998\n",
      "New best strategy at iteration  110  :  [ 147.  388.  538. 1090.  268.  256.  541.    0.    0.    0.    0.    0.\n",
      "    0.    0.] Expected Profit: 1542560.59837\n",
      "New best strategy at iteration  110  :  [ 147.  388.  539. 1089.  268.  256.  541.    0.    0.    0.    0.    0.\n",
      "    0.    0.] Expected Profit: 1542562.99687\n",
      "New best strategy at iteration  110  :  [ 147.  388.  539. 1090.  267.  256.  541.    0.    0.    0.    0.    0.\n",
      "    0.    0.] Expected Profit: 1542565.8105699997\n",
      "New best strategy at iteration  110  :  [ 147.  388.  539. 1090.  268.  255.  541.    0.    0.    0.    0.    0.\n",
      "    0.    0.] Expected Profit: 1542569.04687\n",
      "New best strategy at iteration  110  :  [ 147.  388.  539. 1090.  268.  256.  540.    0.    0.    0.    0.    0.\n",
      "    0.    0.] Expected Profit: 1542572.70177\n"
     ]
    },
    {
     "name": "stderr",
     "output_type": "stream",
     "text": [
      "\r",
      "  0%|                                                                         | 112/1000000 [00:23<57:57:22,  4.79it/s]"
     ]
    },
    {
     "name": "stdout",
     "output_type": "stream",
     "text": [
      "New best strategy at iteration  111  :  [ 146.  388.  539. 1090.  268.  256.  540.    0.    0.    0.    0.    0.\n",
      "    0.    0.] Expected Profit: 1542575.6260699998\n",
      "New best strategy at iteration  111  :  [ 147.  387.  539. 1090.  268.  256.  540.    0.    0.    0.    0.    0.\n",
      "    0.    0.] Expected Profit: 1542577.10207\n",
      "New best strategy at iteration  111  :  [ 147.  388.  538. 1090.  268.  256.  540.    0.    0.    0.    0.    0.\n",
      "    0.    0.] Expected Profit: 1542579.0210700002\n",
      "New best strategy at iteration  111  :  [ 147.  388.  539. 1089.  268.  256.  540.    0.    0.    0.    0.    0.\n",
      "    0.    0.] Expected Profit: 1542581.41957\n",
      "New best strategy at iteration  111  :  [ 147.  388.  539. 1090.  267.  256.  540.    0.    0.    0.    0.    0.\n",
      "    0.    0.] Expected Profit: 1542584.23327\n",
      "New best strategy at iteration  111  :  [ 147.  388.  539. 1090.  268.  255.  540.    0.    0.    0.    0.    0.\n",
      "    0.    0.] Expected Profit: 1542587.46957\n",
      "New best strategy at iteration  111  :  [ 147.  388.  539. 1090.  268.  256.  539.    0.    0.    0.    0.    0.\n",
      "    0.    0.] Expected Profit: 1542591.12447\n"
     ]
    },
    {
     "name": "stderr",
     "output_type": "stream",
     "text": [
      "\r",
      "  0%|                                                                         | 113/1000000 [00:23<57:53:58,  4.80it/s]"
     ]
    },
    {
     "name": "stdout",
     "output_type": "stream",
     "text": [
      "New best strategy at iteration  112  :  [ 146.  388.  539. 1090.  268.  256.  539.    0.    0.    0.    0.    0.\n",
      "    0.    0.] Expected Profit: 1542594.04877\n",
      "New best strategy at iteration  112  :  [ 147.  387.  539. 1090.  268.  256.  539.    0.    0.    0.    0.    0.\n",
      "    0.    0.] Expected Profit: 1542595.52477\n",
      "New best strategy at iteration  112  :  [ 147.  388.  538. 1090.  268.  256.  539.    0.    0.    0.    0.    0.\n",
      "    0.    0.] Expected Profit: 1542597.44377\n",
      "New best strategy at iteration  112  :  [ 147.  388.  539. 1089.  268.  256.  539.    0.    0.    0.    0.    0.\n",
      "    0.    0.] Expected Profit: 1542599.84227\n",
      "New best strategy at iteration  112  :  [ 147.  388.  539. 1090.  267.  256.  539.    0.    0.    0.    0.    0.\n",
      "    0.    0.] Expected Profit: 1542602.6559700002\n",
      "New best strategy at iteration  112  :  [ 147.  388.  539. 1090.  268.  255.  539.    0.    0.    0.    0.    0.\n",
      "    0.    0.] Expected Profit: 1542605.89227\n",
      "New best strategy at iteration  112  :  [ 147.  388.  539. 1090.  268.  256.  538.    0.    0.    0.    0.    0.\n",
      "    0.    0.] Expected Profit: 1542609.54717\n"
     ]
    },
    {
     "name": "stderr",
     "output_type": "stream",
     "text": [
      "\r",
      "  0%|                                                                         | 114/1000000 [00:23<57:54:20,  4.80it/s]"
     ]
    },
    {
     "name": "stdout",
     "output_type": "stream",
     "text": [
      "New best strategy at iteration  113  :  [ 146.  388.  539. 1090.  268.  256.  538.    0.    0.    0.    0.    0.\n",
      "    0.    0.] Expected Profit: 1542612.4714699998\n",
      "New best strategy at iteration  113  :  [ 147.  387.  539. 1090.  268.  256.  538.    0.    0.    0.    0.    0.\n",
      "    0.    0.] Expected Profit: 1542613.9474699998\n",
      "New best strategy at iteration  113  :  [ 147.  388.  538. 1090.  268.  256.  538.    0.    0.    0.    0.    0.\n",
      "    0.    0.] Expected Profit: 1542615.86647\n",
      "New best strategy at iteration  113  :  [ 147.  388.  539. 1089.  268.  256.  538.    0.    0.    0.    0.    0.\n",
      "    0.    0.] Expected Profit: 1542618.26497\n",
      "New best strategy at iteration  113  :  [ 147.  388.  539. 1090.  267.  256.  538.    0.    0.    0.    0.    0.\n",
      "    0.    0.] Expected Profit: 1542621.0786699997\n",
      "New best strategy at iteration  113  :  [ 147.  388.  539. 1090.  268.  255.  538.    0.    0.    0.    0.    0.\n",
      "    0.    0.] Expected Profit: 1542624.3149699997\n",
      "New best strategy at iteration  113  :  [ 147.  388.  539. 1090.  268.  256.  537.    0.    0.    0.    0.    0.\n",
      "    0.    0.] Expected Profit: 1542627.96987\n"
     ]
    },
    {
     "name": "stderr",
     "output_type": "stream",
     "text": [
      "\r",
      "  0%|                                                                         | 115/1000000 [00:24<58:03:51,  4.78it/s]"
     ]
    },
    {
     "name": "stdout",
     "output_type": "stream",
     "text": [
      "New best strategy at iteration  114  :  [ 146.  388.  539. 1090.  268.  256.  537.    0.    0.    0.    0.    0.\n",
      "    0.    0.] Expected Profit: 1542630.89417\n",
      "New best strategy at iteration  114  :  [ 147.  387.  539. 1090.  268.  256.  537.    0.    0.    0.    0.    0.\n",
      "    0.    0.] Expected Profit: 1542632.3701699998\n",
      "New best strategy at iteration  114  :  [ 147.  388.  538. 1090.  268.  256.  537.    0.    0.    0.    0.    0.\n",
      "    0.    0.] Expected Profit: 1542634.28917\n",
      "New best strategy at iteration  114  :  [ 147.  388.  539. 1089.  268.  256.  537.    0.    0.    0.    0.    0.\n",
      "    0.    0.] Expected Profit: 1542636.68767\n",
      "New best strategy at iteration  114  :  [ 147.  388.  539. 1090.  267.  256.  537.    0.    0.    0.    0.    0.\n",
      "    0.    0.] Expected Profit: 1542639.50137\n",
      "New best strategy at iteration  114  :  [ 147.  388.  539. 1090.  268.  255.  537.    0.    0.    0.    0.    0.\n",
      "    0.    0.] Expected Profit: 1542642.7376700002\n",
      "New best strategy at iteration  114  :  [ 147.  388.  539. 1090.  268.  256.  536.    0.    0.    0.    0.    0.\n",
      "    0.    0.] Expected Profit: 1542646.39257\n",
      "New best strategy at iteration  115  :  [ 146.  388.  539. 1090.  268.  256.  536.    0.    0.    0.    0.    0.\n",
      "    0.    0.] Expected Profit: 1542649.31687\n"
     ]
    },
    {
     "name": "stderr",
     "output_type": "stream",
     "text": [
      "\r",
      "  0%|                                                                         | 116/1000000 [00:24<58:12:02,  4.77it/s]"
     ]
    },
    {
     "name": "stdout",
     "output_type": "stream",
     "text": [
      "New best strategy at iteration  115  :  [ 147.  387.  539. 1090.  268.  256.  536.    0.    0.    0.    0.    0.\n",
      "    0.    0.] Expected Profit: 1542650.7928699998\n",
      "New best strategy at iteration  115  :  [ 147.  388.  538. 1090.  268.  256.  536.    0.    0.    0.    0.    0.\n",
      "    0.    0.] Expected Profit: 1542652.71187\n",
      "New best strategy at iteration  115  :  [ 147.  388.  539. 1089.  268.  256.  536.    0.    0.    0.    0.    0.\n",
      "    0.    0.] Expected Profit: 1542655.11037\n",
      "New best strategy at iteration  115  :  [ 147.  388.  539. 1090.  267.  256.  536.    0.    0.    0.    0.    0.\n",
      "    0.    0.] Expected Profit: 1542657.92407\n",
      "New best strategy at iteration  115  :  [ 147.  388.  539. 1090.  268.  255.  536.    0.    0.    0.    0.    0.\n",
      "    0.    0.] Expected Profit: 1542661.16037\n",
      "New best strategy at iteration  115  :  [ 147.  388.  539. 1090.  268.  256.  535.    0.    0.    0.    0.    0.\n",
      "    0.    0.] Expected Profit: 1542664.81527\n",
      "New best strategy at iteration  116  :  [ 146.  388.  539. 1090.  268.  256.  535.    0.    0.    0.    0.    0.\n",
      "    0.    0.] Expected Profit: 1542667.73957\n",
      "New best strategy at iteration  116  :  [ 147.  387.  539. 1090.  268.  256.  535.    0.    0.    0.    0.    0.\n",
      "    0.    0.] Expected Profit: 1542669.2155700002\n"
     ]
    },
    {
     "name": "stderr",
     "output_type": "stream",
     "text": [
      "\r",
      "  0%|                                                                         | 117/1000000 [00:24<58:08:35,  4.78it/s]"
     ]
    },
    {
     "name": "stdout",
     "output_type": "stream",
     "text": [
      "New best strategy at iteration  116  :  [ 147.  388.  538. 1090.  268.  256.  535.    0.    0.    0.    0.    0.\n",
      "    0.    0.] Expected Profit: 1542671.13457\n",
      "New best strategy at iteration  116  :  [ 147.  388.  539. 1089.  268.  256.  535.    0.    0.    0.    0.    0.\n",
      "    0.    0.] Expected Profit: 1542673.53307\n",
      "New best strategy at iteration  116  :  [ 147.  388.  539. 1090.  267.  256.  535.    0.    0.    0.    0.    0.\n",
      "    0.    0.] Expected Profit: 1542676.34677\n",
      "New best strategy at iteration  116  :  [ 147.  388.  539. 1090.  268.  255.  535.    0.    0.    0.    0.    0.\n",
      "    0.    0.] Expected Profit: 1542679.5830700002\n",
      "New best strategy at iteration  116  :  [ 147.  388.  539. 1090.  268.  256.  534.    0.    0.    0.    0.    0.\n",
      "    0.    0.] Expected Profit: 1542683.23797\n",
      "New best strategy at iteration  117  :  [ 146.  388.  539. 1090.  268.  256.  534.    0.    0.    0.    0.    0.\n",
      "    0.    0.] Expected Profit: 1542686.1622699997\n",
      "New best strategy at iteration  117  :  [ 147.  387.  539. 1090.  268.  256.  534.    0.    0.    0.    0.    0.\n",
      "    0.    0.] Expected Profit: 1542687.63827\n",
      "New best strategy at iteration  117  :  [ 147.  388.  538. 1090.  268.  256.  534.    0.    0.    0.    0.    0.\n",
      "    0.    0.] Expected Profit: 1542689.55727\n"
     ]
    },
    {
     "name": "stderr",
     "output_type": "stream",
     "text": [
      "\r",
      "  0%|                                                                         | 118/1000000 [00:24<58:27:36,  4.75it/s]"
     ]
    },
    {
     "name": "stdout",
     "output_type": "stream",
     "text": [
      "New best strategy at iteration  117  :  [ 147.  388.  539. 1089.  268.  256.  534.    0.    0.    0.    0.    0.\n",
      "    0.    0.] Expected Profit: 1542691.9557699994\n",
      "New best strategy at iteration  117  :  [ 147.  388.  539. 1090.  267.  256.  534.    0.    0.    0.    0.    0.\n",
      "    0.    0.] Expected Profit: 1542694.7694699997\n",
      "New best strategy at iteration  117  :  [ 147.  388.  539. 1090.  268.  255.  534.    0.    0.    0.    0.    0.\n",
      "    0.    0.] Expected Profit: 1542698.0057699997\n",
      "New best strategy at iteration  117  :  [ 147.  388.  539. 1090.  268.  256.  533.    0.    0.    0.    0.    0.\n",
      "    0.    0.] Expected Profit: 1542701.66067\n",
      "New best strategy at iteration  118  :  [ 146.  388.  539. 1090.  268.  256.  533.    0.    0.    0.    0.    0.\n",
      "    0.    0.] Expected Profit: 1542704.5849699997\n",
      "New best strategy at iteration  118  :  [ 147.  387.  539. 1090.  268.  256.  533.    0.    0.    0.    0.    0.\n",
      "    0.    0.] Expected Profit: 1542706.0609699998\n",
      "New best strategy at iteration  118  :  [ 147.  388.  538. 1090.  268.  256.  533.    0.    0.    0.    0.    0.\n",
      "    0.    0.] Expected Profit: 1542707.97997\n"
     ]
    },
    {
     "name": "stderr",
     "output_type": "stream",
     "text": [
      "\r",
      "  0%|                                                                         | 119/1000000 [00:24<58:16:58,  4.77it/s]"
     ]
    },
    {
     "name": "stdout",
     "output_type": "stream",
     "text": [
      "New best strategy at iteration  118  :  [ 147.  388.  539. 1089.  268.  256.  533.    0.    0.    0.    0.    0.\n",
      "    0.    0.] Expected Profit: 1542710.3784699999\n",
      "New best strategy at iteration  118  :  [ 147.  388.  539. 1090.  267.  256.  533.    0.    0.    0.    0.    0.\n",
      "    0.    0.] Expected Profit: 1542713.1921700002\n",
      "New best strategy at iteration  118  :  [ 147.  388.  539. 1090.  268.  255.  533.    0.    0.    0.    0.    0.\n",
      "    0.    0.] Expected Profit: 1542716.4284699997\n",
      "New best strategy at iteration  118  :  [ 147.  388.  539. 1090.  268.  256.  532.    0.    0.    0.    0.    0.\n",
      "    0.    0.] Expected Profit: 1542720.08337\n",
      "New best strategy at iteration  119  :  [ 146.  388.  539. 1090.  268.  256.  532.    0.    0.    0.    0.    0.\n",
      "    0.    0.] Expected Profit: 1542723.00767\n",
      "New best strategy at iteration  119  :  [ 147.  387.  539. 1090.  268.  256.  532.    0.    0.    0.    0.    0.\n",
      "    0.    0.] Expected Profit: 1542724.48367\n",
      "New best strategy at iteration  119  :  [ 147.  388.  538. 1090.  268.  256.  532.    0.    0.    0.    0.    0.\n",
      "    0.    0.] Expected Profit: 1542726.40267\n",
      "New best strategy at iteration  119  :  [ 147.  388.  539. 1089.  268.  256.  532.    0.    0.    0.    0.    0.\n",
      "    0.    0.] Expected Profit: 1542728.8011699999\n"
     ]
    },
    {
     "name": "stderr",
     "output_type": "stream",
     "text": [
      "\r",
      "  0%|                                                                         | 120/1000000 [00:25<58:31:09,  4.75it/s]"
     ]
    },
    {
     "name": "stdout",
     "output_type": "stream",
     "text": [
      "New best strategy at iteration  119  :  [ 147.  388.  539. 1090.  267.  256.  532.    0.    0.    0.    0.    0.\n",
      "    0.    0.] Expected Profit: 1542731.61487\n",
      "New best strategy at iteration  119  :  [ 147.  388.  539. 1090.  268.  255.  532.    0.    0.    0.    0.    0.\n",
      "    0.    0.] Expected Profit: 1542734.8511700002\n",
      "New best strategy at iteration  119  :  [ 147.  388.  539. 1090.  268.  256.  531.    0.    0.    0.    0.    0.\n",
      "    0.    0.] Expected Profit: 1542738.50607\n",
      "New best strategy at iteration  120  :  [ 146.  388.  539. 1090.  268.  256.  531.    0.    0.    0.    0.    0.\n",
      "    0.    0.] Expected Profit: 1542741.43037\n",
      "New best strategy at iteration  120  :  [ 147.  387.  539. 1090.  268.  256.  531.    0.    0.    0.    0.    0.\n",
      "    0.    0.] Expected Profit: 1542742.90637\n",
      "New best strategy at iteration  120  :  [ 147.  388.  538. 1090.  268.  256.  531.    0.    0.    0.    0.    0.\n",
      "    0.    0.] Expected Profit: 1542744.8253700002\n",
      "New best strategy at iteration  120  :  [ 147.  388.  539. 1089.  268.  256.  531.    0.    0.    0.    0.    0.\n",
      "    0.    0.] Expected Profit: 1542747.2238699999\n"
     ]
    },
    {
     "name": "stderr",
     "output_type": "stream",
     "text": [
      "\r",
      "  0%|                                                                         | 121/1000000 [00:25<58:31:49,  4.75it/s]"
     ]
    },
    {
     "name": "stdout",
     "output_type": "stream",
     "text": [
      "New best strategy at iteration  120  :  [ 147.  388.  539. 1090.  267.  256.  531.    0.    0.    0.    0.    0.\n",
      "    0.    0.] Expected Profit: 1542750.0375700002\n",
      "New best strategy at iteration  120  :  [ 147.  388.  539. 1090.  268.  255.  531.    0.    0.    0.    0.    0.\n",
      "    0.    0.] Expected Profit: 1542753.27387\n",
      "New best strategy at iteration  120  :  [ 147.  388.  539. 1090.  268.  256.  530.    0.    0.    0.    0.    0.\n",
      "    0.    0.] Expected Profit: 1542756.9287699996\n",
      "New best strategy at iteration  121  :  [ 146.  388.  539. 1090.  268.  256.  530.    0.    0.    0.    0.    0.\n",
      "    0.    0.] Expected Profit: 1542759.8530699997\n",
      "New best strategy at iteration  121  :  [ 147.  387.  539. 1090.  268.  256.  530.    0.    0.    0.    0.    0.\n",
      "    0.    0.] Expected Profit: 1542761.3290699997\n",
      "New best strategy at iteration  121  :  [ 147.  388.  538. 1090.  268.  256.  530.    0.    0.    0.    0.    0.\n",
      "    0.    0.] Expected Profit: 1542763.24807\n",
      "New best strategy at iteration  121  :  [ 147.  388.  539. 1089.  268.  256.  530.    0.    0.    0.    0.    0.\n",
      "    0.    0.] Expected Profit: 1542765.6465699996\n"
     ]
    },
    {
     "name": "stderr",
     "output_type": "stream",
     "text": [
      "\r",
      "  0%|                                                                         | 122/1000000 [00:25<58:30:27,  4.75it/s]"
     ]
    },
    {
     "name": "stdout",
     "output_type": "stream",
     "text": [
      "New best strategy at iteration  121  :  [ 147.  388.  539. 1090.  267.  256.  530.    0.    0.    0.    0.    0.\n",
      "    0.    0.] Expected Profit: 1542768.46027\n",
      "New best strategy at iteration  121  :  [ 147.  388.  539. 1090.  268.  255.  530.    0.    0.    0.    0.    0.\n",
      "    0.    0.] Expected Profit: 1542771.6965699997\n",
      "New best strategy at iteration  121  :  [ 147.  388.  539. 1090.  268.  256.  529.    0.    0.    0.    0.    0.\n",
      "    0.    0.] Expected Profit: 1542775.3514699999\n",
      "New best strategy at iteration  122  :  [ 146.  388.  539. 1090.  268.  256.  529.    0.    0.    0.    0.    0.\n",
      "    0.    0.] Expected Profit: 1542778.2757699997\n",
      "New best strategy at iteration  122  :  [ 147.  387.  539. 1090.  268.  256.  529.    0.    0.    0.    0.    0.\n",
      "    0.    0.] Expected Profit: 1542779.75177\n",
      "New best strategy at iteration  122  :  [ 147.  388.  538. 1090.  268.  256.  529.    0.    0.    0.    0.    0.\n",
      "    0.    0.] Expected Profit: 1542781.67077\n",
      "New best strategy at iteration  122  :  [ 147.  388.  539. 1089.  268.  256.  529.    0.    0.    0.    0.    0.\n",
      "    0.    0.] Expected Profit: 1542784.06927\n"
     ]
    },
    {
     "name": "stderr",
     "output_type": "stream",
     "text": [
      "\r",
      "  0%|                                                                         | 123/1000000 [00:25<58:29:18,  4.75it/s]"
     ]
    },
    {
     "name": "stdout",
     "output_type": "stream",
     "text": [
      "New best strategy at iteration  122  :  [ 147.  388.  539. 1090.  267.  256.  529.    0.    0.    0.    0.    0.\n",
      "    0.    0.] Expected Profit: 1542786.8829699997\n",
      "New best strategy at iteration  122  :  [ 147.  388.  539. 1090.  268.  255.  529.    0.    0.    0.    0.    0.\n",
      "    0.    0.] Expected Profit: 1542790.11927\n",
      "New best strategy at iteration  122  :  [ 147.  388.  539. 1090.  268.  256.  528.    0.    0.    0.    0.    0.\n",
      "    0.    0.] Expected Profit: 1542793.7741699999\n",
      "New best strategy at iteration  123  :  [ 146.  388.  539. 1090.  268.  256.  528.    0.    0.    0.    0.    0.\n",
      "    0.    0.] Expected Profit: 1542796.69847\n",
      "New best strategy at iteration  123  :  [ 147.  387.  539. 1090.  268.  256.  528.    0.    0.    0.    0.    0.\n",
      "    0.    0.] Expected Profit: 1542798.17447\n",
      "New best strategy at iteration  123  :  [ 147.  388.  538. 1090.  268.  256.  528.    0.    0.    0.    0.    0.\n",
      "    0.    0.] Expected Profit: 1542800.09347\n",
      "New best strategy at iteration  123  :  [ 147.  388.  539. 1089.  268.  256.  528.    0.    0.    0.    0.    0.\n",
      "    0.    0.] Expected Profit: 1542802.4919699999\n"
     ]
    },
    {
     "name": "stderr",
     "output_type": "stream",
     "text": [
      "\r",
      "  0%|                                                                         | 124/1000000 [00:26<58:13:40,  4.77it/s]"
     ]
    },
    {
     "name": "stdout",
     "output_type": "stream",
     "text": [
      "New best strategy at iteration  123  :  [ 147.  388.  539. 1090.  267.  256.  528.    0.    0.    0.    0.    0.\n",
      "    0.    0.] Expected Profit: 1542805.30567\n",
      "New best strategy at iteration  123  :  [ 147.  388.  539. 1090.  268.  255.  528.    0.    0.    0.    0.    0.\n",
      "    0.    0.] Expected Profit: 1542808.54197\n",
      "New best strategy at iteration  123  :  [ 147.  388.  539. 1090.  268.  256.  527.    0.    0.    0.    0.    0.\n",
      "    0.    0.] Expected Profit: 1542812.19687\n",
      "New best strategy at iteration  124  :  [ 146.  388.  539. 1090.  268.  256.  527.    0.    0.    0.    0.    0.\n",
      "    0.    0.] Expected Profit: 1542815.12117\n",
      "New best strategy at iteration  124  :  [ 147.  387.  539. 1090.  268.  256.  527.    0.    0.    0.    0.    0.\n",
      "    0.    0.] Expected Profit: 1542816.59717\n",
      "New best strategy at iteration  124  :  [ 147.  388.  538. 1090.  268.  256.  527.    0.    0.    0.    0.    0.\n",
      "    0.    0.] Expected Profit: 1542818.5161700002\n",
      "New best strategy at iteration  124  :  [ 147.  388.  539. 1089.  268.  256.  527.    0.    0.    0.    0.    0.\n",
      "    0.    0.] Expected Profit: 1542820.9146699999\n",
      "New best strategy at iteration  124  :  [ 147.  388.  539. 1090.  267.  256.  527.    0.    0.    0.    0.    0.\n",
      "    0.    0.] Expected Profit: 1542823.7283700001\n"
     ]
    },
    {
     "name": "stderr",
     "output_type": "stream",
     "text": [
      "\r",
      "  0%|                                                                         | 125/1000000 [00:26<58:12:52,  4.77it/s]"
     ]
    },
    {
     "name": "stdout",
     "output_type": "stream",
     "text": [
      "New best strategy at iteration  124  :  [ 147.  388.  539. 1090.  268.  255.  527.    0.    0.    0.    0.    0.\n",
      "    0.    0.] Expected Profit: 1542826.9646700001\n",
      "New best strategy at iteration  124  :  [ 147.  388.  539. 1090.  268.  256.  526.    0.    0.    0.    0.    0.\n",
      "    0.    0.] Expected Profit: 1542830.6195699996\n",
      "New best strategy at iteration  125  :  [ 146.  388.  539. 1090.  268.  256.  526.    0.    0.    0.    0.    0.\n",
      "    0.    0.] Expected Profit: 1542833.54387\n",
      "New best strategy at iteration  125  :  [ 147.  387.  539. 1090.  268.  256.  526.    0.    0.    0.    0.    0.\n",
      "    0.    0.] Expected Profit: 1542835.01987\n",
      "New best strategy at iteration  125  :  [ 147.  388.  538. 1090.  268.  256.  526.    0.    0.    0.    0.    0.\n",
      "    0.    0.] Expected Profit: 1542836.9388700002\n",
      "New best strategy at iteration  125  :  [ 147.  388.  539. 1089.  268.  256.  526.    0.    0.    0.    0.    0.\n",
      "    0.    0.] Expected Profit: 1542839.3373699998\n",
      "New best strategy at iteration  125  :  [ 147.  388.  539. 1090.  267.  256.  526.    0.    0.    0.    0.    0.\n",
      "    0.    0.] Expected Profit: 1542842.15107\n"
     ]
    },
    {
     "name": "stderr",
     "output_type": "stream",
     "text": [
      "\r",
      "  0%|                                                                         | 126/1000000 [00:26<58:22:02,  4.76it/s]"
     ]
    },
    {
     "name": "stdout",
     "output_type": "stream",
     "text": [
      "New best strategy at iteration  125  :  [ 147.  388.  539. 1090.  268.  255.  526.    0.    0.    0.    0.    0.\n",
      "    0.    0.] Expected Profit: 1542845.38737\n",
      "New best strategy at iteration  125  :  [ 147.  388.  539. 1090.  268.  256.  525.    0.    0.    0.    0.    0.\n",
      "    0.    0.] Expected Profit: 1542849.0422699996\n",
      "New best strategy at iteration  126  :  [ 146.  388.  539. 1090.  268.  256.  525.    0.    0.    0.    0.    0.\n",
      "    0.    0.] Expected Profit: 1542851.96657\n",
      "New best strategy at iteration  126  :  [ 147.  387.  539. 1090.  268.  256.  525.    0.    0.    0.    0.    0.\n",
      "    0.    0.] Expected Profit: 1542853.4425699997\n",
      "New best strategy at iteration  126  :  [ 147.  388.  538. 1090.  268.  256.  525.    0.    0.    0.    0.    0.\n",
      "    0.    0.] Expected Profit: 1542855.36157\n",
      "New best strategy at iteration  126  :  [ 147.  388.  539. 1089.  268.  256.  525.    0.    0.    0.    0.    0.\n",
      "    0.    0.] Expected Profit: 1542857.7600699996\n",
      "New best strategy at iteration  126  :  [ 147.  388.  539. 1090.  267.  256.  525.    0.    0.    0.    0.    0.\n",
      "    0.    0.] Expected Profit: 1542860.57377\n",
      "New best strategy at iteration  126  :  [ 147.  388.  539. 1090.  268.  255.  525.    0.    0.    0.    0.    0.\n",
      "    0.    0.] Expected Profit: 1542863.81007\n"
     ]
    },
    {
     "name": "stderr",
     "output_type": "stream",
     "text": [
      "\r",
      "  0%|                                                                         | 127/1000000 [00:26<58:10:53,  4.77it/s]"
     ]
    },
    {
     "name": "stdout",
     "output_type": "stream",
     "text": [
      "New best strategy at iteration  126  :  [ 147.  388.  539. 1090.  268.  256.  524.    0.    0.    0.    0.    0.\n",
      "    0.    0.] Expected Profit: 1542867.46497\n",
      "New best strategy at iteration  127  :  [ 146.  388.  539. 1090.  268.  256.  524.    0.    0.    0.    0.    0.\n",
      "    0.    0.] Expected Profit: 1542870.38927\n",
      "New best strategy at iteration  127  :  [ 147.  387.  539. 1090.  268.  256.  524.    0.    0.    0.    0.    0.\n",
      "    0.    0.] Expected Profit: 1542871.86527\n",
      "New best strategy at iteration  127  :  [ 147.  388.  538. 1090.  268.  256.  524.    0.    0.    0.    0.    0.\n",
      "    0.    0.] Expected Profit: 1542873.78427\n",
      "New best strategy at iteration  127  :  [ 147.  388.  539. 1089.  268.  256.  524.    0.    0.    0.    0.    0.\n",
      "    0.    0.] Expected Profit: 1542876.18277\n",
      "New best strategy at iteration  127  :  [ 147.  388.  539. 1090.  267.  256.  524.    0.    0.    0.    0.    0.\n",
      "    0.    0.] Expected Profit: 1542878.9964700001\n",
      "New best strategy at iteration  127  :  [ 147.  388.  539. 1090.  268.  255.  524.    0.    0.    0.    0.    0.\n",
      "    0.    0.] Expected Profit: 1542882.23277\n",
      "New best strategy at iteration  127  :  [ 147.  388.  539. 1090.  268.  256.  523.    0.    0.    0.    0.    0.\n",
      "    0.    0.] Expected Profit: 1542885.8876699999\n"
     ]
    },
    {
     "name": "stderr",
     "output_type": "stream",
     "text": [
      "  0%|                                                                         | 129/1000000 [00:27<58:01:59,  4.79it/s]"
     ]
    },
    {
     "name": "stdout",
     "output_type": "stream",
     "text": [
      "New best strategy at iteration  128  :  [ 146.  388.  539. 1090.  268.  256.  523.    0.    0.    0.    0.    0.\n",
      "    0.    0.] Expected Profit: 1542888.81197\n",
      "New best strategy at iteration  128  :  [ 147.  387.  539. 1090.  268.  256.  523.    0.    0.    0.    0.    0.\n",
      "    0.    0.] Expected Profit: 1542890.2879699997\n",
      "New best strategy at iteration  128  :  [ 147.  388.  538. 1090.  268.  256.  523.    0.    0.    0.    0.    0.\n",
      "    0.    0.] Expected Profit: 1542892.2069700002\n",
      "New best strategy at iteration  128  :  [ 147.  388.  539. 1089.  268.  256.  523.    0.    0.    0.    0.    0.\n",
      "    0.    0.] Expected Profit: 1542894.6054699998\n",
      "New best strategy at iteration  128  :  [ 147.  388.  539. 1090.  267.  256.  523.    0.    0.    0.    0.    0.\n",
      "    0.    0.] Expected Profit: 1542897.41917\n",
      "New best strategy at iteration  128  :  [ 147.  388.  539. 1090.  268.  255.  523.    0.    0.    0.    0.    0.\n",
      "    0.    0.] Expected Profit: 1542900.6554699999\n",
      "New best strategy at iteration  128  :  [ 147.  388.  539. 1090.  268.  256.  522.    0.    0.    0.    0.    0.\n",
      "    0.    0.] Expected Profit: 1542904.31037\n"
     ]
    },
    {
     "name": "stderr",
     "output_type": "stream",
     "text": [
      "\r",
      "  0%|                                                                         | 130/1000000 [00:27<57:58:43,  4.79it/s]"
     ]
    },
    {
     "name": "stdout",
     "output_type": "stream",
     "text": [
      "New best strategy at iteration  129  :  [ 146.  388.  539. 1090.  268.  256.  522.    0.    0.    0.    0.    0.\n",
      "    0.    0.] Expected Profit: 1542907.2346700002\n",
      "New best strategy at iteration  129  :  [ 147.  387.  539. 1090.  268.  256.  522.    0.    0.    0.    0.    0.\n",
      "    0.    0.] Expected Profit: 1542908.7106700002\n",
      "New best strategy at iteration  129  :  [ 147.  388.  538. 1090.  268.  256.  522.    0.    0.    0.    0.    0.\n",
      "    0.    0.] Expected Profit: 1542910.6296700002\n",
      "New best strategy at iteration  129  :  [ 147.  388.  539. 1089.  268.  256.  522.    0.    0.    0.    0.    0.\n",
      "    0.    0.] Expected Profit: 1542913.0281699998\n",
      "New best strategy at iteration  129  :  [ 147.  388.  539. 1090.  267.  256.  522.    0.    0.    0.    0.    0.\n",
      "    0.    0.] Expected Profit: 1542915.84187\n",
      "New best strategy at iteration  129  :  [ 147.  388.  539. 1090.  268.  255.  522.    0.    0.    0.    0.    0.\n",
      "    0.    0.] Expected Profit: 1542919.0781699999\n",
      "New best strategy at iteration  129  :  [ 147.  388.  539. 1090.  268.  256.  521.    0.    0.    0.    0.    0.\n",
      "    0.    0.] Expected Profit: 1542922.7330699998\n",
      "New best strategy at iteration  130  :  [ 146.  388.  539. 1090.  268.  256.  521.    0.    0.    0.    0.    0.\n",
      "    0.    0.] Expected Profit: 1542925.6573699997\n"
     ]
    },
    {
     "name": "stderr",
     "output_type": "stream",
     "text": [
      "\r",
      "  0%|                                                                         | 131/1000000 [00:27<58:30:24,  4.75it/s]"
     ]
    },
    {
     "name": "stdout",
     "output_type": "stream",
     "text": [
      "New best strategy at iteration  130  :  [ 147.  387.  539. 1090.  268.  256.  521.    0.    0.    0.    0.    0.\n",
      "    0.    0.] Expected Profit: 1542927.13337\n",
      "New best strategy at iteration  130  :  [ 147.  388.  538. 1090.  268.  256.  521.    0.    0.    0.    0.    0.\n",
      "    0.    0.] Expected Profit: 1542929.05237\n",
      "New best strategy at iteration  130  :  [ 147.  388.  539. 1089.  268.  256.  521.    0.    0.    0.    0.    0.\n",
      "    0.    0.] Expected Profit: 1542931.4508699998\n",
      "New best strategy at iteration  130  :  [ 147.  388.  539. 1090.  267.  256.  521.    0.    0.    0.    0.    0.\n",
      "    0.    0.] Expected Profit: 1542934.26457\n",
      "New best strategy at iteration  130  :  [ 147.  388.  539. 1090.  268.  255.  521.    0.    0.    0.    0.    0.\n",
      "    0.    0.] Expected Profit: 1542937.5008699999\n",
      "New best strategy at iteration  130  :  [ 147.  388.  539. 1090.  268.  256.  520.    0.    0.    0.    0.    0.\n",
      "    0.    0.] Expected Profit: 1542941.15577\n",
      "New best strategy at iteration  131  :  [ 146.  388.  539. 1090.  268.  256.  520.    0.    0.    0.    0.    0.\n",
      "    0.    0.] Expected Profit: 1542944.08007\n",
      "New best strategy at iteration  131  :  [ 147.  387.  539. 1090.  268.  256.  520.    0.    0.    0.    0.    0.\n",
      "    0.    0.] Expected Profit: 1542945.5560699997\n",
      "New best strategy at iteration  131  :  [ 147.  388.  538. 1090.  268.  256.  520.    0.    0.    0.    0.    0.\n",
      "    0.    0.] Expected Profit: 1542947.47507\n",
      "New best strategy at iteration  131  :  [ 147.  388.  539. 1089.  268.  256.  520.    0.    0.    0.    0.    0.\n",
      "    0.    0.] Expected Profit: 1542949.8735699996\n",
      "New best strategy at iteration  131  :  [ 147.  388.  539. 1090.  267.  256.  520.    0.    0.    0.    0.    0.\n",
      "    0.    0.] Expected Profit: 1542952.6872699999\n",
      "New best strategy at iteration  131  :  [ 147.  388.  539. 1090.  268.  255.  520.    0.    0.    0.    0.    0.\n",
      "    0.    0.] Expected Profit: 1542955.9235699999\n",
      "New best strategy at iteration  131  :  [ 147.  388.  539. 1090.  268.  256.  519.    0.    0.    0.    0.    0.\n",
      "    0.    0.] Expected Profit: 1542959.57847\n"
     ]
    },
    {
     "name": "stderr",
     "output_type": "stream",
     "text": [
      "  0%|                                                                         | 133/1000000 [00:27<59:01:43,  4.71it/s]"
     ]
    },
    {
     "name": "stdout",
     "output_type": "stream",
     "text": [
      "New best strategy at iteration  132  :  [ 146.  388.  539. 1090.  268.  256.  519.    0.    0.    0.    0.    0.\n",
      "    0.    0.] Expected Profit: 1542962.50277\n",
      "New best strategy at iteration  132  :  [ 147.  387.  539. 1090.  268.  256.  519.    0.    0.    0.    0.    0.\n",
      "    0.    0.] Expected Profit: 1542963.97877\n",
      "New best strategy at iteration  132  :  [ 147.  388.  538. 1090.  268.  256.  519.    0.    0.    0.    0.    0.\n",
      "    0.    0.] Expected Profit: 1542965.89777\n",
      "New best strategy at iteration  132  :  [ 147.  388.  539. 1089.  268.  256.  519.    0.    0.    0.    0.    0.\n",
      "    0.    0.] Expected Profit: 1542968.29627\n",
      "New best strategy at iteration  132  :  [ 147.  388.  539. 1090.  267.  256.  519.    0.    0.    0.    0.    0.\n",
      "    0.    0.] Expected Profit: 1542971.10997\n",
      "New best strategy at iteration  132  :  [ 147.  388.  539. 1090.  268.  255.  519.    0.    0.    0.    0.    0.\n",
      "    0.    0.] Expected Profit: 1542974.34627\n",
      "New best strategy at iteration  132  :  [ 147.  388.  539. 1090.  268.  256.  518.    0.    0.    0.    0.    0.\n",
      "    0.    0.] Expected Profit: 1542978.00117\n"
     ]
    },
    {
     "name": "stderr",
     "output_type": "stream",
     "text": [
      "\r",
      "  0%|                                                                         | 134/1000000 [00:28<58:52:44,  4.72it/s]"
     ]
    },
    {
     "name": "stdout",
     "output_type": "stream",
     "text": [
      "New best strategy at iteration  133  :  [ 146.  388.  539. 1090.  268.  256.  518.    0.    0.    0.    0.    0.\n",
      "    0.    0.] Expected Profit: 1542980.9254700001\n",
      "New best strategy at iteration  133  :  [ 147.  387.  539. 1090.  268.  256.  518.    0.    0.    0.    0.    0.\n",
      "    0.    0.] Expected Profit: 1542982.4014699997\n",
      "New best strategy at iteration  133  :  [ 147.  388.  538. 1090.  268.  256.  518.    0.    0.    0.    0.    0.\n",
      "    0.    0.] Expected Profit: 1542984.32047\n",
      "New best strategy at iteration  133  :  [ 147.  388.  539. 1089.  268.  256.  518.    0.    0.    0.    0.    0.\n",
      "    0.    0.] Expected Profit: 1542986.7189699998\n",
      "New best strategy at iteration  133  :  [ 147.  388.  539. 1090.  267.  256.  518.    0.    0.    0.    0.    0.\n",
      "    0.    0.] Expected Profit: 1542989.5326699999\n",
      "New best strategy at iteration  133  :  [ 147.  388.  539. 1090.  268.  255.  518.    0.    0.    0.    0.    0.\n",
      "    0.    0.] Expected Profit: 1542992.7689699999\n",
      "New best strategy at iteration  133  :  [ 147.  388.  539. 1090.  268.  256.  517.    0.    0.    0.    0.    0.\n",
      "    0.    0.] Expected Profit: 1542996.4238699998\n",
      "New best strategy at iteration  134  :  [ 146.  388.  539. 1090.  268.  256.  517.    0.    0.    0.    0.    0.\n",
      "    0.    0.] Expected Profit: 1542999.34817\n"
     ]
    },
    {
     "name": "stderr",
     "output_type": "stream",
     "text": [
      "\r",
      "  0%|                                                                         | 135/1000000 [00:28<59:00:43,  4.71it/s]"
     ]
    },
    {
     "name": "stdout",
     "output_type": "stream",
     "text": [
      "New best strategy at iteration  134  :  [ 147.  387.  539. 1090.  268.  256.  517.    0.    0.    0.    0.    0.\n",
      "    0.    0.] Expected Profit: 1543000.8241700002\n",
      "New best strategy at iteration  134  :  [ 147.  388.  538. 1090.  268.  256.  517.    0.    0.    0.    0.    0.\n",
      "    0.    0.] Expected Profit: 1543002.7431700001\n",
      "New best strategy at iteration  134  :  [ 147.  388.  539. 1089.  268.  256.  517.    0.    0.    0.    0.    0.\n",
      "    0.    0.] Expected Profit: 1543005.1416699998\n",
      "New best strategy at iteration  134  :  [ 147.  388.  539. 1090.  267.  256.  517.    0.    0.    0.    0.    0.\n",
      "    0.    0.] Expected Profit: 1543007.9553699999\n",
      "New best strategy at iteration  134  :  [ 147.  388.  539. 1090.  268.  255.  517.    0.    0.    0.    0.    0.\n",
      "    0.    0.] Expected Profit: 1543011.1916699996\n",
      "New best strategy at iteration  134  :  [ 147.  388.  539. 1090.  268.  256.  516.    0.    0.    0.    0.    0.\n",
      "    0.    0.] Expected Profit: 1543014.8465699998\n",
      "New best strategy at iteration  135  :  [ 146.  388.  539. 1090.  268.  256.  516.    0.    0.    0.    0.    0.\n",
      "    0.    0.] Expected Profit: 1543017.77087\n"
     ]
    },
    {
     "name": "stderr",
     "output_type": "stream",
     "text": [
      "\r",
      "  0%|                                                                         | 136/1000000 [00:28<59:08:44,  4.70it/s]"
     ]
    },
    {
     "name": "stdout",
     "output_type": "stream",
     "text": [
      "New best strategy at iteration  135  :  [ 147.  387.  539. 1090.  268.  256.  516.    0.    0.    0.    0.    0.\n",
      "    0.    0.] Expected Profit: 1543019.24687\n",
      "New best strategy at iteration  135  :  [ 147.  388.  538. 1090.  268.  256.  516.    0.    0.    0.    0.    0.\n",
      "    0.    0.] Expected Profit: 1543021.1658700001\n",
      "New best strategy at iteration  135  :  [ 147.  388.  539. 1089.  268.  256.  516.    0.    0.    0.    0.    0.\n",
      "    0.    0.] Expected Profit: 1543023.5643699998\n",
      "New best strategy at iteration  135  :  [ 147.  388.  539. 1090.  267.  256.  516.    0.    0.    0.    0.    0.\n",
      "    0.    0.] Expected Profit: 1543026.37807\n",
      "New best strategy at iteration  135  :  [ 147.  388.  539. 1090.  268.  255.  516.    0.    0.    0.    0.    0.\n",
      "    0.    0.] Expected Profit: 1543029.6143699999\n",
      "New best strategy at iteration  135  :  [ 147.  388.  539. 1090.  268.  256.  515.    0.    0.    0.    0.    0.\n",
      "    0.    0.] Expected Profit: 1543033.26927\n",
      "New best strategy at iteration  136  :  [ 146.  388.  539. 1090.  268.  256.  515.    0.    0.    0.    0.    0.\n",
      "    0.    0.] Expected Profit: 1543036.19357\n"
     ]
    },
    {
     "name": "stderr",
     "output_type": "stream",
     "text": [
      "\r",
      "  0%|                                                                         | 137/1000000 [00:28<59:18:54,  4.68it/s]"
     ]
    },
    {
     "name": "stdout",
     "output_type": "stream",
     "text": [
      "New best strategy at iteration  136  :  [ 147.  387.  539. 1090.  268.  256.  515.    0.    0.    0.    0.    0.\n",
      "    0.    0.] Expected Profit: 1543037.6695700001\n",
      "New best strategy at iteration  136  :  [ 147.  388.  538. 1090.  268.  256.  515.    0.    0.    0.    0.    0.\n",
      "    0.    0.] Expected Profit: 1543039.58857\n",
      "New best strategy at iteration  136  :  [ 147.  388.  539. 1089.  268.  256.  515.    0.    0.    0.    0.    0.\n",
      "    0.    0.] Expected Profit: 1543041.9870699998\n",
      "New best strategy at iteration  136  :  [ 147.  388.  539. 1090.  267.  256.  515.    0.    0.    0.    0.    0.\n",
      "    0.    0.] Expected Profit: 1543044.80077\n",
      "New best strategy at iteration  136  :  [ 147.  388.  539. 1090.  268.  255.  515.    0.    0.    0.    0.    0.\n",
      "    0.    0.] Expected Profit: 1543048.0370699998\n",
      "New best strategy at iteration  136  :  [ 147.  388.  539. 1090.  268.  256.  514.    0.    0.    0.    0.    0.\n",
      "    0.    0.] Expected Profit: 1543051.6919699998\n"
     ]
    },
    {
     "name": "stderr",
     "output_type": "stream",
     "text": [
      "\r",
      "  0%|                                                                         | 138/1000000 [00:28<59:15:31,  4.69it/s]"
     ]
    },
    {
     "name": "stdout",
     "output_type": "stream",
     "text": [
      "New best strategy at iteration  137  :  [ 146.  388.  539. 1090.  268.  256.  514.    0.    0.    0.    0.    0.\n",
      "    0.    0.] Expected Profit: 1543054.6162699999\n",
      "New best strategy at iteration  137  :  [ 147.  387.  539. 1090.  268.  256.  514.    0.    0.    0.    0.    0.\n",
      "    0.    0.] Expected Profit: 1543056.09227\n",
      "New best strategy at iteration  137  :  [ 147.  388.  538. 1090.  268.  256.  514.    0.    0.    0.    0.    0.\n",
      "    0.    0.] Expected Profit: 1543058.01127\n",
      "New best strategy at iteration  137  :  [ 147.  388.  539. 1089.  268.  256.  514.    0.    0.    0.    0.    0.\n",
      "    0.    0.] Expected Profit: 1543060.40977\n",
      "New best strategy at iteration  137  :  [ 147.  388.  539. 1090.  267.  256.  514.    0.    0.    0.    0.    0.\n",
      "    0.    0.] Expected Profit: 1543063.22347\n",
      "New best strategy at iteration  137  :  [ 147.  388.  539. 1090.  268.  255.  514.    0.    0.    0.    0.    0.\n",
      "    0.    0.] Expected Profit: 1543066.45977\n",
      "New best strategy at iteration  137  :  [ 147.  388.  539. 1090.  268.  256.  513.    0.    0.    0.    0.    0.\n",
      "    0.    0.] Expected Profit: 1543070.11467\n"
     ]
    },
    {
     "name": "stderr",
     "output_type": "stream",
     "text": [
      "\r",
      "  0%|                                                                         | 139/1000000 [00:29<59:19:22,  4.68it/s]"
     ]
    },
    {
     "name": "stdout",
     "output_type": "stream",
     "text": [
      "New best strategy at iteration  138  :  [ 146.  388.  539. 1090.  268.  256.  513.    0.    0.    0.    0.    0.\n",
      "    0.    0.] Expected Profit: 1543073.03897\n",
      "New best strategy at iteration  138  :  [ 147.  387.  539. 1090.  268.  256.  513.    0.    0.    0.    0.    0.\n",
      "    0.    0.] Expected Profit: 1543074.51497\n",
      "New best strategy at iteration  138  :  [ 147.  388.  538. 1090.  268.  256.  513.    0.    0.    0.    0.    0.\n",
      "    0.    0.] Expected Profit: 1543076.4339700001\n",
      "New best strategy at iteration  138  :  [ 147.  388.  539. 1089.  268.  256.  513.    0.    0.    0.    0.    0.\n",
      "    0.    0.] Expected Profit: 1543078.8324699998\n",
      "New best strategy at iteration  138  :  [ 147.  388.  539. 1090.  267.  256.  513.    0.    0.    0.    0.    0.\n",
      "    0.    0.] Expected Profit: 1543081.64617\n",
      "New best strategy at iteration  138  :  [ 147.  388.  539. 1090.  268.  255.  513.    0.    0.    0.    0.    0.\n",
      "    0.    0.] Expected Profit: 1543084.8824699998\n",
      "New best strategy at iteration  138  :  [ 147.  388.  539. 1090.  268.  256.  512.    0.    0.    0.    0.    0.\n",
      "    0.    0.] Expected Profit: 1543088.5373699998\n"
     ]
    },
    {
     "name": "stderr",
     "output_type": "stream",
     "text": [
      "\r",
      "  0%|                                                                         | 140/1000000 [00:29<58:53:25,  4.72it/s]"
     ]
    },
    {
     "name": "stdout",
     "output_type": "stream",
     "text": [
      "New best strategy at iteration  139  :  [ 146.  388.  539. 1090.  268.  256.  512.    0.    0.    0.    0.    0.\n",
      "    0.    0.] Expected Profit: 1543091.4616699999\n",
      "New best strategy at iteration  139  :  [ 147.  387.  539. 1090.  268.  256.  512.    0.    0.    0.    0.    0.\n",
      "    0.    0.] Expected Profit: 1543092.9376700001\n",
      "New best strategy at iteration  139  :  [ 147.  388.  538. 1090.  268.  256.  512.    0.    0.    0.    0.    0.\n",
      "    0.    0.] Expected Profit: 1543094.8566700001\n",
      "New best strategy at iteration  139  :  [ 147.  388.  539. 1089.  268.  256.  512.    0.    0.    0.    0.    0.\n",
      "    0.    0.] Expected Profit: 1543097.2551699996\n",
      "New best strategy at iteration  139  :  [ 147.  388.  539. 1090.  267.  256.  512.    0.    0.    0.    0.    0.\n",
      "    0.    0.] Expected Profit: 1543100.06887\n",
      "New best strategy at iteration  139  :  [ 147.  388.  539. 1090.  268.  255.  512.    0.    0.    0.    0.    0.\n",
      "    0.    0.] Expected Profit: 1543103.30517\n",
      "New best strategy at iteration  139  :  [ 147.  388.  539. 1090.  268.  256.  511.    0.    0.    0.    0.    0.\n",
      "    0.    0.] Expected Profit: 1543106.96007\n",
      "New best strategy at iteration  140  :  [ 146.  388.  539. 1090.  268.  256.  511.    0.    0.    0.    0.    0.\n",
      "    0.    0.] Expected Profit: 1543109.8843699999\n",
      "New best strategy at iteration  140  :  [ 147.  387.  539. 1090.  268.  256.  511.    0.    0.    0.    0.    0.\n",
      "    0.    0.] Expected Profit: 1543111.36037\n",
      "New best strategy at iteration  140  :  [ 147.  388.  538. 1090.  268.  256.  511.    0.    0.    0.    0.    0.\n",
      "    0.    0.] Expected Profit: 1543113.2793700001\n",
      "New best strategy at iteration  140  :  [ 147.  388.  539. 1089.  268.  256.  511.    0.    0.    0.    0.    0.\n",
      "    0.    0.] Expected Profit: 1543115.6778699998\n",
      "New best strategy at iteration  140  :  [ 147.  388.  539. 1090.  267.  256.  511.    0.    0.    0.    0.    0.\n",
      "    0.    0.] Expected Profit: 1543118.49157\n",
      "New best strategy at iteration  140  :  [ 147.  388.  539. 1090.  268.  255.  511.    0.    0.    0.    0.    0.\n",
      "    0.    0.] Expected Profit: 1543121.7278699998\n",
      "New best strategy at iteration  140  :  [ 147.  388.  539. 1090.  268.  256.  510.    0.    0.    0.    0.    0.\n",
      "    0.    0.] Expected Profit: 1543125.38277\n"
     ]
    },
    {
     "name": "stderr",
     "output_type": "stream",
     "text": [
      "  0%|                                                                         | 142/1000000 [00:29<58:27:35,  4.75it/s]"
     ]
    },
    {
     "name": "stdout",
     "output_type": "stream",
     "text": [
      "New best strategy at iteration  141  :  [ 146.  388.  539. 1090.  268.  256.  510.    0.    0.    0.    0.    0.\n",
      "    0.    0.] Expected Profit: 1543128.3070699999\n",
      "New best strategy at iteration  141  :  [ 147.  387.  539. 1090.  268.  256.  510.    0.    0.    0.    0.    0.\n",
      "    0.    0.] Expected Profit: 1543129.78307\n",
      "New best strategy at iteration  141  :  [ 147.  388.  538. 1090.  268.  256.  510.    0.    0.    0.    0.    0.\n",
      "    0.    0.] Expected Profit: 1543131.7020699999\n",
      "New best strategy at iteration  141  :  [ 147.  388.  539. 1089.  268.  256.  510.    0.    0.    0.    0.    0.\n",
      "    0.    0.] Expected Profit: 1543134.1005699998\n",
      "New best strategy at iteration  141  :  [ 147.  388.  539. 1090.  267.  256.  510.    0.    0.    0.    0.    0.\n",
      "    0.    0.] Expected Profit: 1543136.91427\n",
      "New best strategy at iteration  141  :  [ 147.  388.  539. 1090.  268.  255.  510.    0.    0.    0.    0.    0.\n",
      "    0.    0.] Expected Profit: 1543140.1505699998\n",
      "New best strategy at iteration  141  :  [ 147.  388.  539. 1090.  268.  256.  509.    0.    0.    0.    0.    0.\n",
      "    0.    0.] Expected Profit: 1543143.80547\n"
     ]
    },
    {
     "name": "stderr",
     "output_type": "stream",
     "text": [
      "\r",
      "  0%|                                                                         | 143/1000000 [00:30<58:10:39,  4.77it/s]"
     ]
    },
    {
     "name": "stdout",
     "output_type": "stream",
     "text": [
      "New best strategy at iteration  142  :  [ 146.  388.  539. 1090.  268.  256.  509.    0.    0.    0.    0.    0.\n",
      "    0.    0.] Expected Profit: 1543146.7297699996\n",
      "New best strategy at iteration  142  :  [ 147.  387.  539. 1090.  268.  256.  509.    0.    0.    0.    0.    0.\n",
      "    0.    0.] Expected Profit: 1543148.20577\n",
      "New best strategy at iteration  142  :  [ 147.  388.  538. 1090.  268.  256.  509.    0.    0.    0.    0.    0.\n",
      "    0.    0.] Expected Profit: 1543150.1247699999\n",
      "New best strategy at iteration  142  :  [ 147.  388.  539. 1089.  268.  256.  509.    0.    0.    0.    0.    0.\n",
      "    0.    0.] Expected Profit: 1543152.52327\n",
      "New best strategy at iteration  142  :  [ 147.  388.  539. 1090.  267.  256.  509.    0.    0.    0.    0.    0.\n",
      "    0.    0.] Expected Profit: 1543155.3369699998\n",
      "New best strategy at iteration  142  :  [ 147.  388.  539. 1090.  268.  255.  509.    0.    0.    0.    0.    0.\n",
      "    0.    0.] Expected Profit: 1543158.5732699998\n",
      "New best strategy at iteration  142  :  [ 147.  388.  539. 1090.  268.  256.  508.    0.    0.    0.    0.    0.\n",
      "    0.    0.] Expected Profit: 1543162.2281699998\n",
      "New best strategy at iteration  143  :  [ 146.  388.  539. 1090.  268.  256.  508.    0.    0.    0.    0.    0.\n",
      "    0.    0.] Expected Profit: 1543165.1524699999\n",
      "New best strategy at iteration  143  :  [ 147.  387.  539. 1090.  268.  256.  508.    0.    0.    0.    0.    0.\n",
      "    0.    0.] Expected Profit: 1543166.6284699999\n",
      "New best strategy at iteration  143  :  [ 147.  388.  538. 1090.  268.  256.  508.    0.    0.    0.    0.    0.\n",
      "    0.    0.] Expected Profit: 1543168.54747\n",
      "New best strategy at iteration  143  :  [ 147.  388.  539. 1089.  268.  256.  508.    0.    0.    0.    0.    0.\n",
      "    0.    0.] Expected Profit: 1543170.9459699998\n",
      "New best strategy at iteration  143  :  [ 147.  388.  539. 1090.  267.  256.  508.    0.    0.    0.    0.    0.\n",
      "    0.    0.] Expected Profit: 1543173.75967\n",
      "New best strategy at iteration  143  :  [ 147.  388.  539. 1090.  268.  255.  508.    0.    0.    0.    0.    0.\n",
      "    0.    0.] Expected Profit: 1543176.9959699998\n",
      "New best strategy at iteration  143  :  [ 147.  388.  539. 1090.  268.  256.  507.    0.    0.    0.    0.    0.\n",
      "    0.    0.] Expected Profit: 1543180.65087\n"
     ]
    },
    {
     "name": "stderr",
     "output_type": "stream",
     "text": [
      "  0%|                                                                         | 145/1000000 [00:30<58:09:37,  4.78it/s]"
     ]
    },
    {
     "name": "stdout",
     "output_type": "stream",
     "text": [
      "New best strategy at iteration  144  :  [ 146.  388.  539. 1090.  268.  256.  507.    0.    0.    0.    0.    0.\n",
      "    0.    0.] Expected Profit: 1543183.5751699999\n",
      "New best strategy at iteration  144  :  [ 147.  387.  539. 1090.  268.  256.  507.    0.    0.    0.    0.    0.\n",
      "    0.    0.] Expected Profit: 1543185.05117\n",
      "New best strategy at iteration  144  :  [ 147.  388.  538. 1090.  268.  256.  507.    0.    0.    0.    0.    0.\n",
      "    0.    0.] Expected Profit: 1543186.97017\n",
      "New best strategy at iteration  144  :  [ 147.  388.  539. 1089.  268.  256.  507.    0.    0.    0.    0.    0.\n",
      "    0.    0.] Expected Profit: 1543189.3686699998\n",
      "New best strategy at iteration  144  :  [ 147.  388.  539. 1090.  267.  256.  507.    0.    0.    0.    0.    0.\n",
      "    0.    0.] Expected Profit: 1543192.18237\n",
      "New best strategy at iteration  144  :  [ 147.  388.  539. 1090.  268.  255.  507.    0.    0.    0.    0.    0.\n",
      "    0.    0.] Expected Profit: 1543195.41867\n",
      "New best strategy at iteration  144  :  [ 147.  388.  539. 1090.  268.  256.  506.    0.    0.    0.    0.    0.\n",
      "    0.    0.] Expected Profit: 1543199.07357\n",
      "New best strategy at iteration  145  :  [ 146.  388.  539. 1090.  268.  256.  506.    0.    0.    0.    0.    0.\n",
      "    0.    0.] Expected Profit: 1543201.9978699998\n",
      "New best strategy at iteration  145  :  [ 147.  387.  539. 1090.  268.  256.  506.    0.    0.    0.    0.    0.\n",
      "    0.    0.] Expected Profit: 1543203.4738699999\n",
      "New best strategy at iteration  145  :  [ 147.  388.  538. 1090.  268.  256.  506.    0.    0.    0.    0.    0.\n",
      "    0.    0.] Expected Profit: 1543205.39287\n",
      "New best strategy at iteration  145  :  [ 147.  388.  539. 1089.  268.  256.  506.    0.    0.    0.    0.    0.\n",
      "    0.    0.] Expected Profit: 1543207.79137\n",
      "New best strategy at iteration  145  :  [ 147.  388.  539. 1090.  267.  256.  506.    0.    0.    0.    0.    0.\n",
      "    0.    0.] Expected Profit: 1543210.60507\n",
      "New best strategy at iteration  145  :  [ 147.  388.  539. 1090.  268.  255.  506.    0.    0.    0.    0.    0.\n",
      "    0.    0.] Expected Profit: 1543213.8413699998\n",
      "New best strategy at iteration  145  :  [ 147.  388.  539. 1090.  268.  256.  505.    0.    0.    0.    0.    0.\n",
      "    0.    0.] Expected Profit: 1543217.4962699998\n"
     ]
    },
    {
     "name": "stderr",
     "output_type": "stream",
     "text": [
      "  0%|                                                                         | 147/1000000 [00:30<58:08:58,  4.78it/s]"
     ]
    },
    {
     "name": "stdout",
     "output_type": "stream",
     "text": [
      "New best strategy at iteration  146  :  [ 146.  388.  539. 1090.  268.  256.  505.    0.    0.    0.    0.    0.\n",
      "    0.    0.] Expected Profit: 1543220.4205699996\n",
      "New best strategy at iteration  146  :  [ 147.  387.  539. 1090.  268.  256.  505.    0.    0.    0.    0.    0.\n",
      "    0.    0.] Expected Profit: 1543221.8965699996\n",
      "New best strategy at iteration  146  :  [ 147.  388.  538. 1090.  268.  256.  505.    0.    0.    0.    0.    0.\n",
      "    0.    0.] Expected Profit: 1543223.8155699999\n",
      "New best strategy at iteration  146  :  [ 147.  388.  539. 1089.  268.  256.  505.    0.    0.    0.    0.    0.\n",
      "    0.    0.] Expected Profit: 1543226.2140699998\n",
      "New best strategy at iteration  146  :  [ 147.  388.  539. 1090.  267.  256.  505.    0.    0.    0.    0.    0.\n",
      "    0.    0.] Expected Profit: 1543229.02777\n",
      "New best strategy at iteration  146  :  [ 147.  388.  539. 1090.  268.  255.  505.    0.    0.    0.    0.    0.\n",
      "    0.    0.] Expected Profit: 1543232.26407\n",
      "New best strategy at iteration  146  :  [ 147.  388.  539. 1090.  268.  256.  504.    0.    0.    0.    0.    0.\n",
      "    0.    0.] Expected Profit: 1543235.91897\n",
      "New best strategy at iteration  147  :  [ 146.  388.  539. 1090.  268.  256.  504.    0.    0.    0.    0.    0.\n",
      "    0.    0.] Expected Profit: 1543238.84327\n",
      "New best strategy at iteration  147  :  [ 147.  387.  539. 1090.  268.  256.  504.    0.    0.    0.    0.    0.\n",
      "    0.    0.] Expected Profit: 1543240.31927\n",
      "New best strategy at iteration  147  :  [ 147.  388.  538. 1090.  268.  256.  504.    0.    0.    0.    0.    0.\n",
      "    0.    0.] Expected Profit: 1543242.23827\n",
      "New best strategy at iteration  147  :  [ 147.  388.  539. 1089.  268.  256.  504.    0.    0.    0.    0.    0.\n",
      "    0.    0.] Expected Profit: 1543244.6367699997\n",
      "New best strategy at iteration  147  :  [ 147.  388.  539. 1090.  267.  256.  504.    0.    0.    0.    0.    0.\n",
      "    0.    0.] Expected Profit: 1543247.45047\n",
      "New best strategy at iteration  147  :  [ 147.  388.  539. 1090.  268.  255.  504.    0.    0.    0.    0.    0.\n",
      "    0.    0.] Expected Profit: 1543250.68677\n",
      "New best strategy at iteration  147  :  [ 147.  388.  539. 1090.  268.  256.  503.    0.    0.    0.    0.    0.\n",
      "    0.    0.] Expected Profit: 1543254.34167\n"
     ]
    },
    {
     "name": "stderr",
     "output_type": "stream",
     "text": [
      "  0%|                                                                         | 149/1000000 [00:31<58:10:28,  4.77it/s]"
     ]
    },
    {
     "name": "stdout",
     "output_type": "stream",
     "text": [
      "New best strategy at iteration  148  :  [ 146.  388.  539. 1090.  268.  256.  503.    0.    0.    0.    0.    0.\n",
      "    0.    0.] Expected Profit: 1543257.26597\n",
      "New best strategy at iteration  148  :  [ 147.  387.  539. 1090.  268.  256.  503.    0.    0.    0.    0.    0.\n",
      "    0.    0.] Expected Profit: 1543258.7419699999\n",
      "New best strategy at iteration  148  :  [ 147.  388.  538. 1090.  268.  256.  503.    0.    0.    0.    0.    0.\n",
      "    0.    0.] Expected Profit: 1543260.66097\n",
      "New best strategy at iteration  148  :  [ 147.  388.  539. 1089.  268.  256.  503.    0.    0.    0.    0.    0.\n",
      "    0.    0.] Expected Profit: 1543263.0594699997\n",
      "New best strategy at iteration  148  :  [ 147.  388.  539. 1090.  267.  256.  503.    0.    0.    0.    0.    0.\n",
      "    0.    0.] Expected Profit: 1543265.87317\n",
      "New best strategy at iteration  148  :  [ 147.  388.  539. 1090.  268.  255.  503.    0.    0.    0.    0.    0.\n",
      "    0.    0.] Expected Profit: 1543269.1094699998\n",
      "New best strategy at iteration  148  :  [ 147.  388.  539. 1090.  268.  256.  502.    0.    0.    0.    0.    0.\n",
      "    0.    0.] Expected Profit: 1543272.76437\n",
      "New best strategy at iteration  149  :  [ 146.  388.  539. 1090.  268.  256.  502.    0.    0.    0.    0.    0.\n",
      "    0.    0.] Expected Profit: 1543275.6886699998\n",
      "New best strategy at iteration  149  :  [ 147.  387.  539. 1090.  268.  256.  502.    0.    0.    0.    0.    0.\n",
      "    0.    0.] Expected Profit: 1543277.16467\n",
      "New best strategy at iteration  149  :  [ 147.  388.  538. 1090.  268.  256.  502.    0.    0.    0.    0.    0.\n",
      "    0.    0.] Expected Profit: 1543279.08367\n",
      "New best strategy at iteration  149  :  [ 147.  388.  539. 1089.  268.  256.  502.    0.    0.    0.    0.    0.\n",
      "    0.    0.] Expected Profit: 1543281.4821699997\n",
      "New best strategy at iteration  149  :  [ 147.  388.  539. 1090.  267.  256.  502.    0.    0.    0.    0.    0.\n",
      "    0.    0.] Expected Profit: 1543284.2958699998\n",
      "New best strategy at iteration  149  :  [ 147.  388.  539. 1090.  268.  255.  502.    0.    0.    0.    0.    0.\n",
      "    0.    0.] Expected Profit: 1543287.53217\n",
      "New best strategy at iteration  149  :  [ 147.  388.  539. 1090.  268.  256.  501.    0.    0.    0.    0.    0.\n",
      "    0.    0.] Expected Profit: 1543291.18707\n"
     ]
    },
    {
     "name": "stderr",
     "output_type": "stream",
     "text": [
      "\r",
      "  0%|                                                                         | 150/1000000 [00:31<58:22:31,  4.76it/s]"
     ]
    },
    {
     "name": "stdout",
     "output_type": "stream",
     "text": [
      "New best strategy at iteration  150  :  [ 146.  388.  539. 1090.  268.  256.  501.    0.    0.    0.    0.    0.\n",
      "    0.    0.] Expected Profit: 1543294.1113699998\n",
      "New best strategy at iteration  150  :  [ 147.  387.  539. 1090.  268.  256.  501.    0.    0.    0.    0.    0.\n",
      "    0.    0.] Expected Profit: 1543295.5873699998\n",
      "New best strategy at iteration  150  :  [ 147.  388.  538. 1090.  268.  256.  501.    0.    0.    0.    0.    0.\n",
      "    0.    0.] Expected Profit: 1543297.50637\n",
      "New best strategy at iteration  150  :  [ 147.  388.  539. 1089.  268.  256.  501.    0.    0.    0.    0.    0.\n",
      "    0.    0.] Expected Profit: 1543299.90487\n",
      "New best strategy at iteration  150  :  [ 147.  388.  539. 1090.  267.  256.  501.    0.    0.    0.    0.    0.\n",
      "    0.    0.] Expected Profit: 1543302.71857\n",
      "New best strategy at iteration  150  :  [ 147.  388.  539. 1090.  268.  255.  501.    0.    0.    0.    0.    0.\n",
      "    0.    0.] Expected Profit: 1543305.9548699998\n",
      "New best strategy at iteration  150  :  [ 147.  388.  539. 1090.  268.  256.  500.    0.    0.    0.    0.    0.\n",
      "    0.    0.] Expected Profit: 1543309.60977\n"
     ]
    },
    {
     "name": "stderr",
     "output_type": "stream",
     "text": [
      "  0%|                                                                         | 152/1000000 [00:31<58:00:07,  4.79it/s]"
     ]
    },
    {
     "name": "stdout",
     "output_type": "stream",
     "text": [
      "New best strategy at iteration  151  :  [ 146.  388.  539. 1090.  268.  256.  500.    0.    0.    0.    0.    0.\n",
      "    0.    0.] Expected Profit: 1543312.5340699998\n",
      "New best strategy at iteration  151  :  [ 147.  387.  539. 1090.  268.  256.  500.    0.    0.    0.    0.    0.\n",
      "    0.    0.] Expected Profit: 1543314.0100699998\n",
      "New best strategy at iteration  151  :  [ 147.  388.  538. 1090.  268.  256.  500.    0.    0.    0.    0.    0.\n",
      "    0.    0.] Expected Profit: 1543315.9290699998\n",
      "New best strategy at iteration  151  :  [ 147.  388.  539. 1089.  268.  256.  500.    0.    0.    0.    0.    0.\n",
      "    0.    0.] Expected Profit: 1543318.3275699997\n",
      "New best strategy at iteration  151  :  [ 147.  388.  539. 1090.  267.  256.  500.    0.    0.    0.    0.    0.\n",
      "    0.    0.] Expected Profit: 1543321.14127\n",
      "New best strategy at iteration  151  :  [ 147.  388.  539. 1090.  268.  255.  500.    0.    0.    0.    0.    0.\n",
      "    0.    0.] Expected Profit: 1543324.37757\n",
      "New best strategy at iteration  151  :  [ 147.  388.  539. 1090.  268.  256.  499.    0.    0.    0.    0.    0.\n",
      "    0.    0.] Expected Profit: 1543328.0324699997\n"
     ]
    },
    {
     "name": "stderr",
     "output_type": "stream",
     "text": [
      "\r",
      "  0%|                                                                         | 153/1000000 [00:32<58:14:23,  4.77it/s]"
     ]
    },
    {
     "name": "stdout",
     "output_type": "stream",
     "text": [
      "New best strategy at iteration  152  :  [ 146.  388.  539. 1090.  268.  256.  499.    0.    0.    0.    0.    0.\n",
      "    0.    0.] Expected Profit: 1543330.95677\n",
      "New best strategy at iteration  152  :  [ 147.  387.  539. 1090.  268.  256.  499.    0.    0.    0.    0.    0.\n",
      "    0.    0.] Expected Profit: 1543332.43277\n",
      "New best strategy at iteration  152  :  [ 147.  388.  538. 1090.  268.  256.  499.    0.    0.    0.    0.    0.\n",
      "    0.    0.] Expected Profit: 1543334.35177\n",
      "New best strategy at iteration  152  :  [ 147.  388.  539. 1089.  268.  256.  499.    0.    0.    0.    0.    0.\n",
      "    0.    0.] Expected Profit: 1543336.7502699997\n",
      "New best strategy at iteration  152  :  [ 147.  388.  539. 1090.  267.  256.  499.    0.    0.    0.    0.    0.\n",
      "    0.    0.] Expected Profit: 1543339.56397\n",
      "New best strategy at iteration  152  :  [ 147.  388.  539. 1090.  268.  255.  499.    0.    0.    0.    0.    0.\n",
      "    0.    0.] Expected Profit: 1543342.80027\n",
      "New best strategy at iteration  152  :  [ 147.  388.  539. 1090.  268.  256.  498.    0.    0.    0.    0.    0.\n",
      "    0.    0.] Expected Profit: 1543346.45517\n"
     ]
    },
    {
     "name": "stderr",
     "output_type": "stream",
     "text": [
      "\r",
      "  0%|                                                                         | 154/1000000 [00:32<58:54:18,  4.71it/s]"
     ]
    },
    {
     "name": "stdout",
     "output_type": "stream",
     "text": [
      "New best strategy at iteration  153  :  [ 146.  388.  539. 1090.  268.  256.  498.    0.    0.    0.    0.    0.\n",
      "    0.    0.] Expected Profit: 1543349.3794699998\n",
      "New best strategy at iteration  153  :  [ 147.  387.  539. 1090.  268.  256.  498.    0.    0.    0.    0.    0.\n",
      "    0.    0.] Expected Profit: 1543350.8554699998\n",
      "New best strategy at iteration  153  :  [ 147.  388.  538. 1090.  268.  256.  498.    0.    0.    0.    0.    0.\n",
      "    0.    0.] Expected Profit: 1543352.77447\n",
      "New best strategy at iteration  153  :  [ 147.  388.  539. 1089.  268.  256.  498.    0.    0.    0.    0.    0.\n",
      "    0.    0.] Expected Profit: 1543355.1729699997\n",
      "New best strategy at iteration  153  :  [ 147.  388.  539. 1090.  267.  256.  498.    0.    0.    0.    0.    0.\n",
      "    0.    0.] Expected Profit: 1543357.98667\n",
      "New best strategy at iteration  153  :  [ 147.  388.  539. 1090.  268.  255.  498.    0.    0.    0.    0.    0.\n",
      "    0.    0.] Expected Profit: 1543361.2229699998\n",
      "New best strategy at iteration  153  :  [ 147.  388.  539. 1090.  268.  256.  497.    0.    0.    0.    0.    0.\n",
      "    0.    0.] Expected Profit: 1543364.87787\n",
      "New best strategy at iteration  154  :  [ 146.  388.  539. 1090.  268.  256.  497.    0.    0.    0.    0.    0.\n",
      "    0.    0.] Expected Profit: 1543367.80217\n",
      "New best strategy at iteration  154  :  [ 147.  387.  539. 1090.  268.  256.  497.    0.    0.    0.    0.    0.\n",
      "    0.    0.] Expected Profit: 1543369.27817\n",
      "New best strategy at iteration  154  :  [ 147.  388.  538. 1090.  268.  256.  497.    0.    0.    0.    0.    0.\n",
      "    0.    0.] Expected Profit: 1543371.1971699998\n",
      "New best strategy at iteration  154  :  [ 147.  388.  539. 1089.  268.  256.  497.    0.    0.    0.    0.    0.\n",
      "    0.    0.] Expected Profit: 1543373.5956699995\n",
      "New best strategy at iteration  154  :  [ 147.  388.  539. 1090.  267.  256.  497.    0.    0.    0.    0.    0.\n",
      "    0.    0.] Expected Profit: 1543376.4093699998\n",
      "New best strategy at iteration  154  :  [ 147.  388.  539. 1090.  268.  255.  497.    0.    0.    0.    0.    0.\n",
      "    0.    0.] Expected Profit: 1543379.6456699998\n",
      "New best strategy at iteration  154  :  [ 147.  388.  539. 1090.  268.  256.  496.    0.    0.    0.    0.    0.\n",
      "    0.    0.] Expected Profit: 1543383.30057\n"
     ]
    },
    {
     "name": "stderr",
     "output_type": "stream",
     "text": [
      "\r",
      "  0%|                                                                         | 155/1000000 [00:32<58:49:08,  4.72it/s]"
     ]
    },
    {
     "name": "stdout",
     "output_type": "stream",
     "text": [
      "New best strategy at iteration  155  :  [ 146.  388.  539. 1090.  268.  256.  496.    0.    0.    0.    0.    0.\n",
      "    0.    0.] Expected Profit: 1543386.2248699998\n",
      "New best strategy at iteration  155  :  [ 147.  387.  539. 1090.  268.  256.  496.    0.    0.    0.    0.    0.\n",
      "    0.    0.] Expected Profit: 1543387.7008699998\n",
      "New best strategy at iteration  155  :  [ 147.  388.  538. 1090.  268.  256.  496.    0.    0.    0.    0.    0.\n",
      "    0.    0.] Expected Profit: 1543389.61987\n",
      "New best strategy at iteration  155  :  [ 147.  388.  539. 1089.  268.  256.  496.    0.    0.    0.    0.    0.\n",
      "    0.    0.] Expected Profit: 1543392.01837\n",
      "New best strategy at iteration  155  :  [ 147.  388.  539. 1090.  267.  256.  496.    0.    0.    0.    0.    0.\n",
      "    0.    0.] Expected Profit: 1543394.83207\n",
      "New best strategy at iteration  155  :  [ 147.  388.  539. 1090.  268.  255.  496.    0.    0.    0.    0.    0.\n",
      "    0.    0.] Expected Profit: 1543398.06837\n",
      "New best strategy at iteration  155  :  [ 147.  388.  539. 1090.  268.  256.  495.    0.    0.    0.    0.    0.\n",
      "    0.    0.] Expected Profit: 1543401.72327\n"
     ]
    },
    {
     "name": "stderr",
     "output_type": "stream",
     "text": [
      "  0%|                                                                         | 157/1000000 [00:32<60:17:47,  4.61it/s]"
     ]
    },
    {
     "name": "stdout",
     "output_type": "stream",
     "text": [
      "New best strategy at iteration  156  :  [ 146.  388.  539. 1090.  268.  256.  495.    0.    0.    0.    0.    0.\n",
      "    0.    0.] Expected Profit: 1543404.6475700003\n",
      "New best strategy at iteration  156  :  [ 147.  387.  539. 1090.  268.  256.  495.    0.    0.    0.    0.    0.\n",
      "    0.    0.] Expected Profit: 1543406.1235700003\n",
      "New best strategy at iteration  156  :  [ 147.  388.  538. 1090.  268.  256.  495.    0.    0.    0.    0.    0.\n",
      "    0.    0.] Expected Profit: 1543408.0425700003\n",
      "New best strategy at iteration  156  :  [ 147.  388.  539. 1089.  268.  256.  495.    0.    0.    0.    0.    0.\n",
      "    0.    0.] Expected Profit: 1543410.44107\n",
      "New best strategy at iteration  156  :  [ 147.  388.  539. 1090.  267.  256.  495.    0.    0.    0.    0.    0.\n",
      "    0.    0.] Expected Profit: 1543413.25477\n",
      "New best strategy at iteration  156  :  [ 147.  388.  539. 1090.  268.  255.  495.    0.    0.    0.    0.    0.\n",
      "    0.    0.] Expected Profit: 1543416.49107\n",
      "New best strategy at iteration  156  :  [ 147.  388.  539. 1090.  268.  256.  494.    0.    0.    0.    0.    0.\n",
      "    0.    0.] Expected Profit: 1543420.1459700002\n",
      "New best strategy at iteration  157  :  [ 146.  388.  539. 1090.  268.  256.  494.    0.    0.    0.    0.    0.\n",
      "    0.    0.] Expected Profit: 1543423.07027\n",
      "New best strategy at iteration  157  :  [ 147.  387.  539. 1090.  268.  256.  494.    0.    0.    0.    0.    0.\n",
      "    0.    0.] Expected Profit: 1543424.54627\n",
      "New best strategy at iteration  157  :  [ 147.  388.  538. 1090.  268.  256.  494.    0.    0.    0.    0.    0.\n",
      "    0.    0.] Expected Profit: 1543426.4652700003\n",
      "New best strategy at iteration  157  :  [ 147.  388.  539. 1089.  268.  256.  494.    0.    0.    0.    0.    0.\n",
      "    0.    0.] Expected Profit: 1543428.86377\n",
      "New best strategy at iteration  157  :  [ 147.  388.  539. 1090.  267.  256.  494.    0.    0.    0.    0.    0.\n",
      "    0.    0.] Expected Profit: 1543431.67747\n",
      "New best strategy at iteration  157  :  [ 147.  388.  539. 1090.  268.  255.  494.    0.    0.    0.    0.    0.\n",
      "    0.    0.] Expected Profit: 1543434.91377\n",
      "New best strategy at iteration  157  :  [ 147.  388.  539. 1090.  268.  256.  493.    0.    0.    0.    0.    0.\n",
      "    0.    0.] Expected Profit: 1543438.56867\n"
     ]
    },
    {
     "name": "stderr",
     "output_type": "stream",
     "text": [
      "  0%|                                                                         | 159/1000000 [00:33<62:36:38,  4.44it/s]"
     ]
    },
    {
     "name": "stdout",
     "output_type": "stream",
     "text": [
      "New best strategy at iteration  158  :  [ 146.  388.  539. 1090.  268.  256.  493.    0.    0.    0.    0.    0.\n",
      "    0.    0.] Expected Profit: 1543441.4929699998\n",
      "New best strategy at iteration  158  :  [ 147.  387.  539. 1090.  268.  256.  493.    0.    0.    0.    0.    0.\n",
      "    0.    0.] Expected Profit: 1543442.9689699998\n",
      "New best strategy at iteration  158  :  [ 147.  388.  538. 1090.  268.  256.  493.    0.    0.    0.    0.    0.\n",
      "    0.    0.] Expected Profit: 1543444.88797\n",
      "New best strategy at iteration  158  :  [ 147.  388.  539. 1089.  268.  256.  493.    0.    0.    0.    0.    0.\n",
      "    0.    0.] Expected Profit: 1543447.2864699997\n",
      "New best strategy at iteration  158  :  [ 147.  388.  539. 1090.  267.  256.  493.    0.    0.    0.    0.    0.\n",
      "    0.    0.] Expected Profit: 1543450.1001699998\n",
      "New best strategy at iteration  158  :  [ 147.  388.  539. 1090.  268.  255.  493.    0.    0.    0.    0.    0.\n",
      "    0.    0.] Expected Profit: 1543453.3364699997\n",
      "New best strategy at iteration  158  :  [ 147.  388.  539. 1090.  268.  256.  492.    0.    0.    0.    0.    0.\n",
      "    0.    0.] Expected Profit: 1543456.99137\n"
     ]
    },
    {
     "name": "stderr",
     "output_type": "stream",
     "text": [
      "\r",
      "  0%|                                                                         | 160/1000000 [00:33<61:38:52,  4.51it/s]"
     ]
    },
    {
     "name": "stdout",
     "output_type": "stream",
     "text": [
      "New best strategy at iteration  159  :  [ 146.  388.  539. 1090.  268.  256.  492.    0.    0.    0.    0.    0.\n",
      "    0.    0.] Expected Profit: 1543459.91567\n",
      "New best strategy at iteration  159  :  [ 147.  387.  539. 1090.  268.  256.  492.    0.    0.    0.    0.    0.\n",
      "    0.    0.] Expected Profit: 1543461.3916699998\n",
      "New best strategy at iteration  159  :  [ 147.  388.  538. 1090.  268.  256.  492.    0.    0.    0.    0.    0.\n",
      "    0.    0.] Expected Profit: 1543463.31067\n",
      "New best strategy at iteration  159  :  [ 147.  388.  539. 1089.  268.  256.  492.    0.    0.    0.    0.    0.\n",
      "    0.    0.] Expected Profit: 1543465.70917\n",
      "New best strategy at iteration  159  :  [ 147.  388.  539. 1090.  267.  256.  492.    0.    0.    0.    0.    0.\n",
      "    0.    0.] Expected Profit: 1543468.52287\n",
      "New best strategy at iteration  159  :  [ 147.  388.  539. 1090.  268.  255.  492.    0.    0.    0.    0.    0.\n",
      "    0.    0.] Expected Profit: 1543471.75917\n",
      "New best strategy at iteration  159  :  [ 147.  388.  539. 1090.  268.  256.  491.    0.    0.    0.    0.    0.\n",
      "    0.    0.] Expected Profit: 1543475.4140700002\n"
     ]
    },
    {
     "name": "stderr",
     "output_type": "stream",
     "text": [
      "\r",
      "  0%|                                                                         | 161/1000000 [00:33<60:57:29,  4.56it/s]"
     ]
    },
    {
     "name": "stdout",
     "output_type": "stream",
     "text": [
      "New best strategy at iteration  160  :  [ 146.  388.  539. 1090.  268.  256.  491.    0.    0.    0.    0.    0.\n",
      "    0.    0.] Expected Profit: 1543478.3383699998\n",
      "New best strategy at iteration  160  :  [ 147.  387.  539. 1090.  268.  256.  491.    0.    0.    0.    0.    0.\n",
      "    0.    0.] Expected Profit: 1543479.8143699998\n",
      "New best strategy at iteration  160  :  [ 147.  388.  538. 1090.  268.  256.  491.    0.    0.    0.    0.    0.\n",
      "    0.    0.] Expected Profit: 1543481.73337\n",
      "New best strategy at iteration  160  :  [ 147.  388.  539. 1089.  268.  256.  491.    0.    0.    0.    0.    0.\n",
      "    0.    0.] Expected Profit: 1543484.13187\n",
      "New best strategy at iteration  160  :  [ 147.  388.  539. 1090.  267.  256.  491.    0.    0.    0.    0.    0.\n",
      "    0.    0.] Expected Profit: 1543486.9455700002\n",
      "New best strategy at iteration  160  :  [ 147.  388.  539. 1090.  268.  255.  491.    0.    0.    0.    0.    0.\n",
      "    0.    0.] Expected Profit: 1543490.18187\n",
      "New best strategy at iteration  160  :  [ 147.  388.  539. 1090.  268.  256.  490.    0.    0.    0.    0.    0.\n",
      "    0.    0.] Expected Profit: 1543493.83677\n",
      "New best strategy at iteration  161  :  [ 146.  388.  539. 1090.  268.  256.  490.    0.    0.    0.    0.    0.\n",
      "    0.    0.] Expected Profit: 1543496.76107\n"
     ]
    },
    {
     "name": "stderr",
     "output_type": "stream",
     "text": [
      "\r",
      "  0%|                                                                         | 162/1000000 [00:34<61:00:37,  4.55it/s]"
     ]
    },
    {
     "name": "stdout",
     "output_type": "stream",
     "text": [
      "New best strategy at iteration  161  :  [ 147.  387.  539. 1090.  268.  256.  490.    0.    0.    0.    0.    0.\n",
      "    0.    0.] Expected Profit: 1543498.2370700003\n",
      "New best strategy at iteration  161  :  [ 147.  388.  538. 1090.  268.  256.  490.    0.    0.    0.    0.    0.\n",
      "    0.    0.] Expected Profit: 1543500.1560700003\n",
      "New best strategy at iteration  161  :  [ 147.  388.  539. 1089.  268.  256.  490.    0.    0.    0.    0.    0.\n",
      "    0.    0.] Expected Profit: 1543502.55457\n",
      "New best strategy at iteration  161  :  [ 147.  388.  539. 1090.  267.  256.  490.    0.    0.    0.    0.    0.\n",
      "    0.    0.] Expected Profit: 1543505.36827\n",
      "New best strategy at iteration  161  :  [ 147.  388.  539. 1090.  268.  255.  490.    0.    0.    0.    0.    0.\n",
      "    0.    0.] Expected Profit: 1543508.6045700002\n",
      "New best strategy at iteration  161  :  [ 147.  388.  539. 1090.  268.  256.  489.    0.    0.    0.    0.    0.\n",
      "    0.    0.] Expected Profit: 1543512.25947\n"
     ]
    },
    {
     "name": "stderr",
     "output_type": "stream",
     "text": [
      "\r",
      "  0%|                                                                         | 163/1000000 [00:34<60:14:30,  4.61it/s]"
     ]
    },
    {
     "name": "stdout",
     "output_type": "stream",
     "text": [
      "New best strategy at iteration  162  :  [ 146.  388.  539. 1090.  268.  256.  489.    0.    0.    0.    0.    0.\n",
      "    0.    0.] Expected Profit: 1543515.18377\n",
      "New best strategy at iteration  162  :  [ 147.  387.  539. 1090.  268.  256.  489.    0.    0.    0.    0.    0.\n",
      "    0.    0.] Expected Profit: 1543516.65977\n",
      "New best strategy at iteration  162  :  [ 147.  388.  538. 1090.  268.  256.  489.    0.    0.    0.    0.    0.\n",
      "    0.    0.] Expected Profit: 1543518.57877\n",
      "New best strategy at iteration  162  :  [ 147.  388.  539. 1089.  268.  256.  489.    0.    0.    0.    0.    0.\n",
      "    0.    0.] Expected Profit: 1543520.9772699997\n",
      "New best strategy at iteration  162  :  [ 147.  388.  539. 1090.  267.  256.  489.    0.    0.    0.    0.    0.\n",
      "    0.    0.] Expected Profit: 1543523.7909699997\n",
      "New best strategy at iteration  162  :  [ 147.  388.  539. 1090.  268.  255.  489.    0.    0.    0.    0.    0.\n",
      "    0.    0.] Expected Profit: 1543527.02727\n",
      "New best strategy at iteration  162  :  [ 147.  388.  539. 1090.  268.  256.  488.    0.    0.    0.    0.    0.\n",
      "    0.    0.] Expected Profit: 1543530.6821700002\n",
      "New best strategy at iteration  163  :  [ 146.  388.  539. 1090.  268.  256.  488.    0.    0.    0.    0.    0.\n",
      "    0.    0.] Expected Profit: 1543533.6064699998\n",
      "New best strategy at iteration  163  :  [ 147.  387.  539. 1090.  268.  256.  488.    0.    0.    0.    0.    0.\n",
      "    0.    0.] Expected Profit: 1543535.08247\n",
      "New best strategy at iteration  163  :  [ 147.  388.  538. 1090.  268.  256.  488.    0.    0.    0.    0.    0.\n",
      "    0.    0.] Expected Profit: 1543537.00147\n",
      "New best strategy at iteration  163  :  [ 147.  388.  539. 1089.  268.  256.  488.    0.    0.    0.    0.    0.\n",
      "    0.    0.] Expected Profit: 1543539.3999699997\n",
      "New best strategy at iteration  163  :  [ 147.  388.  539. 1090.  267.  256.  488.    0.    0.    0.    0.    0.\n",
      "    0.    0.] Expected Profit: 1543542.21367\n",
      "New best strategy at iteration  163  :  [ 147.  388.  539. 1090.  268.  255.  488.    0.    0.    0.    0.    0.\n",
      "    0.    0.] Expected Profit: 1543545.4499699997\n",
      "New best strategy at iteration  163  :  [ 147.  388.  539. 1090.  268.  256.  487.    0.    0.    0.    0.    0.\n",
      "    0.    0.] Expected Profit: 1543549.10487\n"
     ]
    },
    {
     "name": "stderr",
     "output_type": "stream",
     "text": [
      "\r",
      "  0%|                                                                         | 164/1000000 [00:34<64:54:40,  4.28it/s]"
     ]
    },
    {
     "name": "stdout",
     "output_type": "stream",
     "text": [
      "New best strategy at iteration  164  :  [ 146.  388.  539. 1090.  268.  256.  487.    0.    0.    0.    0.    0.\n",
      "    0.    0.] Expected Profit: 1543552.02917\n",
      "New best strategy at iteration  164  :  [ 147.  387.  539. 1090.  268.  256.  487.    0.    0.    0.    0.    0.\n",
      "    0.    0.] Expected Profit: 1543553.50517\n",
      "New best strategy at iteration  164  :  [ 147.  388.  538. 1090.  268.  256.  487.    0.    0.    0.    0.    0.\n",
      "    0.    0.] Expected Profit: 1543555.42417\n",
      "New best strategy at iteration  164  :  [ 147.  388.  539. 1089.  268.  256.  487.    0.    0.    0.    0.    0.\n",
      "    0.    0.] Expected Profit: 1543557.82267\n",
      "New best strategy at iteration  164  :  [ 147.  388.  539. 1090.  267.  256.  487.    0.    0.    0.    0.    0.\n",
      "    0.    0.] Expected Profit: 1543560.63637\n",
      "New best strategy at iteration  164  :  [ 147.  388.  539. 1090.  268.  255.  487.    0.    0.    0.    0.    0.\n",
      "    0.    0.] Expected Profit: 1543563.8726700002\n",
      "New best strategy at iteration  164  :  [ 147.  388.  539. 1090.  268.  256.  486.    0.    0.    0.    0.    0.\n",
      "    0.    0.] Expected Profit: 1543567.5275700002\n"
     ]
    },
    {
     "name": "stderr",
     "output_type": "stream",
     "text": [
      "\r",
      "  0%|                                                                         | 165/1000000 [00:34<64:58:28,  4.27it/s]"
     ]
    },
    {
     "name": "stdout",
     "output_type": "stream",
     "text": [
      "New best strategy at iteration  165  :  [ 146.  388.  539. 1090.  268.  256.  486.    0.    0.    0.    0.    0.\n",
      "    0.    0.] Expected Profit: 1543570.45187\n",
      "New best strategy at iteration  165  :  [ 147.  387.  539. 1090.  268.  256.  486.    0.    0.    0.    0.    0.\n",
      "    0.    0.] Expected Profit: 1543571.9278699998\n",
      "New best strategy at iteration  165  :  [ 147.  388.  538. 1090.  268.  256.  486.    0.    0.    0.    0.    0.\n",
      "    0.    0.] Expected Profit: 1543573.84687\n",
      "New best strategy at iteration  165  :  [ 147.  388.  539. 1089.  268.  256.  486.    0.    0.    0.    0.    0.\n",
      "    0.    0.] Expected Profit: 1543576.24537\n",
      "New best strategy at iteration  165  :  [ 147.  388.  539. 1090.  267.  256.  486.    0.    0.    0.    0.    0.\n",
      "    0.    0.] Expected Profit: 1543579.0590700002\n",
      "New best strategy at iteration  165  :  [ 147.  388.  539. 1090.  268.  255.  486.    0.    0.    0.    0.    0.\n",
      "    0.    0.] Expected Profit: 1543582.29537\n",
      "New best strategy at iteration  165  :  [ 147.  388.  539. 1090.  268.  256.  485.    0.    0.    0.    0.    0.\n",
      "    0.    0.] Expected Profit: 1543585.95027\n"
     ]
    },
    {
     "name": "stderr",
     "output_type": "stream",
     "text": [
      "  0%|                                                                         | 167/1000000 [00:35<66:43:29,  4.16it/s]"
     ]
    },
    {
     "name": "stdout",
     "output_type": "stream",
     "text": [
      "New best strategy at iteration  166  :  [ 146.  388.  539. 1090.  268.  256.  485.    0.    0.    0.    0.    0.\n",
      "    0.    0.] Expected Profit: 1543588.8745699998\n",
      "New best strategy at iteration  166  :  [ 147.  387.  539. 1090.  268.  256.  485.    0.    0.    0.    0.    0.\n",
      "    0.    0.] Expected Profit: 1543590.3505699998\n",
      "New best strategy at iteration  166  :  [ 147.  388.  538. 1090.  268.  256.  485.    0.    0.    0.    0.    0.\n",
      "    0.    0.] Expected Profit: 1543592.26957\n",
      "New best strategy at iteration  166  :  [ 147.  388.  539. 1089.  268.  256.  485.    0.    0.    0.    0.    0.\n",
      "    0.    0.] Expected Profit: 1543594.6680699997\n",
      "New best strategy at iteration  166  :  [ 147.  388.  539. 1090.  267.  256.  485.    0.    0.    0.    0.    0.\n",
      "    0.    0.] Expected Profit: 1543597.48177\n",
      "New best strategy at iteration  166  :  [ 147.  388.  539. 1090.  268.  255.  485.    0.    0.    0.    0.    0.\n",
      "    0.    0.] Expected Profit: 1543600.7180699997\n",
      "New best strategy at iteration  166  :  [ 147.  388.  539. 1090.  268.  256.  484.    0.    0.    0.    0.    0.\n",
      "    0.    0.] Expected Profit: 1543604.3729699997\n"
     ]
    },
    {
     "name": "stderr",
     "output_type": "stream",
     "text": [
      "\r",
      "  0%|                                                                         | 168/1000000 [00:35<64:00:38,  4.34it/s]"
     ]
    },
    {
     "name": "stdout",
     "output_type": "stream",
     "text": [
      "New best strategy at iteration  167  :  [ 146.  388.  539. 1090.  268.  256.  484.    0.    0.    0.    0.    0.\n",
      "    0.    0.] Expected Profit: 1543607.29727\n",
      "New best strategy at iteration  167  :  [ 147.  387.  539. 1090.  268.  256.  484.    0.    0.    0.    0.    0.\n",
      "    0.    0.] Expected Profit: 1543608.77327\n",
      "New best strategy at iteration  167  :  [ 147.  388.  538. 1090.  268.  256.  484.    0.    0.    0.    0.    0.\n",
      "    0.    0.] Expected Profit: 1543610.69227\n",
      "New best strategy at iteration  167  :  [ 147.  388.  539. 1089.  268.  256.  484.    0.    0.    0.    0.    0.\n",
      "    0.    0.] Expected Profit: 1543613.0907699997\n",
      "New best strategy at iteration  167  :  [ 147.  388.  539. 1090.  267.  256.  484.    0.    0.    0.    0.    0.\n",
      "    0.    0.] Expected Profit: 1543615.9044699997\n",
      "New best strategy at iteration  167  :  [ 147.  388.  539. 1090.  268.  255.  484.    0.    0.    0.    0.    0.\n",
      "    0.    0.] Expected Profit: 1543619.14077\n",
      "New best strategy at iteration  167  :  [ 147.  388.  539. 1090.  268.  256.  483.    0.    0.    0.    0.    0.\n",
      "    0.    0.] Expected Profit: 1543622.7956700001\n",
      "New best strategy at iteration  168  :  [ 146.  388.  539. 1090.  268.  256.  483.    0.    0.    0.    0.    0.\n",
      "    0.    0.] Expected Profit: 1543625.7199699997\n"
     ]
    },
    {
     "name": "stderr",
     "output_type": "stream",
     "text": [
      "\r",
      "  0%|                                                                         | 169/1000000 [00:35<62:16:02,  4.46it/s]"
     ]
    },
    {
     "name": "stdout",
     "output_type": "stream",
     "text": [
      "New best strategy at iteration  168  :  [ 147.  387.  539. 1090.  268.  256.  483.    0.    0.    0.    0.    0.\n",
      "    0.    0.] Expected Profit: 1543627.1959699998\n",
      "New best strategy at iteration  168  :  [ 147.  388.  538. 1090.  268.  256.  483.    0.    0.    0.    0.    0.\n",
      "    0.    0.] Expected Profit: 1543629.1149700002\n",
      "New best strategy at iteration  168  :  [ 147.  388.  539. 1089.  268.  256.  483.    0.    0.    0.    0.    0.\n",
      "    0.    0.] Expected Profit: 1543631.51347\n",
      "New best strategy at iteration  168  :  [ 147.  388.  539. 1090.  267.  256.  483.    0.    0.    0.    0.    0.\n",
      "    0.    0.] Expected Profit: 1543634.3271700002\n",
      "New best strategy at iteration  168  :  [ 147.  388.  539. 1090.  268.  255.  483.    0.    0.    0.    0.    0.\n",
      "    0.    0.] Expected Profit: 1543637.5634699997\n",
      "New best strategy at iteration  168  :  [ 147.  388.  539. 1090.  268.  256.  482.    0.    0.    0.    0.    0.\n",
      "    0.    0.] Expected Profit: 1543641.21837\n"
     ]
    },
    {
     "name": "stderr",
     "output_type": "stream",
     "text": [
      "\r",
      "  0%|                                                                         | 170/1000000 [00:35<61:15:24,  4.53it/s]"
     ]
    },
    {
     "name": "stdout",
     "output_type": "stream",
     "text": [
      "New best strategy at iteration  169  :  [ 146.  388.  539. 1090.  268.  256.  482.    0.    0.    0.    0.    0.\n",
      "    0.    0.] Expected Profit: 1543644.14267\n",
      "New best strategy at iteration  169  :  [ 147.  387.  539. 1090.  268.  256.  482.    0.    0.    0.    0.    0.\n",
      "    0.    0.] Expected Profit: 1543645.61867\n",
      "New best strategy at iteration  169  :  [ 147.  388.  538. 1090.  268.  256.  482.    0.    0.    0.    0.    0.\n",
      "    0.    0.] Expected Profit: 1543647.53767\n",
      "New best strategy at iteration  169  :  [ 147.  388.  539. 1089.  268.  256.  482.    0.    0.    0.    0.    0.\n",
      "    0.    0.] Expected Profit: 1543649.9361700001\n",
      "New best strategy at iteration  169  :  [ 147.  388.  539. 1090.  267.  256.  482.    0.    0.    0.    0.    0.\n",
      "    0.    0.] Expected Profit: 1543652.74987\n",
      "New best strategy at iteration  169  :  [ 147.  388.  539. 1090.  268.  255.  482.    0.    0.    0.    0.    0.\n",
      "    0.    0.] Expected Profit: 1543655.9861700002\n",
      "New best strategy at iteration  169  :  [ 147.  388.  539. 1090.  268.  256.  481.    0.    0.    0.    0.    0.\n",
      "    0.    0.] Expected Profit: 1543659.6410699997\n"
     ]
    },
    {
     "name": "stderr",
     "output_type": "stream",
     "text": [
      "\r",
      "  0%|                                                                         | 171/1000000 [00:36<60:12:56,  4.61it/s]"
     ]
    },
    {
     "name": "stdout",
     "output_type": "stream",
     "text": [
      "New best strategy at iteration  170  :  [ 146.  388.  539. 1090.  268.  256.  481.    0.    0.    0.    0.    0.\n",
      "    0.    0.] Expected Profit: 1543662.56537\n",
      "New best strategy at iteration  170  :  [ 147.  387.  539. 1090.  268.  256.  481.    0.    0.    0.    0.    0.\n",
      "    0.    0.] Expected Profit: 1543664.04137\n",
      "New best strategy at iteration  170  :  [ 147.  388.  538. 1090.  268.  256.  481.    0.    0.    0.    0.    0.\n",
      "    0.    0.] Expected Profit: 1543665.96037\n",
      "New best strategy at iteration  170  :  [ 147.  388.  539. 1089.  268.  256.  481.    0.    0.    0.    0.    0.\n",
      "    0.    0.] Expected Profit: 1543668.3588699996\n",
      "New best strategy at iteration  170  :  [ 147.  388.  539. 1090.  267.  256.  481.    0.    0.    0.    0.    0.\n",
      "    0.    0.] Expected Profit: 1543671.17257\n",
      "New best strategy at iteration  170  :  [ 147.  388.  539. 1090.  268.  255.  481.    0.    0.    0.    0.    0.\n",
      "    0.    0.] Expected Profit: 1543674.40887\n",
      "New best strategy at iteration  170  :  [ 147.  388.  539. 1090.  268.  256.  480.    0.    0.    0.    0.    0.\n",
      "    0.    0.] Expected Profit: 1543678.06377\n"
     ]
    },
    {
     "name": "stderr",
     "output_type": "stream",
     "text": [
      "\r",
      "  0%|                                                                         | 172/1000000 [00:36<59:31:21,  4.67it/s]"
     ]
    },
    {
     "name": "stdout",
     "output_type": "stream",
     "text": [
      "New best strategy at iteration  171  :  [ 146.  388.  539. 1090.  268.  256.  480.    0.    0.    0.    0.    0.\n",
      "    0.    0.] Expected Profit: 1543680.98807\n",
      "New best strategy at iteration  171  :  [ 147.  387.  539. 1090.  268.  256.  480.    0.    0.    0.    0.    0.\n",
      "    0.    0.] Expected Profit: 1543682.46407\n",
      "New best strategy at iteration  171  :  [ 147.  388.  538. 1090.  268.  256.  480.    0.    0.    0.    0.    0.\n",
      "    0.    0.] Expected Profit: 1543684.3830700002\n",
      "New best strategy at iteration  171  :  [ 147.  388.  539. 1089.  268.  256.  480.    0.    0.    0.    0.    0.\n",
      "    0.    0.] Expected Profit: 1543686.7815699996\n",
      "New best strategy at iteration  171  :  [ 147.  388.  539. 1090.  267.  256.  480.    0.    0.    0.    0.    0.\n",
      "    0.    0.] Expected Profit: 1543689.59527\n",
      "New best strategy at iteration  171  :  [ 147.  388.  539. 1090.  268.  255.  480.    0.    0.    0.    0.    0.\n",
      "    0.    0.] Expected Profit: 1543692.8315699997\n",
      "New best strategy at iteration  171  :  [ 147.  388.  539. 1090.  268.  256.  479.    0.    0.    0.    0.    0.\n",
      "    0.    0.] Expected Profit: 1543696.48647\n"
     ]
    },
    {
     "name": "stderr",
     "output_type": "stream",
     "text": [
      "\r",
      "  0%|                                                                         | 173/1000000 [00:36<58:58:09,  4.71it/s]"
     ]
    },
    {
     "name": "stdout",
     "output_type": "stream",
     "text": [
      "New best strategy at iteration  172  :  [ 146.  388.  539. 1090.  268.  256.  479.    0.    0.    0.    0.    0.\n",
      "    0.    0.] Expected Profit: 1543699.41077\n",
      "New best strategy at iteration  172  :  [ 147.  387.  539. 1090.  268.  256.  479.    0.    0.    0.    0.    0.\n",
      "    0.    0.] Expected Profit: 1543700.88677\n",
      "New best strategy at iteration  172  :  [ 147.  388.  538. 1090.  268.  256.  479.    0.    0.    0.    0.    0.\n",
      "    0.    0.] Expected Profit: 1543702.80577\n",
      "New best strategy at iteration  172  :  [ 147.  388.  539. 1089.  268.  256.  479.    0.    0.    0.    0.    0.\n",
      "    0.    0.] Expected Profit: 1543705.2042699996\n",
      "New best strategy at iteration  172  :  [ 147.  388.  539. 1090.  267.  256.  479.    0.    0.    0.    0.    0.\n",
      "    0.    0.] Expected Profit: 1543708.01797\n",
      "New best strategy at iteration  172  :  [ 147.  388.  539. 1090.  268.  255.  479.    0.    0.    0.    0.    0.\n",
      "    0.    0.] Expected Profit: 1543711.25427\n",
      "New best strategy at iteration  172  :  [ 147.  388.  539. 1090.  268.  256.  478.    0.    0.    0.    0.    0.\n",
      "    0.    0.] Expected Profit: 1543714.90917\n"
     ]
    },
    {
     "name": "stderr",
     "output_type": "stream",
     "text": [
      "\r",
      "  0%|                                                                         | 174/1000000 [00:36<58:43:11,  4.73it/s]"
     ]
    },
    {
     "name": "stdout",
     "output_type": "stream",
     "text": [
      "New best strategy at iteration  173  :  [ 146.  388.  539. 1090.  268.  256.  478.    0.    0.    0.    0.    0.\n",
      "    0.    0.] Expected Profit: 1543717.8334699997\n",
      "New best strategy at iteration  173  :  [ 147.  387.  539. 1090.  268.  256.  478.    0.    0.    0.    0.    0.\n",
      "    0.    0.] Expected Profit: 1543719.30947\n",
      "New best strategy at iteration  173  :  [ 147.  388.  538. 1090.  268.  256.  478.    0.    0.    0.    0.    0.\n",
      "    0.    0.] Expected Profit: 1543721.22847\n",
      "New best strategy at iteration  173  :  [ 147.  388.  539. 1089.  268.  256.  478.    0.    0.    0.    0.    0.\n",
      "    0.    0.] Expected Profit: 1543723.62697\n",
      "New best strategy at iteration  173  :  [ 147.  388.  539. 1090.  267.  256.  478.    0.    0.    0.    0.    0.\n",
      "    0.    0.] Expected Profit: 1543726.4406700002\n",
      "New best strategy at iteration  173  :  [ 147.  388.  539. 1090.  268.  255.  478.    0.    0.    0.    0.    0.\n",
      "    0.    0.] Expected Profit: 1543729.6769699997\n",
      "New best strategy at iteration  173  :  [ 147.  388.  539. 1090.  268.  256.  477.    0.    0.    0.    0.    0.\n",
      "    0.    0.] Expected Profit: 1543733.3318699999\n",
      "New best strategy at iteration  174  :  [ 146.  388.  539. 1090.  268.  256.  477.    0.    0.    0.    0.    0.\n",
      "    0.    0.] Expected Profit: 1543736.25617\n"
     ]
    },
    {
     "name": "stderr",
     "output_type": "stream",
     "text": [
      "\r",
      "  0%|                                                                         | 175/1000000 [00:37<58:30:20,  4.75it/s]"
     ]
    },
    {
     "name": "stdout",
     "output_type": "stream",
     "text": [
      "New best strategy at iteration  174  :  [ 147.  387.  539. 1090.  268.  256.  477.    0.    0.    0.    0.    0.\n",
      "    0.    0.] Expected Profit: 1543737.7321699997\n",
      "New best strategy at iteration  174  :  [ 147.  388.  538. 1090.  268.  256.  477.    0.    0.    0.    0.    0.\n",
      "    0.    0.] Expected Profit: 1543739.65117\n",
      "New best strategy at iteration  174  :  [ 147.  388.  539. 1089.  268.  256.  477.    0.    0.    0.    0.    0.\n",
      "    0.    0.] Expected Profit: 1543742.0496699999\n",
      "New best strategy at iteration  174  :  [ 147.  388.  539. 1090.  267.  256.  477.    0.    0.    0.    0.    0.\n",
      "    0.    0.] Expected Profit: 1543744.86337\n",
      "New best strategy at iteration  174  :  [ 147.  388.  539. 1090.  268.  255.  477.    0.    0.    0.    0.    0.\n",
      "    0.    0.] Expected Profit: 1543748.09967\n",
      "New best strategy at iteration  174  :  [ 147.  388.  539. 1090.  268.  256.  476.    0.    0.    0.    0.    0.\n",
      "    0.    0.] Expected Profit: 1543751.75457\n"
     ]
    },
    {
     "name": "stderr",
     "output_type": "stream",
     "text": [
      "\r",
      "  0%|                                                                         | 176/1000000 [00:37<58:20:12,  4.76it/s]"
     ]
    },
    {
     "name": "stdout",
     "output_type": "stream",
     "text": [
      "New best strategy at iteration  175  :  [ 146.  388.  539. 1090.  268.  256.  476.    0.    0.    0.    0.    0.\n",
      "    0.    0.] Expected Profit: 1543754.67887\n",
      "New best strategy at iteration  175  :  [ 147.  387.  539. 1090.  268.  256.  476.    0.    0.    0.    0.    0.\n",
      "    0.    0.] Expected Profit: 1543756.15487\n",
      "New best strategy at iteration  175  :  [ 147.  388.  538. 1090.  268.  256.  476.    0.    0.    0.    0.    0.\n",
      "    0.    0.] Expected Profit: 1543758.07387\n",
      "New best strategy at iteration  175  :  [ 147.  388.  539. 1089.  268.  256.  476.    0.    0.    0.    0.    0.\n",
      "    0.    0.] Expected Profit: 1543760.4723699996\n",
      "New best strategy at iteration  175  :  [ 147.  388.  539. 1090.  267.  256.  476.    0.    0.    0.    0.    0.\n",
      "    0.    0.] Expected Profit: 1543763.28607\n",
      "New best strategy at iteration  175  :  [ 147.  388.  539. 1090.  268.  255.  476.    0.    0.    0.    0.    0.\n",
      "    0.    0.] Expected Profit: 1543766.52237\n",
      "New best strategy at iteration  175  :  [ 147.  388.  539. 1090.  268.  256.  475.    0.    0.    0.    0.    0.\n",
      "    0.    0.] Expected Profit: 1543770.1772699999\n"
     ]
    },
    {
     "name": "stderr",
     "output_type": "stream",
     "text": [
      "\r",
      "  0%|                                                                         | 177/1000000 [00:37<58:49:16,  4.72it/s]"
     ]
    },
    {
     "name": "stdout",
     "output_type": "stream",
     "text": [
      "New best strategy at iteration  176  :  [ 146.  388.  539. 1090.  268.  256.  475.    0.    0.    0.    0.    0.\n",
      "    0.    0.] Expected Profit: 1543773.10157\n",
      "New best strategy at iteration  176  :  [ 147.  387.  539. 1090.  268.  256.  475.    0.    0.    0.    0.    0.\n",
      "    0.    0.] Expected Profit: 1543774.57757\n",
      "New best strategy at iteration  176  :  [ 147.  388.  538. 1090.  268.  256.  475.    0.    0.    0.    0.    0.\n",
      "    0.    0.] Expected Profit: 1543776.4965700002\n",
      "New best strategy at iteration  176  :  [ 147.  388.  539. 1089.  268.  256.  475.    0.    0.    0.    0.    0.\n",
      "    0.    0.] Expected Profit: 1543778.8950699999\n",
      "New best strategy at iteration  176  :  [ 147.  388.  539. 1090.  267.  256.  475.    0.    0.    0.    0.    0.\n",
      "    0.    0.] Expected Profit: 1543781.70877\n",
      "New best strategy at iteration  176  :  [ 147.  388.  539. 1090.  268.  255.  475.    0.    0.    0.    0.    0.\n",
      "    0.    0.] Expected Profit: 1543784.9450699997\n",
      "New best strategy at iteration  176  :  [ 147.  388.  539. 1090.  268.  256.  474.    0.    0.    0.    0.    0.\n",
      "    0.    0.] Expected Profit: 1543788.5999700003\n"
     ]
    },
    {
     "name": "stderr",
     "output_type": "stream",
     "text": [
      "\r",
      "  0%|                                                                         | 178/1000000 [00:37<58:24:55,  4.75it/s]"
     ]
    },
    {
     "name": "stdout",
     "output_type": "stream",
     "text": [
      "New best strategy at iteration  177  :  [ 146.  388.  539. 1090.  268.  256.  474.    0.    0.    0.    0.    0.\n",
      "    0.    0.] Expected Profit: 1543791.52427\n",
      "New best strategy at iteration  177  :  [ 147.  387.  539. 1090.  268.  256.  474.    0.    0.    0.    0.    0.\n",
      "    0.    0.] Expected Profit: 1543793.00027\n",
      "New best strategy at iteration  177  :  [ 147.  388.  538. 1090.  268.  256.  474.    0.    0.    0.    0.    0.\n",
      "    0.    0.] Expected Profit: 1543794.91927\n",
      "New best strategy at iteration  177  :  [ 147.  388.  539. 1089.  268.  256.  474.    0.    0.    0.    0.    0.\n",
      "    0.    0.] Expected Profit: 1543797.31777\n",
      "New best strategy at iteration  177  :  [ 147.  388.  539. 1090.  267.  256.  474.    0.    0.    0.    0.    0.\n",
      "    0.    0.] Expected Profit: 1543800.1314700004\n",
      "New best strategy at iteration  177  :  [ 147.  388.  539. 1090.  268.  255.  474.    0.    0.    0.    0.    0.\n",
      "    0.    0.] Expected Profit: 1543803.36777\n",
      "New best strategy at iteration  177  :  [ 147.  388.  539. 1090.  268.  256.  473.    0.    0.    0.    0.    0.\n",
      "    0.    0.] Expected Profit: 1543807.0226699996\n"
     ]
    },
    {
     "name": "stderr",
     "output_type": "stream",
     "text": [
      "\r",
      "  0%|                                                                         | 179/1000000 [00:37<58:30:27,  4.75it/s]"
     ]
    },
    {
     "name": "stdout",
     "output_type": "stream",
     "text": [
      "New best strategy at iteration  178  :  [ 146.  388.  539. 1090.  268.  256.  473.    0.    0.    0.    0.    0.\n",
      "    0.    0.] Expected Profit: 1543809.9469699997\n",
      "New best strategy at iteration  178  :  [ 147.  387.  539. 1090.  268.  256.  473.    0.    0.    0.    0.    0.\n",
      "    0.    0.] Expected Profit: 1543811.4229699997\n",
      "New best strategy at iteration  178  :  [ 147.  388.  538. 1090.  268.  256.  473.    0.    0.    0.    0.    0.\n",
      "    0.    0.] Expected Profit: 1543813.3419699997\n",
      "New best strategy at iteration  178  :  [ 147.  388.  539. 1089.  268.  256.  473.    0.    0.    0.    0.    0.\n",
      "    0.    0.] Expected Profit: 1543815.7404699996\n",
      "New best strategy at iteration  178  :  [ 147.  388.  539. 1090.  267.  256.  473.    0.    0.    0.    0.    0.\n",
      "    0.    0.] Expected Profit: 1543818.5541700001\n",
      "New best strategy at iteration  178  :  [ 147.  388.  539. 1090.  268.  255.  473.    0.    0.    0.    0.    0.\n",
      "    0.    0.] Expected Profit: 1543821.79047\n",
      "New best strategy at iteration  178  :  [ 147.  388.  539. 1090.  268.  256.  472.    0.    0.    0.    0.    0.\n",
      "    0.    0.] Expected Profit: 1543825.4453699999\n",
      "New best strategy at iteration  179  :  [ 146.  388.  539. 1090.  268.  256.  472.    0.    0.    0.    0.    0.\n",
      "    0.    0.] Expected Profit: 1543828.3696699997\n",
      "New best strategy at iteration  179  :  [ 147.  387.  539. 1090.  268.  256.  472.    0.    0.    0.    0.    0.\n",
      "    0.    0.] Expected Profit: 1543829.84567\n",
      "New best strategy at iteration  179  :  [ 147.  388.  538. 1090.  268.  256.  472.    0.    0.    0.    0.    0.\n",
      "    0.    0.] Expected Profit: 1543831.7646700002\n",
      "New best strategy at iteration  179  :  [ 147.  388.  539. 1089.  268.  256.  472.    0.    0.    0.    0.    0.\n",
      "    0.    0.] Expected Profit: 1543834.1631699998\n",
      "New best strategy at iteration  179  :  [ 147.  388.  539. 1090.  267.  256.  472.    0.    0.    0.    0.    0.\n",
      "    0.    0.] Expected Profit: 1543836.97687\n",
      "New best strategy at iteration  179  :  [ 147.  388.  539. 1090.  268.  255.  472.    0.    0.    0.    0.    0.\n",
      "    0.    0.] Expected Profit: 1543840.21317\n",
      "New best strategy at iteration  179  :  [ 147.  388.  539. 1090.  268.  256.  471.    0.    0.    0.    0.    0.\n",
      "    0.    0.] Expected Profit: 1543843.8680699999\n"
     ]
    },
    {
     "name": "stderr",
     "output_type": "stream",
     "text": [
      "\r",
      "  0%|                                                                         | 180/1000000 [00:38<58:24:35,  4.75it/s]"
     ]
    },
    {
     "name": "stdout",
     "output_type": "stream",
     "text": [
      "New best strategy at iteration  180  :  [ 146.  388.  539. 1090.  268.  256.  471.    0.    0.    0.    0.    0.\n",
      "    0.    0.] Expected Profit: 1543846.79237\n",
      "New best strategy at iteration  180  :  [ 147.  387.  539. 1090.  268.  256.  471.    0.    0.    0.    0.    0.\n",
      "    0.    0.] Expected Profit: 1543848.26837\n",
      "New best strategy at iteration  180  :  [ 147.  388.  538. 1090.  268.  256.  471.    0.    0.    0.    0.    0.\n",
      "    0.    0.] Expected Profit: 1543850.18737\n",
      "New best strategy at iteration  180  :  [ 147.  388.  539. 1089.  268.  256.  471.    0.    0.    0.    0.    0.\n",
      "    0.    0.] Expected Profit: 1543852.5858699998\n",
      "New best strategy at iteration  180  :  [ 147.  388.  539. 1090.  267.  256.  471.    0.    0.    0.    0.    0.\n",
      "    0.    0.] Expected Profit: 1543855.39957\n",
      "New best strategy at iteration  180  :  [ 147.  388.  539. 1090.  268.  255.  471.    0.    0.    0.    0.    0.\n",
      "    0.    0.] Expected Profit: 1543858.6358699999\n",
      "New best strategy at iteration  180  :  [ 147.  388.  539. 1090.  268.  256.  470.    0.    0.    0.    0.    0.\n",
      "    0.    0.] Expected Profit: 1543862.29077\n"
     ]
    },
    {
     "name": "stderr",
     "output_type": "stream",
     "text": [
      "  0%|                                                                         | 182/1000000 [00:38<58:10:33,  4.77it/s]"
     ]
    },
    {
     "name": "stdout",
     "output_type": "stream",
     "text": [
      "New best strategy at iteration  181  :  [ 146.  388.  539. 1090.  268.  256.  470.    0.    0.    0.    0.    0.\n",
      "    0.    0.] Expected Profit: 1543865.2150700002\n",
      "New best strategy at iteration  181  :  [ 147.  387.  539. 1090.  268.  256.  470.    0.    0.    0.    0.    0.\n",
      "    0.    0.] Expected Profit: 1543866.69107\n",
      "New best strategy at iteration  181  :  [ 147.  388.  538. 1090.  268.  256.  470.    0.    0.    0.    0.    0.\n",
      "    0.    0.] Expected Profit: 1543868.6100700002\n",
      "New best strategy at iteration  181  :  [ 147.  388.  539. 1089.  268.  256.  470.    0.    0.    0.    0.    0.\n",
      "    0.    0.] Expected Profit: 1543871.0085699998\n",
      "New best strategy at iteration  181  :  [ 147.  388.  539. 1090.  267.  256.  470.    0.    0.    0.    0.    0.\n",
      "    0.    0.] Expected Profit: 1543873.82227\n",
      "New best strategy at iteration  181  :  [ 147.  388.  539. 1090.  268.  255.  470.    0.    0.    0.    0.    0.\n",
      "    0.    0.] Expected Profit: 1543877.0585699999\n",
      "New best strategy at iteration  181  :  [ 147.  388.  539. 1090.  268.  256.  469.    0.    0.    0.    0.    0.\n",
      "    0.    0.] Expected Profit: 1543880.7134699998\n",
      "New best strategy at iteration  182  :  [ 146.  388.  539. 1090.  268.  256.  469.    0.    0.    0.    0.    0.\n",
      "    0.    0.] Expected Profit: 1543883.63777\n",
      "New best strategy at iteration  182  :  [ 147.  387.  539. 1090.  268.  256.  469.    0.    0.    0.    0.    0.\n",
      "    0.    0.] Expected Profit: 1543885.11377\n",
      "New best strategy at iteration  182  :  [ 147.  388.  538. 1090.  268.  256.  469.    0.    0.    0.    0.    0.\n",
      "    0.    0.] Expected Profit: 1543887.03277\n",
      "New best strategy at iteration  182  :  [ 147.  388.  539. 1089.  268.  256.  469.    0.    0.    0.    0.    0.\n",
      "    0.    0.] Expected Profit: 1543889.4312699998\n",
      "New best strategy at iteration  182  :  [ 147.  388.  539. 1090.  267.  256.  469.    0.    0.    0.    0.    0.\n",
      "    0.    0.] Expected Profit: 1543892.2449699999\n",
      "New best strategy at iteration  182  :  [ 147.  388.  539. 1090.  268.  255.  469.    0.    0.    0.    0.    0.\n",
      "    0.    0.] Expected Profit: 1543895.4812699996\n",
      "New best strategy at iteration  182  :  [ 147.  388.  539. 1090.  268.  256.  468.    0.    0.    0.    0.    0.\n",
      "    0.    0.] Expected Profit: 1543899.13617\n"
     ]
    },
    {
     "name": "stderr",
     "output_type": "stream",
     "text": [
      "\r",
      "  0%|                                                                         | 183/1000000 [00:38<58:21:51,  4.76it/s]"
     ]
    },
    {
     "name": "stdout",
     "output_type": "stream",
     "text": [
      "New best strategy at iteration  183  :  [ 146.  388.  539. 1090.  268.  256.  468.    0.    0.    0.    0.    0.\n",
      "    0.    0.] Expected Profit: 1543902.0604699997\n",
      "New best strategy at iteration  183  :  [ 147.  387.  539. 1090.  268.  256.  468.    0.    0.    0.    0.    0.\n",
      "    0.    0.] Expected Profit: 1543903.5364699997\n",
      "New best strategy at iteration  183  :  [ 147.  388.  538. 1090.  268.  256.  468.    0.    0.    0.    0.    0.\n",
      "    0.    0.] Expected Profit: 1543905.45547\n",
      "New best strategy at iteration  183  :  [ 147.  388.  539. 1089.  268.  256.  468.    0.    0.    0.    0.    0.\n",
      "    0.    0.] Expected Profit: 1543907.8539699998\n",
      "New best strategy at iteration  183  :  [ 147.  388.  539. 1090.  267.  256.  468.    0.    0.    0.    0.    0.\n",
      "    0.    0.] Expected Profit: 1543910.6676699999\n",
      "New best strategy at iteration  183  :  [ 147.  388.  539. 1090.  268.  255.  468.    0.    0.    0.    0.    0.\n",
      "    0.    0.] Expected Profit: 1543913.9039699999\n",
      "New best strategy at iteration  183  :  [ 147.  388.  539. 1090.  268.  256.  467.    0.    0.    0.    0.    0.\n",
      "    0.    0.] Expected Profit: 1543917.5588699998\n"
     ]
    },
    {
     "name": "stderr",
     "output_type": "stream",
     "text": [
      "  0%|                                                                         | 185/1000000 [00:39<58:27:08,  4.75it/s]"
     ]
    },
    {
     "name": "stdout",
     "output_type": "stream",
     "text": [
      "New best strategy at iteration  184  :  [ 146.  388.  539. 1090.  268.  256.  467.    0.    0.    0.    0.    0.\n",
      "    0.    0.] Expected Profit: 1543920.4831700001\n",
      "New best strategy at iteration  184  :  [ 147.  387.  539. 1090.  268.  256.  467.    0.    0.    0.    0.    0.\n",
      "    0.    0.] Expected Profit: 1543921.95917\n",
      "New best strategy at iteration  184  :  [ 147.  388.  538. 1090.  268.  256.  467.    0.    0.    0.    0.    0.\n",
      "    0.    0.] Expected Profit: 1543923.8781700002\n",
      "New best strategy at iteration  184  :  [ 147.  388.  539. 1089.  268.  256.  467.    0.    0.    0.    0.    0.\n",
      "    0.    0.] Expected Profit: 1543926.2766699998\n",
      "New best strategy at iteration  184  :  [ 147.  388.  539. 1090.  267.  256.  467.    0.    0.    0.    0.    0.\n",
      "    0.    0.] Expected Profit: 1543929.0903699999\n",
      "New best strategy at iteration  184  :  [ 147.  388.  539. 1090.  268.  255.  467.    0.    0.    0.    0.    0.\n",
      "    0.    0.] Expected Profit: 1543932.3266699999\n",
      "New best strategy at iteration  184  :  [ 147.  388.  539. 1090.  268.  256.  466.    0.    0.    0.    0.    0.\n",
      "    0.    0.] Expected Profit: 1543935.98157\n",
      "New best strategy at iteration  185  :  [ 146.  388.  539. 1090.  268.  256.  466.    0.    0.    0.    0.    0.\n",
      "    0.    0.] Expected Profit: 1543938.90587\n",
      "New best strategy at iteration  185  :  [ 147.  387.  539. 1090.  268.  256.  466.    0.    0.    0.    0.    0.\n",
      "    0.    0.] Expected Profit: 1543940.38187\n",
      "New best strategy at iteration  185  :  [ 147.  388.  538. 1090.  268.  256.  466.    0.    0.    0.    0.    0.\n",
      "    0.    0.] Expected Profit: 1543942.30087\n",
      "New best strategy at iteration  185  :  [ 147.  388.  539. 1089.  268.  256.  466.    0.    0.    0.    0.    0.\n",
      "    0.    0.] Expected Profit: 1543944.6993699998\n",
      "New best strategy at iteration  185  :  [ 147.  388.  539. 1090.  267.  256.  466.    0.    0.    0.    0.    0.\n",
      "    0.    0.] Expected Profit: 1543947.51307\n",
      "New best strategy at iteration  185  :  [ 147.  388.  539. 1090.  268.  255.  466.    0.    0.    0.    0.    0.\n",
      "    0.    0.] Expected Profit: 1543950.7493699999\n",
      "New best strategy at iteration  185  :  [ 147.  388.  539. 1090.  268.  256.  465.    0.    0.    0.    0.    0.\n",
      "    0.    0.] Expected Profit: 1543954.40427\n"
     ]
    },
    {
     "name": "stderr",
     "output_type": "stream",
     "text": [
      "  0%|                                                                         | 187/1000000 [00:39<58:19:48,  4.76it/s]"
     ]
    },
    {
     "name": "stdout",
     "output_type": "stream",
     "text": [
      "New best strategy at iteration  186  :  [ 146.  388.  539. 1090.  268.  256.  465.    0.    0.    0.    0.    0.\n",
      "    0.    0.] Expected Profit: 1543957.3285699997\n",
      "New best strategy at iteration  186  :  [ 147.  387.  539. 1090.  268.  256.  465.    0.    0.    0.    0.    0.\n",
      "    0.    0.] Expected Profit: 1543958.80457\n",
      "New best strategy at iteration  186  :  [ 147.  388.  538. 1090.  268.  256.  465.    0.    0.    0.    0.    0.\n",
      "    0.    0.] Expected Profit: 1543960.7235700001\n",
      "New best strategy at iteration  186  :  [ 147.  388.  539. 1089.  268.  256.  465.    0.    0.    0.    0.    0.\n",
      "    0.    0.] Expected Profit: 1543963.1220699998\n",
      "New best strategy at iteration  186  :  [ 147.  388.  539. 1090.  267.  256.  465.    0.    0.    0.    0.    0.\n",
      "    0.    0.] Expected Profit: 1543965.9357699999\n",
      "New best strategy at iteration  186  :  [ 147.  388.  539. 1090.  268.  255.  465.    0.    0.    0.    0.    0.\n",
      "    0.    0.] Expected Profit: 1543969.1720699996\n",
      "New best strategy at iteration  186  :  [ 147.  388.  539. 1090.  268.  256.  464.    0.    0.    0.    0.    0.\n",
      "    0.    0.] Expected Profit: 1543972.8269699998\n"
     ]
    },
    {
     "name": "stderr",
     "output_type": "stream",
     "text": [
      "\r",
      "  0%|                                                                         | 188/1000000 [00:39<58:23:37,  4.76it/s]"
     ]
    },
    {
     "name": "stdout",
     "output_type": "stream",
     "text": [
      "New best strategy at iteration  187  :  [ 146.  388.  539. 1090.  268.  256.  464.    0.    0.    0.    0.    0.\n",
      "    0.    0.] Expected Profit: 1543975.75127\n",
      "New best strategy at iteration  187  :  [ 147.  387.  539. 1090.  268.  256.  464.    0.    0.    0.    0.    0.\n",
      "    0.    0.] Expected Profit: 1543977.22727\n",
      "New best strategy at iteration  187  :  [ 147.  388.  538. 1090.  268.  256.  464.    0.    0.    0.    0.    0.\n",
      "    0.    0.] Expected Profit: 1543979.14627\n",
      "New best strategy at iteration  187  :  [ 147.  388.  539. 1089.  268.  256.  464.    0.    0.    0.    0.    0.\n",
      "    0.    0.] Expected Profit: 1543981.5447699998\n",
      "New best strategy at iteration  187  :  [ 147.  388.  539. 1090.  267.  256.  464.    0.    0.    0.    0.    0.\n",
      "    0.    0.] Expected Profit: 1543984.3584699999\n",
      "New best strategy at iteration  187  :  [ 147.  388.  539. 1090.  268.  255.  464.    0.    0.    0.    0.    0.\n",
      "    0.    0.] Expected Profit: 1543987.5947699999\n",
      "New best strategy at iteration  187  :  [ 147.  388.  539. 1090.  268.  256.  463.    0.    0.    0.    0.    0.\n",
      "    0.    0.] Expected Profit: 1543991.24967\n",
      "New best strategy at iteration  188  :  [ 146.  388.  539. 1090.  268.  256.  463.    0.    0.    0.    0.    0.\n",
      "    0.    0.] Expected Profit: 1543994.17397\n",
      "New best strategy at iteration  188  :  [ 147.  387.  539. 1090.  268.  256.  463.    0.    0.    0.    0.    0.\n",
      "    0.    0.] Expected Profit: 1543995.6499699997\n",
      "New best strategy at iteration  188  :  [ 147.  388.  538. 1090.  268.  256.  463.    0.    0.    0.    0.    0.\n",
      "    0.    0.] Expected Profit: 1543997.5689700001\n",
      "New best strategy at iteration  188  :  [ 147.  388.  539. 1089.  268.  256.  463.    0.    0.    0.    0.    0.\n",
      "    0.    0.] Expected Profit: 1543999.96747\n",
      "New best strategy at iteration  188  :  [ 147.  388.  539. 1090.  267.  256.  463.    0.    0.    0.    0.    0.\n",
      "    0.    0.] Expected Profit: 1544002.78117\n",
      "New best strategy at iteration  188  :  [ 147.  388.  539. 1090.  268.  255.  463.    0.    0.    0.    0.    0.\n",
      "    0.    0.] Expected Profit: 1544006.0174699998\n",
      "New best strategy at iteration  188  :  [ 147.  388.  539. 1090.  268.  256.  462.    0.    0.    0.    0.    0.\n",
      "    0.    0.] Expected Profit: 1544009.6723699998\n"
     ]
    },
    {
     "name": "stderr",
     "output_type": "stream",
     "text": [
      "\r",
      "  0%|                                                                         | 189/1000000 [00:39<58:32:19,  4.74it/s]"
     ]
    },
    {
     "name": "stdout",
     "output_type": "stream",
     "text": [
      "New best strategy at iteration  189  :  [ 146.  388.  539. 1090.  268.  256.  462.    0.    0.    0.    0.    0.\n",
      "    0.    0.] Expected Profit: 1544012.59667\n",
      "New best strategy at iteration  189  :  [ 147.  387.  539. 1090.  268.  256.  462.    0.    0.    0.    0.    0.\n",
      "    0.    0.] Expected Profit: 1544014.07267\n",
      "New best strategy at iteration  189  :  [ 147.  388.  538. 1090.  268.  256.  462.    0.    0.    0.    0.    0.\n",
      "    0.    0.] Expected Profit: 1544015.9916700001\n",
      "New best strategy at iteration  189  :  [ 147.  388.  539. 1089.  268.  256.  462.    0.    0.    0.    0.    0.\n",
      "    0.    0.] Expected Profit: 1544018.3901699998\n",
      "New best strategy at iteration  189  :  [ 147.  388.  539. 1090.  267.  256.  462.    0.    0.    0.    0.    0.\n",
      "    0.    0.] Expected Profit: 1544021.2038699999\n",
      "New best strategy at iteration  189  :  [ 147.  388.  539. 1090.  268.  255.  462.    0.    0.    0.    0.    0.\n",
      "    0.    0.] Expected Profit: 1544024.44017\n",
      "New best strategy at iteration  189  :  [ 147.  388.  539. 1090.  268.  256.  461.    0.    0.    0.    0.    0.\n",
      "    0.    0.] Expected Profit: 1544028.0950699998\n"
     ]
    },
    {
     "name": "stderr",
     "output_type": "stream",
     "text": [
      "  0%|                                                                         | 191/1000000 [00:40<58:08:32,  4.78it/s]"
     ]
    },
    {
     "name": "stdout",
     "output_type": "stream",
     "text": [
      "New best strategy at iteration  190  :  [ 146.  388.  539. 1090.  268.  256.  461.    0.    0.    0.    0.    0.\n",
      "    0.    0.] Expected Profit: 1544031.0193699999\n",
      "New best strategy at iteration  190  :  [ 147.  387.  539. 1090.  268.  256.  461.    0.    0.    0.    0.    0.\n",
      "    0.    0.] Expected Profit: 1544032.49537\n",
      "New best strategy at iteration  190  :  [ 147.  388.  538. 1090.  268.  256.  461.    0.    0.    0.    0.    0.\n",
      "    0.    0.] Expected Profit: 1544034.41437\n",
      "New best strategy at iteration  190  :  [ 147.  388.  539. 1089.  268.  256.  461.    0.    0.    0.    0.    0.\n",
      "    0.    0.] Expected Profit: 1544036.8128699996\n",
      "New best strategy at iteration  190  :  [ 147.  388.  539. 1090.  267.  256.  461.    0.    0.    0.    0.    0.\n",
      "    0.    0.] Expected Profit: 1544039.6265699996\n",
      "New best strategy at iteration  190  :  [ 147.  388.  539. 1090.  268.  255.  461.    0.    0.    0.    0.    0.\n",
      "    0.    0.] Expected Profit: 1544042.8628699998\n",
      "New best strategy at iteration  190  :  [ 147.  388.  539. 1090.  268.  256.  460.    0.    0.    0.    0.    0.\n",
      "    0.    0.] Expected Profit: 1544046.51777\n"
     ]
    },
    {
     "name": "stderr",
     "output_type": "stream",
     "text": [
      "\r",
      "  0%|                                                                         | 192/1000000 [00:40<58:12:55,  4.77it/s]"
     ]
    },
    {
     "name": "stdout",
     "output_type": "stream",
     "text": [
      "New best strategy at iteration  191  :  [ 146.  388.  539. 1090.  268.  256.  460.    0.    0.    0.    0.    0.\n",
      "    0.    0.] Expected Profit: 1544049.4420699996\n",
      "New best strategy at iteration  191  :  [ 147.  387.  539. 1090.  268.  256.  460.    0.    0.    0.    0.    0.\n",
      "    0.    0.] Expected Profit: 1544050.91807\n",
      "New best strategy at iteration  191  :  [ 147.  388.  538. 1090.  268.  256.  460.    0.    0.    0.    0.    0.\n",
      "    0.    0.] Expected Profit: 1544052.83707\n",
      "New best strategy at iteration  191  :  [ 147.  388.  539. 1089.  268.  256.  460.    0.    0.    0.    0.    0.\n",
      "    0.    0.] Expected Profit: 1544055.23557\n",
      "New best strategy at iteration  191  :  [ 147.  388.  539. 1090.  267.  256.  460.    0.    0.    0.    0.    0.\n",
      "    0.    0.] Expected Profit: 1544058.04927\n",
      "New best strategy at iteration  191  :  [ 147.  388.  539. 1090.  268.  255.  460.    0.    0.    0.    0.    0.\n",
      "    0.    0.] Expected Profit: 1544061.2855699998\n",
      "New best strategy at iteration  191  :  [ 147.  388.  539. 1090.  268.  256.  459.    0.    0.    0.    0.    0.\n",
      "    0.    0.] Expected Profit: 1544064.94047\n",
      "New best strategy at iteration  192  :  [ 146.  388.  539. 1090.  268.  256.  459.    0.    0.    0.    0.    0.\n",
      "    0.    0.] Expected Profit: 1544067.8647699999\n",
      "New best strategy at iteration  192  :  [ 147.  387.  539. 1090.  268.  256.  459.    0.    0.    0.    0.    0.\n",
      "    0.    0.] Expected Profit: 1544069.34077\n",
      "New best strategy at iteration  192  :  [ 147.  388.  538. 1090.  268.  256.  459.    0.    0.    0.    0.    0.\n",
      "    0.    0.] Expected Profit: 1544071.25977\n",
      "New best strategy at iteration  192  :  [ 147.  388.  539. 1089.  268.  256.  459.    0.    0.    0.    0.    0.\n",
      "    0.    0.] Expected Profit: 1544073.65827\n",
      "New best strategy at iteration  192  :  [ 147.  388.  539. 1090.  267.  256.  459.    0.    0.    0.    0.    0.\n",
      "    0.    0.] Expected Profit: 1544076.4719699998\n",
      "New best strategy at iteration  192  :  [ 147.  388.  539. 1090.  268.  255.  459.    0.    0.    0.    0.    0.\n",
      "    0.    0.] Expected Profit: 1544079.70827\n",
      "New best strategy at iteration  192  :  [ 147.  388.  539. 1090.  268.  256.  458.    0.    0.    0.    0.    0.\n",
      "    0.    0.] Expected Profit: 1544083.36317\n"
     ]
    },
    {
     "name": "stderr",
     "output_type": "stream",
     "text": [
      "  0%|                                                                         | 194/1000000 [00:41<59:23:23,  4.68it/s]"
     ]
    },
    {
     "name": "stdout",
     "output_type": "stream",
     "text": [
      "New best strategy at iteration  193  :  [ 146.  388.  539. 1090.  268.  256.  458.    0.    0.    0.    0.    0.\n",
      "    0.    0.] Expected Profit: 1544086.28747\n",
      "New best strategy at iteration  193  :  [ 147.  387.  539. 1090.  268.  256.  458.    0.    0.    0.    0.    0.\n",
      "    0.    0.] Expected Profit: 1544087.7634700001\n",
      "New best strategy at iteration  193  :  [ 147.  388.  538. 1090.  268.  256.  458.    0.    0.    0.    0.    0.\n",
      "    0.    0.] Expected Profit: 1544089.6824700003\n",
      "New best strategy at iteration  193  :  [ 147.  388.  539. 1089.  268.  256.  458.    0.    0.    0.    0.    0.\n",
      "    0.    0.] Expected Profit: 1544092.08097\n",
      "New best strategy at iteration  193  :  [ 147.  388.  539. 1090.  267.  256.  458.    0.    0.    0.    0.    0.\n",
      "    0.    0.] Expected Profit: 1544094.89467\n",
      "New best strategy at iteration  193  :  [ 147.  388.  539. 1090.  268.  255.  458.    0.    0.    0.    0.    0.\n",
      "    0.    0.] Expected Profit: 1544098.13097\n",
      "New best strategy at iteration  193  :  [ 147.  388.  539. 1090.  268.  256.  457.    0.    0.    0.    0.    0.\n",
      "    0.    0.] Expected Profit: 1544101.7858699998\n",
      "New best strategy at iteration  194  :  [ 146.  388.  539. 1090.  268.  256.  457.    0.    0.    0.    0.    0.\n",
      "    0.    0.] Expected Profit: 1544104.7101699996\n",
      "New best strategy at iteration  194  :  [ 147.  387.  539. 1090.  268.  256.  457.    0.    0.    0.    0.    0.\n",
      "    0.    0.] Expected Profit: 1544106.18617\n",
      "New best strategy at iteration  194  :  [ 147.  388.  538. 1090.  268.  256.  457.    0.    0.    0.    0.    0.\n",
      "    0.    0.] Expected Profit: 1544108.10517\n",
      "New best strategy at iteration  194  :  [ 147.  388.  539. 1089.  268.  256.  457.    0.    0.    0.    0.    0.\n",
      "    0.    0.] Expected Profit: 1544110.5036699995\n",
      "New best strategy at iteration  194  :  [ 147.  388.  539. 1090.  267.  256.  457.    0.    0.    0.    0.    0.\n",
      "    0.    0.] Expected Profit: 1544113.3173699998\n",
      "New best strategy at iteration  194  :  [ 147.  388.  539. 1090.  268.  255.  457.    0.    0.    0.    0.    0.\n",
      "    0.    0.] Expected Profit: 1544116.5536699996\n",
      "New best strategy at iteration  194  :  [ 147.  388.  539. 1090.  268.  256.  456.    0.    0.    0.    0.    0.\n",
      "    0.    0.] Expected Profit: 1544120.2085700002\n"
     ]
    },
    {
     "name": "stderr",
     "output_type": "stream",
     "text": [
      "  0%|                                                                         | 196/1000000 [00:41<59:05:38,  4.70it/s]"
     ]
    },
    {
     "name": "stdout",
     "output_type": "stream",
     "text": [
      "New best strategy at iteration  195  :  [ 146.  388.  539. 1090.  268.  256.  456.    0.    0.    0.    0.    0.\n",
      "    0.    0.] Expected Profit: 1544123.1328699999\n",
      "New best strategy at iteration  195  :  [ 147.  387.  539. 1090.  268.  256.  456.    0.    0.    0.    0.    0.\n",
      "    0.    0.] Expected Profit: 1544124.6088699999\n",
      "New best strategy at iteration  195  :  [ 147.  388.  538. 1090.  268.  256.  456.    0.    0.    0.    0.    0.\n",
      "    0.    0.] Expected Profit: 1544126.5278699999\n",
      "New best strategy at iteration  195  :  [ 147.  388.  539. 1089.  268.  256.  456.    0.    0.    0.    0.    0.\n",
      "    0.    0.] Expected Profit: 1544128.92637\n",
      "New best strategy at iteration  195  :  [ 147.  388.  539. 1090.  267.  256.  456.    0.    0.    0.    0.    0.\n",
      "    0.    0.] Expected Profit: 1544131.7400699998\n",
      "New best strategy at iteration  195  :  [ 147.  388.  539. 1090.  268.  255.  456.    0.    0.    0.    0.    0.\n",
      "    0.    0.] Expected Profit: 1544134.9763699998\n",
      "New best strategy at iteration  195  :  [ 147.  388.  539. 1090.  268.  256.  455.    0.    0.    0.    0.    0.\n",
      "    0.    0.] Expected Profit: 1544138.63127\n",
      "New best strategy at iteration  196  :  [ 146.  388.  539. 1090.  268.  256.  455.    0.    0.    0.    0.    0.\n",
      "    0.    0.] Expected Profit: 1544141.5555699999\n"
     ]
    },
    {
     "name": "stderr",
     "output_type": "stream",
     "text": [
      "\r",
      "  0%|                                                                         | 197/1000000 [00:41<58:50:08,  4.72it/s]"
     ]
    },
    {
     "name": "stdout",
     "output_type": "stream",
     "text": [
      "New best strategy at iteration  196  :  [ 147.  387.  539. 1090.  268.  256.  455.    0.    0.    0.    0.    0.\n",
      "    0.    0.] Expected Profit: 1544143.0315699996\n",
      "New best strategy at iteration  196  :  [ 147.  388.  538. 1090.  268.  256.  455.    0.    0.    0.    0.    0.\n",
      "    0.    0.] Expected Profit: 1544144.95057\n",
      "New best strategy at iteration  196  :  [ 147.  388.  539. 1089.  268.  256.  455.    0.    0.    0.    0.    0.\n",
      "    0.    0.] Expected Profit: 1544147.34907\n",
      "New best strategy at iteration  196  :  [ 147.  388.  539. 1090.  267.  256.  455.    0.    0.    0.    0.    0.\n",
      "    0.    0.] Expected Profit: 1544150.16277\n",
      "New best strategy at iteration  196  :  [ 147.  388.  539. 1090.  268.  255.  455.    0.    0.    0.    0.    0.\n",
      "    0.    0.] Expected Profit: 1544153.39907\n",
      "New best strategy at iteration  196  :  [ 147.  388.  539. 1090.  268.  256.  454.    0.    0.    0.    0.    0.\n",
      "    0.    0.] Expected Profit: 1544157.05397\n",
      "New best strategy at iteration  197  :  [ 146.  388.  539. 1090.  268.  256.  454.    0.    0.    0.    0.    0.\n",
      "    0.    0.] Expected Profit: 1544159.97827\n",
      "New best strategy at iteration  197  :  [ 147.  387.  539. 1090.  268.  256.  454.    0.    0.    0.    0.    0.\n",
      "    0.    0.] Expected Profit: 1544161.4542699999\n"
     ]
    },
    {
     "name": "stderr",
     "output_type": "stream",
     "text": [
      "\r",
      "  0%|                                                                         | 198/1000000 [00:41<59:26:07,  4.67it/s]"
     ]
    },
    {
     "name": "stdout",
     "output_type": "stream",
     "text": [
      "New best strategy at iteration  197  :  [ 147.  388.  538. 1090.  268.  256.  454.    0.    0.    0.    0.    0.\n",
      "    0.    0.] Expected Profit: 1544163.3732700003\n",
      "New best strategy at iteration  197  :  [ 147.  388.  539. 1089.  268.  256.  454.    0.    0.    0.    0.    0.\n",
      "    0.    0.] Expected Profit: 1544165.77177\n",
      "New best strategy at iteration  197  :  [ 147.  388.  539. 1090.  267.  256.  454.    0.    0.    0.    0.    0.\n",
      "    0.    0.] Expected Profit: 1544168.58547\n",
      "New best strategy at iteration  197  :  [ 147.  388.  539. 1090.  268.  255.  454.    0.    0.    0.    0.    0.\n",
      "    0.    0.] Expected Profit: 1544171.82177\n",
      "New best strategy at iteration  197  :  [ 147.  388.  539. 1090.  268.  256.  453.    0.    0.    0.    0.    0.\n",
      "    0.    0.] Expected Profit: 1544175.4766699998\n",
      "New best strategy at iteration  198  :  [ 146.  388.  539. 1090.  268.  256.  453.    0.    0.    0.    0.    0.\n",
      "    0.    0.] Expected Profit: 1544178.4009699998\n",
      "New best strategy at iteration  198  :  [ 147.  387.  539. 1090.  268.  256.  453.    0.    0.    0.    0.    0.\n",
      "    0.    0.] Expected Profit: 1544179.87697\n"
     ]
    },
    {
     "name": "stderr",
     "output_type": "stream",
     "text": [
      "\r",
      "  0%|                                                                         | 199/1000000 [00:42<60:40:44,  4.58it/s]"
     ]
    },
    {
     "name": "stdout",
     "output_type": "stream",
     "text": [
      "New best strategy at iteration  198  :  [ 147.  388.  538. 1090.  268.  256.  453.    0.    0.    0.    0.    0.\n",
      "    0.    0.] Expected Profit: 1544181.79597\n",
      "New best strategy at iteration  198  :  [ 147.  388.  539. 1089.  268.  256.  453.    0.    0.    0.    0.    0.\n",
      "    0.    0.] Expected Profit: 1544184.1944699998\n",
      "New best strategy at iteration  198  :  [ 147.  388.  539. 1090.  267.  256.  453.    0.    0.    0.    0.    0.\n",
      "    0.    0.] Expected Profit: 1544187.00817\n",
      "New best strategy at iteration  198  :  [ 147.  388.  539. 1090.  268.  255.  453.    0.    0.    0.    0.    0.\n",
      "    0.    0.] Expected Profit: 1544190.2444699998\n",
      "New best strategy at iteration  198  :  [ 147.  388.  539. 1090.  268.  256.  452.    0.    0.    0.    0.    0.\n",
      "    0.    0.] Expected Profit: 1544193.89937\n",
      "New best strategy at iteration  199  :  [ 146.  388.  539. 1090.  268.  256.  452.    0.    0.    0.    0.    0.\n",
      "    0.    0.] Expected Profit: 1544196.82367\n"
     ]
    },
    {
     "name": "stderr",
     "output_type": "stream",
     "text": [
      "\r",
      "  0%|                                                                         | 200/1000000 [00:42<60:11:17,  4.61it/s]"
     ]
    },
    {
     "name": "stdout",
     "output_type": "stream",
     "text": [
      "New best strategy at iteration  199  :  [ 147.  387.  539. 1090.  268.  256.  452.    0.    0.    0.    0.    0.\n",
      "    0.    0.] Expected Profit: 1544198.2996699999\n",
      "New best strategy at iteration  199  :  [ 147.  388.  538. 1090.  268.  256.  452.    0.    0.    0.    0.    0.\n",
      "    0.    0.] Expected Profit: 1544200.21867\n",
      "New best strategy at iteration  199  :  [ 147.  388.  539. 1089.  268.  256.  452.    0.    0.    0.    0.    0.\n",
      "    0.    0.] Expected Profit: 1544202.6171699998\n",
      "New best strategy at iteration  199  :  [ 147.  388.  539. 1090.  267.  256.  452.    0.    0.    0.    0.    0.\n",
      "    0.    0.] Expected Profit: 1544205.4308699998\n",
      "New best strategy at iteration  199  :  [ 147.  388.  539. 1090.  268.  255.  452.    0.    0.    0.    0.    0.\n",
      "    0.    0.] Expected Profit: 1544208.6671699998\n",
      "New best strategy at iteration  199  :  [ 147.  388.  539. 1090.  268.  256.  451.    0.    0.    0.    0.    0.\n",
      "    0.    0.] Expected Profit: 1544212.32207\n"
     ]
    },
    {
     "name": "stderr",
     "output_type": "stream",
     "text": [
      "\r",
      "  0%|                                                                         | 201/1000000 [00:42<60:06:27,  4.62it/s]"
     ]
    },
    {
     "name": "stdout",
     "output_type": "stream",
     "text": [
      "New best strategy at iteration  200  :  [ 146.  388.  539. 1090.  268.  256.  451.    0.    0.    0.    0.    0.\n",
      "    0.    0.] Expected Profit: 1544215.2463699998\n",
      "New best strategy at iteration  200  :  [ 147.  387.  539. 1090.  268.  256.  451.    0.    0.    0.    0.    0.\n",
      "    0.    0.] Expected Profit: 1544216.7223699999\n",
      "New best strategy at iteration  200  :  [ 147.  388.  538. 1090.  268.  256.  451.    0.    0.    0.    0.    0.\n",
      "    0.    0.] Expected Profit: 1544218.64137\n",
      "New best strategy at iteration  200  :  [ 147.  388.  539. 1089.  268.  256.  451.    0.    0.    0.    0.    0.\n",
      "    0.    0.] Expected Profit: 1544221.03987\n",
      "New best strategy at iteration  200  :  [ 147.  388.  539. 1090.  267.  256.  451.    0.    0.    0.    0.    0.\n",
      "    0.    0.] Expected Profit: 1544223.8535700003\n",
      "New best strategy at iteration  200  :  [ 147.  388.  539. 1090.  268.  255.  451.    0.    0.    0.    0.    0.\n",
      "    0.    0.] Expected Profit: 1544227.08987\n",
      "New best strategy at iteration  200  :  [ 147.  388.  539. 1090.  268.  256.  450.    0.    0.    0.    0.    0.\n",
      "    0.    0.] Expected Profit: 1544230.74477\n"
     ]
    },
    {
     "name": "stderr",
     "output_type": "stream",
     "text": [
      "\r",
      "  0%|                                                                         | 202/1000000 [00:42<59:47:30,  4.64it/s]"
     ]
    },
    {
     "name": "stdout",
     "output_type": "stream",
     "text": [
      "New best strategy at iteration  201  :  [ 146.  388.  539. 1090.  268.  256.  450.    0.    0.    0.    0.    0.\n",
      "    0.    0.] Expected Profit: 1544233.6690699996\n",
      "New best strategy at iteration  201  :  [ 147.  387.  539. 1090.  268.  256.  450.    0.    0.    0.    0.    0.\n",
      "    0.    0.] Expected Profit: 1544235.1450699999\n",
      "New best strategy at iteration  201  :  [ 147.  388.  538. 1090.  268.  256.  450.    0.    0.    0.    0.    0.\n",
      "    0.    0.] Expected Profit: 1544237.06407\n",
      "New best strategy at iteration  201  :  [ 147.  388.  539. 1089.  268.  256.  450.    0.    0.    0.    0.    0.\n",
      "    0.    0.] Expected Profit: 1544239.46257\n",
      "New best strategy at iteration  201  :  [ 147.  388.  539. 1090.  267.  256.  450.    0.    0.    0.    0.    0.\n",
      "    0.    0.] Expected Profit: 1544242.27627\n",
      "New best strategy at iteration  201  :  [ 147.  388.  539. 1090.  268.  255.  450.    0.    0.    0.    0.    0.\n",
      "    0.    0.] Expected Profit: 1544245.5125700003\n",
      "New best strategy at iteration  201  :  [ 147.  388.  539. 1090.  268.  256.  449.    0.    0.    0.    0.    0.\n",
      "    0.    0.] Expected Profit: 1544249.1674699998\n"
     ]
    },
    {
     "name": "stderr",
     "output_type": "stream",
     "text": [
      "\r",
      "  0%|                                                                         | 203/1000000 [00:42<59:02:30,  4.70it/s]"
     ]
    },
    {
     "name": "stdout",
     "output_type": "stream",
     "text": [
      "New best strategy at iteration  202  :  [ 146.  388.  539. 1090.  268.  256.  449.    0.    0.    0.    0.    0.\n",
      "    0.    0.] Expected Profit: 1544252.0917699998\n",
      "New best strategy at iteration  202  :  [ 147.  387.  539. 1090.  268.  256.  449.    0.    0.    0.    0.    0.\n",
      "    0.    0.] Expected Profit: 1544253.5677699998\n",
      "New best strategy at iteration  202  :  [ 147.  388.  538. 1090.  268.  256.  449.    0.    0.    0.    0.    0.\n",
      "    0.    0.] Expected Profit: 1544255.48677\n",
      "New best strategy at iteration  202  :  [ 147.  388.  539. 1089.  268.  256.  449.    0.    0.    0.    0.    0.\n",
      "    0.    0.] Expected Profit: 1544257.8852699997\n",
      "New best strategy at iteration  202  :  [ 147.  388.  539. 1090.  267.  256.  449.    0.    0.    0.    0.    0.\n",
      "    0.    0.] Expected Profit: 1544260.6989699998\n",
      "New best strategy at iteration  202  :  [ 147.  388.  539. 1090.  268.  255.  449.    0.    0.    0.    0.    0.\n",
      "    0.    0.] Expected Profit: 1544263.9352699998\n",
      "New best strategy at iteration  202  :  [ 147.  388.  539. 1090.  268.  256.  448.    0.    0.    0.    0.    0.\n",
      "    0.    0.] Expected Profit: 1544267.5901699997\n"
     ]
    },
    {
     "name": "stderr",
     "output_type": "stream",
     "text": [
      "\r",
      "  0%|                                                                         | 204/1000000 [00:43<58:53:12,  4.72it/s]"
     ]
    },
    {
     "name": "stdout",
     "output_type": "stream",
     "text": [
      "New best strategy at iteration  203  :  [ 146.  388.  539. 1090.  268.  256.  448.    0.    0.    0.    0.    0.\n",
      "    0.    0.] Expected Profit: 1544270.5144699998\n",
      "New best strategy at iteration  203  :  [ 147.  387.  539. 1090.  268.  256.  448.    0.    0.    0.    0.    0.\n",
      "    0.    0.] Expected Profit: 1544271.99047\n",
      "New best strategy at iteration  203  :  [ 147.  388.  538. 1090.  268.  256.  448.    0.    0.    0.    0.    0.\n",
      "    0.    0.] Expected Profit: 1544273.9094699998\n",
      "New best strategy at iteration  203  :  [ 147.  388.  539. 1089.  268.  256.  448.    0.    0.    0.    0.    0.\n",
      "    0.    0.] Expected Profit: 1544276.3079699997\n",
      "New best strategy at iteration  203  :  [ 147.  388.  539. 1090.  267.  256.  448.    0.    0.    0.    0.    0.\n",
      "    0.    0.] Expected Profit: 1544279.12167\n",
      "New best strategy at iteration  203  :  [ 147.  388.  539. 1090.  268.  255.  448.    0.    0.    0.    0.    0.\n",
      "    0.    0.] Expected Profit: 1544282.3579699998\n",
      "New best strategy at iteration  203  :  [ 147.  388.  539. 1090.  268.  256.  447.    0.    0.    0.    0.    0.\n",
      "    0.    0.] Expected Profit: 1544286.01287\n",
      "New best strategy at iteration  204  :  [ 146.  388.  539. 1090.  268.  256.  447.    0.    0.    0.    0.    0.\n",
      "    0.    0.] Expected Profit: 1544288.93717\n",
      "New best strategy at iteration  204  :  [ 147.  387.  539. 1090.  268.  256.  447.    0.    0.    0.    0.    0.\n",
      "    0.    0.] Expected Profit: 1544290.4131699998\n",
      "New best strategy at iteration  204  :  [ 147.  388.  538. 1090.  268.  256.  447.    0.    0.    0.    0.    0.\n",
      "    0.    0.] Expected Profit: 1544292.33217\n",
      "New best strategy at iteration  204  :  [ 147.  388.  539. 1089.  268.  256.  447.    0.    0.    0.    0.    0.\n",
      "    0.    0.] Expected Profit: 1544294.7306699997\n",
      "New best strategy at iteration  204  :  [ 147.  388.  539. 1090.  267.  256.  447.    0.    0.    0.    0.    0.\n",
      "    0.    0.] Expected Profit: 1544297.5443699998\n",
      "New best strategy at iteration  204  :  [ 147.  388.  539. 1090.  268.  255.  447.    0.    0.    0.    0.    0.\n",
      "    0.    0.] Expected Profit: 1544300.7806699998\n",
      "New best strategy at iteration  204  :  [ 147.  388.  539. 1090.  268.  256.  446.    0.    0.    0.    0.    0.\n",
      "    0.    0.] Expected Profit: 1544304.4355700002\n"
     ]
    },
    {
     "name": "stderr",
     "output_type": "stream",
     "text": [
      "\r",
      "  0%|                                                                         | 205/1000000 [00:43<58:31:22,  4.75it/s]"
     ]
    },
    {
     "name": "stdout",
     "output_type": "stream",
     "text": [
      "New best strategy at iteration  205  :  [ 146.  388.  539. 1090.  268.  256.  446.    0.    0.    0.    0.    0.\n",
      "    0.    0.] Expected Profit: 1544307.3598699998\n",
      "New best strategy at iteration  205  :  [ 147.  387.  539. 1090.  268.  256.  446.    0.    0.    0.    0.    0.\n",
      "    0.    0.] Expected Profit: 1544308.8358699998\n",
      "New best strategy at iteration  205  :  [ 147.  388.  538. 1090.  268.  256.  446.    0.    0.    0.    0.    0.\n",
      "    0.    0.] Expected Profit: 1544310.75487\n",
      "New best strategy at iteration  205  :  [ 147.  388.  539. 1089.  268.  256.  446.    0.    0.    0.    0.    0.\n",
      "    0.    0.] Expected Profit: 1544313.15337\n",
      "New best strategy at iteration  205  :  [ 147.  388.  539. 1090.  267.  256.  446.    0.    0.    0.    0.    0.\n",
      "    0.    0.] Expected Profit: 1544315.9670700002\n",
      "New best strategy at iteration  205  :  [ 147.  388.  539. 1090.  268.  255.  446.    0.    0.    0.    0.    0.\n",
      "    0.    0.] Expected Profit: 1544319.2033700002\n",
      "New best strategy at iteration  205  :  [ 147.  388.  539. 1090.  268.  256.  445.    0.    0.    0.    0.    0.\n",
      "    0.    0.] Expected Profit: 1544322.85827\n"
     ]
    },
    {
     "name": "stderr",
     "output_type": "stream",
     "text": [
      "\r",
      "  0%|                                                                         | 206/1000000 [00:43<58:55:02,  4.71it/s]"
     ]
    },
    {
     "name": "stdout",
     "output_type": "stream",
     "text": [
      "New best strategy at iteration  206  :  [ 146.  388.  539. 1090.  268.  256.  445.    0.    0.    0.    0.    0.\n",
      "    0.    0.] Expected Profit: 1544325.7825699998\n",
      "New best strategy at iteration  206  :  [ 147.  387.  539. 1090.  268.  256.  445.    0.    0.    0.    0.    0.\n",
      "    0.    0.] Expected Profit: 1544327.2585699998\n",
      "New best strategy at iteration  206  :  [ 147.  388.  538. 1090.  268.  256.  445.    0.    0.    0.    0.    0.\n",
      "    0.    0.] Expected Profit: 1544329.1775699998\n",
      "New best strategy at iteration  206  :  [ 147.  388.  539. 1089.  268.  256.  445.    0.    0.    0.    0.    0.\n",
      "    0.    0.] Expected Profit: 1544331.57607\n",
      "New best strategy at iteration  206  :  [ 147.  388.  539. 1090.  267.  256.  445.    0.    0.    0.    0.    0.\n",
      "    0.    0.] Expected Profit: 1544334.38977\n",
      "New best strategy at iteration  206  :  [ 147.  388.  539. 1090.  268.  255.  445.    0.    0.    0.    0.    0.\n",
      "    0.    0.] Expected Profit: 1544337.6260699998\n",
      "New best strategy at iteration  206  :  [ 147.  388.  539. 1090.  268.  256.  444.    0.    0.    0.    0.    0.\n",
      "    0.    0.] Expected Profit: 1544341.2809699997\n"
     ]
    },
    {
     "name": "stderr",
     "output_type": "stream",
     "text": [
      "  0%|                                                                         | 208/1000000 [00:44<59:35:34,  4.66it/s]"
     ]
    },
    {
     "name": "stdout",
     "output_type": "stream",
     "text": [
      "New best strategy at iteration  207  :  [ 146.  388.  539. 1090.  268.  256.  444.    0.    0.    0.    0.    0.\n",
      "    0.    0.] Expected Profit: 1544344.20527\n",
      "New best strategy at iteration  207  :  [ 147.  387.  539. 1090.  268.  256.  444.    0.    0.    0.    0.    0.\n",
      "    0.    0.] Expected Profit: 1544345.6812699998\n",
      "New best strategy at iteration  207  :  [ 147.  388.  538. 1090.  268.  256.  444.    0.    0.    0.    0.    0.\n",
      "    0.    0.] Expected Profit: 1544347.60027\n",
      "New best strategy at iteration  207  :  [ 147.  388.  539. 1089.  268.  256.  444.    0.    0.    0.    0.    0.\n",
      "    0.    0.] Expected Profit: 1544349.99877\n",
      "New best strategy at iteration  207  :  [ 147.  388.  539. 1090.  267.  256.  444.    0.    0.    0.    0.    0.\n",
      "    0.    0.] Expected Profit: 1544352.8124699998\n",
      "New best strategy at iteration  207  :  [ 147.  388.  539. 1090.  268.  255.  444.    0.    0.    0.    0.    0.\n",
      "    0.    0.] Expected Profit: 1544356.0487699998\n",
      "New best strategy at iteration  207  :  [ 147.  388.  539. 1090.  268.  256.  443.    0.    0.    0.    0.    0.\n",
      "    0.    0.] Expected Profit: 1544359.7036700002\n"
     ]
    },
    {
     "name": "stderr",
     "output_type": "stream",
     "text": [
      "\r",
      "  0%|                                                                         | 209/1000000 [00:44<59:20:19,  4.68it/s]"
     ]
    },
    {
     "name": "stdout",
     "output_type": "stream",
     "text": [
      "New best strategy at iteration  208  :  [ 146.  388.  539. 1090.  268.  256.  443.    0.    0.    0.    0.    0.\n",
      "    0.    0.] Expected Profit: 1544362.6279699998\n",
      "New best strategy at iteration  208  :  [ 147.  387.  539. 1090.  268.  256.  443.    0.    0.    0.    0.    0.\n",
      "    0.    0.] Expected Profit: 1544364.1039699998\n",
      "New best strategy at iteration  208  :  [ 147.  388.  538. 1090.  268.  256.  443.    0.    0.    0.    0.    0.\n",
      "    0.    0.] Expected Profit: 1544366.0229700003\n",
      "New best strategy at iteration  208  :  [ 147.  388.  539. 1089.  268.  256.  443.    0.    0.    0.    0.    0.\n",
      "    0.    0.] Expected Profit: 1544368.42147\n",
      "New best strategy at iteration  208  :  [ 147.  388.  539. 1090.  267.  256.  443.    0.    0.    0.    0.    0.\n",
      "    0.    0.] Expected Profit: 1544371.23517\n",
      "New best strategy at iteration  208  :  [ 147.  388.  539. 1090.  268.  255.  443.    0.    0.    0.    0.    0.\n",
      "    0.    0.] Expected Profit: 1544374.47147\n",
      "New best strategy at iteration  208  :  [ 147.  388.  539. 1090.  268.  256.  442.    0.    0.    0.    0.    0.\n",
      "    0.    0.] Expected Profit: 1544378.1263700002\n",
      "New best strategy at iteration  209  :  [ 146.  388.  539. 1090.  268.  256.  442.    0.    0.    0.    0.    0.\n",
      "    0.    0.] Expected Profit: 1544381.05067\n",
      "New best strategy at iteration  209  :  [ 147.  387.  539. 1090.  268.  256.  442.    0.    0.    0.    0.    0.\n",
      "    0.    0.] Expected Profit: 1544382.52667\n",
      "New best strategy at iteration  209  :  [ 147.  388.  538. 1090.  268.  256.  442.    0.    0.    0.    0.    0.\n",
      "    0.    0.] Expected Profit: 1544384.44567\n",
      "New best strategy at iteration  209  :  [ 147.  388.  539. 1089.  268.  256.  442.    0.    0.    0.    0.    0.\n",
      "    0.    0.] Expected Profit: 1544386.8441700002\n",
      "New best strategy at iteration  209  :  [ 147.  388.  539. 1090.  267.  256.  442.    0.    0.    0.    0.    0.\n",
      "    0.    0.] Expected Profit: 1544389.65787\n",
      "New best strategy at iteration  209  :  [ 147.  388.  539. 1090.  268.  255.  442.    0.    0.    0.    0.    0.\n",
      "    0.    0.] Expected Profit: 1544392.89417\n",
      "New best strategy at iteration  209  :  [ 147.  388.  539. 1090.  268.  256.  441.    0.    0.    0.    0.    0.\n",
      "    0.    0.] Expected Profit: 1544396.5490699997\n"
     ]
    },
    {
     "name": "stderr",
     "output_type": "stream",
     "text": [
      "  0%|                                                                         | 211/1000000 [00:44<59:14:54,  4.69it/s]"
     ]
    },
    {
     "name": "stdout",
     "output_type": "stream",
     "text": [
      "New best strategy at iteration  210  :  [ 146.  388.  539. 1090.  268.  256.  441.    0.    0.    0.    0.    0.\n",
      "    0.    0.] Expected Profit: 1544399.4733699998\n",
      "New best strategy at iteration  210  :  [ 147.  387.  539. 1090.  268.  256.  441.    0.    0.    0.    0.    0.\n",
      "    0.    0.] Expected Profit: 1544400.9493699998\n",
      "New best strategy at iteration  210  :  [ 147.  388.  538. 1090.  268.  256.  441.    0.    0.    0.    0.    0.\n",
      "    0.    0.] Expected Profit: 1544402.8683699998\n",
      "New best strategy at iteration  210  :  [ 147.  388.  539. 1089.  268.  256.  441.    0.    0.    0.    0.    0.\n",
      "    0.    0.] Expected Profit: 1544405.26687\n",
      "New best strategy at iteration  210  :  [ 147.  388.  539. 1090.  267.  256.  441.    0.    0.    0.    0.    0.\n",
      "    0.    0.] Expected Profit: 1544408.0805699998\n",
      "New best strategy at iteration  210  :  [ 147.  388.  539. 1090.  268.  255.  441.    0.    0.    0.    0.    0.\n",
      "    0.    0.] Expected Profit: 1544411.3168699997\n",
      "New best strategy at iteration  210  :  [ 147.  388.  539. 1090.  268.  256.  440.    0.    0.    0.    0.    0.\n",
      "    0.    0.] Expected Profit: 1544414.97177\n",
      "New best strategy at iteration  211  :  [ 146.  388.  539. 1090.  268.  256.  440.    0.    0.    0.    0.    0.\n",
      "    0.    0.] Expected Profit: 1544417.8960699998\n",
      "New best strategy at iteration  211  :  [ 147.  387.  539. 1090.  268.  256.  440.    0.    0.    0.    0.    0.\n",
      "    0.    0.] Expected Profit: 1544419.37207\n",
      "New best strategy at iteration  211  :  [ 147.  388.  538. 1090.  268.  256.  440.    0.    0.    0.    0.    0.\n",
      "    0.    0.] Expected Profit: 1544421.2910700003\n",
      "New best strategy at iteration  211  :  [ 147.  388.  539. 1089.  268.  256.  440.    0.    0.    0.    0.    0.\n",
      "    0.    0.] Expected Profit: 1544423.6895700002\n",
      "New best strategy at iteration  211  :  [ 147.  388.  539. 1090.  267.  256.  440.    0.    0.    0.    0.    0.\n",
      "    0.    0.] Expected Profit: 1544426.50327\n",
      "New best strategy at iteration  211  :  [ 147.  388.  539. 1090.  268.  255.  440.    0.    0.    0.    0.    0.\n",
      "    0.    0.] Expected Profit: 1544429.73957\n",
      "New best strategy at iteration  211  :  [ 147.  388.  539. 1090.  268.  256.  439.    0.    0.    0.    0.    0.\n",
      "    0.    0.] Expected Profit: 1544433.39447\n"
     ]
    },
    {
     "name": "stderr",
     "output_type": "stream",
     "text": [
      "\r",
      "  0%|                                                                         | 212/1000000 [00:44<59:34:12,  4.66it/s]"
     ]
    },
    {
     "name": "stdout",
     "output_type": "stream",
     "text": [
      "New best strategy at iteration  212  :  [ 146.  388.  539. 1090.  268.  256.  439.    0.    0.    0.    0.    0.\n",
      "    0.    0.] Expected Profit: 1544436.31877\n",
      "New best strategy at iteration  212  :  [ 147.  387.  539. 1090.  268.  256.  439.    0.    0.    0.    0.    0.\n",
      "    0.    0.] Expected Profit: 1544437.79477\n",
      "New best strategy at iteration  212  :  [ 147.  388.  538. 1090.  268.  256.  439.    0.    0.    0.    0.    0.\n",
      "    0.    0.] Expected Profit: 1544439.71377\n",
      "New best strategy at iteration  212  :  [ 147.  388.  539. 1089.  268.  256.  439.    0.    0.    0.    0.    0.\n",
      "    0.    0.] Expected Profit: 1544442.11227\n",
      "New best strategy at iteration  212  :  [ 147.  388.  539. 1090.  267.  256.  439.    0.    0.    0.    0.    0.\n",
      "    0.    0.] Expected Profit: 1544444.9259699997\n",
      "New best strategy at iteration  212  :  [ 147.  388.  539. 1090.  268.  255.  439.    0.    0.    0.    0.    0.\n",
      "    0.    0.] Expected Profit: 1544448.1622699997\n",
      "New best strategy at iteration  212  :  [ 147.  388.  539. 1090.  268.  256.  438.    0.    0.    0.    0.    0.\n",
      "    0.    0.] Expected Profit: 1544451.8171700002\n"
     ]
    },
    {
     "name": "stderr",
     "output_type": "stream",
     "text": [
      "  0%|                                                                         | 214/1000000 [00:45<61:24:02,  4.52it/s]"
     ]
    },
    {
     "name": "stdout",
     "output_type": "stream",
     "text": [
      "New best strategy at iteration  213  :  [ 146.  388.  539. 1090.  268.  256.  438.    0.    0.    0.    0.    0.\n",
      "    0.    0.] Expected Profit: 1544454.7414699998\n",
      "New best strategy at iteration  213  :  [ 147.  387.  539. 1090.  268.  256.  438.    0.    0.    0.    0.    0.\n",
      "    0.    0.] Expected Profit: 1544456.21747\n",
      "New best strategy at iteration  213  :  [ 147.  388.  538. 1090.  268.  256.  438.    0.    0.    0.    0.    0.\n",
      "    0.    0.] Expected Profit: 1544458.1364700003\n",
      "New best strategy at iteration  213  :  [ 147.  388.  539. 1089.  268.  256.  438.    0.    0.    0.    0.    0.\n",
      "    0.    0.] Expected Profit: 1544460.5349699997\n",
      "New best strategy at iteration  213  :  [ 147.  388.  539. 1090.  267.  256.  438.    0.    0.    0.    0.    0.\n",
      "    0.    0.] Expected Profit: 1544463.34867\n",
      "New best strategy at iteration  213  :  [ 147.  388.  539. 1090.  268.  255.  438.    0.    0.    0.    0.    0.\n",
      "    0.    0.] Expected Profit: 1544466.58497\n",
      "New best strategy at iteration  213  :  [ 147.  388.  539. 1090.  268.  256.  437.    0.    0.    0.    0.    0.\n",
      "    0.    0.] Expected Profit: 1544470.23987\n",
      "New best strategy at iteration  214  :  [ 146.  388.  539. 1090.  268.  256.  437.    0.    0.    0.    0.    0.\n",
      "    0.    0.] Expected Profit: 1544473.1641699995\n",
      "New best strategy at iteration  214  :  [ 147.  387.  539. 1090.  268.  256.  437.    0.    0.    0.    0.    0.\n",
      "    0.    0.] Expected Profit: 1544474.6401699998\n",
      "New best strategy at iteration  214  :  [ 147.  388.  538. 1090.  268.  256.  437.    0.    0.    0.    0.    0.\n",
      "    0.    0.] Expected Profit: 1544476.5591699998\n",
      "New best strategy at iteration  214  :  [ 147.  388.  539. 1089.  268.  256.  437.    0.    0.    0.    0.    0.\n",
      "    0.    0.] Expected Profit: 1544478.95767\n",
      "New best strategy at iteration  214  :  [ 147.  388.  539. 1090.  267.  256.  437.    0.    0.    0.    0.    0.\n",
      "    0.    0.] Expected Profit: 1544481.77137\n",
      "New best strategy at iteration  214  :  [ 147.  388.  539. 1090.  268.  255.  437.    0.    0.    0.    0.    0.\n",
      "    0.    0.] Expected Profit: 1544485.0076699997\n",
      "New best strategy at iteration  214  :  [ 147.  388.  539. 1090.  268.  256.  436.    0.    0.    0.    0.    0.\n",
      "    0.    0.] Expected Profit: 1544488.66257\n"
     ]
    },
    {
     "name": "stderr",
     "output_type": "stream",
     "text": [
      "\r",
      "  0%|                                                                         | 215/1000000 [00:45<60:56:55,  4.56it/s]"
     ]
    },
    {
     "name": "stdout",
     "output_type": "stream",
     "text": [
      "New best strategy at iteration  215  :  [ 146.  388.  539. 1090.  268.  256.  436.    0.    0.    0.    0.    0.\n",
      "    0.    0.] Expected Profit: 1544491.58687\n",
      "New best strategy at iteration  215  :  [ 147.  387.  539. 1090.  268.  256.  436.    0.    0.    0.    0.    0.\n",
      "    0.    0.] Expected Profit: 1544493.0628699998\n",
      "New best strategy at iteration  215  :  [ 147.  388.  538. 1090.  268.  256.  436.    0.    0.    0.    0.    0.\n",
      "    0.    0.] Expected Profit: 1544494.9818699998\n",
      "New best strategy at iteration  215  :  [ 147.  388.  539. 1089.  268.  256.  436.    0.    0.    0.    0.    0.\n",
      "    0.    0.] Expected Profit: 1544497.38037\n",
      "New best strategy at iteration  215  :  [ 147.  388.  539. 1090.  267.  256.  436.    0.    0.    0.    0.    0.\n",
      "    0.    0.] Expected Profit: 1544500.19407\n",
      "New best strategy at iteration  215  :  [ 147.  388.  539. 1090.  268.  255.  436.    0.    0.    0.    0.    0.\n",
      "    0.    0.] Expected Profit: 1544503.43037\n",
      "New best strategy at iteration  215  :  [ 147.  388.  539. 1090.  268.  256.  435.    0.    0.    0.    0.    0.\n",
      "    0.    0.] Expected Profit: 1544507.08527\n"
     ]
    },
    {
     "name": "stderr",
     "output_type": "stream",
     "text": [
      "\r",
      "  0%|                                                                         | 216/1000000 [00:45<60:26:47,  4.59it/s]"
     ]
    },
    {
     "name": "stdout",
     "output_type": "stream",
     "text": [
      "New best strategy at iteration  216  :  [ 146.  388.  539. 1090.  268.  256.  435.    0.    0.    0.    0.    0.\n",
      "    0.    0.] Expected Profit: 1544510.0095699998\n",
      "New best strategy at iteration  216  :  [ 147.  387.  539. 1090.  268.  256.  435.    0.    0.    0.    0.    0.\n",
      "    0.    0.] Expected Profit: 1544511.48557\n",
      "New best strategy at iteration  216  :  [ 147.  388.  538. 1090.  268.  256.  435.    0.    0.    0.    0.    0.\n",
      "    0.    0.] Expected Profit: 1544513.4045700002\n",
      "New best strategy at iteration  216  :  [ 147.  388.  539. 1089.  268.  256.  435.    0.    0.    0.    0.    0.\n",
      "    0.    0.] Expected Profit: 1544515.8030699997\n",
      "New best strategy at iteration  216  :  [ 147.  388.  539. 1090.  267.  256.  435.    0.    0.    0.    0.    0.\n",
      "    0.    0.] Expected Profit: 1544518.61677\n",
      "New best strategy at iteration  216  :  [ 147.  388.  539. 1090.  268.  255.  435.    0.    0.    0.    0.    0.\n",
      "    0.    0.] Expected Profit: 1544521.85307\n",
      "New best strategy at iteration  216  :  [ 147.  388.  539. 1090.  268.  256.  434.    0.    0.    0.    0.    0.\n",
      "    0.    0.] Expected Profit: 1544525.5079700002\n"
     ]
    },
    {
     "name": "stderr",
     "output_type": "stream",
     "text": [
      "  0%|                                                                         | 218/1000000 [00:46<59:39:35,  4.66it/s]"
     ]
    },
    {
     "name": "stdout",
     "output_type": "stream",
     "text": [
      "New best strategy at iteration  217  :  [ 146.  388.  539. 1090.  268.  256.  434.    0.    0.    0.    0.    0.\n",
      "    0.    0.] Expected Profit: 1544528.43227\n",
      "New best strategy at iteration  217  :  [ 147.  387.  539. 1090.  268.  256.  434.    0.    0.    0.    0.    0.\n",
      "    0.    0.] Expected Profit: 1544529.90827\n",
      "New best strategy at iteration  217  :  [ 147.  388.  538. 1090.  268.  256.  434.    0.    0.    0.    0.    0.\n",
      "    0.    0.] Expected Profit: 1544531.82727\n",
      "New best strategy at iteration  217  :  [ 147.  388.  539. 1089.  268.  256.  434.    0.    0.    0.    0.    0.\n",
      "    0.    0.] Expected Profit: 1544534.22577\n",
      "New best strategy at iteration  217  :  [ 147.  388.  539. 1090.  267.  256.  434.    0.    0.    0.    0.    0.\n",
      "    0.    0.] Expected Profit: 1544537.03947\n",
      "New best strategy at iteration  217  :  [ 147.  388.  539. 1090.  268.  255.  434.    0.    0.    0.    0.    0.\n",
      "    0.    0.] Expected Profit: 1544540.27577\n",
      "New best strategy at iteration  217  :  [ 147.  388.  539. 1090.  268.  256.  433.    0.    0.    0.    0.    0.\n",
      "    0.    0.] Expected Profit: 1544543.9306700001\n"
     ]
    },
    {
     "name": "stderr",
     "output_type": "stream",
     "text": [
      "\r",
      "  0%|                                                                         | 219/1000000 [00:46<59:31:59,  4.66it/s]"
     ]
    },
    {
     "name": "stdout",
     "output_type": "stream",
     "text": [
      "New best strategy at iteration  218  :  [ 146.  388.  539. 1090.  268.  256.  433.    0.    0.    0.    0.    0.\n",
      "    0.    0.] Expected Profit: 1544546.8549699998\n",
      "New best strategy at iteration  218  :  [ 147.  387.  539. 1090.  268.  256.  433.    0.    0.    0.    0.    0.\n",
      "    0.    0.] Expected Profit: 1544548.3309699998\n",
      "New best strategy at iteration  218  :  [ 147.  388.  538. 1090.  268.  256.  433.    0.    0.    0.    0.    0.\n",
      "    0.    0.] Expected Profit: 1544550.2499699998\n",
      "New best strategy at iteration  218  :  [ 147.  388.  539. 1089.  268.  256.  433.    0.    0.    0.    0.    0.\n",
      "    0.    0.] Expected Profit: 1544552.64847\n",
      "New best strategy at iteration  218  :  [ 147.  388.  539. 1090.  267.  256.  433.    0.    0.    0.    0.    0.\n",
      "    0.    0.] Expected Profit: 1544555.4621700002\n",
      "New best strategy at iteration  218  :  [ 147.  388.  539. 1090.  268.  255.  433.    0.    0.    0.    0.    0.\n",
      "    0.    0.] Expected Profit: 1544558.6984699997\n",
      "New best strategy at iteration  218  :  [ 147.  388.  539. 1090.  268.  256.  432.    0.    0.    0.    0.    0.\n",
      "    0.    0.] Expected Profit: 1544562.35337\n",
      "New best strategy at iteration  219  :  [ 146.  388.  539. 1090.  268.  256.  432.    0.    0.    0.    0.    0.\n",
      "    0.    0.] Expected Profit: 1544565.27767\n",
      "New best strategy at iteration  219  :  [ 147.  387.  539. 1090.  268.  256.  432.    0.    0.    0.    0.    0.\n",
      "    0.    0.] Expected Profit: 1544566.75367\n",
      "New best strategy at iteration  219  :  [ 147.  388.  538. 1090.  268.  256.  432.    0.    0.    0.    0.    0.\n",
      "    0.    0.] Expected Profit: 1544568.67267\n",
      "New best strategy at iteration  219  :  [ 147.  388.  539. 1089.  268.  256.  432.    0.    0.    0.    0.    0.\n",
      "    0.    0.] Expected Profit: 1544571.07117\n",
      "New best strategy at iteration  219  :  [ 147.  388.  539. 1090.  267.  256.  432.    0.    0.    0.    0.    0.\n",
      "    0.    0.] Expected Profit: 1544573.88487\n",
      "New best strategy at iteration  219  :  [ 147.  388.  539. 1090.  268.  255.  432.    0.    0.    0.    0.    0.\n",
      "    0.    0.] Expected Profit: 1544577.12117\n",
      "New best strategy at iteration  219  :  [ 147.  388.  539. 1090.  268.  256.  431.    0.    0.    0.    0.    0.\n",
      "    0.    0.] Expected Profit: 1544580.7760700001\n"
     ]
    },
    {
     "name": "stderr",
     "output_type": "stream",
     "text": [
      "  0%|                                                                         | 221/1000000 [00:46<59:22:13,  4.68it/s]"
     ]
    },
    {
     "name": "stdout",
     "output_type": "stream",
     "text": [
      "New best strategy at iteration  220  :  [ 146.  388.  539. 1090.  268.  256.  431.    0.    0.    0.    0.    0.\n",
      "    0.    0.] Expected Profit: 1544583.70037\n",
      "New best strategy at iteration  220  :  [ 147.  387.  539. 1090.  268.  256.  431.    0.    0.    0.    0.    0.\n",
      "    0.    0.] Expected Profit: 1544585.1763700002\n",
      "New best strategy at iteration  220  :  [ 147.  388.  538. 1090.  268.  256.  431.    0.    0.    0.    0.    0.\n",
      "    0.    0.] Expected Profit: 1544587.0953700002\n",
      "New best strategy at iteration  220  :  [ 147.  388.  539. 1089.  268.  256.  431.    0.    0.    0.    0.    0.\n",
      "    0.    0.] Expected Profit: 1544589.49387\n",
      "New best strategy at iteration  220  :  [ 147.  388.  539. 1090.  267.  256.  431.    0.    0.    0.    0.    0.\n",
      "    0.    0.] Expected Profit: 1544592.3075700002\n",
      "New best strategy at iteration  220  :  [ 147.  388.  539. 1090.  268.  255.  431.    0.    0.    0.    0.    0.\n",
      "    0.    0.] Expected Profit: 1544595.54387\n",
      "New best strategy at iteration  220  :  [ 147.  388.  539. 1090.  268.  256.  430.    0.    0.    0.    0.    0.\n",
      "    0.    0.] Expected Profit: 1544599.19877\n"
     ]
    },
    {
     "name": "stderr",
     "output_type": "stream",
     "text": [
      "\r",
      "  0%|                                                                         | 222/1000000 [00:47<58:59:11,  4.71it/s]"
     ]
    },
    {
     "name": "stdout",
     "output_type": "stream",
     "text": [
      "New best strategy at iteration  221  :  [ 146.  388.  539. 1090.  268.  256.  430.    0.    0.    0.    0.    0.\n",
      "    0.    0.] Expected Profit: 1544602.12307\n",
      "New best strategy at iteration  221  :  [ 147.  387.  539. 1090.  268.  256.  430.    0.    0.    0.    0.    0.\n",
      "    0.    0.] Expected Profit: 1544603.59907\n",
      "New best strategy at iteration  221  :  [ 147.  388.  538. 1090.  268.  256.  430.    0.    0.    0.    0.    0.\n",
      "    0.    0.] Expected Profit: 1544605.5180700002\n",
      "New best strategy at iteration  221  :  [ 147.  388.  539. 1089.  268.  256.  430.    0.    0.    0.    0.    0.\n",
      "    0.    0.] Expected Profit: 1544607.91657\n",
      "New best strategy at iteration  221  :  [ 147.  388.  539. 1090.  267.  256.  430.    0.    0.    0.    0.    0.\n",
      "    0.    0.] Expected Profit: 1544610.73027\n",
      "New best strategy at iteration  221  :  [ 147.  388.  539. 1090.  268.  255.  430.    0.    0.    0.    0.    0.\n",
      "    0.    0.] Expected Profit: 1544613.96657\n",
      "New best strategy at iteration  221  :  [ 147.  388.  539. 1090.  268.  256.  429.    0.    0.    0.    0.    0.\n",
      "    0.    0.] Expected Profit: 1544617.62147\n"
     ]
    },
    {
     "name": "stderr",
     "output_type": "stream",
     "text": [
      "\r",
      "  0%|                                                                         | 223/1000000 [00:47<58:53:52,  4.72it/s]"
     ]
    },
    {
     "name": "stdout",
     "output_type": "stream",
     "text": [
      "New best strategy at iteration  222  :  [ 146.  388.  539. 1090.  268.  256.  429.    0.    0.    0.    0.    0.\n",
      "    0.    0.] Expected Profit: 1544620.5457699997\n",
      "New best strategy at iteration  222  :  [ 147.  387.  539. 1090.  268.  256.  429.    0.    0.    0.    0.    0.\n",
      "    0.    0.] Expected Profit: 1544622.02177\n",
      "New best strategy at iteration  222  :  [ 147.  388.  538. 1090.  268.  256.  429.    0.    0.    0.    0.    0.\n",
      "    0.    0.] Expected Profit: 1544623.94077\n",
      "New best strategy at iteration  222  :  [ 147.  388.  539. 1089.  268.  256.  429.    0.    0.    0.    0.    0.\n",
      "    0.    0.] Expected Profit: 1544626.3392699999\n",
      "New best strategy at iteration  222  :  [ 147.  388.  539. 1090.  267.  256.  429.    0.    0.    0.    0.    0.\n",
      "    0.    0.] Expected Profit: 1544629.1529699997\n",
      "New best strategy at iteration  222  :  [ 147.  388.  539. 1090.  268.  255.  429.    0.    0.    0.    0.    0.\n",
      "    0.    0.] Expected Profit: 1544632.3892699997\n",
      "New best strategy at iteration  222  :  [ 147.  388.  539. 1090.  268.  256.  428.    0.    0.    0.    0.    0.\n",
      "    0.    0.] Expected Profit: 1544636.04417\n",
      "New best strategy at iteration  223  :  [ 146.  388.  539. 1090.  268.  256.  428.    0.    0.    0.    0.    0.\n",
      "    0.    0.] Expected Profit: 1544638.9684699997\n",
      "New best strategy at iteration  223  :  [ 147.  387.  539. 1090.  268.  256.  428.    0.    0.    0.    0.    0.\n",
      "    0.    0.] Expected Profit: 1544640.4444699998\n",
      "New best strategy at iteration  223  :  [ 147.  388.  538. 1090.  268.  256.  428.    0.    0.    0.    0.    0.\n",
      "    0.    0.] Expected Profit: 1544642.3634699997\n",
      "New best strategy at iteration  223  :  [ 147.  388.  539. 1089.  268.  256.  428.    0.    0.    0.    0.    0.\n",
      "    0.    0.] Expected Profit: 1544644.7619699999\n",
      "New best strategy at iteration  223  :  [ 147.  388.  539. 1090.  267.  256.  428.    0.    0.    0.    0.    0.\n",
      "    0.    0.] Expected Profit: 1544647.5756700002\n",
      "New best strategy at iteration  223  :  [ 147.  388.  539. 1090.  268.  255.  428.    0.    0.    0.    0.    0.\n",
      "    0.    0.] Expected Profit: 1544650.81197\n",
      "New best strategy at iteration  223  :  [ 147.  388.  539. 1090.  268.  256.  427.    0.    0.    0.    0.    0.\n",
      "    0.    0.] Expected Profit: 1544654.46687\n"
     ]
    },
    {
     "name": "stderr",
     "output_type": "stream",
     "text": [
      "  0%|                                                                         | 225/1000000 [00:47<59:36:07,  4.66it/s]"
     ]
    },
    {
     "name": "stdout",
     "output_type": "stream",
     "text": [
      "New best strategy at iteration  224  :  [ 146.  388.  539. 1090.  268.  256.  427.    0.    0.    0.    0.    0.\n",
      "    0.    0.] Expected Profit: 1544657.3911699995\n",
      "New best strategy at iteration  224  :  [ 147.  387.  539. 1090.  268.  256.  427.    0.    0.    0.    0.    0.\n",
      "    0.    0.] Expected Profit: 1544658.86717\n",
      "New best strategy at iteration  224  :  [ 147.  388.  538. 1090.  268.  256.  427.    0.    0.    0.    0.    0.\n",
      "    0.    0.] Expected Profit: 1544660.78617\n",
      "New best strategy at iteration  224  :  [ 147.  388.  539. 1089.  268.  256.  427.    0.    0.    0.    0.    0.\n",
      "    0.    0.] Expected Profit: 1544663.18467\n",
      "New best strategy at iteration  224  :  [ 147.  388.  539. 1090.  267.  256.  427.    0.    0.    0.    0.    0.\n",
      "    0.    0.] Expected Profit: 1544665.99837\n",
      "New best strategy at iteration  224  :  [ 147.  388.  539. 1090.  268.  255.  427.    0.    0.    0.    0.    0.\n",
      "    0.    0.] Expected Profit: 1544669.2346700002\n",
      "New best strategy at iteration  224  :  [ 147.  388.  539. 1090.  268.  256.  426.    0.    0.    0.    0.    0.\n",
      "    0.    0.] Expected Profit: 1544672.88957\n"
     ]
    },
    {
     "name": "stderr",
     "output_type": "stream",
     "text": [
      "\r",
      "  0%|                                                                         | 226/1000000 [00:47<59:15:43,  4.69it/s]"
     ]
    },
    {
     "name": "stdout",
     "output_type": "stream",
     "text": [
      "New best strategy at iteration  225  :  [ 146.  388.  539. 1090.  268.  256.  426.    0.    0.    0.    0.    0.\n",
      "    0.    0.] Expected Profit: 1544675.81387\n",
      "New best strategy at iteration  225  :  [ 147.  387.  539. 1090.  268.  256.  426.    0.    0.    0.    0.    0.\n",
      "    0.    0.] Expected Profit: 1544677.28987\n",
      "New best strategy at iteration  225  :  [ 147.  388.  538. 1090.  268.  256.  426.    0.    0.    0.    0.    0.\n",
      "    0.    0.] Expected Profit: 1544679.20887\n",
      "New best strategy at iteration  225  :  [ 147.  388.  539. 1089.  268.  256.  426.    0.    0.    0.    0.    0.\n",
      "    0.    0.] Expected Profit: 1544681.6073699999\n",
      "New best strategy at iteration  225  :  [ 147.  388.  539. 1090.  267.  256.  426.    0.    0.    0.    0.    0.\n",
      "    0.    0.] Expected Profit: 1544684.4210700002\n",
      "New best strategy at iteration  225  :  [ 147.  388.  539. 1090.  268.  255.  426.    0.    0.    0.    0.    0.\n",
      "    0.    0.] Expected Profit: 1544687.65737\n",
      "New best strategy at iteration  225  :  [ 147.  388.  539. 1090.  268.  256.  425.    0.    0.    0.    0.    0.\n",
      "    0.    0.] Expected Profit: 1544691.3122699999\n",
      "New best strategy at iteration  226  :  [ 146.  388.  539. 1090.  268.  256.  425.    0.    0.    0.    0.    0.\n",
      "    0.    0.] Expected Profit: 1544694.2365699997\n"
     ]
    },
    {
     "name": "stderr",
     "output_type": "stream",
     "text": [
      "\r",
      "  0%|                                                                         | 227/1000000 [00:48<59:25:27,  4.67it/s]"
     ]
    },
    {
     "name": "stdout",
     "output_type": "stream",
     "text": [
      "New best strategy at iteration  226  :  [ 147.  387.  539. 1090.  268.  256.  425.    0.    0.    0.    0.    0.\n",
      "    0.    0.] Expected Profit: 1544695.71257\n",
      "New best strategy at iteration  226  :  [ 147.  388.  538. 1090.  268.  256.  425.    0.    0.    0.    0.    0.\n",
      "    0.    0.] Expected Profit: 1544697.63157\n",
      "New best strategy at iteration  226  :  [ 147.  388.  539. 1089.  268.  256.  425.    0.    0.    0.    0.    0.\n",
      "    0.    0.] Expected Profit: 1544700.0300699996\n",
      "New best strategy at iteration  226  :  [ 147.  388.  539. 1090.  267.  256.  425.    0.    0.    0.    0.    0.\n",
      "    0.    0.] Expected Profit: 1544702.84377\n",
      "New best strategy at iteration  226  :  [ 147.  388.  539. 1090.  268.  255.  425.    0.    0.    0.    0.    0.\n",
      "    0.    0.] Expected Profit: 1544706.0800699997\n",
      "New best strategy at iteration  226  :  [ 147.  388.  539. 1090.  268.  256.  424.    0.    0.    0.    0.    0.\n",
      "    0.    0.] Expected Profit: 1544709.73497\n",
      "New best strategy at iteration  227  :  [ 146.  388.  539. 1090.  268.  256.  424.    0.    0.    0.    0.    0.\n",
      "    0.    0.] Expected Profit: 1544712.6592699997\n"
     ]
    },
    {
     "name": "stderr",
     "output_type": "stream",
     "text": [
      "\r",
      "  0%|                                                                         | 228/1000000 [00:48<59:25:28,  4.67it/s]"
     ]
    },
    {
     "name": "stdout",
     "output_type": "stream",
     "text": [
      "New best strategy at iteration  227  :  [ 147.  387.  539. 1090.  268.  256.  424.    0.    0.    0.    0.    0.\n",
      "    0.    0.] Expected Profit: 1544714.13527\n",
      "New best strategy at iteration  227  :  [ 147.  388.  538. 1090.  268.  256.  424.    0.    0.    0.    0.    0.\n",
      "    0.    0.] Expected Profit: 1544716.05427\n",
      "New best strategy at iteration  227  :  [ 147.  388.  539. 1089.  268.  256.  424.    0.    0.    0.    0.    0.\n",
      "    0.    0.] Expected Profit: 1544718.45277\n",
      "New best strategy at iteration  227  :  [ 147.  388.  539. 1090.  267.  256.  424.    0.    0.    0.    0.    0.\n",
      "    0.    0.] Expected Profit: 1544721.2664699997\n",
      "New best strategy at iteration  227  :  [ 147.  388.  539. 1090.  268.  255.  424.    0.    0.    0.    0.    0.\n",
      "    0.    0.] Expected Profit: 1544724.50277\n",
      "New best strategy at iteration  227  :  [ 147.  388.  539. 1090.  268.  256.  423.    0.    0.    0.    0.    0.\n",
      "    0.    0.] Expected Profit: 1544728.1576699999\n"
     ]
    },
    {
     "name": "stderr",
     "output_type": "stream",
     "text": [
      "\r",
      "  0%|                                                                         | 229/1000000 [00:48<59:22:30,  4.68it/s]"
     ]
    },
    {
     "name": "stdout",
     "output_type": "stream",
     "text": [
      "New best strategy at iteration  228  :  [ 146.  388.  539. 1090.  268.  256.  423.    0.    0.    0.    0.    0.\n",
      "    0.    0.] Expected Profit: 1544731.0819699997\n",
      "New best strategy at iteration  228  :  [ 147.  387.  539. 1090.  268.  256.  423.    0.    0.    0.    0.    0.\n",
      "    0.    0.] Expected Profit: 1544732.5579699997\n",
      "New best strategy at iteration  228  :  [ 147.  388.  538. 1090.  268.  256.  423.    0.    0.    0.    0.    0.\n",
      "    0.    0.] Expected Profit: 1544734.47697\n",
      "New best strategy at iteration  228  :  [ 147.  388.  539. 1089.  268.  256.  423.    0.    0.    0.    0.    0.\n",
      "    0.    0.] Expected Profit: 1544736.8754699999\n",
      "New best strategy at iteration  228  :  [ 147.  388.  539. 1090.  267.  256.  423.    0.    0.    0.    0.    0.\n",
      "    0.    0.] Expected Profit: 1544739.6891700001\n",
      "New best strategy at iteration  228  :  [ 147.  388.  539. 1090.  268.  255.  423.    0.    0.    0.    0.    0.\n",
      "    0.    0.] Expected Profit: 1544742.9254700001\n",
      "New best strategy at iteration  228  :  [ 147.  388.  539. 1090.  268.  256.  422.    0.    0.    0.    0.    0.\n",
      "    0.    0.] Expected Profit: 1544746.58037\n"
     ]
    },
    {
     "name": "stderr",
     "output_type": "stream",
     "text": [
      "\r",
      "  0%|                                                                         | 230/1000000 [00:48<59:15:10,  4.69it/s]"
     ]
    },
    {
     "name": "stdout",
     "output_type": "stream",
     "text": [
      "New best strategy at iteration  229  :  [ 146.  388.  539. 1090.  268.  256.  422.    0.    0.    0.    0.    0.\n",
      "    0.    0.] Expected Profit: 1544749.50467\n",
      "New best strategy at iteration  229  :  [ 147.  387.  539. 1090.  268.  256.  422.    0.    0.    0.    0.    0.\n",
      "    0.    0.] Expected Profit: 1544750.98067\n",
      "New best strategy at iteration  229  :  [ 147.  388.  538. 1090.  268.  256.  422.    0.    0.    0.    0.    0.\n",
      "    0.    0.] Expected Profit: 1544752.8996700002\n",
      "New best strategy at iteration  229  :  [ 147.  388.  539. 1089.  268.  256.  422.    0.    0.    0.    0.    0.\n",
      "    0.    0.] Expected Profit: 1544755.29817\n",
      "New best strategy at iteration  229  :  [ 147.  388.  539. 1090.  267.  256.  422.    0.    0.    0.    0.    0.\n",
      "    0.    0.] Expected Profit: 1544758.1118700001\n",
      "New best strategy at iteration  229  :  [ 147.  388.  539. 1090.  268.  255.  422.    0.    0.    0.    0.    0.\n",
      "    0.    0.] Expected Profit: 1544761.3481700001\n",
      "New best strategy at iteration  229  :  [ 147.  388.  539. 1090.  268.  256.  421.    0.    0.    0.    0.    0.\n",
      "    0.    0.] Expected Profit: 1544765.0030699999\n"
     ]
    },
    {
     "name": "stderr",
     "output_type": "stream",
     "text": [
      "\r",
      "  0%|                                                                         | 231/1000000 [00:48<58:53:44,  4.72it/s]"
     ]
    },
    {
     "name": "stdout",
     "output_type": "stream",
     "text": [
      "New best strategy at iteration  230  :  [ 146.  388.  539. 1090.  268.  256.  421.    0.    0.    0.    0.    0.\n",
      "    0.    0.] Expected Profit: 1544767.92737\n",
      "New best strategy at iteration  230  :  [ 147.  387.  539. 1090.  268.  256.  421.    0.    0.    0.    0.    0.\n",
      "    0.    0.] Expected Profit: 1544769.40337\n",
      "New best strategy at iteration  230  :  [ 147.  388.  538. 1090.  268.  256.  421.    0.    0.    0.    0.    0.\n",
      "    0.    0.] Expected Profit: 1544771.3223700002\n",
      "New best strategy at iteration  230  :  [ 147.  388.  539. 1089.  268.  256.  421.    0.    0.    0.    0.    0.\n",
      "    0.    0.] Expected Profit: 1544773.7208699998\n",
      "New best strategy at iteration  230  :  [ 147.  388.  539. 1090.  267.  256.  421.    0.    0.    0.    0.    0.\n",
      "    0.    0.] Expected Profit: 1544776.53457\n",
      "New best strategy at iteration  230  :  [ 147.  388.  539. 1090.  268.  255.  421.    0.    0.    0.    0.    0.\n",
      "    0.    0.] Expected Profit: 1544779.77087\n",
      "New best strategy at iteration  230  :  [ 147.  388.  539. 1090.  268.  256.  420.    0.    0.    0.    0.    0.\n",
      "    0.    0.] Expected Profit: 1544783.42577\n"
     ]
    },
    {
     "name": "stderr",
     "output_type": "stream",
     "text": [
      "\r",
      "  0%|                                                                         | 232/1000000 [00:49<58:38:43,  4.74it/s]"
     ]
    },
    {
     "name": "stdout",
     "output_type": "stream",
     "text": [
      "New best strategy at iteration  231  :  [ 146.  388.  539. 1090.  268.  256.  420.    0.    0.    0.    0.    0.\n",
      "    0.    0.] Expected Profit: 1544786.3500699997\n",
      "New best strategy at iteration  231  :  [ 147.  387.  539. 1090.  268.  256.  420.    0.    0.    0.    0.    0.\n",
      "    0.    0.] Expected Profit: 1544787.82607\n",
      "New best strategy at iteration  231  :  [ 147.  388.  538. 1090.  268.  256.  420.    0.    0.    0.    0.    0.\n",
      "    0.    0.] Expected Profit: 1544789.7450700002\n",
      "New best strategy at iteration  231  :  [ 147.  388.  539. 1089.  268.  256.  420.    0.    0.    0.    0.    0.\n",
      "    0.    0.] Expected Profit: 1544792.1435699996\n",
      "New best strategy at iteration  231  :  [ 147.  388.  539. 1090.  267.  256.  420.    0.    0.    0.    0.    0.\n",
      "    0.    0.] Expected Profit: 1544794.95727\n",
      "New best strategy at iteration  231  :  [ 147.  388.  539. 1090.  268.  255.  420.    0.    0.    0.    0.    0.\n",
      "    0.    0.] Expected Profit: 1544798.19357\n",
      "New best strategy at iteration  231  :  [ 147.  388.  539. 1090.  268.  256.  419.    0.    0.    0.    0.    0.\n",
      "    0.    0.] Expected Profit: 1544801.8484699999\n"
     ]
    },
    {
     "name": "stderr",
     "output_type": "stream",
     "text": [
      "\r",
      "  0%|                                                                         | 233/1000000 [00:49<58:50:47,  4.72it/s]"
     ]
    },
    {
     "name": "stdout",
     "output_type": "stream",
     "text": [
      "New best strategy at iteration  232  :  [ 146.  388.  539. 1090.  268.  256.  419.    0.    0.    0.    0.    0.\n",
      "    0.    0.] Expected Profit: 1544804.7727699997\n",
      "New best strategy at iteration  232  :  [ 147.  387.  539. 1090.  268.  256.  419.    0.    0.    0.    0.    0.\n",
      "    0.    0.] Expected Profit: 1544806.24877\n",
      "New best strategy at iteration  232  :  [ 147.  388.  538. 1090.  268.  256.  419.    0.    0.    0.    0.    0.\n",
      "    0.    0.] Expected Profit: 1544808.16777\n",
      "New best strategy at iteration  232  :  [ 147.  388.  539. 1089.  268.  256.  419.    0.    0.    0.    0.    0.\n",
      "    0.    0.] Expected Profit: 1544810.56627\n",
      "New best strategy at iteration  232  :  [ 147.  388.  539. 1090.  267.  256.  419.    0.    0.    0.    0.    0.\n",
      "    0.    0.] Expected Profit: 1544813.37997\n",
      "New best strategy at iteration  232  :  [ 147.  388.  539. 1090.  268.  255.  419.    0.    0.    0.    0.    0.\n",
      "    0.    0.] Expected Profit: 1544816.6162699999\n",
      "New best strategy at iteration  232  :  [ 147.  388.  539. 1090.  268.  256.  418.    0.    0.    0.    0.    0.\n",
      "    0.    0.] Expected Profit: 1544820.2711699998\n"
     ]
    },
    {
     "name": "stderr",
     "output_type": "stream",
     "text": [
      "\r",
      "  0%|                                                                         | 234/1000000 [00:49<58:35:33,  4.74it/s]"
     ]
    },
    {
     "name": "stdout",
     "output_type": "stream",
     "text": [
      "New best strategy at iteration  233  :  [ 146.  388.  539. 1090.  268.  256.  418.    0.    0.    0.    0.    0.\n",
      "    0.    0.] Expected Profit: 1544823.19547\n",
      "New best strategy at iteration  233  :  [ 147.  387.  539. 1090.  268.  256.  418.    0.    0.    0.    0.    0.\n",
      "    0.    0.] Expected Profit: 1544824.67147\n",
      "New best strategy at iteration  233  :  [ 147.  388.  538. 1090.  268.  256.  418.    0.    0.    0.    0.    0.\n",
      "    0.    0.] Expected Profit: 1544826.59047\n",
      "New best strategy at iteration  233  :  [ 147.  388.  539. 1089.  268.  256.  418.    0.    0.    0.    0.    0.\n",
      "    0.    0.] Expected Profit: 1544828.9889699998\n",
      "New best strategy at iteration  233  :  [ 147.  388.  539. 1090.  267.  256.  418.    0.    0.    0.    0.    0.\n",
      "    0.    0.] Expected Profit: 1544831.8026700001\n",
      "New best strategy at iteration  233  :  [ 147.  388.  539. 1090.  268.  255.  418.    0.    0.    0.    0.    0.\n",
      "    0.    0.] Expected Profit: 1544835.0389700003\n",
      "New best strategy at iteration  233  :  [ 147.  388.  539. 1090.  268.  256.  417.    0.    0.    0.    0.    0.\n",
      "    0.    0.] Expected Profit: 1544838.6938699998\n"
     ]
    },
    {
     "name": "stderr",
     "output_type": "stream",
     "text": [
      "\r",
      "  0%|                                                                         | 235/1000000 [00:49<58:20:13,  4.76it/s]"
     ]
    },
    {
     "name": "stdout",
     "output_type": "stream",
     "text": [
      "New best strategy at iteration  234  :  [ 146.  388.  539. 1090.  268.  256.  417.    0.    0.    0.    0.    0.\n",
      "    0.    0.] Expected Profit: 1544841.61817\n",
      "New best strategy at iteration  234  :  [ 147.  387.  539. 1090.  268.  256.  417.    0.    0.    0.    0.    0.\n",
      "    0.    0.] Expected Profit: 1544843.0941700002\n",
      "New best strategy at iteration  234  :  [ 147.  388.  538. 1090.  268.  256.  417.    0.    0.    0.    0.    0.\n",
      "    0.    0.] Expected Profit: 1544845.0131700002\n",
      "New best strategy at iteration  234  :  [ 147.  388.  539. 1089.  268.  256.  417.    0.    0.    0.    0.    0.\n",
      "    0.    0.] Expected Profit: 1544847.4116699996\n",
      "New best strategy at iteration  234  :  [ 147.  388.  539. 1090.  267.  256.  417.    0.    0.    0.    0.    0.\n",
      "    0.    0.] Expected Profit: 1544850.22537\n",
      "New best strategy at iteration  234  :  [ 147.  388.  539. 1090.  268.  255.  417.    0.    0.    0.    0.    0.\n",
      "    0.    0.] Expected Profit: 1544853.4616699999\n",
      "New best strategy at iteration  234  :  [ 147.  388.  539. 1090.  268.  256.  416.    0.    0.    0.    0.    0.\n",
      "    0.    0.] Expected Profit: 1544857.1165699998\n"
     ]
    },
    {
     "name": "stderr",
     "output_type": "stream",
     "text": [
      "\r",
      "  0%|                                                                         | 236/1000000 [00:49<58:09:46,  4.77it/s]"
     ]
    },
    {
     "name": "stdout",
     "output_type": "stream",
     "text": [
      "New best strategy at iteration  235  :  [ 146.  388.  539. 1090.  268.  256.  416.    0.    0.    0.    0.    0.\n",
      "    0.    0.] Expected Profit: 1544860.04087\n",
      "New best strategy at iteration  235  :  [ 147.  387.  539. 1090.  268.  256.  416.    0.    0.    0.    0.    0.\n",
      "    0.    0.] Expected Profit: 1544861.51687\n",
      "New best strategy at iteration  235  :  [ 147.  388.  538. 1090.  268.  256.  416.    0.    0.    0.    0.    0.\n",
      "    0.    0.] Expected Profit: 1544863.4358700002\n",
      "New best strategy at iteration  235  :  [ 147.  388.  539. 1089.  268.  256.  416.    0.    0.    0.    0.    0.\n",
      "    0.    0.] Expected Profit: 1544865.8343699998\n",
      "New best strategy at iteration  235  :  [ 147.  388.  539. 1090.  267.  256.  416.    0.    0.    0.    0.    0.\n",
      "    0.    0.] Expected Profit: 1544868.6480699996\n",
      "New best strategy at iteration  235  :  [ 147.  388.  539. 1090.  268.  255.  416.    0.    0.    0.    0.    0.\n",
      "    0.    0.] Expected Profit: 1544871.8843699999\n",
      "New best strategy at iteration  235  :  [ 147.  388.  539. 1090.  268.  256.  415.    0.    0.    0.    0.    0.\n",
      "    0.    0.] Expected Profit: 1544875.53927\n"
     ]
    },
    {
     "name": "stderr",
     "output_type": "stream",
     "text": [
      "\r",
      "  0%|                                                                         | 237/1000000 [00:50<58:41:51,  4.73it/s]"
     ]
    },
    {
     "name": "stdout",
     "output_type": "stream",
     "text": [
      "New best strategy at iteration  236  :  [ 146.  388.  539. 1090.  268.  256.  415.    0.    0.    0.    0.    0.\n",
      "    0.    0.] Expected Profit: 1544878.4635699997\n",
      "New best strategy at iteration  236  :  [ 147.  387.  539. 1090.  268.  256.  415.    0.    0.    0.    0.    0.\n",
      "    0.    0.] Expected Profit: 1544879.93957\n",
      "New best strategy at iteration  236  :  [ 147.  388.  538. 1090.  268.  256.  415.    0.    0.    0.    0.    0.\n",
      "    0.    0.] Expected Profit: 1544881.8585700002\n",
      "New best strategy at iteration  236  :  [ 147.  388.  539. 1089.  268.  256.  415.    0.    0.    0.    0.    0.\n",
      "    0.    0.] Expected Profit: 1544884.2570699998\n",
      "New best strategy at iteration  236  :  [ 147.  388.  539. 1090.  267.  256.  415.    0.    0.    0.    0.    0.\n",
      "    0.    0.] Expected Profit: 1544887.0707699999\n",
      "New best strategy at iteration  236  :  [ 147.  388.  539. 1090.  268.  255.  415.    0.    0.    0.    0.    0.\n",
      "    0.    0.] Expected Profit: 1544890.3070699999\n",
      "New best strategy at iteration  236  :  [ 147.  388.  539. 1090.  268.  256.  414.    0.    0.    0.    0.    0.\n",
      "    0.    0.] Expected Profit: 1544893.96197\n"
     ]
    },
    {
     "name": "stderr",
     "output_type": "stream",
     "text": [
      "\r",
      "  0%|                                                                         | 238/1000000 [00:50<58:54:21,  4.71it/s]"
     ]
    },
    {
     "name": "stdout",
     "output_type": "stream",
     "text": [
      "New best strategy at iteration  237  :  [ 146.  388.  539. 1090.  268.  256.  414.    0.    0.    0.    0.    0.\n",
      "    0.    0.] Expected Profit: 1544896.88627\n",
      "New best strategy at iteration  237  :  [ 147.  387.  539. 1090.  268.  256.  414.    0.    0.    0.    0.    0.\n",
      "    0.    0.] Expected Profit: 1544898.36227\n",
      "New best strategy at iteration  237  :  [ 147.  388.  538. 1090.  268.  256.  414.    0.    0.    0.    0.    0.\n",
      "    0.    0.] Expected Profit: 1544900.28127\n",
      "New best strategy at iteration  237  :  [ 147.  388.  539. 1089.  268.  256.  414.    0.    0.    0.    0.    0.\n",
      "    0.    0.] Expected Profit: 1544902.67977\n",
      "New best strategy at iteration  237  :  [ 147.  388.  539. 1090.  267.  256.  414.    0.    0.    0.    0.    0.\n",
      "    0.    0.] Expected Profit: 1544905.49347\n",
      "New best strategy at iteration  237  :  [ 147.  388.  539. 1090.  268.  255.  414.    0.    0.    0.    0.    0.\n",
      "    0.    0.] Expected Profit: 1544908.72977\n",
      "New best strategy at iteration  237  :  [ 147.  388.  539. 1090.  268.  256.  413.    0.    0.    0.    0.    0.\n",
      "    0.    0.] Expected Profit: 1544912.3846699998\n"
     ]
    },
    {
     "name": "stderr",
     "output_type": "stream",
     "text": [
      "\r",
      "  0%|                                                                         | 239/1000000 [00:50<58:57:24,  4.71it/s]"
     ]
    },
    {
     "name": "stdout",
     "output_type": "stream",
     "text": [
      "New best strategy at iteration  238  :  [ 146.  388.  539. 1090.  268.  256.  413.    0.    0.    0.    0.    0.\n",
      "    0.    0.] Expected Profit: 1544915.30897\n",
      "New best strategy at iteration  238  :  [ 147.  387.  539. 1090.  268.  256.  413.    0.    0.    0.    0.    0.\n",
      "    0.    0.] Expected Profit: 1544916.7849699997\n",
      "New best strategy at iteration  238  :  [ 147.  388.  538. 1090.  268.  256.  413.    0.    0.    0.    0.    0.\n",
      "    0.    0.] Expected Profit: 1544918.70397\n",
      "New best strategy at iteration  238  :  [ 147.  388.  539. 1089.  268.  256.  413.    0.    0.    0.    0.    0.\n",
      "    0.    0.] Expected Profit: 1544921.1024699998\n",
      "New best strategy at iteration  238  :  [ 147.  388.  539. 1090.  267.  256.  413.    0.    0.    0.    0.    0.\n",
      "    0.    0.] Expected Profit: 1544923.9161699999\n",
      "New best strategy at iteration  238  :  [ 147.  388.  539. 1090.  268.  255.  413.    0.    0.    0.    0.    0.\n",
      "    0.    0.] Expected Profit: 1544927.1524699999\n",
      "New best strategy at iteration  238  :  [ 147.  388.  539. 1090.  268.  256.  412.    0.    0.    0.    0.    0.\n",
      "    0.    0.] Expected Profit: 1544930.8073699998\n",
      "New best strategy at iteration  239  :  [ 146.  388.  539. 1090.  268.  256.  412.    0.    0.    0.    0.    0.\n",
      "    0.    0.] Expected Profit: 1544933.7316700001\n"
     ]
    },
    {
     "name": "stderr",
     "output_type": "stream",
     "text": [
      "\r",
      "  0%|                                                                         | 240/1000000 [00:50<59:53:27,  4.64it/s]"
     ]
    },
    {
     "name": "stdout",
     "output_type": "stream",
     "text": [
      "New best strategy at iteration  239  :  [ 147.  387.  539. 1090.  268.  256.  412.    0.    0.    0.    0.    0.\n",
      "    0.    0.] Expected Profit: 1544935.20767\n",
      "New best strategy at iteration  239  :  [ 147.  388.  538. 1090.  268.  256.  412.    0.    0.    0.    0.    0.\n",
      "    0.    0.] Expected Profit: 1544937.1266700001\n",
      "New best strategy at iteration  239  :  [ 147.  388.  539. 1089.  268.  256.  412.    0.    0.    0.    0.    0.\n",
      "    0.    0.] Expected Profit: 1544939.5251699998\n",
      "New best strategy at iteration  239  :  [ 147.  388.  539. 1090.  267.  256.  412.    0.    0.    0.    0.    0.\n",
      "    0.    0.] Expected Profit: 1544942.3388699999\n",
      "New best strategy at iteration  239  :  [ 147.  388.  539. 1090.  268.  255.  412.    0.    0.    0.    0.    0.\n",
      "    0.    0.] Expected Profit: 1544945.57517\n",
      "New best strategy at iteration  239  :  [ 147.  388.  539. 1090.  268.  256.  411.    0.    0.    0.    0.    0.\n",
      "    0.    0.] Expected Profit: 1544949.23007\n",
      "New best strategy at iteration  240  :  [ 146.  388.  539. 1090.  268.  256.  411.    0.    0.    0.    0.    0.\n",
      "    0.    0.] Expected Profit: 1544952.15437\n",
      "New best strategy at iteration  240  :  [ 147.  387.  539. 1090.  268.  256.  411.    0.    0.    0.    0.    0.\n",
      "    0.    0.] Expected Profit: 1544953.63037\n",
      "New best strategy at iteration  240  :  [ 147.  388.  538. 1090.  268.  256.  411.    0.    0.    0.    0.    0.\n",
      "    0.    0.] Expected Profit: 1544955.54937\n",
      "New best strategy at iteration  240  :  [ 147.  388.  539. 1089.  268.  256.  411.    0.    0.    0.    0.    0.\n",
      "    0.    0.] Expected Profit: 1544957.9478699998\n",
      "New best strategy at iteration  240  :  [ 147.  388.  539. 1090.  267.  256.  411.    0.    0.    0.    0.    0.\n",
      "    0.    0.] Expected Profit: 1544960.7615699999\n",
      "New best strategy at iteration  240  :  [ 147.  388.  539. 1090.  268.  255.  411.    0.    0.    0.    0.    0.\n",
      "    0.    0.] Expected Profit: 1544963.9978699998\n",
      "New best strategy at iteration  240  :  [ 147.  388.  539. 1090.  268.  256.  410.    0.    0.    0.    0.    0.\n",
      "    0.    0.] Expected Profit: 1544967.65277\n"
     ]
    },
    {
     "name": "stderr",
     "output_type": "stream",
     "text": [
      "  0%|                                                                         | 242/1000000 [00:51<59:35:44,  4.66it/s]"
     ]
    },
    {
     "name": "stdout",
     "output_type": "stream",
     "text": [
      "New best strategy at iteration  241  :  [ 146.  388.  539. 1090.  268.  256.  410.    0.    0.    0.    0.    0.\n",
      "    0.    0.] Expected Profit: 1544970.5770699999\n",
      "New best strategy at iteration  241  :  [ 147.  387.  539. 1090.  268.  256.  410.    0.    0.    0.    0.    0.\n",
      "    0.    0.] Expected Profit: 1544972.0530700001\n",
      "New best strategy at iteration  241  :  [ 147.  388.  538. 1090.  268.  256.  410.    0.    0.    0.    0.    0.\n",
      "    0.    0.] Expected Profit: 1544973.97207\n",
      "New best strategy at iteration  241  :  [ 147.  388.  539. 1089.  268.  256.  410.    0.    0.    0.    0.    0.\n",
      "    0.    0.] Expected Profit: 1544976.37057\n",
      "New best strategy at iteration  241  :  [ 147.  388.  539. 1090.  267.  256.  410.    0.    0.    0.    0.    0.\n",
      "    0.    0.] Expected Profit: 1544979.18427\n",
      "New best strategy at iteration  241  :  [ 147.  388.  539. 1090.  268.  255.  410.    0.    0.    0.    0.    0.\n",
      "    0.    0.] Expected Profit: 1544982.42057\n",
      "New best strategy at iteration  241  :  [ 147.  388.  539. 1090.  268.  256.  409.    0.    0.    0.    0.    0.\n",
      "    0.    0.] Expected Profit: 1544986.0754699998\n"
     ]
    },
    {
     "name": "stderr",
     "output_type": "stream",
     "text": [
      "\r",
      "  0%|                                                                         | 243/1000000 [00:51<59:16:32,  4.69it/s]"
     ]
    },
    {
     "name": "stdout",
     "output_type": "stream",
     "text": [
      "New best strategy at iteration  242  :  [ 146.  388.  539. 1090.  268.  256.  409.    0.    0.    0.    0.    0.\n",
      "    0.    0.] Expected Profit: 1544988.9997699996\n",
      "New best strategy at iteration  242  :  [ 147.  387.  539. 1090.  268.  256.  409.    0.    0.    0.    0.    0.\n",
      "    0.    0.] Expected Profit: 1544990.47577\n",
      "New best strategy at iteration  242  :  [ 147.  388.  538. 1090.  268.  256.  409.    0.    0.    0.    0.    0.\n",
      "    0.    0.] Expected Profit: 1544992.39477\n",
      "New best strategy at iteration  242  :  [ 147.  388.  539. 1089.  268.  256.  409.    0.    0.    0.    0.    0.\n",
      "    0.    0.] Expected Profit: 1544994.7932699996\n",
      "New best strategy at iteration  242  :  [ 147.  388.  539. 1090.  267.  256.  409.    0.    0.    0.    0.    0.\n",
      "    0.    0.] Expected Profit: 1544997.6069699998\n",
      "New best strategy at iteration  242  :  [ 147.  388.  539. 1090.  268.  255.  409.    0.    0.    0.    0.    0.\n",
      "    0.    0.] Expected Profit: 1545000.8432699998\n",
      "New best strategy at iteration  242  :  [ 147.  388.  539. 1090.  268.  256.  408.    0.    0.    0.    0.    0.\n",
      "    0.    0.] Expected Profit: 1545004.4981699998\n",
      "New best strategy at iteration  243  :  [ 146.  388.  539. 1090.  268.  256.  408.    0.    0.    0.    0.    0.\n",
      "    0.    0.] Expected Profit: 1545007.4224699999\n",
      "New best strategy at iteration  243  :  [ 147.  387.  539. 1090.  268.  256.  408.    0.    0.    0.    0.    0.\n",
      "    0.    0.] Expected Profit: 1545008.89847\n",
      "New best strategy at iteration  243  :  [ 147.  388.  538. 1090.  268.  256.  408.    0.    0.    0.    0.    0.\n",
      "    0.    0.] Expected Profit: 1545010.8174700001\n",
      "New best strategy at iteration  243  :  [ 147.  388.  539. 1089.  268.  256.  408.    0.    0.    0.    0.    0.\n",
      "    0.    0.] Expected Profit: 1545013.2159699998\n",
      "New best strategy at iteration  243  :  [ 147.  388.  539. 1090.  267.  256.  408.    0.    0.    0.    0.    0.\n",
      "    0.    0.] Expected Profit: 1545016.02967\n",
      "New best strategy at iteration  243  :  [ 147.  388.  539. 1090.  268.  255.  408.    0.    0.    0.    0.    0.\n",
      "    0.    0.] Expected Profit: 1545019.2659699998\n",
      "New best strategy at iteration  243  :  [ 147.  388.  539. 1090.  268.  256.  407.    0.    0.    0.    0.    0.\n",
      "    0.    0.] Expected Profit: 1545022.9208699998\n"
     ]
    },
    {
     "name": "stderr",
     "output_type": "stream",
     "text": [
      "  0%|                                                                         | 245/1000000 [00:51<59:20:56,  4.68it/s]"
     ]
    },
    {
     "name": "stdout",
     "output_type": "stream",
     "text": [
      "New best strategy at iteration  244  :  [ 146.  388.  539. 1090.  268.  256.  407.    0.    0.    0.    0.    0.\n",
      "    0.    0.] Expected Profit: 1545025.84517\n",
      "New best strategy at iteration  244  :  [ 147.  387.  539. 1090.  268.  256.  407.    0.    0.    0.    0.    0.\n",
      "    0.    0.] Expected Profit: 1545027.3211700001\n",
      "New best strategy at iteration  244  :  [ 147.  388.  538. 1090.  268.  256.  407.    0.    0.    0.    0.    0.\n",
      "    0.    0.] Expected Profit: 1545029.2401700001\n",
      "New best strategy at iteration  244  :  [ 147.  388.  539. 1089.  268.  256.  407.    0.    0.    0.    0.    0.\n",
      "    0.    0.] Expected Profit: 1545031.6386699998\n",
      "New best strategy at iteration  244  :  [ 147.  388.  539. 1090.  267.  256.  407.    0.    0.    0.    0.    0.\n",
      "    0.    0.] Expected Profit: 1545034.4523699998\n",
      "New best strategy at iteration  244  :  [ 147.  388.  539. 1090.  268.  255.  407.    0.    0.    0.    0.    0.\n",
      "    0.    0.] Expected Profit: 1545037.68867\n",
      "New best strategy at iteration  244  :  [ 147.  388.  539. 1090.  268.  256.  406.    0.    0.    0.    0.    0.\n",
      "    0.    0.] Expected Profit: 1545041.34357\n",
      "New best strategy at iteration  245  :  [ 146.  388.  539. 1090.  268.  256.  406.    0.    0.    0.    0.    0.\n",
      "    0.    0.] Expected Profit: 1545044.2678699999\n",
      "New best strategy at iteration  245  :  [ 147.  387.  539. 1090.  268.  256.  406.    0.    0.    0.    0.    0.\n",
      "    0.    0.] Expected Profit: 1545045.74387\n",
      "New best strategy at iteration  245  :  [ 147.  388.  538. 1090.  268.  256.  406.    0.    0.    0.    0.    0.\n",
      "    0.    0.] Expected Profit: 1545047.6628700001\n",
      "New best strategy at iteration  245  :  [ 147.  388.  539. 1089.  268.  256.  406.    0.    0.    0.    0.    0.\n",
      "    0.    0.] Expected Profit: 1545050.0613699998\n",
      "New best strategy at iteration  245  :  [ 147.  388.  539. 1090.  267.  256.  406.    0.    0.    0.    0.    0.\n",
      "    0.    0.] Expected Profit: 1545052.87507\n",
      "New best strategy at iteration  245  :  [ 147.  388.  539. 1090.  268.  255.  406.    0.    0.    0.    0.    0.\n",
      "    0.    0.] Expected Profit: 1545056.1113699998\n",
      "New best strategy at iteration  245  :  [ 147.  388.  539. 1090.  268.  256.  405.    0.    0.    0.    0.    0.\n",
      "    0.    0.] Expected Profit: 1545059.7662699998\n"
     ]
    },
    {
     "name": "stderr",
     "output_type": "stream",
     "text": [
      "\r",
      "  0%|                                                                         | 246/1000000 [00:52<59:58:46,  4.63it/s]"
     ]
    },
    {
     "name": "stdout",
     "output_type": "stream",
     "text": [
      "New best strategy at iteration  246  :  [ 146.  388.  539. 1090.  268.  256.  405.    0.    0.    0.    0.    0.\n",
      "    0.    0.] Expected Profit: 1545062.6905699996\n",
      "New best strategy at iteration  246  :  [ 147.  387.  539. 1090.  268.  256.  405.    0.    0.    0.    0.    0.\n",
      "    0.    0.] Expected Profit: 1545064.1665699997\n",
      "New best strategy at iteration  246  :  [ 147.  388.  538. 1090.  268.  256.  405.    0.    0.    0.    0.    0.\n",
      "    0.    0.] Expected Profit: 1545066.0855699999\n",
      "New best strategy at iteration  246  :  [ 147.  388.  539. 1089.  268.  256.  405.    0.    0.    0.    0.    0.\n",
      "    0.    0.] Expected Profit: 1545068.4840699998\n",
      "New best strategy at iteration  246  :  [ 147.  388.  539. 1090.  267.  256.  405.    0.    0.    0.    0.    0.\n",
      "    0.    0.] Expected Profit: 1545071.29777\n",
      "New best strategy at iteration  246  :  [ 147.  388.  539. 1090.  268.  255.  405.    0.    0.    0.    0.    0.\n",
      "    0.    0.] Expected Profit: 1545074.5340699996\n",
      "New best strategy at iteration  246  :  [ 147.  388.  539. 1090.  268.  256.  404.    0.    0.    0.    0.    0.\n",
      "    0.    0.] Expected Profit: 1545078.1889699998\n"
     ]
    },
    {
     "name": "stderr",
     "output_type": "stream",
     "text": [
      "\r",
      "  0%|                                                                         | 247/1000000 [00:52<61:13:26,  4.54it/s]"
     ]
    },
    {
     "name": "stdout",
     "output_type": "stream",
     "text": [
      "New best strategy at iteration  247  :  [ 146.  388.  539. 1090.  268.  256.  404.    0.    0.    0.    0.    0.\n",
      "    0.    0.] Expected Profit: 1545081.1132699999\n",
      "New best strategy at iteration  247  :  [ 147.  387.  539. 1090.  268.  256.  404.    0.    0.    0.    0.    0.\n",
      "    0.    0.] Expected Profit: 1545082.5892699996\n",
      "New best strategy at iteration  247  :  [ 147.  388.  538. 1090.  268.  256.  404.    0.    0.    0.    0.    0.\n",
      "    0.    0.] Expected Profit: 1545084.5082699999\n",
      "New best strategy at iteration  247  :  [ 147.  388.  539. 1089.  268.  256.  404.    0.    0.    0.    0.    0.\n",
      "    0.    0.] Expected Profit: 1545086.90677\n",
      "New best strategy at iteration  247  :  [ 147.  388.  539. 1090.  267.  256.  404.    0.    0.    0.    0.    0.\n",
      "    0.    0.] Expected Profit: 1545089.7204699998\n",
      "New best strategy at iteration  247  :  [ 147.  388.  539. 1090.  268.  255.  404.    0.    0.    0.    0.    0.\n",
      "    0.    0.] Expected Profit: 1545092.95677\n",
      "New best strategy at iteration  247  :  [ 147.  388.  539. 1090.  268.  256.  403.    0.    0.    0.    0.    0.\n",
      "    0.    0.] Expected Profit: 1545096.6116699998\n"
     ]
    },
    {
     "name": "stderr",
     "output_type": "stream",
     "text": [
      "\r",
      "  0%|                                                                         | 248/1000000 [00:52<62:36:49,  4.44it/s]"
     ]
    },
    {
     "name": "stdout",
     "output_type": "stream",
     "text": [
      "New best strategy at iteration  248  :  [ 146.  388.  539. 1090.  268.  256.  403.    0.    0.    0.    0.    0.\n",
      "    0.    0.] Expected Profit: 1545099.5359699999\n",
      "New best strategy at iteration  248  :  [ 147.  387.  539. 1090.  268.  256.  403.    0.    0.    0.    0.    0.\n",
      "    0.    0.] Expected Profit: 1545101.0119699999\n",
      "New best strategy at iteration  248  :  [ 147.  388.  538. 1090.  268.  256.  403.    0.    0.    0.    0.    0.\n",
      "    0.    0.] Expected Profit: 1545102.93097\n",
      "New best strategy at iteration  248  :  [ 147.  388.  539. 1089.  268.  256.  403.    0.    0.    0.    0.    0.\n",
      "    0.    0.] Expected Profit: 1545105.3294699998\n",
      "New best strategy at iteration  248  :  [ 147.  388.  539. 1090.  267.  256.  403.    0.    0.    0.    0.    0.\n",
      "    0.    0.] Expected Profit: 1545108.1431699998\n",
      "New best strategy at iteration  248  :  [ 147.  388.  539. 1090.  268.  255.  403.    0.    0.    0.    0.    0.\n",
      "    0.    0.] Expected Profit: 1545111.3794699998\n",
      "New best strategy at iteration  248  :  [ 147.  388.  539. 1090.  268.  256.  402.    0.    0.    0.    0.    0.\n",
      "    0.    0.] Expected Profit: 1545115.03437\n"
     ]
    },
    {
     "name": "stderr",
     "output_type": "stream",
     "text": [
      "  0%|                                                                         | 250/1000000 [00:53<62:13:42,  4.46it/s]"
     ]
    },
    {
     "name": "stdout",
     "output_type": "stream",
     "text": [
      "New best strategy at iteration  249  :  [ 146.  388.  539. 1090.  268.  256.  402.    0.    0.    0.    0.    0.\n",
      "    0.    0.] Expected Profit: 1545117.9586699998\n",
      "New best strategy at iteration  249  :  [ 147.  387.  539. 1090.  268.  256.  402.    0.    0.    0.    0.    0.\n",
      "    0.    0.] Expected Profit: 1545119.43467\n",
      "New best strategy at iteration  249  :  [ 147.  388.  538. 1090.  268.  256.  402.    0.    0.    0.    0.    0.\n",
      "    0.    0.] Expected Profit: 1545121.35367\n",
      "New best strategy at iteration  249  :  [ 147.  388.  539. 1089.  268.  256.  402.    0.    0.    0.    0.    0.\n",
      "    0.    0.] Expected Profit: 1545123.7521699998\n",
      "New best strategy at iteration  249  :  [ 147.  388.  539. 1090.  267.  256.  402.    0.    0.    0.    0.    0.\n",
      "    0.    0.] Expected Profit: 1545126.56587\n",
      "New best strategy at iteration  249  :  [ 147.  388.  539. 1090.  268.  255.  402.    0.    0.    0.    0.    0.\n",
      "    0.    0.] Expected Profit: 1545129.80217\n",
      "New best strategy at iteration  249  :  [ 147.  388.  539. 1090.  268.  256.  401.    0.    0.    0.    0.    0.\n",
      "    0.    0.] Expected Profit: 1545133.4570699998\n",
      "New best strategy at iteration  250  :  [ 146.  388.  539. 1090.  268.  256.  401.    0.    0.    0.    0.    0.\n",
      "    0.    0.] Expected Profit: 1545136.3813699998\n",
      "New best strategy at iteration  250  :  [ 147.  387.  539. 1090.  268.  256.  401.    0.    0.    0.    0.    0.\n",
      "    0.    0.] Expected Profit: 1545137.8573699996\n",
      "New best strategy at iteration  250  :  [ 147.  388.  538. 1090.  268.  256.  401.    0.    0.    0.    0.    0.\n",
      "    0.    0.] Expected Profit: 1545139.7763699999\n",
      "New best strategy at iteration  250  :  [ 147.  388.  539. 1089.  268.  256.  401.    0.    0.    0.    0.    0.\n",
      "    0.    0.] Expected Profit: 1545142.1748699998\n",
      "New best strategy at iteration  250  :  [ 147.  388.  539. 1090.  267.  256.  401.    0.    0.    0.    0.    0.\n",
      "    0.    0.] Expected Profit: 1545144.98857\n",
      "New best strategy at iteration  250  :  [ 147.  388.  539. 1090.  268.  255.  401.    0.    0.    0.    0.    0.\n",
      "    0.    0.] Expected Profit: 1545148.2248699998\n",
      "New best strategy at iteration  250  :  [ 147.  388.  539. 1090.  268.  256.  400.    0.    0.    0.    0.    0.\n",
      "    0.    0.] Expected Profit: 1545151.8797699998\n"
     ]
    },
    {
     "name": "stderr",
     "output_type": "stream",
     "text": [
      "\r",
      "  0%|                                                                         | 251/1000000 [00:53<61:50:17,  4.49it/s]"
     ]
    },
    {
     "name": "stdout",
     "output_type": "stream",
     "text": [
      "New best strategy at iteration  251  :  [ 146.  388.  539. 1090.  268.  256.  400.    0.    0.    0.    0.    0.\n",
      "    0.    0.] Expected Profit: 1545154.8040699998\n",
      "New best strategy at iteration  251  :  [ 147.  387.  539. 1090.  268.  256.  400.    0.    0.    0.    0.    0.\n",
      "    0.    0.] Expected Profit: 1545156.2800699996\n",
      "New best strategy at iteration  251  :  [ 147.  388.  538. 1090.  268.  256.  400.    0.    0.    0.    0.    0.\n",
      "    0.    0.] Expected Profit: 1545158.1990699999\n",
      "New best strategy at iteration  251  :  [ 147.  388.  539. 1089.  268.  256.  400.    0.    0.    0.    0.    0.\n",
      "    0.    0.] Expected Profit: 1545160.5975699998\n",
      "New best strategy at iteration  251  :  [ 147.  388.  539. 1090.  267.  256.  400.    0.    0.    0.    0.    0.\n",
      "    0.    0.] Expected Profit: 1545163.41127\n",
      "New best strategy at iteration  251  :  [ 147.  388.  539. 1090.  268.  255.  400.    0.    0.    0.    0.    0.\n",
      "    0.    0.] Expected Profit: 1545166.64757\n",
      "New best strategy at iteration  251  :  [ 147.  388.  539. 1090.  268.  256.  399.    0.    0.    0.    0.    0.\n",
      "    0.    0.] Expected Profit: 1545170.30247\n"
     ]
    },
    {
     "name": "stderr",
     "output_type": "stream",
     "text": [
      "\r",
      "  0%|                                                                         | 252/1000000 [00:53<61:59:07,  4.48it/s]"
     ]
    },
    {
     "name": "stdout",
     "output_type": "stream",
     "text": [
      "New best strategy at iteration  252  :  [ 146.  388.  539. 1090.  268.  256.  399.    0.    0.    0.    0.    0.\n",
      "    0.    0.] Expected Profit: 1545173.22677\n",
      "New best strategy at iteration  252  :  [ 147.  387.  539. 1090.  268.  256.  399.    0.    0.    0.    0.    0.\n",
      "    0.    0.] Expected Profit: 1545174.70277\n",
      "New best strategy at iteration  252  :  [ 147.  388.  538. 1090.  268.  256.  399.    0.    0.    0.    0.    0.\n",
      "    0.    0.] Expected Profit: 1545176.62177\n",
      "New best strategy at iteration  252  :  [ 147.  388.  539. 1089.  268.  256.  399.    0.    0.    0.    0.    0.\n",
      "    0.    0.] Expected Profit: 1545179.02027\n",
      "New best strategy at iteration  252  :  [ 147.  388.  539. 1090.  267.  256.  399.    0.    0.    0.    0.    0.\n",
      "    0.    0.] Expected Profit: 1545181.83397\n",
      "New best strategy at iteration  252  :  [ 147.  388.  539. 1090.  268.  255.  399.    0.    0.    0.    0.    0.\n",
      "    0.    0.] Expected Profit: 1545185.07027\n",
      "New best strategy at iteration  252  :  [ 147.  388.  539. 1090.  268.  256.  398.    0.    0.    0.    0.    0.\n",
      "    0.    0.] Expected Profit: 1545188.7251699998\n"
     ]
    },
    {
     "name": "stderr",
     "output_type": "stream",
     "text": [
      "\r",
      "  0%|                                                                         | 253/1000000 [00:53<62:12:35,  4.46it/s]"
     ]
    },
    {
     "name": "stdout",
     "output_type": "stream",
     "text": [
      "New best strategy at iteration  253  :  [ 146.  388.  539. 1090.  268.  256.  398.    0.    0.    0.    0.    0.\n",
      "    0.    0.] Expected Profit: 1545191.64947\n",
      "New best strategy at iteration  253  :  [ 147.  387.  539. 1090.  268.  256.  398.    0.    0.    0.    0.    0.\n",
      "    0.    0.] Expected Profit: 1545193.1254699999\n",
      "New best strategy at iteration  253  :  [ 147.  388.  538. 1090.  268.  256.  398.    0.    0.    0.    0.    0.\n",
      "    0.    0.] Expected Profit: 1545195.0444700003\n",
      "New best strategy at iteration  253  :  [ 147.  388.  539. 1089.  268.  256.  398.    0.    0.    0.    0.    0.\n",
      "    0.    0.] Expected Profit: 1545197.4429699997\n",
      "New best strategy at iteration  253  :  [ 147.  388.  539. 1090.  267.  256.  398.    0.    0.    0.    0.    0.\n",
      "    0.    0.] Expected Profit: 1545200.2566699998\n",
      "New best strategy at iteration  253  :  [ 147.  388.  539. 1090.  268.  255.  398.    0.    0.    0.    0.    0.\n",
      "    0.    0.] Expected Profit: 1545203.4929699998\n",
      "New best strategy at iteration  253  :  [ 147.  388.  539. 1090.  268.  256.  397.    0.    0.    0.    0.    0.\n",
      "    0.    0.] Expected Profit: 1545207.1478700002\n"
     ]
    },
    {
     "name": "stderr",
     "output_type": "stream",
     "text": [
      "\r",
      "  0%|                                                                         | 254/1000000 [00:53<62:02:20,  4.48it/s]"
     ]
    },
    {
     "name": "stdout",
     "output_type": "stream",
     "text": [
      "New best strategy at iteration  254  :  [ 146.  388.  539. 1090.  268.  256.  397.    0.    0.    0.    0.    0.\n",
      "    0.    0.] Expected Profit: 1545210.07217\n",
      "New best strategy at iteration  254  :  [ 147.  387.  539. 1090.  268.  256.  397.    0.    0.    0.    0.    0.\n",
      "    0.    0.] Expected Profit: 1545211.54817\n",
      "New best strategy at iteration  254  :  [ 147.  388.  538. 1090.  268.  256.  397.    0.    0.    0.    0.    0.\n",
      "    0.    0.] Expected Profit: 1545213.46717\n",
      "New best strategy at iteration  254  :  [ 147.  388.  539. 1089.  268.  256.  397.    0.    0.    0.    0.    0.\n",
      "    0.    0.] Expected Profit: 1545215.8656699997\n",
      "New best strategy at iteration  254  :  [ 147.  388.  539. 1090.  267.  256.  397.    0.    0.    0.    0.    0.\n",
      "    0.    0.] Expected Profit: 1545218.6793699998\n",
      "New best strategy at iteration  254  :  [ 147.  388.  539. 1090.  268.  255.  397.    0.    0.    0.    0.    0.\n",
      "    0.    0.] Expected Profit: 1545221.9156699998\n",
      "New best strategy at iteration  254  :  [ 147.  388.  539. 1090.  268.  256.  396.    0.    0.    0.    0.    0.\n",
      "    0.    0.] Expected Profit: 1545225.57057\n"
     ]
    },
    {
     "name": "stderr",
     "output_type": "stream",
     "text": [
      "  0%|                                                                         | 256/1000000 [00:54<60:19:10,  4.60it/s]"
     ]
    },
    {
     "name": "stdout",
     "output_type": "stream",
     "text": [
      "New best strategy at iteration  255  :  [ 146.  388.  539. 1090.  268.  256.  396.    0.    0.    0.    0.    0.\n",
      "    0.    0.] Expected Profit: 1545228.4948699996\n",
      "New best strategy at iteration  255  :  [ 147.  387.  539. 1090.  268.  256.  396.    0.    0.    0.    0.    0.\n",
      "    0.    0.] Expected Profit: 1545229.9708699998\n",
      "New best strategy at iteration  255  :  [ 147.  388.  538. 1090.  268.  256.  396.    0.    0.    0.    0.    0.\n",
      "    0.    0.] Expected Profit: 1545231.8898699998\n",
      "New best strategy at iteration  255  :  [ 147.  388.  539. 1089.  268.  256.  396.    0.    0.    0.    0.    0.\n",
      "    0.    0.] Expected Profit: 1545234.28837\n",
      "New best strategy at iteration  255  :  [ 147.  388.  539. 1090.  267.  256.  396.    0.    0.    0.    0.    0.\n",
      "    0.    0.] Expected Profit: 1545237.10207\n",
      "New best strategy at iteration  255  :  [ 147.  388.  539. 1090.  268.  255.  396.    0.    0.    0.    0.    0.\n",
      "    0.    0.] Expected Profit: 1545240.3383699998\n",
      "New best strategy at iteration  255  :  [ 147.  388.  539. 1090.  268.  256.  395.    0.    0.    0.    0.    0.\n",
      "    0.    0.] Expected Profit: 1545243.99327\n"
     ]
    },
    {
     "name": "stderr",
     "output_type": "stream",
     "text": [
      "\r",
      "  0%|                                                                         | 257/1000000 [00:54<60:56:19,  4.56it/s]"
     ]
    },
    {
     "name": "stdout",
     "output_type": "stream",
     "text": [
      "New best strategy at iteration  256  :  [ 146.  388.  539. 1090.  268.  256.  395.    0.    0.    0.    0.    0.\n",
      "    0.    0.] Expected Profit: 1545246.91757\n",
      "New best strategy at iteration  256  :  [ 147.  387.  539. 1090.  268.  256.  395.    0.    0.    0.    0.    0.\n",
      "    0.    0.] Expected Profit: 1545248.3935699996\n",
      "New best strategy at iteration  256  :  [ 147.  388.  538. 1090.  268.  256.  395.    0.    0.    0.    0.    0.\n",
      "    0.    0.] Expected Profit: 1545250.3125699998\n",
      "New best strategy at iteration  256  :  [ 147.  388.  539. 1089.  268.  256.  395.    0.    0.    0.    0.    0.\n",
      "    0.    0.] Expected Profit: 1545252.7110699997\n",
      "New best strategy at iteration  256  :  [ 147.  388.  539. 1090.  267.  256.  395.    0.    0.    0.    0.    0.\n",
      "    0.    0.] Expected Profit: 1545255.52477\n",
      "New best strategy at iteration  256  :  [ 147.  388.  539. 1090.  268.  255.  395.    0.    0.    0.    0.    0.\n",
      "    0.    0.] Expected Profit: 1545258.76107\n",
      "New best strategy at iteration  256  :  [ 147.  388.  539. 1090.  268.  256.  394.    0.    0.    0.    0.    0.\n",
      "    0.    0.] Expected Profit: 1545262.41597\n",
      "New best strategy at iteration  257  :  [ 146.  388.  539. 1090.  268.  256.  394.    0.    0.    0.    0.    0.\n",
      "    0.    0.] Expected Profit: 1545265.34027\n",
      "New best strategy at iteration  257  :  [ 147.  387.  539. 1090.  268.  256.  394.    0.    0.    0.    0.    0.\n",
      "    0.    0.] Expected Profit: 1545266.81627\n",
      "New best strategy at iteration  257  :  [ 147.  388.  538. 1090.  268.  256.  394.    0.    0.    0.    0.    0.\n",
      "    0.    0.] Expected Profit: 1545268.73527\n",
      "New best strategy at iteration  257  :  [ 147.  388.  539. 1089.  268.  256.  394.    0.    0.    0.    0.    0.\n",
      "    0.    0.] Expected Profit: 1545271.13377\n",
      "New best strategy at iteration  257  :  [ 147.  388.  539. 1090.  267.  256.  394.    0.    0.    0.    0.    0.\n",
      "    0.    0.] Expected Profit: 1545273.94747\n",
      "New best strategy at iteration  257  :  [ 147.  388.  539. 1090.  268.  255.  394.    0.    0.    0.    0.    0.\n",
      "    0.    0.] Expected Profit: 1545277.18377\n",
      "New best strategy at iteration  257  :  [ 147.  388.  539. 1090.  268.  256.  393.    0.    0.    0.    0.    0.\n",
      "    0.    0.] Expected Profit: 1545280.83867\n"
     ]
    },
    {
     "name": "stderr",
     "output_type": "stream",
     "text": [
      "\r",
      "  0%|                                                                         | 258/1000000 [00:54<64:28:32,  4.31it/s]"
     ]
    },
    {
     "name": "stdout",
     "output_type": "stream",
     "text": [
      "New best strategy at iteration  258  :  [ 146.  388.  539. 1090.  268.  256.  393.    0.    0.    0.    0.    0.\n",
      "    0.    0.] Expected Profit: 1545283.76297\n",
      "New best strategy at iteration  258  :  [ 147.  387.  539. 1090.  268.  256.  393.    0.    0.    0.    0.    0.\n",
      "    0.    0.] Expected Profit: 1545285.2389699998\n",
      "New best strategy at iteration  258  :  [ 147.  388.  538. 1090.  268.  256.  393.    0.    0.    0.    0.    0.\n",
      "    0.    0.] Expected Profit: 1545287.15797\n",
      "New best strategy at iteration  258  :  [ 147.  388.  539. 1089.  268.  256.  393.    0.    0.    0.    0.    0.\n",
      "    0.    0.] Expected Profit: 1545289.5564699997\n",
      "New best strategy at iteration  258  :  [ 147.  388.  539. 1090.  267.  256.  393.    0.    0.    0.    0.    0.\n",
      "    0.    0.] Expected Profit: 1545292.3701699998\n",
      "New best strategy at iteration  258  :  [ 147.  388.  539. 1090.  268.  255.  393.    0.    0.    0.    0.    0.\n",
      "    0.    0.] Expected Profit: 1545295.6064699998\n",
      "New best strategy at iteration  258  :  [ 147.  388.  539. 1090.  268.  256.  392.    0.    0.    0.    0.    0.\n",
      "    0.    0.] Expected Profit: 1545299.26137\n"
     ]
    },
    {
     "name": "stderr",
     "output_type": "stream",
     "text": [
      "\r",
      "  0%|                                                                         | 259/1000000 [00:55<66:25:49,  4.18it/s]"
     ]
    },
    {
     "name": "stdout",
     "output_type": "stream",
     "text": [
      "New best strategy at iteration  259  :  [ 146.  388.  539. 1090.  268.  256.  392.    0.    0.    0.    0.    0.\n",
      "    0.    0.] Expected Profit: 1545302.1856699998\n",
      "New best strategy at iteration  259  :  [ 147.  387.  539. 1090.  268.  256.  392.    0.    0.    0.    0.    0.\n",
      "    0.    0.] Expected Profit: 1545303.66167\n",
      "New best strategy at iteration  259  :  [ 147.  388.  538. 1090.  268.  256.  392.    0.    0.    0.    0.    0.\n",
      "    0.    0.] Expected Profit: 1545305.58067\n",
      "New best strategy at iteration  259  :  [ 147.  388.  539. 1089.  268.  256.  392.    0.    0.    0.    0.    0.\n",
      "    0.    0.] Expected Profit: 1545307.97917\n",
      "New best strategy at iteration  259  :  [ 147.  388.  539. 1090.  267.  256.  392.    0.    0.    0.    0.    0.\n",
      "    0.    0.] Expected Profit: 1545310.7928699998\n",
      "New best strategy at iteration  259  :  [ 147.  388.  539. 1090.  268.  255.  392.    0.    0.    0.    0.    0.\n",
      "    0.    0.] Expected Profit: 1545314.0291699995\n",
      "New best strategy at iteration  259  :  [ 147.  388.  539. 1090.  268.  256.  391.    0.    0.    0.    0.    0.\n",
      "    0.    0.] Expected Profit: 1545317.68407\n"
     ]
    },
    {
     "name": "stderr",
     "output_type": "stream",
     "text": [
      "  0%|                                                                         | 261/1000000 [00:55<65:21:50,  4.25it/s]"
     ]
    },
    {
     "name": "stdout",
     "output_type": "stream",
     "text": [
      "New best strategy at iteration  260  :  [ 146.  388.  539. 1090.  268.  256.  391.    0.    0.    0.    0.    0.\n",
      "    0.    0.] Expected Profit: 1545320.6083699998\n",
      "New best strategy at iteration  260  :  [ 147.  387.  539. 1090.  268.  256.  391.    0.    0.    0.    0.    0.\n",
      "    0.    0.] Expected Profit: 1545322.0843699998\n",
      "New best strategy at iteration  260  :  [ 147.  388.  538. 1090.  268.  256.  391.    0.    0.    0.    0.    0.\n",
      "    0.    0.] Expected Profit: 1545324.00337\n",
      "New best strategy at iteration  260  :  [ 147.  388.  539. 1089.  268.  256.  391.    0.    0.    0.    0.    0.\n",
      "    0.    0.] Expected Profit: 1545326.40187\n",
      "New best strategy at iteration  260  :  [ 147.  388.  539. 1090.  267.  256.  391.    0.    0.    0.    0.    0.\n",
      "    0.    0.] Expected Profit: 1545329.2155700002\n",
      "New best strategy at iteration  260  :  [ 147.  388.  539. 1090.  268.  255.  391.    0.    0.    0.    0.    0.\n",
      "    0.    0.] Expected Profit: 1545332.45187\n",
      "New best strategy at iteration  260  :  [ 147.  388.  539. 1090.  268.  256.  390.    0.    0.    0.    0.    0.\n",
      "    0.    0.] Expected Profit: 1545336.10677\n"
     ]
    },
    {
     "name": "stderr",
     "output_type": "stream",
     "text": [
      "\r",
      "  0%|                                                                         | 262/1000000 [00:55<63:57:16,  4.34it/s]"
     ]
    },
    {
     "name": "stdout",
     "output_type": "stream",
     "text": [
      "New best strategy at iteration  261  :  [ 146.  388.  539. 1090.  268.  256.  390.    0.    0.    0.    0.    0.\n",
      "    0.    0.] Expected Profit: 1545339.03107\n",
      "New best strategy at iteration  261  :  [ 147.  387.  539. 1090.  268.  256.  390.    0.    0.    0.    0.    0.\n",
      "    0.    0.] Expected Profit: 1545340.5070700003\n",
      "New best strategy at iteration  261  :  [ 147.  388.  538. 1090.  268.  256.  390.    0.    0.    0.    0.    0.\n",
      "    0.    0.] Expected Profit: 1545342.42607\n",
      "New best strategy at iteration  261  :  [ 147.  388.  539. 1089.  268.  256.  390.    0.    0.    0.    0.    0.\n",
      "    0.    0.] Expected Profit: 1545344.8245699997\n",
      "New best strategy at iteration  261  :  [ 147.  388.  539. 1090.  267.  256.  390.    0.    0.    0.    0.    0.\n",
      "    0.    0.] Expected Profit: 1545347.63827\n",
      "New best strategy at iteration  261  :  [ 147.  388.  539. 1090.  268.  255.  390.    0.    0.    0.    0.    0.\n",
      "    0.    0.] Expected Profit: 1545350.87457\n",
      "New best strategy at iteration  261  :  [ 147.  388.  539. 1090.  268.  256.  389.    0.    0.    0.    0.    0.\n",
      "    0.    0.] Expected Profit: 1545354.5294699997\n"
     ]
    },
    {
     "name": "stderr",
     "output_type": "stream",
     "text": [
      "\r",
      "  0%|                                                                         | 263/1000000 [00:56<62:43:43,  4.43it/s]"
     ]
    },
    {
     "name": "stdout",
     "output_type": "stream",
     "text": [
      "New best strategy at iteration  262  :  [ 146.  388.  539. 1090.  268.  256.  389.    0.    0.    0.    0.    0.\n",
      "    0.    0.] Expected Profit: 1545357.45377\n",
      "New best strategy at iteration  262  :  [ 147.  387.  539. 1090.  268.  256.  389.    0.    0.    0.    0.    0.\n",
      "    0.    0.] Expected Profit: 1545358.92977\n",
      "New best strategy at iteration  262  :  [ 147.  388.  538. 1090.  268.  256.  389.    0.    0.    0.    0.    0.\n",
      "    0.    0.] Expected Profit: 1545360.84877\n",
      "New best strategy at iteration  262  :  [ 147.  388.  539. 1089.  268.  256.  389.    0.    0.    0.    0.    0.\n",
      "    0.    0.] Expected Profit: 1545363.24727\n",
      "New best strategy at iteration  262  :  [ 147.  388.  539. 1090.  267.  256.  389.    0.    0.    0.    0.    0.\n",
      "    0.    0.] Expected Profit: 1545366.06097\n",
      "New best strategy at iteration  262  :  [ 147.  388.  539. 1090.  268.  255.  389.    0.    0.    0.    0.    0.\n",
      "    0.    0.] Expected Profit: 1545369.29727\n",
      "New best strategy at iteration  262  :  [ 147.  388.  539. 1090.  268.  256.  388.    0.    0.    0.    0.    0.\n",
      "    0.    0.] Expected Profit: 1545372.9521700002\n"
     ]
    },
    {
     "name": "stderr",
     "output_type": "stream",
     "text": [
      "\r",
      "  0%|                                                                         | 264/1000000 [00:56<61:55:22,  4.48it/s]"
     ]
    },
    {
     "name": "stdout",
     "output_type": "stream",
     "text": [
      "New best strategy at iteration  263  :  [ 146.  388.  539. 1090.  268.  256.  388.    0.    0.    0.    0.    0.\n",
      "    0.    0.] Expected Profit: 1545375.87647\n",
      "New best strategy at iteration  263  :  [ 147.  387.  539. 1090.  268.  256.  388.    0.    0.    0.    0.    0.\n",
      "    0.    0.] Expected Profit: 1545377.3524699998\n",
      "New best strategy at iteration  263  :  [ 147.  388.  538. 1090.  268.  256.  388.    0.    0.    0.    0.    0.\n",
      "    0.    0.] Expected Profit: 1545379.27147\n",
      "New best strategy at iteration  263  :  [ 147.  388.  539. 1089.  268.  256.  388.    0.    0.    0.    0.    0.\n",
      "    0.    0.] Expected Profit: 1545381.6699699997\n",
      "New best strategy at iteration  263  :  [ 147.  388.  539. 1090.  267.  256.  388.    0.    0.    0.    0.    0.\n",
      "    0.    0.] Expected Profit: 1545384.48367\n",
      "New best strategy at iteration  263  :  [ 147.  388.  539. 1090.  268.  255.  388.    0.    0.    0.    0.    0.\n",
      "    0.    0.] Expected Profit: 1545387.7199699997\n",
      "New best strategy at iteration  263  :  [ 147.  388.  539. 1090.  268.  256.  387.    0.    0.    0.    0.    0.\n",
      "    0.    0.] Expected Profit: 1545391.37487\n"
     ]
    },
    {
     "name": "stderr",
     "output_type": "stream",
     "text": [
      "\r",
      "  0%|                                                                         | 265/1000000 [00:56<61:32:58,  4.51it/s]"
     ]
    },
    {
     "name": "stdout",
     "output_type": "stream",
     "text": [
      "New best strategy at iteration  264  :  [ 146.  388.  539. 1090.  268.  256.  387.    0.    0.    0.    0.    0.\n",
      "    0.    0.] Expected Profit: 1545394.2991699998\n",
      "New best strategy at iteration  264  :  [ 147.  387.  539. 1090.  268.  256.  387.    0.    0.    0.    0.    0.\n",
      "    0.    0.] Expected Profit: 1545395.77517\n",
      "New best strategy at iteration  264  :  [ 147.  388.  538. 1090.  268.  256.  387.    0.    0.    0.    0.    0.\n",
      "    0.    0.] Expected Profit: 1545397.69417\n",
      "New best strategy at iteration  264  :  [ 147.  388.  539. 1089.  268.  256.  387.    0.    0.    0.    0.    0.\n",
      "    0.    0.] Expected Profit: 1545400.0926699997\n",
      "New best strategy at iteration  264  :  [ 147.  388.  539. 1090.  267.  256.  387.    0.    0.    0.    0.    0.\n",
      "    0.    0.] Expected Profit: 1545402.9063700002\n",
      "New best strategy at iteration  264  :  [ 147.  388.  539. 1090.  268.  255.  387.    0.    0.    0.    0.    0.\n",
      "    0.    0.] Expected Profit: 1545406.14267\n",
      "New best strategy at iteration  264  :  [ 147.  388.  539. 1090.  268.  256.  386.    0.    0.    0.    0.    0.\n",
      "    0.    0.] Expected Profit: 1545409.79757\n",
      "New best strategy at iteration  265  :  [ 146.  388.  539. 1090.  268.  256.  386.    0.    0.    0.    0.    0.\n",
      "    0.    0.] Expected Profit: 1545412.7218699998\n",
      "New best strategy at iteration  265  :  [ 147.  387.  539. 1090.  268.  256.  386.    0.    0.    0.    0.    0.\n",
      "    0.    0.] Expected Profit: 1545414.1978699998\n",
      "New best strategy at iteration  265  :  [ 147.  388.  538. 1090.  268.  256.  386.    0.    0.    0.    0.    0.\n",
      "    0.    0.] Expected Profit: 1545416.11687\n",
      "New best strategy at iteration  265  :  [ 147.  388.  539. 1089.  268.  256.  386.    0.    0.    0.    0.    0.\n",
      "    0.    0.] Expected Profit: 1545418.51537\n",
      "New best strategy at iteration  265  :  [ 147.  388.  539. 1090.  267.  256.  386.    0.    0.    0.    0.    0.\n",
      "    0.    0.] Expected Profit: 1545421.3290700002\n",
      "New best strategy at iteration  265  :  [ 147.  388.  539. 1090.  268.  255.  386.    0.    0.    0.    0.    0.\n",
      "    0.    0.] Expected Profit: 1545424.56537\n",
      "New best strategy at iteration  265  :  [ 147.  388.  539. 1090.  268.  256.  385.    0.    0.    0.    0.    0.\n",
      "    0.    0.] Expected Profit: 1545428.22027\n"
     ]
    },
    {
     "name": "stderr",
     "output_type": "stream",
     "text": [
      "\r",
      "  0%|                                                                         | 266/1000000 [00:56<61:42:59,  4.50it/s]"
     ]
    },
    {
     "name": "stdout",
     "output_type": "stream",
     "text": [
      "New best strategy at iteration  266  :  [ 146.  388.  539. 1090.  268.  256.  385.    0.    0.    0.    0.    0.\n",
      "    0.    0.] Expected Profit: 1545431.14457\n",
      "New best strategy at iteration  266  :  [ 147.  387.  539. 1090.  268.  256.  385.    0.    0.    0.    0.    0.\n",
      "    0.    0.] Expected Profit: 1545432.62057\n",
      "New best strategy at iteration  266  :  [ 147.  388.  538. 1090.  268.  256.  385.    0.    0.    0.    0.    0.\n",
      "    0.    0.] Expected Profit: 1545434.53957\n",
      "New best strategy at iteration  266  :  [ 147.  388.  539. 1089.  268.  256.  385.    0.    0.    0.    0.    0.\n",
      "    0.    0.] Expected Profit: 1545436.9380699997\n",
      "New best strategy at iteration  266  :  [ 147.  388.  539. 1090.  267.  256.  385.    0.    0.    0.    0.    0.\n",
      "    0.    0.] Expected Profit: 1545439.75177\n",
      "New best strategy at iteration  266  :  [ 147.  388.  539. 1090.  268.  255.  385.    0.    0.    0.    0.    0.\n",
      "    0.    0.] Expected Profit: 1545442.98807\n",
      "New best strategy at iteration  266  :  [ 147.  388.  539. 1090.  268.  256.  384.    0.    0.    0.    0.    0.\n",
      "    0.    0.] Expected Profit: 1545446.64297\n"
     ]
    },
    {
     "name": "stderr",
     "output_type": "stream",
     "text": [
      "\r",
      "  0%|                                                                         | 267/1000000 [00:56<60:57:35,  4.56it/s]"
     ]
    },
    {
     "name": "stdout",
     "output_type": "stream",
     "text": [
      "New best strategy at iteration  267  :  [ 146.  388.  539. 1090.  268.  256.  384.    0.    0.    0.    0.    0.\n",
      "    0.    0.] Expected Profit: 1545449.5672699998\n",
      "New best strategy at iteration  267  :  [ 147.  387.  539. 1090.  268.  256.  384.    0.    0.    0.    0.    0.\n",
      "    0.    0.] Expected Profit: 1545451.04327\n",
      "New best strategy at iteration  267  :  [ 147.  388.  538. 1090.  268.  256.  384.    0.    0.    0.    0.    0.\n",
      "    0.    0.] Expected Profit: 1545452.96227\n",
      "New best strategy at iteration  267  :  [ 147.  388.  539. 1089.  268.  256.  384.    0.    0.    0.    0.    0.\n",
      "    0.    0.] Expected Profit: 1545455.36077\n",
      "New best strategy at iteration  267  :  [ 147.  388.  539. 1090.  267.  256.  384.    0.    0.    0.    0.    0.\n",
      "    0.    0.] Expected Profit: 1545458.1744699997\n",
      "New best strategy at iteration  267  :  [ 147.  388.  539. 1090.  268.  255.  384.    0.    0.    0.    0.    0.\n",
      "    0.    0.] Expected Profit: 1545461.4107699997\n",
      "New best strategy at iteration  267  :  [ 147.  388.  539. 1090.  268.  256.  383.    0.    0.    0.    0.    0.\n",
      "    0.    0.] Expected Profit: 1545465.06567\n"
     ]
    },
    {
     "name": "stderr",
     "output_type": "stream",
     "text": [
      "  0%|                                                                         | 269/1000000 [00:57<59:49:55,  4.64it/s]"
     ]
    },
    {
     "name": "stdout",
     "output_type": "stream",
     "text": [
      "New best strategy at iteration  268  :  [ 146.  388.  539. 1090.  268.  256.  383.    0.    0.    0.    0.    0.\n",
      "    0.    0.] Expected Profit: 1545467.9899699998\n",
      "New best strategy at iteration  268  :  [ 147.  387.  539. 1090.  268.  256.  383.    0.    0.    0.    0.    0.\n",
      "    0.    0.] Expected Profit: 1545469.4659699998\n",
      "New best strategy at iteration  268  :  [ 147.  388.  538. 1090.  268.  256.  383.    0.    0.    0.    0.    0.\n",
      "    0.    0.] Expected Profit: 1545471.38497\n",
      "New best strategy at iteration  268  :  [ 147.  388.  539. 1089.  268.  256.  383.    0.    0.    0.    0.    0.\n",
      "    0.    0.] Expected Profit: 1545473.7834699997\n",
      "New best strategy at iteration  268  :  [ 147.  388.  539. 1090.  267.  256.  383.    0.    0.    0.    0.    0.\n",
      "    0.    0.] Expected Profit: 1545476.59717\n",
      "New best strategy at iteration  268  :  [ 147.  388.  539. 1090.  268.  255.  383.    0.    0.    0.    0.    0.\n",
      "    0.    0.] Expected Profit: 1545479.8334699997\n",
      "New best strategy at iteration  268  :  [ 147.  388.  539. 1090.  268.  256.  382.    0.    0.    0.    0.    0.\n",
      "    0.    0.] Expected Profit: 1545483.4883700002\n",
      "New best strategy at iteration  269  :  [ 146.  388.  539. 1090.  268.  256.  382.    0.    0.    0.    0.    0.\n",
      "    0.    0.] Expected Profit: 1545486.4126699998\n",
      "New best strategy at iteration  269  :  [ 147.  387.  539. 1090.  268.  256.  382.    0.    0.    0.    0.    0.\n",
      "    0.    0.] Expected Profit: 1545487.88867\n",
      "New best strategy at iteration  269  :  [ 147.  388.  538. 1090.  268.  256.  382.    0.    0.    0.    0.    0.\n",
      "    0.    0.] Expected Profit: 1545489.80767\n",
      "New best strategy at iteration  269  :  [ 147.  388.  539. 1089.  268.  256.  382.    0.    0.    0.    0.    0.\n",
      "    0.    0.] Expected Profit: 1545492.20617\n",
      "New best strategy at iteration  269  :  [ 147.  388.  539. 1090.  267.  256.  382.    0.    0.    0.    0.    0.\n",
      "    0.    0.] Expected Profit: 1545495.0198700002\n",
      "New best strategy at iteration  269  :  [ 147.  388.  539. 1090.  268.  255.  382.    0.    0.    0.    0.    0.\n",
      "    0.    0.] Expected Profit: 1545498.25617\n",
      "New best strategy at iteration  269  :  [ 147.  388.  539. 1090.  268.  256.  381.    0.    0.    0.    0.    0.\n",
      "    0.    0.] Expected Profit: 1545501.91107\n"
     ]
    },
    {
     "name": "stderr",
     "output_type": "stream",
     "text": [
      "\r",
      "  0%|                                                                         | 270/1000000 [00:57<59:47:28,  4.64it/s]"
     ]
    },
    {
     "name": "stdout",
     "output_type": "stream",
     "text": [
      "New best strategy at iteration  270  :  [ 146.  388.  539. 1090.  268.  256.  381.    0.    0.    0.    0.    0.\n",
      "    0.    0.] Expected Profit: 1545504.83537\n",
      "New best strategy at iteration  270  :  [ 147.  387.  539. 1090.  268.  256.  381.    0.    0.    0.    0.    0.\n",
      "    0.    0.] Expected Profit: 1545506.3113699998\n",
      "New best strategy at iteration  270  :  [ 147.  388.  538. 1090.  268.  256.  381.    0.    0.    0.    0.    0.\n",
      "    0.    0.] Expected Profit: 1545508.2303700002\n",
      "New best strategy at iteration  270  :  [ 147.  388.  539. 1089.  268.  256.  381.    0.    0.    0.    0.    0.\n",
      "    0.    0.] Expected Profit: 1545510.62887\n",
      "New best strategy at iteration  270  :  [ 147.  388.  539. 1090.  267.  256.  381.    0.    0.    0.    0.    0.\n",
      "    0.    0.] Expected Profit: 1545513.44257\n",
      "New best strategy at iteration  270  :  [ 147.  388.  539. 1090.  268.  255.  381.    0.    0.    0.    0.    0.\n",
      "    0.    0.] Expected Profit: 1545516.67887\n",
      "New best strategy at iteration  270  :  [ 147.  388.  539. 1090.  268.  256.  380.    0.    0.    0.    0.    0.\n",
      "    0.    0.] Expected Profit: 1545520.3337699997\n"
     ]
    },
    {
     "name": "stderr",
     "output_type": "stream",
     "text": [
      "\r",
      "  0%|                                                                         | 271/1000000 [00:57<61:49:36,  4.49it/s]"
     ]
    },
    {
     "name": "stdout",
     "output_type": "stream",
     "text": [
      "New best strategy at iteration  271  :  [ 146.  388.  539. 1090.  268.  256.  380.    0.    0.    0.    0.    0.\n",
      "    0.    0.] Expected Profit: 1545523.2580699997\n",
      "New best strategy at iteration  271  :  [ 147.  387.  539. 1090.  268.  256.  380.    0.    0.    0.    0.    0.\n",
      "    0.    0.] Expected Profit: 1545524.7340699998\n",
      "New best strategy at iteration  271  :  [ 147.  388.  538. 1090.  268.  256.  380.    0.    0.    0.    0.    0.\n",
      "    0.    0.] Expected Profit: 1545526.65307\n",
      "New best strategy at iteration  271  :  [ 147.  388.  539. 1089.  268.  256.  380.    0.    0.    0.    0.    0.\n",
      "    0.    0.] Expected Profit: 1545529.0515699997\n",
      "New best strategy at iteration  271  :  [ 147.  388.  539. 1090.  267.  256.  380.    0.    0.    0.    0.    0.\n",
      "    0.    0.] Expected Profit: 1545531.86527\n",
      "New best strategy at iteration  271  :  [ 147.  388.  539. 1090.  268.  255.  380.    0.    0.    0.    0.    0.\n",
      "    0.    0.] Expected Profit: 1545535.10157\n",
      "New best strategy at iteration  271  :  [ 147.  388.  539. 1090.  268.  256.  379.    0.    0.    0.    0.    0.\n",
      "    0.    0.] Expected Profit: 1545538.7564700001\n"
     ]
    },
    {
     "name": "stderr",
     "output_type": "stream",
     "text": [
      "\r",
      "  0%|                                                                         | 272/1000000 [00:57<61:26:41,  4.52it/s]"
     ]
    },
    {
     "name": "stdout",
     "output_type": "stream",
     "text": [
      "New best strategy at iteration  272  :  [ 146.  388.  539. 1090.  268.  256.  379.    0.    0.    0.    0.    0.\n",
      "    0.    0.] Expected Profit: 1545541.68077\n",
      "New best strategy at iteration  272  :  [ 147.  387.  539. 1090.  268.  256.  379.    0.    0.    0.    0.    0.\n",
      "    0.    0.] Expected Profit: 1545543.15677\n",
      "New best strategy at iteration  272  :  [ 147.  388.  538. 1090.  268.  256.  379.    0.    0.    0.    0.    0.\n",
      "    0.    0.] Expected Profit: 1545545.07577\n",
      "New best strategy at iteration  272  :  [ 147.  388.  539. 1089.  268.  256.  379.    0.    0.    0.    0.    0.\n",
      "    0.    0.] Expected Profit: 1545547.4742699997\n",
      "New best strategy at iteration  272  :  [ 147.  388.  539. 1090.  267.  256.  379.    0.    0.    0.    0.    0.\n",
      "    0.    0.] Expected Profit: 1545550.28797\n",
      "New best strategy at iteration  272  :  [ 147.  388.  539. 1090.  268.  255.  379.    0.    0.    0.    0.    0.\n",
      "    0.    0.] Expected Profit: 1545553.52427\n",
      "New best strategy at iteration  272  :  [ 147.  388.  539. 1090.  268.  256.  378.    0.    0.    0.    0.    0.\n",
      "    0.    0.] Expected Profit: 1545557.1791700001\n"
     ]
    },
    {
     "name": "stderr",
     "output_type": "stream",
     "text": [
      "  0%|                                                                         | 274/1000000 [00:58<60:59:51,  4.55it/s]"
     ]
    },
    {
     "name": "stdout",
     "output_type": "stream",
     "text": [
      "New best strategy at iteration  273  :  [ 146.  388.  539. 1090.  268.  256.  378.    0.    0.    0.    0.    0.\n",
      "    0.    0.] Expected Profit: 1545560.10347\n",
      "New best strategy at iteration  273  :  [ 147.  387.  539. 1090.  268.  256.  378.    0.    0.    0.    0.    0.\n",
      "    0.    0.] Expected Profit: 1545561.5794699998\n",
      "New best strategy at iteration  273  :  [ 147.  388.  538. 1090.  268.  256.  378.    0.    0.    0.    0.    0.\n",
      "    0.    0.] Expected Profit: 1545563.49847\n",
      "New best strategy at iteration  273  :  [ 147.  388.  539. 1089.  268.  256.  378.    0.    0.    0.    0.    0.\n",
      "    0.    0.] Expected Profit: 1545565.89697\n",
      "New best strategy at iteration  273  :  [ 147.  388.  539. 1090.  267.  256.  378.    0.    0.    0.    0.    0.\n",
      "    0.    0.] Expected Profit: 1545568.7106700002\n",
      "New best strategy at iteration  273  :  [ 147.  388.  539. 1090.  268.  255.  378.    0.    0.    0.    0.    0.\n",
      "    0.    0.] Expected Profit: 1545571.9469699997\n",
      "New best strategy at iteration  273  :  [ 147.  388.  539. 1090.  268.  256.  377.    0.    0.    0.    0.    0.\n",
      "    0.    0.] Expected Profit: 1545575.60187\n"
     ]
    },
    {
     "name": "stderr",
     "output_type": "stream",
     "text": [
      "\r",
      "  0%|                                                                         | 275/1000000 [00:58<60:36:38,  4.58it/s]"
     ]
    },
    {
     "name": "stdout",
     "output_type": "stream",
     "text": [
      "New best strategy at iteration  274  :  [ 146.  388.  539. 1090.  268.  256.  377.    0.    0.    0.    0.    0.\n",
      "    0.    0.] Expected Profit: 1545578.5261699997\n",
      "New best strategy at iteration  274  :  [ 147.  387.  539. 1090.  268.  256.  377.    0.    0.    0.    0.    0.\n",
      "    0.    0.] Expected Profit: 1545580.00217\n",
      "New best strategy at iteration  274  :  [ 147.  388.  538. 1090.  268.  256.  377.    0.    0.    0.    0.    0.\n",
      "    0.    0.] Expected Profit: 1545581.92117\n",
      "New best strategy at iteration  274  :  [ 147.  388.  539. 1089.  268.  256.  377.    0.    0.    0.    0.    0.\n",
      "    0.    0.] Expected Profit: 1545584.3196699999\n",
      "New best strategy at iteration  274  :  [ 147.  388.  539. 1090.  267.  256.  377.    0.    0.    0.    0.    0.\n",
      "    0.    0.] Expected Profit: 1545587.13337\n",
      "New best strategy at iteration  274  :  [ 147.  388.  539. 1090.  268.  255.  377.    0.    0.    0.    0.    0.\n",
      "    0.    0.] Expected Profit: 1545590.3696700002\n",
      "New best strategy at iteration  274  :  [ 147.  388.  539. 1090.  268.  256.  376.    0.    0.    0.    0.    0.\n",
      "    0.    0.] Expected Profit: 1545594.02457\n"
     ]
    },
    {
     "name": "stderr",
     "output_type": "stream",
     "text": [
      "\r",
      "  0%|                                                                         | 276/1000000 [00:58<60:19:54,  4.60it/s]"
     ]
    },
    {
     "name": "stdout",
     "output_type": "stream",
     "text": [
      "New best strategy at iteration  275  :  [ 146.  388.  539. 1090.  268.  256.  376.    0.    0.    0.    0.    0.\n",
      "    0.    0.] Expected Profit: 1545596.94887\n",
      "New best strategy at iteration  275  :  [ 147.  387.  539. 1090.  268.  256.  376.    0.    0.    0.    0.    0.\n",
      "    0.    0.] Expected Profit: 1545598.42487\n",
      "New best strategy at iteration  275  :  [ 147.  388.  538. 1090.  268.  256.  376.    0.    0.    0.    0.    0.\n",
      "    0.    0.] Expected Profit: 1545600.3438700002\n",
      "New best strategy at iteration  275  :  [ 147.  388.  539. 1089.  268.  256.  376.    0.    0.    0.    0.    0.\n",
      "    0.    0.] Expected Profit: 1545602.7423699999\n",
      "New best strategy at iteration  275  :  [ 147.  388.  539. 1090.  267.  256.  376.    0.    0.    0.    0.    0.\n",
      "    0.    0.] Expected Profit: 1545605.55607\n",
      "New best strategy at iteration  275  :  [ 147.  388.  539. 1090.  268.  255.  376.    0.    0.    0.    0.    0.\n",
      "    0.    0.] Expected Profit: 1545608.79237\n",
      "New best strategy at iteration  275  :  [ 147.  388.  539. 1090.  268.  256.  375.    0.    0.    0.    0.    0.\n",
      "    0.    0.] Expected Profit: 1545612.44727\n",
      "New best strategy at iteration  276  :  [ 146.  388.  539. 1090.  268.  256.  375.    0.    0.    0.    0.    0.\n",
      "    0.    0.] Expected Profit: 1545615.37157\n",
      "New best strategy at iteration  276  :  [ 147.  387.  539. 1090.  268.  256.  375.    0.    0.    0.    0.    0.\n",
      "    0.    0.] Expected Profit: 1545616.84757\n",
      "New best strategy at iteration  276  :  [ 147.  388.  538. 1090.  268.  256.  375.    0.    0.    0.    0.    0.\n",
      "    0.    0.] Expected Profit: 1545618.76657\n",
      "New best strategy at iteration  276  :  [ 147.  388.  539. 1089.  268.  256.  375.    0.    0.    0.    0.    0.\n",
      "    0.    0.] Expected Profit: 1545621.1650699996\n",
      "New best strategy at iteration  276  :  [ 147.  388.  539. 1090.  267.  256.  375.    0.    0.    0.    0.    0.\n",
      "    0.    0.] Expected Profit: 1545623.97877\n",
      "New best strategy at iteration  276  :  [ 147.  388.  539. 1090.  268.  255.  375.    0.    0.    0.    0.    0.\n",
      "    0.    0.] Expected Profit: 1545627.21507\n",
      "New best strategy at iteration  276  :  [ 147.  388.  539. 1090.  268.  256.  374.    0.    0.    0.    0.    0.\n",
      "    0.    0.] Expected Profit: 1545630.8699699999\n"
     ]
    },
    {
     "name": "stderr",
     "output_type": "stream",
     "text": [
      "\r",
      "  0%|                                                                         | 277/1000000 [00:59<59:53:42,  4.64it/s]"
     ]
    },
    {
     "name": "stdout",
     "output_type": "stream",
     "text": [
      "New best strategy at iteration  277  :  [ 146.  388.  539. 1090.  268.  256.  374.    0.    0.    0.    0.    0.\n",
      "    0.    0.] Expected Profit: 1545633.79427\n",
      "New best strategy at iteration  277  :  [ 147.  387.  539. 1090.  268.  256.  374.    0.    0.    0.    0.    0.\n",
      "    0.    0.] Expected Profit: 1545635.27027\n",
      "New best strategy at iteration  277  :  [ 147.  388.  538. 1090.  268.  256.  374.    0.    0.    0.    0.    0.\n",
      "    0.    0.] Expected Profit: 1545637.18927\n",
      "New best strategy at iteration  277  :  [ 147.  388.  539. 1089.  268.  256.  374.    0.    0.    0.    0.    0.\n",
      "    0.    0.] Expected Profit: 1545639.5877699996\n",
      "New best strategy at iteration  277  :  [ 147.  388.  539. 1090.  267.  256.  374.    0.    0.    0.    0.    0.\n",
      "    0.    0.] Expected Profit: 1545642.40147\n",
      "New best strategy at iteration  277  :  [ 147.  388.  539. 1090.  268.  255.  374.    0.    0.    0.    0.    0.\n",
      "    0.    0.] Expected Profit: 1545645.63777\n",
      "New best strategy at iteration  277  :  [ 147.  388.  539. 1090.  268.  256.  373.    0.    0.    0.    0.    0.\n",
      "    0.    0.] Expected Profit: 1545649.29267\n"
     ]
    },
    {
     "name": "stderr",
     "output_type": "stream",
     "text": [
      "  0%|                                                                         | 279/1000000 [00:59<60:55:55,  4.56it/s]"
     ]
    },
    {
     "name": "stdout",
     "output_type": "stream",
     "text": [
      "New best strategy at iteration  278  :  [ 146.  388.  539. 1090.  268.  256.  373.    0.    0.    0.    0.    0.\n",
      "    0.    0.] Expected Profit: 1545652.2169699997\n",
      "New best strategy at iteration  278  :  [ 147.  387.  539. 1090.  268.  256.  373.    0.    0.    0.    0.    0.\n",
      "    0.    0.] Expected Profit: 1545653.6929699997\n",
      "New best strategy at iteration  278  :  [ 147.  388.  538. 1090.  268.  256.  373.    0.    0.    0.    0.    0.\n",
      "    0.    0.] Expected Profit: 1545655.61197\n",
      "New best strategy at iteration  278  :  [ 147.  388.  539. 1089.  268.  256.  373.    0.    0.    0.    0.    0.\n",
      "    0.    0.] Expected Profit: 1545658.0104699999\n",
      "New best strategy at iteration  278  :  [ 147.  388.  539. 1090.  267.  256.  373.    0.    0.    0.    0.    0.\n",
      "    0.    0.] Expected Profit: 1545660.8241700002\n",
      "New best strategy at iteration  278  :  [ 147.  388.  539. 1090.  268.  255.  373.    0.    0.    0.    0.    0.\n",
      "    0.    0.] Expected Profit: 1545664.0604699997\n",
      "New best strategy at iteration  278  :  [ 147.  388.  539. 1090.  268.  256.  372.    0.    0.    0.    0.    0.\n",
      "    0.    0.] Expected Profit: 1545667.7153699999\n",
      "New best strategy at iteration  279  :  [ 146.  388.  539. 1090.  268.  256.  372.    0.    0.    0.    0.    0.\n",
      "    0.    0.] Expected Profit: 1545670.6396700002\n",
      "New best strategy at iteration  279  :  [ 147.  387.  539. 1090.  268.  256.  372.    0.    0.    0.    0.    0.\n",
      "    0.    0.] Expected Profit: 1545672.11567\n",
      "New best strategy at iteration  279  :  [ 147.  388.  538. 1090.  268.  256.  372.    0.    0.    0.    0.    0.\n",
      "    0.    0.] Expected Profit: 1545674.0346699997\n",
      "New best strategy at iteration  279  :  [ 147.  388.  539. 1089.  268.  256.  372.    0.    0.    0.    0.    0.\n",
      "    0.    0.] Expected Profit: 1545676.4331699996\n",
      "New best strategy at iteration  279  :  [ 147.  388.  539. 1090.  267.  256.  372.    0.    0.    0.    0.    0.\n",
      "    0.    0.] Expected Profit: 1545679.24687\n",
      "New best strategy at iteration  279  :  [ 147.  388.  539. 1090.  268.  255.  372.    0.    0.    0.    0.    0.\n",
      "    0.    0.] Expected Profit: 1545682.48317\n",
      "New best strategy at iteration  279  :  [ 147.  388.  539. 1090.  268.  256.  371.    0.    0.    0.    0.    0.\n",
      "    0.    0.] Expected Profit: 1545686.1380699999\n"
     ]
    },
    {
     "name": "stderr",
     "output_type": "stream",
     "text": [
      "\r",
      "  0%|                                                                         | 280/1000000 [00:59<64:00:24,  4.34it/s]"
     ]
    },
    {
     "name": "stdout",
     "output_type": "stream",
     "text": [
      "New best strategy at iteration  280  :  [ 146.  388.  539. 1090.  268.  256.  371.    0.    0.    0.    0.    0.\n",
      "    0.    0.] Expected Profit: 1545689.06237\n",
      "New best strategy at iteration  280  :  [ 147.  387.  539. 1090.  268.  256.  371.    0.    0.    0.    0.    0.\n",
      "    0.    0.] Expected Profit: 1545690.53837\n",
      "New best strategy at iteration  280  :  [ 147.  388.  538. 1090.  268.  256.  371.    0.    0.    0.    0.    0.\n",
      "    0.    0.] Expected Profit: 1545692.4573700002\n",
      "New best strategy at iteration  280  :  [ 147.  388.  539. 1089.  268.  256.  371.    0.    0.    0.    0.    0.\n",
      "    0.    0.] Expected Profit: 1545694.8558699999\n",
      "New best strategy at iteration  280  :  [ 147.  388.  539. 1090.  267.  256.  371.    0.    0.    0.    0.    0.\n",
      "    0.    0.] Expected Profit: 1545697.66957\n",
      "New best strategy at iteration  280  :  [ 147.  388.  539. 1090.  268.  255.  371.    0.    0.    0.    0.    0.\n",
      "    0.    0.] Expected Profit: 1545700.90587\n",
      "New best strategy at iteration  280  :  [ 147.  388.  539. 1090.  268.  256.  370.    0.    0.    0.    0.    0.\n",
      "    0.    0.] Expected Profit: 1545704.5607699999\n"
     ]
    },
    {
     "name": "stderr",
     "output_type": "stream",
     "text": [
      "\r",
      "  0%|                                                                         | 281/1000000 [01:00<64:38:31,  4.30it/s]"
     ]
    },
    {
     "name": "stdout",
     "output_type": "stream",
     "text": [
      "New best strategy at iteration  281  :  [ 146.  388.  539. 1090.  268.  256.  370.    0.    0.    0.    0.    0.\n",
      "    0.    0.] Expected Profit: 1545707.4850700002\n",
      "New best strategy at iteration  281  :  [ 147.  387.  539. 1090.  268.  256.  370.    0.    0.    0.    0.    0.\n",
      "    0.    0.] Expected Profit: 1545708.9610700002\n",
      "New best strategy at iteration  281  :  [ 147.  388.  538. 1090.  268.  256.  370.    0.    0.    0.    0.    0.\n",
      "    0.    0.] Expected Profit: 1545710.8800700002\n",
      "New best strategy at iteration  281  :  [ 147.  388.  539. 1089.  268.  256.  370.    0.    0.    0.    0.    0.\n",
      "    0.    0.] Expected Profit: 1545713.2785699998\n",
      "New best strategy at iteration  281  :  [ 147.  388.  539. 1090.  267.  256.  370.    0.    0.    0.    0.    0.\n",
      "    0.    0.] Expected Profit: 1545716.09227\n",
      "New best strategy at iteration  281  :  [ 147.  388.  539. 1090.  268.  255.  370.    0.    0.    0.    0.    0.\n",
      "    0.    0.] Expected Profit: 1545719.32857\n",
      "New best strategy at iteration  281  :  [ 147.  388.  539. 1090.  268.  256.  369.    0.    0.    0.    0.    0.\n",
      "    0.    0.] Expected Profit: 1545722.9834699999\n"
     ]
    },
    {
     "name": "stderr",
     "output_type": "stream",
     "text": [
      "\r",
      "  0%|                                                                         | 282/1000000 [01:00<62:37:34,  4.43it/s]"
     ]
    },
    {
     "name": "stdout",
     "output_type": "stream",
     "text": [
      "New best strategy at iteration  282  :  [ 146.  388.  539. 1090.  268.  256.  369.    0.    0.    0.    0.    0.\n",
      "    0.    0.] Expected Profit: 1545725.90777\n",
      "New best strategy at iteration  282  :  [ 147.  387.  539. 1090.  268.  256.  369.    0.    0.    0.    0.    0.\n",
      "    0.    0.] Expected Profit: 1545727.38377\n",
      "New best strategy at iteration  282  :  [ 147.  388.  538. 1090.  268.  256.  369.    0.    0.    0.    0.    0.\n",
      "    0.    0.] Expected Profit: 1545729.3027700002\n",
      "New best strategy at iteration  282  :  [ 147.  388.  539. 1089.  268.  256.  369.    0.    0.    0.    0.    0.\n",
      "    0.    0.] Expected Profit: 1545731.7012699998\n",
      "New best strategy at iteration  282  :  [ 147.  388.  539. 1090.  267.  256.  369.    0.    0.    0.    0.    0.\n",
      "    0.    0.] Expected Profit: 1545734.51497\n",
      "New best strategy at iteration  282  :  [ 147.  388.  539. 1090.  268.  255.  369.    0.    0.    0.    0.    0.\n",
      "    0.    0.] Expected Profit: 1545737.75127\n",
      "New best strategy at iteration  282  :  [ 147.  388.  539. 1090.  268.  256.  368.    0.    0.    0.    0.    0.\n",
      "    0.    0.] Expected Profit: 1545741.4061699999\n"
     ]
    },
    {
     "name": "stderr",
     "output_type": "stream",
     "text": [
      "  0%|                                                                         | 284/1000000 [01:00<62:32:39,  4.44it/s]"
     ]
    },
    {
     "name": "stdout",
     "output_type": "stream",
     "text": [
      "New best strategy at iteration  283  :  [ 146.  388.  539. 1090.  268.  256.  368.    0.    0.    0.    0.    0.\n",
      "    0.    0.] Expected Profit: 1545744.3304699997\n",
      "New best strategy at iteration  283  :  [ 147.  387.  539. 1090.  268.  256.  368.    0.    0.    0.    0.    0.\n",
      "    0.    0.] Expected Profit: 1545745.8064699997\n",
      "New best strategy at iteration  283  :  [ 147.  388.  538. 1090.  268.  256.  368.    0.    0.    0.    0.    0.\n",
      "    0.    0.] Expected Profit: 1545747.72547\n",
      "New best strategy at iteration  283  :  [ 147.  388.  539. 1089.  268.  256.  368.    0.    0.    0.    0.    0.\n",
      "    0.    0.] Expected Profit: 1545750.1239699998\n",
      "New best strategy at iteration  283  :  [ 147.  388.  539. 1090.  267.  256.  368.    0.    0.    0.    0.    0.\n",
      "    0.    0.] Expected Profit: 1545752.93767\n",
      "New best strategy at iteration  283  :  [ 147.  388.  539. 1090.  268.  255.  368.    0.    0.    0.    0.    0.\n",
      "    0.    0.] Expected Profit: 1545756.17397\n",
      "New best strategy at iteration  283  :  [ 147.  388.  539. 1090.  268.  256.  367.    0.    0.    0.    0.    0.\n",
      "    0.    0.] Expected Profit: 1545759.8288699999\n"
     ]
    },
    {
     "name": "stderr",
     "output_type": "stream",
     "text": [
      "\r",
      "  0%|                                                                         | 285/1000000 [01:00<62:59:22,  4.41it/s]"
     ]
    },
    {
     "name": "stdout",
     "output_type": "stream",
     "text": [
      "New best strategy at iteration  284  :  [ 146.  388.  539. 1090.  268.  256.  367.    0.    0.    0.    0.    0.\n",
      "    0.    0.] Expected Profit: 1545762.7531700002\n",
      "New best strategy at iteration  284  :  [ 147.  387.  539. 1090.  268.  256.  367.    0.    0.    0.    0.    0.\n",
      "    0.    0.] Expected Profit: 1545764.22917\n",
      "New best strategy at iteration  284  :  [ 147.  388.  538. 1090.  268.  256.  367.    0.    0.    0.    0.    0.\n",
      "    0.    0.] Expected Profit: 1545766.1481700002\n",
      "New best strategy at iteration  284  :  [ 147.  388.  539. 1089.  268.  256.  367.    0.    0.    0.    0.    0.\n",
      "    0.    0.] Expected Profit: 1545768.5466699998\n",
      "New best strategy at iteration  284  :  [ 147.  388.  539. 1090.  267.  256.  367.    0.    0.    0.    0.    0.\n",
      "    0.    0.] Expected Profit: 1545771.36037\n",
      "New best strategy at iteration  284  :  [ 147.  388.  539. 1090.  268.  255.  367.    0.    0.    0.    0.    0.\n",
      "    0.    0.] Expected Profit: 1545774.59667\n",
      "New best strategy at iteration  284  :  [ 147.  388.  539. 1090.  268.  256.  366.    0.    0.    0.    0.    0.\n",
      "    0.    0.] Expected Profit: 1545778.25157\n",
      "New best strategy at iteration  285  :  [ 146.  388.  539. 1090.  268.  256.  366.    0.    0.    0.    0.    0.\n",
      "    0.    0.] Expected Profit: 1545781.17587\n",
      "New best strategy at iteration  285  :  [ 147.  387.  539. 1090.  268.  256.  366.    0.    0.    0.    0.    0.\n",
      "    0.    0.] Expected Profit: 1545782.65187\n",
      "New best strategy at iteration  285  :  [ 147.  388.  538. 1090.  268.  256.  366.    0.    0.    0.    0.    0.\n",
      "    0.    0.] Expected Profit: 1545784.5708700002\n",
      "New best strategy at iteration  285  :  [ 147.  388.  539. 1089.  268.  256.  366.    0.    0.    0.    0.    0.\n",
      "    0.    0.] Expected Profit: 1545786.9693699998\n",
      "New best strategy at iteration  285  :  [ 147.  388.  539. 1090.  267.  256.  366.    0.    0.    0.    0.    0.\n",
      "    0.    0.] Expected Profit: 1545789.7830700001\n",
      "New best strategy at iteration  285  :  [ 147.  388.  539. 1090.  268.  255.  366.    0.    0.    0.    0.    0.\n",
      "    0.    0.] Expected Profit: 1545793.0193699999\n"
     ]
    },
    {
     "name": "stderr",
     "output_type": "stream",
     "text": [
      "\r",
      "  0%|                                                                         | 286/1000000 [01:01<70:45:27,  3.92it/s]"
     ]
    },
    {
     "name": "stdout",
     "output_type": "stream",
     "text": [
      "New best strategy at iteration  285  :  [ 147.  388.  539. 1090.  268.  256.  365.    0.    0.    0.    0.    0.\n",
      "    0.    0.] Expected Profit: 1545796.67427\n",
      "New best strategy at iteration  286  :  [ 146.  388.  539. 1090.  268.  256.  365.    0.    0.    0.    0.    0.\n",
      "    0.    0.] Expected Profit: 1545799.59857\n",
      "New best strategy at iteration  286  :  [ 147.  387.  539. 1090.  268.  256.  365.    0.    0.    0.    0.    0.\n",
      "    0.    0.] Expected Profit: 1545801.0745700002\n",
      "New best strategy at iteration  286  :  [ 147.  388.  538. 1090.  268.  256.  365.    0.    0.    0.    0.    0.\n",
      "    0.    0.] Expected Profit: 1545802.9935700002\n",
      "New best strategy at iteration  286  :  [ 147.  388.  539. 1089.  268.  256.  365.    0.    0.    0.    0.    0.\n",
      "    0.    0.] Expected Profit: 1545805.3920699998\n",
      "New best strategy at iteration  286  :  [ 147.  388.  539. 1090.  267.  256.  365.    0.    0.    0.    0.    0.\n",
      "    0.    0.] Expected Profit: 1545808.20577\n"
     ]
    },
    {
     "name": "stderr",
     "output_type": "stream",
     "text": [
      "\r",
      "  0%|                                                                         | 287/1000000 [01:01<67:26:28,  4.12it/s]"
     ]
    },
    {
     "name": "stdout",
     "output_type": "stream",
     "text": [
      "New best strategy at iteration  286  :  [ 147.  388.  539. 1090.  268.  255.  365.    0.    0.    0.    0.    0.\n",
      "    0.    0.] Expected Profit: 1545811.44207\n",
      "New best strategy at iteration  286  :  [ 147.  388.  539. 1090.  268.  256.  364.    0.    0.    0.    0.    0.\n",
      "    0.    0.] Expected Profit: 1545815.09697\n",
      "New best strategy at iteration  287  :  [ 146.  388.  539. 1090.  268.  256.  364.    0.    0.    0.    0.    0.\n",
      "    0.    0.] Expected Profit: 1545818.02127\n",
      "New best strategy at iteration  287  :  [ 147.  387.  539. 1090.  268.  256.  364.    0.    0.    0.    0.    0.\n",
      "    0.    0.] Expected Profit: 1545819.49727\n",
      "New best strategy at iteration  287  :  [ 147.  388.  538. 1090.  268.  256.  364.    0.    0.    0.    0.    0.\n",
      "    0.    0.] Expected Profit: 1545821.41627\n",
      "New best strategy at iteration  287  :  [ 147.  388.  539. 1089.  268.  256.  364.    0.    0.    0.    0.    0.\n",
      "    0.    0.] Expected Profit: 1545823.8147699998\n",
      "New best strategy at iteration  287  :  [ 147.  388.  539. 1090.  267.  256.  364.    0.    0.    0.    0.    0.\n",
      "    0.    0.] Expected Profit: 1545826.62847\n"
     ]
    },
    {
     "name": "stderr",
     "output_type": "stream",
     "text": [
      "\r",
      "  0%|                                                                         | 288/1000000 [01:01<68:32:23,  4.05it/s]"
     ]
    },
    {
     "name": "stdout",
     "output_type": "stream",
     "text": [
      "New best strategy at iteration  287  :  [ 147.  388.  539. 1090.  268.  255.  364.    0.    0.    0.    0.    0.\n",
      "    0.    0.] Expected Profit: 1545829.8647699999\n",
      "New best strategy at iteration  287  :  [ 147.  388.  539. 1090.  268.  256.  363.    0.    0.    0.    0.    0.\n",
      "    0.    0.] Expected Profit: 1545833.51967\n",
      "New best strategy at iteration  288  :  [ 146.  388.  539. 1090.  268.  256.  363.    0.    0.    0.    0.    0.\n",
      "    0.    0.] Expected Profit: 1545836.44397\n",
      "New best strategy at iteration  288  :  [ 147.  387.  539. 1090.  268.  256.  363.    0.    0.    0.    0.    0.\n",
      "    0.    0.] Expected Profit: 1545837.91997\n",
      "New best strategy at iteration  288  :  [ 147.  388.  538. 1090.  268.  256.  363.    0.    0.    0.    0.    0.\n",
      "    0.    0.] Expected Profit: 1545839.83897\n",
      "New best strategy at iteration  288  :  [ 147.  388.  539. 1089.  268.  256.  363.    0.    0.    0.    0.    0.\n",
      "    0.    0.] Expected Profit: 1545842.2374699998\n"
     ]
    },
    {
     "name": "stderr",
     "output_type": "stream",
     "text": [
      "\r",
      "  0%|                                                                         | 289/1000000 [01:01<70:17:04,  3.95it/s]"
     ]
    },
    {
     "name": "stdout",
     "output_type": "stream",
     "text": [
      "New best strategy at iteration  288  :  [ 147.  388.  539. 1090.  267.  256.  363.    0.    0.    0.    0.    0.\n",
      "    0.    0.] Expected Profit: 1545845.05117\n",
      "New best strategy at iteration  288  :  [ 147.  388.  539. 1090.  268.  255.  363.    0.    0.    0.    0.    0.\n",
      "    0.    0.] Expected Profit: 1545848.2874699999\n",
      "New best strategy at iteration  288  :  [ 147.  388.  539. 1090.  268.  256.  362.    0.    0.    0.    0.    0.\n",
      "    0.    0.] Expected Profit: 1545851.9423699998\n",
      "New best strategy at iteration  289  :  [ 146.  388.  539. 1090.  268.  256.  362.    0.    0.    0.    0.    0.\n",
      "    0.    0.] Expected Profit: 1545854.8666700001\n",
      "New best strategy at iteration  289  :  [ 147.  387.  539. 1090.  268.  256.  362.    0.    0.    0.    0.    0.\n",
      "    0.    0.] Expected Profit: 1545856.3426700002\n"
     ]
    },
    {
     "name": "stderr",
     "output_type": "stream",
     "text": [
      "\r",
      "  0%|                                                                         | 290/1000000 [01:02<70:53:19,  3.92it/s]"
     ]
    },
    {
     "name": "stdout",
     "output_type": "stream",
     "text": [
      "New best strategy at iteration  289  :  [ 147.  388.  538. 1090.  268.  256.  362.    0.    0.    0.    0.    0.\n",
      "    0.    0.] Expected Profit: 1545858.2616700002\n",
      "New best strategy at iteration  289  :  [ 147.  388.  539. 1089.  268.  256.  362.    0.    0.    0.    0.    0.\n",
      "    0.    0.] Expected Profit: 1545860.6601699998\n",
      "New best strategy at iteration  289  :  [ 147.  388.  539. 1090.  267.  256.  362.    0.    0.    0.    0.    0.\n",
      "    0.    0.] Expected Profit: 1545863.4738699999\n",
      "New best strategy at iteration  289  :  [ 147.  388.  539. 1090.  268.  255.  362.    0.    0.    0.    0.    0.\n",
      "    0.    0.] Expected Profit: 1545866.71017\n",
      "New best strategy at iteration  289  :  [ 147.  388.  539. 1090.  268.  256.  361.    0.    0.    0.    0.    0.\n",
      "    0.    0.] Expected Profit: 1545870.36507\n",
      "New best strategy at iteration  290  :  [ 146.  388.  539. 1090.  268.  256.  361.    0.    0.    0.    0.    0.\n",
      "    0.    0.] Expected Profit: 1545873.28937\n",
      "New best strategy at iteration  290  :  [ 147.  387.  539. 1090.  268.  256.  361.    0.    0.    0.    0.    0.\n",
      "    0.    0.] Expected Profit: 1545874.76537\n",
      "New best strategy at iteration  290  :  [ 147.  388.  538. 1090.  268.  256.  361.    0.    0.    0.    0.    0.\n",
      "    0.    0.] Expected Profit: 1545876.6843700001\n",
      "New best strategy at iteration  290  :  [ 147.  388.  539. 1089.  268.  256.  361.    0.    0.    0.    0.    0.\n",
      "    0.    0.] Expected Profit: 1545879.0828699998\n",
      "New best strategy at iteration  290  :  [ 147.  388.  539. 1090.  267.  256.  361.    0.    0.    0.    0.    0.\n",
      "    0.    0.] Expected Profit: 1545881.89657\n",
      "New best strategy at iteration  290  :  [ 147.  388.  539. 1090.  268.  255.  361.    0.    0.    0.    0.    0.\n",
      "    0.    0.] Expected Profit: 1545885.1328699999\n",
      "New best strategy at iteration  290  :  [ 147.  388.  539. 1090.  268.  256.  360.    0.    0.    0.    0.    0.\n",
      "    0.    0.] Expected Profit: 1545888.78777\n"
     ]
    },
    {
     "name": "stderr",
     "output_type": "stream",
     "text": [
      "\r",
      "  0%|                                                                         | 291/1000000 [01:02<70:22:49,  3.95it/s]"
     ]
    },
    {
     "name": "stdout",
     "output_type": "stream",
     "text": [
      "New best strategy at iteration  291  :  [ 146.  388.  539. 1090.  268.  256.  360.    0.    0.    0.    0.    0.\n",
      "    0.    0.] Expected Profit: 1545891.7120699997\n",
      "New best strategy at iteration  291  :  [ 147.  387.  539. 1090.  268.  256.  360.    0.    0.    0.    0.    0.\n",
      "    0.    0.] Expected Profit: 1545893.1880699997\n",
      "New best strategy at iteration  291  :  [ 147.  388.  538. 1090.  268.  256.  360.    0.    0.    0.    0.    0.\n",
      "    0.    0.] Expected Profit: 1545895.10707\n",
      "New best strategy at iteration  291  :  [ 147.  388.  539. 1089.  268.  256.  360.    0.    0.    0.    0.    0.\n",
      "    0.    0.] Expected Profit: 1545897.5055699998\n",
      "New best strategy at iteration  291  :  [ 147.  388.  539. 1090.  267.  256.  360.    0.    0.    0.    0.    0.\n",
      "    0.    0.] Expected Profit: 1545900.31927\n",
      "New best strategy at iteration  291  :  [ 147.  388.  539. 1090.  268.  255.  360.    0.    0.    0.    0.    0.\n",
      "    0.    0.] Expected Profit: 1545903.5555699996\n",
      "New best strategy at iteration  291  :  [ 147.  388.  539. 1090.  268.  256.  359.    0.    0.    0.    0.    0.\n",
      "    0.    0.] Expected Profit: 1545907.2104699998\n"
     ]
    },
    {
     "name": "stderr",
     "output_type": "stream",
     "text": [
      "  0%|                                                                         | 293/1000000 [01:02<66:14:16,  4.19it/s]"
     ]
    },
    {
     "name": "stdout",
     "output_type": "stream",
     "text": [
      "New best strategy at iteration  292  :  [ 146.  388.  539. 1090.  268.  256.  359.    0.    0.    0.    0.    0.\n",
      "    0.    0.] Expected Profit: 1545910.13477\n",
      "New best strategy at iteration  292  :  [ 147.  387.  539. 1090.  268.  256.  359.    0.    0.    0.    0.    0.\n",
      "    0.    0.] Expected Profit: 1545911.61077\n",
      "New best strategy at iteration  292  :  [ 147.  388.  538. 1090.  268.  256.  359.    0.    0.    0.    0.    0.\n",
      "    0.    0.] Expected Profit: 1545913.52977\n",
      "New best strategy at iteration  292  :  [ 147.  388.  539. 1089.  268.  256.  359.    0.    0.    0.    0.    0.\n",
      "    0.    0.] Expected Profit: 1545915.9282699998\n",
      "New best strategy at iteration  292  :  [ 147.  388.  539. 1090.  267.  256.  359.    0.    0.    0.    0.    0.\n",
      "    0.    0.] Expected Profit: 1545918.7419699999\n",
      "New best strategy at iteration  292  :  [ 147.  388.  539. 1090.  268.  255.  359.    0.    0.    0.    0.    0.\n",
      "    0.    0.] Expected Profit: 1545921.97827\n",
      "New best strategy at iteration  292  :  [ 147.  388.  539. 1090.  268.  256.  358.    0.    0.    0.    0.    0.\n",
      "    0.    0.] Expected Profit: 1545925.63317\n"
     ]
    },
    {
     "name": "stderr",
     "output_type": "stream",
     "text": [
      "\r",
      "  0%|                                                                         | 294/1000000 [01:03<64:17:07,  4.32it/s]"
     ]
    },
    {
     "name": "stdout",
     "output_type": "stream",
     "text": [
      "New best strategy at iteration  293  :  [ 146.  388.  539. 1090.  268.  256.  358.    0.    0.    0.    0.    0.\n",
      "    0.    0.] Expected Profit: 1545928.5574699999\n",
      "New best strategy at iteration  293  :  [ 147.  387.  539. 1090.  268.  256.  358.    0.    0.    0.    0.    0.\n",
      "    0.    0.] Expected Profit: 1545930.0334699997\n",
      "New best strategy at iteration  293  :  [ 147.  388.  538. 1090.  268.  256.  358.    0.    0.    0.    0.    0.\n",
      "    0.    0.] Expected Profit: 1545931.9524700004\n",
      "New best strategy at iteration  293  :  [ 147.  388.  539. 1089.  268.  256.  358.    0.    0.    0.    0.    0.\n",
      "    0.    0.] Expected Profit: 1545934.3509699998\n",
      "New best strategy at iteration  293  :  [ 147.  388.  539. 1090.  267.  256.  358.    0.    0.    0.    0.    0.\n",
      "    0.    0.] Expected Profit: 1545937.16467\n",
      "New best strategy at iteration  293  :  [ 147.  388.  539. 1090.  268.  255.  358.    0.    0.    0.    0.    0.\n",
      "    0.    0.] Expected Profit: 1545940.40097\n",
      "New best strategy at iteration  293  :  [ 147.  388.  539. 1090.  268.  256.  357.    0.    0.    0.    0.    0.\n",
      "    0.    0.] Expected Profit: 1545944.0558699998\n",
      "New best strategy at iteration  294  :  [ 146.  388.  539. 1090.  268.  256.  357.    0.    0.    0.    0.    0.\n",
      "    0.    0.] Expected Profit: 1545946.98017\n",
      "New best strategy at iteration  294  :  [ 147.  387.  539. 1090.  268.  256.  357.    0.    0.    0.    0.    0.\n",
      "    0.    0.] Expected Profit: 1545948.4561700001\n",
      "New best strategy at iteration  294  :  [ 147.  388.  538. 1090.  268.  256.  357.    0.    0.    0.    0.    0.\n",
      "    0.    0.] Expected Profit: 1545950.3751700001\n",
      "New best strategy at iteration  294  :  [ 147.  388.  539. 1089.  268.  256.  357.    0.    0.    0.    0.    0.\n",
      "    0.    0.] Expected Profit: 1545952.77367\n",
      "New best strategy at iteration  294  :  [ 147.  388.  539. 1090.  267.  256.  357.    0.    0.    0.    0.    0.\n",
      "    0.    0.] Expected Profit: 1545955.5873699998\n",
      "New best strategy at iteration  294  :  [ 147.  388.  539. 1090.  268.  255.  357.    0.    0.    0.    0.    0.\n",
      "    0.    0.] Expected Profit: 1545958.82367\n",
      "New best strategy at iteration  294  :  [ 147.  388.  539. 1090.  268.  256.  356.    0.    0.    0.    0.    0.\n",
      "    0.    0.] Expected Profit: 1545962.4785699998\n"
     ]
    },
    {
     "name": "stderr",
     "output_type": "stream",
     "text": [
      "  0%|                                                                         | 296/1000000 [01:03<61:56:00,  4.48it/s]"
     ]
    },
    {
     "name": "stdout",
     "output_type": "stream",
     "text": [
      "New best strategy at iteration  295  :  [ 146.  388.  539. 1090.  268.  256.  356.    0.    0.    0.    0.    0.\n",
      "    0.    0.] Expected Profit: 1545965.4028699999\n",
      "New best strategy at iteration  295  :  [ 147.  387.  539. 1090.  268.  256.  356.    0.    0.    0.    0.    0.\n",
      "    0.    0.] Expected Profit: 1545966.87887\n",
      "New best strategy at iteration  295  :  [ 147.  388.  538. 1090.  268.  256.  356.    0.    0.    0.    0.    0.\n",
      "    0.    0.] Expected Profit: 1545968.79787\n",
      "New best strategy at iteration  295  :  [ 147.  388.  539. 1089.  268.  256.  356.    0.    0.    0.    0.    0.\n",
      "    0.    0.] Expected Profit: 1545971.1963699998\n",
      "New best strategy at iteration  295  :  [ 147.  388.  539. 1090.  267.  256.  356.    0.    0.    0.    0.    0.\n",
      "    0.    0.] Expected Profit: 1545974.0100699998\n",
      "New best strategy at iteration  295  :  [ 147.  388.  539. 1090.  268.  255.  356.    0.    0.    0.    0.    0.\n",
      "    0.    0.] Expected Profit: 1545977.2463699998\n",
      "New best strategy at iteration  295  :  [ 147.  388.  539. 1090.  268.  256.  355.    0.    0.    0.    0.    0.\n",
      "    0.    0.] Expected Profit: 1545980.90127\n",
      "New best strategy at iteration  296  :  [ 146.  388.  539. 1090.  268.  256.  355.    0.    0.    0.    0.    0.\n",
      "    0.    0.] Expected Profit: 1545983.8255699999\n",
      "New best strategy at iteration  296  :  [ 147.  387.  539. 1090.  268.  256.  355.    0.    0.    0.    0.    0.\n",
      "    0.    0.] Expected Profit: 1545985.30157\n",
      "New best strategy at iteration  296  :  [ 147.  388.  538. 1090.  268.  256.  355.    0.    0.    0.    0.    0.\n",
      "    0.    0.] Expected Profit: 1545987.2205700001\n",
      "New best strategy at iteration  296  :  [ 147.  388.  539. 1089.  268.  256.  355.    0.    0.    0.    0.    0.\n",
      "    0.    0.] Expected Profit: 1545989.6190699998\n",
      "New best strategy at iteration  296  :  [ 147.  388.  539. 1090.  267.  256.  355.    0.    0.    0.    0.    0.\n",
      "    0.    0.] Expected Profit: 1545992.43277\n",
      "New best strategy at iteration  296  :  [ 147.  388.  539. 1090.  268.  255.  355.    0.    0.    0.    0.    0.\n",
      "    0.    0.] Expected Profit: 1545995.6690699996\n",
      "New best strategy at iteration  296  :  [ 147.  388.  539. 1090.  268.  256.  354.    0.    0.    0.    0.    0.\n",
      "    0.    0.] Expected Profit: 1545999.3239699998\n"
     ]
    },
    {
     "name": "stderr",
     "output_type": "stream",
     "text": [
      "\r",
      "  0%|                                                                         | 297/1000000 [01:03<64:52:25,  4.28it/s]"
     ]
    },
    {
     "name": "stdout",
     "output_type": "stream",
     "text": [
      "New best strategy at iteration  297  :  [ 146.  388.  539. 1090.  268.  256.  354.    0.    0.    0.    0.    0.\n",
      "    0.    0.] Expected Profit: 1546002.2482699999\n",
      "New best strategy at iteration  297  :  [ 147.  387.  539. 1090.  268.  256.  354.    0.    0.    0.    0.    0.\n",
      "    0.    0.] Expected Profit: 1546003.72427\n",
      "New best strategy at iteration  297  :  [ 147.  388.  538. 1090.  268.  256.  354.    0.    0.    0.    0.    0.\n",
      "    0.    0.] Expected Profit: 1546005.64327\n",
      "New best strategy at iteration  297  :  [ 147.  388.  539. 1089.  268.  256.  354.    0.    0.    0.    0.    0.\n",
      "    0.    0.] Expected Profit: 1546008.0417699998\n",
      "New best strategy at iteration  297  :  [ 147.  388.  539. 1090.  267.  256.  354.    0.    0.    0.    0.    0.\n",
      "    0.    0.] Expected Profit: 1546010.85547\n",
      "New best strategy at iteration  297  :  [ 147.  388.  539. 1090.  268.  255.  354.    0.    0.    0.    0.    0.\n",
      "    0.    0.] Expected Profit: 1546014.09177\n",
      "New best strategy at iteration  297  :  [ 147.  388.  539. 1090.  268.  256.  353.    0.    0.    0.    0.    0.\n",
      "    0.    0.] Expected Profit: 1546017.74667\n"
     ]
    },
    {
     "name": "stderr",
     "output_type": "stream",
     "text": [
      "\r",
      "  0%|                                                                         | 298/1000000 [01:04<63:59:12,  4.34it/s]"
     ]
    },
    {
     "name": "stdout",
     "output_type": "stream",
     "text": [
      "New best strategy at iteration  298  :  [ 146.  388.  539. 1090.  268.  256.  353.    0.    0.    0.    0.    0.\n",
      "    0.    0.] Expected Profit: 1546020.6709699999\n",
      "New best strategy at iteration  298  :  [ 147.  387.  539. 1090.  268.  256.  353.    0.    0.    0.    0.    0.\n",
      "    0.    0.] Expected Profit: 1546022.1469700001\n",
      "New best strategy at iteration  298  :  [ 147.  388.  538. 1090.  268.  256.  353.    0.    0.    0.    0.    0.\n",
      "    0.    0.] Expected Profit: 1546024.06597\n",
      "New best strategy at iteration  298  :  [ 147.  388.  539. 1089.  268.  256.  353.    0.    0.    0.    0.    0.\n",
      "    0.    0.] Expected Profit: 1546026.46447\n",
      "New best strategy at iteration  298  :  [ 147.  388.  539. 1090.  267.  256.  353.    0.    0.    0.    0.    0.\n",
      "    0.    0.] Expected Profit: 1546029.27817\n",
      "New best strategy at iteration  298  :  [ 147.  388.  539. 1090.  268.  255.  353.    0.    0.    0.    0.    0.\n",
      "    0.    0.] Expected Profit: 1546032.5144699998\n",
      "New best strategy at iteration  298  :  [ 147.  388.  539. 1090.  268.  256.  352.    0.    0.    0.    0.    0.\n",
      "    0.    0.] Expected Profit: 1546036.1693699998\n"
     ]
    },
    {
     "name": "stderr",
     "output_type": "stream",
     "text": [
      "  0%|                                                                         | 300/1000000 [01:04<61:30:03,  4.52it/s]"
     ]
    },
    {
     "name": "stdout",
     "output_type": "stream",
     "text": [
      "New best strategy at iteration  299  :  [ 146.  388.  539. 1090.  268.  256.  352.    0.    0.    0.    0.    0.\n",
      "    0.    0.] Expected Profit: 1546039.0936699999\n",
      "New best strategy at iteration  299  :  [ 147.  387.  539. 1090.  268.  256.  352.    0.    0.    0.    0.    0.\n",
      "    0.    0.] Expected Profit: 1546040.5696699999\n",
      "New best strategy at iteration  299  :  [ 147.  388.  538. 1090.  268.  256.  352.    0.    0.    0.    0.    0.\n",
      "    0.    0.] Expected Profit: 1546042.48867\n",
      "New best strategy at iteration  299  :  [ 147.  388.  539. 1089.  268.  256.  352.    0.    0.    0.    0.    0.\n",
      "    0.    0.] Expected Profit: 1546044.8871699998\n",
      "New best strategy at iteration  299  :  [ 147.  388.  539. 1090.  267.  256.  352.    0.    0.    0.    0.    0.\n",
      "    0.    0.] Expected Profit: 1546047.7008699998\n",
      "New best strategy at iteration  299  :  [ 147.  388.  539. 1090.  268.  255.  352.    0.    0.    0.    0.    0.\n",
      "    0.    0.] Expected Profit: 1546050.9371699998\n",
      "New best strategy at iteration  299  :  [ 147.  388.  539. 1090.  268.  256.  351.    0.    0.    0.    0.    0.\n",
      "    0.    0.] Expected Profit: 1546054.5920700002\n"
     ]
    },
    {
     "name": "stderr",
     "output_type": "stream",
     "text": [
      "\r",
      "  0%|                                                                         | 301/1000000 [01:04<60:42:42,  4.57it/s]"
     ]
    },
    {
     "name": "stdout",
     "output_type": "stream",
     "text": [
      "New best strategy at iteration  300  :  [ 146.  388.  539. 1090.  268.  256.  351.    0.    0.    0.    0.    0.\n",
      "    0.    0.] Expected Profit: 1546057.5163699999\n",
      "New best strategy at iteration  300  :  [ 147.  387.  539. 1090.  268.  256.  351.    0.    0.    0.    0.    0.\n",
      "    0.    0.] Expected Profit: 1546058.9923699999\n",
      "New best strategy at iteration  300  :  [ 147.  388.  538. 1090.  268.  256.  351.    0.    0.    0.    0.    0.\n",
      "    0.    0.] Expected Profit: 1546060.9113699999\n",
      "New best strategy at iteration  300  :  [ 147.  388.  539. 1089.  268.  256.  351.    0.    0.    0.    0.    0.\n",
      "    0.    0.] Expected Profit: 1546063.3098699995\n",
      "New best strategy at iteration  300  :  [ 147.  388.  539. 1090.  267.  256.  351.    0.    0.    0.    0.    0.\n",
      "    0.    0.] Expected Profit: 1546066.1235699998\n",
      "New best strategy at iteration  300  :  [ 147.  388.  539. 1090.  268.  255.  351.    0.    0.    0.    0.    0.\n",
      "    0.    0.] Expected Profit: 1546069.3598699998\n",
      "New best strategy at iteration  300  :  [ 147.  388.  539. 1090.  268.  256.  350.    0.    0.    0.    0.    0.\n",
      "    0.    0.] Expected Profit: 1546073.01477\n"
     ]
    },
    {
     "name": "stderr",
     "output_type": "stream",
     "text": [
      "\r",
      "  0%|                                                                         | 302/1000000 [01:04<60:25:40,  4.60it/s]"
     ]
    },
    {
     "name": "stdout",
     "output_type": "stream",
     "text": [
      "New best strategy at iteration  301  :  [ 146.  388.  539. 1090.  268.  256.  350.    0.    0.    0.    0.    0.\n",
      "    0.    0.] Expected Profit: 1546075.9390699998\n",
      "New best strategy at iteration  301  :  [ 147.  387.  539. 1090.  268.  256.  350.    0.    0.    0.    0.    0.\n",
      "    0.    0.] Expected Profit: 1546077.4150699999\n",
      "New best strategy at iteration  301  :  [ 147.  388.  538. 1090.  268.  256.  350.    0.    0.    0.    0.    0.\n",
      "    0.    0.] Expected Profit: 1546079.33407\n",
      "New best strategy at iteration  301  :  [ 147.  388.  539. 1089.  268.  256.  350.    0.    0.    0.    0.    0.\n",
      "    0.    0.] Expected Profit: 1546081.73257\n",
      "New best strategy at iteration  301  :  [ 147.  388.  539. 1090.  267.  256.  350.    0.    0.    0.    0.    0.\n",
      "    0.    0.] Expected Profit: 1546084.54627\n",
      "New best strategy at iteration  301  :  [ 147.  388.  539. 1090.  268.  255.  350.    0.    0.    0.    0.    0.\n",
      "    0.    0.] Expected Profit: 1546087.7825699998\n",
      "New best strategy at iteration  301  :  [ 147.  388.  539. 1090.  268.  256.  349.    0.    0.    0.    0.    0.\n",
      "    0.    0.] Expected Profit: 1546091.4374700002\n"
     ]
    },
    {
     "name": "stderr",
     "output_type": "stream",
     "text": [
      "\r",
      "  0%|                                                                         | 303/1000000 [01:05<59:52:03,  4.64it/s]"
     ]
    },
    {
     "name": "stdout",
     "output_type": "stream",
     "text": [
      "New best strategy at iteration  302  :  [ 146.  388.  539. 1090.  268.  256.  349.    0.    0.    0.    0.    0.\n",
      "    0.    0.] Expected Profit: 1546094.36177\n",
      "New best strategy at iteration  302  :  [ 147.  387.  539. 1090.  268.  256.  349.    0.    0.    0.    0.    0.\n",
      "    0.    0.] Expected Profit: 1546095.8377699999\n",
      "New best strategy at iteration  302  :  [ 147.  388.  538. 1090.  268.  256.  349.    0.    0.    0.    0.    0.\n",
      "    0.    0.] Expected Profit: 1546097.75677\n",
      "New best strategy at iteration  302  :  [ 147.  388.  539. 1089.  268.  256.  349.    0.    0.    0.    0.    0.\n",
      "    0.    0.] Expected Profit: 1546100.15527\n",
      "New best strategy at iteration  302  :  [ 147.  388.  539. 1090.  267.  256.  349.    0.    0.    0.    0.    0.\n",
      "    0.    0.] Expected Profit: 1546102.9689700003\n",
      "New best strategy at iteration  302  :  [ 147.  388.  539. 1090.  268.  255.  349.    0.    0.    0.    0.    0.\n",
      "    0.    0.] Expected Profit: 1546106.20527\n",
      "New best strategy at iteration  302  :  [ 147.  388.  539. 1090.  268.  256.  348.    0.    0.    0.    0.    0.\n",
      "    0.    0.] Expected Profit: 1546109.8601699995\n",
      "New best strategy at iteration  303  :  [ 146.  388.  539. 1090.  268.  256.  348.    0.    0.    0.    0.    0.\n",
      "    0.    0.] Expected Profit: 1546112.7844699998\n",
      "New best strategy at iteration  303  :  [ 147.  387.  539. 1090.  268.  256.  348.    0.    0.    0.    0.    0.\n",
      "    0.    0.] Expected Profit: 1546114.2604699999\n",
      "New best strategy at iteration  303  :  [ 147.  388.  538. 1090.  268.  256.  348.    0.    0.    0.    0.    0.\n",
      "    0.    0.] Expected Profit: 1546116.17947\n",
      "New best strategy at iteration  303  :  [ 147.  388.  539. 1089.  268.  256.  348.    0.    0.    0.    0.    0.\n",
      "    0.    0.] Expected Profit: 1546118.5779699995\n",
      "New best strategy at iteration  303  :  [ 147.  388.  539. 1090.  267.  256.  348.    0.    0.    0.    0.    0.\n",
      "    0.    0.] Expected Profit: 1546121.39167\n",
      "New best strategy at iteration  303  :  [ 147.  388.  539. 1090.  268.  255.  348.    0.    0.    0.    0.    0.\n",
      "    0.    0.] Expected Profit: 1546124.6279699998\n",
      "New best strategy at iteration  303  :  [ 147.  388.  539. 1090.  268.  256.  347.    0.    0.    0.    0.    0.\n",
      "    0.    0.] Expected Profit: 1546128.28287\n"
     ]
    },
    {
     "name": "stderr",
     "output_type": "stream",
     "text": [
      "\r",
      "  0%|                                                                         | 304/1000000 [01:05<59:42:55,  4.65it/s]"
     ]
    },
    {
     "name": "stdout",
     "output_type": "stream",
     "text": [
      "New best strategy at iteration  304  :  [ 146.  388.  539. 1090.  268.  256.  347.    0.    0.    0.    0.    0.\n",
      "    0.    0.] Expected Profit: 1546131.2071699996\n",
      "New best strategy at iteration  304  :  [ 147.  387.  539. 1090.  268.  256.  347.    0.    0.    0.    0.    0.\n",
      "    0.    0.] Expected Profit: 1546132.6831699999\n",
      "New best strategy at iteration  304  :  [ 147.  388.  538. 1090.  268.  256.  347.    0.    0.    0.    0.    0.\n",
      "    0.    0.] Expected Profit: 1546134.60217\n",
      "New best strategy at iteration  304  :  [ 147.  388.  539. 1089.  268.  256.  347.    0.    0.    0.    0.    0.\n",
      "    0.    0.] Expected Profit: 1546137.0006699997\n",
      "New best strategy at iteration  304  :  [ 147.  388.  539. 1090.  267.  256.  347.    0.    0.    0.    0.    0.\n",
      "    0.    0.] Expected Profit: 1546139.8143699998\n",
      "New best strategy at iteration  304  :  [ 147.  388.  539. 1090.  268.  255.  347.    0.    0.    0.    0.    0.\n",
      "    0.    0.] Expected Profit: 1546143.0506699998\n",
      "New best strategy at iteration  304  :  [ 147.  388.  539. 1090.  268.  256.  346.    0.    0.    0.    0.    0.\n",
      "    0.    0.] Expected Profit: 1546146.70557\n"
     ]
    },
    {
     "name": "stderr",
     "output_type": "stream",
     "text": [
      "  0%|                                                                         | 306/1000000 [01:05<59:05:46,  4.70it/s]"
     ]
    },
    {
     "name": "stdout",
     "output_type": "stream",
     "text": [
      "New best strategy at iteration  305  :  [ 146.  388.  539. 1090.  268.  256.  346.    0.    0.    0.    0.    0.\n",
      "    0.    0.] Expected Profit: 1546149.6298699998\n",
      "New best strategy at iteration  305  :  [ 147.  387.  539. 1090.  268.  256.  346.    0.    0.    0.    0.    0.\n",
      "    0.    0.] Expected Profit: 1546151.1058699999\n",
      "New best strategy at iteration  305  :  [ 147.  388.  538. 1090.  268.  256.  346.    0.    0.    0.    0.    0.\n",
      "    0.    0.] Expected Profit: 1546153.0248699998\n",
      "New best strategy at iteration  305  :  [ 147.  388.  539. 1089.  268.  256.  346.    0.    0.    0.    0.    0.\n",
      "    0.    0.] Expected Profit: 1546155.42337\n",
      "New best strategy at iteration  305  :  [ 147.  388.  539. 1090.  267.  256.  346.    0.    0.    0.    0.    0.\n",
      "    0.    0.] Expected Profit: 1546158.23707\n",
      "New best strategy at iteration  305  :  [ 147.  388.  539. 1090.  268.  255.  346.    0.    0.    0.    0.    0.\n",
      "    0.    0.] Expected Profit: 1546161.4733699998\n",
      "New best strategy at iteration  305  :  [ 147.  388.  539. 1090.  268.  256.  345.    0.    0.    0.    0.    0.\n",
      "    0.    0.] Expected Profit: 1546165.12827\n",
      "New best strategy at iteration  306  :  [ 146.  388.  539. 1090.  268.  256.  345.    0.    0.    0.    0.    0.\n",
      "    0.    0.] Expected Profit: 1546168.05257\n"
     ]
    },
    {
     "name": "stderr",
     "output_type": "stream",
     "text": [
      "\r",
      "  0%|                                                                         | 307/1000000 [01:05<59:06:43,  4.70it/s]"
     ]
    },
    {
     "name": "stdout",
     "output_type": "stream",
     "text": [
      "New best strategy at iteration  306  :  [ 147.  387.  539. 1090.  268.  256.  345.    0.    0.    0.    0.    0.\n",
      "    0.    0.] Expected Profit: 1546169.5285699998\n",
      "New best strategy at iteration  306  :  [ 147.  388.  538. 1090.  268.  256.  345.    0.    0.    0.    0.    0.\n",
      "    0.    0.] Expected Profit: 1546171.44757\n",
      "New best strategy at iteration  306  :  [ 147.  388.  539. 1089.  268.  256.  345.    0.    0.    0.    0.    0.\n",
      "    0.    0.] Expected Profit: 1546173.84607\n",
      "New best strategy at iteration  306  :  [ 147.  388.  539. 1090.  267.  256.  345.    0.    0.    0.    0.    0.\n",
      "    0.    0.] Expected Profit: 1546176.65977\n",
      "New best strategy at iteration  306  :  [ 147.  388.  539. 1090.  268.  255.  345.    0.    0.    0.    0.    0.\n",
      "    0.    0.] Expected Profit: 1546179.89607\n",
      "New best strategy at iteration  306  :  [ 147.  388.  539. 1090.  268.  256.  344.    0.    0.    0.    0.    0.\n",
      "    0.    0.] Expected Profit: 1546183.5509699997\n"
     ]
    },
    {
     "name": "stderr",
     "output_type": "stream",
     "text": [
      "\r",
      "  0%|                                                                         | 308/1000000 [01:06<59:00:06,  4.71it/s]"
     ]
    },
    {
     "name": "stdout",
     "output_type": "stream",
     "text": [
      "New best strategy at iteration  307  :  [ 146.  388.  539. 1090.  268.  256.  344.    0.    0.    0.    0.    0.\n",
      "    0.    0.] Expected Profit: 1546186.47527\n",
      "New best strategy at iteration  307  :  [ 147.  387.  539. 1090.  268.  256.  344.    0.    0.    0.    0.    0.\n",
      "    0.    0.] Expected Profit: 1546187.95127\n",
      "New best strategy at iteration  307  :  [ 147.  388.  538. 1090.  268.  256.  344.    0.    0.    0.    0.    0.\n",
      "    0.    0.] Expected Profit: 1546189.87027\n",
      "New best strategy at iteration  307  :  [ 147.  388.  539. 1089.  268.  256.  344.    0.    0.    0.    0.    0.\n",
      "    0.    0.] Expected Profit: 1546192.2687699997\n",
      "New best strategy at iteration  307  :  [ 147.  388.  539. 1090.  267.  256.  344.    0.    0.    0.    0.    0.\n",
      "    0.    0.] Expected Profit: 1546195.0824699998\n",
      "New best strategy at iteration  307  :  [ 147.  388.  539. 1090.  268.  255.  344.    0.    0.    0.    0.    0.\n",
      "    0.    0.] Expected Profit: 1546198.31877\n",
      "New best strategy at iteration  307  :  [ 147.  388.  539. 1090.  268.  256.  343.    0.    0.    0.    0.    0.\n",
      "    0.    0.] Expected Profit: 1546201.97367\n",
      "New best strategy at iteration  308  :  [ 146.  388.  539. 1090.  268.  256.  343.    0.    0.    0.    0.    0.\n",
      "    0.    0.] Expected Profit: 1546204.8979699998\n",
      "New best strategy at iteration  308  :  [ 147.  387.  539. 1090.  268.  256.  343.    0.    0.    0.    0.    0.\n",
      "    0.    0.] Expected Profit: 1546206.3739699998\n",
      "New best strategy at iteration  308  :  [ 147.  388.  538. 1090.  268.  256.  343.    0.    0.    0.    0.    0.\n",
      "    0.    0.] Expected Profit: 1546208.29297\n",
      "New best strategy at iteration  308  :  [ 147.  388.  539. 1089.  268.  256.  343.    0.    0.    0.    0.    0.\n",
      "    0.    0.] Expected Profit: 1546210.6914699997\n",
      "New best strategy at iteration  308  :  [ 147.  388.  539. 1090.  267.  256.  343.    0.    0.    0.    0.    0.\n",
      "    0.    0.] Expected Profit: 1546213.5051699998\n",
      "New best strategy at iteration  308  :  [ 147.  388.  539. 1090.  268.  255.  343.    0.    0.    0.    0.    0.\n",
      "    0.    0.] Expected Profit: 1546216.7414699998\n",
      "New best strategy at iteration  308  :  [ 147.  388.  539. 1090.  268.  256.  342.    0.    0.    0.    0.    0.\n",
      "    0.    0.] Expected Profit: 1546220.39637\n"
     ]
    },
    {
     "name": "stderr",
     "output_type": "stream",
     "text": [
      "  0%|                                                                         | 310/1000000 [01:06<58:45:32,  4.73it/s]"
     ]
    },
    {
     "name": "stdout",
     "output_type": "stream",
     "text": [
      "New best strategy at iteration  309  :  [ 146.  388.  539. 1090.  268.  256.  342.    0.    0.    0.    0.    0.\n",
      "    0.    0.] Expected Profit: 1546223.32067\n",
      "New best strategy at iteration  309  :  [ 147.  387.  539. 1090.  268.  256.  342.    0.    0.    0.    0.    0.\n",
      "    0.    0.] Expected Profit: 1546224.7966699998\n",
      "New best strategy at iteration  309  :  [ 147.  388.  538. 1090.  268.  256.  342.    0.    0.    0.    0.    0.\n",
      "    0.    0.] Expected Profit: 1546226.71567\n",
      "New best strategy at iteration  309  :  [ 147.  388.  539. 1089.  268.  256.  342.    0.    0.    0.    0.    0.\n",
      "    0.    0.] Expected Profit: 1546229.1141699997\n",
      "New best strategy at iteration  309  :  [ 147.  388.  539. 1090.  267.  256.  342.    0.    0.    0.    0.    0.\n",
      "    0.    0.] Expected Profit: 1546231.9278699998\n",
      "New best strategy at iteration  309  :  [ 147.  388.  539. 1090.  268.  255.  342.    0.    0.    0.    0.    0.\n",
      "    0.    0.] Expected Profit: 1546235.1641699998\n",
      "New best strategy at iteration  309  :  [ 147.  388.  539. 1090.  268.  256.  341.    0.    0.    0.    0.    0.\n",
      "    0.    0.] Expected Profit: 1546238.8190700002\n",
      "New best strategy at iteration  310  :  [ 146.  388.  539. 1090.  268.  256.  341.    0.    0.    0.    0.    0.\n",
      "    0.    0.] Expected Profit: 1546241.7433699998\n",
      "New best strategy at iteration  310  :  [ 147.  387.  539. 1090.  268.  256.  341.    0.    0.    0.    0.    0.\n",
      "    0.    0.] Expected Profit: 1546243.2193699998\n",
      "New best strategy at iteration  310  :  [ 147.  388.  538. 1090.  268.  256.  341.    0.    0.    0.    0.    0.\n",
      "    0.    0.] Expected Profit: 1546245.1383699998\n",
      "New best strategy at iteration  310  :  [ 147.  388.  539. 1089.  268.  256.  341.    0.    0.    0.    0.    0.\n",
      "    0.    0.] Expected Profit: 1546247.53687\n",
      "New best strategy at iteration  310  :  [ 147.  388.  539. 1090.  267.  256.  341.    0.    0.    0.    0.    0.\n",
      "    0.    0.] Expected Profit: 1546250.3505700002\n",
      "New best strategy at iteration  310  :  [ 147.  388.  539. 1090.  268.  255.  341.    0.    0.    0.    0.    0.\n",
      "    0.    0.] Expected Profit: 1546253.58687\n",
      "New best strategy at iteration  310  :  [ 147.  388.  539. 1090.  268.  256.  340.    0.    0.    0.    0.    0.\n",
      "    0.    0.] Expected Profit: 1546257.24177\n"
     ]
    },
    {
     "name": "stderr",
     "output_type": "stream",
     "text": [
      "  0%|                                                                         | 312/1000000 [01:07<59:43:35,  4.65it/s]"
     ]
    },
    {
     "name": "stdout",
     "output_type": "stream",
     "text": [
      "New best strategy at iteration  311  :  [ 146.  388.  539. 1090.  268.  256.  340.    0.    0.    0.    0.    0.\n",
      "    0.    0.] Expected Profit: 1546260.1660699998\n",
      "New best strategy at iteration  311  :  [ 147.  387.  539. 1090.  268.  256.  340.    0.    0.    0.    0.    0.\n",
      "    0.    0.] Expected Profit: 1546261.6420699998\n",
      "New best strategy at iteration  311  :  [ 147.  388.  538. 1090.  268.  256.  340.    0.    0.    0.    0.    0.\n",
      "    0.    0.] Expected Profit: 1546263.5610700003\n",
      "New best strategy at iteration  311  :  [ 147.  388.  539. 1089.  268.  256.  340.    0.    0.    0.    0.    0.\n",
      "    0.    0.] Expected Profit: 1546265.9595699997\n",
      "New best strategy at iteration  311  :  [ 147.  388.  539. 1090.  267.  256.  340.    0.    0.    0.    0.    0.\n",
      "    0.    0.] Expected Profit: 1546268.77327\n",
      "New best strategy at iteration  311  :  [ 147.  388.  539. 1090.  268.  255.  340.    0.    0.    0.    0.    0.\n",
      "    0.    0.] Expected Profit: 1546272.0095699998\n",
      "New best strategy at iteration  311  :  [ 147.  388.  539. 1090.  268.  256.  339.    0.    0.    0.    0.    0.\n",
      "    0.    0.] Expected Profit: 1546275.6644699997\n",
      "New best strategy at iteration  312  :  [ 146.  388.  539. 1090.  268.  256.  339.    0.    0.    0.    0.    0.\n",
      "    0.    0.] Expected Profit: 1546278.58877\n",
      "New best strategy at iteration  312  :  [ 147.  387.  539. 1090.  268.  256.  339.    0.    0.    0.    0.    0.\n",
      "    0.    0.] Expected Profit: 1546280.06477\n",
      "New best strategy at iteration  312  :  [ 147.  388.  538. 1090.  268.  256.  339.    0.    0.    0.    0.    0.\n",
      "    0.    0.] Expected Profit: 1546281.98377\n",
      "New best strategy at iteration  312  :  [ 147.  388.  539. 1089.  268.  256.  339.    0.    0.    0.    0.    0.\n",
      "    0.    0.] Expected Profit: 1546284.3822699997\n",
      "New best strategy at iteration  312  :  [ 147.  388.  539. 1090.  267.  256.  339.    0.    0.    0.    0.    0.\n",
      "    0.    0.] Expected Profit: 1546287.1959699998\n",
      "New best strategy at iteration  312  :  [ 147.  388.  539. 1090.  268.  255.  339.    0.    0.    0.    0.    0.\n",
      "    0.    0.] Expected Profit: 1546290.4322699998\n",
      "New best strategy at iteration  312  :  [ 147.  388.  539. 1090.  268.  256.  338.    0.    0.    0.    0.    0.\n",
      "    0.    0.] Expected Profit: 1546294.0871700002\n"
     ]
    },
    {
     "name": "stderr",
     "output_type": "stream",
     "text": [
      "\r",
      "  0%|                                                                         | 313/1000000 [01:07<60:33:28,  4.59it/s]"
     ]
    },
    {
     "name": "stdout",
     "output_type": "stream",
     "text": [
      "New best strategy at iteration  313  :  [ 146.  388.  539. 1090.  268.  256.  338.    0.    0.    0.    0.    0.\n",
      "    0.    0.] Expected Profit: 1546297.0114699998\n",
      "New best strategy at iteration  313  :  [ 147.  387.  539. 1090.  268.  256.  338.    0.    0.    0.    0.    0.\n",
      "    0.    0.] Expected Profit: 1546298.4874699998\n",
      "New best strategy at iteration  313  :  [ 147.  388.  538. 1090.  268.  256.  338.    0.    0.    0.    0.    0.\n",
      "    0.    0.] Expected Profit: 1546300.40647\n",
      "New best strategy at iteration  313  :  [ 147.  388.  539. 1089.  268.  256.  338.    0.    0.    0.    0.    0.\n",
      "    0.    0.] Expected Profit: 1546302.80497\n",
      "New best strategy at iteration  313  :  [ 147.  388.  539. 1090.  267.  256.  338.    0.    0.    0.    0.    0.\n",
      "    0.    0.] Expected Profit: 1546305.61867\n",
      "New best strategy at iteration  313  :  [ 147.  388.  539. 1090.  268.  255.  338.    0.    0.    0.    0.    0.\n",
      "    0.    0.] Expected Profit: 1546308.8549699998\n",
      "New best strategy at iteration  313  :  [ 147.  388.  539. 1090.  268.  256.  337.    0.    0.    0.    0.    0.\n",
      "    0.    0.] Expected Profit: 1546312.50987\n"
     ]
    },
    {
     "name": "stderr",
     "output_type": "stream",
     "text": [
      "\r",
      "  0%|                                                                         | 314/1000000 [01:07<60:01:40,  4.63it/s]"
     ]
    },
    {
     "name": "stdout",
     "output_type": "stream",
     "text": [
      "New best strategy at iteration  314  :  [ 146.  388.  539. 1090.  268.  256.  337.    0.    0.    0.    0.    0.\n",
      "    0.    0.] Expected Profit: 1546315.43417\n",
      "New best strategy at iteration  314  :  [ 147.  387.  539. 1090.  268.  256.  337.    0.    0.    0.    0.    0.\n",
      "    0.    0.] Expected Profit: 1546316.9101699998\n",
      "New best strategy at iteration  314  :  [ 147.  388.  538. 1090.  268.  256.  337.    0.    0.    0.    0.    0.\n",
      "    0.    0.] Expected Profit: 1546318.82917\n",
      "New best strategy at iteration  314  :  [ 147.  388.  539. 1089.  268.  256.  337.    0.    0.    0.    0.    0.\n",
      "    0.    0.] Expected Profit: 1546321.22767\n",
      "New best strategy at iteration  314  :  [ 147.  388.  539. 1090.  267.  256.  337.    0.    0.    0.    0.    0.\n",
      "    0.    0.] Expected Profit: 1546324.04137\n",
      "New best strategy at iteration  314  :  [ 147.  388.  539. 1090.  268.  255.  337.    0.    0.    0.    0.    0.\n",
      "    0.    0.] Expected Profit: 1546327.27767\n",
      "New best strategy at iteration  314  :  [ 147.  388.  539. 1090.  268.  256.  336.    0.    0.    0.    0.    0.\n",
      "    0.    0.] Expected Profit: 1546330.9325699997\n"
     ]
    },
    {
     "name": "stderr",
     "output_type": "stream",
     "text": [
      "  0%|                                                                         | 316/1000000 [01:07<59:55:06,  4.63it/s]"
     ]
    },
    {
     "name": "stdout",
     "output_type": "stream",
     "text": [
      "New best strategy at iteration  315  :  [ 146.  388.  539. 1090.  268.  256.  336.    0.    0.    0.    0.    0.\n",
      "    0.    0.] Expected Profit: 1546333.8568699998\n",
      "New best strategy at iteration  315  :  [ 147.  387.  539. 1090.  268.  256.  336.    0.    0.    0.    0.    0.\n",
      "    0.    0.] Expected Profit: 1546335.3328699998\n",
      "New best strategy at iteration  315  :  [ 147.  388.  538. 1090.  268.  256.  336.    0.    0.    0.    0.    0.\n",
      "    0.    0.] Expected Profit: 1546337.2518699998\n",
      "New best strategy at iteration  315  :  [ 147.  388.  539. 1089.  268.  256.  336.    0.    0.    0.    0.    0.\n",
      "    0.    0.] Expected Profit: 1546339.6503699997\n",
      "New best strategy at iteration  315  :  [ 147.  388.  539. 1090.  267.  256.  336.    0.    0.    0.    0.    0.\n",
      "    0.    0.] Expected Profit: 1546342.4640699998\n",
      "New best strategy at iteration  315  :  [ 147.  388.  539. 1090.  268.  255.  336.    0.    0.    0.    0.    0.\n",
      "    0.    0.] Expected Profit: 1546345.70037\n",
      "New best strategy at iteration  315  :  [ 147.  388.  539. 1090.  268.  256.  335.    0.    0.    0.    0.    0.\n",
      "    0.    0.] Expected Profit: 1546349.35527\n"
     ]
    },
    {
     "name": "stderr",
     "output_type": "stream",
     "text": [
      "\r",
      "  0%|                                                                         | 317/1000000 [01:08<60:01:33,  4.63it/s]"
     ]
    },
    {
     "name": "stdout",
     "output_type": "stream",
     "text": [
      "New best strategy at iteration  316  :  [ 146.  388.  539. 1090.  268.  256.  335.    0.    0.    0.    0.    0.\n",
      "    0.    0.] Expected Profit: 1546352.2795699998\n",
      "New best strategy at iteration  316  :  [ 147.  387.  539. 1090.  268.  256.  335.    0.    0.    0.    0.    0.\n",
      "    0.    0.] Expected Profit: 1546353.75557\n",
      "New best strategy at iteration  316  :  [ 147.  388.  538. 1090.  268.  256.  335.    0.    0.    0.    0.    0.\n",
      "    0.    0.] Expected Profit: 1546355.67457\n",
      "New best strategy at iteration  316  :  [ 147.  388.  539. 1089.  268.  256.  335.    0.    0.    0.    0.    0.\n",
      "    0.    0.] Expected Profit: 1546358.07307\n",
      "New best strategy at iteration  316  :  [ 147.  388.  539. 1090.  267.  256.  335.    0.    0.    0.    0.    0.\n",
      "    0.    0.] Expected Profit: 1546360.88677\n",
      "New best strategy at iteration  316  :  [ 147.  388.  539. 1090.  268.  255.  335.    0.    0.    0.    0.    0.\n",
      "    0.    0.] Expected Profit: 1546364.12307\n",
      "New best strategy at iteration  316  :  [ 147.  388.  539. 1090.  268.  256.  334.    0.    0.    0.    0.    0.\n",
      "    0.    0.] Expected Profit: 1546367.77797\n"
     ]
    },
    {
     "name": "stderr",
     "output_type": "stream",
     "text": [
      "\r",
      "  0%|                                                                         | 318/1000000 [01:08<60:00:25,  4.63it/s]"
     ]
    },
    {
     "name": "stdout",
     "output_type": "stream",
     "text": [
      "New best strategy at iteration  317  :  [ 146.  388.  539. 1090.  268.  256.  334.    0.    0.    0.    0.    0.\n",
      "    0.    0.] Expected Profit: 1546370.70227\n",
      "New best strategy at iteration  317  :  [ 147.  387.  539. 1090.  268.  256.  334.    0.    0.    0.    0.    0.\n",
      "    0.    0.] Expected Profit: 1546372.17827\n",
      "New best strategy at iteration  317  :  [ 147.  388.  538. 1090.  268.  256.  334.    0.    0.    0.    0.    0.\n",
      "    0.    0.] Expected Profit: 1546374.09727\n",
      "New best strategy at iteration  317  :  [ 147.  388.  539. 1089.  268.  256.  334.    0.    0.    0.    0.    0.\n",
      "    0.    0.] Expected Profit: 1546376.49577\n",
      "New best strategy at iteration  317  :  [ 147.  388.  539. 1090.  267.  256.  334.    0.    0.    0.    0.    0.\n",
      "    0.    0.] Expected Profit: 1546379.3094699997\n",
      "New best strategy at iteration  317  :  [ 147.  388.  539. 1090.  268.  255.  334.    0.    0.    0.    0.    0.\n",
      "    0.    0.] Expected Profit: 1546382.54577\n",
      "New best strategy at iteration  317  :  [ 147.  388.  539. 1090.  268.  256.  333.    0.    0.    0.    0.    0.\n",
      "    0.    0.] Expected Profit: 1546386.2006700002\n"
     ]
    },
    {
     "name": "stderr",
     "output_type": "stream",
     "text": [
      "\r",
      "  0%|                                                                         | 319/1000000 [01:08<59:48:57,  4.64it/s]"
     ]
    },
    {
     "name": "stdout",
     "output_type": "stream",
     "text": [
      "New best strategy at iteration  318  :  [ 146.  388.  539. 1090.  268.  256.  333.    0.    0.    0.    0.    0.\n",
      "    0.    0.] Expected Profit: 1546389.12497\n",
      "New best strategy at iteration  318  :  [ 147.  387.  539. 1090.  268.  256.  333.    0.    0.    0.    0.    0.\n",
      "    0.    0.] Expected Profit: 1546390.60097\n",
      "New best strategy at iteration  318  :  [ 147.  388.  538. 1090.  268.  256.  333.    0.    0.    0.    0.    0.\n",
      "    0.    0.] Expected Profit: 1546392.5199700003\n",
      "New best strategy at iteration  318  :  [ 147.  388.  539. 1089.  268.  256.  333.    0.    0.    0.    0.    0.\n",
      "    0.    0.] Expected Profit: 1546394.91847\n",
      "New best strategy at iteration  318  :  [ 147.  388.  539. 1090.  267.  256.  333.    0.    0.    0.    0.    0.\n",
      "    0.    0.] Expected Profit: 1546397.73217\n",
      "New best strategy at iteration  318  :  [ 147.  388.  539. 1090.  268.  255.  333.    0.    0.    0.    0.    0.\n",
      "    0.    0.] Expected Profit: 1546400.96847\n",
      "New best strategy at iteration  318  :  [ 147.  388.  539. 1090.  268.  256.  332.    0.    0.    0.    0.    0.\n",
      "    0.    0.] Expected Profit: 1546404.62337\n",
      "New best strategy at iteration  319  :  [ 146.  388.  539. 1090.  268.  256.  332.    0.    0.    0.    0.    0.\n",
      "    0.    0.] Expected Profit: 1546407.5476699995\n",
      "New best strategy at iteration  319  :  [ 147.  387.  539. 1090.  268.  256.  332.    0.    0.    0.    0.    0.\n",
      "    0.    0.] Expected Profit: 1546409.0236699998\n",
      "New best strategy at iteration  319  :  [ 147.  388.  538. 1090.  268.  256.  332.    0.    0.    0.    0.    0.\n",
      "    0.    0.] Expected Profit: 1546410.94267\n",
      "New best strategy at iteration  319  :  [ 147.  388.  539. 1089.  268.  256.  332.    0.    0.    0.    0.    0.\n",
      "    0.    0.] Expected Profit: 1546413.3411699997\n",
      "New best strategy at iteration  319  :  [ 147.  388.  539. 1090.  267.  256.  332.    0.    0.    0.    0.    0.\n",
      "    0.    0.] Expected Profit: 1546416.15487\n",
      "New best strategy at iteration  319  :  [ 147.  388.  539. 1090.  268.  255.  332.    0.    0.    0.    0.    0.\n",
      "    0.    0.] Expected Profit: 1546419.3911699995\n",
      "New best strategy at iteration  319  :  [ 147.  388.  539. 1090.  268.  256.  331.    0.    0.    0.    0.    0.\n",
      "    0.    0.] Expected Profit: 1546423.0460700002\n"
     ]
    },
    {
     "name": "stderr",
     "output_type": "stream",
     "text": [
      "\r",
      "  0%|                                                                         | 320/1000000 [01:08<59:32:52,  4.66it/s]"
     ]
    },
    {
     "name": "stdout",
     "output_type": "stream",
     "text": [
      "New best strategy at iteration  320  :  [ 146.  388.  539. 1090.  268.  256.  331.    0.    0.    0.    0.    0.\n",
      "    0.    0.] Expected Profit: 1546425.97037\n",
      "New best strategy at iteration  320  :  [ 147.  387.  539. 1090.  268.  256.  331.    0.    0.    0.    0.    0.\n",
      "    0.    0.] Expected Profit: 1546427.4463699998\n",
      "New best strategy at iteration  320  :  [ 147.  388.  538. 1090.  268.  256.  331.    0.    0.    0.    0.    0.\n",
      "    0.    0.] Expected Profit: 1546429.3653699998\n",
      "New best strategy at iteration  320  :  [ 147.  388.  539. 1089.  268.  256.  331.    0.    0.    0.    0.    0.\n",
      "    0.    0.] Expected Profit: 1546431.76387\n",
      "New best strategy at iteration  320  :  [ 147.  388.  539. 1090.  267.  256.  331.    0.    0.    0.    0.    0.\n",
      "    0.    0.] Expected Profit: 1546434.57757\n",
      "New best strategy at iteration  320  :  [ 147.  388.  539. 1090.  268.  255.  331.    0.    0.    0.    0.    0.\n",
      "    0.    0.] Expected Profit: 1546437.81387\n",
      "New best strategy at iteration  320  :  [ 147.  388.  539. 1090.  268.  256.  330.    0.    0.    0.    0.    0.\n",
      "    0.    0.] Expected Profit: 1546441.46877\n"
     ]
    },
    {
     "name": "stderr",
     "output_type": "stream",
     "text": [
      "\r",
      "  0%|                                                                         | 321/1000000 [01:08<59:28:42,  4.67it/s]"
     ]
    },
    {
     "name": "stdout",
     "output_type": "stream",
     "text": [
      "New best strategy at iteration  321  :  [ 146.  388.  539. 1090.  268.  256.  330.    0.    0.    0.    0.    0.\n",
      "    0.    0.] Expected Profit: 1546444.39307\n",
      "New best strategy at iteration  321  :  [ 147.  387.  539. 1090.  268.  256.  330.    0.    0.    0.    0.    0.\n",
      "    0.    0.] Expected Profit: 1546445.8690699998\n",
      "New best strategy at iteration  321  :  [ 147.  388.  538. 1090.  268.  256.  330.    0.    0.    0.    0.    0.\n",
      "    0.    0.] Expected Profit: 1546447.7880700002\n",
      "New best strategy at iteration  321  :  [ 147.  388.  539. 1089.  268.  256.  330.    0.    0.    0.    0.    0.\n",
      "    0.    0.] Expected Profit: 1546450.18657\n",
      "New best strategy at iteration  321  :  [ 147.  388.  539. 1090.  267.  256.  330.    0.    0.    0.    0.    0.\n",
      "    0.    0.] Expected Profit: 1546453.00027\n",
      "New best strategy at iteration  321  :  [ 147.  388.  539. 1090.  268.  255.  330.    0.    0.    0.    0.    0.\n",
      "    0.    0.] Expected Profit: 1546456.23657\n",
      "New best strategy at iteration  321  :  [ 147.  388.  539. 1090.  268.  256.  329.    0.    0.    0.    0.    0.\n",
      "    0.    0.] Expected Profit: 1546459.89147\n"
     ]
    },
    {
     "name": "stderr",
     "output_type": "stream",
     "text": [
      "  0%|                                                                         | 323/1000000 [01:09<59:17:16,  4.68it/s]"
     ]
    },
    {
     "name": "stdout",
     "output_type": "stream",
     "text": [
      "New best strategy at iteration  322  :  [ 146.  388.  539. 1090.  268.  256.  329.    0.    0.    0.    0.    0.\n",
      "    0.    0.] Expected Profit: 1546462.81577\n",
      "New best strategy at iteration  322  :  [ 147.  387.  539. 1090.  268.  256.  329.    0.    0.    0.    0.    0.\n",
      "    0.    0.] Expected Profit: 1546464.29177\n",
      "New best strategy at iteration  322  :  [ 147.  388.  538. 1090.  268.  256.  329.    0.    0.    0.    0.    0.\n",
      "    0.    0.] Expected Profit: 1546466.2107700002\n",
      "New best strategy at iteration  322  :  [ 147.  388.  539. 1089.  268.  256.  329.    0.    0.    0.    0.    0.\n",
      "    0.    0.] Expected Profit: 1546468.60927\n",
      "New best strategy at iteration  322  :  [ 147.  388.  539. 1090.  267.  256.  329.    0.    0.    0.    0.    0.\n",
      "    0.    0.] Expected Profit: 1546471.42297\n",
      "New best strategy at iteration  322  :  [ 147.  388.  539. 1090.  268.  255.  329.    0.    0.    0.    0.    0.\n",
      "    0.    0.] Expected Profit: 1546474.65927\n",
      "New best strategy at iteration  322  :  [ 147.  388.  539. 1090.  268.  256.  328.    0.    0.    0.    0.    0.\n",
      "    0.    0.] Expected Profit: 1546478.31417\n"
     ]
    },
    {
     "name": "stderr",
     "output_type": "stream",
     "text": [
      "\r",
      "  0%|                                                                         | 324/1000000 [01:09<59:04:30,  4.70it/s]"
     ]
    },
    {
     "name": "stdout",
     "output_type": "stream",
     "text": [
      "New best strategy at iteration  323  :  [ 146.  388.  539. 1090.  268.  256.  328.    0.    0.    0.    0.    0.\n",
      "    0.    0.] Expected Profit: 1546481.2384699997\n",
      "New best strategy at iteration  323  :  [ 147.  387.  539. 1090.  268.  256.  328.    0.    0.    0.    0.    0.\n",
      "    0.    0.] Expected Profit: 1546482.71447\n",
      "New best strategy at iteration  323  :  [ 147.  388.  538. 1090.  268.  256.  328.    0.    0.    0.    0.    0.\n",
      "    0.    0.] Expected Profit: 1546484.63347\n",
      "New best strategy at iteration  323  :  [ 147.  388.  539. 1089.  268.  256.  328.    0.    0.    0.    0.    0.\n",
      "    0.    0.] Expected Profit: 1546487.03197\n",
      "New best strategy at iteration  323  :  [ 147.  388.  539. 1090.  267.  256.  328.    0.    0.    0.    0.    0.\n",
      "    0.    0.] Expected Profit: 1546489.8456700002\n",
      "New best strategy at iteration  323  :  [ 147.  388.  539. 1090.  268.  255.  328.    0.    0.    0.    0.    0.\n",
      "    0.    0.] Expected Profit: 1546493.0819699997\n",
      "New best strategy at iteration  323  :  [ 147.  388.  539. 1090.  268.  256.  327.    0.    0.    0.    0.    0.\n",
      "    0.    0.] Expected Profit: 1546496.73687\n",
      "New best strategy at iteration  324  :  [ 146.  388.  539. 1090.  268.  256.  327.    0.    0.    0.    0.    0.\n",
      "    0.    0.] Expected Profit: 1546499.66117\n",
      "New best strategy at iteration  324  :  [ 147.  387.  539. 1090.  268.  256.  327.    0.    0.    0.    0.    0.\n",
      "    0.    0.] Expected Profit: 1546501.1371699998\n",
      "New best strategy at iteration  324  :  [ 147.  388.  538. 1090.  268.  256.  327.    0.    0.    0.    0.    0.\n",
      "    0.    0.] Expected Profit: 1546503.05617\n",
      "New best strategy at iteration  324  :  [ 147.  388.  539. 1089.  268.  256.  327.    0.    0.    0.    0.    0.\n",
      "    0.    0.] Expected Profit: 1546505.45467\n",
      "New best strategy at iteration  324  :  [ 147.  388.  539. 1090.  267.  256.  327.    0.    0.    0.    0.    0.\n",
      "    0.    0.] Expected Profit: 1546508.26837\n",
      "New best strategy at iteration  324  :  [ 147.  388.  539. 1090.  268.  255.  327.    0.    0.    0.    0.    0.\n",
      "    0.    0.] Expected Profit: 1546511.50467\n",
      "New best strategy at iteration  324  :  [ 147.  388.  539. 1090.  268.  256.  326.    0.    0.    0.    0.    0.\n",
      "    0.    0.] Expected Profit: 1546515.15957\n"
     ]
    },
    {
     "name": "stderr",
     "output_type": "stream",
     "text": [
      "  0%|                                                                         | 326/1000000 [01:10<59:05:33,  4.70it/s]"
     ]
    },
    {
     "name": "stdout",
     "output_type": "stream",
     "text": [
      "New best strategy at iteration  325  :  [ 146.  388.  539. 1090.  268.  256.  326.    0.    0.    0.    0.    0.\n",
      "    0.    0.] Expected Profit: 1546518.08387\n",
      "New best strategy at iteration  325  :  [ 147.  387.  539. 1090.  268.  256.  326.    0.    0.    0.    0.    0.\n",
      "    0.    0.] Expected Profit: 1546519.55987\n",
      "New best strategy at iteration  325  :  [ 147.  388.  538. 1090.  268.  256.  326.    0.    0.    0.    0.    0.\n",
      "    0.    0.] Expected Profit: 1546521.4788700002\n",
      "New best strategy at iteration  325  :  [ 147.  388.  539. 1089.  268.  256.  326.    0.    0.    0.    0.    0.\n",
      "    0.    0.] Expected Profit: 1546523.87737\n",
      "New best strategy at iteration  325  :  [ 147.  388.  539. 1090.  267.  256.  326.    0.    0.    0.    0.    0.\n",
      "    0.    0.] Expected Profit: 1546526.6910700002\n",
      "New best strategy at iteration  325  :  [ 147.  388.  539. 1090.  268.  255.  326.    0.    0.    0.    0.    0.\n",
      "    0.    0.] Expected Profit: 1546529.9273700002\n",
      "New best strategy at iteration  325  :  [ 147.  388.  539. 1090.  268.  256.  325.    0.    0.    0.    0.    0.\n",
      "    0.    0.] Expected Profit: 1546533.58227\n",
      "New best strategy at iteration  326  :  [ 146.  388.  539. 1090.  268.  256.  325.    0.    0.    0.    0.    0.\n",
      "    0.    0.] Expected Profit: 1546536.5065699997\n",
      "New best strategy at iteration  326  :  [ 147.  387.  539. 1090.  268.  256.  325.    0.    0.    0.    0.    0.\n",
      "    0.    0.] Expected Profit: 1546537.98257\n",
      "New best strategy at iteration  326  :  [ 147.  388.  538. 1090.  268.  256.  325.    0.    0.    0.    0.    0.\n",
      "    0.    0.] Expected Profit: 1546539.9015700002\n",
      "New best strategy at iteration  326  :  [ 147.  388.  539. 1089.  268.  256.  325.    0.    0.    0.    0.    0.\n",
      "    0.    0.] Expected Profit: 1546542.3000699999\n",
      "New best strategy at iteration  326  :  [ 147.  388.  539. 1090.  267.  256.  325.    0.    0.    0.    0.    0.\n",
      "    0.    0.] Expected Profit: 1546545.11377\n",
      "New best strategy at iteration  326  :  [ 147.  388.  539. 1090.  268.  255.  325.    0.    0.    0.    0.    0.\n",
      "    0.    0.] Expected Profit: 1546548.3500700002\n",
      "New best strategy at iteration  326  :  [ 147.  388.  539. 1090.  268.  256.  324.    0.    0.    0.    0.    0.\n",
      "    0.    0.] Expected Profit: 1546552.00497\n"
     ]
    },
    {
     "name": "stderr",
     "output_type": "stream",
     "text": [
      "\r",
      "  0%|                                                                         | 327/1000000 [01:10<59:14:17,  4.69it/s]"
     ]
    },
    {
     "name": "stdout",
     "output_type": "stream",
     "text": [
      "New best strategy at iteration  327  :  [ 146.  388.  539. 1090.  268.  256.  324.    0.    0.    0.    0.    0.\n",
      "    0.    0.] Expected Profit: 1546554.9292699995\n",
      "New best strategy at iteration  327  :  [ 147.  387.  539. 1090.  268.  256.  324.    0.    0.    0.    0.    0.\n",
      "    0.    0.] Expected Profit: 1546556.4052699998\n",
      "New best strategy at iteration  327  :  [ 147.  388.  538. 1090.  268.  256.  324.    0.    0.    0.    0.    0.\n",
      "    0.    0.] Expected Profit: 1546558.32427\n",
      "New best strategy at iteration  327  :  [ 147.  388.  539. 1089.  268.  256.  324.    0.    0.    0.    0.    0.\n",
      "    0.    0.] Expected Profit: 1546560.7227699996\n",
      "New best strategy at iteration  327  :  [ 147.  388.  539. 1090.  267.  256.  324.    0.    0.    0.    0.    0.\n",
      "    0.    0.] Expected Profit: 1546563.5364699997\n",
      "New best strategy at iteration  327  :  [ 147.  388.  539. 1090.  268.  255.  324.    0.    0.    0.    0.    0.\n",
      "    0.    0.] Expected Profit: 1546566.7727699997\n",
      "New best strategy at iteration  327  :  [ 147.  388.  539. 1090.  268.  256.  323.    0.    0.    0.    0.    0.\n",
      "    0.    0.] Expected Profit: 1546570.42767\n"
     ]
    },
    {
     "name": "stderr",
     "output_type": "stream",
     "text": [
      "\r",
      "  0%|                                                                         | 328/1000000 [01:10<61:50:14,  4.49it/s]"
     ]
    },
    {
     "name": "stdout",
     "output_type": "stream",
     "text": [
      "New best strategy at iteration  328  :  [ 146.  388.  539. 1090.  268.  256.  323.    0.    0.    0.    0.    0.\n",
      "    0.    0.] Expected Profit: 1546573.3519699997\n",
      "New best strategy at iteration  328  :  [ 147.  387.  539. 1090.  268.  256.  323.    0.    0.    0.    0.    0.\n",
      "    0.    0.] Expected Profit: 1546574.82797\n",
      "New best strategy at iteration  328  :  [ 147.  388.  538. 1090.  268.  256.  323.    0.    0.    0.    0.    0.\n",
      "    0.    0.] Expected Profit: 1546576.7469699997\n",
      "New best strategy at iteration  328  :  [ 147.  388.  539. 1089.  268.  256.  323.    0.    0.    0.    0.    0.\n",
      "    0.    0.] Expected Profit: 1546579.1454699999\n",
      "New best strategy at iteration  328  :  [ 147.  388.  539. 1090.  267.  256.  323.    0.    0.    0.    0.    0.\n",
      "    0.    0.] Expected Profit: 1546581.9591700002\n",
      "New best strategy at iteration  328  :  [ 147.  388.  539. 1090.  268.  255.  323.    0.    0.    0.    0.    0.\n",
      "    0.    0.] Expected Profit: 1546585.1954699997\n",
      "New best strategy at iteration  328  :  [ 147.  388.  539. 1090.  268.  256.  322.    0.    0.    0.    0.    0.\n",
      "    0.    0.] Expected Profit: 1546588.85037\n"
     ]
    },
    {
     "name": "stderr",
     "output_type": "stream",
     "text": [
      "\r",
      "  0%|                                                                         | 329/1000000 [01:10<63:09:57,  4.40it/s]"
     ]
    },
    {
     "name": "stdout",
     "output_type": "stream",
     "text": [
      "New best strategy at iteration  329  :  [ 146.  388.  539. 1090.  268.  256.  322.    0.    0.    0.    0.    0.\n",
      "    0.    0.] Expected Profit: 1546591.7746700002\n",
      "New best strategy at iteration  329  :  [ 147.  387.  539. 1090.  268.  256.  322.    0.    0.    0.    0.    0.\n",
      "    0.    0.] Expected Profit: 1546593.2506699997\n",
      "New best strategy at iteration  329  :  [ 147.  388.  538. 1090.  268.  256.  322.    0.    0.    0.    0.    0.\n",
      "    0.    0.] Expected Profit: 1546595.16967\n",
      "New best strategy at iteration  329  :  [ 147.  388.  539. 1089.  268.  256.  322.    0.    0.    0.    0.    0.\n",
      "    0.    0.] Expected Profit: 1546597.5681699999\n",
      "New best strategy at iteration  329  :  [ 147.  388.  539. 1090.  267.  256.  322.    0.    0.    0.    0.    0.\n",
      "    0.    0.] Expected Profit: 1546600.38187\n",
      "New best strategy at iteration  329  :  [ 147.  388.  539. 1090.  268.  255.  322.    0.    0.    0.    0.    0.\n",
      "    0.    0.] Expected Profit: 1546603.61817\n",
      "New best strategy at iteration  329  :  [ 147.  388.  539. 1090.  268.  256.  321.    0.    0.    0.    0.    0.\n",
      "    0.    0.] Expected Profit: 1546607.27307\n"
     ]
    },
    {
     "name": "stderr",
     "output_type": "stream",
     "text": [
      "\r",
      "  0%|                                                                         | 330/1000000 [01:10<64:56:10,  4.28it/s]"
     ]
    },
    {
     "name": "stdout",
     "output_type": "stream",
     "text": [
      "New best strategy at iteration  330  :  [ 146.  388.  539. 1090.  268.  256.  321.    0.    0.    0.    0.    0.\n",
      "    0.    0.] Expected Profit: 1546610.19737\n",
      "New best strategy at iteration  330  :  [ 147.  387.  539. 1090.  268.  256.  321.    0.    0.    0.    0.    0.\n",
      "    0.    0.] Expected Profit: 1546611.67337\n",
      "New best strategy at iteration  330  :  [ 147.  388.  538. 1090.  268.  256.  321.    0.    0.    0.    0.    0.\n",
      "    0.    0.] Expected Profit: 1546613.5923700002\n",
      "New best strategy at iteration  330  :  [ 147.  388.  539. 1089.  268.  256.  321.    0.    0.    0.    0.    0.\n",
      "    0.    0.] Expected Profit: 1546615.9908699999\n",
      "New best strategy at iteration  330  :  [ 147.  388.  539. 1090.  267.  256.  321.    0.    0.    0.    0.    0.\n",
      "    0.    0.] Expected Profit: 1546618.8045700002\n",
      "New best strategy at iteration  330  :  [ 147.  388.  539. 1090.  268.  255.  321.    0.    0.    0.    0.    0.\n",
      "    0.    0.] Expected Profit: 1546622.0408700001\n",
      "New best strategy at iteration  330  :  [ 147.  388.  539. 1090.  268.  256.  320.    0.    0.    0.    0.    0.\n",
      "    0.    0.] Expected Profit: 1546625.6957699999\n"
     ]
    },
    {
     "name": "stderr",
     "output_type": "stream",
     "text": [
      "\r",
      "  0%|                                                                         | 331/1000000 [01:11<63:28:35,  4.37it/s]"
     ]
    },
    {
     "name": "stdout",
     "output_type": "stream",
     "text": [
      "New best strategy at iteration  331  :  [ 146.  388.  539. 1090.  268.  256.  320.    0.    0.    0.    0.    0.\n",
      "    0.    0.] Expected Profit: 1546628.6200699997\n",
      "New best strategy at iteration  331  :  [ 147.  387.  539. 1090.  268.  256.  320.    0.    0.    0.    0.    0.\n",
      "    0.    0.] Expected Profit: 1546630.09607\n",
      "New best strategy at iteration  331  :  [ 147.  388.  538. 1090.  268.  256.  320.    0.    0.    0.    0.    0.\n",
      "    0.    0.] Expected Profit: 1546632.01507\n",
      "New best strategy at iteration  331  :  [ 147.  388.  539. 1089.  268.  256.  320.    0.    0.    0.    0.    0.\n",
      "    0.    0.] Expected Profit: 1546634.4135699999\n",
      "New best strategy at iteration  331  :  [ 147.  388.  539. 1090.  267.  256.  320.    0.    0.    0.    0.    0.\n",
      "    0.    0.] Expected Profit: 1546637.22727\n",
      "New best strategy at iteration  331  :  [ 147.  388.  539. 1090.  268.  255.  320.    0.    0.    0.    0.    0.\n",
      "    0.    0.] Expected Profit: 1546640.4635699997\n",
      "New best strategy at iteration  331  :  [ 147.  388.  539. 1090.  268.  256.  319.    0.    0.    0.    0.    0.\n",
      "    0.    0.] Expected Profit: 1546644.1184699999\n"
     ]
    },
    {
     "name": "stderr",
     "output_type": "stream",
     "text": [
      "\r",
      "  0%|                                                                         | 332/1000000 [01:11<66:18:59,  4.19it/s]"
     ]
    },
    {
     "name": "stdout",
     "output_type": "stream",
     "text": [
      "New best strategy at iteration  332  :  [ 146.  388.  539. 1090.  268.  256.  319.    0.    0.    0.    0.    0.\n",
      "    0.    0.] Expected Profit: 1546647.04277\n",
      "New best strategy at iteration  332  :  [ 147.  387.  539. 1090.  268.  256.  319.    0.    0.    0.    0.    0.\n",
      "    0.    0.] Expected Profit: 1546648.5187699997\n",
      "New best strategy at iteration  332  :  [ 147.  388.  538. 1090.  268.  256.  319.    0.    0.    0.    0.    0.\n",
      "    0.    0.] Expected Profit: 1546650.43777\n",
      "New best strategy at iteration  332  :  [ 147.  388.  539. 1089.  268.  256.  319.    0.    0.    0.    0.    0.\n",
      "    0.    0.] Expected Profit: 1546652.83627\n",
      "New best strategy at iteration  332  :  [ 147.  388.  539. 1090.  267.  256.  319.    0.    0.    0.    0.    0.\n",
      "    0.    0.] Expected Profit: 1546655.6499699997\n",
      "New best strategy at iteration  332  :  [ 147.  388.  539. 1090.  268.  255.  319.    0.    0.    0.    0.    0.\n",
      "    0.    0.] Expected Profit: 1546658.8862699997\n",
      "New best strategy at iteration  332  :  [ 147.  388.  539. 1090.  268.  256.  318.    0.    0.    0.    0.    0.\n",
      "    0.    0.] Expected Profit: 1546662.54117\n"
     ]
    },
    {
     "name": "stderr",
     "output_type": "stream",
     "text": [
      "\r",
      "  0%|                                                                         | 333/1000000 [01:11<64:47:45,  4.29it/s]"
     ]
    },
    {
     "name": "stdout",
     "output_type": "stream",
     "text": [
      "New best strategy at iteration  333  :  [ 146.  388.  539. 1090.  268.  256.  318.    0.    0.    0.    0.    0.\n",
      "    0.    0.] Expected Profit: 1546665.4654699997\n",
      "New best strategy at iteration  333  :  [ 147.  387.  539. 1090.  268.  256.  318.    0.    0.    0.    0.    0.\n",
      "    0.    0.] Expected Profit: 1546666.9414699997\n",
      "New best strategy at iteration  333  :  [ 147.  388.  538. 1090.  268.  256.  318.    0.    0.    0.    0.    0.\n",
      "    0.    0.] Expected Profit: 1546668.8604700002\n",
      "New best strategy at iteration  333  :  [ 147.  388.  539. 1089.  268.  256.  318.    0.    0.    0.    0.    0.\n",
      "    0.    0.] Expected Profit: 1546671.25897\n",
      "New best strategy at iteration  333  :  [ 147.  388.  539. 1090.  267.  256.  318.    0.    0.    0.    0.    0.\n",
      "    0.    0.] Expected Profit: 1546674.0726700001\n",
      "New best strategy at iteration  333  :  [ 147.  388.  539. 1090.  268.  255.  318.    0.    0.    0.    0.    0.\n",
      "    0.    0.] Expected Profit: 1546677.3089700001\n",
      "New best strategy at iteration  333  :  [ 147.  388.  539. 1090.  268.  256.  317.    0.    0.    0.    0.    0.\n",
      "    0.    0.] Expected Profit: 1546680.96387\n"
     ]
    },
    {
     "name": "stderr",
     "output_type": "stream",
     "text": [
      "\r",
      "  0%|                                                                         | 334/1000000 [01:11<65:46:43,  4.22it/s]"
     ]
    },
    {
     "name": "stdout",
     "output_type": "stream",
     "text": [
      "New best strategy at iteration  334  :  [ 146.  388.  539. 1090.  268.  256.  317.    0.    0.    0.    0.    0.\n",
      "    0.    0.] Expected Profit: 1546683.8881700002\n",
      "New best strategy at iteration  334  :  [ 147.  387.  539. 1090.  268.  256.  317.    0.    0.    0.    0.    0.\n",
      "    0.    0.] Expected Profit: 1546685.3641700002\n",
      "New best strategy at iteration  334  :  [ 147.  388.  538. 1090.  268.  256.  317.    0.    0.    0.    0.    0.\n",
      "    0.    0.] Expected Profit: 1546687.2831700002\n",
      "New best strategy at iteration  334  :  [ 147.  388.  539. 1089.  268.  256.  317.    0.    0.    0.    0.    0.\n",
      "    0.    0.] Expected Profit: 1546689.68167\n",
      "New best strategy at iteration  334  :  [ 147.  388.  539. 1090.  267.  256.  317.    0.    0.    0.    0.    0.\n",
      "    0.    0.] Expected Profit: 1546692.49537\n",
      "New best strategy at iteration  334  :  [ 147.  388.  539. 1090.  268.  255.  317.    0.    0.    0.    0.    0.\n",
      "    0.    0.] Expected Profit: 1546695.7316700001\n",
      "New best strategy at iteration  334  :  [ 147.  388.  539. 1090.  268.  256.  316.    0.    0.    0.    0.    0.\n",
      "    0.    0.] Expected Profit: 1546699.3865699996\n"
     ]
    },
    {
     "name": "stderr",
     "output_type": "stream",
     "text": [
      "\r",
      "  0%|                                                                         | 335/1000000 [01:12<65:46:20,  4.22it/s]"
     ]
    },
    {
     "name": "stdout",
     "output_type": "stream",
     "text": [
      "New best strategy at iteration  335  :  [ 146.  388.  539. 1090.  268.  256.  316.    0.    0.    0.    0.    0.\n",
      "    0.    0.] Expected Profit: 1546702.31087\n",
      "New best strategy at iteration  335  :  [ 147.  387.  539. 1090.  268.  256.  316.    0.    0.    0.    0.    0.\n",
      "    0.    0.] Expected Profit: 1546703.78687\n",
      "New best strategy at iteration  335  :  [ 147.  388.  538. 1090.  268.  256.  316.    0.    0.    0.    0.    0.\n",
      "    0.    0.] Expected Profit: 1546705.70587\n",
      "New best strategy at iteration  335  :  [ 147.  388.  539. 1089.  268.  256.  316.    0.    0.    0.    0.    0.\n",
      "    0.    0.] Expected Profit: 1546708.1043699998\n",
      "New best strategy at iteration  335  :  [ 147.  388.  539. 1090.  267.  256.  316.    0.    0.    0.    0.    0.\n",
      "    0.    0.] Expected Profit: 1546710.9180699997\n",
      "New best strategy at iteration  335  :  [ 147.  388.  539. 1090.  268.  255.  316.    0.    0.    0.    0.    0.\n",
      "    0.    0.] Expected Profit: 1546714.1543699997\n",
      "New best strategy at iteration  335  :  [ 147.  388.  539. 1090.  268.  256.  315.    0.    0.    0.    0.    0.\n",
      "    0.    0.] Expected Profit: 1546717.80927\n"
     ]
    },
    {
     "name": "stderr",
     "output_type": "stream",
     "text": [
      "\r",
      "  0%|                                                                         | 336/1000000 [01:12<63:59:05,  4.34it/s]"
     ]
    },
    {
     "name": "stdout",
     "output_type": "stream",
     "text": [
      "New best strategy at iteration  336  :  [ 146.  388.  539. 1090.  268.  256.  315.    0.    0.    0.    0.    0.\n",
      "    0.    0.] Expected Profit: 1546720.7335699997\n",
      "New best strategy at iteration  336  :  [ 147.  387.  539. 1090.  268.  256.  315.    0.    0.    0.    0.    0.\n",
      "    0.    0.] Expected Profit: 1546722.20957\n",
      "New best strategy at iteration  336  :  [ 147.  388.  538. 1090.  268.  256.  315.    0.    0.    0.    0.    0.\n",
      "    0.    0.] Expected Profit: 1546724.1285700002\n",
      "New best strategy at iteration  336  :  [ 147.  388.  539. 1089.  268.  256.  315.    0.    0.    0.    0.    0.\n",
      "    0.    0.] Expected Profit: 1546726.52707\n",
      "New best strategy at iteration  336  :  [ 147.  388.  539. 1090.  267.  256.  315.    0.    0.    0.    0.    0.\n",
      "    0.    0.] Expected Profit: 1546729.34077\n",
      "New best strategy at iteration  336  :  [ 147.  388.  539. 1090.  268.  255.  315.    0.    0.    0.    0.    0.\n",
      "    0.    0.] Expected Profit: 1546732.5770699999\n",
      "New best strategy at iteration  336  :  [ 147.  388.  539. 1090.  268.  256.  314.    0.    0.    0.    0.    0.\n",
      "    0.    0.] Expected Profit: 1546736.23197\n"
     ]
    },
    {
     "name": "stderr",
     "output_type": "stream",
     "text": [
      "\r",
      "  0%|                                                                         | 337/1000000 [01:12<62:22:47,  4.45it/s]"
     ]
    },
    {
     "name": "stdout",
     "output_type": "stream",
     "text": [
      "New best strategy at iteration  337  :  [ 146.  388.  539. 1090.  268.  256.  314.    0.    0.    0.    0.    0.\n",
      "    0.    0.] Expected Profit: 1546739.15627\n",
      "New best strategy at iteration  337  :  [ 147.  387.  539. 1090.  268.  256.  314.    0.    0.    0.    0.    0.\n",
      "    0.    0.] Expected Profit: 1546740.63227\n",
      "New best strategy at iteration  337  :  [ 147.  388.  538. 1090.  268.  256.  314.    0.    0.    0.    0.    0.\n",
      "    0.    0.] Expected Profit: 1546742.55127\n",
      "New best strategy at iteration  337  :  [ 147.  388.  539. 1089.  268.  256.  314.    0.    0.    0.    0.    0.\n",
      "    0.    0.] Expected Profit: 1546744.94977\n",
      "New best strategy at iteration  337  :  [ 147.  388.  539. 1090.  267.  256.  314.    0.    0.    0.    0.    0.\n",
      "    0.    0.] Expected Profit: 1546747.76347\n",
      "New best strategy at iteration  337  :  [ 147.  388.  539. 1090.  268.  255.  314.    0.    0.    0.    0.    0.\n",
      "    0.    0.] Expected Profit: 1546750.9997699996\n",
      "New best strategy at iteration  337  :  [ 147.  388.  539. 1090.  268.  256.  313.    0.    0.    0.    0.    0.\n",
      "    0.    0.] Expected Profit: 1546754.65467\n"
     ]
    },
    {
     "name": "stderr",
     "output_type": "stream",
     "text": [
      "  0%|                                                                         | 339/1000000 [01:13<62:16:53,  4.46it/s]"
     ]
    },
    {
     "name": "stdout",
     "output_type": "stream",
     "text": [
      "New best strategy at iteration  338  :  [ 146.  388.  539. 1090.  268.  256.  313.    0.    0.    0.    0.    0.\n",
      "    0.    0.] Expected Profit: 1546757.5789699997\n",
      "New best strategy at iteration  338  :  [ 147.  387.  539. 1090.  268.  256.  313.    0.    0.    0.    0.    0.\n",
      "    0.    0.] Expected Profit: 1546759.05497\n",
      "New best strategy at iteration  338  :  [ 147.  388.  538. 1090.  268.  256.  313.    0.    0.    0.    0.    0.\n",
      "    0.    0.] Expected Profit: 1546760.9739700002\n",
      "New best strategy at iteration  338  :  [ 147.  388.  539. 1089.  268.  256.  313.    0.    0.    0.    0.    0.\n",
      "    0.    0.] Expected Profit: 1546763.3724699998\n",
      "New best strategy at iteration  338  :  [ 147.  388.  539. 1090.  267.  256.  313.    0.    0.    0.    0.    0.\n",
      "    0.    0.] Expected Profit: 1546766.1861700001\n",
      "New best strategy at iteration  338  :  [ 147.  388.  539. 1090.  268.  255.  313.    0.    0.    0.    0.    0.\n",
      "    0.    0.] Expected Profit: 1546769.42247\n",
      "New best strategy at iteration  338  :  [ 147.  388.  539. 1090.  268.  256.  312.    0.    0.    0.    0.    0.\n",
      "    0.    0.] Expected Profit: 1546773.0773699998\n"
     ]
    },
    {
     "name": "stderr",
     "output_type": "stream",
     "text": [
      "\r",
      "  0%|                                                                         | 340/1000000 [01:13<61:17:03,  4.53it/s]"
     ]
    },
    {
     "name": "stdout",
     "output_type": "stream",
     "text": [
      "New best strategy at iteration  339  :  [ 146.  388.  539. 1090.  268.  256.  312.    0.    0.    0.    0.    0.\n",
      "    0.    0.] Expected Profit: 1546776.0016699997\n",
      "New best strategy at iteration  339  :  [ 147.  387.  539. 1090.  268.  256.  312.    0.    0.    0.    0.    0.\n",
      "    0.    0.] Expected Profit: 1546777.47767\n",
      "New best strategy at iteration  339  :  [ 147.  388.  538. 1090.  268.  256.  312.    0.    0.    0.    0.    0.\n",
      "    0.    0.] Expected Profit: 1546779.39667\n",
      "New best strategy at iteration  339  :  [ 147.  388.  539. 1089.  268.  256.  312.    0.    0.    0.    0.    0.\n",
      "    0.    0.] Expected Profit: 1546781.7951699998\n",
      "New best strategy at iteration  339  :  [ 147.  388.  539. 1090.  267.  256.  312.    0.    0.    0.    0.    0.\n",
      "    0.    0.] Expected Profit: 1546784.6088699999\n",
      "New best strategy at iteration  339  :  [ 147.  388.  539. 1090.  268.  255.  312.    0.    0.    0.    0.    0.\n",
      "    0.    0.] Expected Profit: 1546787.8451699999\n",
      "New best strategy at iteration  339  :  [ 147.  388.  539. 1090.  268.  256.  311.    0.    0.    0.    0.    0.\n",
      "    0.    0.] Expected Profit: 1546791.5000699998\n"
     ]
    },
    {
     "name": "stderr",
     "output_type": "stream",
     "text": [
      "\r",
      "  0%|                                                                         | 341/1000000 [01:13<60:33:43,  4.59it/s]"
     ]
    },
    {
     "name": "stdout",
     "output_type": "stream",
     "text": [
      "New best strategy at iteration  340  :  [ 146.  388.  539. 1090.  268.  256.  311.    0.    0.    0.    0.    0.\n",
      "    0.    0.] Expected Profit: 1546794.42437\n",
      "New best strategy at iteration  340  :  [ 147.  387.  539. 1090.  268.  256.  311.    0.    0.    0.    0.    0.\n",
      "    0.    0.] Expected Profit: 1546795.90037\n",
      "New best strategy at iteration  340  :  [ 147.  388.  538. 1090.  268.  256.  311.    0.    0.    0.    0.    0.\n",
      "    0.    0.] Expected Profit: 1546797.81937\n",
      "New best strategy at iteration  340  :  [ 147.  388.  539. 1089.  268.  256.  311.    0.    0.    0.    0.    0.\n",
      "    0.    0.] Expected Profit: 1546800.2178699998\n",
      "New best strategy at iteration  340  :  [ 147.  388.  539. 1090.  267.  256.  311.    0.    0.    0.    0.    0.\n",
      "    0.    0.] Expected Profit: 1546803.0315699999\n",
      "New best strategy at iteration  340  :  [ 147.  388.  539. 1090.  268.  255.  311.    0.    0.    0.    0.    0.\n",
      "    0.    0.] Expected Profit: 1546806.2678699999\n",
      "New best strategy at iteration  340  :  [ 147.  388.  539. 1090.  268.  256.  310.    0.    0.    0.    0.    0.\n",
      "    0.    0.] Expected Profit: 1546809.92277\n"
     ]
    },
    {
     "name": "stderr",
     "output_type": "stream",
     "text": [
      "\r",
      "  0%|                                                                         | 342/1000000 [01:13<60:04:31,  4.62it/s]"
     ]
    },
    {
     "name": "stdout",
     "output_type": "stream",
     "text": [
      "New best strategy at iteration  341  :  [ 146.  388.  539. 1090.  268.  256.  310.    0.    0.    0.    0.    0.\n",
      "    0.    0.] Expected Profit: 1546812.8470699997\n",
      "New best strategy at iteration  341  :  [ 147.  387.  539. 1090.  268.  256.  310.    0.    0.    0.    0.    0.\n",
      "    0.    0.] Expected Profit: 1546814.32307\n",
      "New best strategy at iteration  341  :  [ 147.  388.  538. 1090.  268.  256.  310.    0.    0.    0.    0.    0.\n",
      "    0.    0.] Expected Profit: 1546816.2420700002\n",
      "New best strategy at iteration  341  :  [ 147.  388.  539. 1089.  268.  256.  310.    0.    0.    0.    0.    0.\n",
      "    0.    0.] Expected Profit: 1546818.6405699996\n",
      "New best strategy at iteration  341  :  [ 147.  388.  539. 1090.  267.  256.  310.    0.    0.    0.    0.    0.\n",
      "    0.    0.] Expected Profit: 1546821.4542699999\n",
      "New best strategy at iteration  341  :  [ 147.  388.  539. 1090.  268.  255.  310.    0.    0.    0.    0.    0.\n",
      "    0.    0.] Expected Profit: 1546824.6905699999\n",
      "New best strategy at iteration  341  :  [ 147.  388.  539. 1090.  268.  256.  309.    0.    0.    0.    0.    0.\n",
      "    0.    0.] Expected Profit: 1546828.3454700003\n",
      "New best strategy at iteration  342  :  [ 146.  388.  539. 1090.  268.  256.  309.    0.    0.    0.    0.    0.\n",
      "    0.    0.] Expected Profit: 1546831.26977\n",
      "New best strategy at iteration  342  :  [ 147.  387.  539. 1090.  268.  256.  309.    0.    0.    0.    0.    0.\n",
      "    0.    0.] Expected Profit: 1546832.74577\n",
      "New best strategy at iteration  342  :  [ 147.  388.  538. 1090.  268.  256.  309.    0.    0.    0.    0.    0.\n",
      "    0.    0.] Expected Profit: 1546834.66477\n",
      "New best strategy at iteration  342  :  [ 147.  388.  539. 1089.  268.  256.  309.    0.    0.    0.    0.    0.\n",
      "    0.    0.] Expected Profit: 1546837.06327\n",
      "New best strategy at iteration  342  :  [ 147.  388.  539. 1090.  267.  256.  309.    0.    0.    0.    0.    0.\n",
      "    0.    0.] Expected Profit: 1546839.8769700003\n",
      "New best strategy at iteration  342  :  [ 147.  388.  539. 1090.  268.  255.  309.    0.    0.    0.    0.    0.\n",
      "    0.    0.] Expected Profit: 1546843.11327\n",
      "New best strategy at iteration  342  :  [ 147.  388.  539. 1090.  268.  256.  308.    0.    0.    0.    0.    0.\n",
      "    0.    0.] Expected Profit: 1546846.76817\n"
     ]
    },
    {
     "name": "stderr",
     "output_type": "stream",
     "text": [
      "  0%|                                                                         | 344/1000000 [01:14<62:16:08,  4.46it/s]"
     ]
    },
    {
     "name": "stdout",
     "output_type": "stream",
     "text": [
      "New best strategy at iteration  343  :  [ 146.  388.  539. 1090.  268.  256.  308.    0.    0.    0.    0.    0.\n",
      "    0.    0.] Expected Profit: 1546849.69247\n",
      "New best strategy at iteration  343  :  [ 147.  387.  539. 1090.  268.  256.  308.    0.    0.    0.    0.    0.\n",
      "    0.    0.] Expected Profit: 1546851.1684699997\n",
      "New best strategy at iteration  343  :  [ 147.  388.  538. 1090.  268.  256.  308.    0.    0.    0.    0.    0.\n",
      "    0.    0.] Expected Profit: 1546853.0874699997\n",
      "New best strategy at iteration  343  :  [ 147.  388.  539. 1089.  268.  256.  308.    0.    0.    0.    0.    0.\n",
      "    0.    0.] Expected Profit: 1546855.4859699998\n",
      "New best strategy at iteration  343  :  [ 147.  388.  539. 1090.  267.  256.  308.    0.    0.    0.    0.    0.\n",
      "    0.    0.] Expected Profit: 1546858.29967\n",
      "New best strategy at iteration  343  :  [ 147.  388.  539. 1090.  268.  255.  308.    0.    0.    0.    0.    0.\n",
      "    0.    0.] Expected Profit: 1546861.5359699999\n",
      "New best strategy at iteration  343  :  [ 147.  388.  539. 1090.  268.  256.  307.    0.    0.    0.    0.    0.\n",
      "    0.    0.] Expected Profit: 1546865.1908699998\n",
      "New best strategy at iteration  344  :  [ 146.  388.  539. 1090.  268.  256.  307.    0.    0.    0.    0.    0.\n",
      "    0.    0.] Expected Profit: 1546868.1151700001\n",
      "New best strategy at iteration  344  :  [ 147.  387.  539. 1090.  268.  256.  307.    0.    0.    0.    0.    0.\n",
      "    0.    0.] Expected Profit: 1546869.5911700001\n",
      "New best strategy at iteration  344  :  [ 147.  388.  538. 1090.  268.  256.  307.    0.    0.    0.    0.    0.\n",
      "    0.    0.] Expected Profit: 1546871.5101700001\n",
      "New best strategy at iteration  344  :  [ 147.  388.  539. 1089.  268.  256.  307.    0.    0.    0.    0.    0.\n",
      "    0.    0.] Expected Profit: 1546873.90867\n",
      "New best strategy at iteration  344  :  [ 147.  388.  539. 1090.  267.  256.  307.    0.    0.    0.    0.    0.\n",
      "    0.    0.] Expected Profit: 1546876.7223699999\n",
      "New best strategy at iteration  344  :  [ 147.  388.  539. 1090.  268.  255.  307.    0.    0.    0.    0.    0.\n",
      "    0.    0.] Expected Profit: 1546879.9586699998\n",
      "New best strategy at iteration  344  :  [ 147.  388.  539. 1090.  268.  256.  306.    0.    0.    0.    0.    0.\n",
      "    0.    0.] Expected Profit: 1546883.6135700003\n"
     ]
    },
    {
     "name": "stderr",
     "output_type": "stream",
     "text": [
      "  0%|                                                                         | 346/1000000 [01:14<62:13:22,  4.46it/s]"
     ]
    },
    {
     "name": "stdout",
     "output_type": "stream",
     "text": [
      "New best strategy at iteration  345  :  [ 146.  388.  539. 1090.  268.  256.  306.    0.    0.    0.    0.    0.\n",
      "    0.    0.] Expected Profit: 1546886.53787\n",
      "New best strategy at iteration  345  :  [ 147.  387.  539. 1090.  268.  256.  306.    0.    0.    0.    0.    0.\n",
      "    0.    0.] Expected Profit: 1546888.01387\n",
      "New best strategy at iteration  345  :  [ 147.  388.  538. 1090.  268.  256.  306.    0.    0.    0.    0.    0.\n",
      "    0.    0.] Expected Profit: 1546889.9328700001\n",
      "New best strategy at iteration  345  :  [ 147.  388.  539. 1089.  268.  256.  306.    0.    0.    0.    0.    0.\n",
      "    0.    0.] Expected Profit: 1546892.3313699998\n",
      "New best strategy at iteration  345  :  [ 147.  388.  539. 1090.  267.  256.  306.    0.    0.    0.    0.    0.\n",
      "    0.    0.] Expected Profit: 1546895.14507\n",
      "New best strategy at iteration  345  :  [ 147.  388.  539. 1090.  268.  255.  306.    0.    0.    0.    0.    0.\n",
      "    0.    0.] Expected Profit: 1546898.3813699998\n",
      "New best strategy at iteration  345  :  [ 147.  388.  539. 1090.  268.  256.  305.    0.    0.    0.    0.    0.\n",
      "    0.    0.] Expected Profit: 1546902.03627\n"
     ]
    },
    {
     "name": "stderr",
     "output_type": "stream",
     "text": [
      "\r",
      "  0%|                                                                         | 347/1000000 [01:14<61:11:37,  4.54it/s]"
     ]
    },
    {
     "name": "stdout",
     "output_type": "stream",
     "text": [
      "New best strategy at iteration  346  :  [ 146.  388.  539. 1090.  268.  256.  305.    0.    0.    0.    0.    0.\n",
      "    0.    0.] Expected Profit: 1546904.9605699999\n",
      "New best strategy at iteration  346  :  [ 147.  387.  539. 1090.  268.  256.  305.    0.    0.    0.    0.    0.\n",
      "    0.    0.] Expected Profit: 1546906.43657\n",
      "New best strategy at iteration  346  :  [ 147.  388.  538. 1090.  268.  256.  305.    0.    0.    0.    0.    0.\n",
      "    0.    0.] Expected Profit: 1546908.3555700001\n",
      "New best strategy at iteration  346  :  [ 147.  388.  539. 1089.  268.  256.  305.    0.    0.    0.    0.    0.\n",
      "    0.    0.] Expected Profit: 1546910.75407\n",
      "New best strategy at iteration  346  :  [ 147.  388.  539. 1090.  267.  256.  305.    0.    0.    0.    0.    0.\n",
      "    0.    0.] Expected Profit: 1546913.56777\n",
      "New best strategy at iteration  346  :  [ 147.  388.  539. 1090.  268.  255.  305.    0.    0.    0.    0.    0.\n",
      "    0.    0.] Expected Profit: 1546916.8040699998\n",
      "New best strategy at iteration  346  :  [ 147.  388.  539. 1090.  268.  256.  304.    0.    0.    0.    0.    0.\n",
      "    0.    0.] Expected Profit: 1546920.4589699998\n"
     ]
    },
    {
     "name": "stderr",
     "output_type": "stream",
     "text": [
      "\r",
      "  0%|                                                                         | 348/1000000 [01:15<60:29:05,  4.59it/s]"
     ]
    },
    {
     "name": "stdout",
     "output_type": "stream",
     "text": [
      "New best strategy at iteration  347  :  [ 146.  388.  539. 1090.  268.  256.  304.    0.    0.    0.    0.    0.\n",
      "    0.    0.] Expected Profit: 1546923.3832699996\n",
      "New best strategy at iteration  347  :  [ 147.  387.  539. 1090.  268.  256.  304.    0.    0.    0.    0.    0.\n",
      "    0.    0.] Expected Profit: 1546924.85927\n",
      "New best strategy at iteration  347  :  [ 147.  388.  538. 1090.  268.  256.  304.    0.    0.    0.    0.    0.\n",
      "    0.    0.] Expected Profit: 1546926.77827\n",
      "New best strategy at iteration  347  :  [ 147.  388.  539. 1089.  268.  256.  304.    0.    0.    0.    0.    0.\n",
      "    0.    0.] Expected Profit: 1546929.17677\n",
      "New best strategy at iteration  347  :  [ 147.  388.  539. 1090.  267.  256.  304.    0.    0.    0.    0.    0.\n",
      "    0.    0.] Expected Profit: 1546931.9904699998\n",
      "New best strategy at iteration  347  :  [ 147.  388.  539. 1090.  268.  255.  304.    0.    0.    0.    0.    0.\n",
      "    0.    0.] Expected Profit: 1546935.22677\n",
      "New best strategy at iteration  347  :  [ 147.  388.  539. 1090.  268.  256.  303.    0.    0.    0.    0.    0.\n",
      "    0.    0.] Expected Profit: 1546938.8816699998\n"
     ]
    },
    {
     "name": "stderr",
     "output_type": "stream",
     "text": [
      "\r",
      "  0%|                                                                         | 349/1000000 [01:15<59:51:08,  4.64it/s]"
     ]
    },
    {
     "name": "stdout",
     "output_type": "stream",
     "text": [
      "New best strategy at iteration  348  :  [ 146.  388.  539. 1090.  268.  256.  303.    0.    0.    0.    0.    0.\n",
      "    0.    0.] Expected Profit: 1546941.8059699999\n",
      "New best strategy at iteration  348  :  [ 147.  387.  539. 1090.  268.  256.  303.    0.    0.    0.    0.    0.\n",
      "    0.    0.] Expected Profit: 1546943.28197\n",
      "New best strategy at iteration  348  :  [ 147.  388.  538. 1090.  268.  256.  303.    0.    0.    0.    0.    0.\n",
      "    0.    0.] Expected Profit: 1546945.20097\n",
      "New best strategy at iteration  348  :  [ 147.  388.  539. 1089.  268.  256.  303.    0.    0.    0.    0.    0.\n",
      "    0.    0.] Expected Profit: 1546947.5994699998\n",
      "New best strategy at iteration  348  :  [ 147.  388.  539. 1090.  267.  256.  303.    0.    0.    0.    0.    0.\n",
      "    0.    0.] Expected Profit: 1546950.41317\n",
      "New best strategy at iteration  348  :  [ 147.  388.  539. 1090.  268.  255.  303.    0.    0.    0.    0.    0.\n",
      "    0.    0.] Expected Profit: 1546953.64947\n",
      "New best strategy at iteration  348  :  [ 147.  388.  539. 1090.  268.  256.  302.    0.    0.    0.    0.    0.\n",
      "    0.    0.] Expected Profit: 1546957.3043699998\n"
     ]
    },
    {
     "name": "stderr",
     "output_type": "stream",
     "text": [
      "\r",
      "  0%|                                                                         | 350/1000000 [01:15<59:26:59,  4.67it/s]"
     ]
    },
    {
     "name": "stdout",
     "output_type": "stream",
     "text": [
      "New best strategy at iteration  349  :  [ 146.  388.  539. 1090.  268.  256.  302.    0.    0.    0.    0.    0.\n",
      "    0.    0.] Expected Profit: 1546960.2286699996\n",
      "New best strategy at iteration  349  :  [ 147.  387.  539. 1090.  268.  256.  302.    0.    0.    0.    0.    0.\n",
      "    0.    0.] Expected Profit: 1546961.7046700001\n",
      "New best strategy at iteration  349  :  [ 147.  388.  538. 1090.  268.  256.  302.    0.    0.    0.    0.    0.\n",
      "    0.    0.] Expected Profit: 1546963.6236700001\n",
      "New best strategy at iteration  349  :  [ 147.  388.  539. 1089.  268.  256.  302.    0.    0.    0.    0.    0.\n",
      "    0.    0.] Expected Profit: 1546966.02217\n",
      "New best strategy at iteration  349  :  [ 147.  388.  539. 1090.  267.  256.  302.    0.    0.    0.    0.    0.\n",
      "    0.    0.] Expected Profit: 1546968.8358699998\n",
      "New best strategy at iteration  349  :  [ 147.  388.  539. 1090.  268.  255.  302.    0.    0.    0.    0.    0.\n",
      "    0.    0.] Expected Profit: 1546972.07217\n",
      "New best strategy at iteration  349  :  [ 147.  388.  539. 1090.  268.  256.  301.    0.    0.    0.    0.    0.\n",
      "    0.    0.] Expected Profit: 1546975.7270700003\n"
     ]
    },
    {
     "name": "stderr",
     "output_type": "stream",
     "text": [
      "\r",
      "  0%|                                                                         | 351/1000000 [01:15<59:16:50,  4.68it/s]"
     ]
    },
    {
     "name": "stdout",
     "output_type": "stream",
     "text": [
      "New best strategy at iteration  350  :  [ 146.  388.  539. 1090.  268.  256.  301.    0.    0.    0.    0.    0.\n",
      "    0.    0.] Expected Profit: 1546978.6513699999\n",
      "New best strategy at iteration  350  :  [ 147.  387.  539. 1090.  268.  256.  301.    0.    0.    0.    0.    0.\n",
      "    0.    0.] Expected Profit: 1546980.12737\n",
      "New best strategy at iteration  350  :  [ 147.  388.  538. 1090.  268.  256.  301.    0.    0.    0.    0.    0.\n",
      "    0.    0.] Expected Profit: 1546982.0463699999\n",
      "New best strategy at iteration  350  :  [ 147.  388.  539. 1089.  268.  256.  301.    0.    0.    0.    0.    0.\n",
      "    0.    0.] Expected Profit: 1546984.4448699998\n",
      "New best strategy at iteration  350  :  [ 147.  388.  539. 1090.  267.  256.  301.    0.    0.    0.    0.    0.\n",
      "    0.    0.] Expected Profit: 1546987.25857\n",
      "New best strategy at iteration  350  :  [ 147.  388.  539. 1090.  268.  255.  301.    0.    0.    0.    0.    0.\n",
      "    0.    0.] Expected Profit: 1546990.4948699998\n",
      "New best strategy at iteration  350  :  [ 147.  388.  539. 1090.  268.  256.  300.    0.    0.    0.    0.    0.\n",
      "    0.    0.] Expected Profit: 1546994.14977\n"
     ]
    },
    {
     "name": "stderr",
     "output_type": "stream",
     "text": [
      "\r",
      "  0%|                                                                         | 352/1000000 [01:15<59:34:55,  4.66it/s]"
     ]
    },
    {
     "name": "stdout",
     "output_type": "stream",
     "text": [
      "New best strategy at iteration  351  :  [ 146.  388.  539. 1090.  268.  256.  300.    0.    0.    0.    0.    0.\n",
      "    0.    0.] Expected Profit: 1546997.0740699996\n",
      "New best strategy at iteration  351  :  [ 147.  387.  539. 1090.  268.  256.  300.    0.    0.    0.    0.    0.\n",
      "    0.    0.] Expected Profit: 1546998.5500699999\n",
      "New best strategy at iteration  351  :  [ 147.  388.  538. 1090.  268.  256.  300.    0.    0.    0.    0.    0.\n",
      "    0.    0.] Expected Profit: 1547000.4690699999\n",
      "New best strategy at iteration  351  :  [ 147.  388.  539. 1089.  268.  256.  300.    0.    0.    0.    0.    0.\n",
      "    0.    0.] Expected Profit: 1547002.8675699998\n",
      "New best strategy at iteration  351  :  [ 147.  388.  539. 1090.  267.  256.  300.    0.    0.    0.    0.    0.\n",
      "    0.    0.] Expected Profit: 1547005.68127\n",
      "New best strategy at iteration  351  :  [ 147.  388.  539. 1090.  268.  255.  300.    0.    0.    0.    0.    0.\n",
      "    0.    0.] Expected Profit: 1547008.9175699996\n",
      "New best strategy at iteration  351  :  [ 147.  388.  539. 1090.  268.  256.  299.    0.    0.    0.    0.    0.\n",
      "    0.    0.] Expected Profit: 1547012.57247\n",
      "New best strategy at iteration  352  :  [ 146.  388.  539. 1090.  268.  256.  299.    0.    0.    0.    0.    0.\n",
      "    0.    0.] Expected Profit: 1547015.4967699999\n",
      "New best strategy at iteration  352  :  [ 147.  387.  539. 1090.  268.  256.  299.    0.    0.    0.    0.    0.\n",
      "    0.    0.] Expected Profit: 1547016.9727699999\n",
      "New best strategy at iteration  352  :  [ 147.  388.  538. 1090.  268.  256.  299.    0.    0.    0.    0.    0.\n",
      "    0.    0.] Expected Profit: 1547018.8917699999\n",
      "New best strategy at iteration  352  :  [ 147.  388.  539. 1089.  268.  256.  299.    0.    0.    0.    0.    0.\n",
      "    0.    0.] Expected Profit: 1547021.29027\n",
      "New best strategy at iteration  352  :  [ 147.  388.  539. 1090.  267.  256.  299.    0.    0.    0.    0.    0.\n",
      "    0.    0.] Expected Profit: 1547024.1039699998\n",
      "New best strategy at iteration  352  :  [ 147.  388.  539. 1090.  268.  255.  299.    0.    0.    0.    0.    0.\n",
      "    0.    0.] Expected Profit: 1547027.34027\n",
      "New best strategy at iteration  352  :  [ 147.  388.  539. 1090.  268.  256.  298.    0.    0.    0.    0.    0.\n",
      "    0.    0.] Expected Profit: 1547030.9951699998\n"
     ]
    },
    {
     "name": "stderr",
     "output_type": "stream",
     "text": [
      "  0%|                                                                         | 354/1000000 [01:16<59:28:31,  4.67it/s]"
     ]
    },
    {
     "name": "stdout",
     "output_type": "stream",
     "text": [
      "New best strategy at iteration  353  :  [ 146.  388.  539. 1090.  268.  256.  298.    0.    0.    0.    0.    0.\n",
      "    0.    0.] Expected Profit: 1547033.9194699998\n",
      "New best strategy at iteration  353  :  [ 147.  387.  539. 1090.  268.  256.  298.    0.    0.    0.    0.    0.\n",
      "    0.    0.] Expected Profit: 1547035.3954699999\n",
      "New best strategy at iteration  353  :  [ 147.  388.  538. 1090.  268.  256.  298.    0.    0.    0.    0.    0.\n",
      "    0.    0.] Expected Profit: 1547037.3144699999\n",
      "New best strategy at iteration  353  :  [ 147.  388.  539. 1089.  268.  256.  298.    0.    0.    0.    0.    0.\n",
      "    0.    0.] Expected Profit: 1547039.7129699998\n",
      "New best strategy at iteration  353  :  [ 147.  388.  539. 1090.  267.  256.  298.    0.    0.    0.    0.    0.\n",
      "    0.    0.] Expected Profit: 1547042.52667\n",
      "New best strategy at iteration  353  :  [ 147.  388.  539. 1090.  268.  255.  298.    0.    0.    0.    0.    0.\n",
      "    0.    0.] Expected Profit: 1547045.76297\n",
      "New best strategy at iteration  353  :  [ 147.  388.  539. 1090.  268.  256.  297.    0.    0.    0.    0.    0.\n",
      "    0.    0.] Expected Profit: 1547049.4178700002\n"
     ]
    },
    {
     "name": "stderr",
     "output_type": "stream",
     "text": [
      "\r",
      "  0%|                                                                         | 355/1000000 [01:16<59:12:26,  4.69it/s]"
     ]
    },
    {
     "name": "stdout",
     "output_type": "stream",
     "text": [
      "New best strategy at iteration  354  :  [ 146.  388.  539. 1090.  268.  256.  297.    0.    0.    0.    0.    0.\n",
      "    0.    0.] Expected Profit: 1547052.3421699998\n",
      "New best strategy at iteration  354  :  [ 147.  387.  539. 1090.  268.  256.  297.    0.    0.    0.    0.    0.\n",
      "    0.    0.] Expected Profit: 1547053.81817\n",
      "New best strategy at iteration  354  :  [ 147.  388.  538. 1090.  268.  256.  297.    0.    0.    0.    0.    0.\n",
      "    0.    0.] Expected Profit: 1547055.73717\n",
      "New best strategy at iteration  354  :  [ 147.  388.  539. 1089.  268.  256.  297.    0.    0.    0.    0.    0.\n",
      "    0.    0.] Expected Profit: 1547058.13567\n",
      "New best strategy at iteration  354  :  [ 147.  388.  539. 1090.  267.  256.  297.    0.    0.    0.    0.    0.\n",
      "    0.    0.] Expected Profit: 1547060.9493699998\n",
      "New best strategy at iteration  354  :  [ 147.  388.  539. 1090.  268.  255.  297.    0.    0.    0.    0.    0.\n",
      "    0.    0.] Expected Profit: 1547064.18567\n",
      "New best strategy at iteration  354  :  [ 147.  388.  539. 1090.  268.  256.  296.    0.    0.    0.    0.    0.\n",
      "    0.    0.] Expected Profit: 1547067.84057\n"
     ]
    },
    {
     "name": "stderr",
     "output_type": "stream",
     "text": [
      "\r",
      "  0%|                                                                         | 356/1000000 [01:16<59:15:40,  4.69it/s]"
     ]
    },
    {
     "name": "stdout",
     "output_type": "stream",
     "text": [
      "New best strategy at iteration  355  :  [ 146.  388.  539. 1090.  268.  256.  296.    0.    0.    0.    0.    0.\n",
      "    0.    0.] Expected Profit: 1547070.7648699998\n",
      "New best strategy at iteration  355  :  [ 147.  387.  539. 1090.  268.  256.  296.    0.    0.    0.    0.    0.\n",
      "    0.    0.] Expected Profit: 1547072.2408699999\n",
      "New best strategy at iteration  355  :  [ 147.  388.  538. 1090.  268.  256.  296.    0.    0.    0.    0.    0.\n",
      "    0.    0.] Expected Profit: 1547074.15987\n",
      "New best strategy at iteration  355  :  [ 147.  388.  539. 1089.  268.  256.  296.    0.    0.    0.    0.    0.\n",
      "    0.    0.] Expected Profit: 1547076.55837\n",
      "New best strategy at iteration  355  :  [ 147.  388.  539. 1090.  267.  256.  296.    0.    0.    0.    0.    0.\n",
      "    0.    0.] Expected Profit: 1547079.37207\n",
      "New best strategy at iteration  355  :  [ 147.  388.  539. 1090.  268.  255.  296.    0.    0.    0.    0.    0.\n",
      "    0.    0.] Expected Profit: 1547082.6083699998\n",
      "New best strategy at iteration  355  :  [ 147.  388.  539. 1090.  268.  256.  295.    0.    0.    0.    0.    0.\n",
      "    0.    0.] Expected Profit: 1547086.26327\n",
      "New best strategy at iteration  356  :  [ 146.  388.  539. 1090.  268.  256.  295.    0.    0.    0.    0.    0.\n",
      "    0.    0.] Expected Profit: 1547089.1875699996\n",
      "New best strategy at iteration  356  :  [ 147.  387.  539. 1090.  268.  256.  295.    0.    0.    0.    0.    0.\n",
      "    0.    0.] Expected Profit: 1547090.6635699999\n",
      "New best strategy at iteration  356  :  [ 147.  388.  538. 1090.  268.  256.  295.    0.    0.    0.    0.    0.\n",
      "    0.    0.] Expected Profit: 1547092.58257\n",
      "New best strategy at iteration  356  :  [ 147.  388.  539. 1089.  268.  256.  295.    0.    0.    0.    0.    0.\n",
      "    0.    0.] Expected Profit: 1547094.9810699997\n",
      "New best strategy at iteration  356  :  [ 147.  388.  539. 1090.  267.  256.  295.    0.    0.    0.    0.    0.\n",
      "    0.    0.] Expected Profit: 1547097.79477\n",
      "New best strategy at iteration  356  :  [ 147.  388.  539. 1090.  268.  255.  295.    0.    0.    0.    0.    0.\n",
      "    0.    0.] Expected Profit: 1547101.03107\n",
      "New best strategy at iteration  356  :  [ 147.  388.  539. 1090.  268.  256.  294.    0.    0.    0.    0.    0.\n",
      "    0.    0.] Expected Profit: 1547104.6859699998\n"
     ]
    },
    {
     "name": "stderr",
     "output_type": "stream",
     "text": [
      "  0%|                                                                         | 358/1000000 [01:17<60:15:20,  4.61it/s]"
     ]
    },
    {
     "name": "stdout",
     "output_type": "stream",
     "text": [
      "New best strategy at iteration  357  :  [ 146.  388.  539. 1090.  268.  256.  294.    0.    0.    0.    0.    0.\n",
      "    0.    0.] Expected Profit: 1547107.6102699998\n",
      "New best strategy at iteration  357  :  [ 147.  387.  539. 1090.  268.  256.  294.    0.    0.    0.    0.    0.\n",
      "    0.    0.] Expected Profit: 1547109.08627\n",
      "New best strategy at iteration  357  :  [ 147.  388.  538. 1090.  268.  256.  294.    0.    0.    0.    0.    0.\n",
      "    0.    0.] Expected Profit: 1547111.00527\n",
      "New best strategy at iteration  357  :  [ 147.  388.  539. 1089.  268.  256.  294.    0.    0.    0.    0.    0.\n",
      "    0.    0.] Expected Profit: 1547113.40377\n",
      "New best strategy at iteration  357  :  [ 147.  388.  539. 1090.  267.  256.  294.    0.    0.    0.    0.    0.\n",
      "    0.    0.] Expected Profit: 1547116.2174699998\n",
      "New best strategy at iteration  357  :  [ 147.  388.  539. 1090.  268.  255.  294.    0.    0.    0.    0.    0.\n",
      "    0.    0.] Expected Profit: 1547119.45377\n",
      "New best strategy at iteration  357  :  [ 147.  388.  539. 1090.  268.  256.  293.    0.    0.    0.    0.    0.\n",
      "    0.    0.] Expected Profit: 1547123.1086699998\n",
      "New best strategy at iteration  358  :  [ 146.  388.  539. 1090.  268.  256.  293.    0.    0.    0.    0.    0.\n",
      "    0.    0.] Expected Profit: 1547126.03297\n",
      "New best strategy at iteration  358  :  [ 147.  387.  539. 1090.  268.  256.  293.    0.    0.    0.    0.    0.\n",
      "    0.    0.] Expected Profit: 1547127.50897\n",
      "New best strategy at iteration  358  :  [ 147.  388.  538. 1090.  268.  256.  293.    0.    0.    0.    0.    0.\n",
      "    0.    0.] Expected Profit: 1547129.42797\n",
      "New best strategy at iteration  358  :  [ 147.  388.  539. 1089.  268.  256.  293.    0.    0.    0.    0.    0.\n",
      "    0.    0.] Expected Profit: 1547131.8264699997\n",
      "New best strategy at iteration  358  :  [ 147.  388.  539. 1090.  267.  256.  293.    0.    0.    0.    0.    0.\n",
      "    0.    0.] Expected Profit: 1547134.64017\n",
      "New best strategy at iteration  358  :  [ 147.  388.  539. 1090.  268.  255.  293.    0.    0.    0.    0.    0.\n",
      "    0.    0.] Expected Profit: 1547137.8764700003\n",
      "New best strategy at iteration  358  :  [ 147.  388.  539. 1090.  268.  256.  292.    0.    0.    0.    0.    0.\n",
      "    0.    0.] Expected Profit: 1547141.53137\n"
     ]
    },
    {
     "name": "stderr",
     "output_type": "stream",
     "text": [
      "\r",
      "  0%|                                                                         | 359/1000000 [01:17<59:52:30,  4.64it/s]"
     ]
    },
    {
     "name": "stdout",
     "output_type": "stream",
     "text": [
      "New best strategy at iteration  359  :  [ 146.  388.  539. 1090.  268.  256.  292.    0.    0.    0.    0.    0.\n",
      "    0.    0.] Expected Profit: 1547144.4556699998\n",
      "New best strategy at iteration  359  :  [ 147.  387.  539. 1090.  268.  256.  292.    0.    0.    0.    0.    0.\n",
      "    0.    0.] Expected Profit: 1547145.93167\n",
      "New best strategy at iteration  359  :  [ 147.  388.  538. 1090.  268.  256.  292.    0.    0.    0.    0.    0.\n",
      "    0.    0.] Expected Profit: 1547147.85067\n",
      "New best strategy at iteration  359  :  [ 147.  388.  539. 1089.  268.  256.  292.    0.    0.    0.    0.    0.\n",
      "    0.    0.] Expected Profit: 1547150.2491699995\n",
      "New best strategy at iteration  359  :  [ 147.  388.  539. 1090.  267.  256.  292.    0.    0.    0.    0.    0.\n",
      "    0.    0.] Expected Profit: 1547153.0628699998\n",
      "New best strategy at iteration  359  :  [ 147.  388.  539. 1090.  268.  255.  292.    0.    0.    0.    0.    0.\n",
      "    0.    0.] Expected Profit: 1547156.2991699998\n",
      "New best strategy at iteration  359  :  [ 147.  388.  539. 1090.  268.  256.  291.    0.    0.    0.    0.    0.\n",
      "    0.    0.] Expected Profit: 1547159.95407\n"
     ]
    },
    {
     "name": "stderr",
     "output_type": "stream",
     "text": [
      "  0%|                                                                         | 361/1000000 [01:17<59:21:50,  4.68it/s]"
     ]
    },
    {
     "name": "stdout",
     "output_type": "stream",
     "text": [
      "New best strategy at iteration  360  :  [ 146.  388.  539. 1090.  268.  256.  291.    0.    0.    0.    0.    0.\n",
      "    0.    0.] Expected Profit: 1547162.8783699998\n",
      "New best strategy at iteration  360  :  [ 147.  387.  539. 1090.  268.  256.  291.    0.    0.    0.    0.    0.\n",
      "    0.    0.] Expected Profit: 1547164.3543699998\n",
      "New best strategy at iteration  360  :  [ 147.  388.  538. 1090.  268.  256.  291.    0.    0.    0.    0.    0.\n",
      "    0.    0.] Expected Profit: 1547166.27337\n",
      "New best strategy at iteration  360  :  [ 147.  388.  539. 1089.  268.  256.  291.    0.    0.    0.    0.    0.\n",
      "    0.    0.] Expected Profit: 1547168.67187\n",
      "New best strategy at iteration  360  :  [ 147.  388.  539. 1090.  267.  256.  291.    0.    0.    0.    0.    0.\n",
      "    0.    0.] Expected Profit: 1547171.4855699998\n",
      "New best strategy at iteration  360  :  [ 147.  388.  539. 1090.  268.  255.  291.    0.    0.    0.    0.    0.\n",
      "    0.    0.] Expected Profit: 1547174.7218699998\n",
      "New best strategy at iteration  360  :  [ 147.  388.  539. 1090.  268.  256.  290.    0.    0.    0.    0.    0.\n",
      "    0.    0.] Expected Profit: 1547178.37677\n"
     ]
    },
    {
     "name": "stderr",
     "output_type": "stream",
     "text": [
      "\r",
      "  0%|                                                                         | 362/1000000 [01:18<59:15:47,  4.69it/s]"
     ]
    },
    {
     "name": "stdout",
     "output_type": "stream",
     "text": [
      "New best strategy at iteration  361  :  [ 146.  388.  539. 1090.  268.  256.  290.    0.    0.    0.    0.    0.\n",
      "    0.    0.] Expected Profit: 1547181.3010699996\n",
      "New best strategy at iteration  361  :  [ 147.  387.  539. 1090.  268.  256.  290.    0.    0.    0.    0.    0.\n",
      "    0.    0.] Expected Profit: 1547182.7770699998\n",
      "New best strategy at iteration  361  :  [ 147.  388.  538. 1090.  268.  256.  290.    0.    0.    0.    0.    0.\n",
      "    0.    0.] Expected Profit: 1547184.69607\n",
      "New best strategy at iteration  361  :  [ 147.  388.  539. 1089.  268.  256.  290.    0.    0.    0.    0.    0.\n",
      "    0.    0.] Expected Profit: 1547187.09457\n",
      "New best strategy at iteration  361  :  [ 147.  388.  539. 1090.  267.  256.  290.    0.    0.    0.    0.    0.\n",
      "    0.    0.] Expected Profit: 1547189.90827\n",
      "New best strategy at iteration  361  :  [ 147.  388.  539. 1090.  268.  255.  290.    0.    0.    0.    0.    0.\n",
      "    0.    0.] Expected Profit: 1547193.14457\n",
      "New best strategy at iteration  361  :  [ 147.  388.  539. 1090.  268.  256.  289.    0.    0.    0.    0.    0.\n",
      "    0.    0.] Expected Profit: 1547196.79947\n"
     ]
    },
    {
     "name": "stderr",
     "output_type": "stream",
     "text": [
      "\r",
      "  0%|                                                                         | 363/1000000 [01:18<59:28:53,  4.67it/s]"
     ]
    },
    {
     "name": "stdout",
     "output_type": "stream",
     "text": [
      "New best strategy at iteration  362  :  [ 146.  388.  539. 1090.  268.  256.  289.    0.    0.    0.    0.    0.\n",
      "    0.    0.] Expected Profit: 1547199.72377\n",
      "New best strategy at iteration  362  :  [ 147.  387.  539. 1090.  268.  256.  289.    0.    0.    0.    0.    0.\n",
      "    0.    0.] Expected Profit: 1547201.19977\n",
      "New best strategy at iteration  362  :  [ 147.  388.  538. 1090.  268.  256.  289.    0.    0.    0.    0.    0.\n",
      "    0.    0.] Expected Profit: 1547203.11877\n",
      "New best strategy at iteration  362  :  [ 147.  388.  539. 1089.  268.  256.  289.    0.    0.    0.    0.    0.\n",
      "    0.    0.] Expected Profit: 1547205.51727\n",
      "New best strategy at iteration  362  :  [ 147.  388.  539. 1090.  267.  256.  289.    0.    0.    0.    0.    0.\n",
      "    0.    0.] Expected Profit: 1547208.33097\n",
      "New best strategy at iteration  362  :  [ 147.  388.  539. 1090.  268.  255.  289.    0.    0.    0.    0.    0.\n",
      "    0.    0.] Expected Profit: 1547211.56727\n",
      "New best strategy at iteration  362  :  [ 147.  388.  539. 1090.  268.  256.  288.    0.    0.    0.    0.    0.\n",
      "    0.    0.] Expected Profit: 1547215.2221699997\n"
     ]
    },
    {
     "name": "stderr",
     "output_type": "stream",
     "text": [
      "\r",
      "  0%|                                                                         | 364/1000000 [01:18<59:01:25,  4.70it/s]"
     ]
    },
    {
     "name": "stdout",
     "output_type": "stream",
     "text": [
      "New best strategy at iteration  363  :  [ 146.  388.  539. 1090.  268.  256.  288.    0.    0.    0.    0.    0.\n",
      "    0.    0.] Expected Profit: 1547218.1464699998\n",
      "New best strategy at iteration  363  :  [ 147.  387.  539. 1090.  268.  256.  288.    0.    0.    0.    0.    0.\n",
      "    0.    0.] Expected Profit: 1547219.6224699998\n",
      "New best strategy at iteration  363  :  [ 147.  388.  538. 1090.  268.  256.  288.    0.    0.    0.    0.    0.\n",
      "    0.    0.] Expected Profit: 1547221.54147\n",
      "New best strategy at iteration  363  :  [ 147.  388.  539. 1089.  268.  256.  288.    0.    0.    0.    0.    0.\n",
      "    0.    0.] Expected Profit: 1547223.9399699997\n",
      "New best strategy at iteration  363  :  [ 147.  388.  539. 1090.  267.  256.  288.    0.    0.    0.    0.    0.\n",
      "    0.    0.] Expected Profit: 1547226.7536699998\n",
      "New best strategy at iteration  363  :  [ 147.  388.  539. 1090.  268.  255.  288.    0.    0.    0.    0.    0.\n",
      "    0.    0.] Expected Profit: 1547229.9899699998\n",
      "New best strategy at iteration  363  :  [ 147.  388.  539. 1090.  268.  256.  287.    0.    0.    0.    0.    0.\n",
      "    0.    0.] Expected Profit: 1547233.64487\n",
      "New best strategy at iteration  364  :  [ 146.  388.  539. 1090.  268.  256.  287.    0.    0.    0.    0.    0.\n",
      "    0.    0.] Expected Profit: 1547236.56917\n"
     ]
    },
    {
     "name": "stderr",
     "output_type": "stream",
     "text": [
      "\r",
      "  0%|                                                                         | 365/1000000 [01:18<58:58:20,  4.71it/s]"
     ]
    },
    {
     "name": "stdout",
     "output_type": "stream",
     "text": [
      "New best strategy at iteration  364  :  [ 147.  387.  539. 1090.  268.  256.  287.    0.    0.    0.    0.    0.\n",
      "    0.    0.] Expected Profit: 1547238.0451699998\n",
      "New best strategy at iteration  364  :  [ 147.  388.  538. 1090.  268.  256.  287.    0.    0.    0.    0.    0.\n",
      "    0.    0.] Expected Profit: 1547239.96417\n",
      "New best strategy at iteration  364  :  [ 147.  388.  539. 1089.  268.  256.  287.    0.    0.    0.    0.    0.\n",
      "    0.    0.] Expected Profit: 1547242.36267\n",
      "New best strategy at iteration  364  :  [ 147.  388.  539. 1090.  267.  256.  287.    0.    0.    0.    0.    0.\n",
      "    0.    0.] Expected Profit: 1547245.17637\n",
      "New best strategy at iteration  364  :  [ 147.  388.  539. 1090.  268.  255.  287.    0.    0.    0.    0.    0.\n",
      "    0.    0.] Expected Profit: 1547248.41267\n",
      "New best strategy at iteration  364  :  [ 147.  388.  539. 1090.  268.  256.  286.    0.    0.    0.    0.    0.\n",
      "    0.    0.] Expected Profit: 1547252.06757\n"
     ]
    },
    {
     "name": "stderr",
     "output_type": "stream",
     "text": [
      "\r",
      "  0%|                                                                         | 366/1000000 [01:18<58:50:47,  4.72it/s]"
     ]
    },
    {
     "name": "stdout",
     "output_type": "stream",
     "text": [
      "New best strategy at iteration  365  :  [ 146.  388.  539. 1090.  268.  256.  286.    0.    0.    0.    0.    0.\n",
      "    0.    0.] Expected Profit: 1547254.9918699998\n",
      "New best strategy at iteration  365  :  [ 147.  387.  539. 1090.  268.  256.  286.    0.    0.    0.    0.    0.\n",
      "    0.    0.] Expected Profit: 1547256.4678699998\n",
      "New best strategy at iteration  365  :  [ 147.  388.  538. 1090.  268.  256.  286.    0.    0.    0.    0.    0.\n",
      "    0.    0.] Expected Profit: 1547258.3868699998\n",
      "New best strategy at iteration  365  :  [ 147.  388.  539. 1089.  268.  256.  286.    0.    0.    0.    0.    0.\n",
      "    0.    0.] Expected Profit: 1547260.78537\n",
      "New best strategy at iteration  365  :  [ 147.  388.  539. 1090.  267.  256.  286.    0.    0.    0.    0.    0.\n",
      "    0.    0.] Expected Profit: 1547263.59907\n",
      "New best strategy at iteration  365  :  [ 147.  388.  539. 1090.  268.  255.  286.    0.    0.    0.    0.    0.\n",
      "    0.    0.] Expected Profit: 1547266.83537\n",
      "New best strategy at iteration  365  :  [ 147.  388.  539. 1090.  268.  256.  285.    0.    0.    0.    0.    0.\n",
      "    0.    0.] Expected Profit: 1547270.49027\n"
     ]
    },
    {
     "name": "stderr",
     "output_type": "stream",
     "text": [
      "\r",
      "  0%|                                                                         | 367/1000000 [01:19<58:58:21,  4.71it/s]"
     ]
    },
    {
     "name": "stdout",
     "output_type": "stream",
     "text": [
      "New best strategy at iteration  366  :  [ 146.  388.  539. 1090.  268.  256.  285.    0.    0.    0.    0.    0.\n",
      "    0.    0.] Expected Profit: 1547273.41457\n",
      "New best strategy at iteration  366  :  [ 147.  387.  539. 1090.  268.  256.  285.    0.    0.    0.    0.    0.\n",
      "    0.    0.] Expected Profit: 1547274.8905700003\n",
      "New best strategy at iteration  366  :  [ 147.  388.  538. 1090.  268.  256.  285.    0.    0.    0.    0.    0.\n",
      "    0.    0.] Expected Profit: 1547276.80957\n",
      "New best strategy at iteration  366  :  [ 147.  388.  539. 1089.  268.  256.  285.    0.    0.    0.    0.    0.\n",
      "    0.    0.] Expected Profit: 1547279.20807\n",
      "New best strategy at iteration  366  :  [ 147.  388.  539. 1090.  267.  256.  285.    0.    0.    0.    0.    0.\n",
      "    0.    0.] Expected Profit: 1547282.02177\n",
      "New best strategy at iteration  366  :  [ 147.  388.  539. 1090.  268.  255.  285.    0.    0.    0.    0.    0.\n",
      "    0.    0.] Expected Profit: 1547285.2580700002\n",
      "New best strategy at iteration  366  :  [ 147.  388.  539. 1090.  268.  256.  284.    0.    0.    0.    0.    0.\n",
      "    0.    0.] Expected Profit: 1547288.9129699997\n",
      "New best strategy at iteration  367  :  [ 146.  388.  539. 1090.  268.  256.  284.    0.    0.    0.    0.    0.\n",
      "    0.    0.] Expected Profit: 1547291.8372699998\n"
     ]
    },
    {
     "name": "stderr",
     "output_type": "stream",
     "text": [
      "\r",
      "  0%|                                                                         | 368/1000000 [01:19<59:14:57,  4.69it/s]"
     ]
    },
    {
     "name": "stdout",
     "output_type": "stream",
     "text": [
      "New best strategy at iteration  367  :  [ 147.  387.  539. 1090.  268.  256.  284.    0.    0.    0.    0.    0.\n",
      "    0.    0.] Expected Profit: 1547293.31327\n",
      "New best strategy at iteration  367  :  [ 147.  388.  538. 1090.  268.  256.  284.    0.    0.    0.    0.    0.\n",
      "    0.    0.] Expected Profit: 1547295.23227\n",
      "New best strategy at iteration  367  :  [ 147.  388.  539. 1089.  268.  256.  284.    0.    0.    0.    0.    0.\n",
      "    0.    0.] Expected Profit: 1547297.6307699995\n",
      "New best strategy at iteration  367  :  [ 147.  388.  539. 1090.  267.  256.  284.    0.    0.    0.    0.    0.\n",
      "    0.    0.] Expected Profit: 1547300.4444699998\n",
      "New best strategy at iteration  367  :  [ 147.  388.  539. 1090.  268.  255.  284.    0.    0.    0.    0.    0.\n",
      "    0.    0.] Expected Profit: 1547303.6807699997\n",
      "New best strategy at iteration  367  :  [ 147.  388.  539. 1090.  268.  256.  283.    0.    0.    0.    0.    0.\n",
      "    0.    0.] Expected Profit: 1547307.33567\n"
     ]
    },
    {
     "name": "stderr",
     "output_type": "stream",
     "text": [
      "\r",
      "  0%|                                                                         | 369/1000000 [01:19<59:17:43,  4.68it/s]"
     ]
    },
    {
     "name": "stdout",
     "output_type": "stream",
     "text": [
      "New best strategy at iteration  368  :  [ 146.  388.  539. 1090.  268.  256.  283.    0.    0.    0.    0.    0.\n",
      "    0.    0.] Expected Profit: 1547310.2599699998\n",
      "New best strategy at iteration  368  :  [ 147.  387.  539. 1090.  268.  256.  283.    0.    0.    0.    0.    0.\n",
      "    0.    0.] Expected Profit: 1547311.7359699998\n",
      "New best strategy at iteration  368  :  [ 147.  388.  538. 1090.  268.  256.  283.    0.    0.    0.    0.    0.\n",
      "    0.    0.] Expected Profit: 1547313.65497\n",
      "New best strategy at iteration  368  :  [ 147.  388.  539. 1089.  268.  256.  283.    0.    0.    0.    0.    0.\n",
      "    0.    0.] Expected Profit: 1547316.0534699997\n",
      "New best strategy at iteration  368  :  [ 147.  388.  539. 1090.  267.  256.  283.    0.    0.    0.    0.    0.\n",
      "    0.    0.] Expected Profit: 1547318.86717\n",
      "New best strategy at iteration  368  :  [ 147.  388.  539. 1090.  268.  255.  283.    0.    0.    0.    0.    0.\n",
      "    0.    0.] Expected Profit: 1547322.1034699997\n",
      "New best strategy at iteration  368  :  [ 147.  388.  539. 1090.  268.  256.  282.    0.    0.    0.    0.    0.\n",
      "    0.    0.] Expected Profit: 1547325.75837\n"
     ]
    },
    {
     "name": "stderr",
     "output_type": "stream",
     "text": [
      "\r",
      "  0%|                                                                         | 370/1000000 [01:19<59:14:08,  4.69it/s]"
     ]
    },
    {
     "name": "stdout",
     "output_type": "stream",
     "text": [
      "New best strategy at iteration  369  :  [ 146.  388.  539. 1090.  268.  256.  282.    0.    0.    0.    0.    0.\n",
      "    0.    0.] Expected Profit: 1547328.68267\n",
      "New best strategy at iteration  369  :  [ 147.  387.  539. 1090.  268.  256.  282.    0.    0.    0.    0.    0.\n",
      "    0.    0.] Expected Profit: 1547330.15867\n",
      "New best strategy at iteration  369  :  [ 147.  388.  538. 1090.  268.  256.  282.    0.    0.    0.    0.    0.\n",
      "    0.    0.] Expected Profit: 1547332.07767\n",
      "New best strategy at iteration  369  :  [ 147.  388.  539. 1089.  268.  256.  282.    0.    0.    0.    0.    0.\n",
      "    0.    0.] Expected Profit: 1547334.47617\n",
      "New best strategy at iteration  369  :  [ 147.  388.  539. 1090.  267.  256.  282.    0.    0.    0.    0.    0.\n",
      "    0.    0.] Expected Profit: 1547337.28987\n",
      "New best strategy at iteration  369  :  [ 147.  388.  539. 1090.  268.  255.  282.    0.    0.    0.    0.    0.\n",
      "    0.    0.] Expected Profit: 1547340.52617\n",
      "New best strategy at iteration  369  :  [ 147.  388.  539. 1090.  268.  256.  281.    0.    0.    0.    0.    0.\n",
      "    0.    0.] Expected Profit: 1547344.18107\n"
     ]
    },
    {
     "name": "stderr",
     "output_type": "stream",
     "text": [
      "\r",
      "  0%|                                                                         | 371/1000000 [01:19<59:05:55,  4.70it/s]"
     ]
    },
    {
     "name": "stdout",
     "output_type": "stream",
     "text": [
      "New best strategy at iteration  370  :  [ 146.  388.  539. 1090.  268.  256.  281.    0.    0.    0.    0.    0.\n",
      "    0.    0.] Expected Profit: 1547347.1053699998\n",
      "New best strategy at iteration  370  :  [ 147.  387.  539. 1090.  268.  256.  281.    0.    0.    0.    0.    0.\n",
      "    0.    0.] Expected Profit: 1547348.5813699998\n",
      "New best strategy at iteration  370  :  [ 147.  388.  538. 1090.  268.  256.  281.    0.    0.    0.    0.    0.\n",
      "    0.    0.] Expected Profit: 1547350.50037\n",
      "New best strategy at iteration  370  :  [ 147.  388.  539. 1089.  268.  256.  281.    0.    0.    0.    0.    0.\n",
      "    0.    0.] Expected Profit: 1547352.89887\n",
      "New best strategy at iteration  370  :  [ 147.  388.  539. 1090.  267.  256.  281.    0.    0.    0.    0.    0.\n",
      "    0.    0.] Expected Profit: 1547355.7125700002\n",
      "New best strategy at iteration  370  :  [ 147.  388.  539. 1090.  268.  255.  281.    0.    0.    0.    0.    0.\n",
      "    0.    0.] Expected Profit: 1547358.94887\n",
      "New best strategy at iteration  370  :  [ 147.  388.  539. 1090.  268.  256.  280.    0.    0.    0.    0.    0.\n",
      "    0.    0.] Expected Profit: 1547362.6037699997\n"
     ]
    },
    {
     "name": "stderr",
     "output_type": "stream",
     "text": [
      "\r",
      "  0%|                                                                         | 372/1000000 [01:20<58:50:40,  4.72it/s]"
     ]
    },
    {
     "name": "stdout",
     "output_type": "stream",
     "text": [
      "New best strategy at iteration  371  :  [ 146.  388.  539. 1090.  268.  256.  280.    0.    0.    0.    0.    0.\n",
      "    0.    0.] Expected Profit: 1547365.5280699998\n",
      "New best strategy at iteration  371  :  [ 147.  387.  539. 1090.  268.  256.  280.    0.    0.    0.    0.    0.\n",
      "    0.    0.] Expected Profit: 1547367.0040699998\n",
      "New best strategy at iteration  371  :  [ 147.  388.  538. 1090.  268.  256.  280.    0.    0.    0.    0.    0.\n",
      "    0.    0.] Expected Profit: 1547368.92307\n",
      "New best strategy at iteration  371  :  [ 147.  388.  539. 1089.  268.  256.  280.    0.    0.    0.    0.    0.\n",
      "    0.    0.] Expected Profit: 1547371.3215699997\n",
      "New best strategy at iteration  371  :  [ 147.  388.  539. 1090.  267.  256.  280.    0.    0.    0.    0.    0.\n",
      "    0.    0.] Expected Profit: 1547374.13527\n",
      "New best strategy at iteration  371  :  [ 147.  388.  539. 1090.  268.  255.  280.    0.    0.    0.    0.    0.\n",
      "    0.    0.] Expected Profit: 1547377.3715699997\n",
      "New best strategy at iteration  371  :  [ 147.  388.  539. 1090.  268.  256.  279.    0.    0.    0.    0.    0.\n",
      "    0.    0.] Expected Profit: 1547381.0264699997\n"
     ]
    },
    {
     "name": "stderr",
     "output_type": "stream",
     "text": [
      "\r",
      "  0%|                                                                         | 373/1000000 [01:20<58:54:04,  4.71it/s]"
     ]
    },
    {
     "name": "stdout",
     "output_type": "stream",
     "text": [
      "New best strategy at iteration  372  :  [ 146.  388.  539. 1090.  268.  256.  279.    0.    0.    0.    0.    0.\n",
      "    0.    0.] Expected Profit: 1547383.9507699998\n",
      "New best strategy at iteration  372  :  [ 147.  387.  539. 1090.  268.  256.  279.    0.    0.    0.    0.    0.\n",
      "    0.    0.] Expected Profit: 1547385.4267699998\n",
      "New best strategy at iteration  372  :  [ 147.  388.  538. 1090.  268.  256.  279.    0.    0.    0.    0.    0.\n",
      "    0.    0.] Expected Profit: 1547387.34577\n",
      "New best strategy at iteration  372  :  [ 147.  388.  539. 1089.  268.  256.  279.    0.    0.    0.    0.    0.\n",
      "    0.    0.] Expected Profit: 1547389.7442699997\n",
      "New best strategy at iteration  372  :  [ 147.  388.  539. 1090.  267.  256.  279.    0.    0.    0.    0.    0.\n",
      "    0.    0.] Expected Profit: 1547392.5579699997\n",
      "New best strategy at iteration  372  :  [ 147.  388.  539. 1090.  268.  255.  279.    0.    0.    0.    0.    0.\n",
      "    0.    0.] Expected Profit: 1547395.79427\n",
      "New best strategy at iteration  372  :  [ 147.  388.  539. 1090.  268.  256.  278.    0.    0.    0.    0.    0.\n",
      "    0.    0.] Expected Profit: 1547399.44917\n"
     ]
    },
    {
     "name": "stderr",
     "output_type": "stream",
     "text": [
      "\r",
      "  0%|                                                                         | 374/1000000 [01:20<58:45:14,  4.73it/s]"
     ]
    },
    {
     "name": "stdout",
     "output_type": "stream",
     "text": [
      "New best strategy at iteration  373  :  [ 146.  388.  539. 1090.  268.  256.  278.    0.    0.    0.    0.    0.\n",
      "    0.    0.] Expected Profit: 1547402.3734699998\n",
      "New best strategy at iteration  373  :  [ 147.  387.  539. 1090.  268.  256.  278.    0.    0.    0.    0.    0.\n",
      "    0.    0.] Expected Profit: 1547403.8494699998\n",
      "New best strategy at iteration  373  :  [ 147.  388.  538. 1090.  268.  256.  278.    0.    0.    0.    0.    0.\n",
      "    0.    0.] Expected Profit: 1547405.76847\n",
      "New best strategy at iteration  373  :  [ 147.  388.  539. 1089.  268.  256.  278.    0.    0.    0.    0.    0.\n",
      "    0.    0.] Expected Profit: 1547408.16697\n",
      "New best strategy at iteration  373  :  [ 147.  388.  539. 1090.  267.  256.  278.    0.    0.    0.    0.    0.\n",
      "    0.    0.] Expected Profit: 1547410.9806699997\n",
      "New best strategy at iteration  373  :  [ 147.  388.  539. 1090.  268.  255.  278.    0.    0.    0.    0.    0.\n",
      "    0.    0.] Expected Profit: 1547414.2169699997\n",
      "New best strategy at iteration  373  :  [ 147.  388.  539. 1090.  268.  256.  277.    0.    0.    0.    0.    0.\n",
      "    0.    0.] Expected Profit: 1547417.8718700001\n"
     ]
    },
    {
     "name": "stderr",
     "output_type": "stream",
     "text": [
      "\r",
      "  0%|                                                                         | 375/1000000 [01:20<58:40:29,  4.73it/s]"
     ]
    },
    {
     "name": "stdout",
     "output_type": "stream",
     "text": [
      "New best strategy at iteration  374  :  [ 146.  388.  539. 1090.  268.  256.  277.    0.    0.    0.    0.    0.\n",
      "    0.    0.] Expected Profit: 1547420.7961699998\n",
      "New best strategy at iteration  374  :  [ 147.  387.  539. 1090.  268.  256.  277.    0.    0.    0.    0.    0.\n",
      "    0.    0.] Expected Profit: 1547422.27217\n",
      "New best strategy at iteration  374  :  [ 147.  388.  538. 1090.  268.  256.  277.    0.    0.    0.    0.    0.\n",
      "    0.    0.] Expected Profit: 1547424.19117\n",
      "New best strategy at iteration  374  :  [ 147.  388.  539. 1089.  268.  256.  277.    0.    0.    0.    0.    0.\n",
      "    0.    0.] Expected Profit: 1547426.58967\n",
      "New best strategy at iteration  374  :  [ 147.  388.  539. 1090.  267.  256.  277.    0.    0.    0.    0.    0.\n",
      "    0.    0.] Expected Profit: 1547429.4033700002\n",
      "New best strategy at iteration  374  :  [ 147.  388.  539. 1090.  268.  255.  277.    0.    0.    0.    0.    0.\n",
      "    0.    0.] Expected Profit: 1547432.6396700002\n",
      "New best strategy at iteration  374  :  [ 147.  388.  539. 1090.  268.  256.  276.    0.    0.    0.    0.    0.\n",
      "    0.    0.] Expected Profit: 1547436.2945699997\n"
     ]
    },
    {
     "name": "stderr",
     "output_type": "stream",
     "text": [
      "\r",
      "  0%|                                                                         | 376/1000000 [01:20<58:49:32,  4.72it/s]"
     ]
    },
    {
     "name": "stdout",
     "output_type": "stream",
     "text": [
      "New best strategy at iteration  375  :  [ 146.  388.  539. 1090.  268.  256.  276.    0.    0.    0.    0.    0.\n",
      "    0.    0.] Expected Profit: 1547439.2188699997\n",
      "New best strategy at iteration  375  :  [ 147.  387.  539. 1090.  268.  256.  276.    0.    0.    0.    0.    0.\n",
      "    0.    0.] Expected Profit: 1547440.6948699995\n",
      "New best strategy at iteration  375  :  [ 147.  388.  538. 1090.  268.  256.  276.    0.    0.    0.    0.    0.\n",
      "    0.    0.] Expected Profit: 1547442.61387\n",
      "New best strategy at iteration  375  :  [ 147.  388.  539. 1089.  268.  256.  276.    0.    0.    0.    0.    0.\n",
      "    0.    0.] Expected Profit: 1547445.0123699997\n",
      "New best strategy at iteration  375  :  [ 147.  388.  539. 1090.  267.  256.  276.    0.    0.    0.    0.    0.\n",
      "    0.    0.] Expected Profit: 1547447.82607\n",
      "New best strategy at iteration  375  :  [ 147.  388.  539. 1090.  268.  255.  276.    0.    0.    0.    0.    0.\n",
      "    0.    0.] Expected Profit: 1547451.06237\n",
      "New best strategy at iteration  375  :  [ 147.  388.  539. 1090.  268.  256.  275.    0.    0.    0.    0.    0.\n",
      "    0.    0.] Expected Profit: 1547454.7172699997\n"
     ]
    },
    {
     "name": "stderr",
     "output_type": "stream",
     "text": [
      "\r",
      "  0%|                                                                         | 377/1000000 [01:21<58:42:56,  4.73it/s]"
     ]
    },
    {
     "name": "stdout",
     "output_type": "stream",
     "text": [
      "New best strategy at iteration  376  :  [ 146.  388.  539. 1090.  268.  256.  275.    0.    0.    0.    0.    0.\n",
      "    0.    0.] Expected Profit: 1547457.64157\n",
      "New best strategy at iteration  376  :  [ 147.  387.  539. 1090.  268.  256.  275.    0.    0.    0.    0.    0.\n",
      "    0.    0.] Expected Profit: 1547459.1175699998\n",
      "New best strategy at iteration  376  :  [ 147.  388.  538. 1090.  268.  256.  275.    0.    0.    0.    0.    0.\n",
      "    0.    0.] Expected Profit: 1547461.03657\n",
      "New best strategy at iteration  376  :  [ 147.  388.  539. 1089.  268.  256.  275.    0.    0.    0.    0.    0.\n",
      "    0.    0.] Expected Profit: 1547463.4350699997\n",
      "New best strategy at iteration  376  :  [ 147.  388.  539. 1090.  267.  256.  275.    0.    0.    0.    0.    0.\n",
      "    0.    0.] Expected Profit: 1547466.24877\n",
      "New best strategy at iteration  376  :  [ 147.  388.  539. 1090.  268.  255.  275.    0.    0.    0.    0.    0.\n",
      "    0.    0.] Expected Profit: 1547469.48507\n",
      "New best strategy at iteration  376  :  [ 147.  388.  539. 1090.  268.  256.  274.    0.    0.    0.    0.    0.\n",
      "    0.    0.] Expected Profit: 1547473.1399700001\n",
      "New best strategy at iteration  377  :  [ 146.  388.  539. 1090.  268.  256.  274.    0.    0.    0.    0.    0.\n",
      "    0.    0.] Expected Profit: 1547476.06427\n",
      "New best strategy at iteration  377  :  [ 147.  387.  539. 1090.  268.  256.  274.    0.    0.    0.    0.    0.\n",
      "    0.    0.] Expected Profit: 1547477.54027\n",
      "New best strategy at iteration  377  :  [ 147.  388.  538. 1090.  268.  256.  274.    0.    0.    0.    0.    0.\n",
      "    0.    0.] Expected Profit: 1547479.45927\n",
      "New best strategy at iteration  377  :  [ 147.  388.  539. 1089.  268.  256.  274.    0.    0.    0.    0.    0.\n",
      "    0.    0.] Expected Profit: 1547481.85777\n",
      "New best strategy at iteration  377  :  [ 147.  388.  539. 1090.  267.  256.  274.    0.    0.    0.    0.    0.\n",
      "    0.    0.] Expected Profit: 1547484.67147\n",
      "New best strategy at iteration  377  :  [ 147.  388.  539. 1090.  268.  255.  274.    0.    0.    0.    0.    0.\n",
      "    0.    0.] Expected Profit: 1547487.90777\n",
      "New best strategy at iteration  377  :  [ 147.  388.  539. 1090.  268.  256.  273.    0.    0.    0.    0.    0.\n",
      "    0.    0.] Expected Profit: 1547491.56267\n"
     ]
    },
    {
     "name": "stderr",
     "output_type": "stream",
     "text": [
      "\r",
      "  0%|                                                                         | 378/1000000 [01:21<58:50:50,  4.72it/s]"
     ]
    },
    {
     "name": "stdout",
     "output_type": "stream",
     "text": [
      "New best strategy at iteration  378  :  [ 146.  388.  539. 1090.  268.  256.  273.    0.    0.    0.    0.    0.\n",
      "    0.    0.] Expected Profit: 1547494.48697\n",
      "New best strategy at iteration  378  :  [ 147.  387.  539. 1090.  268.  256.  273.    0.    0.    0.    0.    0.\n",
      "    0.    0.] Expected Profit: 1547495.9629699998\n",
      "New best strategy at iteration  378  :  [ 147.  388.  538. 1090.  268.  256.  273.    0.    0.    0.    0.    0.\n",
      "    0.    0.] Expected Profit: 1547497.8819700002\n",
      "New best strategy at iteration  378  :  [ 147.  388.  539. 1089.  268.  256.  273.    0.    0.    0.    0.    0.\n",
      "    0.    0.] Expected Profit: 1547500.2804699999\n",
      "New best strategy at iteration  378  :  [ 147.  388.  539. 1090.  267.  256.  273.    0.    0.    0.    0.    0.\n",
      "    0.    0.] Expected Profit: 1547503.09417\n",
      "New best strategy at iteration  378  :  [ 147.  388.  539. 1090.  268.  255.  273.    0.    0.    0.    0.    0.\n",
      "    0.    0.] Expected Profit: 1547506.3304699997\n",
      "New best strategy at iteration  378  :  [ 147.  388.  539. 1090.  268.  256.  272.    0.    0.    0.    0.    0.\n",
      "    0.    0.] Expected Profit: 1547509.9853699997\n"
     ]
    },
    {
     "name": "stderr",
     "output_type": "stream",
     "text": [
      "  0%|                                                                         | 380/1000000 [01:21<58:49:38,  4.72it/s]"
     ]
    },
    {
     "name": "stdout",
     "output_type": "stream",
     "text": [
      "New best strategy at iteration  379  :  [ 146.  388.  539. 1090.  268.  256.  272.    0.    0.    0.    0.    0.\n",
      "    0.    0.] Expected Profit: 1547512.9096699997\n",
      "New best strategy at iteration  379  :  [ 147.  387.  539. 1090.  268.  256.  272.    0.    0.    0.    0.    0.\n",
      "    0.    0.] Expected Profit: 1547514.38567\n",
      "New best strategy at iteration  379  :  [ 147.  388.  538. 1090.  268.  256.  272.    0.    0.    0.    0.    0.\n",
      "    0.    0.] Expected Profit: 1547516.3046699998\n",
      "New best strategy at iteration  379  :  [ 147.  388.  539. 1089.  268.  256.  272.    0.    0.    0.    0.    0.\n",
      "    0.    0.] Expected Profit: 1547518.7031699996\n",
      "New best strategy at iteration  379  :  [ 147.  388.  539. 1090.  267.  256.  272.    0.    0.    0.    0.    0.\n",
      "    0.    0.] Expected Profit: 1547521.51687\n",
      "New best strategy at iteration  379  :  [ 147.  388.  539. 1090.  268.  255.  272.    0.    0.    0.    0.    0.\n",
      "    0.    0.] Expected Profit: 1547524.7531699997\n",
      "New best strategy at iteration  379  :  [ 147.  388.  539. 1090.  268.  256.  271.    0.    0.    0.    0.    0.\n",
      "    0.    0.] Expected Profit: 1547528.40807\n"
     ]
    },
    {
     "name": "stderr",
     "output_type": "stream",
     "text": [
      "\r",
      "  0%|                                                                         | 381/1000000 [01:22<58:42:32,  4.73it/s]"
     ]
    },
    {
     "name": "stdout",
     "output_type": "stream",
     "text": [
      "New best strategy at iteration  380  :  [ 146.  388.  539. 1090.  268.  256.  271.    0.    0.    0.    0.    0.\n",
      "    0.    0.] Expected Profit: 1547531.3323699997\n",
      "New best strategy at iteration  380  :  [ 147.  387.  539. 1090.  268.  256.  271.    0.    0.    0.    0.    0.\n",
      "    0.    0.] Expected Profit: 1547532.80837\n",
      "New best strategy at iteration  380  :  [ 147.  388.  538. 1090.  268.  256.  271.    0.    0.    0.    0.    0.\n",
      "    0.    0.] Expected Profit: 1547534.72737\n",
      "New best strategy at iteration  380  :  [ 147.  388.  539. 1089.  268.  256.  271.    0.    0.    0.    0.    0.\n",
      "    0.    0.] Expected Profit: 1547537.1258699999\n",
      "New best strategy at iteration  380  :  [ 147.  388.  539. 1090.  267.  256.  271.    0.    0.    0.    0.    0.\n",
      "    0.    0.] Expected Profit: 1547539.93957\n",
      "New best strategy at iteration  380  :  [ 147.  388.  539. 1090.  268.  255.  271.    0.    0.    0.    0.    0.\n",
      "    0.    0.] Expected Profit: 1547543.17587\n",
      "New best strategy at iteration  380  :  [ 147.  388.  539. 1090.  268.  256.  270.    0.    0.    0.    0.    0.\n",
      "    0.    0.] Expected Profit: 1547546.8307699997\n",
      "New best strategy at iteration  381  :  [ 146.  388.  539. 1090.  268.  256.  270.    0.    0.    0.    0.    0.\n",
      "    0.    0.] Expected Profit: 1547549.75507\n",
      "New best strategy at iteration  381  :  [ 147.  387.  539. 1090.  268.  256.  270.    0.    0.    0.    0.    0.\n",
      "    0.    0.] Expected Profit: 1547551.2310699997\n",
      "New best strategy at iteration  381  :  [ 147.  388.  538. 1090.  268.  256.  270.    0.    0.    0.    0.    0.\n",
      "    0.    0.] Expected Profit: 1547553.15007\n",
      "New best strategy at iteration  381  :  [ 147.  388.  539. 1089.  268.  256.  270.    0.    0.    0.    0.    0.\n",
      "    0.    0.] Expected Profit: 1547555.5485699996\n",
      "New best strategy at iteration  381  :  [ 147.  388.  539. 1090.  267.  256.  270.    0.    0.    0.    0.    0.\n",
      "    0.    0.] Expected Profit: 1547558.36227\n",
      "New best strategy at iteration  381  :  [ 147.  388.  539. 1090.  268.  255.  270.    0.    0.    0.    0.    0.\n",
      "    0.    0.] Expected Profit: 1547561.59857\n",
      "New best strategy at iteration  381  :  [ 147.  388.  539. 1090.  268.  256.  269.    0.    0.    0.    0.    0.\n",
      "    0.    0.] Expected Profit: 1547565.25347\n"
     ]
    },
    {
     "name": "stderr",
     "output_type": "stream",
     "text": [
      "  0%|                                                                         | 383/1000000 [01:22<58:14:33,  4.77it/s]"
     ]
    },
    {
     "name": "stdout",
     "output_type": "stream",
     "text": [
      "New best strategy at iteration  382  :  [ 146.  388.  539. 1090.  268.  256.  269.    0.    0.    0.    0.    0.\n",
      "    0.    0.] Expected Profit: 1547568.17777\n",
      "New best strategy at iteration  382  :  [ 147.  387.  539. 1090.  268.  256.  269.    0.    0.    0.    0.    0.\n",
      "    0.    0.] Expected Profit: 1547569.65377\n",
      "New best strategy at iteration  382  :  [ 147.  388.  538. 1090.  268.  256.  269.    0.    0.    0.    0.    0.\n",
      "    0.    0.] Expected Profit: 1547571.57277\n",
      "New best strategy at iteration  382  :  [ 147.  388.  539. 1089.  268.  256.  269.    0.    0.    0.    0.    0.\n",
      "    0.    0.] Expected Profit: 1547573.97127\n",
      "New best strategy at iteration  382  :  [ 147.  388.  539. 1090.  267.  256.  269.    0.    0.    0.    0.    0.\n",
      "    0.    0.] Expected Profit: 1547576.78497\n",
      "New best strategy at iteration  382  :  [ 147.  388.  539. 1090.  268.  255.  269.    0.    0.    0.    0.    0.\n",
      "    0.    0.] Expected Profit: 1547580.02127\n",
      "New best strategy at iteration  382  :  [ 147.  388.  539. 1090.  268.  256.  268.    0.    0.    0.    0.    0.\n",
      "    0.    0.] Expected Profit: 1547583.6761699999\n"
     ]
    },
    {
     "name": "stderr",
     "output_type": "stream",
     "text": [
      "\r",
      "  0%|                                                                         | 384/1000000 [01:22<58:27:27,  4.75it/s]"
     ]
    },
    {
     "name": "stdout",
     "output_type": "stream",
     "text": [
      "New best strategy at iteration  383  :  [ 146.  388.  539. 1090.  268.  256.  268.    0.    0.    0.    0.    0.\n",
      "    0.    0.] Expected Profit: 1547586.6004699997\n",
      "New best strategy at iteration  383  :  [ 147.  387.  539. 1090.  268.  256.  268.    0.    0.    0.    0.    0.\n",
      "    0.    0.] Expected Profit: 1547588.0764699997\n",
      "New best strategy at iteration  383  :  [ 147.  388.  538. 1090.  268.  256.  268.    0.    0.    0.    0.    0.\n",
      "    0.    0.] Expected Profit: 1547589.99547\n",
      "New best strategy at iteration  383  :  [ 147.  388.  539. 1089.  268.  256.  268.    0.    0.    0.    0.    0.\n",
      "    0.    0.] Expected Profit: 1547592.3939699999\n",
      "New best strategy at iteration  383  :  [ 147.  388.  539. 1090.  267.  256.  268.    0.    0.    0.    0.    0.\n",
      "    0.    0.] Expected Profit: 1547595.20767\n",
      "New best strategy at iteration  383  :  [ 147.  388.  539. 1090.  268.  255.  268.    0.    0.    0.    0.    0.\n",
      "    0.    0.] Expected Profit: 1547598.44397\n",
      "New best strategy at iteration  383  :  [ 147.  388.  539. 1090.  268.  256.  267.    0.    0.    0.    0.    0.\n",
      "    0.    0.] Expected Profit: 1547602.0988699999\n"
     ]
    },
    {
     "name": "stderr",
     "output_type": "stream",
     "text": [
      "\r",
      "  0%|                                                                         | 385/1000000 [01:22<58:39:47,  4.73it/s]"
     ]
    },
    {
     "name": "stdout",
     "output_type": "stream",
     "text": [
      "New best strategy at iteration  384  :  [ 146.  388.  539. 1090.  268.  256.  267.    0.    0.    0.    0.    0.\n",
      "    0.    0.] Expected Profit: 1547605.02317\n",
      "New best strategy at iteration  384  :  [ 147.  387.  539. 1090.  268.  256.  267.    0.    0.    0.    0.    0.\n",
      "    0.    0.] Expected Profit: 1547606.49917\n",
      "New best strategy at iteration  384  :  [ 147.  388.  538. 1090.  268.  256.  267.    0.    0.    0.    0.    0.\n",
      "    0.    0.] Expected Profit: 1547608.41817\n",
      "New best strategy at iteration  384  :  [ 147.  388.  539. 1089.  268.  256.  267.    0.    0.    0.    0.    0.\n",
      "    0.    0.] Expected Profit: 1547610.8166699999\n",
      "New best strategy at iteration  384  :  [ 147.  388.  539. 1090.  267.  256.  267.    0.    0.    0.    0.    0.\n",
      "    0.    0.] Expected Profit: 1547613.63037\n",
      "New best strategy at iteration  384  :  [ 147.  388.  539. 1090.  268.  255.  267.    0.    0.    0.    0.    0.\n",
      "    0.    0.] Expected Profit: 1547616.8666699997\n",
      "New best strategy at iteration  384  :  [ 147.  388.  539. 1090.  268.  256.  266.    0.    0.    0.    0.    0.\n",
      "    0.    0.] Expected Profit: 1547620.5215699999\n"
     ]
    },
    {
     "name": "stderr",
     "output_type": "stream",
     "text": [
      "\r",
      "  0%|                                                                         | 386/1000000 [01:23<58:34:52,  4.74it/s]"
     ]
    },
    {
     "name": "stdout",
     "output_type": "stream",
     "text": [
      "New best strategy at iteration  385  :  [ 146.  388.  539. 1090.  268.  256.  266.    0.    0.    0.    0.    0.\n",
      "    0.    0.] Expected Profit: 1547623.44587\n",
      "New best strategy at iteration  385  :  [ 147.  387.  539. 1090.  268.  256.  266.    0.    0.    0.    0.    0.\n",
      "    0.    0.] Expected Profit: 1547624.92187\n",
      "New best strategy at iteration  385  :  [ 147.  388.  538. 1090.  268.  256.  266.    0.    0.    0.    0.    0.\n",
      "    0.    0.] Expected Profit: 1547626.8408700002\n",
      "New best strategy at iteration  385  :  [ 147.  388.  539. 1089.  268.  256.  266.    0.    0.    0.    0.    0.\n",
      "    0.    0.] Expected Profit: 1547629.2393699999\n",
      "New best strategy at iteration  385  :  [ 147.  388.  539. 1090.  267.  256.  266.    0.    0.    0.    0.    0.\n",
      "    0.    0.] Expected Profit: 1547632.0530700001\n",
      "New best strategy at iteration  385  :  [ 147.  388.  539. 1090.  268.  255.  266.    0.    0.    0.    0.    0.\n",
      "    0.    0.] Expected Profit: 1547635.28937\n",
      "New best strategy at iteration  385  :  [ 147.  388.  539. 1090.  268.  256.  265.    0.    0.    0.    0.    0.\n",
      "    0.    0.] Expected Profit: 1547638.94427\n"
     ]
    },
    {
     "name": "stderr",
     "output_type": "stream",
     "text": [
      "\r",
      "  0%|                                                                         | 387/1000000 [01:23<58:39:55,  4.73it/s]"
     ]
    },
    {
     "name": "stdout",
     "output_type": "stream",
     "text": [
      "New best strategy at iteration  386  :  [ 146.  388.  539. 1090.  268.  256.  265.    0.    0.    0.    0.    0.\n",
      "    0.    0.] Expected Profit: 1547641.86857\n",
      "New best strategy at iteration  386  :  [ 147.  387.  539. 1090.  268.  256.  265.    0.    0.    0.    0.    0.\n",
      "    0.    0.] Expected Profit: 1547643.3445700002\n",
      "New best strategy at iteration  386  :  [ 147.  388.  538. 1090.  268.  256.  265.    0.    0.    0.    0.    0.\n",
      "    0.    0.] Expected Profit: 1547645.26357\n",
      "New best strategy at iteration  386  :  [ 147.  388.  539. 1089.  268.  256.  265.    0.    0.    0.    0.    0.\n",
      "    0.    0.] Expected Profit: 1547647.6620699996\n",
      "New best strategy at iteration  386  :  [ 147.  388.  539. 1090.  267.  256.  265.    0.    0.    0.    0.    0.\n",
      "    0.    0.] Expected Profit: 1547650.47577\n",
      "New best strategy at iteration  386  :  [ 147.  388.  539. 1090.  268.  255.  265.    0.    0.    0.    0.    0.\n",
      "    0.    0.] Expected Profit: 1547653.71207\n",
      "New best strategy at iteration  386  :  [ 147.  388.  539. 1090.  268.  256.  264.    0.    0.    0.    0.    0.\n",
      "    0.    0.] Expected Profit: 1547657.3669699999\n",
      "New best strategy at iteration  387  :  [ 146.  388.  539. 1090.  268.  256.  264.    0.    0.    0.    0.    0.\n",
      "    0.    0.] Expected Profit: 1547660.29127\n",
      "New best strategy at iteration  387  :  [ 147.  387.  539. 1090.  268.  256.  264.    0.    0.    0.    0.    0.\n",
      "    0.    0.] Expected Profit: 1547661.76727\n",
      "New best strategy at iteration  387  :  [ 147.  388.  538. 1090.  268.  256.  264.    0.    0.    0.    0.    0.\n",
      "    0.    0.] Expected Profit: 1547663.68627\n",
      "New best strategy at iteration  387  :  [ 147.  388.  539. 1089.  268.  256.  264.    0.    0.    0.    0.    0.\n",
      "    0.    0.] Expected Profit: 1547666.08477\n",
      "New best strategy at iteration  387  :  [ 147.  388.  539. 1090.  267.  256.  264.    0.    0.    0.    0.    0.\n",
      "    0.    0.] Expected Profit: 1547668.8984700001\n",
      "New best strategy at iteration  387  :  [ 147.  388.  539. 1090.  268.  255.  264.    0.    0.    0.    0.    0.\n",
      "    0.    0.] Expected Profit: 1547672.13477\n",
      "New best strategy at iteration  387  :  [ 147.  388.  539. 1090.  268.  256.  263.    0.    0.    0.    0.    0.\n",
      "    0.    0.] Expected Profit: 1547675.78967\n"
     ]
    },
    {
     "name": "stderr",
     "output_type": "stream",
     "text": [
      "  0%|                                                                         | 389/1000000 [01:23<58:31:11,  4.74it/s]"
     ]
    },
    {
     "name": "stdout",
     "output_type": "stream",
     "text": [
      "New best strategy at iteration  388  :  [ 146.  388.  539. 1090.  268.  256.  263.    0.    0.    0.    0.    0.\n",
      "    0.    0.] Expected Profit: 1547678.71397\n",
      "New best strategy at iteration  388  :  [ 147.  387.  539. 1090.  268.  256.  263.    0.    0.    0.    0.    0.\n",
      "    0.    0.] Expected Profit: 1547680.1899699997\n",
      "New best strategy at iteration  388  :  [ 147.  388.  538. 1090.  268.  256.  263.    0.    0.    0.    0.    0.\n",
      "    0.    0.] Expected Profit: 1547682.10897\n",
      "New best strategy at iteration  388  :  [ 147.  388.  539. 1089.  268.  256.  263.    0.    0.    0.    0.    0.\n",
      "    0.    0.] Expected Profit: 1547684.5074699998\n",
      "New best strategy at iteration  388  :  [ 147.  388.  539. 1090.  267.  256.  263.    0.    0.    0.    0.    0.\n",
      "    0.    0.] Expected Profit: 1547687.3211700001\n",
      "New best strategy at iteration  388  :  [ 147.  388.  539. 1090.  268.  255.  263.    0.    0.    0.    0.    0.\n",
      "    0.    0.] Expected Profit: 1547690.5574699999\n",
      "New best strategy at iteration  388  :  [ 147.  388.  539. 1090.  268.  256.  262.    0.    0.    0.    0.    0.\n",
      "    0.    0.] Expected Profit: 1547694.2123699998\n"
     ]
    },
    {
     "name": "stderr",
     "output_type": "stream",
     "text": [
      "\r",
      "  0%|                                                                         | 390/1000000 [01:23<58:27:22,  4.75it/s]"
     ]
    },
    {
     "name": "stdout",
     "output_type": "stream",
     "text": [
      "New best strategy at iteration  389  :  [ 146.  388.  539. 1090.  268.  256.  262.    0.    0.    0.    0.    0.\n",
      "    0.    0.] Expected Profit: 1547697.13667\n",
      "New best strategy at iteration  389  :  [ 147.  387.  539. 1090.  268.  256.  262.    0.    0.    0.    0.    0.\n",
      "    0.    0.] Expected Profit: 1547698.6126700002\n",
      "New best strategy at iteration  389  :  [ 147.  388.  538. 1090.  268.  256.  262.    0.    0.    0.    0.    0.\n",
      "    0.    0.] Expected Profit: 1547700.5316700002\n",
      "New best strategy at iteration  389  :  [ 147.  388.  539. 1089.  268.  256.  262.    0.    0.    0.    0.    0.\n",
      "    0.    0.] Expected Profit: 1547702.9301699996\n",
      "New best strategy at iteration  389  :  [ 147.  388.  539. 1090.  267.  256.  262.    0.    0.    0.    0.    0.\n",
      "    0.    0.] Expected Profit: 1547705.7438700001\n",
      "New best strategy at iteration  389  :  [ 147.  388.  539. 1090.  268.  255.  262.    0.    0.    0.    0.    0.\n",
      "    0.    0.] Expected Profit: 1547708.98017\n",
      "New best strategy at iteration  389  :  [ 147.  388.  539. 1090.  268.  256.  261.    0.    0.    0.    0.    0.\n",
      "    0.    0.] Expected Profit: 1547712.6350699998\n"
     ]
    },
    {
     "name": "stderr",
     "output_type": "stream",
     "text": [
      "\r",
      "  0%|                                                                         | 391/1000000 [01:24<58:21:49,  4.76it/s]"
     ]
    },
    {
     "name": "stdout",
     "output_type": "stream",
     "text": [
      "New best strategy at iteration  390  :  [ 146.  388.  539. 1090.  268.  256.  261.    0.    0.    0.    0.    0.\n",
      "    0.    0.] Expected Profit: 1547715.55937\n",
      "New best strategy at iteration  390  :  [ 147.  387.  539. 1090.  268.  256.  261.    0.    0.    0.    0.    0.\n",
      "    0.    0.] Expected Profit: 1547717.03537\n",
      "New best strategy at iteration  390  :  [ 147.  388.  538. 1090.  268.  256.  261.    0.    0.    0.    0.    0.\n",
      "    0.    0.] Expected Profit: 1547718.9543700002\n",
      "New best strategy at iteration  390  :  [ 147.  388.  539. 1089.  268.  256.  261.    0.    0.    0.    0.    0.\n",
      "    0.    0.] Expected Profit: 1547721.3528699998\n",
      "New best strategy at iteration  390  :  [ 147.  388.  539. 1090.  267.  256.  261.    0.    0.    0.    0.    0.\n",
      "    0.    0.] Expected Profit: 1547724.1665700001\n",
      "New best strategy at iteration  390  :  [ 147.  388.  539. 1090.  268.  255.  261.    0.    0.    0.    0.    0.\n",
      "    0.    0.] Expected Profit: 1547727.4028699999\n",
      "New best strategy at iteration  390  :  [ 147.  388.  539. 1090.  268.  256.  260.    0.    0.    0.    0.    0.\n",
      "    0.    0.] Expected Profit: 1547731.05777\n"
     ]
    },
    {
     "name": "stderr",
     "output_type": "stream",
     "text": [
      "\r",
      "  0%|                                                                         | 392/1000000 [01:24<58:19:29,  4.76it/s]"
     ]
    },
    {
     "name": "stdout",
     "output_type": "stream",
     "text": [
      "New best strategy at iteration  391  :  [ 146.  388.  539. 1090.  268.  256.  260.    0.    0.    0.    0.    0.\n",
      "    0.    0.] Expected Profit: 1547733.98207\n",
      "New best strategy at iteration  391  :  [ 147.  387.  539. 1090.  268.  256.  260.    0.    0.    0.    0.    0.\n",
      "    0.    0.] Expected Profit: 1547735.45807\n",
      "New best strategy at iteration  391  :  [ 147.  388.  538. 1090.  268.  256.  260.    0.    0.    0.    0.    0.\n",
      "    0.    0.] Expected Profit: 1547737.37707\n",
      "New best strategy at iteration  391  :  [ 147.  388.  539. 1089.  268.  256.  260.    0.    0.    0.    0.    0.\n",
      "    0.    0.] Expected Profit: 1547739.7755699996\n",
      "New best strategy at iteration  391  :  [ 147.  388.  539. 1090.  267.  256.  260.    0.    0.    0.    0.    0.\n",
      "    0.    0.] Expected Profit: 1547742.5892699999\n",
      "New best strategy at iteration  391  :  [ 147.  388.  539. 1090.  268.  255.  260.    0.    0.    0.    0.    0.\n",
      "    0.    0.] Expected Profit: 1547745.8255699999\n",
      "New best strategy at iteration  391  :  [ 147.  388.  539. 1090.  268.  256.  259.    0.    0.    0.    0.    0.\n",
      "    0.    0.] Expected Profit: 1547749.4804699998\n"
     ]
    },
    {
     "name": "stderr",
     "output_type": "stream",
     "text": [
      "\r",
      "  0%|                                                                         | 393/1000000 [01:24<58:29:28,  4.75it/s]"
     ]
    },
    {
     "name": "stdout",
     "output_type": "stream",
     "text": [
      "New best strategy at iteration  392  :  [ 146.  388.  539. 1090.  268.  256.  259.    0.    0.    0.    0.    0.\n",
      "    0.    0.] Expected Profit: 1547752.4047699997\n",
      "New best strategy at iteration  392  :  [ 147.  387.  539. 1090.  268.  256.  259.    0.    0.    0.    0.    0.\n",
      "    0.    0.] Expected Profit: 1547753.88077\n",
      "New best strategy at iteration  392  :  [ 147.  388.  538. 1090.  268.  256.  259.    0.    0.    0.    0.    0.\n",
      "    0.    0.] Expected Profit: 1547755.79977\n",
      "New best strategy at iteration  392  :  [ 147.  388.  539. 1089.  268.  256.  259.    0.    0.    0.    0.    0.\n",
      "    0.    0.] Expected Profit: 1547758.19827\n",
      "New best strategy at iteration  392  :  [ 147.  388.  539. 1090.  267.  256.  259.    0.    0.    0.    0.    0.\n",
      "    0.    0.] Expected Profit: 1547761.0119699999\n",
      "New best strategy at iteration  392  :  [ 147.  388.  539. 1090.  268.  255.  259.    0.    0.    0.    0.    0.\n",
      "    0.    0.] Expected Profit: 1547764.2482699999\n",
      "New best strategy at iteration  392  :  [ 147.  388.  539. 1090.  268.  256.  258.    0.    0.    0.    0.    0.\n",
      "    0.    0.] Expected Profit: 1547767.9031699998\n",
      "New best strategy at iteration  393  :  [ 146.  388.  539. 1090.  268.  256.  258.    0.    0.    0.    0.    0.\n",
      "    0.    0.] Expected Profit: 1547770.82747\n"
     ]
    },
    {
     "name": "stderr",
     "output_type": "stream",
     "text": [
      "\r",
      "  0%|                                                                         | 394/1000000 [01:24<58:55:25,  4.71it/s]"
     ]
    },
    {
     "name": "stdout",
     "output_type": "stream",
     "text": [
      "New best strategy at iteration  393  :  [ 147.  387.  539. 1090.  268.  256.  258.    0.    0.    0.    0.    0.\n",
      "    0.    0.] Expected Profit: 1547772.3034699997\n",
      "New best strategy at iteration  393  :  [ 147.  388.  538. 1090.  268.  256.  258.    0.    0.    0.    0.    0.\n",
      "    0.    0.] Expected Profit: 1547774.22247\n",
      "New best strategy at iteration  393  :  [ 147.  388.  539. 1089.  268.  256.  258.    0.    0.    0.    0.    0.\n",
      "    0.    0.] Expected Profit: 1547776.6209699998\n",
      "New best strategy at iteration  393  :  [ 147.  388.  539. 1090.  267.  256.  258.    0.    0.    0.    0.    0.\n",
      "    0.    0.] Expected Profit: 1547779.43467\n",
      "New best strategy at iteration  393  :  [ 147.  388.  539. 1090.  268.  255.  258.    0.    0.    0.    0.    0.\n",
      "    0.    0.] Expected Profit: 1547782.6709699999\n",
      "New best strategy at iteration  393  :  [ 147.  388.  539. 1090.  268.  256.  257.    0.    0.    0.    0.    0.\n",
      "    0.    0.] Expected Profit: 1547786.32587\n",
      "New best strategy at iteration  394  :  [ 146.  388.  539. 1090.  268.  256.  257.    0.    0.    0.    0.    0.\n",
      "    0.    0.] Expected Profit: 1547789.25017\n"
     ]
    },
    {
     "name": "stderr",
     "output_type": "stream",
     "text": [
      "\r",
      "  0%|                                                                         | 395/1000000 [01:25<58:45:30,  4.73it/s]"
     ]
    },
    {
     "name": "stdout",
     "output_type": "stream",
     "text": [
      "New best strategy at iteration  394  :  [ 147.  387.  539. 1090.  268.  256.  257.    0.    0.    0.    0.    0.\n",
      "    0.    0.] Expected Profit: 1547790.7261700002\n",
      "New best strategy at iteration  394  :  [ 147.  388.  538. 1090.  268.  256.  257.    0.    0.    0.    0.    0.\n",
      "    0.    0.] Expected Profit: 1547792.6451700001\n",
      "New best strategy at iteration  394  :  [ 147.  388.  539. 1089.  268.  256.  257.    0.    0.    0.    0.    0.\n",
      "    0.    0.] Expected Profit: 1547795.0436699998\n",
      "New best strategy at iteration  394  :  [ 147.  388.  539. 1090.  267.  256.  257.    0.    0.    0.    0.    0.\n",
      "    0.    0.] Expected Profit: 1547797.85737\n",
      "New best strategy at iteration  394  :  [ 147.  388.  539. 1090.  268.  255.  257.    0.    0.    0.    0.    0.\n",
      "    0.    0.] Expected Profit: 1547801.0936699999\n",
      "New best strategy at iteration  394  :  [ 147.  388.  539. 1090.  268.  256.  256.    0.    0.    0.    0.    0.\n",
      "    0.    0.] Expected Profit: 1547804.7485699998\n",
      "New best strategy at iteration  395  :  [ 146.  388.  539. 1090.  268.  256.  256.    0.    0.    0.    0.    0.\n",
      "    0.    0.] Expected Profit: 1547807.67287\n",
      "New best strategy at iteration  395  :  [ 147.  387.  539. 1090.  268.  256.  256.    0.    0.    0.    0.    0.\n",
      "    0.    0.] Expected Profit: 1547809.14887\n",
      "New best strategy at iteration  395  :  [ 147.  388.  538. 1090.  268.  256.  256.    0.    0.    0.    0.    0.\n",
      "    0.    0.] Expected Profit: 1547811.0678700001\n"
     ]
    },
    {
     "name": "stderr",
     "output_type": "stream",
     "text": [
      "\r",
      "  0%|                                                                         | 396/1000000 [01:25<58:32:46,  4.74it/s]"
     ]
    },
    {
     "name": "stdout",
     "output_type": "stream",
     "text": [
      "New best strategy at iteration  395  :  [ 147.  388.  539. 1089.  268.  256.  256.    0.    0.    0.    0.    0.\n",
      "    0.    0.] Expected Profit: 1547813.4663699998\n",
      "New best strategy at iteration  395  :  [ 147.  388.  539. 1090.  267.  256.  256.    0.    0.    0.    0.    0.\n",
      "    0.    0.] Expected Profit: 1547816.2800699999\n",
      "New best strategy at iteration  395  :  [ 147.  388.  539. 1090.  268.  255.  256.    0.    0.    0.    0.    0.\n",
      "    0.    0.] Expected Profit: 1547819.5163699999\n",
      "New best strategy at iteration  395  :  [ 147.  388.  539. 1090.  268.  256.  255.    0.    0.    0.    0.    0.\n",
      "    0.    0.] Expected Profit: 1547823.1712699998\n",
      "New best strategy at iteration  396  :  [ 146.  388.  539. 1090.  268.  256.  255.    0.    0.    0.    0.    0.\n",
      "    0.    0.] Expected Profit: 1547826.0955699997\n",
      "New best strategy at iteration  396  :  [ 147.  387.  539. 1090.  268.  256.  255.    0.    0.    0.    0.    0.\n",
      "    0.    0.] Expected Profit: 1547827.5715699997\n",
      "New best strategy at iteration  396  :  [ 147.  388.  538. 1090.  268.  256.  255.    0.    0.    0.    0.    0.\n",
      "    0.    0.] Expected Profit: 1547829.49057\n",
      "New best strategy at iteration  396  :  [ 147.  388.  539. 1089.  268.  256.  255.    0.    0.    0.    0.    0.\n",
      "    0.    0.] Expected Profit: 1547831.8890699998\n"
     ]
    },
    {
     "name": "stderr",
     "output_type": "stream",
     "text": [
      "\r",
      "  0%|                                                                         | 397/1000000 [01:25<58:27:44,  4.75it/s]"
     ]
    },
    {
     "name": "stdout",
     "output_type": "stream",
     "text": [
      "New best strategy at iteration  396  :  [ 147.  388.  539. 1090.  267.  256.  255.    0.    0.    0.    0.    0.\n",
      "    0.    0.] Expected Profit: 1547834.70277\n",
      "New best strategy at iteration  396  :  [ 147.  388.  539. 1090.  268.  255.  255.    0.    0.    0.    0.    0.\n",
      "    0.    0.] Expected Profit: 1547837.9390699998\n",
      "New best strategy at iteration  396  :  [ 147.  388.  539. 1090.  268.  256.  254.    0.    0.    0.    0.    0.\n",
      "    0.    0.] Expected Profit: 1547841.59397\n",
      "New best strategy at iteration  397  :  [ 146.  388.  539. 1090.  268.  256.  254.    0.    0.    0.    0.    0.\n",
      "    0.    0.] Expected Profit: 1547844.51827\n",
      "New best strategy at iteration  397  :  [ 147.  387.  539. 1090.  268.  256.  254.    0.    0.    0.    0.    0.\n",
      "    0.    0.] Expected Profit: 1547845.99427\n",
      "New best strategy at iteration  397  :  [ 147.  388.  538. 1090.  268.  256.  254.    0.    0.    0.    0.    0.\n",
      "    0.    0.] Expected Profit: 1547847.91327\n",
      "New best strategy at iteration  397  :  [ 147.  388.  539. 1089.  268.  256.  254.    0.    0.    0.    0.    0.\n",
      "    0.    0.] Expected Profit: 1547850.3117699998\n"
     ]
    },
    {
     "name": "stderr",
     "output_type": "stream",
     "text": [
      "\r",
      "  0%|                                                                         | 398/1000000 [01:25<58:46:14,  4.72it/s]"
     ]
    },
    {
     "name": "stdout",
     "output_type": "stream",
     "text": [
      "New best strategy at iteration  397  :  [ 147.  388.  539. 1090.  267.  256.  254.    0.    0.    0.    0.    0.\n",
      "    0.    0.] Expected Profit: 1547853.12547\n",
      "New best strategy at iteration  397  :  [ 147.  388.  539. 1090.  268.  255.  254.    0.    0.    0.    0.    0.\n",
      "    0.    0.] Expected Profit: 1547856.36177\n",
      "New best strategy at iteration  397  :  [ 147.  388.  539. 1090.  268.  256.  253.    0.    0.    0.    0.    0.\n",
      "    0.    0.] Expected Profit: 1547860.01667\n",
      "New best strategy at iteration  398  :  [ 146.  388.  539. 1090.  268.  256.  253.    0.    0.    0.    0.    0.\n",
      "    0.    0.] Expected Profit: 1547862.94097\n",
      "New best strategy at iteration  398  :  [ 147.  387.  539. 1090.  268.  256.  253.    0.    0.    0.    0.    0.\n",
      "    0.    0.] Expected Profit: 1547864.41697\n",
      "New best strategy at iteration  398  :  [ 147.  388.  538. 1090.  268.  256.  253.    0.    0.    0.    0.    0.\n",
      "    0.    0.] Expected Profit: 1547866.3359700001\n",
      "New best strategy at iteration  398  :  [ 147.  388.  539. 1089.  268.  256.  253.    0.    0.    0.    0.    0.\n",
      "    0.    0.] Expected Profit: 1547868.7344699998\n"
     ]
    },
    {
     "name": "stderr",
     "output_type": "stream",
     "text": [
      "\r",
      "  0%|                                                                         | 399/1000000 [01:25<59:00:56,  4.70it/s]"
     ]
    },
    {
     "name": "stdout",
     "output_type": "stream",
     "text": [
      "New best strategy at iteration  398  :  [ 147.  388.  539. 1090.  267.  256.  253.    0.    0.    0.    0.    0.\n",
      "    0.    0.] Expected Profit: 1547871.54817\n",
      "New best strategy at iteration  398  :  [ 147.  388.  539. 1090.  268.  255.  253.    0.    0.    0.    0.    0.\n",
      "    0.    0.] Expected Profit: 1547874.7844699998\n",
      "New best strategy at iteration  398  :  [ 147.  388.  539. 1090.  268.  256.  252.    0.    0.    0.    0.    0.\n",
      "    0.    0.] Expected Profit: 1547878.4393699998\n",
      "New best strategy at iteration  399  :  [ 146.  388.  539. 1090.  268.  256.  252.    0.    0.    0.    0.    0.\n",
      "    0.    0.] Expected Profit: 1547881.3636699999\n",
      "New best strategy at iteration  399  :  [ 147.  387.  539. 1090.  268.  256.  252.    0.    0.    0.    0.    0.\n",
      "    0.    0.] Expected Profit: 1547882.8396700001\n",
      "New best strategy at iteration  399  :  [ 147.  388.  538. 1090.  268.  256.  252.    0.    0.    0.    0.    0.\n",
      "    0.    0.] Expected Profit: 1547884.7586700001\n",
      "New best strategy at iteration  399  :  [ 147.  388.  539. 1089.  268.  256.  252.    0.    0.    0.    0.    0.\n",
      "    0.    0.] Expected Profit: 1547887.1571699998\n",
      "New best strategy at iteration  399  :  [ 147.  388.  539. 1090.  267.  256.  252.    0.    0.    0.    0.    0.\n",
      "    0.    0.] Expected Profit: 1547889.9708699998\n"
     ]
    },
    {
     "name": "stderr",
     "output_type": "stream",
     "text": [
      "\r",
      "  0%|                                                                         | 400/1000000 [01:26<58:45:48,  4.73it/s]"
     ]
    },
    {
     "name": "stdout",
     "output_type": "stream",
     "text": [
      "New best strategy at iteration  399  :  [ 147.  388.  539. 1090.  268.  255.  252.    0.    0.    0.    0.    0.\n",
      "    0.    0.] Expected Profit: 1547893.20717\n",
      "New best strategy at iteration  399  :  [ 147.  388.  539. 1090.  268.  256.  251.    0.    0.    0.    0.    0.\n",
      "    0.    0.] Expected Profit: 1547896.8620700003\n",
      "New best strategy at iteration  400  :  [ 146.  388.  539. 1090.  268.  256.  251.    0.    0.    0.    0.    0.\n",
      "    0.    0.] Expected Profit: 1547899.7863699999\n",
      "New best strategy at iteration  400  :  [ 147.  387.  539. 1090.  268.  256.  251.    0.    0.    0.    0.    0.\n",
      "    0.    0.] Expected Profit: 1547901.26237\n",
      "New best strategy at iteration  400  :  [ 147.  388.  538. 1090.  268.  256.  251.    0.    0.    0.    0.    0.\n",
      "    0.    0.] Expected Profit: 1547903.1813700001\n",
      "New best strategy at iteration  400  :  [ 147.  388.  539. 1089.  268.  256.  251.    0.    0.    0.    0.    0.\n",
      "    0.    0.] Expected Profit: 1547905.5798699998\n",
      "New best strategy at iteration  400  :  [ 147.  388.  539. 1090.  267.  256.  251.    0.    0.    0.    0.    0.\n",
      "    0.    0.] Expected Profit: 1547908.3935699998\n"
     ]
    },
    {
     "name": "stderr",
     "output_type": "stream",
     "text": [
      "\r",
      "  0%|                                                                         | 401/1000000 [01:26<58:59:26,  4.71it/s]"
     ]
    },
    {
     "name": "stdout",
     "output_type": "stream",
     "text": [
      "New best strategy at iteration  400  :  [ 147.  388.  539. 1090.  268.  255.  251.    0.    0.    0.    0.    0.\n",
      "    0.    0.] Expected Profit: 1547911.6298699998\n",
      "New best strategy at iteration  400  :  [ 147.  388.  539. 1090.  268.  256.  250.    0.    0.    0.    0.    0.\n",
      "    0.    0.] Expected Profit: 1547915.28477\n",
      "New best strategy at iteration  401  :  [ 146.  388.  539. 1090.  268.  256.  250.    0.    0.    0.    0.    0.\n",
      "    0.    0.] Expected Profit: 1547918.2090699999\n",
      "New best strategy at iteration  401  :  [ 147.  387.  539. 1090.  268.  256.  250.    0.    0.    0.    0.    0.\n",
      "    0.    0.] Expected Profit: 1547919.68507\n",
      "New best strategy at iteration  401  :  [ 147.  388.  538. 1090.  268.  256.  250.    0.    0.    0.    0.    0.\n",
      "    0.    0.] Expected Profit: 1547921.60407\n",
      "New best strategy at iteration  401  :  [ 147.  388.  539. 1089.  268.  256.  250.    0.    0.    0.    0.    0.\n",
      "    0.    0.] Expected Profit: 1547924.0025699998\n",
      "New best strategy at iteration  401  :  [ 147.  388.  539. 1090.  267.  256.  250.    0.    0.    0.    0.    0.\n",
      "    0.    0.] Expected Profit: 1547926.81627\n"
     ]
    },
    {
     "name": "stderr",
     "output_type": "stream",
     "text": [
      "\r",
      "  0%|                                                                         | 402/1000000 [01:26<59:02:22,  4.70it/s]"
     ]
    },
    {
     "name": "stdout",
     "output_type": "stream",
     "text": [
      "New best strategy at iteration  401  :  [ 147.  388.  539. 1090.  268.  255.  250.    0.    0.    0.    0.    0.\n",
      "    0.    0.] Expected Profit: 1547930.0525699998\n",
      "New best strategy at iteration  401  :  [ 147.  388.  539. 1090.  268.  256.  249.    0.    0.    0.    0.    0.\n",
      "    0.    0.] Expected Profit: 1547933.7074699998\n",
      "New best strategy at iteration  402  :  [ 146.  388.  539. 1090.  268.  256.  249.    0.    0.    0.    0.    0.\n",
      "    0.    0.] Expected Profit: 1547936.63177\n",
      "New best strategy at iteration  402  :  [ 147.  387.  539. 1090.  268.  256.  249.    0.    0.    0.    0.    0.\n",
      "    0.    0.] Expected Profit: 1547938.10777\n",
      "New best strategy at iteration  402  :  [ 147.  388.  538. 1090.  268.  256.  249.    0.    0.    0.    0.    0.\n",
      "    0.    0.] Expected Profit: 1547940.0267699999\n",
      "New best strategy at iteration  402  :  [ 147.  388.  539. 1089.  268.  256.  249.    0.    0.    0.    0.    0.\n",
      "    0.    0.] Expected Profit: 1547942.4252699998\n",
      "New best strategy at iteration  402  :  [ 147.  388.  539. 1090.  267.  256.  249.    0.    0.    0.    0.    0.\n",
      "    0.    0.] Expected Profit: 1547945.23897\n",
      "New best strategy at iteration  402  :  [ 147.  388.  539. 1090.  268.  255.  249.    0.    0.    0.    0.    0.\n",
      "    0.    0.] Expected Profit: 1547948.47527\n"
     ]
    },
    {
     "name": "stderr",
     "output_type": "stream",
     "text": [
      "\r",
      "  0%|                                                                         | 403/1000000 [01:26<59:05:32,  4.70it/s]"
     ]
    },
    {
     "name": "stdout",
     "output_type": "stream",
     "text": [
      "New best strategy at iteration  402  :  [ 147.  388.  539. 1090.  268.  256.  248.    0.    0.    0.    0.    0.\n",
      "    0.    0.] Expected Profit: 1547952.13017\n",
      "New best strategy at iteration  403  :  [ 146.  388.  539. 1090.  268.  256.  248.    0.    0.    0.    0.    0.\n",
      "    0.    0.] Expected Profit: 1547955.0544699999\n",
      "New best strategy at iteration  403  :  [ 147.  387.  539. 1090.  268.  256.  248.    0.    0.    0.    0.    0.\n",
      "    0.    0.] Expected Profit: 1547956.5304699999\n",
      "New best strategy at iteration  403  :  [ 147.  388.  538. 1090.  268.  256.  248.    0.    0.    0.    0.    0.\n",
      "    0.    0.] Expected Profit: 1547958.44947\n",
      "New best strategy at iteration  403  :  [ 147.  388.  539. 1089.  268.  256.  248.    0.    0.    0.    0.    0.\n",
      "    0.    0.] Expected Profit: 1547960.8479699998\n",
      "New best strategy at iteration  403  :  [ 147.  388.  539. 1090.  267.  256.  248.    0.    0.    0.    0.    0.\n",
      "    0.    0.] Expected Profit: 1547963.66167\n",
      "New best strategy at iteration  403  :  [ 147.  388.  539. 1090.  268.  255.  248.    0.    0.    0.    0.    0.\n",
      "    0.    0.] Expected Profit: 1547966.8979699998\n",
      "New best strategy at iteration  403  :  [ 147.  388.  539. 1090.  268.  256.  247.    0.    0.    0.    0.    0.\n",
      "    0.    0.] Expected Profit: 1547970.5528699998\n"
     ]
    },
    {
     "name": "stderr",
     "output_type": "stream",
     "text": [
      "  0%|                                                                         | 405/1000000 [01:27<58:30:01,  4.75it/s]"
     ]
    },
    {
     "name": "stdout",
     "output_type": "stream",
     "text": [
      "New best strategy at iteration  404  :  [ 146.  388.  539. 1090.  268.  256.  247.    0.    0.    0.    0.    0.\n",
      "    0.    0.] Expected Profit: 1547973.4771699999\n",
      "New best strategy at iteration  404  :  [ 147.  387.  539. 1090.  268.  256.  247.    0.    0.    0.    0.    0.\n",
      "    0.    0.] Expected Profit: 1547974.95317\n",
      "New best strategy at iteration  404  :  [ 147.  388.  538. 1090.  268.  256.  247.    0.    0.    0.    0.    0.\n",
      "    0.    0.] Expected Profit: 1547976.8721699999\n",
      "New best strategy at iteration  404  :  [ 147.  388.  539. 1089.  268.  256.  247.    0.    0.    0.    0.    0.\n",
      "    0.    0.] Expected Profit: 1547979.2706699995\n",
      "New best strategy at iteration  404  :  [ 147.  388.  539. 1090.  267.  256.  247.    0.    0.    0.    0.    0.\n",
      "    0.    0.] Expected Profit: 1547982.0843699998\n",
      "New best strategy at iteration  404  :  [ 147.  388.  539. 1090.  268.  255.  247.    0.    0.    0.    0.    0.\n",
      "    0.    0.] Expected Profit: 1547985.3206699998\n",
      "New best strategy at iteration  404  :  [ 147.  388.  539. 1090.  268.  256.  246.    0.    0.    0.    0.    0.\n",
      "    0.    0.] Expected Profit: 1547988.9755700002\n",
      "New best strategy at iteration  405  :  [ 146.  388.  539. 1090.  268.  256.  246.    0.    0.    0.    0.    0.\n",
      "    0.    0.] Expected Profit: 1547991.8998699998\n",
      "New best strategy at iteration  405  :  [ 147.  387.  539. 1090.  268.  256.  246.    0.    0.    0.    0.    0.\n",
      "    0.    0.] Expected Profit: 1547993.3758699999\n",
      "New best strategy at iteration  405  :  [ 147.  388.  538. 1090.  268.  256.  246.    0.    0.    0.    0.    0.\n",
      "    0.    0.] Expected Profit: 1547995.29487\n",
      "New best strategy at iteration  405  :  [ 147.  388.  539. 1089.  268.  256.  246.    0.    0.    0.    0.    0.\n",
      "    0.    0.] Expected Profit: 1547997.69337\n",
      "New best strategy at iteration  405  :  [ 147.  388.  539. 1090.  267.  256.  246.    0.    0.    0.    0.    0.\n",
      "    0.    0.] Expected Profit: 1548000.5070699998\n",
      "New best strategy at iteration  405  :  [ 147.  388.  539. 1090.  268.  255.  246.    0.    0.    0.    0.    0.\n",
      "    0.    0.] Expected Profit: 1548003.7433699998\n",
      "New best strategy at iteration  405  :  [ 147.  388.  539. 1090.  268.  256.  245.    0.    0.    0.    0.    0.\n",
      "    0.    0.] Expected Profit: 1548007.39827\n"
     ]
    },
    {
     "name": "stderr",
     "output_type": "stream",
     "text": [
      "  0%|                                                                         | 407/1000000 [01:27<58:30:09,  4.75it/s]"
     ]
    },
    {
     "name": "stdout",
     "output_type": "stream",
     "text": [
      "New best strategy at iteration  406  :  [ 146.  388.  539. 1090.  268.  256.  245.    0.    0.    0.    0.    0.\n",
      "    0.    0.] Expected Profit: 1548010.32257\n",
      "New best strategy at iteration  406  :  [ 147.  387.  539. 1090.  268.  256.  245.    0.    0.    0.    0.    0.\n",
      "    0.    0.] Expected Profit: 1548011.79857\n",
      "New best strategy at iteration  406  :  [ 147.  388.  538. 1090.  268.  256.  245.    0.    0.    0.    0.    0.\n",
      "    0.    0.] Expected Profit: 1548013.71757\n",
      "New best strategy at iteration  406  :  [ 147.  388.  539. 1089.  268.  256.  245.    0.    0.    0.    0.    0.\n",
      "    0.    0.] Expected Profit: 1548016.11607\n",
      "New best strategy at iteration  406  :  [ 147.  388.  539. 1090.  267.  256.  245.    0.    0.    0.    0.    0.\n",
      "    0.    0.] Expected Profit: 1548018.92977\n",
      "New best strategy at iteration  406  :  [ 147.  388.  539. 1090.  268.  255.  245.    0.    0.    0.    0.    0.\n",
      "    0.    0.] Expected Profit: 1548022.16607\n",
      "New best strategy at iteration  406  :  [ 147.  388.  539. 1090.  268.  256.  244.    0.    0.    0.    0.    0.\n",
      "    0.    0.] Expected Profit: 1548025.8209700002\n",
      "New best strategy at iteration  407  :  [ 146.  388.  539. 1090.  268.  256.  244.    0.    0.    0.    0.    0.\n",
      "    0.    0.] Expected Profit: 1548028.74527\n",
      "New best strategy at iteration  407  :  [ 147.  387.  539. 1090.  268.  256.  244.    0.    0.    0.    0.    0.\n",
      "    0.    0.] Expected Profit: 1548030.22127\n",
      "New best strategy at iteration  407  :  [ 147.  388.  538. 1090.  268.  256.  244.    0.    0.    0.    0.    0.\n",
      "    0.    0.] Expected Profit: 1548032.1402700003\n",
      "New best strategy at iteration  407  :  [ 147.  388.  539. 1089.  268.  256.  244.    0.    0.    0.    0.    0.\n",
      "    0.    0.] Expected Profit: 1548034.53877\n",
      "New best strategy at iteration  407  :  [ 147.  388.  539. 1090.  267.  256.  244.    0.    0.    0.    0.    0.\n",
      "    0.    0.] Expected Profit: 1548037.35247\n",
      "New best strategy at iteration  407  :  [ 147.  388.  539. 1090.  268.  255.  244.    0.    0.    0.    0.    0.\n",
      "    0.    0.] Expected Profit: 1548040.58877\n",
      "New best strategy at iteration  407  :  [ 147.  388.  539. 1090.  268.  256.  243.    0.    0.    0.    0.    0.\n",
      "    0.    0.] Expected Profit: 1548044.2436699998\n"
     ]
    },
    {
     "name": "stderr",
     "output_type": "stream",
     "text": [
      "  0%|                                                                         | 409/1000000 [01:28<65:43:59,  4.22it/s]"
     ]
    },
    {
     "name": "stdout",
     "output_type": "stream",
     "text": [
      "New best strategy at iteration  408  :  [ 146.  388.  539. 1090.  268.  256.  243.    0.    0.    0.    0.    0.\n",
      "    0.    0.] Expected Profit: 1548047.1679699998\n",
      "New best strategy at iteration  408  :  [ 147.  387.  539. 1090.  268.  256.  243.    0.    0.    0.    0.    0.\n",
      "    0.    0.] Expected Profit: 1548048.6439699999\n",
      "New best strategy at iteration  408  :  [ 147.  388.  538. 1090.  268.  256.  243.    0.    0.    0.    0.    0.\n",
      "    0.    0.] Expected Profit: 1548050.56297\n",
      "New best strategy at iteration  408  :  [ 147.  388.  539. 1089.  268.  256.  243.    0.    0.    0.    0.    0.\n",
      "    0.    0.] Expected Profit: 1548052.9614699997\n",
      "New best strategy at iteration  408  :  [ 147.  388.  539. 1090.  267.  256.  243.    0.    0.    0.    0.    0.\n",
      "    0.    0.] Expected Profit: 1548055.7751699998\n",
      "New best strategy at iteration  408  :  [ 147.  388.  539. 1090.  268.  255.  243.    0.    0.    0.    0.    0.\n",
      "    0.    0.] Expected Profit: 1548059.0114699998\n",
      "New best strategy at iteration  408  :  [ 147.  388.  539. 1090.  268.  256.  242.    0.    0.    0.    0.    0.\n",
      "    0.    0.] Expected Profit: 1548062.66637\n"
     ]
    },
    {
     "name": "stderr",
     "output_type": "stream",
     "text": [
      "\r",
      "  0%|                                                                         | 410/1000000 [01:28<63:32:32,  4.37it/s]"
     ]
    },
    {
     "name": "stdout",
     "output_type": "stream",
     "text": [
      "New best strategy at iteration  409  :  [ 146.  388.  539. 1090.  268.  256.  242.    0.    0.    0.    0.    0.\n",
      "    0.    0.] Expected Profit: 1548065.59067\n",
      "New best strategy at iteration  409  :  [ 147.  387.  539. 1090.  268.  256.  242.    0.    0.    0.    0.    0.\n",
      "    0.    0.] Expected Profit: 1548067.0666699999\n",
      "New best strategy at iteration  409  :  [ 147.  388.  538. 1090.  268.  256.  242.    0.    0.    0.    0.    0.\n",
      "    0.    0.] Expected Profit: 1548068.98567\n",
      "New best strategy at iteration  409  :  [ 147.  388.  539. 1089.  268.  256.  242.    0.    0.    0.    0.    0.\n",
      "    0.    0.] Expected Profit: 1548071.3841699997\n",
      "New best strategy at iteration  409  :  [ 147.  388.  539. 1090.  267.  256.  242.    0.    0.    0.    0.    0.\n",
      "    0.    0.] Expected Profit: 1548074.1978699998\n",
      "New best strategy at iteration  409  :  [ 147.  388.  539. 1090.  268.  255.  242.    0.    0.    0.    0.    0.\n",
      "    0.    0.] Expected Profit: 1548077.43417\n",
      "New best strategy at iteration  409  :  [ 147.  388.  539. 1090.  268.  256.  241.    0.    0.    0.    0.    0.\n",
      "    0.    0.] Expected Profit: 1548081.0890700002\n",
      "New best strategy at iteration  410  :  [ 146.  388.  539. 1090.  268.  256.  241.    0.    0.    0.    0.    0.\n",
      "    0.    0.] Expected Profit: 1548084.0133699998\n",
      "New best strategy at iteration  410  :  [ 147.  387.  539. 1090.  268.  256.  241.    0.    0.    0.    0.    0.\n",
      "    0.    0.] Expected Profit: 1548085.4893699999\n",
      "New best strategy at iteration  410  :  [ 147.  388.  538. 1090.  268.  256.  241.    0.    0.    0.    0.    0.\n",
      "    0.    0.] Expected Profit: 1548087.40837\n",
      "New best strategy at iteration  410  :  [ 147.  388.  539. 1089.  268.  256.  241.    0.    0.    0.    0.    0.\n",
      "    0.    0.] Expected Profit: 1548089.80687\n",
      "New best strategy at iteration  410  :  [ 147.  388.  539. 1090.  267.  256.  241.    0.    0.    0.    0.    0.\n",
      "    0.    0.] Expected Profit: 1548092.6205700003\n"
     ]
    },
    {
     "name": "stderr",
     "output_type": "stream",
     "text": [
      "  0%|                                                                         | 412/1000000 [01:28<60:45:50,  4.57it/s]"
     ]
    },
    {
     "name": "stdout",
     "output_type": "stream",
     "text": [
      "New best strategy at iteration  411  :  [ 146.  388.  539. 1090.  267.  256.  241.    0.    0.    0.    0.    0.\n",
      "    0.    0.] Expected Profit: 1548095.54487\n",
      "New best strategy at iteration  411  :  [ 147.  387.  539. 1090.  267.  256.  241.    0.    0.    0.    0.    0.\n",
      "    0.    0.] Expected Profit: 1548097.02087\n",
      "New best strategy at iteration  412  :  [ 146.  387.  539. 1090.  267.  256.  241.    0.    0.    0.    0.    0.\n",
      "    0.    0.] Expected Profit: 1548099.94517\n",
      "New best strategy at iteration  412  :  [ 147.  386.  539. 1090.  267.  256.  241.    0.    0.    0.    0.    0.\n",
      "    0.    0.] Expected Profit: 1548101.42117\n",
      "New best strategy at iteration  412  :  [ 147.  387.  538. 1090.  267.  256.  241.    0.    0.    0.    0.    0.\n",
      "    0.    0.] Expected Profit: 1548103.34017\n"
     ]
    },
    {
     "name": "stderr",
     "output_type": "stream",
     "text": [
      "\r",
      "  0%|                                                                         | 413/1000000 [01:28<60:38:24,  4.58it/s]"
     ]
    },
    {
     "name": "stdout",
     "output_type": "stream",
     "text": [
      "New best strategy at iteration  413  :  [ 146.  387.  538. 1090.  267.  256.  241.    0.    0.    0.    0.    0.\n",
      "    0.    0.] Expected Profit: 1548106.2644700003\n"
     ]
    },
    {
     "name": "stderr",
     "output_type": "stream",
     "text": [
      "\r",
      "  0%|                                                                         | 414/1000000 [01:29<66:12:16,  4.19it/s]"
     ]
    },
    {
     "name": "stdout",
     "output_type": "stream",
     "text": [
      "New best strategy at iteration  414  :  [ 145.  387.  538. 1090.  267.  256.  241.    0.    0.    0.    0.    0.\n",
      "    0.    0.] Expected Profit: 1548109.18877\n"
     ]
    },
    {
     "name": "stderr",
     "output_type": "stream",
     "text": [
      "\r",
      "  0%|                                                                         | 415/1000000 [01:29<69:08:42,  4.02it/s]"
     ]
    },
    {
     "name": "stdout",
     "output_type": "stream",
     "text": [
      "New best strategy at iteration  415  :  [ 144.  387.  538. 1090.  267.  256.  241.    0.    0.    0.    0.    0.\n",
      "    0.    0.] Expected Profit: 1548112.1130700002\n",
      "New best strategy at iteration  415  :  [ 145.  386.  538. 1090.  267.  256.  241.    0.    0.    0.    0.    0.\n",
      "    0.    0.] Expected Profit: 1548113.5890700002\n",
      "New best strategy at iteration  415  :  [ 145.  387.  537. 1090.  267.  256.  241.    0.    0.    0.    0.    0.\n",
      "    0.    0.] Expected Profit: 1548115.5080700002\n"
     ]
    },
    {
     "name": "stderr",
     "output_type": "stream",
     "text": [
      "  0%|                                                                         | 417/1000000 [01:29<63:35:22,  4.37it/s]"
     ]
    },
    {
     "name": "stdout",
     "output_type": "stream",
     "text": [
      "New best strategy at iteration  416  :  [ 144.  387.  537. 1090.  267.  256.  241.    0.    0.    0.    0.    0.\n",
      "    0.    0.] Expected Profit: 1548118.43237\n",
      "New best strategy at iteration  416  :  [ 145.  386.  537. 1090.  267.  256.  241.    0.    0.    0.    0.    0.\n",
      "    0.    0.] Expected Profit: 1548119.9083699998\n",
      "New best strategy at iteration  416  :  [ 145.  387.  536. 1090.  267.  256.  241.    0.    0.    0.    0.    0.\n",
      "    0.    0.] Expected Profit: 1548121.82737\n",
      "New best strategy at iteration  416  :  [ 145.  387.  537. 1089.  267.  256.  241.    0.    0.    0.    0.    0.\n",
      "    0.    0.] Expected Profit: 1548124.2258700002\n",
      "New best strategy at iteration  416  :  [ 145.  387.  537. 1090.  266.  256.  241.    0.    0.    0.    0.    0.\n",
      "    0.    0.] Expected Profit: 1548127.0395700003\n",
      "New best strategy at iteration  416  :  [ 145.  387.  537. 1090.  267.  255.  241.    0.    0.    0.    0.    0.\n",
      "    0.    0.] Expected Profit: 1548130.2758699998\n",
      "New best strategy at iteration  416  :  [ 145.  387.  537. 1090.  267.  256.  240.    0.    0.    0.    0.    0.\n",
      "    0.    0.] Expected Profit: 1548133.93077\n"
     ]
    },
    {
     "name": "stderr",
     "output_type": "stream",
     "text": [
      "\r",
      "  0%|                                                                         | 418/1000000 [01:30<62:31:02,  4.44it/s]"
     ]
    },
    {
     "name": "stdout",
     "output_type": "stream",
     "text": [
      "New best strategy at iteration  417  :  [ 144.  387.  537. 1090.  267.  256.  240.    0.    0.    0.    0.    0.\n",
      "    0.    0.] Expected Profit: 1548136.8550700003\n",
      "New best strategy at iteration  417  :  [ 145.  386.  537. 1090.  267.  256.  240.    0.    0.    0.    0.    0.\n",
      "    0.    0.] Expected Profit: 1548138.33107\n",
      "New best strategy at iteration  417  :  [ 145.  387.  536. 1090.  267.  256.  240.    0.    0.    0.    0.    0.\n",
      "    0.    0.] Expected Profit: 1548140.25007\n",
      "New best strategy at iteration  417  :  [ 145.  387.  537. 1089.  267.  256.  240.    0.    0.    0.    0.    0.\n",
      "    0.    0.] Expected Profit: 1548142.64857\n",
      "New best strategy at iteration  417  :  [ 145.  387.  537. 1090.  266.  256.  240.    0.    0.    0.    0.    0.\n",
      "    0.    0.] Expected Profit: 1548145.46227\n",
      "New best strategy at iteration  417  :  [ 145.  387.  537. 1090.  267.  255.  240.    0.    0.    0.    0.    0.\n",
      "    0.    0.] Expected Profit: 1548148.69857\n",
      "New best strategy at iteration  417  :  [ 145.  387.  537. 1090.  267.  256.  239.    0.    0.    0.    0.    0.\n",
      "    0.    0.] Expected Profit: 1548152.3534699997\n",
      "New best strategy at iteration  418  :  [ 144.  387.  537. 1090.  267.  256.  239.    0.    0.    0.    0.    0.\n",
      "    0.    0.] Expected Profit: 1548155.27777\n",
      "New best strategy at iteration  418  :  [ 145.  386.  537. 1090.  267.  256.  239.    0.    0.    0.    0.    0.\n",
      "    0.    0.] Expected Profit: 1548156.75377\n",
      "New best strategy at iteration  418  :  [ 145.  387.  536. 1090.  267.  256.  239.    0.    0.    0.    0.    0.\n",
      "    0.    0.] Expected Profit: 1548158.67277\n",
      "New best strategy at iteration  418  :  [ 145.  387.  537. 1089.  267.  256.  239.    0.    0.    0.    0.    0.\n",
      "    0.    0.] Expected Profit: 1548161.0712699997\n",
      "New best strategy at iteration  418  :  [ 145.  387.  537. 1090.  266.  256.  239.    0.    0.    0.    0.    0.\n",
      "    0.    0.] Expected Profit: 1548163.88497\n",
      "New best strategy at iteration  418  :  [ 145.  387.  537. 1090.  267.  255.  239.    0.    0.    0.    0.    0.\n",
      "    0.    0.] Expected Profit: 1548167.12127\n",
      "New best strategy at iteration  418  :  [ 145.  387.  537. 1090.  267.  256.  238.    0.    0.    0.    0.    0.\n",
      "    0.    0.] Expected Profit: 1548170.77617\n"
     ]
    },
    {
     "name": "stderr",
     "output_type": "stream",
     "text": [
      "\r",
      "  0%|                                                                         | 419/1000000 [01:30<61:35:53,  4.51it/s]"
     ]
    },
    {
     "name": "stdout",
     "output_type": "stream",
     "text": [
      "New best strategy at iteration  419  :  [ 144.  387.  537. 1090.  267.  256.  238.    0.    0.    0.    0.    0.\n",
      "    0.    0.] Expected Profit: 1548173.7004699998\n",
      "New best strategy at iteration  419  :  [ 145.  386.  537. 1090.  267.  256.  238.    0.    0.    0.    0.    0.\n",
      "    0.    0.] Expected Profit: 1548175.17647\n",
      "New best strategy at iteration  419  :  [ 145.  387.  536. 1090.  267.  256.  238.    0.    0.    0.    0.    0.\n",
      "    0.    0.] Expected Profit: 1548177.09547\n",
      "New best strategy at iteration  419  :  [ 145.  387.  537. 1089.  267.  256.  238.    0.    0.    0.    0.    0.\n",
      "    0.    0.] Expected Profit: 1548179.49397\n",
      "New best strategy at iteration  419  :  [ 145.  387.  537. 1090.  266.  256.  238.    0.    0.    0.    0.    0.\n",
      "    0.    0.] Expected Profit: 1548182.30767\n",
      "New best strategy at iteration  419  :  [ 145.  387.  537. 1090.  267.  255.  238.    0.    0.    0.    0.    0.\n",
      "    0.    0.] Expected Profit: 1548185.54397\n",
      "New best strategy at iteration  419  :  [ 145.  387.  537. 1090.  267.  256.  237.    0.    0.    0.    0.    0.\n",
      "    0.    0.] Expected Profit: 1548189.1988700002\n"
     ]
    },
    {
     "name": "stderr",
     "output_type": "stream",
     "text": [
      "  0%|                                                                         | 421/1000000 [01:30<60:06:15,  4.62it/s]"
     ]
    },
    {
     "name": "stdout",
     "output_type": "stream",
     "text": [
      "Start: [ 145.  387.  537. 1090.  267.  256.  237.    0.    0.    0.    0.    0.\n",
      "    0.    0.] Expected Profit:  1548189.1988700002\n"
     ]
    },
    {
     "name": "stderr",
     "output_type": "stream",
     "text": [
      "  0%|                                                                         | 458/1000000 [01:38<58:13:16,  4.77it/s]"
     ]
    },
    {
     "name": "stdout",
     "output_type": "stream",
     "text": [
      "New best strategy at iteration  458  :  [ 147.  222.  701.   50. 1039. 1102.   65.    0.    0.    0.    0.    0.\n",
      "    0.    0.] Expected Profit: 1538712.3741699997\n",
      "New best strategy at iteration  458  :  [ 145.  222.  701.   50. 1039. 1102.   65.    0.    0.    0.    0.    0.\n",
      "    0.    0.] Expected Profit: 1538718.2227699999\n",
      "New best strategy at iteration  458  :  [ 146.  221.  701.   50. 1039. 1102.   65.    0.    0.    0.    0.    0.\n",
      "    0.    0.] Expected Profit: 1538719.69877\n",
      "New best strategy at iteration  458  :  [ 146.  222.  700.   50. 1039. 1102.   65.    0.    0.    0.    0.    0.\n",
      "    0.    0.] Expected Profit: 1538721.61777\n",
      "New best strategy at iteration  458  :  [ 146.  222.  701.   49. 1039. 1102.   65.    0.    0.    0.    0.    0.\n",
      "    0.    0.] Expected Profit: 1538724.0162699998\n",
      "New best strategy at iteration  458  :  [ 146.  222.  701.   50. 1038. 1102.   65.    0.    0.    0.    0.    0.\n",
      "    0.    0.] Expected Profit: 1538726.8299699998\n",
      "New best strategy at iteration  458  :  [ 146.  222.  701.   50. 1039. 1101.   65.    0.    0.    0.    0.    0.\n",
      "    0.    0.] Expected Profit: 1538730.06627\n",
      "New best strategy at iteration  458  :  [ 146.  222.  701.   50. 1039. 1102.   64.    0.    0.    0.    0.    0.\n",
      "    0.    0.] Expected Profit: 1538733.72117\n"
     ]
    },
    {
     "name": "stderr",
     "output_type": "stream",
     "text": [
      "  0%|                                                                         | 460/1000000 [01:38<58:18:35,  4.76it/s]"
     ]
    },
    {
     "name": "stdout",
     "output_type": "stream",
     "text": [
      "New best strategy at iteration  459  :  [ 145.  222.  701.   50. 1039. 1102.   64.    0.    0.    0.    0.    0.\n",
      "    0.    0.] Expected Profit: 1538736.64547\n",
      "New best strategy at iteration  459  :  [ 146.  221.  701.   50. 1039. 1102.   64.    0.    0.    0.    0.    0.\n",
      "    0.    0.] Expected Profit: 1538738.1214700001\n",
      "New best strategy at iteration  459  :  [ 146.  222.  700.   50. 1039. 1102.   64.    0.    0.    0.    0.    0.\n",
      "    0.    0.] Expected Profit: 1538740.0404700001\n",
      "New best strategy at iteration  459  :  [ 146.  222.  701.   49. 1039. 1102.   64.    0.    0.    0.    0.    0.\n",
      "    0.    0.] Expected Profit: 1538742.4389699998\n",
      "New best strategy at iteration  459  :  [ 146.  222.  701.   50. 1038. 1102.   64.    0.    0.    0.    0.    0.\n",
      "    0.    0.] Expected Profit: 1538745.2526699998\n",
      "New best strategy at iteration  459  :  [ 146.  222.  701.   50. 1039. 1101.   64.    0.    0.    0.    0.    0.\n",
      "    0.    0.] Expected Profit: 1538748.4889700003\n",
      "New best strategy at iteration  459  :  [ 146.  222.  701.   50. 1039. 1102.   63.    0.    0.    0.    0.    0.\n",
      "    0.    0.] Expected Profit: 1538752.1438699998\n"
     ]
    },
    {
     "name": "stderr",
     "output_type": "stream",
     "text": [
      "\r",
      "  0%|                                                                         | 461/1000000 [01:39<59:13:44,  4.69it/s]"
     ]
    },
    {
     "name": "stdout",
     "output_type": "stream",
     "text": [
      "New best strategy at iteration  460  :  [ 145.  222.  701.   50. 1039. 1102.   63.    0.    0.    0.    0.    0.\n",
      "    0.    0.] Expected Profit: 1538755.06817\n",
      "New best strategy at iteration  460  :  [ 146.  221.  701.   50. 1039. 1102.   63.    0.    0.    0.    0.    0.\n",
      "    0.    0.] Expected Profit: 1538756.5441700001\n",
      "New best strategy at iteration  460  :  [ 146.  222.  700.   50. 1039. 1102.   63.    0.    0.    0.    0.    0.\n",
      "    0.    0.] Expected Profit: 1538758.4631700001\n",
      "New best strategy at iteration  460  :  [ 146.  222.  701.   49. 1039. 1102.   63.    0.    0.    0.    0.    0.\n",
      "    0.    0.] Expected Profit: 1538760.8616699998\n",
      "New best strategy at iteration  460  :  [ 146.  222.  701.   50. 1038. 1102.   63.    0.    0.    0.    0.    0.\n",
      "    0.    0.] Expected Profit: 1538763.6753699998\n",
      "New best strategy at iteration  460  :  [ 146.  222.  701.   50. 1039. 1101.   63.    0.    0.    0.    0.    0.\n",
      "    0.    0.] Expected Profit: 1538766.91167\n",
      "New best strategy at iteration  460  :  [ 146.  222.  701.   50. 1039. 1102.   62.    0.    0.    0.    0.    0.\n",
      "    0.    0.] Expected Profit: 1538770.56657\n"
     ]
    },
    {
     "name": "stderr",
     "output_type": "stream",
     "text": [
      "\r",
      "  0%|                                                                         | 462/1000000 [01:39<59:15:35,  4.69it/s]"
     ]
    },
    {
     "name": "stdout",
     "output_type": "stream",
     "text": [
      "New best strategy at iteration  461  :  [ 145.  222.  701.   50. 1039. 1102.   62.    0.    0.    0.    0.    0.\n",
      "    0.    0.] Expected Profit: 1538773.4908699999\n",
      "New best strategy at iteration  461  :  [ 146.  221.  701.   50. 1039. 1102.   62.    0.    0.    0.    0.    0.\n",
      "    0.    0.] Expected Profit: 1538774.96687\n",
      "New best strategy at iteration  461  :  [ 146.  222.  700.   50. 1039. 1102.   62.    0.    0.    0.    0.    0.\n",
      "    0.    0.] Expected Profit: 1538776.8858699999\n",
      "New best strategy at iteration  461  :  [ 146.  222.  701.   49. 1039. 1102.   62.    0.    0.    0.    0.    0.\n",
      "    0.    0.] Expected Profit: 1538779.2843699998\n",
      "New best strategy at iteration  461  :  [ 146.  222.  701.   50. 1038. 1102.   62.    0.    0.    0.    0.    0.\n",
      "    0.    0.] Expected Profit: 1538782.0980699996\n",
      "New best strategy at iteration  461  :  [ 146.  222.  701.   50. 1039. 1101.   62.    0.    0.    0.    0.    0.\n",
      "    0.    0.] Expected Profit: 1538785.3343699998\n",
      "New best strategy at iteration  461  :  [ 146.  222.  701.   50. 1039. 1102.   61.    0.    0.    0.    0.    0.\n",
      "    0.    0.] Expected Profit: 1538788.98927\n"
     ]
    },
    {
     "name": "stderr",
     "output_type": "stream",
     "text": [
      "\r",
      "  0%|                                                                         | 463/1000000 [01:39<59:08:23,  4.69it/s]"
     ]
    },
    {
     "name": "stdout",
     "output_type": "stream",
     "text": [
      "New best strategy at iteration  462  :  [ 145.  222.  701.   50. 1039. 1102.   61.    0.    0.    0.    0.    0.\n",
      "    0.    0.] Expected Profit: 1538791.9135699999\n",
      "New best strategy at iteration  462  :  [ 146.  221.  701.   50. 1039. 1102.   61.    0.    0.    0.    0.    0.\n",
      "    0.    0.] Expected Profit: 1538793.3895699999\n",
      "New best strategy at iteration  462  :  [ 146.  222.  700.   50. 1039. 1102.   61.    0.    0.    0.    0.    0.\n",
      "    0.    0.] Expected Profit: 1538795.3085699999\n",
      "New best strategy at iteration  462  :  [ 146.  222.  701.   49. 1039. 1102.   61.    0.    0.    0.    0.    0.\n",
      "    0.    0.] Expected Profit: 1538797.7070699998\n",
      "New best strategy at iteration  462  :  [ 146.  222.  701.   50. 1038. 1102.   61.    0.    0.    0.    0.    0.\n",
      "    0.    0.] Expected Profit: 1538800.5207699998\n",
      "New best strategy at iteration  462  :  [ 146.  222.  701.   50. 1039. 1101.   61.    0.    0.    0.    0.    0.\n",
      "    0.    0.] Expected Profit: 1538803.7570700003\n",
      "New best strategy at iteration  462  :  [ 146.  222.  701.   50. 1039. 1102.   60.    0.    0.    0.    0.    0.\n",
      "    0.    0.] Expected Profit: 1538807.4119699998\n",
      "New best strategy at iteration  463  :  [ 145.  222.  701.   50. 1039. 1102.   60.    0.    0.    0.    0.    0.\n",
      "    0.    0.] Expected Profit: 1538810.33627\n",
      "New best strategy at iteration  463  :  [ 146.  221.  701.   50. 1039. 1102.   60.    0.    0.    0.    0.    0.\n",
      "    0.    0.] Expected Profit: 1538811.8122699999\n",
      "New best strategy at iteration  463  :  [ 146.  222.  700.   50. 1039. 1102.   60.    0.    0.    0.    0.    0.\n",
      "    0.    0.] Expected Profit: 1538813.7312699999\n",
      "New best strategy at iteration  463  :  [ 146.  222.  701.   49. 1039. 1102.   60.    0.    0.    0.    0.    0.\n",
      "    0.    0.] Expected Profit: 1538816.1297699998\n",
      "New best strategy at iteration  463  :  [ 146.  222.  701.   50. 1038. 1102.   60.    0.    0.    0.    0.    0.\n",
      "    0.    0.] Expected Profit: 1538818.9434699998\n",
      "New best strategy at iteration  463  :  [ 146.  222.  701.   50. 1039. 1101.   60.    0.    0.    0.    0.    0.\n",
      "    0.    0.] Expected Profit: 1538822.17977\n",
      "New best strategy at iteration  463  :  [ 146.  222.  701.   50. 1039. 1102.   59.    0.    0.    0.    0.    0.\n",
      "    0.    0.] Expected Profit: 1538825.83467\n"
     ]
    },
    {
     "name": "stderr",
     "output_type": "stream",
     "text": [
      "\r",
      "  0%|                                                                         | 464/1000000 [01:39<59:12:52,  4.69it/s]"
     ]
    },
    {
     "name": "stdout",
     "output_type": "stream",
     "text": [
      "New best strategy at iteration  464  :  [ 145.  222.  701.   50. 1039. 1102.   59.    0.    0.    0.    0.    0.\n",
      "    0.    0.] Expected Profit: 1538828.75897\n",
      "New best strategy at iteration  464  :  [ 146.  221.  701.   50. 1039. 1102.   59.    0.    0.    0.    0.    0.\n",
      "    0.    0.] Expected Profit: 1538830.23497\n",
      "New best strategy at iteration  464  :  [ 146.  222.  700.   50. 1039. 1102.   59.    0.    0.    0.    0.    0.\n",
      "    0.    0.] Expected Profit: 1538832.15397\n",
      "New best strategy at iteration  464  :  [ 146.  222.  701.   49. 1039. 1102.   59.    0.    0.    0.    0.    0.\n",
      "    0.    0.] Expected Profit: 1538834.5524699998\n",
      "New best strategy at iteration  464  :  [ 146.  222.  701.   50. 1038. 1102.   59.    0.    0.    0.    0.    0.\n",
      "    0.    0.] Expected Profit: 1538837.3661699998\n",
      "New best strategy at iteration  464  :  [ 146.  222.  701.   50. 1039. 1101.   59.    0.    0.    0.    0.    0.\n",
      "    0.    0.] Expected Profit: 1538840.6024700003\n",
      "New best strategy at iteration  464  :  [ 146.  222.  701.   50. 1039. 1102.   58.    0.    0.    0.    0.    0.\n",
      "    0.    0.] Expected Profit: 1538844.2573699995\n"
     ]
    },
    {
     "name": "stderr",
     "output_type": "stream",
     "text": [
      "  0%|                                                                         | 466/1000000 [01:40<59:24:26,  4.67it/s]"
     ]
    },
    {
     "name": "stdout",
     "output_type": "stream",
     "text": [
      "New best strategy at iteration  465  :  [ 145.  222.  701.   50. 1039. 1102.   58.    0.    0.    0.    0.    0.\n",
      "    0.    0.] Expected Profit: 1538847.1816699998\n",
      "New best strategy at iteration  465  :  [ 146.  221.  701.   50. 1039. 1102.   58.    0.    0.    0.    0.    0.\n",
      "    0.    0.] Expected Profit: 1538848.65767\n",
      "New best strategy at iteration  465  :  [ 146.  222.  700.   50. 1039. 1102.   58.    0.    0.    0.    0.    0.\n",
      "    0.    0.] Expected Profit: 1538850.5766699999\n",
      "New best strategy at iteration  465  :  [ 146.  222.  701.   49. 1039. 1102.   58.    0.    0.    0.    0.    0.\n",
      "    0.    0.] Expected Profit: 1538852.9751699995\n",
      "New best strategy at iteration  465  :  [ 146.  222.  701.   50. 1038. 1102.   58.    0.    0.    0.    0.    0.\n",
      "    0.    0.] Expected Profit: 1538855.7888699996\n",
      "New best strategy at iteration  465  :  [ 146.  222.  701.   50. 1039. 1101.   58.    0.    0.    0.    0.    0.\n",
      "    0.    0.] Expected Profit: 1538859.02517\n",
      "New best strategy at iteration  465  :  [ 146.  222.  701.   50. 1039. 1102.   57.    0.    0.    0.    0.    0.\n",
      "    0.    0.] Expected Profit: 1538862.68007\n"
     ]
    },
    {
     "name": "stderr",
     "output_type": "stream",
     "text": [
      "\r",
      "  0%|                                                                         | 467/1000000 [01:40<59:13:23,  4.69it/s]"
     ]
    },
    {
     "name": "stdout",
     "output_type": "stream",
     "text": [
      "New best strategy at iteration  466  :  [ 145.  222.  701.   50. 1039. 1102.   57.    0.    0.    0.    0.    0.\n",
      "    0.    0.] Expected Profit: 1538865.6043699998\n",
      "New best strategy at iteration  466  :  [ 146.  221.  701.   50. 1039. 1102.   57.    0.    0.    0.    0.    0.\n",
      "    0.    0.] Expected Profit: 1538867.0803699999\n",
      "New best strategy at iteration  466  :  [ 146.  222.  700.   50. 1039. 1102.   57.    0.    0.    0.    0.    0.\n",
      "    0.    0.] Expected Profit: 1538868.9993699999\n",
      "New best strategy at iteration  466  :  [ 146.  222.  701.   49. 1039. 1102.   57.    0.    0.    0.    0.    0.\n",
      "    0.    0.] Expected Profit: 1538871.39787\n",
      "New best strategy at iteration  466  :  [ 146.  222.  701.   50. 1038. 1102.   57.    0.    0.    0.    0.    0.\n",
      "    0.    0.] Expected Profit: 1538874.2115699998\n",
      "New best strategy at iteration  466  :  [ 146.  222.  701.   50. 1039. 1101.   57.    0.    0.    0.    0.    0.\n",
      "    0.    0.] Expected Profit: 1538877.4478699998\n",
      "New best strategy at iteration  466  :  [ 146.  222.  701.   50. 1039. 1102.   56.    0.    0.    0.    0.    0.\n",
      "    0.    0.] Expected Profit: 1538881.10277\n"
     ]
    },
    {
     "name": "stderr",
     "output_type": "stream",
     "text": [
      "\r",
      "  0%|                                                                         | 468/1000000 [01:40<59:20:54,  4.68it/s]"
     ]
    },
    {
     "name": "stdout",
     "output_type": "stream",
     "text": [
      "New best strategy at iteration  467  :  [ 145.  222.  701.   50. 1039. 1102.   56.    0.    0.    0.    0.    0.\n",
      "    0.    0.] Expected Profit: 1538884.0270699998\n",
      "New best strategy at iteration  467  :  [ 146.  221.  701.   50. 1039. 1102.   56.    0.    0.    0.    0.    0.\n",
      "    0.    0.] Expected Profit: 1538885.5030699999\n",
      "New best strategy at iteration  467  :  [ 146.  222.  700.   50. 1039. 1102.   56.    0.    0.    0.    0.    0.\n",
      "    0.    0.] Expected Profit: 1538887.4220699999\n",
      "New best strategy at iteration  467  :  [ 146.  222.  701.   49. 1039. 1102.   56.    0.    0.    0.    0.    0.\n",
      "    0.    0.] Expected Profit: 1538889.82057\n",
      "New best strategy at iteration  467  :  [ 146.  222.  701.   50. 1038. 1102.   56.    0.    0.    0.    0.    0.\n",
      "    0.    0.] Expected Profit: 1538892.63427\n",
      "New best strategy at iteration  467  :  [ 146.  222.  701.   50. 1039. 1101.   56.    0.    0.    0.    0.    0.\n",
      "    0.    0.] Expected Profit: 1538895.8705700003\n",
      "New best strategy at iteration  467  :  [ 146.  222.  701.   50. 1039. 1102.   55.    0.    0.    0.    0.    0.\n",
      "    0.    0.] Expected Profit: 1538899.52547\n"
     ]
    },
    {
     "name": "stderr",
     "output_type": "stream",
     "text": [
      "\r",
      "  0%|                                                                         | 469/1000000 [01:40<59:32:46,  4.66it/s]"
     ]
    },
    {
     "name": "stdout",
     "output_type": "stream",
     "text": [
      "New best strategy at iteration  468  :  [ 145.  222.  701.   50. 1039. 1102.   55.    0.    0.    0.    0.    0.\n",
      "    0.    0.] Expected Profit: 1538902.44977\n",
      "New best strategy at iteration  468  :  [ 146.  221.  701.   50. 1039. 1102.   55.    0.    0.    0.    0.    0.\n",
      "    0.    0.] Expected Profit: 1538903.92577\n",
      "New best strategy at iteration  468  :  [ 146.  222.  700.   50. 1039. 1102.   55.    0.    0.    0.    0.    0.\n",
      "    0.    0.] Expected Profit: 1538905.84477\n",
      "New best strategy at iteration  468  :  [ 146.  222.  701.   49. 1039. 1102.   55.    0.    0.    0.    0.    0.\n",
      "    0.    0.] Expected Profit: 1538908.24327\n",
      "New best strategy at iteration  468  :  [ 146.  222.  701.   50. 1038. 1102.   55.    0.    0.    0.    0.    0.\n",
      "    0.    0.] Expected Profit: 1538911.0569699998\n",
      "New best strategy at iteration  468  :  [ 146.  222.  701.   50. 1039. 1101.   55.    0.    0.    0.    0.    0.\n",
      "    0.    0.] Expected Profit: 1538914.2932700003\n",
      "New best strategy at iteration  468  :  [ 146.  222.  701.   50. 1039. 1102.   54.    0.    0.    0.    0.    0.\n",
      "    0.    0.] Expected Profit: 1538917.9481699998\n"
     ]
    },
    {
     "name": "stderr",
     "output_type": "stream",
     "text": [
      "\r",
      "  0%|                                                                         | 470/1000000 [01:41<59:22:38,  4.68it/s]"
     ]
    },
    {
     "name": "stdout",
     "output_type": "stream",
     "text": [
      "New best strategy at iteration  469  :  [ 145.  222.  701.   50. 1039. 1102.   54.    0.    0.    0.    0.    0.\n",
      "    0.    0.] Expected Profit: 1538920.8724699998\n",
      "New best strategy at iteration  469  :  [ 146.  221.  701.   50. 1039. 1102.   54.    0.    0.    0.    0.    0.\n",
      "    0.    0.] Expected Profit: 1538922.3484699999\n",
      "New best strategy at iteration  469  :  [ 146.  222.  700.   50. 1039. 1102.   54.    0.    0.    0.    0.    0.\n",
      "    0.    0.] Expected Profit: 1538924.26747\n",
      "New best strategy at iteration  469  :  [ 146.  222.  701.   49. 1039. 1102.   54.    0.    0.    0.    0.    0.\n",
      "    0.    0.] Expected Profit: 1538926.6659699997\n",
      "New best strategy at iteration  469  :  [ 146.  222.  701.   50. 1038. 1102.   54.    0.    0.    0.    0.    0.\n",
      "    0.    0.] Expected Profit: 1538929.4796699998\n",
      "New best strategy at iteration  469  :  [ 146.  222.  701.   50. 1039. 1101.   54.    0.    0.    0.    0.    0.\n",
      "    0.    0.] Expected Profit: 1538932.71597\n",
      "New best strategy at iteration  469  :  [ 146.  222.  701.   50. 1039. 1102.   53.    0.    0.    0.    0.    0.\n",
      "    0.    0.] Expected Profit: 1538936.37087\n"
     ]
    },
    {
     "name": "stderr",
     "output_type": "stream",
     "text": [
      "\r",
      "  0%|                                                                         | 471/1000000 [01:41<59:07:21,  4.70it/s]"
     ]
    },
    {
     "name": "stdout",
     "output_type": "stream",
     "text": [
      "New best strategy at iteration  470  :  [ 145.  222.  701.   50. 1039. 1102.   53.    0.    0.    0.    0.    0.\n",
      "    0.    0.] Expected Profit: 1538939.2951699998\n",
      "New best strategy at iteration  470  :  [ 146.  221.  701.   50. 1039. 1102.   53.    0.    0.    0.    0.    0.\n",
      "    0.    0.] Expected Profit: 1538940.7711699998\n",
      "New best strategy at iteration  470  :  [ 146.  222.  700.   50. 1039. 1102.   53.    0.    0.    0.    0.    0.\n",
      "    0.    0.] Expected Profit: 1538942.6901699998\n",
      "New best strategy at iteration  470  :  [ 146.  222.  701.   49. 1039. 1102.   53.    0.    0.    0.    0.    0.\n",
      "    0.    0.] Expected Profit: 1538945.0886699995\n",
      "New best strategy at iteration  470  :  [ 146.  222.  701.   50. 1038. 1102.   53.    0.    0.    0.    0.    0.\n",
      "    0.    0.] Expected Profit: 1538947.9023699998\n",
      "New best strategy at iteration  470  :  [ 146.  222.  701.   50. 1039. 1101.   53.    0.    0.    0.    0.    0.\n",
      "    0.    0.] Expected Profit: 1538951.13867\n",
      "New best strategy at iteration  470  :  [ 146.  222.  701.   50. 1039. 1102.   52.    0.    0.    0.    0.    0.\n",
      "    0.    0.] Expected Profit: 1538954.7935699997\n",
      "New best strategy at iteration  471  :  [ 145.  222.  701.   50. 1039. 1102.   52.    0.    0.    0.    0.    0.\n",
      "    0.    0.] Expected Profit: 1538957.7178699998\n"
     ]
    },
    {
     "name": "stderr",
     "output_type": "stream",
     "text": [
      "\r",
      "  0%|                                                                         | 472/1000000 [01:41<59:03:16,  4.70it/s]"
     ]
    },
    {
     "name": "stdout",
     "output_type": "stream",
     "text": [
      "New best strategy at iteration  471  :  [ 146.  221.  701.   50. 1039. 1102.   52.    0.    0.    0.    0.    0.\n",
      "    0.    0.] Expected Profit: 1538959.1938699998\n",
      "New best strategy at iteration  471  :  [ 146.  222.  700.   50. 1039. 1102.   52.    0.    0.    0.    0.    0.\n",
      "    0.    0.] Expected Profit: 1538961.1128699998\n",
      "New best strategy at iteration  471  :  [ 146.  222.  701.   49. 1039. 1102.   52.    0.    0.    0.    0.    0.\n",
      "    0.    0.] Expected Profit: 1538963.51137\n",
      "New best strategy at iteration  471  :  [ 146.  222.  701.   50. 1038. 1102.   52.    0.    0.    0.    0.    0.\n",
      "    0.    0.] Expected Profit: 1538966.3250699998\n",
      "New best strategy at iteration  471  :  [ 146.  222.  701.   50. 1039. 1101.   52.    0.    0.    0.    0.    0.\n",
      "    0.    0.] Expected Profit: 1538969.5613699998\n",
      "New best strategy at iteration  471  :  [ 146.  222.  701.   50. 1039. 1102.   51.    0.    0.    0.    0.    0.\n",
      "    0.    0.] Expected Profit: 1538973.21627\n",
      "New best strategy at iteration  472  :  [ 145.  222.  701.   50. 1039. 1102.   51.    0.    0.    0.    0.    0.\n",
      "    0.    0.] Expected Profit: 1538976.1405700003\n",
      "New best strategy at iteration  472  :  [ 146.  221.  701.   50. 1039. 1102.   51.    0.    0.    0.    0.    0.\n",
      "    0.    0.] Expected Profit: 1538977.6165699998\n"
     ]
    },
    {
     "name": "stderr",
     "output_type": "stream",
     "text": [
      "\r",
      "  0%|                                                                         | 473/1000000 [01:41<59:31:42,  4.66it/s]"
     ]
    },
    {
     "name": "stdout",
     "output_type": "stream",
     "text": [
      "New best strategy at iteration  472  :  [ 146.  222.  700.   50. 1039. 1102.   51.    0.    0.    0.    0.    0.\n",
      "    0.    0.] Expected Profit: 1538979.53557\n",
      "New best strategy at iteration  472  :  [ 146.  222.  701.   49. 1039. 1102.   51.    0.    0.    0.    0.    0.\n",
      "    0.    0.] Expected Profit: 1538981.9340699997\n",
      "New best strategy at iteration  472  :  [ 146.  222.  701.   50. 1038. 1102.   51.    0.    0.    0.    0.    0.\n",
      "    0.    0.] Expected Profit: 1538984.74777\n",
      "New best strategy at iteration  472  :  [ 146.  222.  701.   50. 1039. 1101.   51.    0.    0.    0.    0.    0.\n",
      "    0.    0.] Expected Profit: 1538987.9840700002\n",
      "New best strategy at iteration  472  :  [ 146.  222.  701.   50. 1039. 1102.   50.    0.    0.    0.    0.    0.\n",
      "    0.    0.] Expected Profit: 1538991.6389699997\n",
      "New best strategy at iteration  473  :  [ 145.  222.  701.   50. 1039. 1102.   50.    0.    0.    0.    0.    0.\n",
      "    0.    0.] Expected Profit: 1538994.56327\n",
      "New best strategy at iteration  473  :  [ 146.  221.  701.   50. 1039. 1102.   50.    0.    0.    0.    0.    0.\n",
      "    0.    0.] Expected Profit: 1538996.03927\n",
      "New best strategy at iteration  473  :  [ 146.  222.  700.   50. 1039. 1102.   50.    0.    0.    0.    0.    0.\n",
      "    0.    0.] Expected Profit: 1538997.95827\n",
      "New best strategy at iteration  473  :  [ 146.  222.  701.   49. 1039. 1102.   50.    0.    0.    0.    0.    0.\n",
      "    0.    0.] Expected Profit: 1539000.3567699997\n",
      "New best strategy at iteration  473  :  [ 146.  222.  701.   50. 1038. 1102.   50.    0.    0.    0.    0.    0.\n",
      "    0.    0.] Expected Profit: 1539003.1704699998\n",
      "New best strategy at iteration  473  :  [ 146.  222.  701.   50. 1039. 1101.   50.    0.    0.    0.    0.    0.\n",
      "    0.    0.] Expected Profit: 1539006.40677\n",
      "New best strategy at iteration  473  :  [ 146.  222.  701.   50. 1039. 1102.   49.    0.    0.    0.    0.    0.\n",
      "    0.    0.] Expected Profit: 1539010.06167\n"
     ]
    },
    {
     "name": "stderr",
     "output_type": "stream",
     "text": [
      "\r",
      "  0%|                                                                         | 474/1000000 [01:42<64:29:35,  4.31it/s]"
     ]
    },
    {
     "name": "stdout",
     "output_type": "stream",
     "text": [
      "New best strategy at iteration  474  :  [ 145.  222.  701.   50. 1039. 1102.   49.    0.    0.    0.    0.    0.\n",
      "    0.    0.] Expected Profit: 1539012.9859699998\n",
      "New best strategy at iteration  474  :  [ 146.  221.  701.   50. 1039. 1102.   49.    0.    0.    0.    0.    0.\n",
      "    0.    0.] Expected Profit: 1539014.4619699998\n",
      "New best strategy at iteration  474  :  [ 146.  222.  700.   50. 1039. 1102.   49.    0.    0.    0.    0.    0.\n",
      "    0.    0.] Expected Profit: 1539016.38097\n",
      "New best strategy at iteration  474  :  [ 146.  222.  701.   49. 1039. 1102.   49.    0.    0.    0.    0.    0.\n",
      "    0.    0.] Expected Profit: 1539018.7794699997\n",
      "New best strategy at iteration  474  :  [ 146.  222.  701.   50. 1038. 1102.   49.    0.    0.    0.    0.    0.\n",
      "    0.    0.] Expected Profit: 1539021.5931699998\n",
      "New best strategy at iteration  474  :  [ 146.  222.  701.   50. 1039. 1101.   49.    0.    0.    0.    0.    0.\n",
      "    0.    0.] Expected Profit: 1539024.82947\n",
      "New best strategy at iteration  474  :  [ 146.  222.  701.   50. 1039. 1102.   48.    0.    0.    0.    0.    0.\n",
      "    0.    0.] Expected Profit: 1539028.48437\n"
     ]
    },
    {
     "name": "stderr",
     "output_type": "stream",
     "text": [
      "\r",
      "  0%|                                                                         | 475/1000000 [01:42<71:29:08,  3.88it/s]"
     ]
    },
    {
     "name": "stdout",
     "output_type": "stream",
     "text": [
      "New best strategy at iteration  475  :  [ 145.  222.  701.   50. 1039. 1102.   48.    0.    0.    0.    0.    0.\n",
      "    0.    0.] Expected Profit: 1539031.40867\n",
      "New best strategy at iteration  475  :  [ 146.  221.  701.   50. 1039. 1102.   48.    0.    0.    0.    0.    0.\n",
      "    0.    0.] Expected Profit: 1539032.88467\n",
      "New best strategy at iteration  475  :  [ 146.  222.  700.   50. 1039. 1102.   48.    0.    0.    0.    0.    0.\n",
      "    0.    0.] Expected Profit: 1539034.80367\n",
      "New best strategy at iteration  475  :  [ 146.  222.  701.   49. 1039. 1102.   48.    0.    0.    0.    0.    0.\n",
      "    0.    0.] Expected Profit: 1539037.20217\n",
      "New best strategy at iteration  475  :  [ 146.  222.  701.   50. 1038. 1102.   48.    0.    0.    0.    0.    0.\n",
      "    0.    0.] Expected Profit: 1539040.0158699998\n",
      "New best strategy at iteration  475  :  [ 146.  222.  701.   50. 1039. 1101.   48.    0.    0.    0.    0.    0.\n",
      "    0.    0.] Expected Profit: 1539043.25217\n",
      "New best strategy at iteration  475  :  [ 146.  222.  701.   50. 1039. 1102.   47.    0.    0.    0.    0.    0.\n",
      "    0.    0.] Expected Profit: 1539046.9070700002\n"
     ]
    },
    {
     "name": "stderr",
     "output_type": "stream",
     "text": [
      "\r",
      "  0%|                                                                         | 476/1000000 [01:42<68:15:54,  4.07it/s]"
     ]
    },
    {
     "name": "stdout",
     "output_type": "stream",
     "text": [
      "New best strategy at iteration  476  :  [ 145.  222.  701.   50. 1039. 1102.   47.    0.    0.    0.    0.    0.\n",
      "    0.    0.] Expected Profit: 1539049.83137\n",
      "New best strategy at iteration  476  :  [ 146.  221.  701.   50. 1039. 1102.   47.    0.    0.    0.    0.    0.\n",
      "    0.    0.] Expected Profit: 1539051.3073699998\n",
      "New best strategy at iteration  476  :  [ 146.  222.  700.   50. 1039. 1102.   47.    0.    0.    0.    0.    0.\n",
      "    0.    0.] Expected Profit: 1539053.2263699998\n",
      "New best strategy at iteration  476  :  [ 146.  222.  701.   49. 1039. 1102.   47.    0.    0.    0.    0.    0.\n",
      "    0.    0.] Expected Profit: 1539055.62487\n",
      "New best strategy at iteration  476  :  [ 146.  222.  701.   50. 1038. 1102.   47.    0.    0.    0.    0.    0.\n",
      "    0.    0.] Expected Profit: 1539058.4385699998\n",
      "New best strategy at iteration  476  :  [ 146.  222.  701.   50. 1039. 1101.   47.    0.    0.    0.    0.    0.\n",
      "    0.    0.] Expected Profit: 1539061.6748700002\n",
      "New best strategy at iteration  476  :  [ 146.  222.  701.   50. 1039. 1102.   46.    0.    0.    0.    0.    0.\n",
      "    0.    0.] Expected Profit: 1539065.32977\n"
     ]
    },
    {
     "name": "stderr",
     "output_type": "stream",
     "text": [
      "\r",
      "  0%|                                                                         | 477/1000000 [01:42<65:36:45,  4.23it/s]"
     ]
    },
    {
     "name": "stdout",
     "output_type": "stream",
     "text": [
      "New best strategy at iteration  477  :  [ 145.  222.  701.   50. 1039. 1102.   46.    0.    0.    0.    0.    0.\n",
      "    0.    0.] Expected Profit: 1539068.2540699998\n",
      "New best strategy at iteration  477  :  [ 146.  221.  701.   50. 1039. 1102.   46.    0.    0.    0.    0.    0.\n",
      "    0.    0.] Expected Profit: 1539069.7300699996\n",
      "New best strategy at iteration  477  :  [ 146.  222.  700.   50. 1039. 1102.   46.    0.    0.    0.    0.    0.\n",
      "    0.    0.] Expected Profit: 1539071.64907\n",
      "New best strategy at iteration  477  :  [ 146.  222.  701.   49. 1039. 1102.   46.    0.    0.    0.    0.    0.\n",
      "    0.    0.] Expected Profit: 1539074.0475699997\n",
      "New best strategy at iteration  477  :  [ 146.  222.  701.   50. 1038. 1102.   46.    0.    0.    0.    0.    0.\n",
      "    0.    0.] Expected Profit: 1539076.8612699998\n",
      "New best strategy at iteration  477  :  [ 146.  222.  701.   50. 1039. 1101.   46.    0.    0.    0.    0.    0.\n",
      "    0.    0.] Expected Profit: 1539080.09757\n",
      "New best strategy at iteration  477  :  [ 146.  222.  701.   50. 1039. 1102.   45.    0.    0.    0.    0.    0.\n",
      "    0.    0.] Expected Profit: 1539083.7524699997\n"
     ]
    },
    {
     "name": "stderr",
     "output_type": "stream",
     "text": [
      "  0%|                                                                         | 479/1000000 [01:43<61:51:13,  4.49it/s]"
     ]
    },
    {
     "name": "stdout",
     "output_type": "stream",
     "text": [
      "New best strategy at iteration  478  :  [ 145.  222.  701.   50. 1039. 1102.   45.    0.    0.    0.    0.    0.\n",
      "    0.    0.] Expected Profit: 1539086.67677\n",
      "New best strategy at iteration  478  :  [ 146.  221.  701.   50. 1039. 1102.   45.    0.    0.    0.    0.    0.\n",
      "    0.    0.] Expected Profit: 1539088.15277\n",
      "New best strategy at iteration  478  :  [ 146.  222.  700.   50. 1039. 1102.   45.    0.    0.    0.    0.    0.\n",
      "    0.    0.] Expected Profit: 1539090.07177\n",
      "New best strategy at iteration  478  :  [ 146.  222.  701.   49. 1039. 1102.   45.    0.    0.    0.    0.    0.\n",
      "    0.    0.] Expected Profit: 1539092.4702699997\n",
      "New best strategy at iteration  478  :  [ 146.  222.  701.   50. 1038. 1102.   45.    0.    0.    0.    0.    0.\n",
      "    0.    0.] Expected Profit: 1539095.2839699998\n",
      "New best strategy at iteration  478  :  [ 146.  222.  701.   50. 1039. 1101.   45.    0.    0.    0.    0.    0.\n",
      "    0.    0.] Expected Profit: 1539098.52027\n",
      "New best strategy at iteration  478  :  [ 146.  222.  701.   50. 1039. 1102.   44.    0.    0.    0.    0.    0.\n",
      "    0.    0.] Expected Profit: 1539102.1751700002\n",
      "New best strategy at iteration  479  :  [ 145.  222.  701.   50. 1039. 1102.   44.    0.    0.    0.    0.    0.\n",
      "    0.    0.] Expected Profit: 1539105.0994699998\n"
     ]
    },
    {
     "name": "stderr",
     "output_type": "stream",
     "text": [
      "\r",
      "  0%|                                                                         | 480/1000000 [01:43<60:52:59,  4.56it/s]"
     ]
    },
    {
     "name": "stdout",
     "output_type": "stream",
     "text": [
      "New best strategy at iteration  479  :  [ 146.  221.  701.   50. 1039. 1102.   44.    0.    0.    0.    0.    0.\n",
      "    0.    0.] Expected Profit: 1539106.57547\n",
      "New best strategy at iteration  479  :  [ 146.  222.  700.   50. 1039. 1102.   44.    0.    0.    0.    0.    0.\n",
      "    0.    0.] Expected Profit: 1539108.49447\n",
      "New best strategy at iteration  479  :  [ 146.  222.  701.   49. 1039. 1102.   44.    0.    0.    0.    0.    0.\n",
      "    0.    0.] Expected Profit: 1539110.8929699997\n",
      "New best strategy at iteration  479  :  [ 146.  222.  701.   50. 1038. 1102.   44.    0.    0.    0.    0.    0.\n",
      "    0.    0.] Expected Profit: 1539113.7066699998\n",
      "New best strategy at iteration  479  :  [ 146.  222.  701.   50. 1039. 1101.   44.    0.    0.    0.    0.    0.\n",
      "    0.    0.] Expected Profit: 1539116.9429700002\n",
      "New best strategy at iteration  479  :  [ 146.  222.  701.   50. 1039. 1102.   43.    0.    0.    0.    0.    0.\n",
      "    0.    0.] Expected Profit: 1539120.59787\n",
      "New best strategy at iteration  480  :  [ 145.  222.  701.   50. 1039. 1102.   43.    0.    0.    0.    0.    0.\n",
      "    0.    0.] Expected Profit: 1539123.52217\n",
      "New best strategy at iteration  480  :  [ 146.  221.  701.   50. 1039. 1102.   43.    0.    0.    0.    0.    0.\n",
      "    0.    0.] Expected Profit: 1539124.99817\n"
     ]
    },
    {
     "name": "stderr",
     "output_type": "stream",
     "text": [
      "\r",
      "  0%|                                                                         | 481/1000000 [01:43<60:24:40,  4.60it/s]"
     ]
    },
    {
     "name": "stdout",
     "output_type": "stream",
     "text": [
      "New best strategy at iteration  480  :  [ 146.  222.  700.   50. 1039. 1102.   43.    0.    0.    0.    0.    0.\n",
      "    0.    0.] Expected Profit: 1539126.91717\n",
      "New best strategy at iteration  480  :  [ 146.  222.  701.   49. 1039. 1102.   43.    0.    0.    0.    0.    0.\n",
      "    0.    0.] Expected Profit: 1539129.31567\n",
      "New best strategy at iteration  480  :  [ 146.  222.  701.   50. 1038. 1102.   43.    0.    0.    0.    0.    0.\n",
      "    0.    0.] Expected Profit: 1539132.12937\n",
      "New best strategy at iteration  480  :  [ 146.  222.  701.   50. 1039. 1101.   43.    0.    0.    0.    0.    0.\n",
      "    0.    0.] Expected Profit: 1539135.36567\n",
      "New best strategy at iteration  480  :  [ 146.  222.  701.   50. 1039. 1102.   42.    0.    0.    0.    0.    0.\n",
      "    0.    0.] Expected Profit: 1539139.0205699997\n",
      "New best strategy at iteration  481  :  [ 145.  222.  701.   50. 1039. 1102.   42.    0.    0.    0.    0.    0.\n",
      "    0.    0.] Expected Profit: 1539141.9448699998\n",
      "New best strategy at iteration  481  :  [ 146.  221.  701.   50. 1039. 1102.   42.    0.    0.    0.    0.    0.\n",
      "    0.    0.] Expected Profit: 1539143.4208699998\n",
      "New best strategy at iteration  481  :  [ 146.  222.  700.   50. 1039. 1102.   42.    0.    0.    0.    0.    0.\n",
      "    0.    0.] Expected Profit: 1539145.3398699998\n",
      "New best strategy at iteration  481  :  [ 146.  222.  701.   49. 1039. 1102.   42.    0.    0.    0.    0.    0.\n",
      "    0.    0.] Expected Profit: 1539147.7383699997\n",
      "New best strategy at iteration  481  :  [ 146.  222.  701.   50. 1038. 1102.   42.    0.    0.    0.    0.    0.\n",
      "    0.    0.] Expected Profit: 1539150.5520699997\n",
      "New best strategy at iteration  481  :  [ 146.  222.  701.   50. 1039. 1101.   42.    0.    0.    0.    0.    0.\n",
      "    0.    0.] Expected Profit: 1539153.78837\n",
      "New best strategy at iteration  481  :  [ 146.  222.  701.   50. 1039. 1102.   41.    0.    0.    0.    0.    0.\n",
      "    0.    0.] Expected Profit: 1539157.44327\n"
     ]
    },
    {
     "name": "stderr",
     "output_type": "stream",
     "text": [
      "\r",
      "  0%|                                                                         | 482/1000000 [01:43<65:21:15,  4.25it/s]"
     ]
    },
    {
     "name": "stdout",
     "output_type": "stream",
     "text": [
      "New best strategy at iteration  482  :  [ 145.  222.  701.   50. 1039. 1102.   41.    0.    0.    0.    0.    0.\n",
      "    0.    0.] Expected Profit: 1539160.3675699998\n",
      "New best strategy at iteration  482  :  [ 146.  221.  701.   50. 1039. 1102.   41.    0.    0.    0.    0.    0.\n",
      "    0.    0.] Expected Profit: 1539161.84357\n",
      "New best strategy at iteration  482  :  [ 146.  222.  700.   50. 1039. 1102.   41.    0.    0.    0.    0.    0.\n",
      "    0.    0.] Expected Profit: 1539163.7625699998\n",
      "New best strategy at iteration  482  :  [ 146.  222.  701.   49. 1039. 1102.   41.    0.    0.    0.    0.    0.\n",
      "    0.    0.] Expected Profit: 1539166.1610699997\n",
      "New best strategy at iteration  482  :  [ 146.  222.  701.   50. 1038. 1102.   41.    0.    0.    0.    0.    0.\n",
      "    0.    0.] Expected Profit: 1539168.9747699997\n",
      "New best strategy at iteration  482  :  [ 146.  222.  701.   50. 1039. 1101.   41.    0.    0.    0.    0.    0.\n",
      "    0.    0.] Expected Profit: 1539172.2110700002\n",
      "New best strategy at iteration  482  :  [ 146.  222.  701.   50. 1039. 1102.   40.    0.    0.    0.    0.    0.\n",
      "    0.    0.] Expected Profit: 1539175.8659699997\n"
     ]
    },
    {
     "name": "stderr",
     "output_type": "stream",
     "text": [
      "\r",
      "  0%|                                                                         | 483/1000000 [01:44<65:12:52,  4.26it/s]"
     ]
    },
    {
     "name": "stdout",
     "output_type": "stream",
     "text": [
      "New best strategy at iteration  483  :  [ 145.  222.  701.   50. 1039. 1102.   40.    0.    0.    0.    0.    0.\n",
      "    0.    0.] Expected Profit: 1539178.79027\n",
      "New best strategy at iteration  483  :  [ 146.  221.  701.   50. 1039. 1102.   40.    0.    0.    0.    0.    0.\n",
      "    0.    0.] Expected Profit: 1539180.26627\n",
      "New best strategy at iteration  483  :  [ 146.  222.  700.   50. 1039. 1102.   40.    0.    0.    0.    0.    0.\n",
      "    0.    0.] Expected Profit: 1539182.18527\n",
      "New best strategy at iteration  483  :  [ 146.  222.  701.   49. 1039. 1102.   40.    0.    0.    0.    0.    0.\n",
      "    0.    0.] Expected Profit: 1539184.5837699997\n",
      "New best strategy at iteration  483  :  [ 146.  222.  701.   50. 1038. 1102.   40.    0.    0.    0.    0.    0.\n",
      "    0.    0.] Expected Profit: 1539187.3974699997\n",
      "New best strategy at iteration  483  :  [ 146.  222.  701.   50. 1039. 1101.   40.    0.    0.    0.    0.    0.\n",
      "    0.    0.] Expected Profit: 1539190.63377\n",
      "New best strategy at iteration  483  :  [ 146.  222.  701.   50. 1039. 1102.   39.    0.    0.    0.    0.    0.\n",
      "    0.    0.] Expected Profit: 1539194.2886700002\n"
     ]
    },
    {
     "name": "stderr",
     "output_type": "stream",
     "text": [
      "\r",
      "  0%|                                                                         | 484/1000000 [01:44<66:15:55,  4.19it/s]"
     ]
    },
    {
     "name": "stdout",
     "output_type": "stream",
     "text": [
      "New best strategy at iteration  484  :  [ 145.  222.  701.   50. 1039. 1102.   39.    0.    0.    0.    0.    0.\n",
      "    0.    0.] Expected Profit: 1539197.21297\n",
      "New best strategy at iteration  484  :  [ 146.  221.  701.   50. 1039. 1102.   39.    0.    0.    0.    0.    0.\n",
      "    0.    0.] Expected Profit: 1539198.68897\n",
      "New best strategy at iteration  484  :  [ 146.  222.  700.   50. 1039. 1102.   39.    0.    0.    0.    0.    0.\n",
      "    0.    0.] Expected Profit: 1539200.60797\n",
      "New best strategy at iteration  484  :  [ 146.  222.  701.   49. 1039. 1102.   39.    0.    0.    0.    0.    0.\n",
      "    0.    0.] Expected Profit: 1539203.00647\n",
      "New best strategy at iteration  484  :  [ 146.  222.  701.   50. 1038. 1102.   39.    0.    0.    0.    0.    0.\n",
      "    0.    0.] Expected Profit: 1539205.8201699997\n",
      "New best strategy at iteration  484  :  [ 146.  222.  701.   50. 1039. 1101.   39.    0.    0.    0.    0.    0.\n",
      "    0.    0.] Expected Profit: 1539209.0564700002\n",
      "New best strategy at iteration  484  :  [ 146.  222.  701.   50. 1039. 1102.   38.    0.    0.    0.    0.    0.\n",
      "    0.    0.] Expected Profit: 1539212.71137\n"
     ]
    },
    {
     "name": "stderr",
     "output_type": "stream",
     "text": [
      "  0%|                                                                         | 486/1000000 [01:44<68:58:38,  4.03it/s]"
     ]
    },
    {
     "name": "stdout",
     "output_type": "stream",
     "text": [
      "New best strategy at iteration  485  :  [ 145.  222.  701.   50. 1039. 1102.   38.    0.    0.    0.    0.    0.\n",
      "    0.    0.] Expected Profit: 1539215.63567\n",
      "New best strategy at iteration  485  :  [ 146.  221.  701.   50. 1039. 1102.   38.    0.    0.    0.    0.    0.\n",
      "    0.    0.] Expected Profit: 1539217.1116699998\n",
      "New best strategy at iteration  485  :  [ 146.  222.  700.   50. 1039. 1102.   38.    0.    0.    0.    0.    0.\n",
      "    0.    0.] Expected Profit: 1539219.0306699995\n",
      "New best strategy at iteration  485  :  [ 146.  222.  701.   49. 1039. 1102.   38.    0.    0.    0.    0.    0.\n",
      "    0.    0.] Expected Profit: 1539221.4291699997\n",
      "New best strategy at iteration  485  :  [ 146.  222.  701.   50. 1038. 1102.   38.    0.    0.    0.    0.    0.\n",
      "    0.    0.] Expected Profit: 1539224.24287\n",
      "New best strategy at iteration  485  :  [ 146.  222.  701.   50. 1039. 1101.   38.    0.    0.    0.    0.    0.\n",
      "    0.    0.] Expected Profit: 1539227.4791700002\n",
      "New best strategy at iteration  485  :  [ 146.  222.  701.   50. 1039. 1102.   37.    0.    0.    0.    0.    0.\n",
      "    0.    0.] Expected Profit: 1539231.13407\n",
      "New best strategy at iteration  486  :  [ 145.  222.  701.   50. 1039. 1102.   37.    0.    0.    0.    0.    0.\n",
      "    0.    0.] Expected Profit: 1539234.05837\n",
      "New best strategy at iteration  486  :  [ 146.  221.  701.   50. 1039. 1102.   37.    0.    0.    0.    0.    0.\n",
      "    0.    0.] Expected Profit: 1539235.5343699998\n",
      "New best strategy at iteration  486  :  [ 146.  222.  700.   50. 1039. 1102.   37.    0.    0.    0.    0.    0.\n",
      "    0.    0.] Expected Profit: 1539237.4533699998\n",
      "New best strategy at iteration  486  :  [ 146.  222.  701.   49. 1039. 1102.   37.    0.    0.    0.    0.    0.\n",
      "    0.    0.] Expected Profit: 1539239.85187\n",
      "New best strategy at iteration  486  :  [ 146.  222.  701.   50. 1038. 1102.   37.    0.    0.    0.    0.    0.\n",
      "    0.    0.] Expected Profit: 1539242.6655699997\n",
      "New best strategy at iteration  486  :  [ 146.  222.  701.   50. 1039. 1101.   37.    0.    0.    0.    0.    0.\n",
      "    0.    0.] Expected Profit: 1539245.90187\n",
      "New best strategy at iteration  486  :  [ 146.  222.  701.   50. 1039. 1102.   36.    0.    0.    0.    0.    0.\n",
      "    0.    0.] Expected Profit: 1539249.55677\n"
     ]
    },
    {
     "name": "stderr",
     "output_type": "stream",
     "text": [
      "  0%|                                                                         | 488/1000000 [01:45<63:52:44,  4.35it/s]"
     ]
    },
    {
     "name": "stdout",
     "output_type": "stream",
     "text": [
      "New best strategy at iteration  487  :  [ 145.  222.  701.   50. 1039. 1102.   36.    0.    0.    0.    0.    0.\n",
      "    0.    0.] Expected Profit: 1539252.48107\n",
      "New best strategy at iteration  487  :  [ 146.  221.  701.   50. 1039. 1102.   36.    0.    0.    0.    0.    0.\n",
      "    0.    0.] Expected Profit: 1539253.95707\n",
      "New best strategy at iteration  487  :  [ 146.  222.  700.   50. 1039. 1102.   36.    0.    0.    0.    0.    0.\n",
      "    0.    0.] Expected Profit: 1539255.8760700002\n",
      "New best strategy at iteration  487  :  [ 146.  222.  701.   49. 1039. 1102.   36.    0.    0.    0.    0.    0.\n",
      "    0.    0.] Expected Profit: 1539258.2745699997\n",
      "New best strategy at iteration  487  :  [ 146.  222.  701.   50. 1038. 1102.   36.    0.    0.    0.    0.    0.\n",
      "    0.    0.] Expected Profit: 1539261.08827\n",
      "New best strategy at iteration  487  :  [ 146.  222.  701.   50. 1039. 1101.   36.    0.    0.    0.    0.    0.\n",
      "    0.    0.] Expected Profit: 1539264.3245700002\n",
      "New best strategy at iteration  487  :  [ 146.  222.  701.   50. 1039. 1102.   35.    0.    0.    0.    0.    0.\n",
      "    0.    0.] Expected Profit: 1539267.97947\n",
      "New best strategy at iteration  488  :  [ 145.  222.  701.   50. 1039. 1102.   35.    0.    0.    0.    0.    0.\n",
      "    0.    0.] Expected Profit: 1539270.90377\n",
      "New best strategy at iteration  488  :  [ 146.  221.  701.   50. 1039. 1102.   35.    0.    0.    0.    0.    0.\n",
      "    0.    0.] Expected Profit: 1539272.37977\n",
      "New best strategy at iteration  488  :  [ 146.  222.  700.   50. 1039. 1102.   35.    0.    0.    0.    0.    0.\n",
      "    0.    0.] Expected Profit: 1539274.29877\n",
      "New best strategy at iteration  488  :  [ 146.  222.  701.   49. 1039. 1102.   35.    0.    0.    0.    0.    0.\n",
      "    0.    0.] Expected Profit: 1539276.69727\n",
      "New best strategy at iteration  488  :  [ 146.  222.  701.   50. 1038. 1102.   35.    0.    0.    0.    0.    0.\n",
      "    0.    0.] Expected Profit: 1539279.5109699997\n",
      "New best strategy at iteration  488  :  [ 146.  222.  701.   50. 1039. 1101.   35.    0.    0.    0.    0.    0.\n",
      "    0.    0.] Expected Profit: 1539282.74727\n",
      "New best strategy at iteration  488  :  [ 146.  222.  701.   50. 1039. 1102.   34.    0.    0.    0.    0.    0.\n",
      "    0.    0.] Expected Profit: 1539286.4021699997\n"
     ]
    },
    {
     "name": "stderr",
     "output_type": "stream",
     "text": [
      "\r",
      "  0%|                                                                         | 489/1000000 [01:45<62:34:46,  4.44it/s]"
     ]
    },
    {
     "name": "stdout",
     "output_type": "stream",
     "text": [
      "New best strategy at iteration  489  :  [ 145.  222.  701.   50. 1039. 1102.   34.    0.    0.    0.    0.    0.\n",
      "    0.    0.] Expected Profit: 1539289.3264699997\n",
      "New best strategy at iteration  489  :  [ 146.  221.  701.   50. 1039. 1102.   34.    0.    0.    0.    0.    0.\n",
      "    0.    0.] Expected Profit: 1539290.8024699998\n",
      "New best strategy at iteration  489  :  [ 146.  222.  700.   50. 1039. 1102.   34.    0.    0.    0.    0.    0.\n",
      "    0.    0.] Expected Profit: 1539292.7214699998\n",
      "New best strategy at iteration  489  :  [ 146.  222.  701.   49. 1039. 1102.   34.    0.    0.    0.    0.    0.\n",
      "    0.    0.] Expected Profit: 1539295.1199699997\n",
      "New best strategy at iteration  489  :  [ 146.  222.  701.   50. 1038. 1102.   34.    0.    0.    0.    0.    0.\n",
      "    0.    0.] Expected Profit: 1539297.9336699997\n",
      "New best strategy at iteration  489  :  [ 146.  222.  701.   50. 1039. 1101.   34.    0.    0.    0.    0.    0.\n",
      "    0.    0.] Expected Profit: 1539301.16997\n",
      "New best strategy at iteration  489  :  [ 146.  222.  701.   50. 1039. 1102.   33.    0.    0.    0.    0.    0.\n",
      "    0.    0.] Expected Profit: 1539304.82487\n"
     ]
    },
    {
     "name": "stderr",
     "output_type": "stream",
     "text": [
      "\r",
      "  0%|                                                                         | 490/1000000 [01:45<61:42:03,  4.50it/s]"
     ]
    },
    {
     "name": "stdout",
     "output_type": "stream",
     "text": [
      "New best strategy at iteration  490  :  [ 145.  222.  701.   50. 1039. 1102.   33.    0.    0.    0.    0.    0.\n",
      "    0.    0.] Expected Profit: 1539307.74917\n",
      "New best strategy at iteration  490  :  [ 146.  221.  701.   50. 1039. 1102.   33.    0.    0.    0.    0.    0.\n",
      "    0.    0.] Expected Profit: 1539309.22517\n",
      "New best strategy at iteration  490  :  [ 146.  222.  700.   50. 1039. 1102.   33.    0.    0.    0.    0.    0.\n",
      "    0.    0.] Expected Profit: 1539311.14417\n",
      "New best strategy at iteration  490  :  [ 146.  222.  701.   49. 1039. 1102.   33.    0.    0.    0.    0.    0.\n",
      "    0.    0.] Expected Profit: 1539313.5426699999\n",
      "New best strategy at iteration  490  :  [ 146.  222.  701.   50. 1038. 1102.   33.    0.    0.    0.    0.    0.\n",
      "    0.    0.] Expected Profit: 1539316.35637\n",
      "New best strategy at iteration  490  :  [ 146.  222.  701.   50. 1039. 1101.   33.    0.    0.    0.    0.    0.\n",
      "    0.    0.] Expected Profit: 1539319.5926700002\n",
      "New best strategy at iteration  490  :  [ 146.  222.  701.   50. 1039. 1102.   32.    0.    0.    0.    0.    0.\n",
      "    0.    0.] Expected Profit: 1539323.2475699997\n"
     ]
    },
    {
     "name": "stderr",
     "output_type": "stream",
     "text": [
      "\r",
      "  0%|                                                                         | 491/1000000 [01:45<60:54:26,  4.56it/s]"
     ]
    },
    {
     "name": "stdout",
     "output_type": "stream",
     "text": [
      "New best strategy at iteration  491  :  [ 145.  222.  701.   50. 1039. 1102.   32.    0.    0.    0.    0.    0.\n",
      "    0.    0.] Expected Profit: 1539326.17187\n",
      "New best strategy at iteration  491  :  [ 146.  221.  701.   50. 1039. 1102.   32.    0.    0.    0.    0.    0.\n",
      "    0.    0.] Expected Profit: 1539327.64787\n",
      "New best strategy at iteration  491  :  [ 146.  222.  700.   50. 1039. 1102.   32.    0.    0.    0.    0.    0.\n",
      "    0.    0.] Expected Profit: 1539329.56687\n",
      "New best strategy at iteration  491  :  [ 146.  222.  701.   49. 1039. 1102.   32.    0.    0.    0.    0.    0.\n",
      "    0.    0.] Expected Profit: 1539331.9653699999\n",
      "New best strategy at iteration  491  :  [ 146.  222.  701.   50. 1038. 1102.   32.    0.    0.    0.    0.    0.\n",
      "    0.    0.] Expected Profit: 1539334.7790699997\n",
      "New best strategy at iteration  491  :  [ 146.  222.  701.   50. 1039. 1101.   32.    0.    0.    0.    0.    0.\n",
      "    0.    0.] Expected Profit: 1539338.0153700002\n",
      "New best strategy at iteration  491  :  [ 146.  222.  701.   50. 1039. 1102.   31.    0.    0.    0.    0.    0.\n",
      "    0.    0.] Expected Profit: 1539341.67027\n"
     ]
    },
    {
     "name": "stderr",
     "output_type": "stream",
     "text": [
      "  0%|                                                                         | 493/1000000 [01:46<59:32:15,  4.66it/s]"
     ]
    },
    {
     "name": "stdout",
     "output_type": "stream",
     "text": [
      "New best strategy at iteration  492  :  [ 145.  222.  701.   50. 1039. 1102.   31.    0.    0.    0.    0.    0.\n",
      "    0.    0.] Expected Profit: 1539344.59457\n",
      "New best strategy at iteration  492  :  [ 146.  221.  701.   50. 1039. 1102.   31.    0.    0.    0.    0.    0.\n",
      "    0.    0.] Expected Profit: 1539346.07057\n",
      "New best strategy at iteration  492  :  [ 146.  222.  700.   50. 1039. 1102.   31.    0.    0.    0.    0.    0.\n",
      "    0.    0.] Expected Profit: 1539347.9895700002\n",
      "New best strategy at iteration  492  :  [ 146.  222.  701.   49. 1039. 1102.   31.    0.    0.    0.    0.    0.\n",
      "    0.    0.] Expected Profit: 1539350.3880699999\n",
      "New best strategy at iteration  492  :  [ 146.  222.  701.   50. 1038. 1102.   31.    0.    0.    0.    0.    0.\n",
      "    0.    0.] Expected Profit: 1539353.20177\n",
      "New best strategy at iteration  492  :  [ 146.  222.  701.   50. 1039. 1101.   31.    0.    0.    0.    0.    0.\n",
      "    0.    0.] Expected Profit: 1539356.4380700001\n",
      "New best strategy at iteration  492  :  [ 146.  222.  701.   50. 1039. 1102.   30.    0.    0.    0.    0.    0.\n",
      "    0.    0.] Expected Profit: 1539360.0929699999\n"
     ]
    },
    {
     "name": "stderr",
     "output_type": "stream",
     "text": [
      "\r",
      "  0%|                                                                         | 494/1000000 [01:46<59:22:01,  4.68it/s]"
     ]
    },
    {
     "name": "stdout",
     "output_type": "stream",
     "text": [
      "New best strategy at iteration  493  :  [ 145.  222.  701.   50. 1039. 1102.   30.    0.    0.    0.    0.    0.\n",
      "    0.    0.] Expected Profit: 1539363.01727\n",
      "New best strategy at iteration  493  :  [ 146.  221.  701.   50. 1039. 1102.   30.    0.    0.    0.    0.    0.\n",
      "    0.    0.] Expected Profit: 1539364.49327\n",
      "New best strategy at iteration  493  :  [ 146.  222.  700.   50. 1039. 1102.   30.    0.    0.    0.    0.    0.\n",
      "    0.    0.] Expected Profit: 1539366.41227\n",
      "New best strategy at iteration  493  :  [ 146.  222.  701.   49. 1039. 1102.   30.    0.    0.    0.    0.    0.\n",
      "    0.    0.] Expected Profit: 1539368.8107699996\n",
      "New best strategy at iteration  493  :  [ 146.  222.  701.   50. 1038. 1102.   30.    0.    0.    0.    0.    0.\n",
      "    0.    0.] Expected Profit: 1539371.6244699997\n",
      "New best strategy at iteration  493  :  [ 146.  222.  701.   50. 1039. 1101.   30.    0.    0.    0.    0.    0.\n",
      "    0.    0.] Expected Profit: 1539374.86077\n",
      "New best strategy at iteration  493  :  [ 146.  222.  701.   50. 1039. 1102.   29.    0.    0.    0.    0.    0.\n",
      "    0.    0.] Expected Profit: 1539378.51567\n",
      "New best strategy at iteration  494  :  [ 145.  222.  701.   50. 1039. 1102.   29.    0.    0.    0.    0.    0.\n",
      "    0.    0.] Expected Profit: 1539381.4399699997\n"
     ]
    },
    {
     "name": "stderr",
     "output_type": "stream",
     "text": [
      "\r",
      "  0%|                                                                         | 495/1000000 [01:46<59:34:05,  4.66it/s]"
     ]
    },
    {
     "name": "stdout",
     "output_type": "stream",
     "text": [
      "New best strategy at iteration  494  :  [ 146.  221.  701.   50. 1039. 1102.   29.    0.    0.    0.    0.    0.\n",
      "    0.    0.] Expected Profit: 1539382.9159699997\n",
      "New best strategy at iteration  494  :  [ 146.  222.  700.   50. 1039. 1102.   29.    0.    0.    0.    0.    0.\n",
      "    0.    0.] Expected Profit: 1539384.8349699997\n",
      "New best strategy at iteration  494  :  [ 146.  222.  701.   49. 1039. 1102.   29.    0.    0.    0.    0.    0.\n",
      "    0.    0.] Expected Profit: 1539387.2334699999\n",
      "New best strategy at iteration  494  :  [ 146.  222.  701.   50. 1038. 1102.   29.    0.    0.    0.    0.    0.\n",
      "    0.    0.] Expected Profit: 1539390.0471699997\n",
      "New best strategy at iteration  494  :  [ 146.  222.  701.   50. 1039. 1101.   29.    0.    0.    0.    0.    0.\n",
      "    0.    0.] Expected Profit: 1539393.2834700004\n",
      "New best strategy at iteration  494  :  [ 146.  222.  701.   50. 1039. 1102.   28.    0.    0.    0.    0.    0.\n",
      "    0.    0.] Expected Profit: 1539396.9383699999\n",
      "New best strategy at iteration  495  :  [ 145.  222.  701.   50. 1039. 1102.   28.    0.    0.    0.    0.    0.\n",
      "    0.    0.] Expected Profit: 1539399.8626700002\n",
      "New best strategy at iteration  495  :  [ 146.  221.  701.   50. 1039. 1102.   28.    0.    0.    0.    0.    0.\n",
      "    0.    0.] Expected Profit: 1539401.3386699997\n",
      "New best strategy at iteration  495  :  [ 146.  222.  700.   50. 1039. 1102.   28.    0.    0.    0.    0.    0.\n",
      "    0.    0.] Expected Profit: 1539403.25767\n",
      "New best strategy at iteration  495  :  [ 146.  222.  701.   49. 1039. 1102.   28.    0.    0.    0.    0.    0.\n",
      "    0.    0.] Expected Profit: 1539405.6561699999\n",
      "New best strategy at iteration  495  :  [ 146.  222.  701.   50. 1038. 1102.   28.    0.    0.    0.    0.    0.\n",
      "    0.    0.] Expected Profit: 1539408.46987\n",
      "New best strategy at iteration  495  :  [ 146.  222.  701.   50. 1039. 1101.   28.    0.    0.    0.    0.    0.\n",
      "    0.    0.] Expected Profit: 1539411.7061700001\n",
      "New best strategy at iteration  495  :  [ 146.  222.  701.   50. 1039. 1102.   27.    0.    0.    0.    0.    0.\n",
      "    0.    0.] Expected Profit: 1539415.3610699999\n"
     ]
    },
    {
     "name": "stderr",
     "output_type": "stream",
     "text": [
      "  0%|                                                                         | 497/1000000 [01:47<59:07:36,  4.70it/s]"
     ]
    },
    {
     "name": "stdout",
     "output_type": "stream",
     "text": [
      "New best strategy at iteration  496  :  [ 145.  222.  701.   50. 1039. 1102.   27.    0.    0.    0.    0.    0.\n",
      "    0.    0.] Expected Profit: 1539418.28537\n",
      "New best strategy at iteration  496  :  [ 146.  221.  701.   50. 1039. 1102.   27.    0.    0.    0.    0.    0.\n",
      "    0.    0.] Expected Profit: 1539419.76137\n",
      "New best strategy at iteration  496  :  [ 146.  222.  700.   50. 1039. 1102.   27.    0.    0.    0.    0.    0.\n",
      "    0.    0.] Expected Profit: 1539421.68037\n",
      "New best strategy at iteration  496  :  [ 146.  222.  701.   49. 1039. 1102.   27.    0.    0.    0.    0.    0.\n",
      "    0.    0.] Expected Profit: 1539424.0788699996\n",
      "New best strategy at iteration  496  :  [ 146.  222.  701.   50. 1038. 1102.   27.    0.    0.    0.    0.    0.\n",
      "    0.    0.] Expected Profit: 1539426.8925699997\n",
      "New best strategy at iteration  496  :  [ 146.  222.  701.   50. 1039. 1101.   27.    0.    0.    0.    0.    0.\n",
      "    0.    0.] Expected Profit: 1539430.1288700001\n",
      "New best strategy at iteration  496  :  [ 146.  222.  701.   50. 1039. 1102.   26.    0.    0.    0.    0.    0.\n",
      "    0.    0.] Expected Profit: 1539433.7837699996\n",
      "New best strategy at iteration  497  :  [ 145.  222.  701.   50. 1039. 1102.   26.    0.    0.    0.    0.    0.\n",
      "    0.    0.] Expected Profit: 1539436.7080699997\n",
      "New best strategy at iteration  497  :  [ 146.  221.  701.   50. 1039. 1102.   26.    0.    0.    0.    0.    0.\n",
      "    0.    0.] Expected Profit: 1539438.18407\n",
      "New best strategy at iteration  497  :  [ 146.  222.  700.   50. 1039. 1102.   26.    0.    0.    0.    0.    0.\n",
      "    0.    0.] Expected Profit: 1539440.1030699997\n",
      "New best strategy at iteration  497  :  [ 146.  222.  701.   49. 1039. 1102.   26.    0.    0.    0.    0.    0.\n",
      "    0.    0.] Expected Profit: 1539442.5015699996\n",
      "New best strategy at iteration  497  :  [ 146.  222.  701.   50. 1038. 1102.   26.    0.    0.    0.    0.    0.\n",
      "    0.    0.] Expected Profit: 1539445.3152699994\n",
      "New best strategy at iteration  497  :  [ 146.  222.  701.   50. 1039. 1101.   26.    0.    0.    0.    0.    0.\n",
      "    0.    0.] Expected Profit: 1539448.55157\n",
      "New best strategy at iteration  497  :  [ 146.  222.  701.   50. 1039. 1102.   25.    0.    0.    0.    0.    0.\n",
      "    0.    0.] Expected Profit: 1539452.2064699999\n"
     ]
    },
    {
     "name": "stderr",
     "output_type": "stream",
     "text": [
      "  0%|                                                                         | 499/1000000 [01:47<59:09:11,  4.69it/s]"
     ]
    },
    {
     "name": "stdout",
     "output_type": "stream",
     "text": [
      "New best strategy at iteration  498  :  [ 145.  222.  701.   50. 1039. 1102.   25.    0.    0.    0.    0.    0.\n",
      "    0.    0.] Expected Profit: 1539455.13077\n",
      "New best strategy at iteration  498  :  [ 146.  221.  701.   50. 1039. 1102.   25.    0.    0.    0.    0.    0.\n",
      "    0.    0.] Expected Profit: 1539456.60677\n",
      "New best strategy at iteration  498  :  [ 146.  222.  700.   50. 1039. 1102.   25.    0.    0.    0.    0.    0.\n",
      "    0.    0.] Expected Profit: 1539458.52577\n",
      "New best strategy at iteration  498  :  [ 146.  222.  701.   49. 1039. 1102.   25.    0.    0.    0.    0.    0.\n",
      "    0.    0.] Expected Profit: 1539460.9242699998\n",
      "New best strategy at iteration  498  :  [ 146.  222.  701.   50. 1038. 1102.   25.    0.    0.    0.    0.    0.\n",
      "    0.    0.] Expected Profit: 1539463.73797\n",
      "New best strategy at iteration  498  :  [ 146.  222.  701.   50. 1039. 1101.   25.    0.    0.    0.    0.    0.\n",
      "    0.    0.] Expected Profit: 1539466.97427\n",
      "New best strategy at iteration  498  :  [ 146.  222.  701.   50. 1039. 1102.   24.    0.    0.    0.    0.    0.\n",
      "    0.    0.] Expected Profit: 1539470.62917\n"
     ]
    },
    {
     "name": "stderr",
     "output_type": "stream",
     "text": [
      "\r",
      "  0%|                                                                         | 500/1000000 [01:47<58:46:58,  4.72it/s]"
     ]
    },
    {
     "name": "stdout",
     "output_type": "stream",
     "text": [
      "New best strategy at iteration  499  :  [ 145.  222.  701.   50. 1039. 1102.   24.    0.    0.    0.    0.    0.\n",
      "    0.    0.] Expected Profit: 1539473.5534699997\n",
      "New best strategy at iteration  499  :  [ 146.  221.  701.   50. 1039. 1102.   24.    0.    0.    0.    0.    0.\n",
      "    0.    0.] Expected Profit: 1539475.02947\n",
      "New best strategy at iteration  499  :  [ 146.  222.  700.   50. 1039. 1102.   24.    0.    0.    0.    0.    0.\n",
      "    0.    0.] Expected Profit: 1539476.9484699997\n",
      "New best strategy at iteration  499  :  [ 146.  222.  701.   49. 1039. 1102.   24.    0.    0.    0.    0.    0.\n",
      "    0.    0.] Expected Profit: 1539479.3469699998\n",
      "New best strategy at iteration  499  :  [ 146.  222.  701.   50. 1038. 1102.   24.    0.    0.    0.    0.    0.\n",
      "    0.    0.] Expected Profit: 1539482.1606699997\n",
      "New best strategy at iteration  499  :  [ 146.  222.  701.   50. 1039. 1101.   24.    0.    0.    0.    0.    0.\n",
      "    0.    0.] Expected Profit: 1539485.3969700004\n",
      "New best strategy at iteration  499  :  [ 146.  222.  701.   50. 1039. 1102.   23.    0.    0.    0.    0.    0.\n",
      "    0.    0.] Expected Profit: 1539489.0518699999\n",
      "New best strategy at iteration  500  :  [ 145.  222.  701.   50. 1039. 1102.   23.    0.    0.    0.    0.    0.\n",
      "    0.    0.] Expected Profit: 1539491.9761700002\n"
     ]
    },
    {
     "name": "stderr",
     "output_type": "stream",
     "text": [
      "\r",
      "  0%|                                                                         | 501/1000000 [01:48<59:00:03,  4.71it/s]"
     ]
    },
    {
     "name": "stdout",
     "output_type": "stream",
     "text": [
      "New best strategy at iteration  500  :  [ 146.  221.  701.   50. 1039. 1102.   23.    0.    0.    0.    0.    0.\n",
      "    0.    0.] Expected Profit: 1539493.4521700002\n",
      "New best strategy at iteration  500  :  [ 146.  222.  700.   50. 1039. 1102.   23.    0.    0.    0.    0.    0.\n",
      "    0.    0.] Expected Profit: 1539495.3711700002\n",
      "New best strategy at iteration  500  :  [ 146.  222.  701.   49. 1039. 1102.   23.    0.    0.    0.    0.    0.\n",
      "    0.    0.] Expected Profit: 1539497.7696699998\n",
      "New best strategy at iteration  500  :  [ 146.  222.  701.   50. 1038. 1102.   23.    0.    0.    0.    0.    0.\n",
      "    0.    0.] Expected Profit: 1539500.58337\n",
      "New best strategy at iteration  500  :  [ 146.  222.  701.   50. 1039. 1101.   23.    0.    0.    0.    0.    0.\n",
      "    0.    0.] Expected Profit: 1539503.81967\n",
      "New best strategy at iteration  500  :  [ 146.  222.  701.   50. 1039. 1102.   22.    0.    0.    0.    0.    0.\n",
      "    0.    0.] Expected Profit: 1539507.4745699996\n",
      "New best strategy at iteration  501  :  [ 145.  222.  701.   50. 1039. 1102.   22.    0.    0.    0.    0.    0.\n",
      "    0.    0.] Expected Profit: 1539510.39887\n"
     ]
    },
    {
     "name": "stderr",
     "output_type": "stream",
     "text": [
      "\r",
      "  0%|                                                                         | 502/1000000 [01:48<59:03:20,  4.70it/s]"
     ]
    },
    {
     "name": "stdout",
     "output_type": "stream",
     "text": [
      "New best strategy at iteration  501  :  [ 146.  221.  701.   50. 1039. 1102.   22.    0.    0.    0.    0.    0.\n",
      "    0.    0.] Expected Profit: 1539511.87487\n",
      "New best strategy at iteration  501  :  [ 146.  222.  700.   50. 1039. 1102.   22.    0.    0.    0.    0.    0.\n",
      "    0.    0.] Expected Profit: 1539513.79387\n",
      "New best strategy at iteration  501  :  [ 146.  222.  701.   49. 1039. 1102.   22.    0.    0.    0.    0.    0.\n",
      "    0.    0.] Expected Profit: 1539516.1923699996\n",
      "New best strategy at iteration  501  :  [ 146.  222.  701.   50. 1038. 1102.   22.    0.    0.    0.    0.    0.\n",
      "    0.    0.] Expected Profit: 1539519.0060699997\n",
      "New best strategy at iteration  501  :  [ 146.  222.  701.   50. 1039. 1101.   22.    0.    0.    0.    0.    0.\n",
      "    0.    0.] Expected Profit: 1539522.2423699999\n",
      "New best strategy at iteration  501  :  [ 146.  222.  701.   50. 1039. 1102.   21.    0.    0.    0.    0.    0.\n",
      "    0.    0.] Expected Profit: 1539525.89727\n"
     ]
    },
    {
     "name": "stderr",
     "output_type": "stream",
     "text": [
      "\r",
      "  0%|                                                                         | 503/1000000 [01:48<59:11:05,  4.69it/s]"
     ]
    },
    {
     "name": "stdout",
     "output_type": "stream",
     "text": [
      "New best strategy at iteration  502  :  [ 145.  222.  701.   50. 1039. 1102.   21.    0.    0.    0.    0.    0.\n",
      "    0.    0.] Expected Profit: 1539528.8215699997\n",
      "New best strategy at iteration  502  :  [ 146.  221.  701.   50. 1039. 1102.   21.    0.    0.    0.    0.    0.\n",
      "    0.    0.] Expected Profit: 1539530.29757\n",
      "New best strategy at iteration  502  :  [ 146.  222.  700.   50. 1039. 1102.   21.    0.    0.    0.    0.    0.\n",
      "    0.    0.] Expected Profit: 1539532.21657\n",
      "New best strategy at iteration  502  :  [ 146.  222.  701.   49. 1039. 1102.   21.    0.    0.    0.    0.    0.\n",
      "    0.    0.] Expected Profit: 1539534.6150699996\n",
      "New best strategy at iteration  502  :  [ 146.  222.  701.   50. 1038. 1102.   21.    0.    0.    0.    0.    0.\n",
      "    0.    0.] Expected Profit: 1539537.4287699996\n",
      "New best strategy at iteration  502  :  [ 146.  222.  701.   50. 1039. 1101.   21.    0.    0.    0.    0.    0.\n",
      "    0.    0.] Expected Profit: 1539540.6650699999\n",
      "New best strategy at iteration  502  :  [ 146.  222.  701.   50. 1039. 1102.   20.    0.    0.    0.    0.    0.\n",
      "    0.    0.] Expected Profit: 1539544.3199699998\n"
     ]
    },
    {
     "name": "stderr",
     "output_type": "stream",
     "text": [
      "\r",
      "  0%|                                                                         | 504/1000000 [01:48<59:04:12,  4.70it/s]"
     ]
    },
    {
     "name": "stdout",
     "output_type": "stream",
     "text": [
      "New best strategy at iteration  503  :  [ 145.  222.  701.   50. 1039. 1102.   20.    0.    0.    0.    0.    0.\n",
      "    0.    0.] Expected Profit: 1539547.24427\n",
      "New best strategy at iteration  503  :  [ 146.  221.  701.   50. 1039. 1102.   20.    0.    0.    0.    0.    0.\n",
      "    0.    0.] Expected Profit: 1539548.72027\n",
      "New best strategy at iteration  503  :  [ 146.  222.  700.   50. 1039. 1102.   20.    0.    0.    0.    0.    0.\n",
      "    0.    0.] Expected Profit: 1539550.63927\n",
      "New best strategy at iteration  503  :  [ 146.  222.  701.   49. 1039. 1102.   20.    0.    0.    0.    0.    0.\n",
      "    0.    0.] Expected Profit: 1539553.0377699998\n",
      "New best strategy at iteration  503  :  [ 146.  222.  701.   50. 1038. 1102.   20.    0.    0.    0.    0.    0.\n",
      "    0.    0.] Expected Profit: 1539555.8514699999\n",
      "New best strategy at iteration  503  :  [ 146.  222.  701.   50. 1039. 1101.   20.    0.    0.    0.    0.    0.\n",
      "    0.    0.] Expected Profit: 1539559.0877699999\n",
      "New best strategy at iteration  503  :  [ 146.  222.  701.   50. 1039. 1102.   19.    0.    0.    0.    0.    0.\n",
      "    0.    0.] Expected Profit: 1539562.74267\n",
      "New best strategy at iteration  504  :  [ 145.  222.  701.   50. 1039. 1102.   19.    0.    0.    0.    0.    0.\n",
      "    0.    0.] Expected Profit: 1539565.66697\n",
      "New best strategy at iteration  504  :  [ 146.  221.  701.   50. 1039. 1102.   19.    0.    0.    0.    0.    0.\n",
      "    0.    0.] Expected Profit: 1539567.14297\n",
      "New best strategy at iteration  504  :  [ 146.  222.  700.   50. 1039. 1102.   19.    0.    0.    0.    0.    0.\n",
      "    0.    0.] Expected Profit: 1539569.0619699997\n",
      "New best strategy at iteration  504  :  [ 146.  222.  701.   49. 1039. 1102.   19.    0.    0.    0.    0.    0.\n",
      "    0.    0.] Expected Profit: 1539571.4604699998\n",
      "New best strategy at iteration  504  :  [ 146.  222.  701.   50. 1038. 1102.   19.    0.    0.    0.    0.    0.\n",
      "    0.    0.] Expected Profit: 1539574.2741699999\n",
      "New best strategy at iteration  504  :  [ 146.  222.  701.   50. 1039. 1101.   19.    0.    0.    0.    0.    0.\n",
      "    0.    0.] Expected Profit: 1539577.5104700003\n",
      "New best strategy at iteration  504  :  [ 146.  222.  701.   50. 1039. 1102.   18.    0.    0.    0.    0.    0.\n",
      "    0.    0.] Expected Profit: 1539581.1653699996\n"
     ]
    },
    {
     "name": "stderr",
     "output_type": "stream",
     "text": [
      "\r",
      "  0%|                                                                         | 505/1000000 [01:48<61:39:35,  4.50it/s]"
     ]
    },
    {
     "name": "stdout",
     "output_type": "stream",
     "text": [
      "New best strategy at iteration  505  :  [ 145.  222.  701.   50. 1039. 1102.   18.    0.    0.    0.    0.    0.\n",
      "    0.    0.] Expected Profit: 1539584.08967\n",
      "New best strategy at iteration  505  :  [ 146.  221.  701.   50. 1039. 1102.   18.    0.    0.    0.    0.    0.\n",
      "    0.    0.] Expected Profit: 1539585.56567\n",
      "New best strategy at iteration  505  :  [ 146.  222.  700.   50. 1039. 1102.   18.    0.    0.    0.    0.    0.\n",
      "    0.    0.] Expected Profit: 1539587.4846700002\n",
      "New best strategy at iteration  505  :  [ 146.  222.  701.   49. 1039. 1102.   18.    0.    0.    0.    0.    0.\n",
      "    0.    0.] Expected Profit: 1539589.8831699996\n",
      "New best strategy at iteration  505  :  [ 146.  222.  701.   50. 1038. 1102.   18.    0.    0.    0.    0.    0.\n",
      "    0.    0.] Expected Profit: 1539592.6968699999\n",
      "New best strategy at iteration  505  :  [ 146.  222.  701.   50. 1039. 1101.   18.    0.    0.    0.    0.    0.\n",
      "    0.    0.] Expected Profit: 1539595.93317\n",
      "New best strategy at iteration  505  :  [ 146.  222.  701.   50. 1039. 1102.   17.    0.    0.    0.    0.    0.\n",
      "    0.    0.] Expected Profit: 1539599.5880699996\n"
     ]
    },
    {
     "name": "stderr",
     "output_type": "stream",
     "text": [
      "  0%|                                                                         | 507/1000000 [01:49<61:31:25,  4.51it/s]"
     ]
    },
    {
     "name": "stdout",
     "output_type": "stream",
     "text": [
      "New best strategy at iteration  506  :  [ 145.  222.  701.   50. 1039. 1102.   17.    0.    0.    0.    0.    0.\n",
      "    0.    0.] Expected Profit: 1539602.51237\n",
      "New best strategy at iteration  506  :  [ 146.  221.  701.   50. 1039. 1102.   17.    0.    0.    0.    0.    0.\n",
      "    0.    0.] Expected Profit: 1539603.9883700002\n",
      "New best strategy at iteration  506  :  [ 146.  222.  700.   50. 1039. 1102.   17.    0.    0.    0.    0.    0.\n",
      "    0.    0.] Expected Profit: 1539605.90737\n",
      "New best strategy at iteration  506  :  [ 146.  222.  701.   49. 1039. 1102.   17.    0.    0.    0.    0.    0.\n",
      "    0.    0.] Expected Profit: 1539608.3058699996\n",
      "New best strategy at iteration  506  :  [ 146.  222.  701.   50. 1038. 1102.   17.    0.    0.    0.    0.    0.\n",
      "    0.    0.] Expected Profit: 1539611.1195699999\n",
      "New best strategy at iteration  506  :  [ 146.  222.  701.   50. 1039. 1101.   17.    0.    0.    0.    0.    0.\n",
      "    0.    0.] Expected Profit: 1539614.3558699999\n",
      "New best strategy at iteration  506  :  [ 146.  222.  701.   50. 1039. 1102.   16.    0.    0.    0.    0.    0.\n",
      "    0.    0.] Expected Profit: 1539618.01077\n"
     ]
    },
    {
     "name": "stderr",
     "output_type": "stream",
     "text": [
      "\r",
      "  0%|                                                                         | 508/1000000 [01:49<60:52:07,  4.56it/s]"
     ]
    },
    {
     "name": "stdout",
     "output_type": "stream",
     "text": [
      "New best strategy at iteration  507  :  [ 145.  222.  701.   50. 1039. 1102.   16.    0.    0.    0.    0.    0.\n",
      "    0.    0.] Expected Profit: 1539620.9350700001\n",
      "New best strategy at iteration  507  :  [ 146.  221.  701.   50. 1039. 1102.   16.    0.    0.    0.    0.    0.\n",
      "    0.    0.] Expected Profit: 1539622.41107\n",
      "New best strategy at iteration  507  :  [ 146.  222.  700.   50. 1039. 1102.   16.    0.    0.    0.    0.    0.\n",
      "    0.    0.] Expected Profit: 1539624.3300699997\n",
      "New best strategy at iteration  507  :  [ 146.  222.  701.   49. 1039. 1102.   16.    0.    0.    0.    0.    0.\n",
      "    0.    0.] Expected Profit: 1539626.7285699998\n",
      "New best strategy at iteration  507  :  [ 146.  222.  701.   50. 1038. 1102.   16.    0.    0.    0.    0.    0.\n",
      "    0.    0.] Expected Profit: 1539629.54227\n",
      "New best strategy at iteration  507  :  [ 146.  222.  701.   50. 1039. 1101.   16.    0.    0.    0.    0.    0.\n",
      "    0.    0.] Expected Profit: 1539632.77857\n",
      "New best strategy at iteration  507  :  [ 146.  222.  701.   50. 1039. 1102.   15.    0.    0.    0.    0.    0.\n",
      "    0.    0.] Expected Profit: 1539636.4334699998\n"
     ]
    },
    {
     "name": "stderr",
     "output_type": "stream",
     "text": [
      "\r",
      "  0%|                                                                         | 509/1000000 [01:49<60:26:59,  4.59it/s]"
     ]
    },
    {
     "name": "stdout",
     "output_type": "stream",
     "text": [
      "New best strategy at iteration  508  :  [ 145.  222.  701.   50. 1039. 1102.   15.    0.    0.    0.    0.    0.\n",
      "    0.    0.] Expected Profit: 1539639.35777\n",
      "New best strategy at iteration  508  :  [ 146.  221.  701.   50. 1039. 1102.   15.    0.    0.    0.    0.    0.\n",
      "    0.    0.] Expected Profit: 1539640.83377\n",
      "New best strategy at iteration  508  :  [ 146.  222.  700.   50. 1039. 1102.   15.    0.    0.    0.    0.    0.\n",
      "    0.    0.] Expected Profit: 1539642.75277\n",
      "New best strategy at iteration  508  :  [ 146.  222.  701.   49. 1039. 1102.   15.    0.    0.    0.    0.    0.\n",
      "    0.    0.] Expected Profit: 1539645.1512699998\n",
      "New best strategy at iteration  508  :  [ 146.  222.  701.   50. 1038. 1102.   15.    0.    0.    0.    0.    0.\n",
      "    0.    0.] Expected Profit: 1539647.9649699999\n",
      "New best strategy at iteration  508  :  [ 146.  222.  701.   50. 1039. 1101.   15.    0.    0.    0.    0.    0.\n",
      "    0.    0.] Expected Profit: 1539651.20127\n",
      "New best strategy at iteration  508  :  [ 146.  222.  701.   50. 1039. 1102.   14.    0.    0.    0.    0.    0.\n",
      "    0.    0.] Expected Profit: 1539654.8561699996\n"
     ]
    },
    {
     "name": "stderr",
     "output_type": "stream",
     "text": [
      "\r",
      "  0%|                                                                         | 510/1000000 [01:50<60:42:50,  4.57it/s]"
     ]
    },
    {
     "name": "stdout",
     "output_type": "stream",
     "text": [
      "New best strategy at iteration  509  :  [ 145.  222.  701.   50. 1039. 1102.   14.    0.    0.    0.    0.    0.\n",
      "    0.    0.] Expected Profit: 1539657.7804699999\n",
      "New best strategy at iteration  509  :  [ 146.  221.  701.   50. 1039. 1102.   14.    0.    0.    0.    0.    0.\n",
      "    0.    0.] Expected Profit: 1539659.25647\n",
      "New best strategy at iteration  509  :  [ 146.  222.  700.   50. 1039. 1102.   14.    0.    0.    0.    0.    0.\n",
      "    0.    0.] Expected Profit: 1539661.17547\n",
      "New best strategy at iteration  509  :  [ 146.  222.  701.   49. 1039. 1102.   14.    0.    0.    0.    0.    0.\n",
      "    0.    0.] Expected Profit: 1539663.5739699998\n",
      "New best strategy at iteration  509  :  [ 146.  222.  701.   50. 1038. 1102.   14.    0.    0.    0.    0.    0.\n",
      "    0.    0.] Expected Profit: 1539666.3876699996\n",
      "New best strategy at iteration  509  :  [ 146.  222.  701.   50. 1039. 1101.   14.    0.    0.    0.    0.    0.\n",
      "    0.    0.] Expected Profit: 1539669.62397\n",
      "New best strategy at iteration  509  :  [ 146.  222.  701.   50. 1039. 1102.   13.    0.    0.    0.    0.    0.\n",
      "    0.    0.] Expected Profit: 1539673.2788699998\n"
     ]
    },
    {
     "name": "stderr",
     "output_type": "stream",
     "text": [
      "\r",
      "  0%|                                                                         | 511/1000000 [01:50<60:30:45,  4.59it/s]"
     ]
    },
    {
     "name": "stdout",
     "output_type": "stream",
     "text": [
      "New best strategy at iteration  510  :  [ 145.  222.  701.   50. 1039. 1102.   13.    0.    0.    0.    0.    0.\n",
      "    0.    0.] Expected Profit: 1539676.2031699999\n",
      "New best strategy at iteration  510  :  [ 146.  221.  701.   50. 1039. 1102.   13.    0.    0.    0.    0.    0.\n",
      "    0.    0.] Expected Profit: 1539677.67917\n",
      "New best strategy at iteration  510  :  [ 146.  222.  700.   50. 1039. 1102.   13.    0.    0.    0.    0.    0.\n",
      "    0.    0.] Expected Profit: 1539679.5981700001\n",
      "New best strategy at iteration  510  :  [ 146.  222.  701.   49. 1039. 1102.   13.    0.    0.    0.    0.    0.\n",
      "    0.    0.] Expected Profit: 1539681.9966699998\n",
      "New best strategy at iteration  510  :  [ 146.  222.  701.   50. 1038. 1102.   13.    0.    0.    0.    0.    0.\n",
      "    0.    0.] Expected Profit: 1539684.8103699998\n",
      "New best strategy at iteration  510  :  [ 146.  222.  701.   50. 1039. 1101.   13.    0.    0.    0.    0.    0.\n",
      "    0.    0.] Expected Profit: 1539688.04667\n",
      "New best strategy at iteration  510  :  [ 146.  222.  701.   50. 1039. 1102.   12.    0.    0.    0.    0.    0.\n",
      "    0.    0.] Expected Profit: 1539691.7015699998\n",
      "New best strategy at iteration  511  :  [ 145.  222.  701.   50. 1039. 1102.   12.    0.    0.    0.    0.    0.\n",
      "    0.    0.] Expected Profit: 1539694.6258699999\n",
      "New best strategy at iteration  511  :  [ 146.  221.  701.   50. 1039. 1102.   12.    0.    0.    0.    0.    0.\n",
      "    0.    0.] Expected Profit: 1539696.10187\n",
      "New best strategy at iteration  511  :  [ 146.  222.  700.   50. 1039. 1102.   12.    0.    0.    0.    0.    0.\n",
      "    0.    0.] Expected Profit: 1539698.02087\n",
      "New best strategy at iteration  511  :  [ 146.  222.  701.   49. 1039. 1102.   12.    0.    0.    0.    0.    0.\n",
      "    0.    0.] Expected Profit: 1539700.4193699998\n",
      "New best strategy at iteration  511  :  [ 146.  222.  701.   50. 1038. 1102.   12.    0.    0.    0.    0.    0.\n",
      "    0.    0.] Expected Profit: 1539703.2330699996\n",
      "New best strategy at iteration  511  :  [ 146.  222.  701.   50. 1039. 1101.   12.    0.    0.    0.    0.    0.\n",
      "    0.    0.] Expected Profit: 1539706.46937\n",
      "New best strategy at iteration  511  :  [ 146.  222.  701.   50. 1039. 1102.   11.    0.    0.    0.    0.    0.\n",
      "    0.    0.] Expected Profit: 1539710.12427\n"
     ]
    },
    {
     "name": "stderr",
     "output_type": "stream",
     "text": [
      "  0%|                                                                         | 513/1000000 [01:50<60:11:11,  4.61it/s]"
     ]
    },
    {
     "name": "stdout",
     "output_type": "stream",
     "text": [
      "New best strategy at iteration  512  :  [ 145.  222.  701.   50. 1039. 1102.   11.    0.    0.    0.    0.    0.\n",
      "    0.    0.] Expected Profit: 1539713.04857\n",
      "New best strategy at iteration  512  :  [ 146.  221.  701.   50. 1039. 1102.   11.    0.    0.    0.    0.    0.\n",
      "    0.    0.] Expected Profit: 1539714.52457\n",
      "New best strategy at iteration  512  :  [ 146.  222.  700.   50. 1039. 1102.   11.    0.    0.    0.    0.    0.\n",
      "    0.    0.] Expected Profit: 1539716.4435700001\n",
      "New best strategy at iteration  512  :  [ 146.  222.  701.   49. 1039. 1102.   11.    0.    0.    0.    0.    0.\n",
      "    0.    0.] Expected Profit: 1539718.84207\n",
      "New best strategy at iteration  512  :  [ 146.  222.  701.   50. 1038. 1102.   11.    0.    0.    0.    0.    0.\n",
      "    0.    0.] Expected Profit: 1539721.65577\n",
      "New best strategy at iteration  512  :  [ 146.  222.  701.   50. 1039. 1101.   11.    0.    0.    0.    0.    0.\n",
      "    0.    0.] Expected Profit: 1539724.8920699998\n",
      "New best strategy at iteration  512  :  [ 146.  222.  701.   50. 1039. 1102.   10.    0.    0.    0.    0.    0.\n",
      "    0.    0.] Expected Profit: 1539728.5469699998\n",
      "New best strategy at iteration  513  :  [ 145.  222.  701.   50. 1039. 1102.   10.    0.    0.    0.    0.    0.\n",
      "    0.    0.] Expected Profit: 1539731.47127\n",
      "New best strategy at iteration  513  :  [ 146.  221.  701.   50. 1039. 1102.   10.    0.    0.    0.    0.    0.\n",
      "    0.    0.] Expected Profit: 1539732.9472699997\n",
      "New best strategy at iteration  513  :  [ 146.  222.  700.   50. 1039. 1102.   10.    0.    0.    0.    0.    0.\n",
      "    0.    0.] Expected Profit: 1539734.8662699999\n",
      "New best strategy at iteration  513  :  [ 146.  222.  701.   49. 1039. 1102.   10.    0.    0.    0.    0.    0.\n",
      "    0.    0.] Expected Profit: 1539737.2647699998\n",
      "New best strategy at iteration  513  :  [ 146.  222.  701.   50. 1038. 1102.   10.    0.    0.    0.    0.    0.\n",
      "    0.    0.] Expected Profit: 1539740.0784699998\n",
      "New best strategy at iteration  513  :  [ 146.  222.  701.   50. 1039. 1101.   10.    0.    0.    0.    0.    0.\n",
      "    0.    0.] Expected Profit: 1539743.31477\n",
      "New best strategy at iteration  513  :  [ 146.  222.  701.   50. 1039. 1102.    9.    0.    0.    0.    0.    0.\n",
      "    0.    0.] Expected Profit: 1539746.9696699998\n"
     ]
    },
    {
     "name": "stderr",
     "output_type": "stream",
     "text": [
      "  0%|                                                                         | 515/1000000 [01:51<59:19:22,  4.68it/s]"
     ]
    },
    {
     "name": "stdout",
     "output_type": "stream",
     "text": [
      "New best strategy at iteration  514  :  [ 145.  222.  701.   50. 1039. 1102.    9.    0.    0.    0.    0.    0.\n",
      "    0.    0.] Expected Profit: 1539749.8939699999\n",
      "New best strategy at iteration  514  :  [ 146.  221.  701.   50. 1039. 1102.    9.    0.    0.    0.    0.    0.\n",
      "    0.    0.] Expected Profit: 1539751.3699699999\n",
      "New best strategy at iteration  514  :  [ 146.  222.  700.   50. 1039. 1102.    9.    0.    0.    0.    0.    0.\n",
      "    0.    0.] Expected Profit: 1539753.28897\n",
      "New best strategy at iteration  514  :  [ 146.  222.  701.   49. 1039. 1102.    9.    0.    0.    0.    0.    0.\n",
      "    0.    0.] Expected Profit: 1539755.6874699998\n",
      "New best strategy at iteration  514  :  [ 146.  222.  701.   50. 1038. 1102.    9.    0.    0.    0.    0.    0.\n",
      "    0.    0.] Expected Profit: 1539758.5011699996\n",
      "New best strategy at iteration  514  :  [ 146.  222.  701.   50. 1039. 1101.    9.    0.    0.    0.    0.    0.\n",
      "    0.    0.] Expected Profit: 1539761.73747\n",
      "New best strategy at iteration  514  :  [ 146.  222.  701.   50. 1039. 1102.    8.    0.    0.    0.    0.    0.\n",
      "    0.    0.] Expected Profit: 1539765.3923699998\n",
      "New best strategy at iteration  515  :  [ 145.  222.  701.   50. 1039. 1102.    8.    0.    0.    0.    0.    0.\n",
      "    0.    0.] Expected Profit: 1539768.31667\n",
      "New best strategy at iteration  515  :  [ 146.  221.  701.   50. 1039. 1102.    8.    0.    0.    0.    0.    0.\n",
      "    0.    0.] Expected Profit: 1539769.7926699999\n",
      "New best strategy at iteration  515  :  [ 146.  222.  700.   50. 1039. 1102.    8.    0.    0.    0.    0.    0.\n",
      "    0.    0.] Expected Profit: 1539771.71167\n",
      "New best strategy at iteration  515  :  [ 146.  222.  701.   49. 1039. 1102.    8.    0.    0.    0.    0.    0.\n",
      "    0.    0.] Expected Profit: 1539774.1101699998\n",
      "New best strategy at iteration  515  :  [ 146.  222.  701.   50. 1038. 1102.    8.    0.    0.    0.    0.    0.\n",
      "    0.    0.] Expected Profit: 1539776.9238699998\n",
      "New best strategy at iteration  515  :  [ 146.  222.  701.   50. 1039. 1101.    8.    0.    0.    0.    0.    0.\n",
      "    0.    0.] Expected Profit: 1539780.16017\n",
      "New best strategy at iteration  515  :  [ 146.  222.  701.   50. 1039. 1102.    7.    0.    0.    0.    0.    0.\n",
      "    0.    0.] Expected Profit: 1539783.8150700002\n"
     ]
    },
    {
     "name": "stderr",
     "output_type": "stream",
     "text": [
      "  0%|                                                                         | 517/1000000 [01:51<59:00:53,  4.70it/s]"
     ]
    },
    {
     "name": "stdout",
     "output_type": "stream",
     "text": [
      "New best strategy at iteration  516  :  [ 145.  222.  701.   50. 1039. 1102.    7.    0.    0.    0.    0.    0.\n",
      "    0.    0.] Expected Profit: 1539786.7393699999\n",
      "New best strategy at iteration  516  :  [ 146.  221.  701.   50. 1039. 1102.    7.    0.    0.    0.    0.    0.\n",
      "    0.    0.] Expected Profit: 1539788.2153699999\n",
      "New best strategy at iteration  516  :  [ 146.  222.  700.   50. 1039. 1102.    7.    0.    0.    0.    0.    0.\n",
      "    0.    0.] Expected Profit: 1539790.1343699999\n",
      "New best strategy at iteration  516  :  [ 146.  222.  701.   49. 1039. 1102.    7.    0.    0.    0.    0.    0.\n",
      "    0.    0.] Expected Profit: 1539792.53287\n",
      "New best strategy at iteration  516  :  [ 146.  222.  701.   50. 1038. 1102.    7.    0.    0.    0.    0.    0.\n",
      "    0.    0.] Expected Profit: 1539795.3465699996\n",
      "New best strategy at iteration  516  :  [ 146.  222.  701.   50. 1039. 1101.    7.    0.    0.    0.    0.    0.\n",
      "    0.    0.] Expected Profit: 1539798.58287\n",
      "New best strategy at iteration  516  :  [ 146.  222.  701.   50. 1039. 1102.    6.    0.    0.    0.    0.    0.\n",
      "    0.    0.] Expected Profit: 1539802.23777\n",
      "New best strategy at iteration  517  :  [ 145.  222.  701.   50. 1039. 1102.    6.    0.    0.    0.    0.    0.\n",
      "    0.    0.] Expected Profit: 1539805.1620699996\n",
      "New best strategy at iteration  517  :  [ 146.  221.  701.   50. 1039. 1102.    6.    0.    0.    0.    0.    0.\n",
      "    0.    0.] Expected Profit: 1539806.6380699999\n",
      "New best strategy at iteration  517  :  [ 146.  222.  700.   50. 1039. 1102.    6.    0.    0.    0.    0.    0.\n",
      "    0.    0.] Expected Profit: 1539808.5570699996\n",
      "New best strategy at iteration  517  :  [ 146.  222.  701.   49. 1039. 1102.    6.    0.    0.    0.    0.    0.\n",
      "    0.    0.] Expected Profit: 1539810.9555699998\n",
      "New best strategy at iteration  517  :  [ 146.  222.  701.   50. 1038. 1102.    6.    0.    0.    0.    0.    0.\n",
      "    0.    0.] Expected Profit: 1539813.7692699996\n",
      "New best strategy at iteration  517  :  [ 146.  222.  701.   50. 1039. 1101.    6.    0.    0.    0.    0.    0.\n",
      "    0.    0.] Expected Profit: 1539817.00557\n",
      "New best strategy at iteration  517  :  [ 146.  222.  701.   50. 1039. 1102.    5.    0.    0.    0.    0.    0.\n",
      "    0.    0.] Expected Profit: 1539820.6604699998\n"
     ]
    },
    {
     "name": "stderr",
     "output_type": "stream",
     "text": [
      "\r",
      "  0%|                                                                         | 518/1000000 [01:51<60:27:02,  4.59it/s]"
     ]
    },
    {
     "name": "stdout",
     "output_type": "stream",
     "text": [
      "New best strategy at iteration  518  :  [ 145.  222.  701.   50. 1039. 1102.    5.    0.    0.    0.    0.    0.\n",
      "    0.    0.] Expected Profit: 1539823.58477\n",
      "New best strategy at iteration  518  :  [ 146.  221.  701.   50. 1039. 1102.    5.    0.    0.    0.    0.    0.\n",
      "    0.    0.] Expected Profit: 1539825.0607699999\n",
      "New best strategy at iteration  518  :  [ 146.  222.  700.   50. 1039. 1102.    5.    0.    0.    0.    0.    0.\n",
      "    0.    0.] Expected Profit: 1539826.97977\n",
      "New best strategy at iteration  518  :  [ 146.  222.  701.   49. 1039. 1102.    5.    0.    0.    0.    0.    0.\n",
      "    0.    0.] Expected Profit: 1539829.37827\n",
      "New best strategy at iteration  518  :  [ 146.  222.  701.   50. 1038. 1102.    5.    0.    0.    0.    0.    0.\n",
      "    0.    0.] Expected Profit: 1539832.1919699998\n",
      "New best strategy at iteration  518  :  [ 146.  222.  701.   50. 1039. 1101.    5.    0.    0.    0.    0.    0.\n",
      "    0.    0.] Expected Profit: 1539835.42827\n",
      "New best strategy at iteration  518  :  [ 146.  222.  701.   50. 1039. 1102.    4.    0.    0.    0.    0.    0.\n",
      "    0.    0.] Expected Profit: 1539839.08317\n"
     ]
    },
    {
     "name": "stderr",
     "output_type": "stream",
     "text": [
      "\r",
      "  0%|                                                                         | 519/1000000 [01:52<62:44:22,  4.43it/s]"
     ]
    },
    {
     "name": "stdout",
     "output_type": "stream",
     "text": [
      "New best strategy at iteration  519  :  [ 145.  222.  701.   50. 1039. 1102.    4.    0.    0.    0.    0.    0.\n",
      "    0.    0.] Expected Profit: 1539842.0074699998\n",
      "New best strategy at iteration  519  :  [ 146.  221.  701.   50. 1039. 1102.    4.    0.    0.    0.    0.    0.\n",
      "    0.    0.] Expected Profit: 1539843.48347\n",
      "New best strategy at iteration  519  :  [ 146.  222.  700.   50. 1039. 1102.    4.    0.    0.    0.    0.    0.\n",
      "    0.    0.] Expected Profit: 1539845.40247\n",
      "New best strategy at iteration  519  :  [ 146.  222.  701.   49. 1039. 1102.    4.    0.    0.    0.    0.    0.\n",
      "    0.    0.] Expected Profit: 1539847.8009699997\n",
      "New best strategy at iteration  519  :  [ 146.  222.  701.   50. 1038. 1102.    4.    0.    0.    0.    0.    0.\n",
      "    0.    0.] Expected Profit: 1539850.6146699996\n",
      "New best strategy at iteration  519  :  [ 146.  222.  701.   50. 1039. 1101.    4.    0.    0.    0.    0.    0.\n",
      "    0.    0.] Expected Profit: 1539853.85097\n"
     ]
    },
    {
     "name": "stderr",
     "output_type": "stream",
     "text": [
      "\r",
      "  0%|                                                                         | 520/1000000 [01:52<68:40:02,  4.04it/s]"
     ]
    },
    {
     "name": "stdout",
     "output_type": "stream",
     "text": [
      "New best strategy at iteration  519  :  [ 146.  222.  701.   50. 1039. 1102.    3.    0.    0.    0.    0.    0.\n",
      "    0.    0.] Expected Profit: 1539857.50587\n",
      "New best strategy at iteration  520  :  [ 145.  222.  701.   50. 1039. 1102.    3.    0.    0.    0.    0.    0.\n",
      "    0.    0.] Expected Profit: 1539860.43017\n",
      "New best strategy at iteration  520  :  [ 146.  221.  701.   50. 1039. 1102.    3.    0.    0.    0.    0.    0.\n",
      "    0.    0.] Expected Profit: 1539861.90617\n",
      "New best strategy at iteration  520  :  [ 146.  222.  700.   50. 1039. 1102.    3.    0.    0.    0.    0.    0.\n",
      "    0.    0.] Expected Profit: 1539863.82517\n",
      "New best strategy at iteration  520  :  [ 146.  222.  701.   49. 1039. 1102.    3.    0.    0.    0.    0.    0.\n",
      "    0.    0.] Expected Profit: 1539866.2236699997\n",
      "New best strategy at iteration  520  :  [ 146.  222.  701.   50. 1038. 1102.    3.    0.    0.    0.    0.    0.\n",
      "    0.    0.] Expected Profit: 1539869.0373699998\n",
      "New best strategy at iteration  520  :  [ 146.  222.  701.   50. 1039. 1101.    3.    0.    0.    0.    0.    0.\n",
      "    0.    0.] Expected Profit: 1539872.27367\n"
     ]
    },
    {
     "name": "stderr",
     "output_type": "stream",
     "text": [
      "\r",
      "  0%|                                                                         | 521/1000000 [01:52<66:09:56,  4.20it/s]"
     ]
    },
    {
     "name": "stdout",
     "output_type": "stream",
     "text": [
      "New best strategy at iteration  520  :  [ 146.  222.  701.   50. 1039. 1102.    2.    0.    0.    0.    0.    0.\n",
      "    0.    0.] Expected Profit: 1539875.9285699998\n",
      "New best strategy at iteration  521  :  [ 145.  222.  701.   50. 1039. 1102.    2.    0.    0.    0.    0.    0.\n",
      "    0.    0.] Expected Profit: 1539878.8528699998\n",
      "New best strategy at iteration  521  :  [ 146.  221.  701.   50. 1039. 1102.    2.    0.    0.    0.    0.    0.\n",
      "    0.    0.] Expected Profit: 1539880.3288699996\n",
      "New best strategy at iteration  521  :  [ 146.  222.  700.   50. 1039. 1102.    2.    0.    0.    0.    0.    0.\n",
      "    0.    0.] Expected Profit: 1539882.2478699998\n",
      "New best strategy at iteration  521  :  [ 146.  222.  701.   49. 1039. 1102.    2.    0.    0.    0.    0.    0.\n",
      "    0.    0.] Expected Profit: 1539884.6463699997\n",
      "New best strategy at iteration  521  :  [ 146.  222.  701.   50. 1038. 1102.    2.    0.    0.    0.    0.    0.\n",
      "    0.    0.] Expected Profit: 1539887.4600699998\n",
      "New best strategy at iteration  521  :  [ 146.  222.  701.   50. 1039. 1101.    2.    0.    0.    0.    0.    0.\n",
      "    0.    0.] Expected Profit: 1539890.6963699998\n"
     ]
    },
    {
     "name": "stderr",
     "output_type": "stream",
     "text": [
      "\r",
      "  0%|                                                                         | 522/1000000 [01:52<64:08:23,  4.33it/s]"
     ]
    },
    {
     "name": "stdout",
     "output_type": "stream",
     "text": [
      "New best strategy at iteration  521  :  [1.460e+02 2.220e+02 7.010e+02 5.000e+01 1.039e+03 1.102e+03 1.000e+00\n",
      " 0.000e+00 0.000e+00 0.000e+00 0.000e+00 0.000e+00 0.000e+00 0.000e+00] Expected Profit: 1539894.35127\n",
      "New best strategy at iteration  522  :  [1.450e+02 2.220e+02 7.010e+02 5.000e+01 1.039e+03 1.102e+03 1.000e+00\n",
      " 0.000e+00 0.000e+00 0.000e+00 0.000e+00 0.000e+00 0.000e+00 0.000e+00] Expected Profit: 1539897.2755699998\n",
      "New best strategy at iteration  522  :  [1.460e+02 2.210e+02 7.010e+02 5.000e+01 1.039e+03 1.102e+03 1.000e+00\n",
      " 0.000e+00 0.000e+00 0.000e+00 0.000e+00 0.000e+00 0.000e+00 0.000e+00] Expected Profit: 1539898.7515699996\n",
      "New best strategy at iteration  522  :  [1.460e+02 2.220e+02 7.000e+02 5.000e+01 1.039e+03 1.102e+03 1.000e+00\n",
      " 0.000e+00 0.000e+00 0.000e+00 0.000e+00 0.000e+00 0.000e+00 0.000e+00] Expected Profit: 1539900.6705699998\n",
      "New best strategy at iteration  522  :  [1.460e+02 2.220e+02 7.010e+02 4.900e+01 1.039e+03 1.102e+03 1.000e+00\n",
      " 0.000e+00 0.000e+00 0.000e+00 0.000e+00 0.000e+00 0.000e+00 0.000e+00] Expected Profit: 1539903.0690699997\n",
      "New best strategy at iteration  522  :  [1.460e+02 2.220e+02 7.010e+02 5.000e+01 1.038e+03 1.102e+03 1.000e+00\n",
      " 0.000e+00 0.000e+00 0.000e+00 0.000e+00 0.000e+00 0.000e+00 0.000e+00] Expected Profit: 1539905.8827699998\n",
      "New best strategy at iteration  522  :  [1.460e+02 2.220e+02 7.010e+02 5.000e+01 1.039e+03 1.101e+03 1.000e+00\n",
      " 0.000e+00 0.000e+00 0.000e+00 0.000e+00 0.000e+00 0.000e+00 0.000e+00] Expected Profit: 1539909.11907\n"
     ]
    },
    {
     "name": "stderr",
     "output_type": "stream",
     "text": [
      "\r",
      "  0%|                                                                         | 523/1000000 [01:53<62:44:51,  4.42it/s]"
     ]
    },
    {
     "name": "stdout",
     "output_type": "stream",
     "text": [
      "New best strategy at iteration  522  :  [ 146.  222.  701.   50. 1039. 1102.    0.    0.    0.    0.    0.    0.\n",
      "    0.    0.] Expected Profit: 1539912.7739699997\n",
      "New best strategy at iteration  523  :  [ 145.  222.  701.   50. 1039. 1102.    0.    0.    0.    0.    0.    0.\n",
      "    0.    0.] Expected Profit: 1539915.69827\n",
      "New best strategy at iteration  523  :  [ 146.  221.  701.   50. 1039. 1102.    0.    0.    0.    0.    0.    0.\n",
      "    0.    0.] Expected Profit: 1539917.17427\n",
      "New best strategy at iteration  523  :  [ 146.  222.  700.   50. 1039. 1102.    0.    0.    0.    0.    0.    0.\n",
      "    0.    0.] Expected Profit: 1539919.09327\n",
      "New best strategy at iteration  523  :  [ 146.  222.  701.   49. 1039. 1102.    0.    0.    0.    0.    0.    0.\n",
      "    0.    0.] Expected Profit: 1539921.4917699997\n",
      "New best strategy at iteration  523  :  [ 146.  222.  701.   50. 1038. 1102.    0.    0.    0.    0.    0.    0.\n",
      "    0.    0.] Expected Profit: 1539924.3054699998\n",
      "New best strategy at iteration  523  :  [ 146.  222.  701.   50. 1039. 1101.    0.    0.    0.    0.    0.    0.\n",
      "    0.    0.] Expected Profit: 1539927.54177\n"
     ]
    },
    {
     "name": "stderr",
     "output_type": "stream",
     "text": [
      "  0%|                                                                         | 525/1000000 [01:53<59:11:13,  4.69it/s]"
     ]
    },
    {
     "name": "stdout",
     "output_type": "stream",
     "text": [
      "New best strategy at iteration  524  :  [ 145.  222.  701.   50. 1039. 1101.    0.    0.    0.    0.    0.    0.\n",
      "    0.    0.] Expected Profit: 1539930.46607\n",
      "New best strategy at iteration  524  :  [ 146.  221.  701.   50. 1039. 1101.    0.    0.    0.    0.    0.    0.\n",
      "    0.    0.] Expected Profit: 1539931.94207\n",
      "New best strategy at iteration  524  :  [ 146.  222.  700.   50. 1039. 1101.    0.    0.    0.    0.    0.    0.\n",
      "    0.    0.] Expected Profit: 1539933.86107\n",
      "New best strategy at iteration  524  :  [ 146.  222.  701.   49. 1039. 1101.    0.    0.    0.    0.    0.    0.\n",
      "    0.    0.] Expected Profit: 1539936.25957\n",
      "New best strategy at iteration  524  :  [ 146.  222.  701.   50. 1038. 1101.    0.    0.    0.    0.    0.    0.\n",
      "    0.    0.] Expected Profit: 1539939.07327\n",
      "New best strategy at iteration  524  :  [ 146.  222.  701.   50. 1039. 1100.    0.    0.    0.    0.    0.    0.\n",
      "    0.    0.] Expected Profit: 1539942.3095700003\n",
      "New best strategy at iteration  525  :  [ 145.  222.  701.   50. 1039. 1100.    0.    0.    0.    0.    0.    0.\n",
      "    0.    0.] Expected Profit: 1539945.2338699999\n"
     ]
    },
    {
     "name": "stderr",
     "output_type": "stream",
     "text": [
      "\r",
      "  0%|                                                                         | 526/1000000 [01:53<58:17:24,  4.76it/s]"
     ]
    },
    {
     "name": "stdout",
     "output_type": "stream",
     "text": [
      "New best strategy at iteration  525  :  [ 146.  221.  701.   50. 1039. 1100.    0.    0.    0.    0.    0.    0.\n",
      "    0.    0.] Expected Profit: 1539946.7098700001\n",
      "New best strategy at iteration  525  :  [ 146.  222.  700.   50. 1039. 1100.    0.    0.    0.    0.    0.    0.\n",
      "    0.    0.] Expected Profit: 1539948.62887\n",
      "New best strategy at iteration  525  :  [ 146.  222.  701.   49. 1039. 1100.    0.    0.    0.    0.    0.    0.\n",
      "    0.    0.] Expected Profit: 1539951.02737\n",
      "New best strategy at iteration  525  :  [ 146.  222.  701.   50. 1038. 1100.    0.    0.    0.    0.    0.    0.\n",
      "    0.    0.] Expected Profit: 1539953.8410699998\n",
      "New best strategy at iteration  525  :  [ 146.  222.  701.   50. 1039. 1099.    0.    0.    0.    0.    0.    0.\n",
      "    0.    0.] Expected Profit: 1539957.0773699998\n",
      "New best strategy at iteration  526  :  [ 145.  222.  701.   50. 1039. 1099.    0.    0.    0.    0.    0.    0.\n",
      "    0.    0.] Expected Profit: 1539960.0016700001\n"
     ]
    },
    {
     "name": "stderr",
     "output_type": "stream",
     "text": [
      "\r",
      "  0%|                                                                         | 527/1000000 [01:53<57:54:52,  4.79it/s]"
     ]
    },
    {
     "name": "stdout",
     "output_type": "stream",
     "text": [
      "New best strategy at iteration  526  :  [ 146.  221.  701.   50. 1039. 1099.    0.    0.    0.    0.    0.    0.\n",
      "    0.    0.] Expected Profit: 1539961.4776700002\n",
      "New best strategy at iteration  526  :  [ 146.  222.  700.   50. 1039. 1099.    0.    0.    0.    0.    0.    0.\n",
      "    0.    0.] Expected Profit: 1539963.3966700002\n",
      "New best strategy at iteration  526  :  [ 146.  222.  701.   49. 1039. 1099.    0.    0.    0.    0.    0.    0.\n",
      "    0.    0.] Expected Profit: 1539965.7951699998\n",
      "New best strategy at iteration  526  :  [ 146.  222.  701.   50. 1038. 1099.    0.    0.    0.    0.    0.    0.\n",
      "    0.    0.] Expected Profit: 1539968.6088699999\n",
      "New best strategy at iteration  526  :  [ 146.  222.  701.   50. 1039. 1098.    0.    0.    0.    0.    0.    0.\n",
      "    0.    0.] Expected Profit: 1539971.84517\n",
      "New best strategy at iteration  527  :  [ 145.  222.  701.   50. 1039. 1098.    0.    0.    0.    0.    0.    0.\n",
      "    0.    0.] Expected Profit: 1539974.76947\n",
      "New best strategy at iteration  527  :  [ 146.  221.  701.   50. 1039. 1098.    0.    0.    0.    0.    0.    0.\n",
      "    0.    0.] Expected Profit: 1539976.2454700002\n"
     ]
    },
    {
     "name": "stderr",
     "output_type": "stream",
     "text": [
      "\r",
      "  0%|                                                                         | 528/1000000 [01:54<57:37:27,  4.82it/s]"
     ]
    },
    {
     "name": "stdout",
     "output_type": "stream",
     "text": [
      "New best strategy at iteration  527  :  [ 146.  222.  700.   50. 1039. 1098.    0.    0.    0.    0.    0.    0.\n",
      "    0.    0.] Expected Profit: 1539978.16447\n",
      "New best strategy at iteration  527  :  [ 146.  222.  701.   49. 1039. 1098.    0.    0.    0.    0.    0.    0.\n",
      "    0.    0.] Expected Profit: 1539980.56297\n",
      "New best strategy at iteration  527  :  [ 146.  222.  701.   50. 1038. 1098.    0.    0.    0.    0.    0.    0.\n",
      "    0.    0.] Expected Profit: 1539983.37667\n",
      "New best strategy at iteration  527  :  [ 146.  222.  701.   50. 1039. 1097.    0.    0.    0.    0.    0.    0.\n",
      "    0.    0.] Expected Profit: 1539986.61297\n",
      "New best strategy at iteration  528  :  [ 145.  222.  701.   50. 1039. 1097.    0.    0.    0.    0.    0.    0.\n",
      "    0.    0.] Expected Profit: 1539989.53727\n",
      "New best strategy at iteration  528  :  [ 146.  221.  701.   50. 1039. 1097.    0.    0.    0.    0.    0.    0.\n",
      "    0.    0.] Expected Profit: 1539991.01327\n",
      "New best strategy at iteration  528  :  [ 146.  222.  700.   50. 1039. 1097.    0.    0.    0.    0.    0.    0.\n",
      "    0.    0.] Expected Profit: 1539992.93227\n"
     ]
    },
    {
     "name": "stderr",
     "output_type": "stream",
     "text": [
      "\r",
      "  0%|                                                                         | 529/1000000 [01:54<57:11:24,  4.85it/s]"
     ]
    },
    {
     "name": "stdout",
     "output_type": "stream",
     "text": [
      "New best strategy at iteration  528  :  [ 146.  222.  701.   49. 1039. 1097.    0.    0.    0.    0.    0.    0.\n",
      "    0.    0.] Expected Profit: 1539995.33077\n",
      "New best strategy at iteration  528  :  [ 146.  222.  701.   50. 1038. 1097.    0.    0.    0.    0.    0.    0.\n",
      "    0.    0.] Expected Profit: 1539998.1444699997\n",
      "New best strategy at iteration  528  :  [ 146.  222.  701.   50. 1039. 1096.    0.    0.    0.    0.    0.    0.\n",
      "    0.    0.] Expected Profit: 1540001.38077\n",
      "New best strategy at iteration  529  :  [ 145.  222.  701.   50. 1039. 1096.    0.    0.    0.    0.    0.    0.\n",
      "    0.    0.] Expected Profit: 1540004.30507\n",
      "New best strategy at iteration  529  :  [ 146.  221.  701.   50. 1039. 1096.    0.    0.    0.    0.    0.    0.\n",
      "    0.    0.] Expected Profit: 1540005.78107\n",
      "New best strategy at iteration  529  :  [ 146.  222.  700.   50. 1039. 1096.    0.    0.    0.    0.    0.    0.\n",
      "    0.    0.] Expected Profit: 1540007.7000700003\n"
     ]
    },
    {
     "name": "stderr",
     "output_type": "stream",
     "text": [
      "\r",
      "  0%|                                                                         | 530/1000000 [01:54<61:17:52,  4.53it/s]"
     ]
    },
    {
     "name": "stdout",
     "output_type": "stream",
     "text": [
      "New best strategy at iteration  529  :  [ 146.  222.  701.   49. 1039. 1096.    0.    0.    0.    0.    0.    0.\n",
      "    0.    0.] Expected Profit: 1540010.0985699997\n",
      "New best strategy at iteration  529  :  [ 146.  222.  701.   50. 1038. 1096.    0.    0.    0.    0.    0.    0.\n",
      "    0.    0.] Expected Profit: 1540012.91227\n",
      "New best strategy at iteration  529  :  [ 146.  222.  701.   50. 1039. 1095.    0.    0.    0.    0.    0.    0.\n",
      "    0.    0.] Expected Profit: 1540016.1485699997\n"
     ]
    },
    {
     "name": "stderr",
     "output_type": "stream",
     "text": [
      "\r",
      "  0%|                                                                         | 531/1000000 [01:54<64:33:00,  4.30it/s]"
     ]
    },
    {
     "name": "stdout",
     "output_type": "stream",
     "text": [
      "New best strategy at iteration  530  :  [ 145.  222.  701.   50. 1039. 1095.    0.    0.    0.    0.    0.    0.\n",
      "    0.    0.] Expected Profit: 1540019.0728699998\n",
      "New best strategy at iteration  530  :  [ 146.  221.  701.   50. 1039. 1095.    0.    0.    0.    0.    0.    0.\n",
      "    0.    0.] Expected Profit: 1540020.5488699998\n",
      "New best strategy at iteration  530  :  [ 146.  222.  700.   50. 1039. 1095.    0.    0.    0.    0.    0.    0.\n",
      "    0.    0.] Expected Profit: 1540022.4678699998\n",
      "New best strategy at iteration  530  :  [ 146.  222.  701.   49. 1039. 1095.    0.    0.    0.    0.    0.    0.\n",
      "    0.    0.] Expected Profit: 1540024.8663699997\n",
      "New best strategy at iteration  530  :  [ 146.  222.  701.   50. 1038. 1095.    0.    0.    0.    0.    0.    0.\n",
      "    0.    0.] Expected Profit: 1540027.6800699998\n",
      "New best strategy at iteration  530  :  [ 146.  222.  701.   50. 1039. 1094.    0.    0.    0.    0.    0.    0.\n",
      "    0.    0.] Expected Profit: 1540030.9163700002\n"
     ]
    },
    {
     "name": "stderr",
     "output_type": "stream",
     "text": [
      "\r",
      "  0%|                                                                         | 532/1000000 [01:54<61:55:39,  4.48it/s]"
     ]
    },
    {
     "name": "stdout",
     "output_type": "stream",
     "text": [
      "New best strategy at iteration  531  :  [ 145.  222.  701.   50. 1039. 1094.    0.    0.    0.    0.    0.    0.\n",
      "    0.    0.] Expected Profit: 1540033.84067\n",
      "New best strategy at iteration  531  :  [ 146.  221.  701.   50. 1039. 1094.    0.    0.    0.    0.    0.    0.\n",
      "    0.    0.] Expected Profit: 1540035.31667\n",
      "New best strategy at iteration  531  :  [ 146.  222.  700.   50. 1039. 1094.    0.    0.    0.    0.    0.    0.\n",
      "    0.    0.] Expected Profit: 1540037.23567\n",
      "New best strategy at iteration  531  :  [ 146.  222.  701.   49. 1039. 1094.    0.    0.    0.    0.    0.    0.\n",
      "    0.    0.] Expected Profit: 1540039.63417\n",
      "New best strategy at iteration  531  :  [ 146.  222.  701.   50. 1038. 1094.    0.    0.    0.    0.    0.    0.\n",
      "    0.    0.] Expected Profit: 1540042.4478699998\n",
      "New best strategy at iteration  531  :  [ 146.  222.  701.   50. 1039. 1093.    0.    0.    0.    0.    0.    0.\n",
      "    0.    0.] Expected Profit: 1540045.6841699998\n",
      "New best strategy at iteration  532  :  [ 145.  222.  701.   50. 1039. 1093.    0.    0.    0.    0.    0.    0.\n",
      "    0.    0.] Expected Profit: 1540048.60847\n"
     ]
    },
    {
     "name": "stderr",
     "output_type": "stream",
     "text": [
      "\r",
      "  0%|                                                                         | 533/1000000 [01:55<60:02:30,  4.62it/s]"
     ]
    },
    {
     "name": "stdout",
     "output_type": "stream",
     "text": [
      "New best strategy at iteration  532  :  [ 146.  221.  701.   50. 1039. 1093.    0.    0.    0.    0.    0.    0.\n",
      "    0.    0.] Expected Profit: 1540050.0844700001\n",
      "New best strategy at iteration  532  :  [ 146.  222.  700.   50. 1039. 1093.    0.    0.    0.    0.    0.    0.\n",
      "    0.    0.] Expected Profit: 1540052.00347\n",
      "New best strategy at iteration  532  :  [ 146.  222.  701.   49. 1039. 1093.    0.    0.    0.    0.    0.    0.\n",
      "    0.    0.] Expected Profit: 1540054.4019699998\n",
      "New best strategy at iteration  532  :  [ 146.  222.  701.   50. 1038. 1093.    0.    0.    0.    0.    0.    0.\n",
      "    0.    0.] Expected Profit: 1540057.2156699998\n",
      "New best strategy at iteration  532  :  [ 146.  222.  701.   50. 1039. 1092.    0.    0.    0.    0.    0.    0.\n",
      "    0.    0.] Expected Profit: 1540060.4519699998\n",
      "New best strategy at iteration  533  :  [ 145.  222.  701.   50. 1039. 1092.    0.    0.    0.    0.    0.    0.\n",
      "    0.    0.] Expected Profit: 1540063.37627\n",
      "New best strategy at iteration  533  :  [ 146.  221.  701.   50. 1039. 1092.    0.    0.    0.    0.    0.    0.\n",
      "    0.    0.] Expected Profit: 1540064.85227\n",
      "New best strategy at iteration  533  :  [ 146.  222.  700.   50. 1039. 1092.    0.    0.    0.    0.    0.    0.\n",
      "    0.    0.] Expected Profit: 1540066.77127\n",
      "New best strategy at iteration  533  :  [ 146.  222.  701.   49. 1039. 1092.    0.    0.    0.    0.    0.    0.\n",
      "    0.    0.] Expected Profit: 1540069.1697699998\n"
     ]
    },
    {
     "name": "stderr",
     "output_type": "stream",
     "text": [
      "\r",
      "  0%|                                                                         | 534/1000000 [01:55<58:48:46,  4.72it/s]"
     ]
    },
    {
     "name": "stdout",
     "output_type": "stream",
     "text": [
      "New best strategy at iteration  533  :  [ 146.  222.  701.   50. 1038. 1092.    0.    0.    0.    0.    0.    0.\n",
      "    0.    0.] Expected Profit: 1540071.9834699999\n",
      "New best strategy at iteration  533  :  [ 146.  222.  701.   50. 1039. 1091.    0.    0.    0.    0.    0.    0.\n",
      "    0.    0.] Expected Profit: 1540075.21977\n",
      "New best strategy at iteration  534  :  [ 145.  222.  701.   50. 1039. 1091.    0.    0.    0.    0.    0.    0.\n",
      "    0.    0.] Expected Profit: 1540078.1440700002\n",
      "New best strategy at iteration  534  :  [ 146.  221.  701.   50. 1039. 1091.    0.    0.    0.    0.    0.    0.\n",
      "    0.    0.] Expected Profit: 1540079.6200700002\n",
      "New best strategy at iteration  534  :  [ 146.  222.  700.   50. 1039. 1091.    0.    0.    0.    0.    0.    0.\n",
      "    0.    0.] Expected Profit: 1540081.53907\n",
      "New best strategy at iteration  534  :  [ 146.  222.  701.   49. 1039. 1091.    0.    0.    0.    0.    0.    0.\n",
      "    0.    0.] Expected Profit: 1540083.93757\n",
      "New best strategy at iteration  534  :  [ 146.  222.  701.   50. 1038. 1091.    0.    0.    0.    0.    0.    0.\n",
      "    0.    0.] Expected Profit: 1540086.75127\n",
      "New best strategy at iteration  534  :  [ 146.  222.  701.   50. 1039. 1090.    0.    0.    0.    0.    0.    0.\n",
      "    0.    0.] Expected Profit: 1540089.9875699999\n"
     ]
    },
    {
     "name": "stderr",
     "output_type": "stream",
     "text": [
      "  0%|                                                                         | 536/1000000 [01:55<57:28:49,  4.83it/s]"
     ]
    },
    {
     "name": "stdout",
     "output_type": "stream",
     "text": [
      "New best strategy at iteration  535  :  [ 145.  222.  701.   50. 1039. 1090.    0.    0.    0.    0.    0.    0.\n",
      "    0.    0.] Expected Profit: 1540092.91187\n",
      "New best strategy at iteration  535  :  [ 146.  221.  701.   50. 1039. 1090.    0.    0.    0.    0.    0.    0.\n",
      "    0.    0.] Expected Profit: 1540094.38787\n",
      "New best strategy at iteration  535  :  [ 146.  222.  700.   50. 1039. 1090.    0.    0.    0.    0.    0.    0.\n",
      "    0.    0.] Expected Profit: 1540096.3068700004\n",
      "New best strategy at iteration  535  :  [ 146.  222.  701.   49. 1039. 1090.    0.    0.    0.    0.    0.    0.\n",
      "    0.    0.] Expected Profit: 1540098.7053699999\n",
      "New best strategy at iteration  535  :  [ 146.  222.  701.   50. 1038. 1090.    0.    0.    0.    0.    0.    0.\n",
      "    0.    0.] Expected Profit: 1540101.5190700002\n",
      "New best strategy at iteration  535  :  [ 146.  222.  701.   50. 1039. 1089.    0.    0.    0.    0.    0.    0.\n",
      "    0.    0.] Expected Profit: 1540104.75537\n",
      "New best strategy at iteration  536  :  [ 145.  222.  701.   50. 1039. 1089.    0.    0.    0.    0.    0.    0.\n",
      "    0.    0.] Expected Profit: 1540107.67967\n",
      "New best strategy at iteration  536  :  [ 146.  221.  701.   50. 1039. 1089.    0.    0.    0.    0.    0.    0.\n",
      "    0.    0.] Expected Profit: 1540109.1556699998\n",
      "New best strategy at iteration  536  :  [ 146.  222.  700.   50. 1039. 1089.    0.    0.    0.    0.    0.    0.\n",
      "    0.    0.] Expected Profit: 1540111.07467\n",
      "New best strategy at iteration  536  :  [ 146.  222.  701.   49. 1039. 1089.    0.    0.    0.    0.    0.    0.\n",
      "    0.    0.] Expected Profit: 1540113.4731700001\n",
      "New best strategy at iteration  536  :  [ 146.  222.  701.   50. 1038. 1089.    0.    0.    0.    0.    0.    0.\n",
      "    0.    0.] Expected Profit: 1540116.28687\n",
      "New best strategy at iteration  536  :  [ 146.  222.  701.   50. 1039. 1088.    0.    0.    0.    0.    0.    0.\n",
      "    0.    0.] Expected Profit: 1540119.5231700002\n"
     ]
    },
    {
     "name": "stderr",
     "output_type": "stream",
     "text": [
      "\r",
      "  0%|                                                                         | 537/1000000 [01:56<64:52:41,  4.28it/s]"
     ]
    },
    {
     "name": "stdout",
     "output_type": "stream",
     "text": [
      "New best strategy at iteration  537  :  [ 145.  222.  701.   50. 1039. 1088.    0.    0.    0.    0.    0.    0.\n",
      "    0.    0.] Expected Profit: 1540122.44747\n",
      "New best strategy at iteration  537  :  [ 146.  221.  701.   50. 1039. 1088.    0.    0.    0.    0.    0.    0.\n",
      "    0.    0.] Expected Profit: 1540123.9234699998\n",
      "New best strategy at iteration  537  :  [ 146.  222.  700.   50. 1039. 1088.    0.    0.    0.    0.    0.    0.\n",
      "    0.    0.] Expected Profit: 1540125.84247\n",
      "New best strategy at iteration  537  :  [ 146.  222.  701.   49. 1039. 1088.    0.    0.    0.    0.    0.    0.\n",
      "    0.    0.] Expected Profit: 1540128.2409699997\n",
      "New best strategy at iteration  537  :  [ 146.  222.  701.   50. 1038. 1088.    0.    0.    0.    0.    0.    0.\n",
      "    0.    0.] Expected Profit: 1540131.0546699998\n",
      "New best strategy at iteration  537  :  [ 146.  222.  701.   50. 1039. 1087.    0.    0.    0.    0.    0.    0.\n",
      "    0.    0.] Expected Profit: 1540134.29097\n"
     ]
    },
    {
     "name": "stderr",
     "output_type": "stream",
     "text": [
      "  0%|                                                                         | 539/1000000 [01:56<63:27:25,  4.38it/s]"
     ]
    },
    {
     "name": "stdout",
     "output_type": "stream",
     "text": [
      "New best strategy at iteration  538  :  [ 145.  222.  701.   50. 1039. 1087.    0.    0.    0.    0.    0.    0.\n",
      "    0.    0.] Expected Profit: 1540137.21527\n",
      "New best strategy at iteration  538  :  [ 146.  221.  701.   50. 1039. 1087.    0.    0.    0.    0.    0.    0.\n",
      "    0.    0.] Expected Profit: 1540138.69127\n",
      "New best strategy at iteration  538  :  [ 146.  222.  700.   50. 1039. 1087.    0.    0.    0.    0.    0.    0.\n",
      "    0.    0.] Expected Profit: 1540140.61027\n",
      "New best strategy at iteration  538  :  [ 146.  222.  701.   49. 1039. 1087.    0.    0.    0.    0.    0.    0.\n",
      "    0.    0.] Expected Profit: 1540143.00877\n",
      "New best strategy at iteration  538  :  [ 146.  222.  701.   50. 1038. 1087.    0.    0.    0.    0.    0.    0.\n",
      "    0.    0.] Expected Profit: 1540145.8224699998\n",
      "New best strategy at iteration  538  :  [ 146.  222.  701.   50. 1039. 1086.    0.    0.    0.    0.    0.    0.\n",
      "    0.    0.] Expected Profit: 1540149.05877\n"
     ]
    },
    {
     "name": "stderr",
     "output_type": "stream",
     "text": [
      "\r",
      "  0%|                                                                         | 540/1000000 [01:56<61:26:20,  4.52it/s]"
     ]
    },
    {
     "name": "stdout",
     "output_type": "stream",
     "text": [
      "New best strategy at iteration  539  :  [ 145.  222.  701.   50. 1039. 1086.    0.    0.    0.    0.    0.    0.\n",
      "    0.    0.] Expected Profit: 1540151.9830699998\n",
      "New best strategy at iteration  539  :  [ 146.  221.  701.   50. 1039. 1086.    0.    0.    0.    0.    0.    0.\n",
      "    0.    0.] Expected Profit: 1540153.45907\n",
      "New best strategy at iteration  539  :  [ 146.  222.  700.   50. 1039. 1086.    0.    0.    0.    0.    0.    0.\n",
      "    0.    0.] Expected Profit: 1540155.37807\n",
      "New best strategy at iteration  539  :  [ 146.  222.  701.   49. 1039. 1086.    0.    0.    0.    0.    0.    0.\n",
      "    0.    0.] Expected Profit: 1540157.77657\n",
      "New best strategy at iteration  539  :  [ 146.  222.  701.   50. 1038. 1086.    0.    0.    0.    0.    0.    0.\n",
      "    0.    0.] Expected Profit: 1540160.59027\n",
      "New best strategy at iteration  539  :  [ 146.  222.  701.   50. 1039. 1085.    0.    0.    0.    0.    0.    0.\n",
      "    0.    0.] Expected Profit: 1540163.8265699998\n"
     ]
    },
    {
     "name": "stderr",
     "output_type": "stream",
     "text": [
      "\r",
      "  0%|                                                                         | 541/1000000 [01:56<60:21:41,  4.60it/s]"
     ]
    },
    {
     "name": "stdout",
     "output_type": "stream",
     "text": [
      "New best strategy at iteration  540  :  [ 145.  222.  701.   50. 1039. 1085.    0.    0.    0.    0.    0.    0.\n",
      "    0.    0.] Expected Profit: 1540166.7508699999\n",
      "New best strategy at iteration  540  :  [ 146.  221.  701.   50. 1039. 1085.    0.    0.    0.    0.    0.    0.\n",
      "    0.    0.] Expected Profit: 1540168.22687\n",
      "New best strategy at iteration  540  :  [ 146.  222.  700.   50. 1039. 1085.    0.    0.    0.    0.    0.    0.\n",
      "    0.    0.] Expected Profit: 1540170.1458700001\n",
      "New best strategy at iteration  540  :  [ 146.  222.  701.   49. 1039. 1085.    0.    0.    0.    0.    0.    0.\n",
      "    0.    0.] Expected Profit: 1540172.5443699998\n",
      "New best strategy at iteration  540  :  [ 146.  222.  701.   50. 1038. 1085.    0.    0.    0.    0.    0.    0.\n",
      "    0.    0.] Expected Profit: 1540175.3580699996\n",
      "New best strategy at iteration  540  :  [ 146.  222.  701.   50. 1039. 1084.    0.    0.    0.    0.    0.    0.\n",
      "    0.    0.] Expected Profit: 1540178.5943699998\n",
      "New best strategy at iteration  541  :  [ 145.  222.  701.   50. 1039. 1084.    0.    0.    0.    0.    0.    0.\n",
      "    0.    0.] Expected Profit: 1540181.5186700001\n",
      "New best strategy at iteration  541  :  [ 146.  221.  701.   50. 1039. 1084.    0.    0.    0.    0.    0.    0.\n",
      "    0.    0.] Expected Profit: 1540182.9946700002\n",
      "New best strategy at iteration  541  :  [ 146.  222.  700.   50. 1039. 1084.    0.    0.    0.    0.    0.    0.\n",
      "    0.    0.] Expected Profit: 1540184.9136700002\n",
      "New best strategy at iteration  541  :  [ 146.  222.  701.   49. 1039. 1084.    0.    0.    0.    0.    0.    0.\n",
      "    0.    0.] Expected Profit: 1540187.31217\n",
      "New best strategy at iteration  541  :  [ 146.  222.  701.   50. 1038. 1084.    0.    0.    0.    0.    0.    0.\n",
      "    0.    0.] Expected Profit: 1540190.1258699999\n",
      "New best strategy at iteration  541  :  [ 146.  222.  701.   50. 1039. 1083.    0.    0.    0.    0.    0.    0.\n",
      "    0.    0.] Expected Profit: 1540193.36217\n"
     ]
    },
    {
     "name": "stderr",
     "output_type": "stream",
     "text": [
      "  0%|                                                                         | 543/1000000 [01:57<58:13:23,  4.77it/s]"
     ]
    },
    {
     "name": "stdout",
     "output_type": "stream",
     "text": [
      "New best strategy at iteration  542  :  [ 145.  222.  701.   50. 1039. 1083.    0.    0.    0.    0.    0.    0.\n",
      "    0.    0.] Expected Profit: 1540196.28647\n",
      "New best strategy at iteration  542  :  [ 146.  221.  701.   50. 1039. 1083.    0.    0.    0.    0.    0.    0.\n",
      "    0.    0.] Expected Profit: 1540197.7624700002\n",
      "New best strategy at iteration  542  :  [ 146.  222.  700.   50. 1039. 1083.    0.    0.    0.    0.    0.    0.\n",
      "    0.    0.] Expected Profit: 1540199.68147\n",
      "New best strategy at iteration  542  :  [ 146.  222.  701.   49. 1039. 1083.    0.    0.    0.    0.    0.    0.\n",
      "    0.    0.] Expected Profit: 1540202.0799699998\n",
      "New best strategy at iteration  542  :  [ 146.  222.  701.   50. 1038. 1083.    0.    0.    0.    0.    0.    0.\n",
      "    0.    0.] Expected Profit: 1540204.89367\n",
      "New best strategy at iteration  542  :  [ 146.  222.  701.   50. 1039. 1082.    0.    0.    0.    0.    0.    0.\n",
      "    0.    0.] Expected Profit: 1540208.12997\n",
      "New best strategy at iteration  543  :  [ 145.  222.  701.   50. 1039. 1082.    0.    0.    0.    0.    0.    0.\n",
      "    0.    0.] Expected Profit: 1540211.05427\n"
     ]
    },
    {
     "name": "stderr",
     "output_type": "stream",
     "text": [
      "\r",
      "  0%|                                                                         | 544/1000000 [01:57<57:39:16,  4.82it/s]"
     ]
    },
    {
     "name": "stdout",
     "output_type": "stream",
     "text": [
      "New best strategy at iteration  543  :  [ 146.  221.  701.   50. 1039. 1082.    0.    0.    0.    0.    0.    0.\n",
      "    0.    0.] Expected Profit: 1540212.53027\n",
      "New best strategy at iteration  543  :  [ 146.  222.  700.   50. 1039. 1082.    0.    0.    0.    0.    0.    0.\n",
      "    0.    0.] Expected Profit: 1540214.44927\n",
      "New best strategy at iteration  543  :  [ 146.  222.  701.   49. 1039. 1082.    0.    0.    0.    0.    0.    0.\n",
      "    0.    0.] Expected Profit: 1540216.8477699999\n",
      "New best strategy at iteration  543  :  [ 146.  222.  701.   50. 1038. 1082.    0.    0.    0.    0.    0.    0.\n",
      "    0.    0.] Expected Profit: 1540219.6614699997\n",
      "New best strategy at iteration  543  :  [ 146.  222.  701.   50. 1039. 1081.    0.    0.    0.    0.    0.    0.\n",
      "    0.    0.] Expected Profit: 1540222.89777\n",
      "New best strategy at iteration  544  :  [ 145.  222.  701.   50. 1039. 1081.    0.    0.    0.    0.    0.    0.\n",
      "    0.    0.] Expected Profit: 1540225.82207\n",
      "New best strategy at iteration  544  :  [ 146.  221.  701.   50. 1039. 1081.    0.    0.    0.    0.    0.    0.\n",
      "    0.    0.] Expected Profit: 1540227.2980699998\n"
     ]
    },
    {
     "name": "stderr",
     "output_type": "stream",
     "text": [
      "\r",
      "  0%|                                                                         | 545/1000000 [01:57<57:06:21,  4.86it/s]"
     ]
    },
    {
     "name": "stdout",
     "output_type": "stream",
     "text": [
      "New best strategy at iteration  544  :  [ 146.  222.  700.   50. 1039. 1081.    0.    0.    0.    0.    0.    0.\n",
      "    0.    0.] Expected Profit: 1540229.21707\n",
      "New best strategy at iteration  544  :  [ 146.  222.  701.   49. 1039. 1081.    0.    0.    0.    0.    0.    0.\n",
      "    0.    0.] Expected Profit: 1540231.6155699997\n",
      "New best strategy at iteration  544  :  [ 146.  222.  701.   50. 1038. 1081.    0.    0.    0.    0.    0.    0.\n",
      "    0.    0.] Expected Profit: 1540234.42927\n",
      "New best strategy at iteration  544  :  [ 146.  222.  701.   50. 1039. 1080.    0.    0.    0.    0.    0.    0.\n",
      "    0.    0.] Expected Profit: 1540237.6655700002\n",
      "New best strategy at iteration  545  :  [ 145.  222.  701.   50. 1039. 1080.    0.    0.    0.    0.    0.    0.\n",
      "    0.    0.] Expected Profit: 1540240.58987\n",
      "New best strategy at iteration  545  :  [ 146.  221.  701.   50. 1039. 1080.    0.    0.    0.    0.    0.    0.\n",
      "    0.    0.] Expected Profit: 1540242.06587\n",
      "New best strategy at iteration  545  :  [ 146.  222.  700.   50. 1039. 1080.    0.    0.    0.    0.    0.    0.\n",
      "    0.    0.] Expected Profit: 1540243.98487\n"
     ]
    },
    {
     "name": "stderr",
     "output_type": "stream",
     "text": [
      "\r",
      "  0%|                                                                         | 546/1000000 [01:57<56:58:49,  4.87it/s]"
     ]
    },
    {
     "name": "stdout",
     "output_type": "stream",
     "text": [
      "New best strategy at iteration  545  :  [ 146.  222.  701.   49. 1039. 1080.    0.    0.    0.    0.    0.    0.\n",
      "    0.    0.] Expected Profit: 1540246.38337\n",
      "New best strategy at iteration  545  :  [ 146.  222.  701.   50. 1038. 1080.    0.    0.    0.    0.    0.    0.\n",
      "    0.    0.] Expected Profit: 1540249.19707\n",
      "New best strategy at iteration  545  :  [ 146.  222.  701.   50. 1039. 1079.    0.    0.    0.    0.    0.    0.\n",
      "    0.    0.] Expected Profit: 1540252.43337\n",
      "New best strategy at iteration  546  :  [ 145.  222.  701.   50. 1039. 1079.    0.    0.    0.    0.    0.    0.\n",
      "    0.    0.] Expected Profit: 1540255.35767\n",
      "New best strategy at iteration  546  :  [ 146.  221.  701.   50. 1039. 1079.    0.    0.    0.    0.    0.    0.\n",
      "    0.    0.] Expected Profit: 1540256.8336699998\n",
      "New best strategy at iteration  546  :  [ 146.  222.  700.   50. 1039. 1079.    0.    0.    0.    0.    0.    0.\n",
      "    0.    0.] Expected Profit: 1540258.75267\n"
     ]
    },
    {
     "name": "stderr",
     "output_type": "stream",
     "text": [
      "\r",
      "  0%|                                                                         | 547/1000000 [01:58<56:48:51,  4.89it/s]"
     ]
    },
    {
     "name": "stdout",
     "output_type": "stream",
     "text": [
      "New best strategy at iteration  546  :  [ 146.  222.  701.   49. 1039. 1079.    0.    0.    0.    0.    0.    0.\n",
      "    0.    0.] Expected Profit: 1540261.1511699997\n",
      "New best strategy at iteration  546  :  [ 146.  222.  701.   50. 1038. 1079.    0.    0.    0.    0.    0.    0.\n",
      "    0.    0.] Expected Profit: 1540263.9648699998\n",
      "New best strategy at iteration  546  :  [ 146.  222.  701.   50. 1039. 1078.    0.    0.    0.    0.    0.    0.\n",
      "    0.    0.] Expected Profit: 1540267.20117\n",
      "New best strategy at iteration  547  :  [ 145.  222.  701.   50. 1039. 1078.    0.    0.    0.    0.    0.    0.\n",
      "    0.    0.] Expected Profit: 1540270.1254699999\n",
      "New best strategy at iteration  547  :  [ 146.  221.  701.   50. 1039. 1078.    0.    0.    0.    0.    0.    0.\n",
      "    0.    0.] Expected Profit: 1540271.6014699999\n",
      "New best strategy at iteration  547  :  [ 146.  222.  700.   50. 1039. 1078.    0.    0.    0.    0.    0.    0.\n",
      "    0.    0.] Expected Profit: 1540273.52047\n",
      "New best strategy at iteration  547  :  [ 146.  222.  701.   49. 1039. 1078.    0.    0.    0.    0.    0.    0.\n",
      "    0.    0.] Expected Profit: 1540275.9189699998\n"
     ]
    },
    {
     "name": "stderr",
     "output_type": "stream",
     "text": [
      "\r",
      "  0%|                                                                         | 548/1000000 [01:58<56:17:50,  4.93it/s]"
     ]
    },
    {
     "name": "stdout",
     "output_type": "stream",
     "text": [
      "New best strategy at iteration  547  :  [ 146.  222.  701.   50. 1038. 1078.    0.    0.    0.    0.    0.    0.\n",
      "    0.    0.] Expected Profit: 1540278.7326699998\n",
      "New best strategy at iteration  547  :  [ 146.  222.  701.   50. 1039. 1077.    0.    0.    0.    0.    0.    0.\n",
      "    0.    0.] Expected Profit: 1540281.96897\n",
      "New best strategy at iteration  548  :  [ 145.  222.  701.   50. 1039. 1077.    0.    0.    0.    0.    0.    0.\n",
      "    0.    0.] Expected Profit: 1540284.89327\n",
      "New best strategy at iteration  548  :  [ 146.  221.  701.   50. 1039. 1077.    0.    0.    0.    0.    0.    0.\n",
      "    0.    0.] Expected Profit: 1540286.36927\n",
      "New best strategy at iteration  548  :  [ 146.  222.  700.   50. 1039. 1077.    0.    0.    0.    0.    0.    0.\n",
      "    0.    0.] Expected Profit: 1540288.28827\n",
      "New best strategy at iteration  548  :  [ 146.  222.  701.   49. 1039. 1077.    0.    0.    0.    0.    0.    0.\n",
      "    0.    0.] Expected Profit: 1540290.68677\n"
     ]
    },
    {
     "name": "stderr",
     "output_type": "stream",
     "text": [
      "\r",
      "  0%|                                                                         | 549/1000000 [01:58<57:16:31,  4.85it/s]"
     ]
    },
    {
     "name": "stdout",
     "output_type": "stream",
     "text": [
      "New best strategy at iteration  548  :  [ 146.  222.  701.   50. 1038. 1077.    0.    0.    0.    0.    0.    0.\n",
      "    0.    0.] Expected Profit: 1540293.5004699999\n",
      "New best strategy at iteration  548  :  [ 146.  222.  701.   50. 1039. 1076.    0.    0.    0.    0.    0.    0.\n",
      "    0.    0.] Expected Profit: 1540296.73677\n",
      "New best strategy at iteration  549  :  [ 145.  222.  701.   50. 1039. 1076.    0.    0.    0.    0.    0.    0.\n",
      "    0.    0.] Expected Profit: 1540299.6610700001\n",
      "New best strategy at iteration  549  :  [ 146.  221.  701.   50. 1039. 1076.    0.    0.    0.    0.    0.    0.\n",
      "    0.    0.] Expected Profit: 1540301.13707\n",
      "New best strategy at iteration  549  :  [ 146.  222.  700.   50. 1039. 1076.    0.    0.    0.    0.    0.    0.\n",
      "    0.    0.] Expected Profit: 1540303.0560700002\n",
      "New best strategy at iteration  549  :  [ 146.  222.  701.   49. 1039. 1076.    0.    0.    0.    0.    0.    0.\n",
      "    0.    0.] Expected Profit: 1540305.4545699996\n",
      "New best strategy at iteration  549  :  [ 146.  222.  701.   50. 1038. 1076.    0.    0.    0.    0.    0.    0.\n",
      "    0.    0.] Expected Profit: 1540308.26827\n"
     ]
    },
    {
     "name": "stderr",
     "output_type": "stream",
     "text": [
      "\r",
      "  0%|                                                                         | 550/1000000 [01:58<56:49:45,  4.89it/s]"
     ]
    },
    {
     "name": "stdout",
     "output_type": "stream",
     "text": [
      "New best strategy at iteration  549  :  [ 146.  222.  701.   50. 1039. 1075.    0.    0.    0.    0.    0.    0.\n",
      "    0.    0.] Expected Profit: 1540311.5045699999\n",
      "New best strategy at iteration  550  :  [ 145.  222.  701.   50. 1039. 1075.    0.    0.    0.    0.    0.    0.\n",
      "    0.    0.] Expected Profit: 1540314.4288700002\n",
      "New best strategy at iteration  550  :  [ 146.  221.  701.   50. 1039. 1075.    0.    0.    0.    0.    0.    0.\n",
      "    0.    0.] Expected Profit: 1540315.90487\n",
      "New best strategy at iteration  550  :  [ 146.  222.  700.   50. 1039. 1075.    0.    0.    0.    0.    0.    0.\n",
      "    0.    0.] Expected Profit: 1540317.82387\n",
      "New best strategy at iteration  550  :  [ 146.  222.  701.   49. 1039. 1075.    0.    0.    0.    0.    0.    0.\n",
      "    0.    0.] Expected Profit: 1540320.2223699999\n",
      "New best strategy at iteration  550  :  [ 146.  222.  701.   50. 1038. 1075.    0.    0.    0.    0.    0.    0.\n",
      "    0.    0.] Expected Profit: 1540323.0360699997\n",
      "New best strategy at iteration  550  :  [ 146.  222.  701.   50. 1039. 1074.    0.    0.    0.    0.    0.    0.\n",
      "    0.    0.] Expected Profit: 1540326.27237\n"
     ]
    },
    {
     "name": "stderr",
     "output_type": "stream",
     "text": [
      "  0%|                                                                         | 552/1000000 [01:59<56:29:55,  4.91it/s]"
     ]
    },
    {
     "name": "stdout",
     "output_type": "stream",
     "text": [
      "New best strategy at iteration  551  :  [ 145.  222.  701.   50. 1039. 1074.    0.    0.    0.    0.    0.    0.\n",
      "    0.    0.] Expected Profit: 1540329.19667\n",
      "New best strategy at iteration  551  :  [ 146.  221.  701.   50. 1039. 1074.    0.    0.    0.    0.    0.    0.\n",
      "    0.    0.] Expected Profit: 1540330.6726699998\n",
      "New best strategy at iteration  551  :  [ 146.  222.  700.   50. 1039. 1074.    0.    0.    0.    0.    0.    0.\n",
      "    0.    0.] Expected Profit: 1540332.5916699998\n",
      "New best strategy at iteration  551  :  [ 146.  222.  701.   49. 1039. 1074.    0.    0.    0.    0.    0.    0.\n",
      "    0.    0.] Expected Profit: 1540334.99017\n",
      "New best strategy at iteration  551  :  [ 146.  222.  701.   50. 1038. 1074.    0.    0.    0.    0.    0.    0.\n",
      "    0.    0.] Expected Profit: 1540337.80387\n",
      "New best strategy at iteration  551  :  [ 146.  222.  701.   50. 1039. 1073.    0.    0.    0.    0.    0.    0.\n",
      "    0.    0.] Expected Profit: 1540341.0401700002\n",
      "New best strategy at iteration  552  :  [ 145.  222.  701.   50. 1039. 1073.    0.    0.    0.    0.    0.    0.\n",
      "    0.    0.] Expected Profit: 1540343.96447\n"
     ]
    },
    {
     "name": "stderr",
     "output_type": "stream",
     "text": [
      "\r",
      "  0%|                                                                         | 553/1000000 [01:59<56:13:24,  4.94it/s]"
     ]
    },
    {
     "name": "stdout",
     "output_type": "stream",
     "text": [
      "New best strategy at iteration  552  :  [ 146.  221.  701.   50. 1039. 1073.    0.    0.    0.    0.    0.    0.\n",
      "    0.    0.] Expected Profit: 1540345.44047\n",
      "New best strategy at iteration  552  :  [ 146.  222.  700.   50. 1039. 1073.    0.    0.    0.    0.    0.    0.\n",
      "    0.    0.] Expected Profit: 1540347.3594700003\n",
      "New best strategy at iteration  552  :  [ 146.  222.  701.   49. 1039. 1073.    0.    0.    0.    0.    0.    0.\n",
      "    0.    0.] Expected Profit: 1540349.7579699997\n",
      "New best strategy at iteration  552  :  [ 146.  222.  701.   50. 1038. 1073.    0.    0.    0.    0.    0.    0.\n",
      "    0.    0.] Expected Profit: 1540352.57167\n",
      "New best strategy at iteration  552  :  [ 146.  222.  701.   50. 1039. 1072.    0.    0.    0.    0.    0.    0.\n",
      "    0.    0.] Expected Profit: 1540355.80797\n",
      "New best strategy at iteration  553  :  [ 145.  222.  701.   50. 1039. 1072.    0.    0.    0.    0.    0.    0.\n",
      "    0.    0.] Expected Profit: 1540358.73227\n",
      "New best strategy at iteration  553  :  [ 146.  221.  701.   50. 1039. 1072.    0.    0.    0.    0.    0.    0.\n",
      "    0.    0.] Expected Profit: 1540360.20827\n"
     ]
    },
    {
     "name": "stderr",
     "output_type": "stream",
     "text": [
      "\r",
      "  0%|                                                                         | 554/1000000 [01:59<56:34:51,  4.91it/s]"
     ]
    },
    {
     "name": "stdout",
     "output_type": "stream",
     "text": [
      "New best strategy at iteration  553  :  [ 146.  222.  700.   50. 1039. 1072.    0.    0.    0.    0.    0.    0.\n",
      "    0.    0.] Expected Profit: 1540362.1272700003\n",
      "New best strategy at iteration  553  :  [ 146.  222.  701.   49. 1039. 1072.    0.    0.    0.    0.    0.    0.\n",
      "    0.    0.] Expected Profit: 1540364.52577\n",
      "New best strategy at iteration  553  :  [ 146.  222.  701.   50. 1038. 1072.    0.    0.    0.    0.    0.    0.\n",
      "    0.    0.] Expected Profit: 1540367.3394699998\n",
      "New best strategy at iteration  553  :  [ 146.  222.  701.   50. 1039. 1071.    0.    0.    0.    0.    0.    0.\n",
      "    0.    0.] Expected Profit: 1540370.57577\n",
      "New best strategy at iteration  554  :  [ 145.  222.  701.   50. 1039. 1071.    0.    0.    0.    0.    0.    0.\n",
      "    0.    0.] Expected Profit: 1540373.50007\n",
      "New best strategy at iteration  554  :  [ 146.  221.  701.   50. 1039. 1071.    0.    0.    0.    0.    0.    0.\n",
      "    0.    0.] Expected Profit: 1540374.9760699999\n"
     ]
    },
    {
     "name": "stderr",
     "output_type": "stream",
     "text": [
      "\r",
      "  0%|                                                                         | 555/1000000 [01:59<56:33:06,  4.91it/s]"
     ]
    },
    {
     "name": "stdout",
     "output_type": "stream",
     "text": [
      "New best strategy at iteration  554  :  [ 146.  222.  700.   50. 1039. 1071.    0.    0.    0.    0.    0.    0.\n",
      "    0.    0.] Expected Profit: 1540376.89507\n",
      "New best strategy at iteration  554  :  [ 146.  222.  701.   49. 1039. 1071.    0.    0.    0.    0.    0.    0.\n",
      "    0.    0.] Expected Profit: 1540379.2935699997\n",
      "New best strategy at iteration  554  :  [ 146.  222.  701.   50. 1038. 1071.    0.    0.    0.    0.    0.    0.\n",
      "    0.    0.] Expected Profit: 1540382.10727\n",
      "New best strategy at iteration  554  :  [ 146.  222.  701.   50. 1039. 1070.    0.    0.    0.    0.    0.    0.\n",
      "    0.    0.] Expected Profit: 1540385.3435700003\n",
      "New best strategy at iteration  555  :  [ 145.  222.  701.   50. 1039. 1070.    0.    0.    0.    0.    0.    0.\n",
      "    0.    0.] Expected Profit: 1540388.26787\n",
      "New best strategy at iteration  555  :  [ 146.  221.  701.   50. 1039. 1070.    0.    0.    0.    0.    0.    0.\n",
      "    0.    0.] Expected Profit: 1540389.7438700001\n",
      "New best strategy at iteration  555  :  [ 146.  222.  700.   50. 1039. 1070.    0.    0.    0.    0.    0.    0.\n",
      "    0.    0.] Expected Profit: 1540391.6628700001\n"
     ]
    },
    {
     "name": "stderr",
     "output_type": "stream",
     "text": [
      "\r",
      "  0%|                                                                         | 556/1000000 [01:59<56:28:08,  4.92it/s]"
     ]
    },
    {
     "name": "stdout",
     "output_type": "stream",
     "text": [
      "New best strategy at iteration  555  :  [ 146.  222.  701.   49. 1039. 1070.    0.    0.    0.    0.    0.    0.\n",
      "    0.    0.] Expected Profit: 1540394.06137\n",
      "New best strategy at iteration  555  :  [ 146.  222.  701.   50. 1038. 1070.    0.    0.    0.    0.    0.    0.\n",
      "    0.    0.] Expected Profit: 1540396.87507\n",
      "New best strategy at iteration  555  :  [ 146.  222.  701.   50. 1039. 1069.    0.    0.    0.    0.    0.    0.\n",
      "    0.    0.] Expected Profit: 1540400.1113699998\n",
      "New best strategy at iteration  556  :  [ 145.  222.  701.   50. 1039. 1069.    0.    0.    0.    0.    0.    0.\n",
      "    0.    0.] Expected Profit: 1540403.0356700001\n",
      "New best strategy at iteration  556  :  [ 146.  221.  701.   50. 1039. 1069.    0.    0.    0.    0.    0.    0.\n",
      "    0.    0.] Expected Profit: 1540404.5116700002\n",
      "New best strategy at iteration  556  :  [ 146.  222.  700.   50. 1039. 1069.    0.    0.    0.    0.    0.    0.\n",
      "    0.    0.] Expected Profit: 1540406.4306700001\n"
     ]
    },
    {
     "name": "stderr",
     "output_type": "stream",
     "text": [
      "\r",
      "  0%|                                                                         | 557/1000000 [02:00<56:36:49,  4.90it/s]"
     ]
    },
    {
     "name": "stdout",
     "output_type": "stream",
     "text": [
      "New best strategy at iteration  556  :  [ 146.  222.  701.   49. 1039. 1069.    0.    0.    0.    0.    0.    0.\n",
      "    0.    0.] Expected Profit: 1540408.8291699998\n",
      "New best strategy at iteration  556  :  [ 146.  222.  701.   50. 1038. 1069.    0.    0.    0.    0.    0.    0.\n",
      "    0.    0.] Expected Profit: 1540411.6428699999\n",
      "New best strategy at iteration  556  :  [ 146.  222.  701.   50. 1039. 1068.    0.    0.    0.    0.    0.    0.\n",
      "    0.    0.] Expected Profit: 1540414.8791699999\n",
      "New best strategy at iteration  557  :  [ 145.  222.  701.   50. 1039. 1068.    0.    0.    0.    0.    0.    0.\n",
      "    0.    0.] Expected Profit: 1540417.8034700002\n",
      "New best strategy at iteration  557  :  [ 146.  221.  701.   50. 1039. 1068.    0.    0.    0.    0.    0.    0.\n",
      "    0.    0.] Expected Profit: 1540419.27947\n",
      "New best strategy at iteration  557  :  [ 146.  222.  700.   50. 1039. 1068.    0.    0.    0.    0.    0.    0.\n",
      "    0.    0.] Expected Profit: 1540421.19847\n",
      "New best strategy at iteration  557  :  [ 146.  222.  701.   49. 1039. 1068.    0.    0.    0.    0.    0.    0.\n",
      "    0.    0.] Expected Profit: 1540423.5969699998\n"
     ]
    },
    {
     "name": "stderr",
     "output_type": "stream",
     "text": [
      "\r",
      "  0%|                                                                         | 558/1000000 [02:00<56:38:13,  4.90it/s]"
     ]
    },
    {
     "name": "stdout",
     "output_type": "stream",
     "text": [
      "New best strategy at iteration  557  :  [ 146.  222.  701.   50. 1038. 1068.    0.    0.    0.    0.    0.    0.\n",
      "    0.    0.] Expected Profit: 1540426.4106700001\n",
      "New best strategy at iteration  557  :  [ 146.  222.  701.   50. 1039. 1067.    0.    0.    0.    0.    0.    0.\n",
      "    0.    0.] Expected Profit: 1540429.64697\n",
      "New best strategy at iteration  558  :  [ 145.  222.  701.   50. 1039. 1067.    0.    0.    0.    0.    0.    0.\n",
      "    0.    0.] Expected Profit: 1540432.57127\n",
      "New best strategy at iteration  558  :  [ 146.  221.  701.   50. 1039. 1067.    0.    0.    0.    0.    0.    0.\n",
      "    0.    0.] Expected Profit: 1540434.04727\n",
      "New best strategy at iteration  558  :  [ 146.  222.  700.   50. 1039. 1067.    0.    0.    0.    0.    0.    0.\n",
      "    0.    0.] Expected Profit: 1540435.96627\n",
      "New best strategy at iteration  558  :  [ 146.  222.  701.   49. 1039. 1067.    0.    0.    0.    0.    0.    0.\n",
      "    0.    0.] Expected Profit: 1540438.3647699999\n"
     ]
    },
    {
     "name": "stderr",
     "output_type": "stream",
     "text": [
      "\r",
      "  0%|                                                                         | 559/1000000 [02:00<56:34:22,  4.91it/s]"
     ]
    },
    {
     "name": "stdout",
     "output_type": "stream",
     "text": [
      "New best strategy at iteration  558  :  [ 146.  222.  701.   50. 1038. 1067.    0.    0.    0.    0.    0.    0.\n",
      "    0.    0.] Expected Profit: 1540441.1784699997\n",
      "New best strategy at iteration  558  :  [ 146.  222.  701.   50. 1039. 1066.    0.    0.    0.    0.    0.    0.\n",
      "    0.    0.] Expected Profit: 1540444.41477\n",
      "New best strategy at iteration  559  :  [ 145.  222.  701.   50. 1039. 1066.    0.    0.    0.    0.    0.    0.\n",
      "    0.    0.] Expected Profit: 1540447.3390700002\n",
      "New best strategy at iteration  559  :  [ 146.  221.  701.   50. 1039. 1066.    0.    0.    0.    0.    0.    0.\n",
      "    0.    0.] Expected Profit: 1540448.81507\n",
      "New best strategy at iteration  559  :  [ 146.  222.  700.   50. 1039. 1066.    0.    0.    0.    0.    0.    0.\n",
      "    0.    0.] Expected Profit: 1540450.7340700002\n",
      "New best strategy at iteration  559  :  [ 146.  222.  701.   49. 1039. 1066.    0.    0.    0.    0.    0.    0.\n",
      "    0.    0.] Expected Profit: 1540453.13257\n",
      "New best strategy at iteration  559  :  [ 146.  222.  701.   50. 1038. 1066.    0.    0.    0.    0.    0.    0.\n",
      "    0.    0.] Expected Profit: 1540455.94627\n",
      "New best strategy at iteration  559  :  [ 146.  222.  701.   50. 1039. 1065.    0.    0.    0.    0.    0.    0.\n",
      "    0.    0.] Expected Profit: 1540459.18257\n"
     ]
    },
    {
     "name": "stderr",
     "output_type": "stream",
     "text": [
      "  0%|                                                                         | 561/1000000 [02:00<56:48:06,  4.89it/s]"
     ]
    },
    {
     "name": "stdout",
     "output_type": "stream",
     "text": [
      "New best strategy at iteration  560  :  [ 145.  222.  701.   50. 1039. 1065.    0.    0.    0.    0.    0.    0.\n",
      "    0.    0.] Expected Profit: 1540462.10687\n",
      "New best strategy at iteration  560  :  [ 146.  221.  701.   50. 1039. 1065.    0.    0.    0.    0.    0.    0.\n",
      "    0.    0.] Expected Profit: 1540463.5828699998\n",
      "New best strategy at iteration  560  :  [ 146.  222.  700.   50. 1039. 1065.    0.    0.    0.    0.    0.    0.\n",
      "    0.    0.] Expected Profit: 1540465.50187\n",
      "New best strategy at iteration  560  :  [ 146.  222.  701.   49. 1039. 1065.    0.    0.    0.    0.    0.    0.\n",
      "    0.    0.] Expected Profit: 1540467.90037\n",
      "New best strategy at iteration  560  :  [ 146.  222.  701.   50. 1038. 1065.    0.    0.    0.    0.    0.    0.\n",
      "    0.    0.] Expected Profit: 1540470.7140699998\n",
      "New best strategy at iteration  560  :  [ 146.  222.  701.   50. 1039. 1064.    0.    0.    0.    0.    0.    0.\n",
      "    0.    0.] Expected Profit: 1540473.95037\n"
     ]
    },
    {
     "name": "stderr",
     "output_type": "stream",
     "text": [
      "\r",
      "  0%|                                                                         | 562/1000000 [02:01<56:06:17,  4.95it/s]"
     ]
    },
    {
     "name": "stdout",
     "output_type": "stream",
     "text": [
      "New best strategy at iteration  561  :  [ 145.  222.  701.   50. 1039. 1064.    0.    0.    0.    0.    0.    0.\n",
      "    0.    0.] Expected Profit: 1540476.87467\n",
      "New best strategy at iteration  561  :  [ 146.  221.  701.   50. 1039. 1064.    0.    0.    0.    0.    0.    0.\n",
      "    0.    0.] Expected Profit: 1540478.35067\n",
      "New best strategy at iteration  561  :  [ 146.  222.  700.   50. 1039. 1064.    0.    0.    0.    0.    0.    0.\n",
      "    0.    0.] Expected Profit: 1540480.26967\n",
      "New best strategy at iteration  561  :  [ 146.  222.  701.   49. 1039. 1064.    0.    0.    0.    0.    0.    0.\n",
      "    0.    0.] Expected Profit: 1540482.6681699995\n",
      "New best strategy at iteration  561  :  [ 146.  222.  701.   50. 1038. 1064.    0.    0.    0.    0.    0.    0.\n",
      "    0.    0.] Expected Profit: 1540485.4818699998\n",
      "New best strategy at iteration  561  :  [ 146.  222.  701.   50. 1039. 1063.    0.    0.    0.    0.    0.    0.\n",
      "    0.    0.] Expected Profit: 1540488.71817\n"
     ]
    },
    {
     "name": "stderr",
     "output_type": "stream",
     "text": [
      "\r",
      "  0%|                                                                         | 563/1000000 [02:01<55:50:27,  4.97it/s]"
     ]
    },
    {
     "name": "stdout",
     "output_type": "stream",
     "text": [
      "New best strategy at iteration  562  :  [ 145.  222.  701.   50. 1039. 1063.    0.    0.    0.    0.    0.    0.\n",
      "    0.    0.] Expected Profit: 1540491.6424700003\n",
      "New best strategy at iteration  562  :  [ 146.  221.  701.   50. 1039. 1063.    0.    0.    0.    0.    0.    0.\n",
      "    0.    0.] Expected Profit: 1540493.11847\n",
      "New best strategy at iteration  562  :  [ 146.  222.  700.   50. 1039. 1063.    0.    0.    0.    0.    0.    0.\n",
      "    0.    0.] Expected Profit: 1540495.0374700003\n",
      "New best strategy at iteration  562  :  [ 146.  222.  701.   49. 1039. 1063.    0.    0.    0.    0.    0.    0.\n",
      "    0.    0.] Expected Profit: 1540497.4359699998\n",
      "New best strategy at iteration  562  :  [ 146.  222.  701.   50. 1038. 1063.    0.    0.    0.    0.    0.    0.\n",
      "    0.    0.] Expected Profit: 1540500.24967\n",
      "New best strategy at iteration  562  :  [ 146.  222.  701.   50. 1039. 1062.    0.    0.    0.    0.    0.    0.\n",
      "    0.    0.] Expected Profit: 1540503.48597\n"
     ]
    },
    {
     "name": "stderr",
     "output_type": "stream",
     "text": [
      "\r",
      "  0%|                                                                         | 564/1000000 [02:01<55:51:13,  4.97it/s]"
     ]
    },
    {
     "name": "stdout",
     "output_type": "stream",
     "text": [
      "New best strategy at iteration  563  :  [ 145.  222.  701.   50. 1039. 1062.    0.    0.    0.    0.    0.    0.\n",
      "    0.    0.] Expected Profit: 1540506.4102699999\n",
      "New best strategy at iteration  563  :  [ 146.  221.  701.   50. 1039. 1062.    0.    0.    0.    0.    0.    0.\n",
      "    0.    0.] Expected Profit: 1540507.88627\n",
      "New best strategy at iteration  563  :  [ 146.  222.  700.   50. 1039. 1062.    0.    0.    0.    0.    0.    0.\n",
      "    0.    0.] Expected Profit: 1540509.80527\n",
      "New best strategy at iteration  563  :  [ 146.  222.  701.   49. 1039. 1062.    0.    0.    0.    0.    0.    0.\n",
      "    0.    0.] Expected Profit: 1540512.20377\n",
      "New best strategy at iteration  563  :  [ 146.  222.  701.   50. 1038. 1062.    0.    0.    0.    0.    0.    0.\n",
      "    0.    0.] Expected Profit: 1540515.01747\n",
      "New best strategy at iteration  563  :  [ 146.  222.  701.   50. 1039. 1061.    0.    0.    0.    0.    0.    0.\n",
      "    0.    0.] Expected Profit: 1540518.25377\n"
     ]
    },
    {
     "name": "stderr",
     "output_type": "stream",
     "text": [
      "\r",
      "  0%|                                                                         | 565/1000000 [02:01<55:57:33,  4.96it/s]"
     ]
    },
    {
     "name": "stdout",
     "output_type": "stream",
     "text": [
      "New best strategy at iteration  564  :  [ 145.  222.  701.   50. 1039. 1061.    0.    0.    0.    0.    0.    0.\n",
      "    0.    0.] Expected Profit: 1540521.1780699997\n",
      "New best strategy at iteration  564  :  [ 146.  221.  701.   50. 1039. 1061.    0.    0.    0.    0.    0.    0.\n",
      "    0.    0.] Expected Profit: 1540522.65407\n",
      "New best strategy at iteration  564  :  [ 146.  222.  700.   50. 1039. 1061.    0.    0.    0.    0.    0.    0.\n",
      "    0.    0.] Expected Profit: 1540524.5730700002\n",
      "New best strategy at iteration  564  :  [ 146.  222.  701.   49. 1039. 1061.    0.    0.    0.    0.    0.    0.\n",
      "    0.    0.] Expected Profit: 1540526.9715699998\n",
      "New best strategy at iteration  564  :  [ 146.  222.  701.   50. 1038. 1061.    0.    0.    0.    0.    0.    0.\n",
      "    0.    0.] Expected Profit: 1540529.7852699999\n",
      "New best strategy at iteration  564  :  [ 146.  222.  701.   50. 1039. 1060.    0.    0.    0.    0.    0.    0.\n",
      "    0.    0.] Expected Profit: 1540533.0215699999\n",
      "New best strategy at iteration  565  :  [ 145.  222.  701.   50. 1039. 1060.    0.    0.    0.    0.    0.    0.\n",
      "    0.    0.] Expected Profit: 1540535.94587\n"
     ]
    },
    {
     "name": "stderr",
     "output_type": "stream",
     "text": [
      "\r",
      "  0%|                                                                         | 566/1000000 [02:01<56:08:09,  4.95it/s]"
     ]
    },
    {
     "name": "stdout",
     "output_type": "stream",
     "text": [
      "New best strategy at iteration  565  :  [ 146.  221.  701.   50. 1039. 1060.    0.    0.    0.    0.    0.    0.\n",
      "    0.    0.] Expected Profit: 1540537.42187\n",
      "New best strategy at iteration  565  :  [ 146.  222.  700.   50. 1039. 1060.    0.    0.    0.    0.    0.    0.\n",
      "    0.    0.] Expected Profit: 1540539.34087\n",
      "New best strategy at iteration  565  :  [ 146.  222.  701.   49. 1039. 1060.    0.    0.    0.    0.    0.    0.\n",
      "    0.    0.] Expected Profit: 1540541.7393699999\n",
      "New best strategy at iteration  565  :  [ 146.  222.  701.   50. 1038. 1060.    0.    0.    0.    0.    0.    0.\n",
      "    0.    0.] Expected Profit: 1540544.5530699997\n",
      "New best strategy at iteration  565  :  [ 146.  222.  701.   50. 1039. 1059.    0.    0.    0.    0.    0.    0.\n",
      "    0.    0.] Expected Profit: 1540547.78937\n",
      "New best strategy at iteration  566  :  [ 145.  222.  701.   50. 1039. 1059.    0.    0.    0.    0.    0.    0.\n",
      "    0.    0.] Expected Profit: 1540550.71367\n"
     ]
    },
    {
     "name": "stderr",
     "output_type": "stream",
     "text": [
      "\r",
      "  0%|                                                                         | 567/1000000 [02:02<56:14:07,  4.94it/s]"
     ]
    },
    {
     "name": "stdout",
     "output_type": "stream",
     "text": [
      "New best strategy at iteration  566  :  [ 146.  221.  701.   50. 1039. 1059.    0.    0.    0.    0.    0.    0.\n",
      "    0.    0.] Expected Profit: 1540552.18967\n",
      "New best strategy at iteration  566  :  [ 146.  222.  700.   50. 1039. 1059.    0.    0.    0.    0.    0.    0.\n",
      "    0.    0.] Expected Profit: 1540554.10867\n",
      "New best strategy at iteration  566  :  [ 146.  222.  701.   49. 1039. 1059.    0.    0.    0.    0.    0.    0.\n",
      "    0.    0.] Expected Profit: 1540556.50717\n",
      "New best strategy at iteration  566  :  [ 146.  222.  701.   50. 1038. 1059.    0.    0.    0.    0.    0.    0.\n",
      "    0.    0.] Expected Profit: 1540559.32087\n",
      "New best strategy at iteration  566  :  [ 146.  222.  701.   50. 1039. 1058.    0.    0.    0.    0.    0.    0.\n",
      "    0.    0.] Expected Profit: 1540562.5571700002\n",
      "New best strategy at iteration  567  :  [ 145.  222.  701.   50. 1039. 1058.    0.    0.    0.    0.    0.    0.\n",
      "    0.    0.] Expected Profit: 1540565.4814700002\n",
      "New best strategy at iteration  567  :  [ 146.  221.  701.   50. 1039. 1058.    0.    0.    0.    0.    0.    0.\n",
      "    0.    0.] Expected Profit: 1540566.95747\n"
     ]
    },
    {
     "name": "stderr",
     "output_type": "stream",
     "text": [
      "\r",
      "  0%|                                                                         | 568/1000000 [02:02<56:23:31,  4.92it/s]"
     ]
    },
    {
     "name": "stdout",
     "output_type": "stream",
     "text": [
      "New best strategy at iteration  567  :  [ 146.  222.  700.   50. 1039. 1058.    0.    0.    0.    0.    0.    0.\n",
      "    0.    0.] Expected Profit: 1540568.87647\n",
      "New best strategy at iteration  567  :  [ 146.  222.  701.   49. 1039. 1058.    0.    0.    0.    0.    0.    0.\n",
      "    0.    0.] Expected Profit: 1540571.2749700001\n",
      "New best strategy at iteration  567  :  [ 146.  222.  701.   50. 1038. 1058.    0.    0.    0.    0.    0.    0.\n",
      "    0.    0.] Expected Profit: 1540574.08867\n",
      "New best strategy at iteration  567  :  [ 146.  222.  701.   50. 1039. 1057.    0.    0.    0.    0.    0.    0.\n",
      "    0.    0.] Expected Profit: 1540577.3249699997\n",
      "New best strategy at iteration  568  :  [ 145.  222.  701.   50. 1039. 1057.    0.    0.    0.    0.    0.    0.\n",
      "    0.    0.] Expected Profit: 1540580.24927\n",
      "New best strategy at iteration  568  :  [ 146.  221.  701.   50. 1039. 1057.    0.    0.    0.    0.    0.    0.\n",
      "    0.    0.] Expected Profit: 1540581.72527\n"
     ]
    },
    {
     "name": "stderr",
     "output_type": "stream",
     "text": [
      "\r",
      "  0%|                                                                         | 569/1000000 [02:02<56:29:16,  4.91it/s]"
     ]
    },
    {
     "name": "stdout",
     "output_type": "stream",
     "text": [
      "New best strategy at iteration  568  :  [ 146.  222.  700.   50. 1039. 1057.    0.    0.    0.    0.    0.    0.\n",
      "    0.    0.] Expected Profit: 1540583.64427\n",
      "New best strategy at iteration  568  :  [ 146.  222.  701.   49. 1039. 1057.    0.    0.    0.    0.    0.    0.\n",
      "    0.    0.] Expected Profit: 1540586.04277\n",
      "New best strategy at iteration  568  :  [ 146.  222.  701.   50. 1038. 1057.    0.    0.    0.    0.    0.    0.\n",
      "    0.    0.] Expected Profit: 1540588.8564699998\n",
      "New best strategy at iteration  568  :  [ 146.  222.  701.   50. 1039. 1056.    0.    0.    0.    0.    0.    0.\n",
      "    0.    0.] Expected Profit: 1540592.09277\n",
      "New best strategy at iteration  569  :  [ 145.  222.  701.   50. 1039. 1056.    0.    0.    0.    0.    0.    0.\n",
      "    0.    0.] Expected Profit: 1540595.01707\n",
      "New best strategy at iteration  569  :  [ 146.  221.  701.   50. 1039. 1056.    0.    0.    0.    0.    0.    0.\n",
      "    0.    0.] Expected Profit: 1540596.49307\n",
      "New best strategy at iteration  569  :  [ 146.  222.  700.   50. 1039. 1056.    0.    0.    0.    0.    0.    0.\n",
      "    0.    0.] Expected Profit: 1540598.41207\n"
     ]
    },
    {
     "name": "stderr",
     "output_type": "stream",
     "text": [
      "\r",
      "  0%|                                                                         | 570/1000000 [02:02<56:34:43,  4.91it/s]"
     ]
    },
    {
     "name": "stdout",
     "output_type": "stream",
     "text": [
      "New best strategy at iteration  569  :  [ 146.  222.  701.   49. 1039. 1056.    0.    0.    0.    0.    0.    0.\n",
      "    0.    0.] Expected Profit: 1540600.81057\n",
      "New best strategy at iteration  569  :  [ 146.  222.  701.   50. 1038. 1056.    0.    0.    0.    0.    0.    0.\n",
      "    0.    0.] Expected Profit: 1540603.62427\n",
      "New best strategy at iteration  569  :  [ 146.  222.  701.   50. 1039. 1055.    0.    0.    0.    0.    0.    0.\n",
      "    0.    0.] Expected Profit: 1540606.8605700003\n",
      "New best strategy at iteration  570  :  [ 145.  222.  701.   50. 1039. 1055.    0.    0.    0.    0.    0.    0.\n",
      "    0.    0.] Expected Profit: 1540609.7848699999\n",
      "New best strategy at iteration  570  :  [ 146.  221.  701.   50. 1039. 1055.    0.    0.    0.    0.    0.    0.\n",
      "    0.    0.] Expected Profit: 1540611.26087\n",
      "New best strategy at iteration  570  :  [ 146.  222.  700.   50. 1039. 1055.    0.    0.    0.    0.    0.    0.\n",
      "    0.    0.] Expected Profit: 1540613.1798699999\n"
     ]
    },
    {
     "name": "stderr",
     "output_type": "stream",
     "text": [
      "\r",
      "  0%|                                                                         | 571/1000000 [02:03<57:28:47,  4.83it/s]"
     ]
    },
    {
     "name": "stdout",
     "output_type": "stream",
     "text": [
      "New best strategy at iteration  570  :  [ 146.  222.  701.   49. 1039. 1055.    0.    0.    0.    0.    0.    0.\n",
      "    0.    0.] Expected Profit: 1540615.5783699998\n",
      "New best strategy at iteration  570  :  [ 146.  222.  701.   50. 1038. 1055.    0.    0.    0.    0.    0.    0.\n",
      "    0.    0.] Expected Profit: 1540618.3920699998\n",
      "New best strategy at iteration  570  :  [ 146.  222.  701.   50. 1039. 1054.    0.    0.    0.    0.    0.    0.\n",
      "    0.    0.] Expected Profit: 1540621.6283699998\n",
      "New best strategy at iteration  571  :  [ 145.  222.  701.   50. 1039. 1054.    0.    0.    0.    0.    0.    0.\n",
      "    0.    0.] Expected Profit: 1540624.5526700001\n",
      "New best strategy at iteration  571  :  [ 146.  221.  701.   50. 1039. 1054.    0.    0.    0.    0.    0.    0.\n",
      "    0.    0.] Expected Profit: 1540626.0286700001\n",
      "New best strategy at iteration  571  :  [ 146.  222.  700.   50. 1039. 1054.    0.    0.    0.    0.    0.    0.\n",
      "    0.    0.] Expected Profit: 1540627.9476700001\n"
     ]
    },
    {
     "name": "stderr",
     "output_type": "stream",
     "text": [
      "\r",
      "  0%|                                                                         | 572/1000000 [02:03<57:08:28,  4.86it/s]"
     ]
    },
    {
     "name": "stdout",
     "output_type": "stream",
     "text": [
      "New best strategy at iteration  571  :  [ 146.  222.  701.   49. 1039. 1054.    0.    0.    0.    0.    0.    0.\n",
      "    0.    0.] Expected Profit: 1540630.3461699996\n",
      "New best strategy at iteration  571  :  [ 146.  222.  701.   50. 1038. 1054.    0.    0.    0.    0.    0.    0.\n",
      "    0.    0.] Expected Profit: 1540633.1598699999\n",
      "New best strategy at iteration  571  :  [ 146.  222.  701.   50. 1039. 1053.    0.    0.    0.    0.    0.    0.\n",
      "    0.    0.] Expected Profit: 1540636.39617\n",
      "New best strategy at iteration  572  :  [ 145.  222.  701.   50. 1039. 1053.    0.    0.    0.    0.    0.    0.\n",
      "    0.    0.] Expected Profit: 1540639.3204700002\n",
      "New best strategy at iteration  572  :  [ 146.  221.  701.   50. 1039. 1053.    0.    0.    0.    0.    0.    0.\n",
      "    0.    0.] Expected Profit: 1540640.79647\n",
      "New best strategy at iteration  572  :  [ 146.  222.  700.   50. 1039. 1053.    0.    0.    0.    0.    0.    0.\n",
      "    0.    0.] Expected Profit: 1540642.7154700002\n",
      "New best strategy at iteration  572  :  [ 146.  222.  701.   49. 1039. 1053.    0.    0.    0.    0.    0.    0.\n",
      "    0.    0.] Expected Profit: 1540645.1139699998\n",
      "New best strategy at iteration  572  :  [ 146.  222.  701.   50. 1038. 1053.    0.    0.    0.    0.    0.    0.\n",
      "    0.    0.] Expected Profit: 1540647.9276700001\n"
     ]
    },
    {
     "name": "stderr",
     "output_type": "stream",
     "text": [
      "\r",
      "  0%|                                                                         | 573/1000000 [02:03<56:57:43,  4.87it/s]"
     ]
    },
    {
     "name": "stdout",
     "output_type": "stream",
     "text": [
      "New best strategy at iteration  572  :  [ 146.  222.  701.   50. 1039. 1052.    0.    0.    0.    0.    0.    0.\n",
      "    0.    0.] Expected Profit: 1540651.16397\n",
      "New best strategy at iteration  573  :  [ 145.  222.  701.   50. 1039. 1052.    0.    0.    0.    0.    0.    0.\n",
      "    0.    0.] Expected Profit: 1540654.08827\n",
      "New best strategy at iteration  573  :  [ 146.  221.  701.   50. 1039. 1052.    0.    0.    0.    0.    0.    0.\n",
      "    0.    0.] Expected Profit: 1540655.56427\n",
      "New best strategy at iteration  573  :  [ 146.  222.  700.   50. 1039. 1052.    0.    0.    0.    0.    0.    0.\n",
      "    0.    0.] Expected Profit: 1540657.48327\n",
      "New best strategy at iteration  573  :  [ 146.  222.  701.   49. 1039. 1052.    0.    0.    0.    0.    0.    0.\n",
      "    0.    0.] Expected Profit: 1540659.88177\n",
      "New best strategy at iteration  573  :  [ 146.  222.  701.   50. 1038. 1052.    0.    0.    0.    0.    0.    0.\n",
      "    0.    0.] Expected Profit: 1540662.69547\n"
     ]
    },
    {
     "name": "stderr",
     "output_type": "stream",
     "text": [
      "\r",
      "  0%|                                                                         | 574/1000000 [02:03<56:59:11,  4.87it/s]"
     ]
    },
    {
     "name": "stdout",
     "output_type": "stream",
     "text": [
      "New best strategy at iteration  573  :  [ 146.  222.  701.   50. 1039. 1051.    0.    0.    0.    0.    0.    0.\n",
      "    0.    0.] Expected Profit: 1540665.93177\n",
      "New best strategy at iteration  574  :  [ 145.  222.  701.   50. 1039. 1051.    0.    0.    0.    0.    0.    0.\n",
      "    0.    0.] Expected Profit: 1540668.8560700002\n",
      "New best strategy at iteration  574  :  [ 146.  221.  701.   50. 1039. 1051.    0.    0.    0.    0.    0.    0.\n",
      "    0.    0.] Expected Profit: 1540670.33207\n",
      "New best strategy at iteration  574  :  [ 146.  222.  700.   50. 1039. 1051.    0.    0.    0.    0.    0.    0.\n",
      "    0.    0.] Expected Profit: 1540672.2510700002\n",
      "New best strategy at iteration  574  :  [ 146.  222.  701.   49. 1039. 1051.    0.    0.    0.    0.    0.    0.\n",
      "    0.    0.] Expected Profit: 1540674.64957\n",
      "New best strategy at iteration  574  :  [ 146.  222.  701.   50. 1038. 1051.    0.    0.    0.    0.    0.    0.\n",
      "    0.    0.] Expected Profit: 1540677.46327\n",
      "New best strategy at iteration  574  :  [ 146.  222.  701.   50. 1039. 1050.    0.    0.    0.    0.    0.    0.\n",
      "    0.    0.] Expected Profit: 1540680.6995700002\n"
     ]
    },
    {
     "name": "stderr",
     "output_type": "stream",
     "text": [
      "  0%|                                                                         | 576/1000000 [02:04<56:06:28,  4.95it/s]"
     ]
    },
    {
     "name": "stdout",
     "output_type": "stream",
     "text": [
      "New best strategy at iteration  575  :  [ 145.  222.  701.   50. 1039. 1050.    0.    0.    0.    0.    0.    0.\n",
      "    0.    0.] Expected Profit: 1540683.6238699998\n",
      "New best strategy at iteration  575  :  [ 146.  221.  701.   50. 1039. 1050.    0.    0.    0.    0.    0.    0.\n",
      "    0.    0.] Expected Profit: 1540685.0998699998\n",
      "New best strategy at iteration  575  :  [ 146.  222.  700.   50. 1039. 1050.    0.    0.    0.    0.    0.    0.\n",
      "    0.    0.] Expected Profit: 1540687.0188699998\n",
      "New best strategy at iteration  575  :  [ 146.  222.  701.   49. 1039. 1050.    0.    0.    0.    0.    0.    0.\n",
      "    0.    0.] Expected Profit: 1540689.41737\n",
      "New best strategy at iteration  575  :  [ 146.  222.  701.   50. 1038. 1050.    0.    0.    0.    0.    0.    0.\n",
      "    0.    0.] Expected Profit: 1540692.2310699997\n",
      "New best strategy at iteration  575  :  [ 146.  222.  701.   50. 1039. 1049.    0.    0.    0.    0.    0.    0.\n",
      "    0.    0.] Expected Profit: 1540695.4673700002\n",
      "New best strategy at iteration  576  :  [ 145.  222.  701.   50. 1039. 1049.    0.    0.    0.    0.    0.    0.\n",
      "    0.    0.] Expected Profit: 1540698.39167\n"
     ]
    },
    {
     "name": "stderr",
     "output_type": "stream",
     "text": [
      "\r",
      "  0%|                                                                         | 577/1000000 [02:04<56:14:12,  4.94it/s]"
     ]
    },
    {
     "name": "stdout",
     "output_type": "stream",
     "text": [
      "New best strategy at iteration  576  :  [ 146.  221.  701.   50. 1039. 1049.    0.    0.    0.    0.    0.    0.\n",
      "    0.    0.] Expected Profit: 1540699.86767\n",
      "New best strategy at iteration  576  :  [ 146.  222.  700.   50. 1039. 1049.    0.    0.    0.    0.    0.    0.\n",
      "    0.    0.] Expected Profit: 1540701.78667\n",
      "New best strategy at iteration  576  :  [ 146.  222.  701.   49. 1039. 1049.    0.    0.    0.    0.    0.    0.\n",
      "    0.    0.] Expected Profit: 1540704.1851700002\n",
      "New best strategy at iteration  576  :  [ 146.  222.  701.   50. 1038. 1049.    0.    0.    0.    0.    0.    0.\n",
      "    0.    0.] Expected Profit: 1540706.99887\n",
      "New best strategy at iteration  576  :  [ 146.  222.  701.   50. 1039. 1048.    0.    0.    0.    0.    0.    0.\n",
      "    0.    0.] Expected Profit: 1540710.23517\n",
      "New best strategy at iteration  577  :  [ 145.  222.  701.   50. 1039. 1048.    0.    0.    0.    0.    0.    0.\n",
      "    0.    0.] Expected Profit: 1540713.1594700003\n",
      "New best strategy at iteration  577  :  [ 146.  221.  701.   50. 1039. 1048.    0.    0.    0.    0.    0.    0.\n",
      "    0.    0.] Expected Profit: 1540714.63547\n"
     ]
    },
    {
     "name": "stderr",
     "output_type": "stream",
     "text": [
      "\r",
      "  0%|                                                                         | 578/1000000 [02:04<56:15:42,  4.93it/s]"
     ]
    },
    {
     "name": "stdout",
     "output_type": "stream",
     "text": [
      "New best strategy at iteration  577  :  [ 146.  222.  700.   50. 1039. 1048.    0.    0.    0.    0.    0.    0.\n",
      "    0.    0.] Expected Profit: 1540716.5544700003\n",
      "New best strategy at iteration  577  :  [ 146.  222.  701.   49. 1039. 1048.    0.    0.    0.    0.    0.    0.\n",
      "    0.    0.] Expected Profit: 1540718.9529699998\n",
      "New best strategy at iteration  577  :  [ 146.  222.  701.   50. 1038. 1048.    0.    0.    0.    0.    0.    0.\n",
      "    0.    0.] Expected Profit: 1540721.76667\n",
      "New best strategy at iteration  577  :  [ 146.  222.  701.   50. 1039. 1047.    0.    0.    0.    0.    0.    0.\n",
      "    0.    0.] Expected Profit: 1540725.00297\n",
      "New best strategy at iteration  578  :  [ 145.  222.  701.   50. 1039. 1047.    0.    0.    0.    0.    0.    0.\n",
      "    0.    0.] Expected Profit: 1540727.9272699999\n",
      "New best strategy at iteration  578  :  [ 146.  221.  701.   50. 1039. 1047.    0.    0.    0.    0.    0.    0.\n",
      "    0.    0.] Expected Profit: 1540729.40327\n",
      "New best strategy at iteration  578  :  [ 146.  222.  700.   50. 1039. 1047.    0.    0.    0.    0.    0.    0.\n",
      "    0.    0.] Expected Profit: 1540731.32227\n"
     ]
    },
    {
     "name": "stderr",
     "output_type": "stream",
     "text": [
      "\r",
      "  0%|                                                                         | 579/1000000 [02:04<56:29:19,  4.91it/s]"
     ]
    },
    {
     "name": "stdout",
     "output_type": "stream",
     "text": [
      "New best strategy at iteration  578  :  [ 146.  222.  701.   49. 1039. 1047.    0.    0.    0.    0.    0.    0.\n",
      "    0.    0.] Expected Profit: 1540733.72077\n",
      "New best strategy at iteration  578  :  [ 146.  222.  701.   50. 1038. 1047.    0.    0.    0.    0.    0.    0.\n",
      "    0.    0.] Expected Profit: 1540736.5344699998\n",
      "New best strategy at iteration  578  :  [ 146.  222.  701.   50. 1039. 1046.    0.    0.    0.    0.    0.    0.\n",
      "    0.    0.] Expected Profit: 1540739.77077\n",
      "New best strategy at iteration  579  :  [ 145.  222.  701.   50. 1039. 1046.    0.    0.    0.    0.    0.    0.\n",
      "    0.    0.] Expected Profit: 1540742.69507\n",
      "New best strategy at iteration  579  :  [ 146.  221.  701.   50. 1039. 1046.    0.    0.    0.    0.    0.    0.\n",
      "    0.    0.] Expected Profit: 1540744.17107\n",
      "New best strategy at iteration  579  :  [ 146.  222.  700.   50. 1039. 1046.    0.    0.    0.    0.    0.    0.\n",
      "    0.    0.] Expected Profit: 1540746.09007\n"
     ]
    },
    {
     "name": "stderr",
     "output_type": "stream",
     "text": [
      "\r",
      "  0%|                                                                         | 580/1000000 [02:04<58:01:43,  4.78it/s]"
     ]
    },
    {
     "name": "stdout",
     "output_type": "stream",
     "text": [
      "New best strategy at iteration  579  :  [ 146.  222.  701.   49. 1039. 1046.    0.    0.    0.    0.    0.    0.\n",
      "    0.    0.] Expected Profit: 1540748.48857\n",
      "New best strategy at iteration  579  :  [ 146.  222.  701.   50. 1038. 1046.    0.    0.    0.    0.    0.    0.\n",
      "    0.    0.] Expected Profit: 1540751.3022699999\n",
      "New best strategy at iteration  579  :  [ 146.  222.  701.   50. 1039. 1045.    0.    0.    0.    0.    0.    0.\n",
      "    0.    0.] Expected Profit: 1540754.53857\n",
      "New best strategy at iteration  580  :  [ 145.  222.  701.   50. 1039. 1045.    0.    0.    0.    0.    0.    0.\n",
      "    0.    0.] Expected Profit: 1540757.46287\n",
      "New best strategy at iteration  580  :  [ 146.  221.  701.   50. 1039. 1045.    0.    0.    0.    0.    0.    0.\n",
      "    0.    0.] Expected Profit: 1540758.9388700002\n",
      "New best strategy at iteration  580  :  [ 146.  222.  700.   50. 1039. 1045.    0.    0.    0.    0.    0.    0.\n",
      "    0.    0.] Expected Profit: 1540760.85787\n",
      "New best strategy at iteration  580  :  [ 146.  222.  701.   49. 1039. 1045.    0.    0.    0.    0.    0.    0.\n",
      "    0.    0.] Expected Profit: 1540763.2563699998\n"
     ]
    },
    {
     "name": "stderr",
     "output_type": "stream",
     "text": [
      "\r",
      "  0%|                                                                         | 581/1000000 [02:05<57:44:40,  4.81it/s]"
     ]
    },
    {
     "name": "stdout",
     "output_type": "stream",
     "text": [
      "New best strategy at iteration  580  :  [ 146.  222.  701.   50. 1038. 1045.    0.    0.    0.    0.    0.    0.\n",
      "    0.    0.] Expected Profit: 1540766.07007\n",
      "New best strategy at iteration  580  :  [ 146.  222.  701.   50. 1039. 1044.    0.    0.    0.    0.    0.    0.\n",
      "    0.    0.] Expected Profit: 1540769.30637\n",
      "New best strategy at iteration  581  :  [ 145.  222.  701.   50. 1039. 1044.    0.    0.    0.    0.    0.    0.\n",
      "    0.    0.] Expected Profit: 1540772.23067\n",
      "New best strategy at iteration  581  :  [ 146.  221.  701.   50. 1039. 1044.    0.    0.    0.    0.    0.    0.\n",
      "    0.    0.] Expected Profit: 1540773.70667\n",
      "New best strategy at iteration  581  :  [ 146.  222.  700.   50. 1039. 1044.    0.    0.    0.    0.    0.    0.\n",
      "    0.    0.] Expected Profit: 1540775.62567\n",
      "New best strategy at iteration  581  :  [ 146.  222.  701.   49. 1039. 1044.    0.    0.    0.    0.    0.    0.\n",
      "    0.    0.] Expected Profit: 1540778.0241699999\n"
     ]
    },
    {
     "name": "stderr",
     "output_type": "stream",
     "text": [
      "\r",
      "  0%|                                                                         | 582/1000000 [02:05<60:33:18,  4.58it/s]"
     ]
    },
    {
     "name": "stdout",
     "output_type": "stream",
     "text": [
      "New best strategy at iteration  581  :  [ 146.  222.  701.   50. 1038. 1044.    0.    0.    0.    0.    0.    0.\n",
      "    0.    0.] Expected Profit: 1540780.83787\n",
      "New best strategy at iteration  581  :  [ 146.  222.  701.   50. 1039. 1043.    0.    0.    0.    0.    0.    0.\n",
      "    0.    0.] Expected Profit: 1540784.0741700002\n",
      "New best strategy at iteration  582  :  [ 145.  222.  701.   50. 1039. 1043.    0.    0.    0.    0.    0.    0.\n",
      "    0.    0.] Expected Profit: 1540786.9984699998\n",
      "New best strategy at iteration  582  :  [ 146.  221.  701.   50. 1039. 1043.    0.    0.    0.    0.    0.    0.\n",
      "    0.    0.] Expected Profit: 1540788.47447\n",
      "New best strategy at iteration  582  :  [ 146.  222.  700.   50. 1039. 1043.    0.    0.    0.    0.    0.    0.\n",
      "    0.    0.] Expected Profit: 1540790.39347\n",
      "New best strategy at iteration  582  :  [ 146.  222.  701.   49. 1039. 1043.    0.    0.    0.    0.    0.    0.\n",
      "    0.    0.] Expected Profit: 1540792.79197\n",
      "New best strategy at iteration  582  :  [ 146.  222.  701.   50. 1038. 1043.    0.    0.    0.    0.    0.    0.\n",
      "    0.    0.] Expected Profit: 1540795.6056699997\n"
     ]
    },
    {
     "name": "stderr",
     "output_type": "stream",
     "text": [
      "\r",
      "  0%|                                                                         | 583/1000000 [02:05<60:05:04,  4.62it/s]"
     ]
    },
    {
     "name": "stdout",
     "output_type": "stream",
     "text": [
      "New best strategy at iteration  582  :  [ 146.  222.  701.   50. 1039. 1042.    0.    0.    0.    0.    0.    0.\n",
      "    0.    0.] Expected Profit: 1540798.84197\n",
      "New best strategy at iteration  583  :  [ 145.  222.  701.   50. 1039. 1042.    0.    0.    0.    0.    0.    0.\n",
      "    0.    0.] Expected Profit: 1540801.76627\n",
      "New best strategy at iteration  583  :  [ 146.  221.  701.   50. 1039. 1042.    0.    0.    0.    0.    0.    0.\n",
      "    0.    0.] Expected Profit: 1540803.24227\n",
      "New best strategy at iteration  583  :  [ 146.  222.  700.   50. 1039. 1042.    0.    0.    0.    0.    0.    0.\n",
      "    0.    0.] Expected Profit: 1540805.1612700003\n",
      "New best strategy at iteration  583  :  [ 146.  222.  701.   49. 1039. 1042.    0.    0.    0.    0.    0.    0.\n",
      "    0.    0.] Expected Profit: 1540807.55977\n"
     ]
    },
    {
     "name": "stderr",
     "output_type": "stream",
     "text": [
      "\r",
      "  0%|                                                                         | 584/1000000 [02:05<61:42:42,  4.50it/s]"
     ]
    },
    {
     "name": "stdout",
     "output_type": "stream",
     "text": [
      "New best strategy at iteration  583  :  [ 146.  222.  701.   50. 1038. 1042.    0.    0.    0.    0.    0.    0.\n",
      "    0.    0.] Expected Profit: 1540810.3734699998\n",
      "New best strategy at iteration  583  :  [ 146.  222.  701.   50. 1039. 1041.    0.    0.    0.    0.    0.    0.\n",
      "    0.    0.] Expected Profit: 1540813.60977\n",
      "New best strategy at iteration  584  :  [ 145.  222.  701.   50. 1039. 1041.    0.    0.    0.    0.    0.    0.\n",
      "    0.    0.] Expected Profit: 1540816.5340699998\n",
      "New best strategy at iteration  584  :  [ 146.  221.  701.   50. 1039. 1041.    0.    0.    0.    0.    0.    0.\n",
      "    0.    0.] Expected Profit: 1540818.01007\n",
      "New best strategy at iteration  584  :  [ 146.  222.  700.   50. 1039. 1041.    0.    0.    0.    0.    0.    0.\n",
      "    0.    0.] Expected Profit: 1540819.9290699998\n",
      "New best strategy at iteration  584  :  [ 146.  222.  701.   49. 1039. 1041.    0.    0.    0.    0.    0.    0.\n",
      "    0.    0.] Expected Profit: 1540822.32757\n"
     ]
    },
    {
     "name": "stderr",
     "output_type": "stream",
     "text": [
      "\r",
      "  0%|                                                                         | 585/1000000 [02:05<60:23:13,  4.60it/s]"
     ]
    },
    {
     "name": "stdout",
     "output_type": "stream",
     "text": [
      "New best strategy at iteration  584  :  [ 146.  222.  701.   50. 1038. 1041.    0.    0.    0.    0.    0.    0.\n",
      "    0.    0.] Expected Profit: 1540825.14127\n",
      "New best strategy at iteration  584  :  [ 146.  222.  701.   50. 1039. 1040.    0.    0.    0.    0.    0.    0.\n",
      "    0.    0.] Expected Profit: 1540828.3775700002\n",
      "New best strategy at iteration  585  :  [ 145.  222.  701.   50. 1039. 1040.    0.    0.    0.    0.    0.    0.\n",
      "    0.    0.] Expected Profit: 1540831.3018699999\n",
      "New best strategy at iteration  585  :  [ 146.  221.  701.   50. 1039. 1040.    0.    0.    0.    0.    0.    0.\n",
      "    0.    0.] Expected Profit: 1540832.7778699999\n",
      "New best strategy at iteration  585  :  [ 146.  222.  700.   50. 1039. 1040.    0.    0.    0.    0.    0.    0.\n",
      "    0.    0.] Expected Profit: 1540834.69687\n",
      "New best strategy at iteration  585  :  [ 146.  222.  701.   49. 1039. 1040.    0.    0.    0.    0.    0.    0.\n",
      "    0.    0.] Expected Profit: 1540837.09537\n"
     ]
    },
    {
     "name": "stderr",
     "output_type": "stream",
     "text": [
      "\r",
      "  0%|                                                                         | 586/1000000 [02:06<60:46:22,  4.57it/s]"
     ]
    },
    {
     "name": "stdout",
     "output_type": "stream",
     "text": [
      "New best strategy at iteration  585  :  [ 146.  222.  701.   50. 1038. 1040.    0.    0.    0.    0.    0.    0.\n",
      "    0.    0.] Expected Profit: 1540839.9090699998\n",
      "New best strategy at iteration  585  :  [ 146.  222.  701.   50. 1039. 1039.    0.    0.    0.    0.    0.    0.\n",
      "    0.    0.] Expected Profit: 1540843.14537\n",
      "New best strategy at iteration  586  :  [ 145.  222.  701.   50. 1039. 1039.    0.    0.    0.    0.    0.    0.\n",
      "    0.    0.] Expected Profit: 1540846.06967\n",
      "New best strategy at iteration  586  :  [ 146.  221.  701.   50. 1039. 1039.    0.    0.    0.    0.    0.    0.\n",
      "    0.    0.] Expected Profit: 1540847.5456700001\n"
     ]
    },
    {
     "name": "stderr",
     "output_type": "stream",
     "text": [
      "\r",
      "  0%|                                                                         | 587/1000000 [02:06<63:38:11,  4.36it/s]"
     ]
    },
    {
     "name": "stdout",
     "output_type": "stream",
     "text": [
      "New best strategy at iteration  586  :  [ 146.  222.  700.   50. 1039. 1039.    0.    0.    0.    0.    0.    0.\n",
      "    0.    0.] Expected Profit: 1540849.4646700001\n",
      "New best strategy at iteration  586  :  [ 146.  222.  701.   49. 1039. 1039.    0.    0.    0.    0.    0.    0.\n",
      "    0.    0.] Expected Profit: 1540851.86317\n",
      "New best strategy at iteration  586  :  [ 146.  222.  701.   50. 1038. 1039.    0.    0.    0.    0.    0.    0.\n",
      "    0.    0.] Expected Profit: 1540854.6768699999\n",
      "New best strategy at iteration  586  :  [ 146.  222.  701.   50. 1039. 1038.    0.    0.    0.    0.    0.    0.\n",
      "    0.    0.] Expected Profit: 1540857.91317\n",
      "New best strategy at iteration  587  :  [ 145.  222.  701.   50. 1039. 1038.    0.    0.    0.    0.    0.    0.\n",
      "    0.    0.] Expected Profit: 1540860.8374700001\n",
      "New best strategy at iteration  587  :  [ 146.  221.  701.   50. 1039. 1038.    0.    0.    0.    0.    0.    0.\n",
      "    0.    0.] Expected Profit: 1540862.31347\n"
     ]
    },
    {
     "name": "stderr",
     "output_type": "stream",
     "text": [
      "\r",
      "  0%|                                                                         | 588/1000000 [02:06<61:51:16,  4.49it/s]"
     ]
    },
    {
     "name": "stdout",
     "output_type": "stream",
     "text": [
      "New best strategy at iteration  587  :  [ 146.  222.  700.   50. 1039. 1038.    0.    0.    0.    0.    0.    0.\n",
      "    0.    0.] Expected Profit: 1540864.23247\n",
      "New best strategy at iteration  587  :  [ 146.  222.  701.   49. 1039. 1038.    0.    0.    0.    0.    0.    0.\n",
      "    0.    0.] Expected Profit: 1540866.63097\n",
      "New best strategy at iteration  587  :  [ 146.  222.  701.   50. 1038. 1038.    0.    0.    0.    0.    0.    0.\n",
      "    0.    0.] Expected Profit: 1540869.44467\n",
      "New best strategy at iteration  587  :  [ 146.  222.  701.   50. 1039. 1037.    0.    0.    0.    0.    0.    0.\n",
      "    0.    0.] Expected Profit: 1540872.6809700003\n",
      "New best strategy at iteration  588  :  [ 145.  222.  701.   50. 1039. 1037.    0.    0.    0.    0.    0.    0.\n",
      "    0.    0.] Expected Profit: 1540875.60527\n",
      "New best strategy at iteration  588  :  [ 146.  221.  701.   50. 1039. 1037.    0.    0.    0.    0.    0.    0.\n",
      "    0.    0.] Expected Profit: 1540877.08127\n",
      "New best strategy at iteration  588  :  [ 146.  222.  700.   50. 1039. 1037.    0.    0.    0.    0.    0.    0.\n",
      "    0.    0.] Expected Profit: 1540879.00027\n"
     ]
    },
    {
     "name": "stderr",
     "output_type": "stream",
     "text": [
      "\r",
      "  0%|                                                                         | 589/1000000 [02:06<60:22:46,  4.60it/s]"
     ]
    },
    {
     "name": "stdout",
     "output_type": "stream",
     "text": [
      "New best strategy at iteration  588  :  [ 146.  222.  701.   49. 1039. 1037.    0.    0.    0.    0.    0.    0.\n",
      "    0.    0.] Expected Profit: 1540881.39877\n",
      "New best strategy at iteration  588  :  [ 146.  222.  701.   50. 1038. 1037.    0.    0.    0.    0.    0.    0.\n",
      "    0.    0.] Expected Profit: 1540884.2124699997\n",
      "New best strategy at iteration  588  :  [ 146.  222.  701.   50. 1039. 1036.    0.    0.    0.    0.    0.    0.\n",
      "    0.    0.] Expected Profit: 1540887.44877\n",
      "New best strategy at iteration  589  :  [ 145.  222.  701.   50. 1039. 1036.    0.    0.    0.    0.    0.    0.\n",
      "    0.    0.] Expected Profit: 1540890.37307\n",
      "New best strategy at iteration  589  :  [ 146.  221.  701.   50. 1039. 1036.    0.    0.    0.    0.    0.    0.\n",
      "    0.    0.] Expected Profit: 1540891.8490700002\n",
      "New best strategy at iteration  589  :  [ 146.  222.  700.   50. 1039. 1036.    0.    0.    0.    0.    0.    0.\n",
      "    0.    0.] Expected Profit: 1540893.76807\n"
     ]
    },
    {
     "name": "stderr",
     "output_type": "stream",
     "text": [
      "\r",
      "  0%|                                                                         | 590/1000000 [02:07<62:03:03,  4.47it/s]"
     ]
    },
    {
     "name": "stdout",
     "output_type": "stream",
     "text": [
      "New best strategy at iteration  589  :  [ 146.  222.  701.   49. 1039. 1036.    0.    0.    0.    0.    0.    0.\n",
      "    0.    0.] Expected Profit: 1540896.1665699997\n",
      "New best strategy at iteration  589  :  [ 146.  222.  701.   50. 1038. 1036.    0.    0.    0.    0.    0.    0.\n",
      "    0.    0.] Expected Profit: 1540898.9802699997\n",
      "New best strategy at iteration  589  :  [ 146.  222.  701.   50. 1039. 1035.    0.    0.    0.    0.    0.    0.\n",
      "    0.    0.] Expected Profit: 1540902.2165700002\n",
      "New best strategy at iteration  590  :  [ 145.  222.  701.   50. 1039. 1035.    0.    0.    0.    0.    0.    0.\n",
      "    0.    0.] Expected Profit: 1540905.1408699998\n",
      "New best strategy at iteration  590  :  [ 146.  221.  701.   50. 1039. 1035.    0.    0.    0.    0.    0.    0.\n",
      "    0.    0.] Expected Profit: 1540906.61687\n"
     ]
    },
    {
     "name": "stderr",
     "output_type": "stream",
     "text": [
      "\r",
      "  0%|                                                                         | 591/1000000 [02:07<61:46:56,  4.49it/s]"
     ]
    },
    {
     "name": "stdout",
     "output_type": "stream",
     "text": [
      "New best strategy at iteration  590  :  [ 146.  222.  700.   50. 1039. 1035.    0.    0.    0.    0.    0.    0.\n",
      "    0.    0.] Expected Profit: 1540908.53587\n",
      "New best strategy at iteration  590  :  [ 146.  222.  701.   49. 1039. 1035.    0.    0.    0.    0.    0.    0.\n",
      "    0.    0.] Expected Profit: 1540910.9343700001\n",
      "New best strategy at iteration  590  :  [ 146.  222.  701.   50. 1038. 1035.    0.    0.    0.    0.    0.    0.\n",
      "    0.    0.] Expected Profit: 1540913.74807\n",
      "New best strategy at iteration  590  :  [ 146.  222.  701.   50. 1039. 1034.    0.    0.    0.    0.    0.    0.\n",
      "    0.    0.] Expected Profit: 1540916.98437\n",
      "New best strategy at iteration  591  :  [ 145.  222.  701.   50. 1039. 1034.    0.    0.    0.    0.    0.    0.\n",
      "    0.    0.] Expected Profit: 1540919.90867\n",
      "New best strategy at iteration  591  :  [ 146.  221.  701.   50. 1039. 1034.    0.    0.    0.    0.    0.    0.\n",
      "    0.    0.] Expected Profit: 1540921.38467\n"
     ]
    },
    {
     "name": "stderr",
     "output_type": "stream",
     "text": [
      "\r",
      "  0%|                                                                         | 592/1000000 [02:07<61:29:35,  4.51it/s]"
     ]
    },
    {
     "name": "stdout",
     "output_type": "stream",
     "text": [
      "New best strategy at iteration  591  :  [ 146.  222.  700.   50. 1039. 1034.    0.    0.    0.    0.    0.    0.\n",
      "    0.    0.] Expected Profit: 1540923.30367\n",
      "New best strategy at iteration  591  :  [ 146.  222.  701.   49. 1039. 1034.    0.    0.    0.    0.    0.    0.\n",
      "    0.    0.] Expected Profit: 1540925.7021700002\n",
      "New best strategy at iteration  591  :  [ 146.  222.  701.   50. 1038. 1034.    0.    0.    0.    0.    0.    0.\n",
      "    0.    0.] Expected Profit: 1540928.5158699998\n",
      "New best strategy at iteration  591  :  [ 146.  222.  701.   50. 1039. 1033.    0.    0.    0.    0.    0.    0.\n",
      "    0.    0.] Expected Profit: 1540931.75217\n",
      "New best strategy at iteration  592  :  [ 145.  222.  701.   50. 1039. 1033.    0.    0.    0.    0.    0.    0.\n",
      "    0.    0.] Expected Profit: 1540934.67647\n",
      "New best strategy at iteration  592  :  [ 146.  221.  701.   50. 1039. 1033.    0.    0.    0.    0.    0.    0.\n",
      "    0.    0.] Expected Profit: 1540936.15247\n",
      "New best strategy at iteration  592  :  [ 146.  222.  700.   50. 1039. 1033.    0.    0.    0.    0.    0.    0.\n",
      "    0.    0.] Expected Profit: 1540938.07147\n"
     ]
    },
    {
     "name": "stderr",
     "output_type": "stream",
     "text": [
      "\r",
      "  0%|                                                                         | 593/1000000 [02:07<60:07:25,  4.62it/s]"
     ]
    },
    {
     "name": "stdout",
     "output_type": "stream",
     "text": [
      "New best strategy at iteration  592  :  [ 146.  222.  701.   49. 1039. 1033.    0.    0.    0.    0.    0.    0.\n",
      "    0.    0.] Expected Profit: 1540940.4699699997\n",
      "New best strategy at iteration  592  :  [ 146.  222.  701.   50. 1038. 1033.    0.    0.    0.    0.    0.    0.\n",
      "    0.    0.] Expected Profit: 1540943.2836699998\n",
      "New best strategy at iteration  592  :  [ 146.  222.  701.   50. 1039. 1032.    0.    0.    0.    0.    0.    0.\n",
      "    0.    0.] Expected Profit: 1540946.51997\n",
      "New best strategy at iteration  593  :  [ 145.  222.  701.   50. 1039. 1032.    0.    0.    0.    0.    0.    0.\n",
      "    0.    0.] Expected Profit: 1540949.44427\n",
      "New best strategy at iteration  593  :  [ 146.  221.  701.   50. 1039. 1032.    0.    0.    0.    0.    0.    0.\n",
      "    0.    0.] Expected Profit: 1540950.92027\n",
      "New best strategy at iteration  593  :  [ 146.  222.  700.   50. 1039. 1032.    0.    0.    0.    0.    0.    0.\n",
      "    0.    0.] Expected Profit: 1540952.8392699999\n",
      "New best strategy at iteration  593  :  [ 146.  222.  701.   49. 1039. 1032.    0.    0.    0.    0.    0.    0.\n",
      "    0.    0.] Expected Profit: 1540955.23777\n"
     ]
    },
    {
     "name": "stderr",
     "output_type": "stream",
     "text": [
      "\r",
      "  0%|                                                                         | 594/1000000 [02:07<59:38:53,  4.65it/s]"
     ]
    },
    {
     "name": "stdout",
     "output_type": "stream",
     "text": [
      "New best strategy at iteration  593  :  [ 146.  222.  701.   50. 1038. 1032.    0.    0.    0.    0.    0.    0.\n",
      "    0.    0.] Expected Profit: 1540958.0514699998\n",
      "New best strategy at iteration  593  :  [ 146.  222.  701.   50. 1039. 1031.    0.    0.    0.    0.    0.    0.\n",
      "    0.    0.] Expected Profit: 1540961.28777\n",
      "New best strategy at iteration  594  :  [ 145.  222.  701.   50. 1039. 1031.    0.    0.    0.    0.    0.    0.\n",
      "    0.    0.] Expected Profit: 1540964.2120700001\n",
      "New best strategy at iteration  594  :  [ 146.  221.  701.   50. 1039. 1031.    0.    0.    0.    0.    0.    0.\n",
      "    0.    0.] Expected Profit: 1540965.6880700001\n",
      "New best strategy at iteration  594  :  [ 146.  222.  700.   50. 1039. 1031.    0.    0.    0.    0.    0.    0.\n",
      "    0.    0.] Expected Profit: 1540967.6070700001\n"
     ]
    },
    {
     "name": "stderr",
     "output_type": "stream",
     "text": [
      "\r",
      "  0%|                                                                         | 595/1000000 [02:08<62:16:04,  4.46it/s]"
     ]
    },
    {
     "name": "stdout",
     "output_type": "stream",
     "text": [
      "New best strategy at iteration  594  :  [ 146.  222.  701.   49. 1039. 1031.    0.    0.    0.    0.    0.    0.\n",
      "    0.    0.] Expected Profit: 1540970.0055699998\n",
      "New best strategy at iteration  594  :  [ 146.  222.  701.   50. 1038. 1031.    0.    0.    0.    0.    0.    0.\n",
      "    0.    0.] Expected Profit: 1540972.81927\n",
      "New best strategy at iteration  594  :  [ 146.  222.  701.   50. 1039. 1030.    0.    0.    0.    0.    0.    0.\n",
      "    0.    0.] Expected Profit: 1540976.05557\n",
      "New best strategy at iteration  595  :  [ 145.  222.  701.   50. 1039. 1030.    0.    0.    0.    0.    0.    0.\n",
      "    0.    0.] Expected Profit: 1540978.97987\n",
      "New best strategy at iteration  595  :  [ 146.  221.  701.   50. 1039. 1030.    0.    0.    0.    0.    0.    0.\n",
      "    0.    0.] Expected Profit: 1540980.45587\n",
      "New best strategy at iteration  595  :  [ 146.  222.  700.   50. 1039. 1030.    0.    0.    0.    0.    0.    0.\n",
      "    0.    0.] Expected Profit: 1540982.37487\n"
     ]
    },
    {
     "name": "stderr",
     "output_type": "stream",
     "text": [
      "\r",
      "  0%|                                                                         | 596/1000000 [02:08<60:39:28,  4.58it/s]"
     ]
    },
    {
     "name": "stdout",
     "output_type": "stream",
     "text": [
      "New best strategy at iteration  595  :  [ 146.  222.  701.   49. 1039. 1030.    0.    0.    0.    0.    0.    0.\n",
      "    0.    0.] Expected Profit: 1540984.7733699996\n",
      "New best strategy at iteration  595  :  [ 146.  222.  701.   50. 1038. 1030.    0.    0.    0.    0.    0.    0.\n",
      "    0.    0.] Expected Profit: 1540987.5870699997\n",
      "New best strategy at iteration  595  :  [ 146.  222.  701.   50. 1039. 1029.    0.    0.    0.    0.    0.    0.\n",
      "    0.    0.] Expected Profit: 1540990.8233699999\n",
      "New best strategy at iteration  596  :  [ 145.  222.  701.   50. 1039. 1029.    0.    0.    0.    0.    0.    0.\n",
      "    0.    0.] Expected Profit: 1540993.74767\n",
      "New best strategy at iteration  596  :  [ 146.  221.  701.   50. 1039. 1029.    0.    0.    0.    0.    0.    0.\n",
      "    0.    0.] Expected Profit: 1540995.2236699997\n",
      "New best strategy at iteration  596  :  [ 146.  222.  700.   50. 1039. 1029.    0.    0.    0.    0.    0.    0.\n",
      "    0.    0.] Expected Profit: 1540997.14267\n"
     ]
    },
    {
     "name": "stderr",
     "output_type": "stream",
     "text": [
      "\r",
      "  0%|                                                                         | 597/1000000 [02:08<60:04:17,  4.62it/s]"
     ]
    },
    {
     "name": "stdout",
     "output_type": "stream",
     "text": [
      "New best strategy at iteration  596  :  [ 146.  222.  701.   49. 1039. 1029.    0.    0.    0.    0.    0.    0.\n",
      "    0.    0.] Expected Profit: 1540999.5411699999\n",
      "New best strategy at iteration  596  :  [ 146.  222.  701.   50. 1038. 1029.    0.    0.    0.    0.    0.    0.\n",
      "    0.    0.] Expected Profit: 1541002.35487\n",
      "New best strategy at iteration  596  :  [ 146.  222.  701.   50. 1039. 1028.    0.    0.    0.    0.    0.    0.\n",
      "    0.    0.] Expected Profit: 1541005.5911700001\n",
      "New best strategy at iteration  597  :  [ 145.  222.  701.   50. 1039. 1028.    0.    0.    0.    0.    0.    0.\n",
      "    0.    0.] Expected Profit: 1541008.51547\n",
      "New best strategy at iteration  597  :  [ 146.  221.  701.   50. 1039. 1028.    0.    0.    0.    0.    0.    0.\n",
      "    0.    0.] Expected Profit: 1541009.9914700002\n",
      "New best strategy at iteration  597  :  [ 146.  222.  700.   50. 1039. 1028.    0.    0.    0.    0.    0.    0.\n",
      "    0.    0.] Expected Profit: 1541011.9104700002\n",
      "New best strategy at iteration  597  :  [ 146.  222.  701.   49. 1039. 1028.    0.    0.    0.    0.    0.    0.\n",
      "    0.    0.] Expected Profit: 1541014.30897\n"
     ]
    },
    {
     "name": "stderr",
     "output_type": "stream",
     "text": [
      "\r",
      "  0%|                                                                         | 598/1000000 [02:08<60:51:05,  4.56it/s]"
     ]
    },
    {
     "name": "stdout",
     "output_type": "stream",
     "text": [
      "New best strategy at iteration  597  :  [ 146.  222.  701.   50. 1038. 1028.    0.    0.    0.    0.    0.    0.\n",
      "    0.    0.] Expected Profit: 1541017.12267\n",
      "New best strategy at iteration  597  :  [ 146.  222.  701.   50. 1039. 1027.    0.    0.    0.    0.    0.    0.\n",
      "    0.    0.] Expected Profit: 1541020.35897\n",
      "New best strategy at iteration  598  :  [ 145.  222.  701.   50. 1039. 1027.    0.    0.    0.    0.    0.    0.\n",
      "    0.    0.] Expected Profit: 1541023.28327\n",
      "New best strategy at iteration  598  :  [ 146.  221.  701.   50. 1039. 1027.    0.    0.    0.    0.    0.    0.\n",
      "    0.    0.] Expected Profit: 1541024.75927\n",
      "New best strategy at iteration  598  :  [ 146.  222.  700.   50. 1039. 1027.    0.    0.    0.    0.    0.    0.\n",
      "    0.    0.] Expected Profit: 1541026.67827\n",
      "New best strategy at iteration  598  :  [ 146.  222.  701.   49. 1039. 1027.    0.    0.    0.    0.    0.    0.\n",
      "    0.    0.] Expected Profit: 1541029.07677\n"
     ]
    },
    {
     "name": "stderr",
     "output_type": "stream",
     "text": [
      "\r",
      "  0%|                                                                         | 599/1000000 [02:09<59:42:24,  4.65it/s]"
     ]
    },
    {
     "name": "stdout",
     "output_type": "stream",
     "text": [
      "New best strategy at iteration  598  :  [ 146.  222.  701.   50. 1038. 1027.    0.    0.    0.    0.    0.    0.\n",
      "    0.    0.] Expected Profit: 1541031.8904699998\n",
      "New best strategy at iteration  598  :  [ 146.  222.  701.   50. 1039. 1026.    0.    0.    0.    0.    0.    0.\n",
      "    0.    0.] Expected Profit: 1541035.12677\n",
      "New best strategy at iteration  599  :  [ 145.  222.  701.   50. 1039. 1026.    0.    0.    0.    0.    0.    0.\n",
      "    0.    0.] Expected Profit: 1541038.05107\n",
      "New best strategy at iteration  599  :  [ 146.  221.  701.   50. 1039. 1026.    0.    0.    0.    0.    0.    0.\n",
      "    0.    0.] Expected Profit: 1541039.52707\n",
      "New best strategy at iteration  599  :  [ 146.  222.  700.   50. 1039. 1026.    0.    0.    0.    0.    0.    0.\n",
      "    0.    0.] Expected Profit: 1541041.4460699998\n",
      "New best strategy at iteration  599  :  [ 146.  222.  701.   49. 1039. 1026.    0.    0.    0.    0.    0.    0.\n",
      "    0.    0.] Expected Profit: 1541043.8445699997\n"
     ]
    },
    {
     "name": "stderr",
     "output_type": "stream",
     "text": [
      "\r",
      "  0%|                                                                         | 600/1000000 [02:09<63:14:26,  4.39it/s]"
     ]
    },
    {
     "name": "stdout",
     "output_type": "stream",
     "text": [
      "New best strategy at iteration  599  :  [ 146.  222.  701.   50. 1038. 1026.    0.    0.    0.    0.    0.    0.\n",
      "    0.    0.] Expected Profit: 1541046.6582699998\n",
      "New best strategy at iteration  599  :  [ 146.  222.  701.   50. 1039. 1025.    0.    0.    0.    0.    0.    0.\n",
      "    0.    0.] Expected Profit: 1541049.8945700002\n",
      "New best strategy at iteration  600  :  [ 145.  222.  701.   50. 1039. 1025.    0.    0.    0.    0.    0.    0.\n",
      "    0.    0.] Expected Profit: 1541052.8188700003\n",
      "New best strategy at iteration  600  :  [ 146.  221.  701.   50. 1039. 1025.    0.    0.    0.    0.    0.    0.\n",
      "    0.    0.] Expected Profit: 1541054.29487\n",
      "New best strategy at iteration  600  :  [ 146.  222.  700.   50. 1039. 1025.    0.    0.    0.    0.    0.    0.\n",
      "    0.    0.] Expected Profit: 1541056.2138700003\n"
     ]
    },
    {
     "name": "stderr",
     "output_type": "stream",
     "text": [
      "\r",
      "  0%|                                                                         | 601/1000000 [02:09<61:50:41,  4.49it/s]"
     ]
    },
    {
     "name": "stdout",
     "output_type": "stream",
     "text": [
      "New best strategy at iteration  600  :  [ 146.  222.  701.   49. 1039. 1025.    0.    0.    0.    0.    0.    0.\n",
      "    0.    0.] Expected Profit: 1541058.61237\n",
      "New best strategy at iteration  600  :  [ 146.  222.  701.   50. 1038. 1025.    0.    0.    0.    0.    0.    0.\n",
      "    0.    0.] Expected Profit: 1541061.42607\n",
      "New best strategy at iteration  600  :  [ 146.  222.  701.   50. 1039. 1024.    0.    0.    0.    0.    0.    0.\n",
      "    0.    0.] Expected Profit: 1541064.6623699998\n",
      "New best strategy at iteration  601  :  [ 145.  222.  701.   50. 1039. 1024.    0.    0.    0.    0.    0.    0.\n",
      "    0.    0.] Expected Profit: 1541067.58667\n",
      "New best strategy at iteration  601  :  [ 146.  221.  701.   50. 1039. 1024.    0.    0.    0.    0.    0.    0.\n",
      "    0.    0.] Expected Profit: 1541069.0626700001\n",
      "New best strategy at iteration  601  :  [ 146.  222.  700.   50. 1039. 1024.    0.    0.    0.    0.    0.    0.\n",
      "    0.    0.] Expected Profit: 1541070.9816700001\n",
      "New best strategy at iteration  601  :  [ 146.  222.  701.   49. 1039. 1024.    0.    0.    0.    0.    0.    0.\n",
      "    0.    0.] Expected Profit: 1541073.38017\n"
     ]
    },
    {
     "name": "stderr",
     "output_type": "stream",
     "text": [
      "\r",
      "  0%|                                                                         | 602/1000000 [02:09<61:06:07,  4.54it/s]"
     ]
    },
    {
     "name": "stdout",
     "output_type": "stream",
     "text": [
      "New best strategy at iteration  601  :  [ 146.  222.  701.   50. 1038. 1024.    0.    0.    0.    0.    0.    0.\n",
      "    0.    0.] Expected Profit: 1541076.1938699998\n",
      "New best strategy at iteration  601  :  [ 146.  222.  701.   50. 1039. 1023.    0.    0.    0.    0.    0.    0.\n",
      "    0.    0.] Expected Profit: 1541079.43017\n",
      "New best strategy at iteration  602  :  [ 145.  222.  701.   50. 1039. 1023.    0.    0.    0.    0.    0.    0.\n",
      "    0.    0.] Expected Profit: 1541082.3544700001\n",
      "New best strategy at iteration  602  :  [ 146.  221.  701.   50. 1039. 1023.    0.    0.    0.    0.    0.    0.\n",
      "    0.    0.] Expected Profit: 1541083.8304699997\n",
      "New best strategy at iteration  602  :  [ 146.  222.  700.   50. 1039. 1023.    0.    0.    0.    0.    0.    0.\n",
      "    0.    0.] Expected Profit: 1541085.74947\n",
      "New best strategy at iteration  602  :  [ 146.  222.  701.   49. 1039. 1023.    0.    0.    0.    0.    0.    0.\n",
      "    0.    0.] Expected Profit: 1541088.1479699998\n",
      "New best strategy at iteration  602  :  [ 146.  222.  701.   50. 1038. 1023.    0.    0.    0.    0.    0.    0.\n",
      "    0.    0.] Expected Profit: 1541090.9616699999\n"
     ]
    },
    {
     "name": "stderr",
     "output_type": "stream",
     "text": [
      "\r",
      "  0%|                                                                         | 603/1000000 [02:09<59:54:59,  4.63it/s]"
     ]
    },
    {
     "name": "stdout",
     "output_type": "stream",
     "text": [
      "New best strategy at iteration  602  :  [ 146.  222.  701.   50. 1039. 1022.    0.    0.    0.    0.    0.    0.\n",
      "    0.    0.] Expected Profit: 1541094.1979699999\n",
      "New best strategy at iteration  603  :  [ 145.  222.  701.   50. 1039. 1022.    0.    0.    0.    0.    0.    0.\n",
      "    0.    0.] Expected Profit: 1541097.12227\n",
      "New best strategy at iteration  603  :  [ 146.  221.  701.   50. 1039. 1022.    0.    0.    0.    0.    0.    0.\n",
      "    0.    0.] Expected Profit: 1541098.59827\n",
      "New best strategy at iteration  603  :  [ 146.  222.  700.   50. 1039. 1022.    0.    0.    0.    0.    0.    0.\n",
      "    0.    0.] Expected Profit: 1541100.51727\n",
      "New best strategy at iteration  603  :  [ 146.  222.  701.   49. 1039. 1022.    0.    0.    0.    0.    0.    0.\n",
      "    0.    0.] Expected Profit: 1541102.9157699998\n",
      "New best strategy at iteration  603  :  [ 146.  222.  701.   50. 1038. 1022.    0.    0.    0.    0.    0.    0.\n",
      "    0.    0.] Expected Profit: 1541105.72947\n"
     ]
    },
    {
     "name": "stderr",
     "output_type": "stream",
     "text": [
      "\r",
      "  0%|                                                                         | 604/1000000 [02:10<61:25:20,  4.52it/s]"
     ]
    },
    {
     "name": "stdout",
     "output_type": "stream",
     "text": [
      "New best strategy at iteration  603  :  [ 146.  222.  701.   50. 1039. 1021.    0.    0.    0.    0.    0.    0.\n",
      "    0.    0.] Expected Profit: 1541108.96577\n",
      "New best strategy at iteration  604  :  [ 145.  222.  701.   50. 1039. 1021.    0.    0.    0.    0.    0.    0.\n",
      "    0.    0.] Expected Profit: 1541111.8900700002\n",
      "New best strategy at iteration  604  :  [ 146.  221.  701.   50. 1039. 1021.    0.    0.    0.    0.    0.    0.\n",
      "    0.    0.] Expected Profit: 1541113.3660700002\n",
      "New best strategy at iteration  604  :  [ 146.  222.  700.   50. 1039. 1021.    0.    0.    0.    0.    0.    0.\n",
      "    0.    0.] Expected Profit: 1541115.2850700002\n",
      "New best strategy at iteration  604  :  [ 146.  222.  701.   49. 1039. 1021.    0.    0.    0.    0.    0.    0.\n",
      "    0.    0.] Expected Profit: 1541117.68357\n"
     ]
    },
    {
     "name": "stderr",
     "output_type": "stream",
     "text": [
      "\r",
      "  0%|                                                                         | 605/1000000 [02:10<63:38:46,  4.36it/s]"
     ]
    },
    {
     "name": "stdout",
     "output_type": "stream",
     "text": [
      "New best strategy at iteration  604  :  [ 146.  222.  701.   50. 1038. 1021.    0.    0.    0.    0.    0.    0.\n",
      "    0.    0.] Expected Profit: 1541120.49727\n",
      "New best strategy at iteration  604  :  [ 146.  222.  701.   50. 1039. 1020.    0.    0.    0.    0.    0.    0.\n",
      "    0.    0.] Expected Profit: 1541123.73357\n",
      "New best strategy at iteration  605  :  [ 145.  222.  701.   50. 1039. 1020.    0.    0.    0.    0.    0.    0.\n",
      "    0.    0.] Expected Profit: 1541126.65787\n",
      "New best strategy at iteration  605  :  [ 146.  221.  701.   50. 1039. 1020.    0.    0.    0.    0.    0.    0.\n",
      "    0.    0.] Expected Profit: 1541128.13387\n",
      "New best strategy at iteration  605  :  [ 146.  222.  700.   50. 1039. 1020.    0.    0.    0.    0.    0.    0.\n",
      "    0.    0.] Expected Profit: 1541130.0528699998\n"
     ]
    },
    {
     "name": "stderr",
     "output_type": "stream",
     "text": [
      "\r",
      "  0%|                                                                         | 606/1000000 [02:10<64:11:14,  4.32it/s]"
     ]
    },
    {
     "name": "stdout",
     "output_type": "stream",
     "text": [
      "New best strategy at iteration  605  :  [ 146.  222.  701.   49. 1039. 1020.    0.    0.    0.    0.    0.    0.\n",
      "    0.    0.] Expected Profit: 1541132.45137\n",
      "New best strategy at iteration  605  :  [ 146.  222.  701.   50. 1038. 1020.    0.    0.    0.    0.    0.    0.\n",
      "    0.    0.] Expected Profit: 1541135.26507\n",
      "New best strategy at iteration  605  :  [ 146.  222.  701.   50. 1039. 1019.    0.    0.    0.    0.    0.    0.\n",
      "    0.    0.] Expected Profit: 1541138.50137\n",
      "New best strategy at iteration  606  :  [ 145.  222.  701.   50. 1039. 1019.    0.    0.    0.    0.    0.    0.\n",
      "    0.    0.] Expected Profit: 1541141.42567\n",
      "New best strategy at iteration  606  :  [ 146.  221.  701.   50. 1039. 1019.    0.    0.    0.    0.    0.    0.\n",
      "    0.    0.] Expected Profit: 1541142.90167\n"
     ]
    },
    {
     "name": "stderr",
     "output_type": "stream",
     "text": [
      "\r",
      "  0%|                                                                         | 607/1000000 [02:10<62:46:41,  4.42it/s]"
     ]
    },
    {
     "name": "stdout",
     "output_type": "stream",
     "text": [
      "New best strategy at iteration  606  :  [ 146.  222.  700.   50. 1039. 1019.    0.    0.    0.    0.    0.    0.\n",
      "    0.    0.] Expected Profit: 1541144.82067\n",
      "New best strategy at iteration  606  :  [ 146.  222.  701.   49. 1039. 1019.    0.    0.    0.    0.    0.    0.\n",
      "    0.    0.] Expected Profit: 1541147.2191700002\n",
      "New best strategy at iteration  606  :  [ 146.  222.  701.   50. 1038. 1019.    0.    0.    0.    0.    0.    0.\n",
      "    0.    0.] Expected Profit: 1541150.03287\n",
      "New best strategy at iteration  606  :  [ 146.  222.  701.   50. 1039. 1018.    0.    0.    0.    0.    0.    0.\n",
      "    0.    0.] Expected Profit: 1541153.26917\n",
      "New best strategy at iteration  607  :  [ 145.  222.  701.   50. 1039. 1018.    0.    0.    0.    0.    0.    0.\n",
      "    0.    0.] Expected Profit: 1541156.19347\n",
      "New best strategy at iteration  607  :  [ 146.  221.  701.   50. 1039. 1018.    0.    0.    0.    0.    0.    0.\n",
      "    0.    0.] Expected Profit: 1541157.66947\n",
      "New best strategy at iteration  607  :  [ 146.  222.  700.   50. 1039. 1018.    0.    0.    0.    0.    0.    0.\n",
      "    0.    0.] Expected Profit: 1541159.58847\n",
      "New best strategy at iteration  607  :  [ 146.  222.  701.   49. 1039. 1018.    0.    0.    0.    0.    0.    0.\n",
      "    0.    0.] Expected Profit: 1541161.9869699997\n"
     ]
    },
    {
     "name": "stderr",
     "output_type": "stream",
     "text": [
      "\r",
      "  0%|                                                                         | 608/1000000 [02:11<62:14:07,  4.46it/s]"
     ]
    },
    {
     "name": "stdout",
     "output_type": "stream",
     "text": [
      "New best strategy at iteration  607  :  [ 146.  222.  701.   50. 1038. 1018.    0.    0.    0.    0.    0.    0.\n",
      "    0.    0.] Expected Profit: 1541164.8006699998\n",
      "New best strategy at iteration  607  :  [ 146.  222.  701.   50. 1039. 1017.    0.    0.    0.    0.    0.    0.\n",
      "    0.    0.] Expected Profit: 1541168.0369700002\n",
      "New best strategy at iteration  608  :  [ 145.  222.  701.   50. 1039. 1017.    0.    0.    0.    0.    0.    0.\n",
      "    0.    0.] Expected Profit: 1541170.96127\n",
      "New best strategy at iteration  608  :  [ 146.  221.  701.   50. 1039. 1017.    0.    0.    0.    0.    0.    0.\n",
      "    0.    0.] Expected Profit: 1541172.4372699999\n",
      "New best strategy at iteration  608  :  [ 146.  222.  700.   50. 1039. 1017.    0.    0.    0.    0.    0.    0.\n",
      "    0.    0.] Expected Profit: 1541174.3562699999\n",
      "New best strategy at iteration  608  :  [ 146.  222.  701.   49. 1039. 1017.    0.    0.    0.    0.    0.    0.\n",
      "    0.    0.] Expected Profit: 1541176.75477\n"
     ]
    },
    {
     "name": "stderr",
     "output_type": "stream",
     "text": [
      "\r",
      "  0%|                                                                         | 609/1000000 [02:11<60:54:53,  4.56it/s]"
     ]
    },
    {
     "name": "stdout",
     "output_type": "stream",
     "text": [
      "New best strategy at iteration  608  :  [ 146.  222.  701.   50. 1038. 1017.    0.    0.    0.    0.    0.    0.\n",
      "    0.    0.] Expected Profit: 1541179.5684699998\n",
      "New best strategy at iteration  608  :  [ 146.  222.  701.   50. 1039. 1016.    0.    0.    0.    0.    0.    0.\n",
      "    0.    0.] Expected Profit: 1541182.80477\n",
      "New best strategy at iteration  609  :  [ 145.  222.  701.   50. 1039. 1016.    0.    0.    0.    0.    0.    0.\n",
      "    0.    0.] Expected Profit: 1541185.72907\n",
      "New best strategy at iteration  609  :  [ 146.  221.  701.   50. 1039. 1016.    0.    0.    0.    0.    0.    0.\n",
      "    0.    0.] Expected Profit: 1541187.2050700001\n",
      "New best strategy at iteration  609  :  [ 146.  222.  700.   50. 1039. 1016.    0.    0.    0.    0.    0.    0.\n",
      "    0.    0.] Expected Profit: 1541189.12407\n",
      "New best strategy at iteration  609  :  [ 146.  222.  701.   49. 1039. 1016.    0.    0.    0.    0.    0.    0.\n",
      "    0.    0.] Expected Profit: 1541191.5225700003\n"
     ]
    },
    {
     "name": "stderr",
     "output_type": "stream",
     "text": [
      "\r",
      "  0%|                                                                         | 610/1000000 [02:11<60:17:35,  4.60it/s]"
     ]
    },
    {
     "name": "stdout",
     "output_type": "stream",
     "text": [
      "New best strategy at iteration  609  :  [ 146.  222.  701.   50. 1038. 1016.    0.    0.    0.    0.    0.    0.\n",
      "    0.    0.] Expected Profit: 1541194.33627\n",
      "New best strategy at iteration  609  :  [ 146.  222.  701.   50. 1039. 1015.    0.    0.    0.    0.    0.    0.\n",
      "    0.    0.] Expected Profit: 1541197.5725699996\n",
      "New best strategy at iteration  610  :  [ 145.  222.  701.   50. 1039. 1015.    0.    0.    0.    0.    0.    0.\n",
      "    0.    0.] Expected Profit: 1541200.49687\n",
      "New best strategy at iteration  610  :  [ 146.  221.  701.   50. 1039. 1015.    0.    0.    0.    0.    0.    0.\n",
      "    0.    0.] Expected Profit: 1541201.97287\n",
      "New best strategy at iteration  610  :  [ 146.  222.  700.   50. 1039. 1015.    0.    0.    0.    0.    0.    0.\n",
      "    0.    0.] Expected Profit: 1541203.89187\n",
      "New best strategy at iteration  610  :  [ 146.  222.  701.   49. 1039. 1015.    0.    0.    0.    0.    0.    0.\n",
      "    0.    0.] Expected Profit: 1541206.2903699998\n"
     ]
    },
    {
     "name": "stderr",
     "output_type": "stream",
     "text": [
      "\r",
      "  0%|                                                                         | 611/1000000 [02:11<59:11:44,  4.69it/s]"
     ]
    },
    {
     "name": "stdout",
     "output_type": "stream",
     "text": [
      "New best strategy at iteration  610  :  [ 146.  222.  701.   50. 1038. 1015.    0.    0.    0.    0.    0.    0.\n",
      "    0.    0.] Expected Profit: 1541209.10407\n",
      "New best strategy at iteration  610  :  [ 146.  222.  701.   50. 1039. 1014.    0.    0.    0.    0.    0.    0.\n",
      "    0.    0.] Expected Profit: 1541212.3403699999\n",
      "New best strategy at iteration  611  :  [ 145.  222.  701.   50. 1039. 1014.    0.    0.    0.    0.    0.    0.\n",
      "    0.    0.] Expected Profit: 1541215.2646700002\n",
      "New best strategy at iteration  611  :  [ 146.  221.  701.   50. 1039. 1014.    0.    0.    0.    0.    0.    0.\n",
      "    0.    0.] Expected Profit: 1541216.74067\n",
      "New best strategy at iteration  611  :  [ 146.  222.  700.   50. 1039. 1014.    0.    0.    0.    0.    0.    0.\n",
      "    0.    0.] Expected Profit: 1541218.65967\n",
      "New best strategy at iteration  611  :  [ 146.  222.  701.   49. 1039. 1014.    0.    0.    0.    0.    0.    0.\n",
      "    0.    0.] Expected Profit: 1541221.05817\n",
      "New best strategy at iteration  611  :  [ 146.  222.  701.   50. 1038. 1014.    0.    0.    0.    0.    0.    0.\n",
      "    0.    0.] Expected Profit: 1541223.87187\n"
     ]
    },
    {
     "name": "stderr",
     "output_type": "stream",
     "text": [
      "\r",
      "  0%|                                                                         | 612/1000000 [02:11<58:23:33,  4.75it/s]"
     ]
    },
    {
     "name": "stdout",
     "output_type": "stream",
     "text": [
      "New best strategy at iteration  611  :  [ 146.  222.  701.   50. 1039. 1013.    0.    0.    0.    0.    0.    0.\n",
      "    0.    0.] Expected Profit: 1541227.1081700001\n",
      "New best strategy at iteration  612  :  [ 145.  222.  701.   50. 1039. 1013.    0.    0.    0.    0.    0.    0.\n",
      "    0.    0.] Expected Profit: 1541230.03247\n",
      "New best strategy at iteration  612  :  [ 146.  221.  701.   50. 1039. 1013.    0.    0.    0.    0.    0.    0.\n",
      "    0.    0.] Expected Profit: 1541231.50847\n",
      "New best strategy at iteration  612  :  [ 146.  222.  700.   50. 1039. 1013.    0.    0.    0.    0.    0.    0.\n",
      "    0.    0.] Expected Profit: 1541233.42747\n",
      "New best strategy at iteration  612  :  [ 146.  222.  701.   49. 1039. 1013.    0.    0.    0.    0.    0.    0.\n",
      "    0.    0.] Expected Profit: 1541235.82597\n",
      "New best strategy at iteration  612  :  [ 146.  222.  701.   50. 1038. 1013.    0.    0.    0.    0.    0.    0.\n",
      "    0.    0.] Expected Profit: 1541238.63967\n"
     ]
    },
    {
     "name": "stderr",
     "output_type": "stream",
     "text": [
      "\r",
      "  0%|                                                                         | 613/1000000 [02:12<58:11:58,  4.77it/s]"
     ]
    },
    {
     "name": "stdout",
     "output_type": "stream",
     "text": [
      "New best strategy at iteration  612  :  [ 146.  222.  701.   50. 1039. 1012.    0.    0.    0.    0.    0.    0.\n",
      "    0.    0.] Expected Profit: 1541241.8759699997\n",
      "New best strategy at iteration  613  :  [ 145.  222.  701.   50. 1039. 1012.    0.    0.    0.    0.    0.    0.\n",
      "    0.    0.] Expected Profit: 1541244.80027\n",
      "New best strategy at iteration  613  :  [ 146.  221.  701.   50. 1039. 1012.    0.    0.    0.    0.    0.    0.\n",
      "    0.    0.] Expected Profit: 1541246.27627\n",
      "New best strategy at iteration  613  :  [ 146.  222.  700.   50. 1039. 1012.    0.    0.    0.    0.    0.    0.\n",
      "    0.    0.] Expected Profit: 1541248.19527\n",
      "New best strategy at iteration  613  :  [ 146.  222.  701.   49. 1039. 1012.    0.    0.    0.    0.    0.    0.\n",
      "    0.    0.] Expected Profit: 1541250.5937699997\n",
      "New best strategy at iteration  613  :  [ 146.  222.  701.   50. 1038. 1012.    0.    0.    0.    0.    0.    0.\n",
      "    0.    0.] Expected Profit: 1541253.4074699997\n",
      "New best strategy at iteration  613  :  [ 146.  222.  701.   50. 1039. 1011.    0.    0.    0.    0.    0.    0.\n",
      "    0.    0.] Expected Profit: 1541256.64377\n"
     ]
    },
    {
     "name": "stderr",
     "output_type": "stream",
     "text": [
      "  0%|                                                                         | 615/1000000 [02:12<57:35:49,  4.82it/s]"
     ]
    },
    {
     "name": "stdout",
     "output_type": "stream",
     "text": [
      "New best strategy at iteration  614  :  [ 145.  222.  701.   50. 1039. 1011.    0.    0.    0.    0.    0.    0.\n",
      "    0.    0.] Expected Profit: 1541259.5680700003\n",
      "New best strategy at iteration  614  :  [ 146.  221.  701.   50. 1039. 1011.    0.    0.    0.    0.    0.    0.\n",
      "    0.    0.] Expected Profit: 1541261.04407\n",
      "New best strategy at iteration  614  :  [ 146.  222.  700.   50. 1039. 1011.    0.    0.    0.    0.    0.    0.\n",
      "    0.    0.] Expected Profit: 1541262.96307\n",
      "New best strategy at iteration  614  :  [ 146.  222.  701.   49. 1039. 1011.    0.    0.    0.    0.    0.    0.\n",
      "    0.    0.] Expected Profit: 1541265.3615700002\n",
      "New best strategy at iteration  614  :  [ 146.  222.  701.   50. 1038. 1011.    0.    0.    0.    0.    0.    0.\n",
      "    0.    0.] Expected Profit: 1541268.17527\n",
      "New best strategy at iteration  614  :  [ 146.  222.  701.   50. 1039. 1010.    0.    0.    0.    0.    0.    0.\n",
      "    0.    0.] Expected Profit: 1541271.41157\n",
      "New best strategy at iteration  615  :  [ 145.  222.  701.   50. 1039. 1010.    0.    0.    0.    0.    0.    0.\n",
      "    0.    0.] Expected Profit: 1541274.33587\n"
     ]
    },
    {
     "name": "stderr",
     "output_type": "stream",
     "text": [
      "\r",
      "  0%|                                                                         | 616/1000000 [02:12<57:57:37,  4.79it/s]"
     ]
    },
    {
     "name": "stdout",
     "output_type": "stream",
     "text": [
      "New best strategy at iteration  615  :  [ 146.  221.  701.   50. 1039. 1010.    0.    0.    0.    0.    0.    0.\n",
      "    0.    0.] Expected Profit: 1541275.8118699999\n",
      "New best strategy at iteration  615  :  [ 146.  222.  700.   50. 1039. 1010.    0.    0.    0.    0.    0.    0.\n",
      "    0.    0.] Expected Profit: 1541277.73087\n",
      "New best strategy at iteration  615  :  [ 146.  222.  701.   49. 1039. 1010.    0.    0.    0.    0.    0.    0.\n",
      "    0.    0.] Expected Profit: 1541280.12937\n",
      "New best strategy at iteration  615  :  [ 146.  222.  701.   50. 1038. 1010.    0.    0.    0.    0.    0.    0.\n",
      "    0.    0.] Expected Profit: 1541282.94307\n",
      "New best strategy at iteration  615  :  [ 146.  222.  701.   50. 1039. 1009.    0.    0.    0.    0.    0.    0.\n",
      "    0.    0.] Expected Profit: 1541286.1793699998\n",
      "New best strategy at iteration  616  :  [ 145.  222.  701.   50. 1039. 1009.    0.    0.    0.    0.    0.    0.\n",
      "    0.    0.] Expected Profit: 1541289.10367\n"
     ]
    },
    {
     "name": "stderr",
     "output_type": "stream",
     "text": [
      "\r",
      "  0%|                                                                         | 617/1000000 [02:12<57:38:29,  4.82it/s]"
     ]
    },
    {
     "name": "stdout",
     "output_type": "stream",
     "text": [
      "New best strategy at iteration  616  :  [ 146.  221.  701.   50. 1039. 1009.    0.    0.    0.    0.    0.    0.\n",
      "    0.    0.] Expected Profit: 1541290.5796700001\n",
      "New best strategy at iteration  616  :  [ 146.  222.  700.   50. 1039. 1009.    0.    0.    0.    0.    0.    0.\n",
      "    0.    0.] Expected Profit: 1541292.4986700001\n",
      "New best strategy at iteration  616  :  [ 146.  222.  701.   49. 1039. 1009.    0.    0.    0.    0.    0.    0.\n",
      "    0.    0.] Expected Profit: 1541294.89717\n",
      "New best strategy at iteration  616  :  [ 146.  222.  701.   50. 1038. 1009.    0.    0.    0.    0.    0.    0.\n",
      "    0.    0.] Expected Profit: 1541297.7108699998\n",
      "New best strategy at iteration  616  :  [ 146.  222.  701.   50. 1039. 1008.    0.    0.    0.    0.    0.    0.\n",
      "    0.    0.] Expected Profit: 1541300.94717\n",
      "New best strategy at iteration  617  :  [ 145.  222.  701.   50. 1039. 1008.    0.    0.    0.    0.    0.    0.\n",
      "    0.    0.] Expected Profit: 1541303.87147\n",
      "New best strategy at iteration  617  :  [ 146.  221.  701.   50. 1039. 1008.    0.    0.    0.    0.    0.    0.\n",
      "    0.    0.] Expected Profit: 1541305.3474699997\n"
     ]
    },
    {
     "name": "stderr",
     "output_type": "stream",
     "text": [
      "\r",
      "  0%|                                                                         | 618/1000000 [02:13<57:45:10,  4.81it/s]"
     ]
    },
    {
     "name": "stdout",
     "output_type": "stream",
     "text": [
      "New best strategy at iteration  617  :  [ 146.  222.  700.   50. 1039. 1008.    0.    0.    0.    0.    0.    0.\n",
      "    0.    0.] Expected Profit: 1541307.26647\n",
      "New best strategy at iteration  617  :  [ 146.  222.  701.   49. 1039. 1008.    0.    0.    0.    0.    0.    0.\n",
      "    0.    0.] Expected Profit: 1541309.6649699998\n",
      "New best strategy at iteration  617  :  [ 146.  222.  701.   50. 1038. 1008.    0.    0.    0.    0.    0.    0.\n",
      "    0.    0.] Expected Profit: 1541312.4786699999\n",
      "New best strategy at iteration  617  :  [ 146.  222.  701.   50. 1039. 1007.    0.    0.    0.    0.    0.    0.\n",
      "    0.    0.] Expected Profit: 1541315.71497\n",
      "New best strategy at iteration  618  :  [ 145.  222.  701.   50. 1039. 1007.    0.    0.    0.    0.    0.    0.\n",
      "    0.    0.] Expected Profit: 1541318.63927\n",
      "New best strategy at iteration  618  :  [ 146.  221.  701.   50. 1039. 1007.    0.    0.    0.    0.    0.    0.\n",
      "    0.    0.] Expected Profit: 1541320.11527\n",
      "New best strategy at iteration  618  :  [ 146.  222.  700.   50. 1039. 1007.    0.    0.    0.    0.    0.    0.\n",
      "    0.    0.] Expected Profit: 1541322.0342700002\n"
     ]
    },
    {
     "name": "stderr",
     "output_type": "stream",
     "text": [
      "\r",
      "  0%|                                                                         | 619/1000000 [02:13<57:37:54,  4.82it/s]"
     ]
    },
    {
     "name": "stdout",
     "output_type": "stream",
     "text": [
      "New best strategy at iteration  618  :  [ 146.  222.  701.   49. 1039. 1007.    0.    0.    0.    0.    0.    0.\n",
      "    0.    0.] Expected Profit: 1541324.43277\n",
      "New best strategy at iteration  618  :  [ 146.  222.  701.   50. 1038. 1007.    0.    0.    0.    0.    0.    0.\n",
      "    0.    0.] Expected Profit: 1541327.24647\n",
      "New best strategy at iteration  618  :  [ 146.  222.  701.   50. 1039. 1006.    0.    0.    0.    0.    0.    0.\n",
      "    0.    0.] Expected Profit: 1541330.48277\n",
      "New best strategy at iteration  619  :  [ 145.  222.  701.   50. 1039. 1006.    0.    0.    0.    0.    0.    0.\n",
      "    0.    0.] Expected Profit: 1541333.4070700002\n",
      "New best strategy at iteration  619  :  [ 146.  221.  701.   50. 1039. 1006.    0.    0.    0.    0.    0.    0.\n",
      "    0.    0.] Expected Profit: 1541334.88307\n",
      "New best strategy at iteration  619  :  [ 146.  222.  700.   50. 1039. 1006.    0.    0.    0.    0.    0.    0.\n",
      "    0.    0.] Expected Profit: 1541336.8020700002\n",
      "New best strategy at iteration  619  :  [ 146.  222.  701.   49. 1039. 1006.    0.    0.    0.    0.    0.    0.\n",
      "    0.    0.] Expected Profit: 1541339.2005699996\n"
     ]
    },
    {
     "name": "stderr",
     "output_type": "stream",
     "text": [
      "\r",
      "  0%|                                                                         | 620/1000000 [02:13<57:07:34,  4.86it/s]"
     ]
    },
    {
     "name": "stdout",
     "output_type": "stream",
     "text": [
      "New best strategy at iteration  619  :  [ 146.  222.  701.   50. 1038. 1006.    0.    0.    0.    0.    0.    0.\n",
      "    0.    0.] Expected Profit: 1541342.01427\n",
      "New best strategy at iteration  619  :  [ 146.  222.  701.   50. 1039. 1005.    0.    0.    0.    0.    0.    0.\n",
      "    0.    0.] Expected Profit: 1541345.25057\n",
      "New best strategy at iteration  620  :  [ 145.  222.  701.   50. 1039. 1005.    0.    0.    0.    0.    0.    0.\n",
      "    0.    0.] Expected Profit: 1541348.1748700002\n",
      "New best strategy at iteration  620  :  [ 146.  221.  701.   50. 1039. 1005.    0.    0.    0.    0.    0.    0.\n",
      "    0.    0.] Expected Profit: 1541349.6508699998\n",
      "New best strategy at iteration  620  :  [ 146.  222.  700.   50. 1039. 1005.    0.    0.    0.    0.    0.    0.\n",
      "    0.    0.] Expected Profit: 1541351.5698700002\n",
      "New best strategy at iteration  620  :  [ 146.  222.  701.   49. 1039. 1005.    0.    0.    0.    0.    0.    0.\n",
      "    0.    0.] Expected Profit: 1541353.96837\n",
      "New best strategy at iteration  620  :  [ 146.  222.  701.   50. 1038. 1005.    0.    0.    0.    0.    0.    0.\n",
      "    0.    0.] Expected Profit: 1541356.78207\n",
      "New best strategy at iteration  620  :  [ 146.  222.  701.   50. 1039. 1004.    0.    0.    0.    0.    0.    0.\n",
      "    0.    0.] Expected Profit: 1541360.01837\n"
     ]
    },
    {
     "name": "stderr",
     "output_type": "stream",
     "text": [
      "  0%|                                                                         | 622/1000000 [02:13<57:17:48,  4.85it/s]"
     ]
    },
    {
     "name": "stdout",
     "output_type": "stream",
     "text": [
      "New best strategy at iteration  621  :  [ 145.  222.  701.   50. 1039. 1004.    0.    0.    0.    0.    0.    0.\n",
      "    0.    0.] Expected Profit: 1541362.94267\n",
      "New best strategy at iteration  621  :  [ 146.  221.  701.   50. 1039. 1004.    0.    0.    0.    0.    0.    0.\n",
      "    0.    0.] Expected Profit: 1541364.41867\n",
      "New best strategy at iteration  621  :  [ 146.  222.  700.   50. 1039. 1004.    0.    0.    0.    0.    0.    0.\n",
      "    0.    0.] Expected Profit: 1541366.33767\n",
      "New best strategy at iteration  621  :  [ 146.  222.  701.   49. 1039. 1004.    0.    0.    0.    0.    0.    0.\n",
      "    0.    0.] Expected Profit: 1541368.73617\n",
      "New best strategy at iteration  621  :  [ 146.  222.  701.   50. 1038. 1004.    0.    0.    0.    0.    0.    0.\n",
      "    0.    0.] Expected Profit: 1541371.54987\n",
      "New best strategy at iteration  621  :  [ 146.  222.  701.   50. 1039. 1003.    0.    0.    0.    0.    0.    0.\n",
      "    0.    0.] Expected Profit: 1541374.78617\n"
     ]
    },
    {
     "name": "stderr",
     "output_type": "stream",
     "text": [
      "\r",
      "  0%|                                                                         | 623/1000000 [02:14<57:17:35,  4.85it/s]"
     ]
    },
    {
     "name": "stdout",
     "output_type": "stream",
     "text": [
      "New best strategy at iteration  622  :  [ 145.  222.  701.   50. 1039. 1003.    0.    0.    0.    0.    0.    0.\n",
      "    0.    0.] Expected Profit: 1541377.71047\n",
      "New best strategy at iteration  622  :  [ 146.  221.  701.   50. 1039. 1003.    0.    0.    0.    0.    0.    0.\n",
      "    0.    0.] Expected Profit: 1541379.1864700003\n",
      "New best strategy at iteration  622  :  [ 146.  222.  700.   50. 1039. 1003.    0.    0.    0.    0.    0.    0.\n",
      "    0.    0.] Expected Profit: 1541381.1054700003\n",
      "New best strategy at iteration  622  :  [ 146.  222.  701.   49. 1039. 1003.    0.    0.    0.    0.    0.    0.\n",
      "    0.    0.] Expected Profit: 1541383.5039699997\n",
      "New best strategy at iteration  622  :  [ 146.  222.  701.   50. 1038. 1003.    0.    0.    0.    0.    0.    0.\n",
      "    0.    0.] Expected Profit: 1541386.31767\n",
      "New best strategy at iteration  622  :  [ 146.  222.  701.   50. 1039. 1002.    0.    0.    0.    0.    0.    0.\n",
      "    0.    0.] Expected Profit: 1541389.55397\n"
     ]
    },
    {
     "name": "stderr",
     "output_type": "stream",
     "text": [
      "\r",
      "  0%|                                                                         | 624/1000000 [02:14<57:51:42,  4.80it/s]"
     ]
    },
    {
     "name": "stdout",
     "output_type": "stream",
     "text": [
      "New best strategy at iteration  623  :  [ 145.  222.  701.   50. 1039. 1002.    0.    0.    0.    0.    0.    0.\n",
      "    0.    0.] Expected Profit: 1541392.47827\n",
      "New best strategy at iteration  623  :  [ 146.  221.  701.   50. 1039. 1002.    0.    0.    0.    0.    0.    0.\n",
      "    0.    0.] Expected Profit: 1541393.9542699999\n",
      "New best strategy at iteration  623  :  [ 146.  222.  700.   50. 1039. 1002.    0.    0.    0.    0.    0.    0.\n",
      "    0.    0.] Expected Profit: 1541395.8732699999\n",
      "New best strategy at iteration  623  :  [ 146.  222.  701.   49. 1039. 1002.    0.    0.    0.    0.    0.    0.\n",
      "    0.    0.] Expected Profit: 1541398.27177\n",
      "New best strategy at iteration  623  :  [ 146.  222.  701.   50. 1038. 1002.    0.    0.    0.    0.    0.    0.\n",
      "    0.    0.] Expected Profit: 1541401.0854699998\n",
      "New best strategy at iteration  623  :  [ 146.  222.  701.   50. 1039. 1001.    0.    0.    0.    0.    0.    0.\n",
      "    0.    0.] Expected Profit: 1541404.32177\n"
     ]
    },
    {
     "name": "stderr",
     "output_type": "stream",
     "text": [
      "\r",
      "  0%|                                                                         | 625/1000000 [02:14<58:39:19,  4.73it/s]"
     ]
    },
    {
     "name": "stdout",
     "output_type": "stream",
     "text": [
      "New best strategy at iteration  624  :  [ 145.  222.  701.   50. 1039. 1001.    0.    0.    0.    0.    0.    0.\n",
      "    0.    0.] Expected Profit: 1541407.24607\n",
      "New best strategy at iteration  624  :  [ 146.  221.  701.   50. 1039. 1001.    0.    0.    0.    0.    0.    0.\n",
      "    0.    0.] Expected Profit: 1541408.72207\n",
      "New best strategy at iteration  624  :  [ 146.  222.  700.   50. 1039. 1001.    0.    0.    0.    0.    0.    0.\n",
      "    0.    0.] Expected Profit: 1541410.64107\n",
      "New best strategy at iteration  624  :  [ 146.  222.  701.   49. 1039. 1001.    0.    0.    0.    0.    0.    0.\n",
      "    0.    0.] Expected Profit: 1541413.0395699998\n",
      "New best strategy at iteration  624  :  [ 146.  222.  701.   50. 1038. 1001.    0.    0.    0.    0.    0.    0.\n",
      "    0.    0.] Expected Profit: 1541415.8532699998\n",
      "New best strategy at iteration  624  :  [ 146.  222.  701.   50. 1039. 1000.    0.    0.    0.    0.    0.    0.\n",
      "    0.    0.] Expected Profit: 1541419.08957\n",
      "New best strategy at iteration  625  :  [ 145.  222.  701.   50. 1039. 1000.    0.    0.    0.    0.    0.    0.\n",
      "    0.    0.] Expected Profit: 1541422.0138700001\n",
      "New best strategy at iteration  625  :  [ 146.  221.  701.   50. 1039. 1000.    0.    0.    0.    0.    0.    0.\n",
      "    0.    0.] Expected Profit: 1541423.4898700002\n",
      "New best strategy at iteration  625  :  [ 146.  222.  700.   50. 1039. 1000.    0.    0.    0.    0.    0.    0.\n",
      "    0.    0.] Expected Profit: 1541425.4088700002\n",
      "New best strategy at iteration  625  :  [ 146.  222.  701.   49. 1039. 1000.    0.    0.    0.    0.    0.    0.\n",
      "    0.    0.] Expected Profit: 1541427.8073699998\n",
      "New best strategy at iteration  625  :  [ 146.  222.  701.   50. 1038. 1000.    0.    0.    0.    0.    0.    0.\n",
      "    0.    0.] Expected Profit: 1541430.6210699999\n",
      "New best strategy at iteration  625  :  [ 146.  222.  701.   50. 1039.  999.    0.    0.    0.    0.    0.    0.\n",
      "    0.    0.] Expected Profit: 1541433.8573699999\n"
     ]
    },
    {
     "name": "stderr",
     "output_type": "stream",
     "text": [
      "\r",
      "  0%|                                                                         | 626/1000000 [02:14<59:18:58,  4.68it/s]"
     ]
    },
    {
     "name": "stdout",
     "output_type": "stream",
     "text": [
      "New best strategy at iteration  626  :  [ 145.  222.  701.   50. 1039.  999.    0.    0.    0.    0.    0.    0.\n",
      "    0.    0.] Expected Profit: 1541436.7816700002\n",
      "New best strategy at iteration  626  :  [ 146.  221.  701.   50. 1039.  999.    0.    0.    0.    0.    0.    0.\n",
      "    0.    0.] Expected Profit: 1541438.25767\n",
      "New best strategy at iteration  626  :  [ 146.  222.  700.   50. 1039.  999.    0.    0.    0.    0.    0.    0.\n",
      "    0.    0.] Expected Profit: 1541440.1766700002\n",
      "New best strategy at iteration  626  :  [ 146.  222.  701.   49. 1039.  999.    0.    0.    0.    0.    0.    0.\n",
      "    0.    0.] Expected Profit: 1541442.5751699999\n",
      "New best strategy at iteration  626  :  [ 146.  222.  701.   50. 1038.  999.    0.    0.    0.    0.    0.    0.\n",
      "    0.    0.] Expected Profit: 1541445.38887\n",
      "New best strategy at iteration  626  :  [ 146.  222.  701.   50. 1039.  998.    0.    0.    0.    0.    0.    0.\n",
      "    0.    0.] Expected Profit: 1541448.62517\n"
     ]
    },
    {
     "name": "stderr",
     "output_type": "stream",
     "text": [
      "\r",
      "  0%|                                                                         | 627/1000000 [02:15<59:18:57,  4.68it/s]"
     ]
    },
    {
     "name": "stdout",
     "output_type": "stream",
     "text": [
      "New best strategy at iteration  627  :  [ 145.  222.  701.   50. 1039.  998.    0.    0.    0.    0.    0.    0.\n",
      "    0.    0.] Expected Profit: 1541451.54947\n",
      "New best strategy at iteration  627  :  [ 146.  221.  701.   50. 1039.  998.    0.    0.    0.    0.    0.    0.\n",
      "    0.    0.] Expected Profit: 1541453.0254699998\n",
      "New best strategy at iteration  627  :  [ 146.  222.  700.   50. 1039.  998.    0.    0.    0.    0.    0.    0.\n",
      "    0.    0.] Expected Profit: 1541454.9444699998\n",
      "New best strategy at iteration  627  :  [ 146.  222.  701.   49. 1039.  998.    0.    0.    0.    0.    0.    0.\n",
      "    0.    0.] Expected Profit: 1541457.3429699999\n",
      "New best strategy at iteration  627  :  [ 146.  222.  701.   50. 1038.  998.    0.    0.    0.    0.    0.    0.\n",
      "    0.    0.] Expected Profit: 1541460.15667\n",
      "New best strategy at iteration  627  :  [ 146.  222.  701.   50. 1039.  997.    0.    0.    0.    0.    0.    0.\n",
      "    0.    0.] Expected Profit: 1541463.39297\n"
     ]
    },
    {
     "name": "stderr",
     "output_type": "stream",
     "text": [
      "\r",
      "  0%|                                                                         | 628/1000000 [02:15<59:14:50,  4.69it/s]"
     ]
    },
    {
     "name": "stdout",
     "output_type": "stream",
     "text": [
      "New best strategy at iteration  628  :  [ 145.  222.  701.   50. 1039.  997.    0.    0.    0.    0.    0.    0.\n",
      "    0.    0.] Expected Profit: 1541466.31727\n",
      "New best strategy at iteration  628  :  [ 146.  221.  701.   50. 1039.  997.    0.    0.    0.    0.    0.    0.\n",
      "    0.    0.] Expected Profit: 1541467.79327\n",
      "New best strategy at iteration  628  :  [ 146.  222.  700.   50. 1039.  997.    0.    0.    0.    0.    0.    0.\n",
      "    0.    0.] Expected Profit: 1541469.71227\n",
      "New best strategy at iteration  628  :  [ 146.  222.  701.   49. 1039.  997.    0.    0.    0.    0.    0.    0.\n",
      "    0.    0.] Expected Profit: 1541472.11077\n",
      "New best strategy at iteration  628  :  [ 146.  222.  701.   50. 1038.  997.    0.    0.    0.    0.    0.    0.\n",
      "    0.    0.] Expected Profit: 1541474.92447\n",
      "New best strategy at iteration  628  :  [ 146.  222.  701.   50. 1039.  996.    0.    0.    0.    0.    0.    0.\n",
      "    0.    0.] Expected Profit: 1541478.16077\n"
     ]
    },
    {
     "name": "stderr",
     "output_type": "stream",
     "text": [
      "  0%|                                                                         | 630/1000000 [02:15<60:06:59,  4.62it/s]"
     ]
    },
    {
     "name": "stdout",
     "output_type": "stream",
     "text": [
      "New best strategy at iteration  629  :  [ 145.  222.  701.   50. 1039.  996.    0.    0.    0.    0.    0.    0.\n",
      "    0.    0.] Expected Profit: 1541481.0850700003\n",
      "New best strategy at iteration  629  :  [ 146.  221.  701.   50. 1039.  996.    0.    0.    0.    0.    0.    0.\n",
      "    0.    0.] Expected Profit: 1541482.5610699998\n",
      "New best strategy at iteration  629  :  [ 146.  222.  700.   50. 1039.  996.    0.    0.    0.    0.    0.    0.\n",
      "    0.    0.] Expected Profit: 1541484.4800700003\n",
      "New best strategy at iteration  629  :  [ 146.  222.  701.   49. 1039.  996.    0.    0.    0.    0.    0.    0.\n",
      "    0.    0.] Expected Profit: 1541486.87857\n",
      "New best strategy at iteration  629  :  [ 146.  222.  701.   50. 1038.  996.    0.    0.    0.    0.    0.    0.\n",
      "    0.    0.] Expected Profit: 1541489.69227\n",
      "New best strategy at iteration  629  :  [ 146.  222.  701.   50. 1039.  995.    0.    0.    0.    0.    0.    0.\n",
      "    0.    0.] Expected Profit: 1541492.92857\n",
      "New best strategy at iteration  630  :  [ 145.  222.  701.   50. 1039.  995.    0.    0.    0.    0.    0.    0.\n",
      "    0.    0.] Expected Profit: 1541495.8528699998\n",
      "New best strategy at iteration  630  :  [ 146.  221.  701.   50. 1039.  995.    0.    0.    0.    0.    0.    0.\n",
      "    0.    0.] Expected Profit: 1541497.3288699999\n",
      "New best strategy at iteration  630  :  [ 146.  222.  700.   50. 1039.  995.    0.    0.    0.    0.    0.    0.\n",
      "    0.    0.] Expected Profit: 1541499.24787\n",
      "New best strategy at iteration  630  :  [ 146.  222.  701.   49. 1039.  995.    0.    0.    0.    0.    0.    0.\n",
      "    0.    0.] Expected Profit: 1541501.64637\n",
      "New best strategy at iteration  630  :  [ 146.  222.  701.   50. 1038.  995.    0.    0.    0.    0.    0.    0.\n",
      "    0.    0.] Expected Profit: 1541504.4600699998\n",
      "New best strategy at iteration  630  :  [ 146.  222.  701.   50. 1039.  994.    0.    0.    0.    0.    0.    0.\n",
      "    0.    0.] Expected Profit: 1541507.6963699998\n"
     ]
    },
    {
     "name": "stderr",
     "output_type": "stream",
     "text": [
      "\r",
      "  0%|                                                                         | 631/1000000 [02:15<60:32:34,  4.59it/s]"
     ]
    },
    {
     "name": "stdout",
     "output_type": "stream",
     "text": [
      "New best strategy at iteration  631  :  [ 145.  222.  701.   50. 1039.  994.    0.    0.    0.    0.    0.    0.\n",
      "    0.    0.] Expected Profit: 1541510.6206699999\n",
      "New best strategy at iteration  631  :  [ 146.  221.  701.   50. 1039.  994.    0.    0.    0.    0.    0.    0.\n",
      "    0.    0.] Expected Profit: 1541512.09667\n",
      "New best strategy at iteration  631  :  [ 146.  222.  700.   50. 1039.  994.    0.    0.    0.    0.    0.    0.\n",
      "    0.    0.] Expected Profit: 1541514.01567\n",
      "New best strategy at iteration  631  :  [ 146.  222.  701.   49. 1039.  994.    0.    0.    0.    0.    0.    0.\n",
      "    0.    0.] Expected Profit: 1541516.4141699998\n",
      "New best strategy at iteration  631  :  [ 146.  222.  701.   50. 1038.  994.    0.    0.    0.    0.    0.    0.\n",
      "    0.    0.] Expected Profit: 1541519.2278699998\n",
      "New best strategy at iteration  631  :  [ 146.  222.  701.   50. 1039.  993.    0.    0.    0.    0.    0.    0.\n",
      "    0.    0.] Expected Profit: 1541522.46417\n"
     ]
    },
    {
     "name": "stderr",
     "output_type": "stream",
     "text": [
      "\r",
      "  0%|                                                                         | 632/1000000 [02:16<61:23:12,  4.52it/s]"
     ]
    },
    {
     "name": "stdout",
     "output_type": "stream",
     "text": [
      "New best strategy at iteration  632  :  [ 145.  222.  701.   50. 1039.  993.    0.    0.    0.    0.    0.    0.\n",
      "    0.    0.] Expected Profit: 1541525.3884700004\n",
      "New best strategy at iteration  632  :  [ 146.  221.  701.   50. 1039.  993.    0.    0.    0.    0.    0.    0.\n",
      "    0.    0.] Expected Profit: 1541526.86447\n",
      "New best strategy at iteration  632  :  [ 146.  222.  700.   50. 1039.  993.    0.    0.    0.    0.    0.    0.\n",
      "    0.    0.] Expected Profit: 1541528.7834700004\n",
      "New best strategy at iteration  632  :  [ 146.  222.  701.   49. 1039.  993.    0.    0.    0.    0.    0.    0.\n",
      "    0.    0.] Expected Profit: 1541531.18197\n",
      "New best strategy at iteration  632  :  [ 146.  222.  701.   50. 1038.  993.    0.    0.    0.    0.    0.    0.\n",
      "    0.    0.] Expected Profit: 1541533.99567\n",
      "New best strategy at iteration  632  :  [ 146.  222.  701.   50. 1039.  992.    0.    0.    0.    0.    0.    0.\n",
      "    0.    0.] Expected Profit: 1541537.23197\n"
     ]
    },
    {
     "name": "stderr",
     "output_type": "stream",
     "text": [
      "  0%|                                                                         | 634/1000000 [02:16<63:33:44,  4.37it/s]"
     ]
    },
    {
     "name": "stdout",
     "output_type": "stream",
     "text": [
      "New best strategy at iteration  633  :  [ 145.  222.  701.   50. 1039.  992.    0.    0.    0.    0.    0.    0.\n",
      "    0.    0.] Expected Profit: 1541540.15627\n",
      "New best strategy at iteration  633  :  [ 146.  221.  701.   50. 1039.  992.    0.    0.    0.    0.    0.    0.\n",
      "    0.    0.] Expected Profit: 1541541.63227\n",
      "New best strategy at iteration  633  :  [ 146.  222.  700.   50. 1039.  992.    0.    0.    0.    0.    0.    0.\n",
      "    0.    0.] Expected Profit: 1541543.5512700002\n",
      "New best strategy at iteration  633  :  [ 146.  222.  701.   49. 1039.  992.    0.    0.    0.    0.    0.    0.\n",
      "    0.    0.] Expected Profit: 1541545.94977\n",
      "New best strategy at iteration  633  :  [ 146.  222.  701.   50. 1038.  992.    0.    0.    0.    0.    0.    0.\n",
      "    0.    0.] Expected Profit: 1541548.7634700001\n",
      "New best strategy at iteration  633  :  [ 146.  222.  701.   50. 1039.  991.    0.    0.    0.    0.    0.    0.\n",
      "    0.    0.] Expected Profit: 1541551.9997699999\n"
     ]
    },
    {
     "name": "stderr",
     "output_type": "stream",
     "text": [
      "\r",
      "  0%|                                                                         | 635/1000000 [02:16<62:46:14,  4.42it/s]"
     ]
    },
    {
     "name": "stdout",
     "output_type": "stream",
     "text": [
      "New best strategy at iteration  634  :  [ 145.  222.  701.   50. 1039.  991.    0.    0.    0.    0.    0.    0.\n",
      "    0.    0.] Expected Profit: 1541554.9240700002\n",
      "New best strategy at iteration  634  :  [ 146.  221.  701.   50. 1039.  991.    0.    0.    0.    0.    0.    0.\n",
      "    0.    0.] Expected Profit: 1541556.40007\n",
      "New best strategy at iteration  634  :  [ 146.  222.  700.   50. 1039.  991.    0.    0.    0.    0.    0.    0.\n",
      "    0.    0.] Expected Profit: 1541558.3190700002\n",
      "New best strategy at iteration  634  :  [ 146.  222.  701.   49. 1039.  991.    0.    0.    0.    0.    0.    0.\n",
      "    0.    0.] Expected Profit: 1541560.7175699999\n",
      "New best strategy at iteration  634  :  [ 146.  222.  701.   50. 1038.  991.    0.    0.    0.    0.    0.    0.\n",
      "    0.    0.] Expected Profit: 1541563.53127\n",
      "New best strategy at iteration  634  :  [ 146.  222.  701.   50. 1039.  990.    0.    0.    0.    0.    0.    0.\n",
      "    0.    0.] Expected Profit: 1541566.76757\n",
      "New best strategy at iteration  635  :  [ 145.  222.  701.   50. 1039.  990.    0.    0.    0.    0.    0.    0.\n",
      "    0.    0.] Expected Profit: 1541569.69187\n",
      "New best strategy at iteration  635  :  [ 146.  221.  701.   50. 1039.  990.    0.    0.    0.    0.    0.    0.\n",
      "    0.    0.] Expected Profit: 1541571.1678699998\n",
      "New best strategy at iteration  635  :  [ 146.  222.  700.   50. 1039.  990.    0.    0.    0.    0.    0.    0.\n",
      "    0.    0.] Expected Profit: 1541573.08687\n",
      "New best strategy at iteration  635  :  [ 146.  222.  701.   49. 1039.  990.    0.    0.    0.    0.    0.    0.\n",
      "    0.    0.] Expected Profit: 1541575.48537\n",
      "New best strategy at iteration  635  :  [ 146.  222.  701.   50. 1038.  990.    0.    0.    0.    0.    0.    0.\n",
      "    0.    0.] Expected Profit: 1541578.2990699997\n",
      "New best strategy at iteration  635  :  [ 146.  222.  701.   50. 1039.  989.    0.    0.    0.    0.    0.    0.\n",
      "    0.    0.] Expected Profit: 1541581.53537\n"
     ]
    },
    {
     "name": "stderr",
     "output_type": "stream",
     "text": [
      "\r",
      "  0%|                                                                         | 636/1000000 [02:17<65:12:26,  4.26it/s]"
     ]
    },
    {
     "name": "stdout",
     "output_type": "stream",
     "text": [
      "New best strategy at iteration  636  :  [ 145.  222.  701.   50. 1039.  989.    0.    0.    0.    0.    0.    0.\n",
      "    0.    0.] Expected Profit: 1541584.45967\n",
      "New best strategy at iteration  636  :  [ 146.  221.  701.   50. 1039.  989.    0.    0.    0.    0.    0.    0.\n",
      "    0.    0.] Expected Profit: 1541585.93567\n",
      "New best strategy at iteration  636  :  [ 146.  222.  700.   50. 1039.  989.    0.    0.    0.    0.    0.    0.\n",
      "    0.    0.] Expected Profit: 1541587.85467\n",
      "New best strategy at iteration  636  :  [ 146.  222.  701.   49. 1039.  989.    0.    0.    0.    0.    0.    0.\n",
      "    0.    0.] Expected Profit: 1541590.2531700002\n",
      "New best strategy at iteration  636  :  [ 146.  222.  701.   50. 1038.  989.    0.    0.    0.    0.    0.    0.\n",
      "    0.    0.] Expected Profit: 1541593.06687\n",
      "New best strategy at iteration  636  :  [ 146.  222.  701.   50. 1039.  988.    0.    0.    0.    0.    0.    0.\n",
      "    0.    0.] Expected Profit: 1541596.30317\n"
     ]
    },
    {
     "name": "stderr",
     "output_type": "stream",
     "text": [
      "\r",
      "  0%|                                                                         | 637/1000000 [02:17<63:22:13,  4.38it/s]"
     ]
    },
    {
     "name": "stdout",
     "output_type": "stream",
     "text": [
      "New best strategy at iteration  637  :  [ 145.  222.  701.   50. 1039.  988.    0.    0.    0.    0.    0.    0.\n",
      "    0.    0.] Expected Profit: 1541599.2274699998\n",
      "New best strategy at iteration  637  :  [ 146.  221.  701.   50. 1039.  988.    0.    0.    0.    0.    0.    0.\n",
      "    0.    0.] Expected Profit: 1541600.70347\n",
      "New best strategy at iteration  637  :  [ 146.  222.  700.   50. 1039.  988.    0.    0.    0.    0.    0.    0.\n",
      "    0.    0.] Expected Profit: 1541602.62247\n",
      "New best strategy at iteration  637  :  [ 146.  222.  701.   49. 1039.  988.    0.    0.    0.    0.    0.    0.\n",
      "    0.    0.] Expected Profit: 1541605.0209699997\n",
      "New best strategy at iteration  637  :  [ 146.  222.  701.   50. 1038.  988.    0.    0.    0.    0.    0.    0.\n",
      "    0.    0.] Expected Profit: 1541607.83467\n",
      "New best strategy at iteration  637  :  [ 146.  222.  701.   50. 1039.  987.    0.    0.    0.    0.    0.    0.\n",
      "    0.    0.] Expected Profit: 1541611.07097\n"
     ]
    },
    {
     "name": "stderr",
     "output_type": "stream",
     "text": [
      "  0%|                                                                         | 639/1000000 [02:17<62:18:46,  4.45it/s]"
     ]
    },
    {
     "name": "stdout",
     "output_type": "stream",
     "text": [
      "New best strategy at iteration  638  :  [ 145.  222.  701.   50. 1039.  987.    0.    0.    0.    0.    0.    0.\n",
      "    0.    0.] Expected Profit: 1541613.99527\n",
      "New best strategy at iteration  638  :  [ 146.  221.  701.   50. 1039.  987.    0.    0.    0.    0.    0.    0.\n",
      "    0.    0.] Expected Profit: 1541615.47127\n",
      "New best strategy at iteration  638  :  [ 146.  222.  700.   50. 1039.  987.    0.    0.    0.    0.    0.    0.\n",
      "    0.    0.] Expected Profit: 1541617.39027\n",
      "New best strategy at iteration  638  :  [ 146.  222.  701.   49. 1039.  987.    0.    0.    0.    0.    0.    0.\n",
      "    0.    0.] Expected Profit: 1541619.7887699998\n",
      "New best strategy at iteration  638  :  [ 146.  222.  701.   50. 1038.  987.    0.    0.    0.    0.    0.    0.\n",
      "    0.    0.] Expected Profit: 1541622.60247\n",
      "New best strategy at iteration  638  :  [ 146.  222.  701.   50. 1039.  986.    0.    0.    0.    0.    0.    0.\n",
      "    0.    0.] Expected Profit: 1541625.83877\n",
      "New best strategy at iteration  639  :  [ 145.  222.  701.   50. 1039.  986.    0.    0.    0.    0.    0.    0.\n",
      "    0.    0.] Expected Profit: 1541628.76307\n",
      "New best strategy at iteration  639  :  [ 146.  221.  701.   50. 1039.  986.    0.    0.    0.    0.    0.    0.\n",
      "    0.    0.] Expected Profit: 1541630.2390700001\n",
      "New best strategy at iteration  639  :  [ 146.  222.  700.   50. 1039.  986.    0.    0.    0.    0.    0.    0.\n",
      "    0.    0.] Expected Profit: 1541632.1580700001\n",
      "New best strategy at iteration  639  :  [ 146.  222.  701.   49. 1039.  986.    0.    0.    0.    0.    0.    0.\n",
      "    0.    0.] Expected Profit: 1541634.55657\n",
      "New best strategy at iteration  639  :  [ 146.  222.  701.   50. 1038.  986.    0.    0.    0.    0.    0.    0.\n",
      "    0.    0.] Expected Profit: 1541637.37027\n",
      "New best strategy at iteration  639  :  [ 146.  222.  701.   50. 1039.  985.    0.    0.    0.    0.    0.    0.\n",
      "    0.    0.] Expected Profit: 1541640.60657\n"
     ]
    },
    {
     "name": "stderr",
     "output_type": "stream",
     "text": [
      "  0%|                                                                         | 641/1000000 [02:18<61:19:33,  4.53it/s]"
     ]
    },
    {
     "name": "stdout",
     "output_type": "stream",
     "text": [
      "New best strategy at iteration  640  :  [ 145.  222.  701.   50. 1039.  985.    0.    0.    0.    0.    0.    0.\n",
      "    0.    0.] Expected Profit: 1541643.53087\n",
      "New best strategy at iteration  640  :  [ 146.  221.  701.   50. 1039.  985.    0.    0.    0.    0.    0.    0.\n",
      "    0.    0.] Expected Profit: 1541645.0068700002\n",
      "New best strategy at iteration  640  :  [ 146.  222.  700.   50. 1039.  985.    0.    0.    0.    0.    0.    0.\n",
      "    0.    0.] Expected Profit: 1541646.92587\n",
      "New best strategy at iteration  640  :  [ 146.  222.  701.   49. 1039.  985.    0.    0.    0.    0.    0.    0.\n",
      "    0.    0.] Expected Profit: 1541649.3243699998\n",
      "New best strategy at iteration  640  :  [ 146.  222.  701.   50. 1038.  985.    0.    0.    0.    0.    0.    0.\n",
      "    0.    0.] Expected Profit: 1541652.1380699999\n",
      "New best strategy at iteration  640  :  [ 146.  222.  701.   50. 1039.  984.    0.    0.    0.    0.    0.    0.\n",
      "    0.    0.] Expected Profit: 1541655.3743699999\n"
     ]
    },
    {
     "name": "stderr",
     "output_type": "stream",
     "text": [
      "\r",
      "  0%|                                                                         | 642/1000000 [02:18<60:45:00,  4.57it/s]"
     ]
    },
    {
     "name": "stdout",
     "output_type": "stream",
     "text": [
      "New best strategy at iteration  641  :  [ 145.  222.  701.   50. 1039.  984.    0.    0.    0.    0.    0.    0.\n",
      "    0.    0.] Expected Profit: 1541658.2986700002\n",
      "New best strategy at iteration  641  :  [ 146.  221.  701.   50. 1039.  984.    0.    0.    0.    0.    0.    0.\n",
      "    0.    0.] Expected Profit: 1541659.7746700002\n",
      "New best strategy at iteration  641  :  [ 146.  222.  700.   50. 1039.  984.    0.    0.    0.    0.    0.    0.\n",
      "    0.    0.] Expected Profit: 1541661.6936700002\n",
      "New best strategy at iteration  641  :  [ 146.  222.  701.   49. 1039.  984.    0.    0.    0.    0.    0.    0.\n",
      "    0.    0.] Expected Profit: 1541664.0921699998\n",
      "New best strategy at iteration  641  :  [ 146.  222.  701.   50. 1038.  984.    0.    0.    0.    0.    0.    0.\n",
      "    0.    0.] Expected Profit: 1541666.90587\n",
      "New best strategy at iteration  641  :  [ 146.  222.  701.   50. 1039.  983.    0.    0.    0.    0.    0.    0.\n",
      "    0.    0.] Expected Profit: 1541670.1421700001\n",
      "New best strategy at iteration  642  :  [ 145.  222.  701.   50. 1039.  983.    0.    0.    0.    0.    0.    0.\n",
      "    0.    0.] Expected Profit: 1541673.0664700002\n",
      "New best strategy at iteration  642  :  [ 146.  221.  701.   50. 1039.  983.    0.    0.    0.    0.    0.    0.\n",
      "    0.    0.] Expected Profit: 1541674.5424700002\n",
      "New best strategy at iteration  642  :  [ 146.  222.  700.   50. 1039.  983.    0.    0.    0.    0.    0.    0.\n",
      "    0.    0.] Expected Profit: 1541676.4614700002\n",
      "New best strategy at iteration  642  :  [ 146.  222.  701.   49. 1039.  983.    0.    0.    0.    0.    0.    0.\n",
      "    0.    0.] Expected Profit: 1541678.8599699999\n",
      "New best strategy at iteration  642  :  [ 146.  222.  701.   50. 1038.  983.    0.    0.    0.    0.    0.    0.\n",
      "    0.    0.] Expected Profit: 1541681.6736700002\n",
      "New best strategy at iteration  642  :  [ 146.  222.  701.   50. 1039.  982.    0.    0.    0.    0.    0.    0.\n",
      "    0.    0.] Expected Profit: 1541684.90997\n"
     ]
    },
    {
     "name": "stderr",
     "output_type": "stream",
     "text": [
      "  0%|                                                                         | 644/1000000 [02:18<60:19:51,  4.60it/s]"
     ]
    },
    {
     "name": "stdout",
     "output_type": "stream",
     "text": [
      "New best strategy at iteration  643  :  [ 145.  222.  701.   50. 1039.  982.    0.    0.    0.    0.    0.    0.\n",
      "    0.    0.] Expected Profit: 1541687.83427\n",
      "New best strategy at iteration  643  :  [ 146.  221.  701.   50. 1039.  982.    0.    0.    0.    0.    0.    0.\n",
      "    0.    0.] Expected Profit: 1541689.31027\n",
      "New best strategy at iteration  643  :  [ 146.  222.  700.   50. 1039.  982.    0.    0.    0.    0.    0.    0.\n",
      "    0.    0.] Expected Profit: 1541691.22927\n",
      "New best strategy at iteration  643  :  [ 146.  222.  701.   49. 1039.  982.    0.    0.    0.    0.    0.    0.\n",
      "    0.    0.] Expected Profit: 1541693.62777\n",
      "New best strategy at iteration  643  :  [ 146.  222.  701.   50. 1038.  982.    0.    0.    0.    0.    0.    0.\n",
      "    0.    0.] Expected Profit: 1541696.44147\n",
      "New best strategy at iteration  643  :  [ 146.  222.  701.   50. 1039.  981.    0.    0.    0.    0.    0.    0.\n",
      "    0.    0.] Expected Profit: 1541699.67777\n",
      "New best strategy at iteration  644  :  [ 145.  222.  701.   50. 1039.  981.    0.    0.    0.    0.    0.    0.\n",
      "    0.    0.] Expected Profit: 1541702.6020700003\n",
      "New best strategy at iteration  644  :  [ 146.  221.  701.   50. 1039.  981.    0.    0.    0.    0.    0.    0.\n",
      "    0.    0.] Expected Profit: 1541704.07807\n",
      "New best strategy at iteration  644  :  [ 146.  222.  700.   50. 1039.  981.    0.    0.    0.    0.    0.    0.\n",
      "    0.    0.] Expected Profit: 1541705.9970700003\n",
      "New best strategy at iteration  644  :  [ 146.  222.  701.   49. 1039.  981.    0.    0.    0.    0.    0.    0.\n",
      "    0.    0.] Expected Profit: 1541708.39557\n",
      "New best strategy at iteration  644  :  [ 146.  222.  701.   50. 1038.  981.    0.    0.    0.    0.    0.    0.\n",
      "    0.    0.] Expected Profit: 1541711.20927\n",
      "New best strategy at iteration  644  :  [ 146.  222.  701.   50. 1039.  980.    0.    0.    0.    0.    0.    0.\n",
      "    0.    0.] Expected Profit: 1541714.4455700002\n"
     ]
    },
    {
     "name": "stderr",
     "output_type": "stream",
     "text": [
      "  0%|                                                                         | 646/1000000 [02:19<63:15:47,  4.39it/s]"
     ]
    },
    {
     "name": "stdout",
     "output_type": "stream",
     "text": [
      "New best strategy at iteration  645  :  [ 145.  222.  701.   50. 1039.  980.    0.    0.    0.    0.    0.    0.\n",
      "    0.    0.] Expected Profit: 1541717.3698699998\n",
      "New best strategy at iteration  645  :  [ 146.  221.  701.   50. 1039.  980.    0.    0.    0.    0.    0.    0.\n",
      "    0.    0.] Expected Profit: 1541718.8458699998\n",
      "New best strategy at iteration  645  :  [ 146.  222.  700.   50. 1039.  980.    0.    0.    0.    0.    0.    0.\n",
      "    0.    0.] Expected Profit: 1541720.7648699998\n",
      "New best strategy at iteration  645  :  [ 146.  222.  701.   49. 1039.  980.    0.    0.    0.    0.    0.    0.\n",
      "    0.    0.] Expected Profit: 1541723.16337\n",
      "New best strategy at iteration  645  :  [ 146.  222.  701.   50. 1038.  980.    0.    0.    0.    0.    0.    0.\n",
      "    0.    0.] Expected Profit: 1541725.9770699998\n",
      "New best strategy at iteration  645  :  [ 146.  222.  701.   50. 1039.  979.    0.    0.    0.    0.    0.    0.\n",
      "    0.    0.] Expected Profit: 1541729.21337\n",
      "New best strategy at iteration  646  :  [ 145.  222.  701.   50. 1039.  979.    0.    0.    0.    0.    0.    0.\n",
      "    0.    0.] Expected Profit: 1541732.13767\n",
      "New best strategy at iteration  646  :  [ 146.  221.  701.   50. 1039.  979.    0.    0.    0.    0.    0.    0.\n",
      "    0.    0.] Expected Profit: 1541733.61367\n",
      "New best strategy at iteration  646  :  [ 146.  222.  700.   50. 1039.  979.    0.    0.    0.    0.    0.    0.\n",
      "    0.    0.] Expected Profit: 1541735.53267\n",
      "New best strategy at iteration  646  :  [ 146.  222.  701.   49. 1039.  979.    0.    0.    0.    0.    0.    0.\n",
      "    0.    0.] Expected Profit: 1541737.93117\n",
      "New best strategy at iteration  646  :  [ 146.  222.  701.   50. 1038.  979.    0.    0.    0.    0.    0.    0.\n",
      "    0.    0.] Expected Profit: 1541740.7448699998\n",
      "New best strategy at iteration  646  :  [ 146.  222.  701.   50. 1039.  978.    0.    0.    0.    0.    0.    0.\n",
      "    0.    0.] Expected Profit: 1541743.98117\n"
     ]
    },
    {
     "name": "stderr",
     "output_type": "stream",
     "text": [
      "  0%|                                                                         | 648/1000000 [02:19<63:33:55,  4.37it/s]"
     ]
    },
    {
     "name": "stdout",
     "output_type": "stream",
     "text": [
      "New best strategy at iteration  647  :  [ 145.  222.  701.   50. 1039.  978.    0.    0.    0.    0.    0.    0.\n",
      "    0.    0.] Expected Profit: 1541746.9054699999\n",
      "New best strategy at iteration  647  :  [ 146.  221.  701.   50. 1039.  978.    0.    0.    0.    0.    0.    0.\n",
      "    0.    0.] Expected Profit: 1541748.3814700001\n",
      "New best strategy at iteration  647  :  [ 146.  222.  700.   50. 1039.  978.    0.    0.    0.    0.    0.    0.\n",
      "    0.    0.] Expected Profit: 1541750.3004700004\n",
      "New best strategy at iteration  647  :  [ 146.  222.  701.   49. 1039.  978.    0.    0.    0.    0.    0.    0.\n",
      "    0.    0.] Expected Profit: 1541752.6989699998\n",
      "New best strategy at iteration  647  :  [ 146.  222.  701.   50. 1038.  978.    0.    0.    0.    0.    0.    0.\n",
      "    0.    0.] Expected Profit: 1541755.5126699999\n",
      "New best strategy at iteration  647  :  [ 146.  222.  701.   50. 1039.  977.    0.    0.    0.    0.    0.    0.\n",
      "    0.    0.] Expected Profit: 1541758.74897\n",
      "New best strategy at iteration  648  :  [ 145.  222.  701.   50. 1039.  977.    0.    0.    0.    0.    0.    0.\n",
      "    0.    0.] Expected Profit: 1541761.67327\n"
     ]
    },
    {
     "name": "stderr",
     "output_type": "stream",
     "text": [
      "\r",
      "  0%|                                                                         | 649/1000000 [02:19<62:33:11,  4.44it/s]"
     ]
    },
    {
     "name": "stdout",
     "output_type": "stream",
     "text": [
      "New best strategy at iteration  648  :  [ 146.  221.  701.   50. 1039.  977.    0.    0.    0.    0.    0.    0.\n",
      "    0.    0.] Expected Profit: 1541763.14927\n",
      "New best strategy at iteration  648  :  [ 146.  222.  700.   50. 1039.  977.    0.    0.    0.    0.    0.    0.\n",
      "    0.    0.] Expected Profit: 1541765.06827\n",
      "New best strategy at iteration  648  :  [ 146.  222.  701.   49. 1039.  977.    0.    0.    0.    0.    0.    0.\n",
      "    0.    0.] Expected Profit: 1541767.46677\n",
      "New best strategy at iteration  648  :  [ 146.  222.  701.   50. 1038.  977.    0.    0.    0.    0.    0.    0.\n",
      "    0.    0.] Expected Profit: 1541770.2804699999\n",
      "New best strategy at iteration  648  :  [ 146.  222.  701.   50. 1039.  976.    0.    0.    0.    0.    0.    0.\n",
      "    0.    0.] Expected Profit: 1541773.5167699999\n",
      "New best strategy at iteration  649  :  [ 145.  222.  701.   50. 1039.  976.    0.    0.    0.    0.    0.    0.\n",
      "    0.    0.] Expected Profit: 1541776.44107\n",
      "New best strategy at iteration  649  :  [ 146.  221.  701.   50. 1039.  976.    0.    0.    0.    0.    0.    0.\n",
      "    0.    0.] Expected Profit: 1541777.91707\n",
      "New best strategy at iteration  649  :  [ 146.  222.  700.   50. 1039.  976.    0.    0.    0.    0.    0.    0.\n",
      "    0.    0.] Expected Profit: 1541779.83607\n",
      "New best strategy at iteration  649  :  [ 146.  222.  701.   49. 1039.  976.    0.    0.    0.    0.    0.    0.\n",
      "    0.    0.] Expected Profit: 1541782.2345699999\n",
      "New best strategy at iteration  649  :  [ 146.  222.  701.   50. 1038.  976.    0.    0.    0.    0.    0.    0.\n",
      "    0.    0.] Expected Profit: 1541785.04827\n",
      "New best strategy at iteration  649  :  [ 146.  222.  701.   50. 1039.  975.    0.    0.    0.    0.    0.    0.\n",
      "    0.    0.] Expected Profit: 1541788.2845700001\n"
     ]
    },
    {
     "name": "stderr",
     "output_type": "stream",
     "text": [
      "\r",
      "  0%|                                                                         | 650/1000000 [02:20<62:32:14,  4.44it/s]"
     ]
    },
    {
     "name": "stdout",
     "output_type": "stream",
     "text": [
      "New best strategy at iteration  650  :  [ 145.  222.  701.   50. 1039.  975.    0.    0.    0.    0.    0.    0.\n",
      "    0.    0.] Expected Profit: 1541791.2088700002\n",
      "New best strategy at iteration  650  :  [ 146.  221.  701.   50. 1039.  975.    0.    0.    0.    0.    0.    0.\n",
      "    0.    0.] Expected Profit: 1541792.68487\n",
      "New best strategy at iteration  650  :  [ 146.  222.  700.   50. 1039.  975.    0.    0.    0.    0.    0.    0.\n",
      "    0.    0.] Expected Profit: 1541794.60387\n",
      "New best strategy at iteration  650  :  [ 146.  222.  701.   49. 1039.  975.    0.    0.    0.    0.    0.    0.\n",
      "    0.    0.] Expected Profit: 1541797.00237\n",
      "New best strategy at iteration  650  :  [ 146.  222.  701.   50. 1038.  975.    0.    0.    0.    0.    0.    0.\n",
      "    0.    0.] Expected Profit: 1541799.81607\n",
      "New best strategy at iteration  650  :  [ 146.  222.  701.   50. 1039.  974.    0.    0.    0.    0.    0.    0.\n",
      "    0.    0.] Expected Profit: 1541803.0523700002\n"
     ]
    },
    {
     "name": "stderr",
     "output_type": "stream",
     "text": [
      "  0%|                                                                         | 652/1000000 [02:20<61:48:17,  4.49it/s]"
     ]
    },
    {
     "name": "stdout",
     "output_type": "stream",
     "text": [
      "New best strategy at iteration  651  :  [ 145.  222.  701.   50. 1039.  974.    0.    0.    0.    0.    0.    0.\n",
      "    0.    0.] Expected Profit: 1541805.97667\n",
      "New best strategy at iteration  651  :  [ 146.  221.  701.   50. 1039.  974.    0.    0.    0.    0.    0.    0.\n",
      "    0.    0.] Expected Profit: 1541807.45267\n",
      "New best strategy at iteration  651  :  [ 146.  222.  700.   50. 1039.  974.    0.    0.    0.    0.    0.    0.\n",
      "    0.    0.] Expected Profit: 1541809.3716699998\n",
      "New best strategy at iteration  651  :  [ 146.  222.  701.   49. 1039.  974.    0.    0.    0.    0.    0.    0.\n",
      "    0.    0.] Expected Profit: 1541811.7701700001\n",
      "New best strategy at iteration  651  :  [ 146.  222.  701.   50. 1038.  974.    0.    0.    0.    0.    0.    0.\n",
      "    0.    0.] Expected Profit: 1541814.58387\n",
      "New best strategy at iteration  651  :  [ 146.  222.  701.   50. 1039.  973.    0.    0.    0.    0.    0.    0.\n",
      "    0.    0.] Expected Profit: 1541817.82017\n"
     ]
    },
    {
     "name": "stderr",
     "output_type": "stream",
     "text": [
      "\r",
      "  0%|                                                                         | 653/1000000 [02:20<61:13:54,  4.53it/s]"
     ]
    },
    {
     "name": "stdout",
     "output_type": "stream",
     "text": [
      "New best strategy at iteration  652  :  [ 145.  222.  701.   50. 1039.  973.    0.    0.    0.    0.    0.    0.\n",
      "    0.    0.] Expected Profit: 1541820.7444699998\n",
      "New best strategy at iteration  652  :  [ 146.  221.  701.   50. 1039.  973.    0.    0.    0.    0.    0.    0.\n",
      "    0.    0.] Expected Profit: 1541822.22047\n",
      "New best strategy at iteration  652  :  [ 146.  222.  700.   50. 1039.  973.    0.    0.    0.    0.    0.    0.\n",
      "    0.    0.] Expected Profit: 1541824.1394699998\n",
      "New best strategy at iteration  652  :  [ 146.  222.  701.   49. 1039.  973.    0.    0.    0.    0.    0.    0.\n",
      "    0.    0.] Expected Profit: 1541826.5379699997\n",
      "New best strategy at iteration  652  :  [ 146.  222.  701.   50. 1038.  973.    0.    0.    0.    0.    0.    0.\n",
      "    0.    0.] Expected Profit: 1541829.3516699995\n",
      "New best strategy at iteration  652  :  [ 146.  222.  701.   50. 1039.  972.    0.    0.    0.    0.    0.    0.\n",
      "    0.    0.] Expected Profit: 1541832.58797\n"
     ]
    },
    {
     "name": "stderr",
     "output_type": "stream",
     "text": [
      "\r",
      "  0%|                                                                         | 654/1000000 [02:21<61:07:21,  4.54it/s]"
     ]
    },
    {
     "name": "stdout",
     "output_type": "stream",
     "text": [
      "New best strategy at iteration  653  :  [ 145.  222.  701.   50. 1039.  972.    0.    0.    0.    0.    0.    0.\n",
      "    0.    0.] Expected Profit: 1541835.51227\n",
      "New best strategy at iteration  653  :  [ 146.  221.  701.   50. 1039.  972.    0.    0.    0.    0.    0.    0.\n",
      "    0.    0.] Expected Profit: 1541836.98827\n",
      "New best strategy at iteration  653  :  [ 146.  222.  700.   50. 1039.  972.    0.    0.    0.    0.    0.    0.\n",
      "    0.    0.] Expected Profit: 1541838.90727\n",
      "New best strategy at iteration  653  :  [ 146.  222.  701.   49. 1039.  972.    0.    0.    0.    0.    0.    0.\n",
      "    0.    0.] Expected Profit: 1541841.30577\n",
      "New best strategy at iteration  653  :  [ 146.  222.  701.   50. 1038.  972.    0.    0.    0.    0.    0.    0.\n",
      "    0.    0.] Expected Profit: 1541844.1194699998\n",
      "New best strategy at iteration  653  :  [ 146.  222.  701.   50. 1039.  971.    0.    0.    0.    0.    0.    0.\n",
      "    0.    0.] Expected Profit: 1541847.35577\n",
      "New best strategy at iteration  654  :  [ 145.  222.  701.   50. 1039.  971.    0.    0.    0.    0.    0.    0.\n",
      "    0.    0.] Expected Profit: 1541850.28007\n",
      "New best strategy at iteration  654  :  [ 146.  221.  701.   50. 1039.  971.    0.    0.    0.    0.    0.    0.\n",
      "    0.    0.] Expected Profit: 1541851.7560700001\n",
      "New best strategy at iteration  654  :  [ 146.  222.  700.   50. 1039.  971.    0.    0.    0.    0.    0.    0.\n",
      "    0.    0.] Expected Profit: 1541853.6750699999\n",
      "New best strategy at iteration  654  :  [ 146.  222.  701.   49. 1039.  971.    0.    0.    0.    0.    0.    0.\n",
      "    0.    0.] Expected Profit: 1541856.07357\n",
      "New best strategy at iteration  654  :  [ 146.  222.  701.   50. 1038.  971.    0.    0.    0.    0.    0.    0.\n",
      "    0.    0.] Expected Profit: 1541858.8872699998\n",
      "New best strategy at iteration  654  :  [ 146.  222.  701.   50. 1039.  970.    0.    0.    0.    0.    0.    0.\n",
      "    0.    0.] Expected Profit: 1541862.1235699998\n"
     ]
    },
    {
     "name": "stderr",
     "output_type": "stream",
     "text": [
      "\r",
      "  0%|                                                                         | 655/1000000 [02:21<65:20:37,  4.25it/s]"
     ]
    },
    {
     "name": "stdout",
     "output_type": "stream",
     "text": [
      "New best strategy at iteration  655  :  [ 145.  222.  701.   50. 1039.  970.    0.    0.    0.    0.    0.    0.\n",
      "    0.    0.] Expected Profit: 1541865.0478700001\n",
      "New best strategy at iteration  655  :  [ 146.  221.  701.   50. 1039.  970.    0.    0.    0.    0.    0.    0.\n",
      "    0.    0.] Expected Profit: 1541866.52387\n",
      "New best strategy at iteration  655  :  [ 146.  222.  700.   50. 1039.  970.    0.    0.    0.    0.    0.    0.\n",
      "    0.    0.] Expected Profit: 1541868.4428700001\n",
      "New best strategy at iteration  655  :  [ 146.  222.  701.   49. 1039.  970.    0.    0.    0.    0.    0.    0.\n",
      "    0.    0.] Expected Profit: 1541870.8413699998\n",
      "New best strategy at iteration  655  :  [ 146.  222.  701.   50. 1038.  970.    0.    0.    0.    0.    0.    0.\n",
      "    0.    0.] Expected Profit: 1541873.6550699999\n",
      "New best strategy at iteration  655  :  [ 146.  222.  701.   50. 1039.  969.    0.    0.    0.    0.    0.    0.\n",
      "    0.    0.] Expected Profit: 1541876.89137\n"
     ]
    },
    {
     "name": "stderr",
     "output_type": "stream",
     "text": [
      "  0%|                                                                         | 657/1000000 [02:21<60:52:14,  4.56it/s]"
     ]
    },
    {
     "name": "stdout",
     "output_type": "stream",
     "text": [
      "New best strategy at iteration  656  :  [ 145.  222.  701.   50. 1039.  969.    0.    0.    0.    0.    0.    0.\n",
      "    0.    0.] Expected Profit: 1541879.8156700002\n",
      "New best strategy at iteration  656  :  [ 146.  221.  701.   50. 1039.  969.    0.    0.    0.    0.    0.    0.\n",
      "    0.    0.] Expected Profit: 1541881.2916700002\n",
      "New best strategy at iteration  656  :  [ 146.  222.  700.   50. 1039.  969.    0.    0.    0.    0.    0.    0.\n",
      "    0.    0.] Expected Profit: 1541883.2106700002\n",
      "New best strategy at iteration  656  :  [ 146.  222.  701.   49. 1039.  969.    0.    0.    0.    0.    0.    0.\n",
      "    0.    0.] Expected Profit: 1541885.60917\n",
      "New best strategy at iteration  656  :  [ 146.  222.  701.   50. 1038.  969.    0.    0.    0.    0.    0.    0.\n",
      "    0.    0.] Expected Profit: 1541888.42287\n",
      "New best strategy at iteration  656  :  [ 146.  222.  701.   50. 1039.  968.    0.    0.    0.    0.    0.    0.\n",
      "    0.    0.] Expected Profit: 1541891.65917\n",
      "New best strategy at iteration  657  :  [ 145.  222.  701.   50. 1039.  968.    0.    0.    0.    0.    0.    0.\n",
      "    0.    0.] Expected Profit: 1541894.5834700002\n",
      "New best strategy at iteration  657  :  [ 146.  221.  701.   50. 1039.  968.    0.    0.    0.    0.    0.    0.\n",
      "    0.    0.] Expected Profit: 1541896.05947\n"
     ]
    },
    {
     "name": "stderr",
     "output_type": "stream",
     "text": [
      "\r",
      "  0%|                                                                         | 658/1000000 [02:21<59:53:40,  4.63it/s]"
     ]
    },
    {
     "name": "stdout",
     "output_type": "stream",
     "text": [
      "New best strategy at iteration  657  :  [ 146.  222.  700.   50. 1039.  968.    0.    0.    0.    0.    0.    0.\n",
      "    0.    0.] Expected Profit: 1541897.97847\n",
      "New best strategy at iteration  657  :  [ 146.  222.  701.   49. 1039.  968.    0.    0.    0.    0.    0.    0.\n",
      "    0.    0.] Expected Profit: 1541900.37697\n",
      "New best strategy at iteration  657  :  [ 146.  222.  701.   50. 1038.  968.    0.    0.    0.    0.    0.    0.\n",
      "    0.    0.] Expected Profit: 1541903.1906700002\n",
      "New best strategy at iteration  657  :  [ 146.  222.  701.   50. 1039.  967.    0.    0.    0.    0.    0.    0.\n",
      "    0.    0.] Expected Profit: 1541906.4269700004\n",
      "New best strategy at iteration  658  :  [ 145.  222.  701.   50. 1039.  967.    0.    0.    0.    0.    0.    0.\n",
      "    0.    0.] Expected Profit: 1541909.35127\n",
      "New best strategy at iteration  658  :  [ 146.  221.  701.   50. 1039.  967.    0.    0.    0.    0.    0.    0.\n",
      "    0.    0.] Expected Profit: 1541910.82727\n",
      "New best strategy at iteration  658  :  [ 146.  222.  700.   50. 1039.  967.    0.    0.    0.    0.    0.    0.\n",
      "    0.    0.] Expected Profit: 1541912.74627\n"
     ]
    },
    {
     "name": "stderr",
     "output_type": "stream",
     "text": [
      "\r",
      "  0%|                                                                         | 659/1000000 [02:22<59:09:07,  4.69it/s]"
     ]
    },
    {
     "name": "stdout",
     "output_type": "stream",
     "text": [
      "New best strategy at iteration  658  :  [ 146.  222.  701.   49. 1039.  967.    0.    0.    0.    0.    0.    0.\n",
      "    0.    0.] Expected Profit: 1541915.14477\n",
      "New best strategy at iteration  658  :  [ 146.  222.  701.   50. 1038.  967.    0.    0.    0.    0.    0.    0.\n",
      "    0.    0.] Expected Profit: 1541917.9584699997\n",
      "New best strategy at iteration  658  :  [ 146.  222.  701.   50. 1039.  966.    0.    0.    0.    0.    0.    0.\n",
      "    0.    0.] Expected Profit: 1541921.19477\n",
      "New best strategy at iteration  659  :  [ 145.  222.  701.   50. 1039.  966.    0.    0.    0.    0.    0.    0.\n",
      "    0.    0.] Expected Profit: 1541924.11907\n",
      "New best strategy at iteration  659  :  [ 146.  221.  701.   50. 1039.  966.    0.    0.    0.    0.    0.    0.\n",
      "    0.    0.] Expected Profit: 1541925.5950700003\n",
      "New best strategy at iteration  659  :  [ 146.  222.  700.   50. 1039.  966.    0.    0.    0.    0.    0.    0.\n",
      "    0.    0.] Expected Profit: 1541927.51407\n",
      "New best strategy at iteration  659  :  [ 146.  222.  701.   49. 1039.  966.    0.    0.    0.    0.    0.    0.\n",
      "    0.    0.] Expected Profit: 1541929.9125699997\n",
      "New best strategy at iteration  659  :  [ 146.  222.  701.   50. 1038.  966.    0.    0.    0.    0.    0.    0.\n",
      "    0.    0.] Expected Profit: 1541932.7262699998\n",
      "New best strategy at iteration  659  :  [ 146.  222.  701.   50. 1039.  965.    0.    0.    0.    0.    0.    0.\n",
      "    0.    0.] Expected Profit: 1541935.9625700002\n"
     ]
    },
    {
     "name": "stderr",
     "output_type": "stream",
     "text": [
      "  0%|                                                                         | 661/1000000 [02:22<57:42:37,  4.81it/s]"
     ]
    },
    {
     "name": "stdout",
     "output_type": "stream",
     "text": [
      "New best strategy at iteration  660  :  [ 145.  222.  701.   50. 1039.  965.    0.    0.    0.    0.    0.    0.\n",
      "    0.    0.] Expected Profit: 1541938.88687\n",
      "New best strategy at iteration  660  :  [ 146.  221.  701.   50. 1039.  965.    0.    0.    0.    0.    0.    0.\n",
      "    0.    0.] Expected Profit: 1541940.36287\n",
      "New best strategy at iteration  660  :  [ 146.  222.  700.   50. 1039.  965.    0.    0.    0.    0.    0.    0.\n",
      "    0.    0.] Expected Profit: 1541942.28187\n",
      "New best strategy at iteration  660  :  [ 146.  222.  701.   49. 1039.  965.    0.    0.    0.    0.    0.    0.\n",
      "    0.    0.] Expected Profit: 1541944.68037\n",
      "New best strategy at iteration  660  :  [ 146.  222.  701.   50. 1038.  965.    0.    0.    0.    0.    0.    0.\n",
      "    0.    0.] Expected Profit: 1541947.49407\n",
      "New best strategy at iteration  660  :  [ 146.  222.  701.   50. 1039.  964.    0.    0.    0.    0.    0.    0.\n",
      "    0.    0.] Expected Profit: 1541950.7303700002\n"
     ]
    },
    {
     "name": "stderr",
     "output_type": "stream",
     "text": [
      "\r",
      "  0%|                                                                         | 662/1000000 [02:22<57:13:41,  4.85it/s]"
     ]
    },
    {
     "name": "stdout",
     "output_type": "stream",
     "text": [
      "New best strategy at iteration  661  :  [ 145.  222.  701.   50. 1039.  964.    0.    0.    0.    0.    0.    0.\n",
      "    0.    0.] Expected Profit: 1541953.65467\n",
      "New best strategy at iteration  661  :  [ 146.  221.  701.   50. 1039.  964.    0.    0.    0.    0.    0.    0.\n",
      "    0.    0.] Expected Profit: 1541955.13067\n",
      "New best strategy at iteration  661  :  [ 146.  222.  700.   50. 1039.  964.    0.    0.    0.    0.    0.    0.\n",
      "    0.    0.] Expected Profit: 1541957.04967\n",
      "New best strategy at iteration  661  :  [ 146.  222.  701.   49. 1039.  964.    0.    0.    0.    0.    0.    0.\n",
      "    0.    0.] Expected Profit: 1541959.44817\n",
      "New best strategy at iteration  661  :  [ 146.  222.  701.   50. 1038.  964.    0.    0.    0.    0.    0.    0.\n",
      "    0.    0.] Expected Profit: 1541962.2618699998\n",
      "New best strategy at iteration  661  :  [ 146.  222.  701.   50. 1039.  963.    0.    0.    0.    0.    0.    0.\n",
      "    0.    0.] Expected Profit: 1541965.49817\n",
      "New best strategy at iteration  662  :  [ 145.  222.  701.   50. 1039.  963.    0.    0.    0.    0.    0.    0.\n",
      "    0.    0.] Expected Profit: 1541968.42247\n",
      "New best strategy at iteration  662  :  [ 146.  221.  701.   50. 1039.  963.    0.    0.    0.    0.    0.    0.\n",
      "    0.    0.] Expected Profit: 1541969.8984700001\n"
     ]
    },
    {
     "name": "stderr",
     "output_type": "stream",
     "text": [
      "\r",
      "  0%|                                                                         | 663/1000000 [02:23<56:56:57,  4.87it/s]"
     ]
    },
    {
     "name": "stdout",
     "output_type": "stream",
     "text": [
      "New best strategy at iteration  662  :  [ 146.  222.  700.   50. 1039.  963.    0.    0.    0.    0.    0.    0.\n",
      "    0.    0.] Expected Profit: 1541971.81747\n",
      "New best strategy at iteration  662  :  [ 146.  222.  701.   49. 1039.  963.    0.    0.    0.    0.    0.    0.\n",
      "    0.    0.] Expected Profit: 1541974.2159699998\n",
      "New best strategy at iteration  662  :  [ 146.  222.  701.   50. 1038.  963.    0.    0.    0.    0.    0.    0.\n",
      "    0.    0.] Expected Profit: 1541977.0296699998\n",
      "New best strategy at iteration  662  :  [ 146.  222.  701.   50. 1039.  962.    0.    0.    0.    0.    0.    0.\n",
      "    0.    0.] Expected Profit: 1541980.2659699998\n",
      "New best strategy at iteration  663  :  [ 145.  222.  701.   50. 1039.  962.    0.    0.    0.    0.    0.    0.\n",
      "    0.    0.] Expected Profit: 1541983.19027\n",
      "New best strategy at iteration  663  :  [ 146.  221.  701.   50. 1039.  962.    0.    0.    0.    0.    0.    0.\n",
      "    0.    0.] Expected Profit: 1541984.66627\n",
      "New best strategy at iteration  663  :  [ 146.  222.  700.   50. 1039.  962.    0.    0.    0.    0.    0.    0.\n",
      "    0.    0.] Expected Profit: 1541986.58527\n"
     ]
    },
    {
     "name": "stderr",
     "output_type": "stream",
     "text": [
      "\r",
      "  0%|                                                                         | 664/1000000 [02:23<57:15:47,  4.85it/s]"
     ]
    },
    {
     "name": "stdout",
     "output_type": "stream",
     "text": [
      "New best strategy at iteration  663  :  [ 146.  222.  701.   49. 1039.  962.    0.    0.    0.    0.    0.    0.\n",
      "    0.    0.] Expected Profit: 1541988.98377\n",
      "New best strategy at iteration  663  :  [ 146.  222.  701.   50. 1038.  962.    0.    0.    0.    0.    0.    0.\n",
      "    0.    0.] Expected Profit: 1541991.7974699999\n",
      "New best strategy at iteration  663  :  [ 146.  222.  701.   50. 1039.  961.    0.    0.    0.    0.    0.    0.\n",
      "    0.    0.] Expected Profit: 1541995.03377\n",
      "New best strategy at iteration  664  :  [ 145.  222.  701.   50. 1039.  961.    0.    0.    0.    0.    0.    0.\n",
      "    0.    0.] Expected Profit: 1541997.9580700002\n",
      "New best strategy at iteration  664  :  [ 146.  221.  701.   50. 1039.  961.    0.    0.    0.    0.    0.    0.\n",
      "    0.    0.] Expected Profit: 1541999.4340700002\n",
      "New best strategy at iteration  664  :  [ 146.  222.  700.   50. 1039.  961.    0.    0.    0.    0.    0.    0.\n",
      "    0.    0.] Expected Profit: 1542001.3530700002\n"
     ]
    },
    {
     "name": "stderr",
     "output_type": "stream",
     "text": [
      "\r",
      "  0%|                                                                         | 665/1000000 [02:23<66:29:55,  4.17it/s]"
     ]
    },
    {
     "name": "stdout",
     "output_type": "stream",
     "text": [
      "New best strategy at iteration  664  :  [ 146.  222.  701.   49. 1039.  961.    0.    0.    0.    0.    0.    0.\n",
      "    0.    0.] Expected Profit: 1542003.75157\n",
      "New best strategy at iteration  664  :  [ 146.  222.  701.   50. 1038.  961.    0.    0.    0.    0.    0.    0.\n",
      "    0.    0.] Expected Profit: 1542006.56527\n",
      "New best strategy at iteration  664  :  [ 146.  222.  701.   50. 1039.  960.    0.    0.    0.    0.    0.    0.\n",
      "    0.    0.] Expected Profit: 1542009.8015700001\n",
      "New best strategy at iteration  665  :  [ 145.  222.  701.   50. 1039.  960.    0.    0.    0.    0.    0.    0.\n",
      "    0.    0.] Expected Profit: 1542012.72587\n",
      "New best strategy at iteration  665  :  [ 146.  221.  701.   50. 1039.  960.    0.    0.    0.    0.    0.    0.\n",
      "    0.    0.] Expected Profit: 1542014.20187\n",
      "New best strategy at iteration  665  :  [ 146.  222.  700.   50. 1039.  960.    0.    0.    0.    0.    0.    0.\n",
      "    0.    0.] Expected Profit: 1542016.12087\n",
      "New best strategy at iteration  665  :  [ 146.  222.  701.   49. 1039.  960.    0.    0.    0.    0.    0.    0.\n",
      "    0.    0.] Expected Profit: 1542018.5193699999\n",
      "New best strategy at iteration  665  :  [ 146.  222.  701.   50. 1038.  960.    0.    0.    0.    0.    0.    0.\n",
      "    0.    0.] Expected Profit: 1542021.3330699997\n",
      "New best strategy at iteration  665  :  [ 146.  222.  701.   50. 1039.  959.    0.    0.    0.    0.    0.    0.\n",
      "    0.    0.] Expected Profit: 1542024.56937\n"
     ]
    },
    {
     "name": "stderr",
     "output_type": "stream",
     "text": [
      "  0%|                                                                         | 667/1000000 [02:24<65:43:56,  4.22it/s]"
     ]
    },
    {
     "name": "stdout",
     "output_type": "stream",
     "text": [
      "New best strategy at iteration  666  :  [ 145.  222.  701.   50. 1039.  959.    0.    0.    0.    0.    0.    0.\n",
      "    0.    0.] Expected Profit: 1542027.4936699998\n",
      "New best strategy at iteration  666  :  [ 146.  221.  701.   50. 1039.  959.    0.    0.    0.    0.    0.    0.\n",
      "    0.    0.] Expected Profit: 1542028.96967\n",
      "New best strategy at iteration  666  :  [ 146.  222.  700.   50. 1039.  959.    0.    0.    0.    0.    0.    0.\n",
      "    0.    0.] Expected Profit: 1542030.88867\n",
      "New best strategy at iteration  666  :  [ 146.  222.  701.   49. 1039.  959.    0.    0.    0.    0.    0.    0.\n",
      "    0.    0.] Expected Profit: 1542033.28717\n",
      "New best strategy at iteration  666  :  [ 146.  222.  701.   50. 1038.  959.    0.    0.    0.    0.    0.    0.\n",
      "    0.    0.] Expected Profit: 1542036.10087\n",
      "New best strategy at iteration  666  :  [ 146.  222.  701.   50. 1039.  958.    0.    0.    0.    0.    0.    0.\n",
      "    0.    0.] Expected Profit: 1542039.3371700002\n",
      "New best strategy at iteration  667  :  [ 145.  222.  701.   50. 1039.  958.    0.    0.    0.    0.    0.    0.\n",
      "    0.    0.] Expected Profit: 1542042.2614700003\n"
     ]
    },
    {
     "name": "stderr",
     "output_type": "stream",
     "text": [
      "\r",
      "  0%|                                                                         | 668/1000000 [02:24<63:52:29,  4.35it/s]"
     ]
    },
    {
     "name": "stdout",
     "output_type": "stream",
     "text": [
      "New best strategy at iteration  667  :  [ 146.  221.  701.   50. 1039.  958.    0.    0.    0.    0.    0.    0.\n",
      "    0.    0.] Expected Profit: 1542043.7374700003\n",
      "New best strategy at iteration  667  :  [ 146.  222.  700.   50. 1039.  958.    0.    0.    0.    0.    0.    0.\n",
      "    0.    0.] Expected Profit: 1542045.65647\n",
      "New best strategy at iteration  667  :  [ 146.  222.  701.   49. 1039.  958.    0.    0.    0.    0.    0.    0.\n",
      "    0.    0.] Expected Profit: 1542048.05497\n",
      "New best strategy at iteration  667  :  [ 146.  222.  701.   50. 1038.  958.    0.    0.    0.    0.    0.    0.\n",
      "    0.    0.] Expected Profit: 1542050.86867\n",
      "New best strategy at iteration  667  :  [ 146.  222.  701.   50. 1039.  957.    0.    0.    0.    0.    0.    0.\n",
      "    0.    0.] Expected Profit: 1542054.1049699998\n",
      "New best strategy at iteration  668  :  [ 145.  222.  701.   50. 1039.  957.    0.    0.    0.    0.    0.    0.\n",
      "    0.    0.] Expected Profit: 1542057.02927\n",
      "New best strategy at iteration  668  :  [ 146.  221.  701.   50. 1039.  957.    0.    0.    0.    0.    0.    0.\n",
      "    0.    0.] Expected Profit: 1542058.50527\n"
     ]
    },
    {
     "name": "stderr",
     "output_type": "stream",
     "text": [
      "\r",
      "  0%|                                                                         | 669/1000000 [02:24<61:55:29,  4.48it/s]"
     ]
    },
    {
     "name": "stdout",
     "output_type": "stream",
     "text": [
      "New best strategy at iteration  668  :  [ 146.  222.  700.   50. 1039.  957.    0.    0.    0.    0.    0.    0.\n",
      "    0.    0.] Expected Profit: 1542060.42427\n",
      "New best strategy at iteration  668  :  [ 146.  222.  701.   49. 1039.  957.    0.    0.    0.    0.    0.    0.\n",
      "    0.    0.] Expected Profit: 1542062.82277\n",
      "New best strategy at iteration  668  :  [ 146.  222.  701.   50. 1038.  957.    0.    0.    0.    0.    0.    0.\n",
      "    0.    0.] Expected Profit: 1542065.6364699998\n",
      "New best strategy at iteration  668  :  [ 146.  222.  701.   50. 1039.  956.    0.    0.    0.    0.    0.    0.\n",
      "    0.    0.] Expected Profit: 1542068.8727699998\n",
      "New best strategy at iteration  669  :  [ 145.  222.  701.   50. 1039.  956.    0.    0.    0.    0.    0.    0.\n",
      "    0.    0.] Expected Profit: 1542071.7970699999\n",
      "New best strategy at iteration  669  :  [ 146.  221.  701.   50. 1039.  956.    0.    0.    0.    0.    0.    0.\n",
      "    0.    0.] Expected Profit: 1542073.2730699999\n",
      "New best strategy at iteration  669  :  [ 146.  222.  700.   50. 1039.  956.    0.    0.    0.    0.    0.    0.\n",
      "    0.    0.] Expected Profit: 1542075.1920699999\n"
     ]
    },
    {
     "name": "stderr",
     "output_type": "stream",
     "text": [
      "\r",
      "  0%|                                                                         | 670/1000000 [02:24<61:20:46,  4.53it/s]"
     ]
    },
    {
     "name": "stdout",
     "output_type": "stream",
     "text": [
      "New best strategy at iteration  669  :  [ 146.  222.  701.   49. 1039.  956.    0.    0.    0.    0.    0.    0.\n",
      "    0.    0.] Expected Profit: 1542077.5905699998\n",
      "New best strategy at iteration  669  :  [ 146.  222.  701.   50. 1038.  956.    0.    0.    0.    0.    0.    0.\n",
      "    0.    0.] Expected Profit: 1542080.40427\n",
      "New best strategy at iteration  669  :  [ 146.  222.  701.   50. 1039.  955.    0.    0.    0.    0.    0.    0.\n",
      "    0.    0.] Expected Profit: 1542083.6405700003\n",
      "New best strategy at iteration  670  :  [ 145.  222.  701.   50. 1039.  955.    0.    0.    0.    0.    0.    0.\n",
      "    0.    0.] Expected Profit: 1542086.5648700001\n",
      "New best strategy at iteration  670  :  [ 146.  221.  701.   50. 1039.  955.    0.    0.    0.    0.    0.    0.\n",
      "    0.    0.] Expected Profit: 1542088.0408700001\n",
      "New best strategy at iteration  670  :  [ 146.  222.  700.   50. 1039.  955.    0.    0.    0.    0.    0.    0.\n",
      "    0.    0.] Expected Profit: 1542089.9598700004\n"
     ]
    },
    {
     "name": "stderr",
     "output_type": "stream",
     "text": [
      "\r",
      "  0%|                                                                         | 671/1000000 [02:24<60:29:12,  4.59it/s]"
     ]
    },
    {
     "name": "stdout",
     "output_type": "stream",
     "text": [
      "New best strategy at iteration  670  :  [ 146.  222.  701.   49. 1039.  955.    0.    0.    0.    0.    0.    0.\n",
      "    0.    0.] Expected Profit: 1542092.35837\n",
      "New best strategy at iteration  670  :  [ 146.  222.  701.   50. 1038.  955.    0.    0.    0.    0.    0.    0.\n",
      "    0.    0.] Expected Profit: 1542095.1720699999\n",
      "New best strategy at iteration  670  :  [ 146.  222.  701.   50. 1039.  954.    0.    0.    0.    0.    0.    0.\n",
      "    0.    0.] Expected Profit: 1542098.4083699998\n",
      "New best strategy at iteration  671  :  [ 145.  222.  701.   50. 1039.  954.    0.    0.    0.    0.    0.    0.\n",
      "    0.    0.] Expected Profit: 1542101.3326700001\n",
      "New best strategy at iteration  671  :  [ 146.  221.  701.   50. 1039.  954.    0.    0.    0.    0.    0.    0.\n",
      "    0.    0.] Expected Profit: 1542102.8086700002\n",
      "New best strategy at iteration  671  :  [ 146.  222.  700.   50. 1039.  954.    0.    0.    0.    0.    0.    0.\n",
      "    0.    0.] Expected Profit: 1542104.7276700002\n",
      "New best strategy at iteration  671  :  [ 146.  222.  701.   49. 1039.  954.    0.    0.    0.    0.    0.    0.\n",
      "    0.    0.] Expected Profit: 1542107.12617\n"
     ]
    },
    {
     "name": "stderr",
     "output_type": "stream",
     "text": [
      "\r",
      "  0%|                                                                         | 672/1000000 [02:25<59:24:43,  4.67it/s]"
     ]
    },
    {
     "name": "stdout",
     "output_type": "stream",
     "text": [
      "New best strategy at iteration  671  :  [ 146.  222.  701.   50. 1038.  954.    0.    0.    0.    0.    0.    0.\n",
      "    0.    0.] Expected Profit: 1542109.93987\n",
      "New best strategy at iteration  671  :  [ 146.  222.  701.   50. 1039.  953.    0.    0.    0.    0.    0.    0.\n",
      "    0.    0.] Expected Profit: 1542113.17617\n",
      "New best strategy at iteration  672  :  [ 145.  222.  701.   50. 1039.  953.    0.    0.    0.    0.    0.    0.\n",
      "    0.    0.] Expected Profit: 1542116.10047\n",
      "New best strategy at iteration  672  :  [ 146.  221.  701.   50. 1039.  953.    0.    0.    0.    0.    0.    0.\n",
      "    0.    0.] Expected Profit: 1542117.5764699997\n",
      "New best strategy at iteration  672  :  [ 146.  222.  700.   50. 1039.  953.    0.    0.    0.    0.    0.    0.\n",
      "    0.    0.] Expected Profit: 1542119.49547\n",
      "New best strategy at iteration  672  :  [ 146.  222.  701.   49. 1039.  953.    0.    0.    0.    0.    0.    0.\n",
      "    0.    0.] Expected Profit: 1542121.8939699999\n",
      "New best strategy at iteration  672  :  [ 146.  222.  701.   50. 1038.  953.    0.    0.    0.    0.    0.    0.\n",
      "    0.    0.] Expected Profit: 1542124.70767\n"
     ]
    },
    {
     "name": "stderr",
     "output_type": "stream",
     "text": [
      "\r",
      "  0%|                                                                         | 673/1000000 [02:25<58:44:35,  4.73it/s]"
     ]
    },
    {
     "name": "stdout",
     "output_type": "stream",
     "text": [
      "New best strategy at iteration  672  :  [ 146.  222.  701.   50. 1039.  952.    0.    0.    0.    0.    0.    0.\n",
      "    0.    0.] Expected Profit: 1542127.94397\n",
      "New best strategy at iteration  673  :  [ 145.  222.  701.   50. 1039.  952.    0.    0.    0.    0.    0.    0.\n",
      "    0.    0.] Expected Profit: 1542130.86827\n",
      "New best strategy at iteration  673  :  [ 146.  221.  701.   50. 1039.  952.    0.    0.    0.    0.    0.    0.\n",
      "    0.    0.] Expected Profit: 1542132.34427\n",
      "New best strategy at iteration  673  :  [ 146.  222.  700.   50. 1039.  952.    0.    0.    0.    0.    0.    0.\n",
      "    0.    0.] Expected Profit: 1542134.26327\n",
      "New best strategy at iteration  673  :  [ 146.  222.  701.   49. 1039.  952.    0.    0.    0.    0.    0.    0.\n",
      "    0.    0.] Expected Profit: 1542136.6617699997\n",
      "New best strategy at iteration  673  :  [ 146.  222.  701.   50. 1038.  952.    0.    0.    0.    0.    0.    0.\n",
      "    0.    0.] Expected Profit: 1542139.4754699997\n"
     ]
    },
    {
     "name": "stderr",
     "output_type": "stream",
     "text": [
      "\r",
      "  0%|                                                                         | 674/1000000 [02:25<58:55:33,  4.71it/s]"
     ]
    },
    {
     "name": "stdout",
     "output_type": "stream",
     "text": [
      "New best strategy at iteration  673  :  [ 146.  222.  701.   50. 1039.  951.    0.    0.    0.    0.    0.    0.\n",
      "    0.    0.] Expected Profit: 1542142.71177\n",
      "New best strategy at iteration  674  :  [ 145.  222.  701.   50. 1039.  951.    0.    0.    0.    0.    0.    0.\n",
      "    0.    0.] Expected Profit: 1542145.6360700002\n",
      "New best strategy at iteration  674  :  [ 146.  221.  701.   50. 1039.  951.    0.    0.    0.    0.    0.    0.\n",
      "    0.    0.] Expected Profit: 1542147.1120700003\n",
      "New best strategy at iteration  674  :  [ 146.  222.  700.   50. 1039.  951.    0.    0.    0.    0.    0.    0.\n",
      "    0.    0.] Expected Profit: 1542149.0310700003\n",
      "New best strategy at iteration  674  :  [ 146.  222.  701.   49. 1039.  951.    0.    0.    0.    0.    0.    0.\n",
      "    0.    0.] Expected Profit: 1542151.4295700002\n",
      "New best strategy at iteration  674  :  [ 146.  222.  701.   50. 1038.  951.    0.    0.    0.    0.    0.    0.\n",
      "    0.    0.] Expected Profit: 1542154.24327\n",
      "New best strategy at iteration  674  :  [ 146.  222.  701.   50. 1039.  950.    0.    0.    0.    0.    0.    0.\n",
      "    0.    0.] Expected Profit: 1542157.47957\n"
     ]
    },
    {
     "name": "stderr",
     "output_type": "stream",
     "text": [
      "  0%|                                                                         | 676/1000000 [02:25<60:18:01,  4.60it/s]"
     ]
    },
    {
     "name": "stdout",
     "output_type": "stream",
     "text": [
      "New best strategy at iteration  675  :  [ 145.  222.  701.   50. 1039.  950.    0.    0.    0.    0.    0.    0.\n",
      "    0.    0.] Expected Profit: 1542160.4038699998\n",
      "New best strategy at iteration  675  :  [ 146.  221.  701.   50. 1039.  950.    0.    0.    0.    0.    0.    0.\n",
      "    0.    0.] Expected Profit: 1542161.8798699998\n",
      "New best strategy at iteration  675  :  [ 146.  222.  700.   50. 1039.  950.    0.    0.    0.    0.    0.    0.\n",
      "    0.    0.] Expected Profit: 1542163.7988699998\n",
      "New best strategy at iteration  675  :  [ 146.  222.  701.   49. 1039.  950.    0.    0.    0.    0.    0.    0.\n",
      "    0.    0.] Expected Profit: 1542166.19737\n",
      "New best strategy at iteration  675  :  [ 146.  222.  701.   50. 1038.  950.    0.    0.    0.    0.    0.    0.\n",
      "    0.    0.] Expected Profit: 1542169.01107\n",
      "New best strategy at iteration  675  :  [ 146.  222.  701.   50. 1039.  949.    0.    0.    0.    0.    0.    0.\n",
      "    0.    0.] Expected Profit: 1542172.24737\n",
      "New best strategy at iteration  676  :  [ 145.  222.  701.   50. 1039.  949.    0.    0.    0.    0.    0.    0.\n",
      "    0.    0.] Expected Profit: 1542175.17167\n",
      "New best strategy at iteration  676  :  [ 146.  221.  701.   50. 1039.  949.    0.    0.    0.    0.    0.    0.\n",
      "    0.    0.] Expected Profit: 1542176.64767\n",
      "New best strategy at iteration  676  :  [ 146.  222.  700.   50. 1039.  949.    0.    0.    0.    0.    0.    0.\n",
      "    0.    0.] Expected Profit: 1542178.56667\n",
      "New best strategy at iteration  676  :  [ 146.  222.  701.   49. 1039.  949.    0.    0.    0.    0.    0.    0.\n",
      "    0.    0.] Expected Profit: 1542180.9651699997\n",
      "New best strategy at iteration  676  :  [ 146.  222.  701.   50. 1038.  949.    0.    0.    0.    0.    0.    0.\n",
      "    0.    0.] Expected Profit: 1542183.7788699998\n",
      "New best strategy at iteration  676  :  [ 146.  222.  701.   50. 1039.  948.    0.    0.    0.    0.    0.    0.\n",
      "    0.    0.] Expected Profit: 1542187.0151699998\n"
     ]
    },
    {
     "name": "stderr",
     "output_type": "stream",
     "text": [
      "  0%|                                                                         | 678/1000000 [02:26<59:30:39,  4.66it/s]"
     ]
    },
    {
     "name": "stdout",
     "output_type": "stream",
     "text": [
      "New best strategy at iteration  677  :  [ 145.  222.  701.   50. 1039.  948.    0.    0.    0.    0.    0.    0.\n",
      "    0.    0.] Expected Profit: 1542189.93947\n",
      "New best strategy at iteration  677  :  [ 146.  221.  701.   50. 1039.  948.    0.    0.    0.    0.    0.    0.\n",
      "    0.    0.] Expected Profit: 1542191.4154700001\n",
      "New best strategy at iteration  677  :  [ 146.  222.  700.   50. 1039.  948.    0.    0.    0.    0.    0.    0.\n",
      "    0.    0.] Expected Profit: 1542193.3344700001\n",
      "New best strategy at iteration  677  :  [ 146.  222.  701.   49. 1039.  948.    0.    0.    0.    0.    0.    0.\n",
      "    0.    0.] Expected Profit: 1542195.7329699998\n",
      "New best strategy at iteration  677  :  [ 146.  222.  701.   50. 1038.  948.    0.    0.    0.    0.    0.    0.\n",
      "    0.    0.] Expected Profit: 1542198.5466699998\n",
      "New best strategy at iteration  677  :  [ 146.  222.  701.   50. 1039.  947.    0.    0.    0.    0.    0.    0.\n",
      "    0.    0.] Expected Profit: 1542201.78297\n"
     ]
    },
    {
     "name": "stderr",
     "output_type": "stream",
     "text": [
      "\r",
      "  0%|                                                                         | 679/1000000 [02:26<58:52:47,  4.71it/s]"
     ]
    },
    {
     "name": "stdout",
     "output_type": "stream",
     "text": [
      "New best strategy at iteration  678  :  [ 145.  222.  701.   50. 1039.  947.    0.    0.    0.    0.    0.    0.\n",
      "    0.    0.] Expected Profit: 1542204.70727\n",
      "New best strategy at iteration  678  :  [ 146.  221.  701.   50. 1039.  947.    0.    0.    0.    0.    0.    0.\n",
      "    0.    0.] Expected Profit: 1542206.18327\n",
      "New best strategy at iteration  678  :  [ 146.  222.  700.   50. 1039.  947.    0.    0.    0.    0.    0.    0.\n",
      "    0.    0.] Expected Profit: 1542208.10227\n",
      "New best strategy at iteration  678  :  [ 146.  222.  701.   49. 1039.  947.    0.    0.    0.    0.    0.    0.\n",
      "    0.    0.] Expected Profit: 1542210.50077\n",
      "New best strategy at iteration  678  :  [ 146.  222.  701.   50. 1038.  947.    0.    0.    0.    0.    0.    0.\n",
      "    0.    0.] Expected Profit: 1542213.31447\n",
      "New best strategy at iteration  678  :  [ 146.  222.  701.   50. 1039.  946.    0.    0.    0.    0.    0.    0.\n",
      "    0.    0.] Expected Profit: 1542216.55077\n",
      "New best strategy at iteration  679  :  [ 145.  222.  701.   50. 1039.  946.    0.    0.    0.    0.    0.    0.\n",
      "    0.    0.] Expected Profit: 1542219.47507\n",
      "New best strategy at iteration  679  :  [ 146.  221.  701.   50. 1039.  946.    0.    0.    0.    0.    0.    0.\n",
      "    0.    0.] Expected Profit: 1542220.95107\n",
      "New best strategy at iteration  679  :  [ 146.  222.  700.   50. 1039.  946.    0.    0.    0.    0.    0.    0.\n",
      "    0.    0.] Expected Profit: 1542222.8700700002\n",
      "New best strategy at iteration  679  :  [ 146.  222.  701.   49. 1039.  946.    0.    0.    0.    0.    0.    0.\n",
      "    0.    0.] Expected Profit: 1542225.26857\n",
      "New best strategy at iteration  679  :  [ 146.  222.  701.   50. 1038.  946.    0.    0.    0.    0.    0.    0.\n",
      "    0.    0.] Expected Profit: 1542228.08227\n",
      "New best strategy at iteration  679  :  [ 146.  222.  701.   50. 1039.  945.    0.    0.    0.    0.    0.    0.\n",
      "    0.    0.] Expected Profit: 1542231.3185699997\n"
     ]
    },
    {
     "name": "stderr",
     "output_type": "stream",
     "text": [
      "  0%|                                                                         | 681/1000000 [02:26<58:05:35,  4.78it/s]"
     ]
    },
    {
     "name": "stdout",
     "output_type": "stream",
     "text": [
      "New best strategy at iteration  680  :  [ 145.  222.  701.   50. 1039.  945.    0.    0.    0.    0.    0.    0.\n",
      "    0.    0.] Expected Profit: 1542234.24287\n",
      "New best strategy at iteration  680  :  [ 146.  221.  701.   50. 1039.  945.    0.    0.    0.    0.    0.    0.\n",
      "    0.    0.] Expected Profit: 1542235.71887\n",
      "New best strategy at iteration  680  :  [ 146.  222.  700.   50. 1039.  945.    0.    0.    0.    0.    0.    0.\n",
      "    0.    0.] Expected Profit: 1542237.6378700002\n",
      "New best strategy at iteration  680  :  [ 146.  222.  701.   49. 1039.  945.    0.    0.    0.    0.    0.    0.\n",
      "    0.    0.] Expected Profit: 1542240.0363699999\n",
      "New best strategy at iteration  680  :  [ 146.  222.  701.   50. 1038.  945.    0.    0.    0.    0.    0.    0.\n",
      "    0.    0.] Expected Profit: 1542242.8500699997\n",
      "New best strategy at iteration  680  :  [ 146.  222.  701.   50. 1039.  944.    0.    0.    0.    0.    0.    0.\n",
      "    0.    0.] Expected Profit: 1542246.08637\n"
     ]
    },
    {
     "name": "stderr",
     "output_type": "stream",
     "text": [
      "\r",
      "  0%|                                                                         | 682/1000000 [02:27<58:03:11,  4.78it/s]"
     ]
    },
    {
     "name": "stdout",
     "output_type": "stream",
     "text": [
      "New best strategy at iteration  681  :  [ 145.  222.  701.   50. 1039.  944.    0.    0.    0.    0.    0.    0.\n",
      "    0.    0.] Expected Profit: 1542249.01067\n",
      "New best strategy at iteration  681  :  [ 146.  221.  701.   50. 1039.  944.    0.    0.    0.    0.    0.    0.\n",
      "    0.    0.] Expected Profit: 1542250.48667\n",
      "New best strategy at iteration  681  :  [ 146.  222.  700.   50. 1039.  944.    0.    0.    0.    0.    0.    0.\n",
      "    0.    0.] Expected Profit: 1542252.40567\n",
      "New best strategy at iteration  681  :  [ 146.  222.  701.   49. 1039.  944.    0.    0.    0.    0.    0.    0.\n",
      "    0.    0.] Expected Profit: 1542254.8041700001\n",
      "New best strategy at iteration  681  :  [ 146.  222.  701.   50. 1038.  944.    0.    0.    0.    0.    0.    0.\n",
      "    0.    0.] Expected Profit: 1542257.61787\n",
      "New best strategy at iteration  681  :  [ 146.  222.  701.   50. 1039.  943.    0.    0.    0.    0.    0.    0.\n",
      "    0.    0.] Expected Profit: 1542260.8541700002\n",
      "New best strategy at iteration  682  :  [ 145.  222.  701.   50. 1039.  943.    0.    0.    0.    0.    0.    0.\n",
      "    0.    0.] Expected Profit: 1542263.77847\n",
      "New best strategy at iteration  682  :  [ 146.  221.  701.   50. 1039.  943.    0.    0.    0.    0.    0.    0.\n",
      "    0.    0.] Expected Profit: 1542265.2544700003\n",
      "New best strategy at iteration  682  :  [ 146.  222.  700.   50. 1039.  943.    0.    0.    0.    0.    0.    0.\n",
      "    0.    0.] Expected Profit: 1542267.17347\n",
      "New best strategy at iteration  682  :  [ 146.  222.  701.   49. 1039.  943.    0.    0.    0.    0.    0.    0.\n",
      "    0.    0.] Expected Profit: 1542269.5719699997\n",
      "New best strategy at iteration  682  :  [ 146.  222.  701.   50. 1038.  943.    0.    0.    0.    0.    0.    0.\n",
      "    0.    0.] Expected Profit: 1542272.3856699998\n",
      "New best strategy at iteration  682  :  [ 146.  222.  701.   50. 1039.  942.    0.    0.    0.    0.    0.    0.\n",
      "    0.    0.] Expected Profit: 1542275.6219699997\n"
     ]
    },
    {
     "name": "stderr",
     "output_type": "stream",
     "text": [
      "  0%|                                                                         | 684/1000000 [02:27<57:29:45,  4.83it/s]"
     ]
    },
    {
     "name": "stdout",
     "output_type": "stream",
     "text": [
      "New best strategy at iteration  683  :  [ 145.  222.  701.   50. 1039.  942.    0.    0.    0.    0.    0.    0.\n",
      "    0.    0.] Expected Profit: 1542278.54627\n",
      "New best strategy at iteration  683  :  [ 146.  221.  701.   50. 1039.  942.    0.    0.    0.    0.    0.    0.\n",
      "    0.    0.] Expected Profit: 1542280.02227\n",
      "New best strategy at iteration  683  :  [ 146.  222.  700.   50. 1039.  942.    0.    0.    0.    0.    0.    0.\n",
      "    0.    0.] Expected Profit: 1542281.94127\n",
      "New best strategy at iteration  683  :  [ 146.  222.  701.   49. 1039.  942.    0.    0.    0.    0.    0.    0.\n",
      "    0.    0.] Expected Profit: 1542284.3397699997\n",
      "New best strategy at iteration  683  :  [ 146.  222.  701.   50. 1038.  942.    0.    0.    0.    0.    0.    0.\n",
      "    0.    0.] Expected Profit: 1542287.1534699998\n",
      "New best strategy at iteration  683  :  [ 146.  222.  701.   50. 1039.  941.    0.    0.    0.    0.    0.    0.\n",
      "    0.    0.] Expected Profit: 1542290.38977\n"
     ]
    },
    {
     "name": "stderr",
     "output_type": "stream",
     "text": [
      "\r",
      "  0%|                                                                         | 685/1000000 [02:27<57:40:56,  4.81it/s]"
     ]
    },
    {
     "name": "stdout",
     "output_type": "stream",
     "text": [
      "New best strategy at iteration  684  :  [ 145.  222.  701.   50. 1039.  941.    0.    0.    0.    0.    0.    0.\n",
      "    0.    0.] Expected Profit: 1542293.31407\n",
      "New best strategy at iteration  684  :  [ 146.  221.  701.   50. 1039.  941.    0.    0.    0.    0.    0.    0.\n",
      "    0.    0.] Expected Profit: 1542294.79007\n",
      "New best strategy at iteration  684  :  [ 146.  222.  700.   50. 1039.  941.    0.    0.    0.    0.    0.    0.\n",
      "    0.    0.] Expected Profit: 1542296.70907\n",
      "New best strategy at iteration  684  :  [ 146.  222.  701.   49. 1039.  941.    0.    0.    0.    0.    0.    0.\n",
      "    0.    0.] Expected Profit: 1542299.1075700002\n",
      "New best strategy at iteration  684  :  [ 146.  222.  701.   50. 1038.  941.    0.    0.    0.    0.    0.    0.\n",
      "    0.    0.] Expected Profit: 1542301.92127\n",
      "New best strategy at iteration  684  :  [ 146.  222.  701.   50. 1039.  940.    0.    0.    0.    0.    0.    0.\n",
      "    0.    0.] Expected Profit: 1542305.1575700003\n"
     ]
    },
    {
     "name": "stderr",
     "output_type": "stream",
     "text": [
      "\r",
      "  0%|                                                                         | 686/1000000 [02:28<57:45:05,  4.81it/s]"
     ]
    },
    {
     "name": "stdout",
     "output_type": "stream",
     "text": [
      "New best strategy at iteration  685  :  [ 145.  222.  701.   50. 1039.  940.    0.    0.    0.    0.    0.    0.\n",
      "    0.    0.] Expected Profit: 1542308.08187\n",
      "New best strategy at iteration  685  :  [ 146.  221.  701.   50. 1039.  940.    0.    0.    0.    0.    0.    0.\n",
      "    0.    0.] Expected Profit: 1542309.55787\n",
      "New best strategy at iteration  685  :  [ 146.  222.  700.   50. 1039.  940.    0.    0.    0.    0.    0.    0.\n",
      "    0.    0.] Expected Profit: 1542311.4768700001\n",
      "New best strategy at iteration  685  :  [ 146.  222.  701.   49. 1039.  940.    0.    0.    0.    0.    0.    0.\n",
      "    0.    0.] Expected Profit: 1542313.8753699998\n",
      "New best strategy at iteration  685  :  [ 146.  222.  701.   50. 1038.  940.    0.    0.    0.    0.    0.    0.\n",
      "    0.    0.] Expected Profit: 1542316.6890699996\n",
      "New best strategy at iteration  685  :  [ 146.  222.  701.   50. 1039.  939.    0.    0.    0.    0.    0.    0.\n",
      "    0.    0.] Expected Profit: 1542319.9253699998\n"
     ]
    },
    {
     "name": "stderr",
     "output_type": "stream",
     "text": [
      "\r",
      "  0%|                                                                         | 687/1000000 [02:28<57:53:18,  4.80it/s]"
     ]
    },
    {
     "name": "stdout",
     "output_type": "stream",
     "text": [
      "New best strategy at iteration  686  :  [ 145.  222.  701.   50. 1039.  939.    0.    0.    0.    0.    0.    0.\n",
      "    0.    0.] Expected Profit: 1542322.8496700001\n",
      "New best strategy at iteration  686  :  [ 146.  221.  701.   50. 1039.  939.    0.    0.    0.    0.    0.    0.\n",
      "    0.    0.] Expected Profit: 1542324.3256700002\n",
      "New best strategy at iteration  686  :  [ 146.  222.  700.   50. 1039.  939.    0.    0.    0.    0.    0.    0.\n",
      "    0.    0.] Expected Profit: 1542326.2446700002\n",
      "New best strategy at iteration  686  :  [ 146.  222.  701.   49. 1039.  939.    0.    0.    0.    0.    0.    0.\n",
      "    0.    0.] Expected Profit: 1542328.6431699998\n",
      "New best strategy at iteration  686  :  [ 146.  222.  701.   50. 1038.  939.    0.    0.    0.    0.    0.    0.\n",
      "    0.    0.] Expected Profit: 1542331.4568699999\n",
      "New best strategy at iteration  686  :  [ 146.  222.  701.   50. 1039.  938.    0.    0.    0.    0.    0.    0.\n",
      "    0.    0.] Expected Profit: 1542334.6931699999\n"
     ]
    },
    {
     "name": "stderr",
     "output_type": "stream",
     "text": [
      "\r",
      "  0%|                                                                         | 688/1000000 [02:28<57:59:08,  4.79it/s]"
     ]
    },
    {
     "name": "stdout",
     "output_type": "stream",
     "text": [
      "New best strategy at iteration  687  :  [ 145.  222.  701.   50. 1039.  938.    0.    0.    0.    0.    0.    0.\n",
      "    0.    0.] Expected Profit: 1542337.61747\n",
      "New best strategy at iteration  687  :  [ 146.  221.  701.   50. 1039.  938.    0.    0.    0.    0.    0.    0.\n",
      "    0.    0.] Expected Profit: 1542339.0934699997\n",
      "New best strategy at iteration  687  :  [ 146.  222.  700.   50. 1039.  938.    0.    0.    0.    0.    0.    0.\n",
      "    0.    0.] Expected Profit: 1542341.0124699997\n",
      "New best strategy at iteration  687  :  [ 146.  222.  701.   49. 1039.  938.    0.    0.    0.    0.    0.    0.\n",
      "    0.    0.] Expected Profit: 1542343.4109699999\n",
      "New best strategy at iteration  687  :  [ 146.  222.  701.   50. 1038.  938.    0.    0.    0.    0.    0.    0.\n",
      "    0.    0.] Expected Profit: 1542346.22467\n",
      "New best strategy at iteration  687  :  [ 146.  222.  701.   50. 1039.  937.    0.    0.    0.    0.    0.    0.\n",
      "    0.    0.] Expected Profit: 1542349.4609700001\n",
      "New best strategy at iteration  688  :  [ 145.  222.  701.   50. 1039.  937.    0.    0.    0.    0.    0.    0.\n",
      "    0.    0.] Expected Profit: 1542352.3852700002\n",
      "New best strategy at iteration  688  :  [ 146.  221.  701.   50. 1039.  937.    0.    0.    0.    0.    0.    0.\n",
      "    0.    0.] Expected Profit: 1542353.86127\n",
      "New best strategy at iteration  688  :  [ 146.  222.  700.   50. 1039.  937.    0.    0.    0.    0.    0.    0.\n",
      "    0.    0.] Expected Profit: 1542355.78027\n",
      "New best strategy at iteration  688  :  [ 146.  222.  701.   49. 1039.  937.    0.    0.    0.    0.    0.    0.\n",
      "    0.    0.] Expected Profit: 1542358.1787699999\n",
      "New best strategy at iteration  688  :  [ 146.  222.  701.   50. 1038.  937.    0.    0.    0.    0.    0.    0.\n",
      "    0.    0.] Expected Profit: 1542360.99247\n",
      "New best strategy at iteration  688  :  [ 146.  222.  701.   50. 1039.  936.    0.    0.    0.    0.    0.    0.\n",
      "    0.    0.] Expected Profit: 1542364.22877\n"
     ]
    },
    {
     "name": "stderr",
     "output_type": "stream",
     "text": [
      "\r",
      "  0%|                                                                         | 689/1000000 [02:28<58:02:30,  4.78it/s]"
     ]
    },
    {
     "name": "stdout",
     "output_type": "stream",
     "text": [
      "New best strategy at iteration  689  :  [ 145.  222.  701.   50. 1039.  936.    0.    0.    0.    0.    0.    0.\n",
      "    0.    0.] Expected Profit: 1542367.1530700002\n",
      "New best strategy at iteration  689  :  [ 146.  221.  701.   50. 1039.  936.    0.    0.    0.    0.    0.    0.\n",
      "    0.    0.] Expected Profit: 1542368.62907\n",
      "New best strategy at iteration  689  :  [ 146.  222.  700.   50. 1039.  936.    0.    0.    0.    0.    0.    0.\n",
      "    0.    0.] Expected Profit: 1542370.5480700003\n",
      "New best strategy at iteration  689  :  [ 146.  222.  701.   49. 1039.  936.    0.    0.    0.    0.    0.    0.\n",
      "    0.    0.] Expected Profit: 1542372.9465699997\n",
      "New best strategy at iteration  689  :  [ 146.  222.  701.   50. 1038.  936.    0.    0.    0.    0.    0.    0.\n",
      "    0.    0.] Expected Profit: 1542375.7602699997\n",
      "New best strategy at iteration  689  :  [ 146.  222.  701.   50. 1039.  935.    0.    0.    0.    0.    0.    0.\n",
      "    0.    0.] Expected Profit: 1542378.99657\n"
     ]
    },
    {
     "name": "stderr",
     "output_type": "stream",
     "text": [
      "  0%|                                                                         | 691/1000000 [02:29<57:42:31,  4.81it/s]"
     ]
    },
    {
     "name": "stdout",
     "output_type": "stream",
     "text": [
      "New best strategy at iteration  690  :  [ 145.  222.  701.   50. 1039.  935.    0.    0.    0.    0.    0.    0.\n",
      "    0.    0.] Expected Profit: 1542381.92087\n",
      "New best strategy at iteration  690  :  [ 146.  221.  701.   50. 1039.  935.    0.    0.    0.    0.    0.    0.\n",
      "    0.    0.] Expected Profit: 1542383.3968699998\n",
      "New best strategy at iteration  690  :  [ 146.  222.  700.   50. 1039.  935.    0.    0.    0.    0.    0.    0.\n",
      "    0.    0.] Expected Profit: 1542385.3158699998\n",
      "New best strategy at iteration  690  :  [ 146.  222.  701.   49. 1039.  935.    0.    0.    0.    0.    0.    0.\n",
      "    0.    0.] Expected Profit: 1542387.71437\n",
      "New best strategy at iteration  690  :  [ 146.  222.  701.   50. 1038.  935.    0.    0.    0.    0.    0.    0.\n",
      "    0.    0.] Expected Profit: 1542390.52807\n",
      "New best strategy at iteration  690  :  [ 146.  222.  701.   50. 1039.  934.    0.    0.    0.    0.    0.    0.\n",
      "    0.    0.] Expected Profit: 1542393.76437\n"
     ]
    },
    {
     "name": "stderr",
     "output_type": "stream",
     "text": [
      "\r",
      "  0%|                                                                         | 692/1000000 [02:29<57:39:24,  4.81it/s]"
     ]
    },
    {
     "name": "stdout",
     "output_type": "stream",
     "text": [
      "New best strategy at iteration  691  :  [ 145.  222.  701.   50. 1039.  934.    0.    0.    0.    0.    0.    0.\n",
      "    0.    0.] Expected Profit: 1542396.68867\n",
      "New best strategy at iteration  691  :  [ 146.  221.  701.   50. 1039.  934.    0.    0.    0.    0.    0.    0.\n",
      "    0.    0.] Expected Profit: 1542398.1646699999\n",
      "New best strategy at iteration  691  :  [ 146.  222.  700.   50. 1039.  934.    0.    0.    0.    0.    0.    0.\n",
      "    0.    0.] Expected Profit: 1542400.08367\n",
      "New best strategy at iteration  691  :  [ 146.  222.  701.   49. 1039.  934.    0.    0.    0.    0.    0.    0.\n",
      "    0.    0.] Expected Profit: 1542402.4821699997\n",
      "New best strategy at iteration  691  :  [ 146.  222.  701.   50. 1038.  934.    0.    0.    0.    0.    0.    0.\n",
      "    0.    0.] Expected Profit: 1542405.2958699998\n",
      "New best strategy at iteration  691  :  [ 146.  222.  701.   50. 1039.  933.    0.    0.    0.    0.    0.    0.\n",
      "    0.    0.] Expected Profit: 1542408.53217\n"
     ]
    },
    {
     "name": "stderr",
     "output_type": "stream",
     "text": [
      "\r",
      "  0%|                                                                         | 693/1000000 [02:29<57:51:16,  4.80it/s]"
     ]
    },
    {
     "name": "stdout",
     "output_type": "stream",
     "text": [
      "New best strategy at iteration  692  :  [ 145.  222.  701.   50. 1039.  933.    0.    0.    0.    0.    0.    0.\n",
      "    0.    0.] Expected Profit: 1542411.4564700003\n",
      "New best strategy at iteration  692  :  [ 146.  221.  701.   50. 1039.  933.    0.    0.    0.    0.    0.    0.\n",
      "    0.    0.] Expected Profit: 1542412.9324700003\n",
      "New best strategy at iteration  692  :  [ 146.  222.  700.   50. 1039.  933.    0.    0.    0.    0.    0.    0.\n",
      "    0.    0.] Expected Profit: 1542414.8514700003\n",
      "New best strategy at iteration  692  :  [ 146.  222.  701.   49. 1039.  933.    0.    0.    0.    0.    0.    0.\n",
      "    0.    0.] Expected Profit: 1542417.2499699998\n",
      "New best strategy at iteration  692  :  [ 146.  222.  701.   50. 1038.  933.    0.    0.    0.    0.    0.    0.\n",
      "    0.    0.] Expected Profit: 1542420.06367\n",
      "New best strategy at iteration  692  :  [ 146.  222.  701.   50. 1039.  932.    0.    0.    0.    0.    0.    0.\n",
      "    0.    0.] Expected Profit: 1542423.29997\n"
     ]
    },
    {
     "name": "stderr",
     "output_type": "stream",
     "text": [
      "\r",
      "  0%|                                                                         | 694/1000000 [02:29<57:50:12,  4.80it/s]"
     ]
    },
    {
     "name": "stdout",
     "output_type": "stream",
     "text": [
      "New best strategy at iteration  693  :  [ 145.  222.  701.   50. 1039.  932.    0.    0.    0.    0.    0.    0.\n",
      "    0.    0.] Expected Profit: 1542426.22427\n",
      "New best strategy at iteration  693  :  [ 146.  221.  701.   50. 1039.  932.    0.    0.    0.    0.    0.    0.\n",
      "    0.    0.] Expected Profit: 1542427.70027\n",
      "New best strategy at iteration  693  :  [ 146.  222.  700.   50. 1039.  932.    0.    0.    0.    0.    0.    0.\n",
      "    0.    0.] Expected Profit: 1542429.61927\n",
      "New best strategy at iteration  693  :  [ 146.  222.  701.   49. 1039.  932.    0.    0.    0.    0.    0.    0.\n",
      "    0.    0.] Expected Profit: 1542432.01777\n",
      "New best strategy at iteration  693  :  [ 146.  222.  701.   50. 1038.  932.    0.    0.    0.    0.    0.    0.\n",
      "    0.    0.] Expected Profit: 1542434.8314699999\n",
      "New best strategy at iteration  693  :  [ 146.  222.  701.   50. 1039.  931.    0.    0.    0.    0.    0.    0.\n",
      "    0.    0.] Expected Profit: 1542438.06777\n"
     ]
    },
    {
     "name": "stderr",
     "output_type": "stream",
     "text": [
      "\r",
      "  0%|                                                                         | 695/1000000 [02:29<57:56:20,  4.79it/s]"
     ]
    },
    {
     "name": "stdout",
     "output_type": "stream",
     "text": [
      "New best strategy at iteration  694  :  [ 145.  222.  701.   50. 1039.  931.    0.    0.    0.    0.    0.    0.\n",
      "    0.    0.] Expected Profit: 1542440.9920700002\n",
      "New best strategy at iteration  694  :  [ 146.  221.  701.   50. 1039.  931.    0.    0.    0.    0.    0.    0.\n",
      "    0.    0.] Expected Profit: 1542442.46807\n",
      "New best strategy at iteration  694  :  [ 146.  222.  700.   50. 1039.  931.    0.    0.    0.    0.    0.    0.\n",
      "    0.    0.] Expected Profit: 1542444.3870700002\n",
      "New best strategy at iteration  694  :  [ 146.  222.  701.   49. 1039.  931.    0.    0.    0.    0.    0.    0.\n",
      "    0.    0.] Expected Profit: 1542446.7855699996\n",
      "New best strategy at iteration  694  :  [ 146.  222.  701.   50. 1038.  931.    0.    0.    0.    0.    0.    0.\n",
      "    0.    0.] Expected Profit: 1542449.59927\n",
      "New best strategy at iteration  694  :  [ 146.  222.  701.   50. 1039.  930.    0.    0.    0.    0.    0.    0.\n",
      "    0.    0.] Expected Profit: 1542452.8355699999\n"
     ]
    },
    {
     "name": "stderr",
     "output_type": "stream",
     "text": [
      "\r",
      "  0%|                                                                         | 696/1000000 [02:30<58:01:27,  4.78it/s]"
     ]
    },
    {
     "name": "stdout",
     "output_type": "stream",
     "text": [
      "New best strategy at iteration  695  :  [ 145.  222.  701.   50. 1039.  930.    0.    0.    0.    0.    0.    0.\n",
      "    0.    0.] Expected Profit: 1542455.7598700002\n",
      "New best strategy at iteration  695  :  [ 146.  221.  701.   50. 1039.  930.    0.    0.    0.    0.    0.    0.\n",
      "    0.    0.] Expected Profit: 1542457.23587\n",
      "New best strategy at iteration  695  :  [ 146.  222.  700.   50. 1039.  930.    0.    0.    0.    0.    0.    0.\n",
      "    0.    0.] Expected Profit: 1542459.1548700002\n",
      "New best strategy at iteration  695  :  [ 146.  222.  701.   49. 1039.  930.    0.    0.    0.    0.    0.    0.\n",
      "    0.    0.] Expected Profit: 1542461.5533699999\n",
      "New best strategy at iteration  695  :  [ 146.  222.  701.   50. 1038.  930.    0.    0.    0.    0.    0.    0.\n",
      "    0.    0.] Expected Profit: 1542464.36707\n",
      "New best strategy at iteration  695  :  [ 146.  222.  701.   50. 1039.  929.    0.    0.    0.    0.    0.    0.\n",
      "    0.    0.] Expected Profit: 1542467.60337\n",
      "New best strategy at iteration  696  :  [ 145.  222.  701.   50. 1039.  929.    0.    0.    0.    0.    0.    0.\n",
      "    0.    0.] Expected Profit: 1542470.52767\n"
     ]
    },
    {
     "name": "stderr",
     "output_type": "stream",
     "text": [
      "\r",
      "  0%|                                                                         | 697/1000000 [02:30<57:38:24,  4.82it/s]"
     ]
    },
    {
     "name": "stdout",
     "output_type": "stream",
     "text": [
      "New best strategy at iteration  696  :  [ 146.  221.  701.   50. 1039.  929.    0.    0.    0.    0.    0.    0.\n",
      "    0.    0.] Expected Profit: 1542472.00367\n",
      "New best strategy at iteration  696  :  [ 146.  222.  700.   50. 1039.  929.    0.    0.    0.    0.    0.    0.\n",
      "    0.    0.] Expected Profit: 1542473.92267\n",
      "New best strategy at iteration  696  :  [ 146.  222.  701.   49. 1039.  929.    0.    0.    0.    0.    0.    0.\n",
      "    0.    0.] Expected Profit: 1542476.3211700001\n",
      "New best strategy at iteration  696  :  [ 146.  222.  701.   50. 1038.  929.    0.    0.    0.    0.    0.    0.\n",
      "    0.    0.] Expected Profit: 1542479.13487\n",
      "New best strategy at iteration  696  :  [ 146.  222.  701.   50. 1039.  928.    0.    0.    0.    0.    0.    0.\n",
      "    0.    0.] Expected Profit: 1542482.37117\n",
      "New best strategy at iteration  697  :  [ 145.  222.  701.   50. 1039.  928.    0.    0.    0.    0.    0.    0.\n",
      "    0.    0.] Expected Profit: 1542485.29547\n",
      "New best strategy at iteration  697  :  [ 146.  221.  701.   50. 1039.  928.    0.    0.    0.    0.    0.    0.\n",
      "    0.    0.] Expected Profit: 1542486.7714699998\n",
      "New best strategy at iteration  697  :  [ 146.  222.  700.   50. 1039.  928.    0.    0.    0.    0.    0.    0.\n",
      "    0.    0.] Expected Profit: 1542488.69047\n"
     ]
    },
    {
     "name": "stderr",
     "output_type": "stream",
     "text": [
      "\r",
      "  0%|                                                                         | 698/1000000 [02:30<57:08:00,  4.86it/s]"
     ]
    },
    {
     "name": "stdout",
     "output_type": "stream",
     "text": [
      "New best strategy at iteration  697  :  [ 146.  222.  701.   49. 1039.  928.    0.    0.    0.    0.    0.    0.\n",
      "    0.    0.] Expected Profit: 1542491.0889699997\n",
      "New best strategy at iteration  697  :  [ 146.  222.  701.   50. 1038.  928.    0.    0.    0.    0.    0.    0.\n",
      "    0.    0.] Expected Profit: 1542493.9026699997\n",
      "New best strategy at iteration  697  :  [ 146.  222.  701.   50. 1039.  927.    0.    0.    0.    0.    0.    0.\n",
      "    0.    0.] Expected Profit: 1542497.13897\n",
      "New best strategy at iteration  698  :  [ 145.  222.  701.   50. 1039.  927.    0.    0.    0.    0.    0.    0.\n",
      "    0.    0.] Expected Profit: 1542500.06327\n",
      "New best strategy at iteration  698  :  [ 146.  221.  701.   50. 1039.  927.    0.    0.    0.    0.    0.    0.\n",
      "    0.    0.] Expected Profit: 1542501.53927\n",
      "New best strategy at iteration  698  :  [ 146.  222.  700.   50. 1039.  927.    0.    0.    0.    0.    0.    0.\n",
      "    0.    0.] Expected Profit: 1542503.45827\n"
     ]
    },
    {
     "name": "stderr",
     "output_type": "stream",
     "text": [
      "\r",
      "  0%|                                                                         | 699/1000000 [02:30<57:09:47,  4.86it/s]"
     ]
    },
    {
     "name": "stdout",
     "output_type": "stream",
     "text": [
      "New best strategy at iteration  698  :  [ 146.  222.  701.   49. 1039.  927.    0.    0.    0.    0.    0.    0.\n",
      "    0.    0.] Expected Profit: 1542505.85677\n",
      "New best strategy at iteration  698  :  [ 146.  222.  701.   50. 1038.  927.    0.    0.    0.    0.    0.    0.\n",
      "    0.    0.] Expected Profit: 1542508.67047\n",
      "New best strategy at iteration  698  :  [ 146.  222.  701.   50. 1039.  926.    0.    0.    0.    0.    0.    0.\n",
      "    0.    0.] Expected Profit: 1542511.90677\n",
      "New best strategy at iteration  699  :  [ 145.  222.  701.   50. 1039.  926.    0.    0.    0.    0.    0.    0.\n",
      "    0.    0.] Expected Profit: 1542514.83107\n",
      "New best strategy at iteration  699  :  [ 146.  221.  701.   50. 1039.  926.    0.    0.    0.    0.    0.    0.\n",
      "    0.    0.] Expected Profit: 1542516.3070699999\n",
      "New best strategy at iteration  699  :  [ 146.  222.  700.   50. 1039.  926.    0.    0.    0.    0.    0.    0.\n",
      "    0.    0.] Expected Profit: 1542518.22607\n",
      "New best strategy at iteration  699  :  [ 146.  222.  701.   49. 1039.  926.    0.    0.    0.    0.    0.    0.\n",
      "    0.    0.] Expected Profit: 1542520.62457\n"
     ]
    },
    {
     "name": "stderr",
     "output_type": "stream",
     "text": [
      "\r",
      "  0%|                                                                         | 700/1000000 [02:30<57:32:58,  4.82it/s]"
     ]
    },
    {
     "name": "stdout",
     "output_type": "stream",
     "text": [
      "New best strategy at iteration  699  :  [ 146.  222.  701.   50. 1038.  926.    0.    0.    0.    0.    0.    0.\n",
      "    0.    0.] Expected Profit: 1542523.43827\n",
      "New best strategy at iteration  699  :  [ 146.  222.  701.   50. 1039.  925.    0.    0.    0.    0.    0.    0.\n",
      "    0.    0.] Expected Profit: 1542526.67457\n",
      "New best strategy at iteration  700  :  [ 145.  222.  701.   50. 1039.  925.    0.    0.    0.    0.    0.    0.\n",
      "    0.    0.] Expected Profit: 1542529.5988699999\n",
      "New best strategy at iteration  700  :  [ 146.  221.  701.   50. 1039.  925.    0.    0.    0.    0.    0.    0.\n",
      "    0.    0.] Expected Profit: 1542531.07487\n",
      "New best strategy at iteration  700  :  [ 146.  222.  700.   50. 1039.  925.    0.    0.    0.    0.    0.    0.\n",
      "    0.    0.] Expected Profit: 1542532.9938700001\n",
      "New best strategy at iteration  700  :  [ 146.  222.  701.   49. 1039.  925.    0.    0.    0.    0.    0.    0.\n",
      "    0.    0.] Expected Profit: 1542535.3923699998\n"
     ]
    },
    {
     "name": "stderr",
     "output_type": "stream",
     "text": [
      "\r",
      "  0%|                                                                         | 701/1000000 [02:31<57:45:21,  4.81it/s]"
     ]
    },
    {
     "name": "stdout",
     "output_type": "stream",
     "text": [
      "New best strategy at iteration  700  :  [ 146.  222.  701.   50. 1038.  925.    0.    0.    0.    0.    0.    0.\n",
      "    0.    0.] Expected Profit: 1542538.2060699998\n",
      "New best strategy at iteration  700  :  [ 146.  222.  701.   50. 1039.  924.    0.    0.    0.    0.    0.    0.\n",
      "    0.    0.] Expected Profit: 1542541.4423699998\n",
      "New best strategy at iteration  701  :  [ 145.  222.  701.   50. 1039.  924.    0.    0.    0.    0.    0.    0.\n",
      "    0.    0.] Expected Profit: 1542544.3666700001\n",
      "New best strategy at iteration  701  :  [ 146.  221.  701.   50. 1039.  924.    0.    0.    0.    0.    0.    0.\n",
      "    0.    0.] Expected Profit: 1542545.84267\n",
      "New best strategy at iteration  701  :  [ 146.  222.  700.   50. 1039.  924.    0.    0.    0.    0.    0.    0.\n",
      "    0.    0.] Expected Profit: 1542547.7616700002\n",
      "New best strategy at iteration  701  :  [ 146.  222.  701.   49. 1039.  924.    0.    0.    0.    0.    0.    0.\n",
      "    0.    0.] Expected Profit: 1542550.1601699998\n",
      "New best strategy at iteration  701  :  [ 146.  222.  701.   50. 1038.  924.    0.    0.    0.    0.    0.    0.\n",
      "    0.    0.] Expected Profit: 1542552.9738699999\n"
     ]
    },
    {
     "name": "stderr",
     "output_type": "stream",
     "text": [
      "\r",
      "  0%|                                                                         | 702/1000000 [02:31<57:35:56,  4.82it/s]"
     ]
    },
    {
     "name": "stdout",
     "output_type": "stream",
     "text": [
      "New best strategy at iteration  701  :  [ 146.  222.  701.   50. 1039.  923.    0.    0.    0.    0.    0.    0.\n",
      "    0.    0.] Expected Profit: 1542556.21017\n",
      "New best strategy at iteration  702  :  [ 145.  222.  701.   50. 1039.  923.    0.    0.    0.    0.    0.    0.\n",
      "    0.    0.] Expected Profit: 1542559.13447\n",
      "New best strategy at iteration  702  :  [ 146.  221.  701.   50. 1039.  923.    0.    0.    0.    0.    0.    0.\n",
      "    0.    0.] Expected Profit: 1542560.61047\n",
      "New best strategy at iteration  702  :  [ 146.  222.  700.   50. 1039.  923.    0.    0.    0.    0.    0.    0.\n",
      "    0.    0.] Expected Profit: 1542562.5294700002\n",
      "New best strategy at iteration  702  :  [ 146.  222.  701.   49. 1039.  923.    0.    0.    0.    0.    0.    0.\n",
      "    0.    0.] Expected Profit: 1542564.9279699998\n"
     ]
    },
    {
     "name": "stderr",
     "output_type": "stream",
     "text": [
      "\r",
      "  0%|                                                                         | 703/1000000 [02:31<59:29:28,  4.67it/s]"
     ]
    },
    {
     "name": "stdout",
     "output_type": "stream",
     "text": [
      "New best strategy at iteration  702  :  [ 146.  222.  701.   50. 1038.  923.    0.    0.    0.    0.    0.    0.\n",
      "    0.    0.] Expected Profit: 1542567.7416700001\n",
      "New best strategy at iteration  702  :  [ 146.  222.  701.   50. 1039.  922.    0.    0.    0.    0.    0.    0.\n",
      "    0.    0.] Expected Profit: 1542570.9779700001\n",
      "New best strategy at iteration  703  :  [ 145.  222.  701.   50. 1039.  922.    0.    0.    0.    0.    0.    0.\n",
      "    0.    0.] Expected Profit: 1542573.90227\n",
      "New best strategy at iteration  703  :  [ 146.  221.  701.   50. 1039.  922.    0.    0.    0.    0.    0.    0.\n",
      "    0.    0.] Expected Profit: 1542575.37827\n",
      "New best strategy at iteration  703  :  [ 146.  222.  700.   50. 1039.  922.    0.    0.    0.    0.    0.    0.\n",
      "    0.    0.] Expected Profit: 1542577.29727\n",
      "New best strategy at iteration  703  :  [ 146.  222.  701.   49. 1039.  922.    0.    0.    0.    0.    0.    0.\n",
      "    0.    0.] Expected Profit: 1542579.6957699999\n"
     ]
    },
    {
     "name": "stderr",
     "output_type": "stream",
     "text": [
      "\r",
      "  0%|                                                                         | 704/1000000 [02:31<59:49:38,  4.64it/s]"
     ]
    },
    {
     "name": "stdout",
     "output_type": "stream",
     "text": [
      "New best strategy at iteration  703  :  [ 146.  222.  701.   50. 1038.  922.    0.    0.    0.    0.    0.    0.\n",
      "    0.    0.] Expected Profit: 1542582.5094699997\n",
      "New best strategy at iteration  703  :  [ 146.  222.  701.   50. 1039.  921.    0.    0.    0.    0.    0.    0.\n",
      "    0.    0.] Expected Profit: 1542585.74577\n",
      "New best strategy at iteration  704  :  [ 145.  222.  701.   50. 1039.  921.    0.    0.    0.    0.    0.    0.\n",
      "    0.    0.] Expected Profit: 1542588.67007\n",
      "New best strategy at iteration  704  :  [ 146.  221.  701.   50. 1039.  921.    0.    0.    0.    0.    0.    0.\n",
      "    0.    0.] Expected Profit: 1542590.14607\n",
      "New best strategy at iteration  704  :  [ 146.  222.  700.   50. 1039.  921.    0.    0.    0.    0.    0.    0.\n",
      "    0.    0.] Expected Profit: 1542592.06507\n",
      "New best strategy at iteration  704  :  [ 146.  222.  701.   49. 1039.  921.    0.    0.    0.    0.    0.    0.\n",
      "    0.    0.] Expected Profit: 1542594.46357\n",
      "New best strategy at iteration  704  :  [ 146.  222.  701.   50. 1038.  921.    0.    0.    0.    0.    0.    0.\n",
      "    0.    0.] Expected Profit: 1542597.27727\n"
     ]
    },
    {
     "name": "stderr",
     "output_type": "stream",
     "text": [
      "\r",
      "  0%|                                                                         | 705/1000000 [02:32<60:02:07,  4.62it/s]"
     ]
    },
    {
     "name": "stdout",
     "output_type": "stream",
     "text": [
      "New best strategy at iteration  704  :  [ 146.  222.  701.   50. 1039.  920.    0.    0.    0.    0.    0.    0.\n",
      "    0.    0.] Expected Profit: 1542600.51357\n",
      "New best strategy at iteration  705  :  [ 145.  222.  701.   50. 1039.  920.    0.    0.    0.    0.    0.    0.\n",
      "    0.    0.] Expected Profit: 1542603.4378699998\n",
      "New best strategy at iteration  705  :  [ 146.  221.  701.   50. 1039.  920.    0.    0.    0.    0.    0.    0.\n",
      "    0.    0.] Expected Profit: 1542604.9138699998\n",
      "New best strategy at iteration  705  :  [ 146.  222.  700.   50. 1039.  920.    0.    0.    0.    0.    0.    0.\n",
      "    0.    0.] Expected Profit: 1542606.8328699998\n",
      "New best strategy at iteration  705  :  [ 146.  222.  701.   49. 1039.  920.    0.    0.    0.    0.    0.    0.\n",
      "    0.    0.] Expected Profit: 1542609.23137\n"
     ]
    },
    {
     "name": "stderr",
     "output_type": "stream",
     "text": [
      "\r",
      "  0%|                                                                         | 706/1000000 [02:32<59:27:00,  4.67it/s]"
     ]
    },
    {
     "name": "stdout",
     "output_type": "stream",
     "text": [
      "New best strategy at iteration  705  :  [ 146.  222.  701.   50. 1038.  920.    0.    0.    0.    0.    0.    0.\n",
      "    0.    0.] Expected Profit: 1542612.0450699998\n",
      "New best strategy at iteration  705  :  [ 146.  222.  701.   50. 1039.  919.    0.    0.    0.    0.    0.    0.\n",
      "    0.    0.] Expected Profit: 1542615.28137\n",
      "New best strategy at iteration  706  :  [ 145.  222.  701.   50. 1039.  919.    0.    0.    0.    0.    0.    0.\n",
      "    0.    0.] Expected Profit: 1542618.20567\n",
      "New best strategy at iteration  706  :  [ 146.  221.  701.   50. 1039.  919.    0.    0.    0.    0.    0.    0.\n",
      "    0.    0.] Expected Profit: 1542619.68167\n",
      "New best strategy at iteration  706  :  [ 146.  222.  700.   50. 1039.  919.    0.    0.    0.    0.    0.    0.\n",
      "    0.    0.] Expected Profit: 1542621.60067\n",
      "New best strategy at iteration  706  :  [ 146.  222.  701.   49. 1039.  919.    0.    0.    0.    0.    0.    0.\n",
      "    0.    0.] Expected Profit: 1542623.99917\n"
     ]
    },
    {
     "name": "stderr",
     "output_type": "stream",
     "text": [
      "\r",
      "  0%|                                                                         | 707/1000000 [02:32<58:51:37,  4.72it/s]"
     ]
    },
    {
     "name": "stdout",
     "output_type": "stream",
     "text": [
      "New best strategy at iteration  706  :  [ 146.  222.  701.   50. 1038.  919.    0.    0.    0.    0.    0.    0.\n",
      "    0.    0.] Expected Profit: 1542626.8128699998\n",
      "New best strategy at iteration  706  :  [ 146.  222.  701.   50. 1039.  918.    0.    0.    0.    0.    0.    0.\n",
      "    0.    0.] Expected Profit: 1542630.04917\n",
      "New best strategy at iteration  707  :  [ 145.  222.  701.   50. 1039.  918.    0.    0.    0.    0.    0.    0.\n",
      "    0.    0.] Expected Profit: 1542632.97347\n",
      "New best strategy at iteration  707  :  [ 146.  221.  701.   50. 1039.  918.    0.    0.    0.    0.    0.    0.\n",
      "    0.    0.] Expected Profit: 1542634.44947\n",
      "New best strategy at iteration  707  :  [ 146.  222.  700.   50. 1039.  918.    0.    0.    0.    0.    0.    0.\n",
      "    0.    0.] Expected Profit: 1542636.3684699999\n",
      "New best strategy at iteration  707  :  [ 146.  222.  701.   49. 1039.  918.    0.    0.    0.    0.    0.    0.\n",
      "    0.    0.] Expected Profit: 1542638.7669699998\n",
      "New best strategy at iteration  707  :  [ 146.  222.  701.   50. 1038.  918.    0.    0.    0.    0.    0.    0.\n",
      "    0.    0.] Expected Profit: 1542641.58067\n"
     ]
    },
    {
     "name": "stderr",
     "output_type": "stream",
     "text": [
      "\r",
      "  0%|                                                                         | 708/1000000 [02:32<58:19:27,  4.76it/s]"
     ]
    },
    {
     "name": "stdout",
     "output_type": "stream",
     "text": [
      "New best strategy at iteration  707  :  [ 146.  222.  701.   50. 1039.  917.    0.    0.    0.    0.    0.    0.\n",
      "    0.    0.] Expected Profit: 1542644.8169699998\n",
      "New best strategy at iteration  708  :  [ 145.  222.  701.   50. 1039.  917.    0.    0.    0.    0.    0.    0.\n",
      "    0.    0.] Expected Profit: 1542647.7412699999\n",
      "New best strategy at iteration  708  :  [ 146.  221.  701.   50. 1039.  917.    0.    0.    0.    0.    0.    0.\n",
      "    0.    0.] Expected Profit: 1542649.21727\n",
      "New best strategy at iteration  708  :  [ 146.  222.  700.   50. 1039.  917.    0.    0.    0.    0.    0.    0.\n",
      "    0.    0.] Expected Profit: 1542651.13627\n",
      "New best strategy at iteration  708  :  [ 146.  222.  701.   49. 1039.  917.    0.    0.    0.    0.    0.    0.\n",
      "    0.    0.] Expected Profit: 1542653.5347699998\n",
      "New best strategy at iteration  708  :  [ 146.  222.  701.   50. 1038.  917.    0.    0.    0.    0.    0.    0.\n",
      "    0.    0.] Expected Profit: 1542656.3484699999\n"
     ]
    },
    {
     "name": "stderr",
     "output_type": "stream",
     "text": [
      "\r",
      "  0%|                                                                         | 709/1000000 [02:32<58:58:25,  4.71it/s]"
     ]
    },
    {
     "name": "stdout",
     "output_type": "stream",
     "text": [
      "New best strategy at iteration  708  :  [ 146.  222.  701.   50. 1039.  916.    0.    0.    0.    0.    0.    0.\n",
      "    0.    0.] Expected Profit: 1542659.58477\n",
      "New best strategy at iteration  709  :  [ 145.  222.  701.   50. 1039.  916.    0.    0.    0.    0.    0.    0.\n",
      "    0.    0.] Expected Profit: 1542662.5090700001\n",
      "New best strategy at iteration  709  :  [ 146.  221.  701.   50. 1039.  916.    0.    0.    0.    0.    0.    0.\n",
      "    0.    0.] Expected Profit: 1542663.9850700002\n",
      "New best strategy at iteration  709  :  [ 146.  222.  700.   50. 1039.  916.    0.    0.    0.    0.    0.    0.\n",
      "    0.    0.] Expected Profit: 1542665.9040700002\n",
      "New best strategy at iteration  709  :  [ 146.  222.  701.   49. 1039.  916.    0.    0.    0.    0.    0.    0.\n",
      "    0.    0.] Expected Profit: 1542668.3025699998\n",
      "New best strategy at iteration  709  :  [ 146.  222.  701.   50. 1038.  916.    0.    0.    0.    0.    0.    0.\n",
      "    0.    0.] Expected Profit: 1542671.1162699999\n"
     ]
    },
    {
     "name": "stderr",
     "output_type": "stream",
     "text": [
      "\r",
      "  0%|                                                                         | 710/1000000 [02:33<58:52:24,  4.71it/s]"
     ]
    },
    {
     "name": "stdout",
     "output_type": "stream",
     "text": [
      "New best strategy at iteration  709  :  [ 146.  222.  701.   50. 1039.  915.    0.    0.    0.    0.    0.    0.\n",
      "    0.    0.] Expected Profit: 1542674.35257\n",
      "New best strategy at iteration  710  :  [ 145.  222.  701.   50. 1039.  915.    0.    0.    0.    0.    0.    0.\n",
      "    0.    0.] Expected Profit: 1542677.27687\n",
      "New best strategy at iteration  710  :  [ 146.  221.  701.   50. 1039.  915.    0.    0.    0.    0.    0.    0.\n",
      "    0.    0.] Expected Profit: 1542678.75287\n",
      "New best strategy at iteration  710  :  [ 146.  222.  700.   50. 1039.  915.    0.    0.    0.    0.    0.    0.\n",
      "    0.    0.] Expected Profit: 1542680.67187\n",
      "New best strategy at iteration  710  :  [ 146.  222.  701.   49. 1039.  915.    0.    0.    0.    0.    0.    0.\n",
      "    0.    0.] Expected Profit: 1542683.0703699999\n",
      "New best strategy at iteration  710  :  [ 146.  222.  701.   50. 1038.  915.    0.    0.    0.    0.    0.    0.\n",
      "    0.    0.] Expected Profit: 1542685.88407\n"
     ]
    },
    {
     "name": "stderr",
     "output_type": "stream",
     "text": [
      "\r",
      "  0%|                                                                         | 711/1000000 [02:33<58:51:13,  4.72it/s]"
     ]
    },
    {
     "name": "stdout",
     "output_type": "stream",
     "text": [
      "New best strategy at iteration  710  :  [ 146.  222.  701.   50. 1039.  914.    0.    0.    0.    0.    0.    0.\n",
      "    0.    0.] Expected Profit: 1542689.12037\n",
      "New best strategy at iteration  711  :  [ 145.  222.  701.   50. 1039.  914.    0.    0.    0.    0.    0.    0.\n",
      "    0.    0.] Expected Profit: 1542692.04467\n",
      "New best strategy at iteration  711  :  [ 146.  221.  701.   50. 1039.  914.    0.    0.    0.    0.    0.    0.\n",
      "    0.    0.] Expected Profit: 1542693.52067\n",
      "New best strategy at iteration  711  :  [ 146.  222.  700.   50. 1039.  914.    0.    0.    0.    0.    0.    0.\n",
      "    0.    0.] Expected Profit: 1542695.43967\n",
      "New best strategy at iteration  711  :  [ 146.  222.  701.   49. 1039.  914.    0.    0.    0.    0.    0.    0.\n",
      "    0.    0.] Expected Profit: 1542697.8381699997\n",
      "New best strategy at iteration  711  :  [ 146.  222.  701.   50. 1038.  914.    0.    0.    0.    0.    0.    0.\n",
      "    0.    0.] Expected Profit: 1542700.65187\n",
      "New best strategy at iteration  711  :  [ 146.  222.  701.   50. 1039.  913.    0.    0.    0.    0.    0.    0.\n",
      "    0.    0.] Expected Profit: 1542703.8881700002\n"
     ]
    },
    {
     "name": "stderr",
     "output_type": "stream",
     "text": [
      "\r",
      "  0%|                                                                         | 712/1000000 [02:33<58:57:01,  4.71it/s]"
     ]
    },
    {
     "name": "stdout",
     "output_type": "stream",
     "text": [
      "New best strategy at iteration  712  :  [ 145.  222.  701.   50. 1039.  913.    0.    0.    0.    0.    0.    0.\n",
      "    0.    0.] Expected Profit: 1542706.81247\n",
      "New best strategy at iteration  712  :  [ 146.  221.  701.   50. 1039.  913.    0.    0.    0.    0.    0.    0.\n",
      "    0.    0.] Expected Profit: 1542708.28847\n",
      "New best strategy at iteration  712  :  [ 146.  222.  700.   50. 1039.  913.    0.    0.    0.    0.    0.    0.\n",
      "    0.    0.] Expected Profit: 1542710.2074700003\n",
      "New best strategy at iteration  712  :  [ 146.  222.  701.   49. 1039.  913.    0.    0.    0.    0.    0.    0.\n",
      "    0.    0.] Expected Profit: 1542712.60597\n",
      "New best strategy at iteration  712  :  [ 146.  222.  701.   50. 1038.  913.    0.    0.    0.    0.    0.    0.\n",
      "    0.    0.] Expected Profit: 1542715.41967\n",
      "New best strategy at iteration  712  :  [ 146.  222.  701.   50. 1039.  912.    0.    0.    0.    0.    0.    0.\n",
      "    0.    0.] Expected Profit: 1542718.65597\n"
     ]
    },
    {
     "name": "stderr",
     "output_type": "stream",
     "text": [
      "  0%|                                                                         | 714/1000000 [02:33<58:24:21,  4.75it/s]"
     ]
    },
    {
     "name": "stdout",
     "output_type": "stream",
     "text": [
      "New best strategy at iteration  713  :  [ 145.  222.  701.   50. 1039.  912.    0.    0.    0.    0.    0.    0.\n",
      "    0.    0.] Expected Profit: 1542721.5802700003\n",
      "New best strategy at iteration  713  :  [ 146.  221.  701.   50. 1039.  912.    0.    0.    0.    0.    0.    0.\n",
      "    0.    0.] Expected Profit: 1542723.0562700003\n",
      "New best strategy at iteration  713  :  [ 146.  222.  700.   50. 1039.  912.    0.    0.    0.    0.    0.    0.\n",
      "    0.    0.] Expected Profit: 1542724.97527\n",
      "New best strategy at iteration  713  :  [ 146.  222.  701.   49. 1039.  912.    0.    0.    0.    0.    0.    0.\n",
      "    0.    0.] Expected Profit: 1542727.37377\n",
      "New best strategy at iteration  713  :  [ 146.  222.  701.   50. 1038.  912.    0.    0.    0.    0.    0.    0.\n",
      "    0.    0.] Expected Profit: 1542730.1874699998\n",
      "New best strategy at iteration  713  :  [ 146.  222.  701.   50. 1039.  911.    0.    0.    0.    0.    0.    0.\n",
      "    0.    0.] Expected Profit: 1542733.42377\n"
     ]
    },
    {
     "name": "stderr",
     "output_type": "stream",
     "text": [
      "\r",
      "  0%|                                                                         | 715/1000000 [02:34<58:18:18,  4.76it/s]"
     ]
    },
    {
     "name": "stdout",
     "output_type": "stream",
     "text": [
      "New best strategy at iteration  714  :  [ 145.  222.  701.   50. 1039.  911.    0.    0.    0.    0.    0.    0.\n",
      "    0.    0.] Expected Profit: 1542736.34807\n",
      "New best strategy at iteration  714  :  [ 146.  221.  701.   50. 1039.  911.    0.    0.    0.    0.    0.    0.\n",
      "    0.    0.] Expected Profit: 1542737.8240699999\n",
      "New best strategy at iteration  714  :  [ 146.  222.  700.   50. 1039.  911.    0.    0.    0.    0.    0.    0.\n",
      "    0.    0.] Expected Profit: 1542739.74307\n",
      "New best strategy at iteration  714  :  [ 146.  222.  701.   49. 1039.  911.    0.    0.    0.    0.    0.    0.\n",
      "    0.    0.] Expected Profit: 1542742.1415699997\n",
      "New best strategy at iteration  714  :  [ 146.  222.  701.   50. 1038.  911.    0.    0.    0.    0.    0.    0.\n",
      "    0.    0.] Expected Profit: 1542744.95527\n",
      "New best strategy at iteration  714  :  [ 146.  222.  701.   50. 1039.  910.    0.    0.    0.    0.    0.    0.\n",
      "    0.    0.] Expected Profit: 1542748.1915700003\n"
     ]
    },
    {
     "name": "stderr",
     "output_type": "stream",
     "text": [
      "\r",
      "  0%|                                                                         | 716/1000000 [02:34<57:59:55,  4.79it/s]"
     ]
    },
    {
     "name": "stdout",
     "output_type": "stream",
     "text": [
      "New best strategy at iteration  715  :  [ 145.  222.  701.   50. 1039.  910.    0.    0.    0.    0.    0.    0.\n",
      "    0.    0.] Expected Profit: 1542751.1158699999\n",
      "New best strategy at iteration  715  :  [ 146.  221.  701.   50. 1039.  910.    0.    0.    0.    0.    0.    0.\n",
      "    0.    0.] Expected Profit: 1542752.59187\n",
      "New best strategy at iteration  715  :  [ 146.  222.  700.   50. 1039.  910.    0.    0.    0.    0.    0.    0.\n",
      "    0.    0.] Expected Profit: 1542754.5108699999\n",
      "New best strategy at iteration  715  :  [ 146.  222.  701.   49. 1039.  910.    0.    0.    0.    0.    0.    0.\n",
      "    0.    0.] Expected Profit: 1542756.9093699998\n",
      "New best strategy at iteration  715  :  [ 146.  222.  701.   50. 1038.  910.    0.    0.    0.    0.    0.    0.\n",
      "    0.    0.] Expected Profit: 1542759.7230699996\n",
      "New best strategy at iteration  715  :  [ 146.  222.  701.   50. 1039.  909.    0.    0.    0.    0.    0.    0.\n",
      "    0.    0.] Expected Profit: 1542762.95937\n"
     ]
    },
    {
     "name": "stderr",
     "output_type": "stream",
     "text": [
      "\r",
      "  0%|                                                                         | 717/1000000 [02:34<57:33:57,  4.82it/s]"
     ]
    },
    {
     "name": "stdout",
     "output_type": "stream",
     "text": [
      "New best strategy at iteration  716  :  [ 145.  222.  701.   50. 1039.  909.    0.    0.    0.    0.    0.    0.\n",
      "    0.    0.] Expected Profit: 1542765.8836700001\n",
      "New best strategy at iteration  716  :  [ 146.  221.  701.   50. 1039.  909.    0.    0.    0.    0.    0.    0.\n",
      "    0.    0.] Expected Profit: 1542767.3596700002\n",
      "New best strategy at iteration  716  :  [ 146.  222.  700.   50. 1039.  909.    0.    0.    0.    0.    0.    0.\n",
      "    0.    0.] Expected Profit: 1542769.2786700001\n",
      "New best strategy at iteration  716  :  [ 146.  222.  701.   49. 1039.  909.    0.    0.    0.    0.    0.    0.\n",
      "    0.    0.] Expected Profit: 1542771.67717\n",
      "New best strategy at iteration  716  :  [ 146.  222.  701.   50. 1038.  909.    0.    0.    0.    0.    0.    0.\n",
      "    0.    0.] Expected Profit: 1542774.49087\n",
      "New best strategy at iteration  716  :  [ 146.  222.  701.   50. 1039.  908.    0.    0.    0.    0.    0.    0.\n",
      "    0.    0.] Expected Profit: 1542777.72717\n",
      "New best strategy at iteration  717  :  [ 145.  222.  701.   50. 1039.  908.    0.    0.    0.    0.    0.    0.\n",
      "    0.    0.] Expected Profit: 1542780.6514699997\n",
      "New best strategy at iteration  717  :  [ 146.  221.  701.   50. 1039.  908.    0.    0.    0.    0.    0.    0.\n",
      "    0.    0.] Expected Profit: 1542782.12747\n",
      "New best strategy at iteration  717  :  [ 146.  222.  700.   50. 1039.  908.    0.    0.    0.    0.    0.    0.\n",
      "    0.    0.] Expected Profit: 1542784.0464700002\n",
      "New best strategy at iteration  717  :  [ 146.  222.  701.   49. 1039.  908.    0.    0.    0.    0.    0.    0.\n",
      "    0.    0.] Expected Profit: 1542786.4449699998\n",
      "New best strategy at iteration  717  :  [ 146.  222.  701.   50. 1038.  908.    0.    0.    0.    0.    0.    0.\n",
      "    0.    0.] Expected Profit: 1542789.2586700001\n",
      "New best strategy at iteration  717  :  [ 146.  222.  701.   50. 1039.  907.    0.    0.    0.    0.    0.    0.\n",
      "    0.    0.] Expected Profit: 1542792.49497\n"
     ]
    },
    {
     "name": "stderr",
     "output_type": "stream",
     "text": [
      "\r",
      "  0%|                                                                         | 718/1000000 [02:34<57:46:22,  4.80it/s]"
     ]
    },
    {
     "name": "stdout",
     "output_type": "stream",
     "text": [
      "New best strategy at iteration  718  :  [ 145.  222.  701.   50. 1039.  907.    0.    0.    0.    0.    0.    0.\n",
      "    0.    0.] Expected Profit: 1542795.41927\n",
      "New best strategy at iteration  718  :  [ 146.  221.  701.   50. 1039.  907.    0.    0.    0.    0.    0.    0.\n",
      "    0.    0.] Expected Profit: 1542796.89527\n",
      "New best strategy at iteration  718  :  [ 146.  222.  700.   50. 1039.  907.    0.    0.    0.    0.    0.    0.\n",
      "    0.    0.] Expected Profit: 1542798.81427\n",
      "New best strategy at iteration  718  :  [ 146.  222.  701.   49. 1039.  907.    0.    0.    0.    0.    0.    0.\n",
      "    0.    0.] Expected Profit: 1542801.2127699999\n",
      "New best strategy at iteration  718  :  [ 146.  222.  701.   50. 1038.  907.    0.    0.    0.    0.    0.    0.\n",
      "    0.    0.] Expected Profit: 1542804.0264699997\n",
      "New best strategy at iteration  718  :  [ 146.  222.  701.   50. 1039.  906.    0.    0.    0.    0.    0.    0.\n",
      "    0.    0.] Expected Profit: 1542807.26277\n"
     ]
    },
    {
     "name": "stderr",
     "output_type": "stream",
     "text": [
      "\r",
      "  0%|                                                                         | 719/1000000 [02:34<57:44:29,  4.81it/s]"
     ]
    },
    {
     "name": "stdout",
     "output_type": "stream",
     "text": [
      "New best strategy at iteration  719  :  [ 145.  222.  701.   50. 1039.  906.    0.    0.    0.    0.    0.    0.\n",
      "    0.    0.] Expected Profit: 1542810.18707\n",
      "New best strategy at iteration  719  :  [ 146.  221.  701.   50. 1039.  906.    0.    0.    0.    0.    0.    0.\n",
      "    0.    0.] Expected Profit: 1542811.6630700002\n",
      "New best strategy at iteration  719  :  [ 146.  222.  700.   50. 1039.  906.    0.    0.    0.    0.    0.    0.\n",
      "    0.    0.] Expected Profit: 1542813.58207\n",
      "New best strategy at iteration  719  :  [ 146.  222.  701.   49. 1039.  906.    0.    0.    0.    0.    0.    0.\n",
      "    0.    0.] Expected Profit: 1542815.9805699997\n",
      "New best strategy at iteration  719  :  [ 146.  222.  701.   50. 1038.  906.    0.    0.    0.    0.    0.    0.\n",
      "    0.    0.] Expected Profit: 1542818.79427\n",
      "New best strategy at iteration  719  :  [ 146.  222.  701.   50. 1039.  905.    0.    0.    0.    0.    0.    0.\n",
      "    0.    0.] Expected Profit: 1542822.0305700002\n"
     ]
    },
    {
     "name": "stderr",
     "output_type": "stream",
     "text": [
      "  0%|                                                                         | 721/1000000 [02:35<57:38:24,  4.82it/s]"
     ]
    },
    {
     "name": "stdout",
     "output_type": "stream",
     "text": [
      "New best strategy at iteration  720  :  [ 145.  222.  701.   50. 1039.  905.    0.    0.    0.    0.    0.    0.\n",
      "    0.    0.] Expected Profit: 1542824.9548700002\n",
      "New best strategy at iteration  720  :  [ 146.  221.  701.   50. 1039.  905.    0.    0.    0.    0.    0.    0.\n",
      "    0.    0.] Expected Profit: 1542826.43087\n",
      "New best strategy at iteration  720  :  [ 146.  222.  700.   50. 1039.  905.    0.    0.    0.    0.    0.    0.\n",
      "    0.    0.] Expected Profit: 1542828.3498700003\n",
      "New best strategy at iteration  720  :  [ 146.  222.  701.   49. 1039.  905.    0.    0.    0.    0.    0.    0.\n",
      "    0.    0.] Expected Profit: 1542830.74837\n",
      "New best strategy at iteration  720  :  [ 146.  222.  701.   50. 1038.  905.    0.    0.    0.    0.    0.    0.\n",
      "    0.    0.] Expected Profit: 1542833.56207\n",
      "New best strategy at iteration  720  :  [ 146.  222.  701.   50. 1039.  904.    0.    0.    0.    0.    0.    0.\n",
      "    0.    0.] Expected Profit: 1542836.7983700002\n"
     ]
    },
    {
     "name": "stderr",
     "output_type": "stream",
     "text": [
      "\r",
      "  0%|                                                                         | 722/1000000 [02:35<57:36:19,  4.82it/s]"
     ]
    },
    {
     "name": "stdout",
     "output_type": "stream",
     "text": [
      "New best strategy at iteration  721  :  [ 145.  222.  701.   50. 1039.  904.    0.    0.    0.    0.    0.    0.\n",
      "    0.    0.] Expected Profit: 1542839.72267\n",
      "New best strategy at iteration  721  :  [ 146.  221.  701.   50. 1039.  904.    0.    0.    0.    0.    0.    0.\n",
      "    0.    0.] Expected Profit: 1542841.19867\n",
      "New best strategy at iteration  721  :  [ 146.  222.  700.   50. 1039.  904.    0.    0.    0.    0.    0.    0.\n",
      "    0.    0.] Expected Profit: 1542843.11767\n",
      "New best strategy at iteration  721  :  [ 146.  222.  701.   49. 1039.  904.    0.    0.    0.    0.    0.    0.\n",
      "    0.    0.] Expected Profit: 1542845.5161699997\n",
      "New best strategy at iteration  721  :  [ 146.  222.  701.   50. 1038.  904.    0.    0.    0.    0.    0.    0.\n",
      "    0.    0.] Expected Profit: 1542848.3298699998\n",
      "New best strategy at iteration  721  :  [ 146.  222.  701.   50. 1039.  903.    0.    0.    0.    0.    0.    0.\n",
      "    0.    0.] Expected Profit: 1542851.56617\n",
      "New best strategy at iteration  722  :  [ 145.  222.  701.   50. 1039.  903.    0.    0.    0.    0.    0.    0.\n",
      "    0.    0.] Expected Profit: 1542854.49047\n",
      "New best strategy at iteration  722  :  [ 146.  221.  701.   50. 1039.  903.    0.    0.    0.    0.    0.    0.\n",
      "    0.    0.] Expected Profit: 1542855.96647\n",
      "New best strategy at iteration  722  :  [ 146.  222.  700.   50. 1039.  903.    0.    0.    0.    0.    0.    0.\n",
      "    0.    0.] Expected Profit: 1542857.8854699999\n",
      "New best strategy at iteration  722  :  [ 146.  222.  701.   49. 1039.  903.    0.    0.    0.    0.    0.    0.\n",
      "    0.    0.] Expected Profit: 1542860.2839699998\n",
      "New best strategy at iteration  722  :  [ 146.  222.  701.   50. 1038.  903.    0.    0.    0.    0.    0.    0.\n",
      "    0.    0.] Expected Profit: 1542863.0976699998\n",
      "New best strategy at iteration  722  :  [ 146.  222.  701.   50. 1039.  902.    0.    0.    0.    0.    0.    0.\n",
      "    0.    0.] Expected Profit: 1542866.3339700003\n"
     ]
    },
    {
     "name": "stderr",
     "output_type": "stream",
     "text": [
      "\r",
      "  0%|                                                                         | 723/1000000 [02:35<58:03:25,  4.78it/s]"
     ]
    },
    {
     "name": "stdout",
     "output_type": "stream",
     "text": [
      "New best strategy at iteration  723  :  [ 145.  222.  701.   50. 1039.  902.    0.    0.    0.    0.    0.    0.\n",
      "    0.    0.] Expected Profit: 1542869.2582699999\n",
      "New best strategy at iteration  723  :  [ 146.  221.  701.   50. 1039.  902.    0.    0.    0.    0.    0.    0.\n",
      "    0.    0.] Expected Profit: 1542870.73427\n",
      "New best strategy at iteration  723  :  [ 146.  222.  700.   50. 1039.  902.    0.    0.    0.    0.    0.    0.\n",
      "    0.    0.] Expected Profit: 1542872.65327\n",
      "New best strategy at iteration  723  :  [ 146.  222.  701.   49. 1039.  902.    0.    0.    0.    0.    0.    0.\n",
      "    0.    0.] Expected Profit: 1542875.05177\n",
      "New best strategy at iteration  723  :  [ 146.  222.  701.   50. 1038.  902.    0.    0.    0.    0.    0.    0.\n",
      "    0.    0.] Expected Profit: 1542877.8654699998\n",
      "New best strategy at iteration  723  :  [ 146.  222.  701.   50. 1039.  901.    0.    0.    0.    0.    0.    0.\n",
      "    0.    0.] Expected Profit: 1542881.10177\n"
     ]
    },
    {
     "name": "stderr",
     "output_type": "stream",
     "text": [
      "  0%|                                                                         | 725/1000000 [02:36<58:40:19,  4.73it/s]"
     ]
    },
    {
     "name": "stdout",
     "output_type": "stream",
     "text": [
      "New best strategy at iteration  724  :  [ 145.  222.  701.   50. 1039.  901.    0.    0.    0.    0.    0.    0.\n",
      "    0.    0.] Expected Profit: 1542884.0260700001\n",
      "New best strategy at iteration  724  :  [ 146.  221.  701.   50. 1039.  901.    0.    0.    0.    0.    0.    0.\n",
      "    0.    0.] Expected Profit: 1542885.5020700002\n",
      "New best strategy at iteration  724  :  [ 146.  222.  700.   50. 1039.  901.    0.    0.    0.    0.    0.    0.\n",
      "    0.    0.] Expected Profit: 1542887.42107\n",
      "New best strategy at iteration  724  :  [ 146.  222.  701.   49. 1039.  901.    0.    0.    0.    0.    0.    0.\n",
      "    0.    0.] Expected Profit: 1542889.8195699998\n",
      "New best strategy at iteration  724  :  [ 146.  222.  701.   50. 1038.  901.    0.    0.    0.    0.    0.    0.\n",
      "    0.    0.] Expected Profit: 1542892.6332699996\n",
      "New best strategy at iteration  724  :  [ 146.  222.  701.   50. 1039.  900.    0.    0.    0.    0.    0.    0.\n",
      "    0.    0.] Expected Profit: 1542895.86957\n"
     ]
    },
    {
     "name": "stderr",
     "output_type": "stream",
     "text": [
      "\r",
      "  0%|                                                                         | 726/1000000 [02:36<58:14:46,  4.77it/s]"
     ]
    },
    {
     "name": "stdout",
     "output_type": "stream",
     "text": [
      "New best strategy at iteration  725  :  [ 145.  222.  701.   50. 1039.  900.    0.    0.    0.    0.    0.    0.\n",
      "    0.    0.] Expected Profit: 1542898.79387\n",
      "New best strategy at iteration  725  :  [ 146.  221.  701.   50. 1039.  900.    0.    0.    0.    0.    0.    0.\n",
      "    0.    0.] Expected Profit: 1542900.26987\n",
      "New best strategy at iteration  725  :  [ 146.  222.  700.   50. 1039.  900.    0.    0.    0.    0.    0.    0.\n",
      "    0.    0.] Expected Profit: 1542902.1888700002\n",
      "New best strategy at iteration  725  :  [ 146.  222.  701.   49. 1039.  900.    0.    0.    0.    0.    0.    0.\n",
      "    0.    0.] Expected Profit: 1542904.5873699998\n",
      "New best strategy at iteration  725  :  [ 146.  222.  701.   50. 1038.  900.    0.    0.    0.    0.    0.    0.\n",
      "    0.    0.] Expected Profit: 1542907.4010699997\n",
      "New best strategy at iteration  725  :  [ 146.  222.  701.   50. 1039.  899.    0.    0.    0.    0.    0.    0.\n",
      "    0.    0.] Expected Profit: 1542910.6373700001\n"
     ]
    },
    {
     "name": "stderr",
     "output_type": "stream",
     "text": [
      "\r",
      "  0%|                                                                         | 727/1000000 [02:36<57:59:53,  4.79it/s]"
     ]
    },
    {
     "name": "stdout",
     "output_type": "stream",
     "text": [
      "New best strategy at iteration  726  :  [ 145.  222.  701.   50. 1039.  899.    0.    0.    0.    0.    0.    0.\n",
      "    0.    0.] Expected Profit: 1542913.56167\n",
      "New best strategy at iteration  726  :  [ 146.  221.  701.   50. 1039.  899.    0.    0.    0.    0.    0.    0.\n",
      "    0.    0.] Expected Profit: 1542915.03767\n",
      "New best strategy at iteration  726  :  [ 146.  222.  700.   50. 1039.  899.    0.    0.    0.    0.    0.    0.\n",
      "    0.    0.] Expected Profit: 1542916.95667\n",
      "New best strategy at iteration  726  :  [ 146.  222.  701.   49. 1039.  899.    0.    0.    0.    0.    0.    0.\n",
      "    0.    0.] Expected Profit: 1542919.35517\n",
      "New best strategy at iteration  726  :  [ 146.  222.  701.   50. 1038.  899.    0.    0.    0.    0.    0.    0.\n",
      "    0.    0.] Expected Profit: 1542922.1688700002\n",
      "New best strategy at iteration  726  :  [ 146.  222.  701.   50. 1039.  898.    0.    0.    0.    0.    0.    0.\n",
      "    0.    0.] Expected Profit: 1542925.4051700002\n",
      "New best strategy at iteration  727  :  [ 145.  222.  701.   50. 1039.  898.    0.    0.    0.    0.    0.    0.\n",
      "    0.    0.] Expected Profit: 1542928.32947\n",
      "New best strategy at iteration  727  :  [ 146.  221.  701.   50. 1039.  898.    0.    0.    0.    0.    0.    0.\n",
      "    0.    0.] Expected Profit: 1542929.80547\n",
      "New best strategy at iteration  727  :  [ 146.  222.  700.   50. 1039.  898.    0.    0.    0.    0.    0.    0.\n",
      "    0.    0.] Expected Profit: 1542931.72447\n",
      "New best strategy at iteration  727  :  [ 146.  222.  701.   49. 1039.  898.    0.    0.    0.    0.    0.    0.\n",
      "    0.    0.] Expected Profit: 1542934.1229700001\n",
      "New best strategy at iteration  727  :  [ 146.  222.  701.   50. 1038.  898.    0.    0.    0.    0.    0.    0.\n",
      "    0.    0.] Expected Profit: 1542936.9366699997\n",
      "New best strategy at iteration  727  :  [ 146.  222.  701.   50. 1039.  897.    0.    0.    0.    0.    0.    0.\n",
      "    0.    0.] Expected Profit: 1542940.17297\n"
     ]
    },
    {
     "name": "stderr",
     "output_type": "stream",
     "text": [
      "  0%|                                                                         | 729/1000000 [02:37<56:55:20,  4.88it/s]"
     ]
    },
    {
     "name": "stdout",
     "output_type": "stream",
     "text": [
      "New best strategy at iteration  728  :  [ 145.  222.  701.   50. 1039.  897.    0.    0.    0.    0.    0.    0.\n",
      "    0.    0.] Expected Profit: 1542943.09727\n",
      "New best strategy at iteration  728  :  [ 146.  221.  701.   50. 1039.  897.    0.    0.    0.    0.    0.    0.\n",
      "    0.    0.] Expected Profit: 1542944.57327\n",
      "New best strategy at iteration  728  :  [ 146.  222.  700.   50. 1039.  897.    0.    0.    0.    0.    0.    0.\n",
      "    0.    0.] Expected Profit: 1542946.49227\n",
      "New best strategy at iteration  728  :  [ 146.  222.  701.   49. 1039.  897.    0.    0.    0.    0.    0.    0.\n",
      "    0.    0.] Expected Profit: 1542948.89077\n",
      "New best strategy at iteration  728  :  [ 146.  222.  701.   50. 1038.  897.    0.    0.    0.    0.    0.    0.\n",
      "    0.    0.] Expected Profit: 1542951.7044699998\n",
      "New best strategy at iteration  728  :  [ 146.  222.  701.   50. 1039.  896.    0.    0.    0.    0.    0.    0.\n",
      "    0.    0.] Expected Profit: 1542954.94077\n",
      "New best strategy at iteration  729  :  [ 145.  222.  701.   50. 1039.  896.    0.    0.    0.    0.    0.    0.\n",
      "    0.    0.] Expected Profit: 1542957.8650699996\n"
     ]
    },
    {
     "name": "stderr",
     "output_type": "stream",
     "text": [
      "\r",
      "  0%|                                                                         | 730/1000000 [02:37<57:04:27,  4.86it/s]"
     ]
    },
    {
     "name": "stdout",
     "output_type": "stream",
     "text": [
      "New best strategy at iteration  729  :  [ 146.  221.  701.   50. 1039.  896.    0.    0.    0.    0.    0.    0.\n",
      "    0.    0.] Expected Profit: 1542959.3410699998\n",
      "New best strategy at iteration  729  :  [ 146.  222.  700.   50. 1039.  896.    0.    0.    0.    0.    0.    0.\n",
      "    0.    0.] Expected Profit: 1542961.2600699998\n",
      "New best strategy at iteration  729  :  [ 146.  222.  701.   49. 1039.  896.    0.    0.    0.    0.    0.    0.\n",
      "    0.    0.] Expected Profit: 1542963.6585699997\n",
      "New best strategy at iteration  729  :  [ 146.  222.  701.   50. 1038.  896.    0.    0.    0.    0.    0.    0.\n",
      "    0.    0.] Expected Profit: 1542966.4722699998\n",
      "New best strategy at iteration  729  :  [ 146.  222.  701.   50. 1039.  895.    0.    0.    0.    0.    0.    0.\n",
      "    0.    0.] Expected Profit: 1542969.7085700002\n",
      "New best strategy at iteration  730  :  [ 145.  222.  701.   50. 1039.  895.    0.    0.    0.    0.    0.    0.\n",
      "    0.    0.] Expected Profit: 1542972.6328699999\n"
     ]
    },
    {
     "name": "stderr",
     "output_type": "stream",
     "text": [
      "\r",
      "  0%|                                                                         | 731/1000000 [02:37<57:07:46,  4.86it/s]"
     ]
    },
    {
     "name": "stdout",
     "output_type": "stream",
     "text": [
      "New best strategy at iteration  730  :  [ 146.  221.  701.   50. 1039.  895.    0.    0.    0.    0.    0.    0.\n",
      "    0.    0.] Expected Profit: 1542974.10887\n",
      "New best strategy at iteration  730  :  [ 146.  222.  700.   50. 1039.  895.    0.    0.    0.    0.    0.    0.\n",
      "    0.    0.] Expected Profit: 1542976.0278699999\n",
      "New best strategy at iteration  730  :  [ 146.  222.  701.   49. 1039.  895.    0.    0.    0.    0.    0.    0.\n",
      "    0.    0.] Expected Profit: 1542978.4263700002\n",
      "New best strategy at iteration  730  :  [ 146.  222.  701.   50. 1038.  895.    0.    0.    0.    0.    0.    0.\n",
      "    0.    0.] Expected Profit: 1542981.2400699998\n",
      "New best strategy at iteration  730  :  [ 146.  222.  701.   50. 1039.  894.    0.    0.    0.    0.    0.    0.\n",
      "    0.    0.] Expected Profit: 1542984.47637\n",
      "New best strategy at iteration  731  :  [ 145.  222.  701.   50. 1039.  894.    0.    0.    0.    0.    0.    0.\n",
      "    0.    0.] Expected Profit: 1542987.4006700001\n"
     ]
    },
    {
     "name": "stderr",
     "output_type": "stream",
     "text": [
      "\r",
      "  0%|                                                                         | 732/1000000 [02:37<57:27:04,  4.83it/s]"
     ]
    },
    {
     "name": "stdout",
     "output_type": "stream",
     "text": [
      "New best strategy at iteration  731  :  [ 146.  221.  701.   50. 1039.  894.    0.    0.    0.    0.    0.    0.\n",
      "    0.    0.] Expected Profit: 1542988.8766700001\n",
      "New best strategy at iteration  731  :  [ 146.  222.  700.   50. 1039.  894.    0.    0.    0.    0.    0.    0.\n",
      "    0.    0.] Expected Profit: 1542990.7956700001\n",
      "New best strategy at iteration  731  :  [ 146.  222.  701.   49. 1039.  894.    0.    0.    0.    0.    0.    0.\n",
      "    0.    0.] Expected Profit: 1542993.1941699998\n",
      "New best strategy at iteration  731  :  [ 146.  222.  701.   50. 1038.  894.    0.    0.    0.    0.    0.    0.\n",
      "    0.    0.] Expected Profit: 1542996.0078699999\n",
      "New best strategy at iteration  731  :  [ 146.  222.  701.   50. 1039.  893.    0.    0.    0.    0.    0.    0.\n",
      "    0.    0.] Expected Profit: 1542999.24417\n",
      "New best strategy at iteration  732  :  [ 145.  222.  701.   50. 1039.  893.    0.    0.    0.    0.    0.    0.\n",
      "    0.    0.] Expected Profit: 1543002.16847\n",
      "New best strategy at iteration  732  :  [ 146.  221.  701.   50. 1039.  893.    0.    0.    0.    0.    0.    0.\n",
      "    0.    0.] Expected Profit: 1543003.6444699997\n"
     ]
    },
    {
     "name": "stderr",
     "output_type": "stream",
     "text": [
      "\r",
      "  0%|                                                                         | 733/1000000 [02:37<57:17:51,  4.84it/s]"
     ]
    },
    {
     "name": "stdout",
     "output_type": "stream",
     "text": [
      "New best strategy at iteration  732  :  [ 146.  222.  700.   50. 1039.  893.    0.    0.    0.    0.    0.    0.\n",
      "    0.    0.] Expected Profit: 1543005.5634699997\n",
      "New best strategy at iteration  732  :  [ 146.  222.  701.   49. 1039.  893.    0.    0.    0.    0.    0.    0.\n",
      "    0.    0.] Expected Profit: 1543007.9619699998\n",
      "New best strategy at iteration  732  :  [ 146.  222.  701.   50. 1038.  893.    0.    0.    0.    0.    0.    0.\n",
      "    0.    0.] Expected Profit: 1543010.77567\n",
      "New best strategy at iteration  732  :  [ 146.  222.  701.   50. 1039.  892.    0.    0.    0.    0.    0.    0.\n",
      "    0.    0.] Expected Profit: 1543014.0119699999\n",
      "New best strategy at iteration  733  :  [ 145.  222.  701.   50. 1039.  892.    0.    0.    0.    0.    0.    0.\n",
      "    0.    0.] Expected Profit: 1543016.93627\n",
      "New best strategy at iteration  733  :  [ 146.  221.  701.   50. 1039.  892.    0.    0.    0.    0.    0.    0.\n",
      "    0.    0.] Expected Profit: 1543018.41227\n",
      "New best strategy at iteration  733  :  [ 146.  222.  700.   50. 1039.  892.    0.    0.    0.    0.    0.    0.\n",
      "    0.    0.] Expected Profit: 1543020.33127\n"
     ]
    },
    {
     "name": "stderr",
     "output_type": "stream",
     "text": [
      "\r",
      "  0%|                                                                         | 734/1000000 [02:38<57:34:17,  4.82it/s]"
     ]
    },
    {
     "name": "stdout",
     "output_type": "stream",
     "text": [
      "New best strategy at iteration  733  :  [ 146.  222.  701.   49. 1039.  892.    0.    0.    0.    0.    0.    0.\n",
      "    0.    0.] Expected Profit: 1543022.72977\n",
      "New best strategy at iteration  733  :  [ 146.  222.  701.   50. 1038.  892.    0.    0.    0.    0.    0.    0.\n",
      "    0.    0.] Expected Profit: 1543025.5434699997\n",
      "New best strategy at iteration  733  :  [ 146.  222.  701.   50. 1039.  891.    0.    0.    0.    0.    0.    0.\n",
      "    0.    0.] Expected Profit: 1543028.77977\n",
      "New best strategy at iteration  734  :  [ 145.  222.  701.   50. 1039.  891.    0.    0.    0.    0.    0.    0.\n",
      "    0.    0.] Expected Profit: 1543031.70407\n",
      "New best strategy at iteration  734  :  [ 146.  221.  701.   50. 1039.  891.    0.    0.    0.    0.    0.    0.\n",
      "    0.    0.] Expected Profit: 1543033.1800700002\n",
      "New best strategy at iteration  734  :  [ 146.  222.  700.   50. 1039.  891.    0.    0.    0.    0.    0.    0.\n",
      "    0.    0.] Expected Profit: 1543035.0990700002\n"
     ]
    },
    {
     "name": "stderr",
     "output_type": "stream",
     "text": [
      "\r",
      "  0%|                                                                         | 735/1000000 [02:38<57:33:35,  4.82it/s]"
     ]
    },
    {
     "name": "stdout",
     "output_type": "stream",
     "text": [
      "New best strategy at iteration  734  :  [ 146.  222.  701.   49. 1039.  891.    0.    0.    0.    0.    0.    0.\n",
      "    0.    0.] Expected Profit: 1543037.49757\n",
      "New best strategy at iteration  734  :  [ 146.  222.  701.   50. 1038.  891.    0.    0.    0.    0.    0.    0.\n",
      "    0.    0.] Expected Profit: 1543040.31127\n",
      "New best strategy at iteration  734  :  [ 146.  222.  701.   50. 1039.  890.    0.    0.    0.    0.    0.    0.\n",
      "    0.    0.] Expected Profit: 1543043.54757\n",
      "New best strategy at iteration  735  :  [ 145.  222.  701.   50. 1039.  890.    0.    0.    0.    0.    0.    0.\n",
      "    0.    0.] Expected Profit: 1543046.4718699998\n",
      "New best strategy at iteration  735  :  [ 146.  221.  701.   50. 1039.  890.    0.    0.    0.    0.    0.    0.\n",
      "    0.    0.] Expected Profit: 1543047.94787\n",
      "New best strategy at iteration  735  :  [ 146.  222.  700.   50. 1039.  890.    0.    0.    0.    0.    0.    0.\n",
      "    0.    0.] Expected Profit: 1543049.8668699998\n",
      "New best strategy at iteration  735  :  [ 146.  222.  701.   49. 1039.  890.    0.    0.    0.    0.    0.    0.\n",
      "    0.    0.] Expected Profit: 1543052.26537\n"
     ]
    },
    {
     "name": "stderr",
     "output_type": "stream",
     "text": [
      "\r",
      "  0%|                                                                         | 736/1000000 [02:38<57:23:00,  4.84it/s]"
     ]
    },
    {
     "name": "stdout",
     "output_type": "stream",
     "text": [
      "New best strategy at iteration  735  :  [ 146.  222.  701.   50. 1038.  890.    0.    0.    0.    0.    0.    0.\n",
      "    0.    0.] Expected Profit: 1543055.07907\n",
      "New best strategy at iteration  735  :  [ 146.  222.  701.   50. 1039.  889.    0.    0.    0.    0.    0.    0.\n",
      "    0.    0.] Expected Profit: 1543058.31537\n",
      "New best strategy at iteration  736  :  [ 145.  222.  701.   50. 1039.  889.    0.    0.    0.    0.    0.    0.\n",
      "    0.    0.] Expected Profit: 1543061.23967\n",
      "New best strategy at iteration  736  :  [ 146.  221.  701.   50. 1039.  889.    0.    0.    0.    0.    0.    0.\n",
      "    0.    0.] Expected Profit: 1543062.71567\n",
      "New best strategy at iteration  736  :  [ 146.  222.  700.   50. 1039.  889.    0.    0.    0.    0.    0.    0.\n",
      "    0.    0.] Expected Profit: 1543064.63467\n",
      "New best strategy at iteration  736  :  [ 146.  222.  701.   49. 1039.  889.    0.    0.    0.    0.    0.    0.\n",
      "    0.    0.] Expected Profit: 1543067.03317\n"
     ]
    },
    {
     "name": "stderr",
     "output_type": "stream",
     "text": [
      "\r",
      "  0%|                                                                         | 737/1000000 [02:38<58:41:16,  4.73it/s]"
     ]
    },
    {
     "name": "stdout",
     "output_type": "stream",
     "text": [
      "New best strategy at iteration  736  :  [ 146.  222.  701.   50. 1038.  889.    0.    0.    0.    0.    0.    0.\n",
      "    0.    0.] Expected Profit: 1543069.8468699998\n",
      "New best strategy at iteration  736  :  [ 146.  222.  701.   50. 1039.  888.    0.    0.    0.    0.    0.    0.\n",
      "    0.    0.] Expected Profit: 1543073.08317\n",
      "New best strategy at iteration  737  :  [ 145.  222.  701.   50. 1039.  888.    0.    0.    0.    0.    0.    0.\n",
      "    0.    0.] Expected Profit: 1543076.00747\n",
      "New best strategy at iteration  737  :  [ 146.  221.  701.   50. 1039.  888.    0.    0.    0.    0.    0.    0.\n",
      "    0.    0.] Expected Profit: 1543077.4834700003\n",
      "New best strategy at iteration  737  :  [ 146.  222.  700.   50. 1039.  888.    0.    0.    0.    0.    0.    0.\n",
      "    0.    0.] Expected Profit: 1543079.40247\n",
      "New best strategy at iteration  737  :  [ 146.  222.  701.   49. 1039.  888.    0.    0.    0.    0.    0.    0.\n",
      "    0.    0.] Expected Profit: 1543081.80097\n"
     ]
    },
    {
     "name": "stderr",
     "output_type": "stream",
     "text": [
      "\r",
      "  0%|                                                                         | 738/1000000 [02:38<58:44:04,  4.73it/s]"
     ]
    },
    {
     "name": "stdout",
     "output_type": "stream",
     "text": [
      "New best strategy at iteration  737  :  [ 146.  222.  701.   50. 1038.  888.    0.    0.    0.    0.    0.    0.\n",
      "    0.    0.] Expected Profit: 1543084.6146699998\n",
      "New best strategy at iteration  737  :  [ 146.  222.  701.   50. 1039.  887.    0.    0.    0.    0.    0.    0.\n",
      "    0.    0.] Expected Profit: 1543087.85097\n",
      "New best strategy at iteration  738  :  [ 145.  222.  701.   50. 1039.  887.    0.    0.    0.    0.    0.    0.\n",
      "    0.    0.] Expected Profit: 1543090.7752699999\n",
      "New best strategy at iteration  738  :  [ 146.  221.  701.   50. 1039.  887.    0.    0.    0.    0.    0.    0.\n",
      "    0.    0.] Expected Profit: 1543092.25127\n",
      "New best strategy at iteration  738  :  [ 146.  222.  700.   50. 1039.  887.    0.    0.    0.    0.    0.    0.\n",
      "    0.    0.] Expected Profit: 1543094.17027\n",
      "New best strategy at iteration  738  :  [ 146.  222.  701.   49. 1039.  887.    0.    0.    0.    0.    0.    0.\n",
      "    0.    0.] Expected Profit: 1543096.56877\n"
     ]
    },
    {
     "name": "stderr",
     "output_type": "stream",
     "text": [
      "\r",
      "  0%|                                                                         | 739/1000000 [02:39<59:17:56,  4.68it/s]"
     ]
    },
    {
     "name": "stdout",
     "output_type": "stream",
     "text": [
      "New best strategy at iteration  738  :  [ 146.  222.  701.   50. 1038.  887.    0.    0.    0.    0.    0.    0.\n",
      "    0.    0.] Expected Profit: 1543099.3824699998\n",
      "New best strategy at iteration  738  :  [ 146.  222.  701.   50. 1039.  886.    0.    0.    0.    0.    0.    0.\n",
      "    0.    0.] Expected Profit: 1543102.61877\n",
      "New best strategy at iteration  739  :  [ 145.  222.  701.   50. 1039.  886.    0.    0.    0.    0.    0.    0.\n",
      "    0.    0.] Expected Profit: 1543105.54307\n",
      "New best strategy at iteration  739  :  [ 146.  221.  701.   50. 1039.  886.    0.    0.    0.    0.    0.    0.\n",
      "    0.    0.] Expected Profit: 1543107.0190700002\n",
      "New best strategy at iteration  739  :  [ 146.  222.  700.   50. 1039.  886.    0.    0.    0.    0.    0.    0.\n",
      "    0.    0.] Expected Profit: 1543108.93807\n",
      "New best strategy at iteration  739  :  [ 146.  222.  701.   49. 1039.  886.    0.    0.    0.    0.    0.    0.\n",
      "    0.    0.] Expected Profit: 1543111.3365699998\n"
     ]
    },
    {
     "name": "stderr",
     "output_type": "stream",
     "text": [
      "\r",
      "  0%|                                                                         | 740/1000000 [02:39<58:47:22,  4.72it/s]"
     ]
    },
    {
     "name": "stdout",
     "output_type": "stream",
     "text": [
      "New best strategy at iteration  739  :  [ 146.  222.  701.   50. 1038.  886.    0.    0.    0.    0.    0.    0.\n",
      "    0.    0.] Expected Profit: 1543114.1502699996\n",
      "New best strategy at iteration  739  :  [ 146.  222.  701.   50. 1039.  885.    0.    0.    0.    0.    0.    0.\n",
      "    0.    0.] Expected Profit: 1543117.38657\n",
      "New best strategy at iteration  740  :  [ 145.  222.  701.   50. 1039.  885.    0.    0.    0.    0.    0.    0.\n",
      "    0.    0.] Expected Profit: 1543120.3108700002\n",
      "New best strategy at iteration  740  :  [ 146.  221.  701.   50. 1039.  885.    0.    0.    0.    0.    0.    0.\n",
      "    0.    0.] Expected Profit: 1543121.7868700002\n",
      "New best strategy at iteration  740  :  [ 146.  222.  700.   50. 1039.  885.    0.    0.    0.    0.    0.    0.\n",
      "    0.    0.] Expected Profit: 1543123.7058700002\n",
      "New best strategy at iteration  740  :  [ 146.  222.  701.   49. 1039.  885.    0.    0.    0.    0.    0.    0.\n",
      "    0.    0.] Expected Profit: 1543126.1043699998\n"
     ]
    },
    {
     "name": "stderr",
     "output_type": "stream",
     "text": [
      "\r",
      "  0%|                                                                         | 741/1000000 [02:39<59:35:44,  4.66it/s]"
     ]
    },
    {
     "name": "stdout",
     "output_type": "stream",
     "text": [
      "New best strategy at iteration  740  :  [ 146.  222.  701.   50. 1038.  885.    0.    0.    0.    0.    0.    0.\n",
      "    0.    0.] Expected Profit: 1543128.91807\n",
      "New best strategy at iteration  740  :  [ 146.  222.  701.   50. 1039.  884.    0.    0.    0.    0.    0.    0.\n",
      "    0.    0.] Expected Profit: 1543132.15437\n",
      "New best strategy at iteration  741  :  [ 145.  222.  701.   50. 1039.  884.    0.    0.    0.    0.    0.    0.\n",
      "    0.    0.] Expected Profit: 1543135.0786700002\n",
      "New best strategy at iteration  741  :  [ 146.  221.  701.   50. 1039.  884.    0.    0.    0.    0.    0.    0.\n",
      "    0.    0.] Expected Profit: 1543136.55467\n",
      "New best strategy at iteration  741  :  [ 146.  222.  700.   50. 1039.  884.    0.    0.    0.    0.    0.    0.\n",
      "    0.    0.] Expected Profit: 1543138.47367\n"
     ]
    },
    {
     "name": "stderr",
     "output_type": "stream",
     "text": [
      "\r",
      "  0%|                                                                         | 742/1000000 [02:39<60:07:07,  4.62it/s]"
     ]
    },
    {
     "name": "stdout",
     "output_type": "stream",
     "text": [
      "New best strategy at iteration  741  :  [ 146.  222.  701.   49. 1039.  884.    0.    0.    0.    0.    0.    0.\n",
      "    0.    0.] Expected Profit: 1543140.87217\n",
      "New best strategy at iteration  741  :  [ 146.  222.  701.   50. 1038.  884.    0.    0.    0.    0.    0.    0.\n",
      "    0.    0.] Expected Profit: 1543143.68587\n",
      "New best strategy at iteration  741  :  [ 146.  222.  701.   50. 1039.  883.    0.    0.    0.    0.    0.    0.\n",
      "    0.    0.] Expected Profit: 1543146.9221700002\n",
      "New best strategy at iteration  742  :  [ 145.  222.  701.   50. 1039.  883.    0.    0.    0.    0.    0.    0.\n",
      "    0.    0.] Expected Profit: 1543149.84647\n",
      "New best strategy at iteration  742  :  [ 146.  221.  701.   50. 1039.  883.    0.    0.    0.    0.    0.    0.\n",
      "    0.    0.] Expected Profit: 1543151.32247\n",
      "New best strategy at iteration  742  :  [ 146.  222.  700.   50. 1039.  883.    0.    0.    0.    0.    0.    0.\n",
      "    0.    0.] Expected Profit: 1543153.24147\n"
     ]
    },
    {
     "name": "stderr",
     "output_type": "stream",
     "text": [
      "\r",
      "  0%|                                                                         | 743/1000000 [02:39<60:49:07,  4.56it/s]"
     ]
    },
    {
     "name": "stdout",
     "output_type": "stream",
     "text": [
      "New best strategy at iteration  742  :  [ 146.  222.  701.   49. 1039.  883.    0.    0.    0.    0.    0.    0.\n",
      "    0.    0.] Expected Profit: 1543155.63997\n",
      "New best strategy at iteration  742  :  [ 146.  222.  701.   50. 1038.  883.    0.    0.    0.    0.    0.    0.\n",
      "    0.    0.] Expected Profit: 1543158.4536699997\n",
      "New best strategy at iteration  742  :  [ 146.  222.  701.   50. 1039.  882.    0.    0.    0.    0.    0.    0.\n",
      "    0.    0.] Expected Profit: 1543161.6899699997\n",
      "New best strategy at iteration  743  :  [ 145.  222.  701.   50. 1039.  882.    0.    0.    0.    0.    0.    0.\n",
      "    0.    0.] Expected Profit: 1543164.61427\n",
      "New best strategy at iteration  743  :  [ 146.  221.  701.   50. 1039.  882.    0.    0.    0.    0.    0.    0.\n",
      "    0.    0.] Expected Profit: 1543166.09027\n",
      "New best strategy at iteration  743  :  [ 146.  222.  700.   50. 1039.  882.    0.    0.    0.    0.    0.    0.\n",
      "    0.    0.] Expected Profit: 1543168.00927\n"
     ]
    },
    {
     "name": "stderr",
     "output_type": "stream",
     "text": [
      "\r",
      "  0%|                                                                         | 744/1000000 [02:40<59:42:58,  4.65it/s]"
     ]
    },
    {
     "name": "stdout",
     "output_type": "stream",
     "text": [
      "New best strategy at iteration  743  :  [ 146.  222.  701.   49. 1039.  882.    0.    0.    0.    0.    0.    0.\n",
      "    0.    0.] Expected Profit: 1543170.4077699997\n",
      "New best strategy at iteration  743  :  [ 146.  222.  701.   50. 1038.  882.    0.    0.    0.    0.    0.    0.\n",
      "    0.    0.] Expected Profit: 1543173.2214699998\n",
      "New best strategy at iteration  743  :  [ 146.  222.  701.   50. 1039.  881.    0.    0.    0.    0.    0.    0.\n",
      "    0.    0.] Expected Profit: 1543176.45777\n",
      "New best strategy at iteration  744  :  [ 145.  222.  701.   50. 1039.  881.    0.    0.    0.    0.    0.    0.\n",
      "    0.    0.] Expected Profit: 1543179.3820699998\n",
      "New best strategy at iteration  744  :  [ 146.  221.  701.   50. 1039.  881.    0.    0.    0.    0.    0.    0.\n",
      "    0.    0.] Expected Profit: 1543180.85807\n",
      "New best strategy at iteration  744  :  [ 146.  222.  700.   50. 1039.  881.    0.    0.    0.    0.    0.    0.\n",
      "    0.    0.] Expected Profit: 1543182.77707\n"
     ]
    },
    {
     "name": "stderr",
     "output_type": "stream",
     "text": [
      "\r",
      "  0%|                                                                         | 745/1000000 [02:40<59:05:45,  4.70it/s]"
     ]
    },
    {
     "name": "stdout",
     "output_type": "stream",
     "text": [
      "New best strategy at iteration  744  :  [ 146.  222.  701.   49. 1039.  881.    0.    0.    0.    0.    0.    0.\n",
      "    0.    0.] Expected Profit: 1543185.1755700002\n",
      "New best strategy at iteration  744  :  [ 146.  222.  701.   50. 1038.  881.    0.    0.    0.    0.    0.    0.\n",
      "    0.    0.] Expected Profit: 1543187.98927\n",
      "New best strategy at iteration  744  :  [ 146.  222.  701.   50. 1039.  880.    0.    0.    0.    0.    0.    0.\n",
      "    0.    0.] Expected Profit: 1543191.2255700002\n",
      "New best strategy at iteration  745  :  [ 145.  222.  701.   50. 1039.  880.    0.    0.    0.    0.    0.    0.\n",
      "    0.    0.] Expected Profit: 1543194.1498699998\n",
      "New best strategy at iteration  745  :  [ 146.  221.  701.   50. 1039.  880.    0.    0.    0.    0.    0.    0.\n",
      "    0.    0.] Expected Profit: 1543195.6258699999\n",
      "New best strategy at iteration  745  :  [ 146.  222.  700.   50. 1039.  880.    0.    0.    0.    0.    0.    0.\n",
      "    0.    0.] Expected Profit: 1543197.5448699999\n"
     ]
    },
    {
     "name": "stderr",
     "output_type": "stream",
     "text": [
      "\r",
      "  0%|                                                                         | 746/1000000 [02:40<58:44:47,  4.72it/s]"
     ]
    },
    {
     "name": "stdout",
     "output_type": "stream",
     "text": [
      "New best strategy at iteration  745  :  [ 146.  222.  701.   49. 1039.  880.    0.    0.    0.    0.    0.    0.\n",
      "    0.    0.] Expected Profit: 1543199.94337\n",
      "New best strategy at iteration  745  :  [ 146.  222.  701.   50. 1038.  880.    0.    0.    0.    0.    0.    0.\n",
      "    0.    0.] Expected Profit: 1543202.7570699998\n",
      "New best strategy at iteration  745  :  [ 146.  222.  701.   50. 1039.  879.    0.    0.    0.    0.    0.    0.\n",
      "    0.    0.] Expected Profit: 1543205.9933699998\n",
      "New best strategy at iteration  746  :  [ 145.  222.  701.   50. 1039.  879.    0.    0.    0.    0.    0.    0.\n",
      "    0.    0.] Expected Profit: 1543208.91767\n",
      "New best strategy at iteration  746  :  [ 146.  221.  701.   50. 1039.  879.    0.    0.    0.    0.    0.    0.\n",
      "    0.    0.] Expected Profit: 1543210.39367\n",
      "New best strategy at iteration  746  :  [ 146.  222.  700.   50. 1039.  879.    0.    0.    0.    0.    0.    0.\n",
      "    0.    0.] Expected Profit: 1543212.3126700001\n",
      "New best strategy at iteration  746  :  [ 146.  222.  701.   49. 1039.  879.    0.    0.    0.    0.    0.    0.\n",
      "    0.    0.] Expected Profit: 1543214.71117\n"
     ]
    },
    {
     "name": "stderr",
     "output_type": "stream",
     "text": [
      "\r",
      "  0%|                                                                         | 747/1000000 [02:40<58:31:50,  4.74it/s]"
     ]
    },
    {
     "name": "stdout",
     "output_type": "stream",
     "text": [
      "New best strategy at iteration  746  :  [ 146.  222.  701.   50. 1038.  879.    0.    0.    0.    0.    0.    0.\n",
      "    0.    0.] Expected Profit: 1543217.5248699998\n",
      "New best strategy at iteration  746  :  [ 146.  222.  701.   50. 1039.  878.    0.    0.    0.    0.    0.    0.\n",
      "    0.    0.] Expected Profit: 1543220.7611699998\n",
      "New best strategy at iteration  747  :  [ 145.  222.  701.   50. 1039.  878.    0.    0.    0.    0.    0.    0.\n",
      "    0.    0.] Expected Profit: 1543223.6854700001\n",
      "New best strategy at iteration  747  :  [ 146.  221.  701.   50. 1039.  878.    0.    0.    0.    0.    0.    0.\n",
      "    0.    0.] Expected Profit: 1543225.1614699997\n",
      "New best strategy at iteration  747  :  [ 146.  222.  700.   50. 1039.  878.    0.    0.    0.    0.    0.    0.\n",
      "    0.    0.] Expected Profit: 1543227.08047\n",
      "New best strategy at iteration  747  :  [ 146.  222.  701.   49. 1039.  878.    0.    0.    0.    0.    0.    0.\n",
      "    0.    0.] Expected Profit: 1543229.4789699998\n",
      "New best strategy at iteration  747  :  [ 146.  222.  701.   50. 1038.  878.    0.    0.    0.    0.    0.    0.\n",
      "    0.    0.] Expected Profit: 1543232.2926699999\n"
     ]
    },
    {
     "name": "stderr",
     "output_type": "stream",
     "text": [
      "  0%|                                                                         | 748/1000000 [02:41<59:47:42,  4.64it/s]"
     ]
    },
    {
     "name": "stdout",
     "output_type": "stream",
     "text": [
      "New best strategy at iteration  747  :  [ 146.  222.  701.   50. 1039.  877.    0.    0.    0.    0.    0.    0.\n",
      "    0.    0.] Expected Profit: 1543235.5289699999\n",
      "New best strategy at iteration  748  :  [ 145.  222.  701.   50. 1039.  877.    0.    0.    0.    0.    0.    0.\n",
      "    0.    0.] Expected Profit: 1543238.45327\n",
      "New best strategy at iteration  748  :  [ 146.  221.  701.   50. 1039.  877.    0.    0.    0.    0.    0.    0.\n",
      "    0.    0.] Expected Profit: 1543239.92927\n"
     ]
    },
    {
     "name": "stderr",
     "output_type": "stream",
     "text": [
      "\n"
     ]
    },
    {
     "ename": "KeyboardInterrupt",
     "evalue": "",
     "output_type": "error",
     "traceback": [
      "\u001b[1;31m---------------------------------------------------------------------------\u001b[0m",
      "\u001b[1;31mKeyboardInterrupt\u001b[0m                         Traceback (most recent call last)",
      "Cell \u001b[1;32mIn[36], line 13\u001b[0m\n\u001b[0;32m     11\u001b[0m similar_strategies \u001b[38;5;241m=\u001b[39m get_similar_strategies(curr_strat)\n\u001b[0;32m     12\u001b[0m \u001b[38;5;28;01mfor\u001b[39;00m strat \u001b[38;5;129;01min\u001b[39;00m similar_strategies:\n\u001b[1;32m---> 13\u001b[0m     curr_strat_expected_profit \u001b[38;5;241m=\u001b[39m \u001b[43mget_expected_value_of_strategy\u001b[49m\u001b[43m(\u001b[49m\u001b[43mstrat\u001b[49m\u001b[43m,\u001b[49m\u001b[43m \u001b[49m\u001b[43mscenario_list\u001b[49m\u001b[43m[\u001b[49m\u001b[38;5;124;43m'\u001b[39;49m\u001b[38;5;124;43mprice [$/bushel]\u001b[39;49m\u001b[38;5;124;43m'\u001b[39;49m\u001b[43m]\u001b[49m\u001b[43m,\u001b[49m\u001b[43m \u001b[49m\u001b[43mscenario_list\u001b[49m\u001b[43m[\u001b[49m\u001b[38;5;124;43m'\u001b[39;49m\u001b[38;5;124;43myield [thousands of bushels]\u001b[39;49m\u001b[38;5;124;43m'\u001b[39;49m\u001b[43m]\u001b[49m\u001b[43m,\u001b[49m\u001b[43m \u001b[49m\u001b[43mprices_list\u001b[49m\u001b[43m)\u001b[49m\n\u001b[0;32m     14\u001b[0m     \u001b[38;5;28;01mif\u001b[39;00m curr_strat_expected_profit \u001b[38;5;241m>\u001b[39m best_expected_profit:\n\u001b[0;32m     15\u001b[0m         best_expected_profit \u001b[38;5;241m=\u001b[39m curr_strat_expected_profit\n",
      "Cell \u001b[1;32mIn[32], line 4\u001b[0m, in \u001b[0;36mget_expected_value_of_strategy\u001b[1;34m(strategy, market_prices, yields, option_prices, return_quantiles)\u001b[0m\n\u001b[0;32m      2\u001b[0m profits \u001b[38;5;241m=\u001b[39m []\n\u001b[0;32m      3\u001b[0m \u001b[38;5;28;01mfor\u001b[39;00m i \u001b[38;5;129;01min\u001b[39;00m \u001b[38;5;28mrange\u001b[39m(\u001b[38;5;241m1000\u001b[39m):\n\u001b[1;32m----> 4\u001b[0m     curr_profit \u001b[38;5;241m=\u001b[39m \u001b[43mprofit\u001b[49m\u001b[43m(\u001b[49m\u001b[43moption_prices\u001b[49m\u001b[43m,\u001b[49m\u001b[43m \u001b[49m\u001b[43myields\u001b[49m\u001b[43m[\u001b[49m\u001b[43mi\u001b[49m\u001b[43m]\u001b[49m\u001b[43m,\u001b[49m\u001b[43m \u001b[49m\u001b[43mmarket_prices\u001b[49m\u001b[43m[\u001b[49m\u001b[43mi\u001b[49m\u001b[43m]\u001b[49m\u001b[43m,\u001b[49m\u001b[43m \u001b[49m\u001b[43mstrategy\u001b[49m\u001b[43m)\u001b[49m\n\u001b[0;32m      5\u001b[0m     profits\u001b[38;5;241m.\u001b[39mappend(curr_profit)\n\u001b[0;32m      6\u001b[0m expected_profit \u001b[38;5;241m=\u001b[39m np\u001b[38;5;241m.\u001b[39mmean(profits)\n",
      "Cell \u001b[1;32mIn[7], line 6\u001b[0m, in \u001b[0;36mprofit\u001b[1;34m(option_prices, yi, market_price, strategy)\u001b[0m\n\u001b[0;32m      4\u001b[0m \u001b[38;5;28;01mfor\u001b[39;00m i \u001b[38;5;129;01min\u001b[39;00m \u001b[38;5;28mrange\u001b[39m(\u001b[38;5;241m14\u001b[39m):\n\u001b[0;32m      5\u001b[0m     strike, typ \u001b[38;5;241m=\u001b[39m options[i]\n\u001b[1;32m----> 6\u001b[0m     res \u001b[38;5;241m+\u001b[39m\u001b[38;5;241m=\u001b[39m strategy[i] \u001b[38;5;241m*\u001b[39m calculate_profit(strike, market_price, typ)\n\u001b[0;32m      7\u001b[0m     res \u001b[38;5;241m-\u001b[39m\u001b[38;5;241m=\u001b[39m option_prices[i] \u001b[38;5;241m*\u001b[39m strategy[i]\n\u001b[0;32m      8\u001b[0m \u001b[38;5;28;01mreturn\u001b[39;00m res\n",
      "\u001b[1;31mKeyboardInterrupt\u001b[0m: "
     ]
    }
   ],
   "source": [
    "filename = \"results_scenario\" + str(SCENARIO_NUMBER) + \".txt\"\n",
    "number_of_random_strategies = 1000000\n",
    "# best_profit = 0\n",
    "best_quantile_10 = 0\n",
    "curr_strat = np.hstack((np.random.randint(2000, size=7), np.zeros(7)))\n",
    "best_expected_profit = 0\n",
    "prev_best = -1\n",
    "for i in tqdm(range(number_of_random_strategies)):\n",
    "    prev_best = best_expected_profit\n",
    "    curr_profits = []\n",
    "    similar_strategies = get_similar_strategies(curr_strat)\n",
    "    for strat in similar_strategies:\n",
    "        curr_strat_expected_profit = get_expected_value_of_strategy(strat, scenario_list['price [$/bushel]'], scenario_list['yield [thousands of bushels]'], prices_list)\n",
    "        if curr_strat_expected_profit > best_expected_profit:\n",
    "            best_expected_profit = curr_strat_expected_profit\n",
    "            curr_strat = strat\n",
    "            print('New best strategy at iteration ',i,' : ', strat, 'Expected Profit:', curr_strat_expected_profit)\n",
    "    if prev_best == best_expected_profit:\n",
    "        if best_expected_profit != 0:\n",
    "            print('Start:', curr_strat, \"Expected Profit: \", best_expected_profit)\n",
    "            to_write = ''\n",
    "            for e in curr_strat:\n",
    "                to_write += str(e) + ' '\n",
    "            to_write = to_write + ',' + str(best_expected_profit) + '\\n'\n",
    "            f = open(filename, \"a\")\n",
    "            f.write(to_write)\n",
    "            f.close()\n",
    "        curr_strat = np.hstack((np.random.randint(2000, size=7), np.zeros(7)))\n",
    "        best_expected_profit = 0\n"
   ]
  },
  {
   "cell_type": "code",
   "execution_count": 40,
   "metadata": {},
   "outputs": [],
   "source": [
    "strat = [145.0, 387.0, 537.0, 1090.0, 267.0, 256.0, 237.0, 0.0, 0.0, 0.0, 0.0, 0.0, 0.0, 0.0]"
   ]
  },
  {
   "cell_type": "code",
   "execution_count": 41,
   "metadata": {},
   "outputs": [
    {
     "data": {
      "text/plain": [
       "(1300025.7639000004, 1370311.7954000002)"
      ]
     },
     "execution_count": 41,
     "metadata": {},
     "output_type": "execute_result"
    }
   ],
   "source": [
    "get_expected_value_of_strategy(strat, scenario_list['price [$/bushel]'], scenario_list['yield [thousands of bushels]'], prices_list, return_quantiles=True)"
   ]
  },
  {
   "cell_type": "markdown",
   "metadata": {},
   "source": [
    "### Find similar strategy that fulfills the quantile criteria"
   ]
  },
  {
   "cell_type": "code",
   "execution_count": 18,
   "metadata": {},
   "outputs": [],
   "source": [
    "similars = get_similar_strategies(strat)"
   ]
  },
  {
   "cell_type": "code",
   "execution_count": 35,
   "metadata": {},
   "outputs": [
    {
     "name": "stdout",
     "output_type": "stream",
     "text": [
      "Strategy with max q25: 1367020.8788000003\n",
      "Strategy with max q25: 1367058.5162000002\n",
      "Strategy with max q25: 1367096.1536\n",
      "Strategy with max q25: 1367121.4459\n",
      "Strategy with max q25: 1367124.3613999996\n",
      "Strategy with max q25: 1367164.6922999998\n",
      "Strategy with max q25: 1367139.4\n",
      "Strategy with max q25: 1367164.6922999998\n",
      "Strategy with max q25: 1367139.4\n",
      "Strategy with max q25: 1367164.6922999998\n",
      "Strategy with max q25: 1367139.4\n",
      "Strategy with max q25: 1367164.6922999998\n",
      "Strategy with max q25: 1367139.4\n",
      "Strategy with max q25: 1367164.6922999998\n",
      "Strategy with max q25: 1367139.4\n",
      "Strategy with max q25: 1367164.6922999998\n",
      "Strategy with max q25: 1367139.4\n",
      "Strategy with max q25: 1367164.6922999998\n",
      "Strategy with max q25: 1367139.4\n",
      "Strategy with max q25: 1367164.6922999998\n",
      "Strategy with max q25: 1367139.4\n",
      "Strategy with max q25: 1367164.6922999998\n",
      "Strategy with max q25: 1367139.4\n",
      "Strategy with max q25: 1367164.6922999998\n",
      "Strategy with max q25: 1367139.4\n",
      "Strategy with max q25: 1367164.6922999998\n",
      "Strategy with max q25: 1367139.4\n",
      "Strategy with max q25: 1367164.6922999998\n",
      "Strategy with max q25: 1367139.4\n",
      "Strategy with max q25: 1367164.6922999998\n",
      "Strategy with max q25: 1367139.4\n",
      "Strategy with max q25: 1367164.6922999998\n",
      "Strategy with max q25: 1367139.4\n",
      "Strategy with max q25: 1367164.6922999998\n",
      "Strategy with max q25: 1367139.4\n",
      "Strategy with max q25: 1367164.6922999998\n",
      "Strategy with max q25: 1367139.4\n",
      "Strategy with max q25: 1367164.6922999998\n",
      "Strategy with max q25: 1367139.4\n",
      "Strategy with max q25: 1367164.6922999998\n",
      "Strategy with max q25: 1367139.4\n",
      "Strategy with max q25: 1367164.6922999998\n",
      "Strategy with max q25: 1367139.4\n",
      "Strategy with max q25: 1367164.6922999998\n",
      "Strategy with max q25: 1367139.4\n",
      "Strategy with max q25: 1367164.6922999998\n",
      "Strategy with max q25: 1367139.4\n",
      "Strategy with max q25: 1367164.6922999998\n",
      "Strategy with max q25: 1367139.4\n",
      "Strategy with max q25: 1367164.6922999998\n",
      "Strategy with max q25: 1367139.4\n",
      "Strategy with max q25: 1367164.6922999998\n",
      "Strategy with max q25: 1367139.4\n",
      "Strategy with max q25: 1367164.6922999998\n",
      "Strategy with max q25: 1367139.4\n",
      "Strategy with max q25: 1367164.6922999998\n",
      "Strategy with max q25: 1367139.4\n",
      "Strategy with max q25: 1367164.6922999998\n",
      "Strategy with max q25: 1367139.4\n",
      "Strategy with max q25: 1367164.6922999998\n",
      "Strategy with max q25: 1367139.4\n"
     ]
    },
    {
     "ename": "KeyboardInterrupt",
     "evalue": "",
     "output_type": "error",
     "traceback": [
      "\u001b[1;31m---------------------------------------------------------------------------\u001b[0m",
      "\u001b[1;31mKeyboardInterrupt\u001b[0m                         Traceback (most recent call last)",
      "Cell \u001b[1;32mIn[35], line 2\u001b[0m\n\u001b[0;32m      1\u001b[0m \u001b[38;5;28;01mwhile\u001b[39;00m \u001b[38;5;28;01mTrue\u001b[39;00m:\n\u001b[1;32m----> 2\u001b[0m     \u001b[43mtime\u001b[49m\u001b[38;5;241;43m.\u001b[39;49m\u001b[43msleep\u001b[49m\u001b[43m(\u001b[49m\u001b[38;5;241;43m1\u001b[39;49m\u001b[43m)\u001b[49m\n\u001b[0;32m      3\u001b[0m     qs \u001b[38;5;241m=\u001b[39m []\n\u001b[0;32m      4\u001b[0m     similars \u001b[38;5;241m=\u001b[39m get_similar_strategies(strat)\n",
      "\u001b[1;31mKeyboardInterrupt\u001b[0m: "
     ]
    }
   ],
   "source": [
    "while True:\n",
    "    time.sleep(1)\n",
    "    qs = []\n",
    "    similars = get_similar_strategies(strat)\n",
    "    for strat in similars:\n",
    "        q1, q2 = get_expected_value_of_strategy(strat, scenario_list['price [$/bushel]'], scenario_list['yield [thousands of bushels]'], prices_list, return_quantiles=True)\n",
    "        qs.append(q2)\n",
    "    print('Strategy with max q25:', np.max(qs))\n",
    "    strat = similars[np.argmax(qs)]\n",
    "    "
   ]
  },
  {
   "cell_type": "code",
   "execution_count": 28,
   "metadata": {},
   "outputs": [
    {
     "data": {
      "text/plain": [
       "12"
      ]
     },
     "execution_count": 28,
     "metadata": {},
     "output_type": "execute_result"
    }
   ],
   "source": [
    "np.argmax(qs)"
   ]
  },
  {
   "cell_type": "code",
   "execution_count": null,
   "metadata": {},
   "outputs": [],
   "source": []
  }
 ],
 "metadata": {
  "kernelspec": {
   "display_name": "Python 3 (ipykernel)",
   "language": "python",
   "name": "python3"
  },
  "language_info": {
   "codemirror_mode": {
    "name": "ipython",
    "version": 3
   },
   "file_extension": ".py",
   "mimetype": "text/x-python",
   "name": "python",
   "nbconvert_exporter": "python",
   "pygments_lexer": "ipython3",
   "version": "3.9.13"
  }
 },
 "nbformat": 4,
 "nbformat_minor": 2
}
