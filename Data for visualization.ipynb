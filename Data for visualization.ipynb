{
 "cells": [
  {
   "cell_type": "code",
   "execution_count": 192,
   "id": "aa962674",
   "metadata": {},
   "outputs": [],
   "source": [
    "import pandas as pd\n",
    "import numpy as np"
   ]
  },
  {
   "cell_type": "code",
   "execution_count": 193,
   "id": "fa728927",
   "metadata": {},
   "outputs": [],
   "source": [
    "SCENARIO_NUMBER = 1\n",
    "options = {\n",
    "    0:(5.0,'put'),\n",
    "    1:(5.5,'put'),\n",
    "    2:(6.0,'put'),\n",
    "    3:(6.5,'put'),\n",
    "    4:(7.0,'put'),\n",
    "    5:(7.5,'put'),\n",
    "    6:(8.0,'put'),\n",
    "    7:(5.0,'call'),\n",
    "    8:(5.5,'call'),\n",
    "    9:(6.0,'call'),\n",
    "    10:(6.5,'call'),\n",
    "    11:(7.0,'call'),\n",
    "    12:(7.5,'call'),\n",
    "    13:(8.0,'call'),\n",
    "}\n",
    "scenario = pd.read_csv('104/Scenario'+ str(SCENARIO_NUMBER) +'.csv')\n",
    "prices = pd.read_csv('104/option_prices_scenario_'+ str(SCENARIO_NUMBER) + '.csv')\n",
    "prices_list = prices['Price [USD]'].to_list()\n",
    "scenario_list = scenario.to_dict(orient='list')"
   ]
  },
  {
   "cell_type": "code",
   "execution_count": 194,
   "id": "9278612d",
   "metadata": {},
   "outputs": [],
   "source": [
    "scenario['total'] = scenario['yield [thousands of bushels]'] * scenario['price [$/bushel]'] * 1000"
   ]
  },
  {
   "cell_type": "code",
   "execution_count": 195,
   "id": "725d456f",
   "metadata": {},
   "outputs": [
    {
     "data": {
      "text/plain": [
       "<Axes: ylabel='Frequency'>"
      ]
     },
     "execution_count": 195,
     "metadata": {},
     "output_type": "execute_result"
    },
    {
     "data": {
      "image/png": "[encoded data removed]",
      "text/plain": [
       "<Figure size 640x480 with 1 Axes>"
      ]
     },
     "metadata": {},
     "output_type": "display_data"
    }
   ],
   "source": [
    "scenario['total'].plot.hist()"
   ]
  },
  {
   "cell_type": "code",
   "execution_count": 196,
   "id": "66ad0f6f",
   "metadata": {},
   "outputs": [],
   "source": [
    "def calculate_profit(strike, market_price, typ):\n",
    "    if typ == 'call':\n",
    "        return max(100 * (market_price - strike), 0.0)\n",
    "    return max(100 * (strike - market_price), 0.0)\n"
   ]
  },
  {
   "cell_type": "code",
   "execution_count": 197,
   "id": "022a57c0",
   "metadata": {},
   "outputs": [],
   "source": [
    "def profit(option_prices, yi, market_price, strategy):\n",
    "    res = yi * market_price * 1000\n",
    "    before_options = res\n",
    "    for i in range(14):\n",
    "        strike, typ = options[i]\n",
    "        res += strategy[i] * calculate_profit(strike, market_price, typ)\n",
    "        res -= option_prices[i] * strategy[i]\n",
    "    return res"
   ]
  },
  {
   "cell_type": "code",
   "execution_count": 198,
   "id": "ad629ac0",
   "metadata": {},
   "outputs": [],
   "source": [
    "def get_incomes_of_strategy(strategy, market_prices, yields, option_prices, return_quantiles=False):\n",
    "    profits = []\n",
    "    for i in range(1000):\n",
    "        curr_profit = profit(option_prices, yields[i], market_prices[i], strategy)\n",
    "        profits.append(curr_profit)\n",
    "    return profits"
   ]
  },
  {
   "cell_type": "code",
   "execution_count": 199,
   "id": "981c0f32",
   "metadata": {},
   "outputs": [],
   "source": [
    "strat = [256.0, 136.0, 332.0, 622.0, 1221.0, 180.0, 0.0, 0.0, 0.0, 0.0, 0.0, 0.0, 0.0, 0.0]   # 1\n",
    "# strat = [328.0, 300.0, 448.0, 508.0, 232.0, 736.0, 0.0, 0.0, 0.0, 0.0, 0.0, 0.0, 0.0, 0.0]  # 2\n",
    "# strat = [145.0, 387.0, 537.0, 1090.0, 267.0, 256.0, 237.0, 0.0, 0.0, 0.0, 0.0, 0.0, 0.0, 0.0] # 3"
   ]
  },
  {
   "cell_type": "code",
   "execution_count": 200,
   "id": "1b3cd35b",
   "metadata": {},
   "outputs": [],
   "source": [
    "total_options = get_incomes_of_strategy(strat, scenario_list['price [$/bushel]'], scenario_list['yield [thousands of bushels]'], prices_list,)"
   ]
  },
  {
   "cell_type": "code",
   "execution_count": 201,
   "id": "256a7b95",
   "metadata": {},
   "outputs": [],
   "source": [
    "scenario['expected_income_options'] = total_options"
   ]
  },
  {
   "cell_type": "code",
   "execution_count": 204,
   "id": "fae83f68",
   "metadata": {},
   "outputs": [
    {
     "data": {
      "text/plain": [
       "<Axes: ylabel='Frequency'>"
      ]
     },
     "execution_count": 204,
     "metadata": {},
     "output_type": "execute_result"
    },
    {
     "data": {
      "image/png": "[encoded data removed]",
      "text/plain": [
       "<Figure size 640x480 with 1 Axes>"
      ]
     },
     "metadata": {},
     "output_type": "display_data"
    }
   ],
   "source": [
    "scenario['expected_income_options'].plot.hist()"
   ]
  },
  {
   "cell_type": "code",
   "execution_count": 206,
   "id": "2f5f24db",
   "metadata": {},
   "outputs": [
    {
     "data": {
      "text/plain": [
       "yield [thousands of bushels]    2.446634e+02\n",
       "price [$/bushel]                6.472742e+00\n",
       "total                           1.583351e+06\n",
       "expected_income_options         1.560676e+06\n",
       "dtype: float64"
      ]
     },
     "execution_count": 206,
     "metadata": {},
     "output_type": "execute_result"
    }
   ],
   "source": [
    "scenario.mean()"
   ]
  },
  {
   "cell_type": "code",
   "execution_count": 207,
   "id": "459558fd",
   "metadata": {},
   "outputs": [
    {
     "data": {
      "text/plain": [
       "yield [thousands of bushels]        14.388529\n",
       "price [$/bushel]                     1.864792\n",
       "total                           465237.913693\n",
       "expected_income_options         255084.227150\n",
       "dtype: float64"
      ]
     },
     "execution_count": 207,
     "metadata": {},
     "output_type": "execute_result"
    }
   ],
   "source": [
    "scenario.std()"
   ]
  },
  {
   "cell_type": "code",
   "execution_count": 208,
   "id": "da5f214e",
   "metadata": {},
   "outputs": [
    {
     "data": {
      "text/html": [
       "<div>\n",
       "<style scoped>\n",
       "    .dataframe tbody tr th:only-of-type {\n",
       "        vertical-align: middle;\n",
       "    }\n",
       "\n",
       "    .dataframe tbody tr th {\n",
       "        vertical-align: top;\n",
       "    }\n",
       "\n",
       "    .dataframe thead th {\n",
       "        text-align: right;\n",
       "    }\n",
       "</style>\n",
       "<table border=\"1\" class=\"dataframe\">\n",
       "  <thead>\n",
       "    <tr style=\"text-align: right;\">\n",
       "      <th></th>\n",
       "      <th>yield [thousands of bushels]</th>\n",
       "      <th>price [$/bushel]</th>\n",
       "      <th>total</th>\n",
       "      <th>expected_income_options</th>\n",
       "    </tr>\n",
       "  </thead>\n",
       "  <tbody>\n",
       "    <tr>\n",
       "      <th>count</th>\n",
       "      <td>1000.000000</td>\n",
       "      <td>1000.000000</td>\n",
       "      <td>1.000000e+03</td>\n",
       "      <td>1.000000e+03</td>\n",
       "    </tr>\n",
       "    <tr>\n",
       "      <th>mean</th>\n",
       "      <td>244.663360</td>\n",
       "      <td>6.472742</td>\n",
       "      <td>1.583351e+06</td>\n",
       "      <td>1.560676e+06</td>\n",
       "    </tr>\n",
       "    <tr>\n",
       "      <th>std</th>\n",
       "      <td>14.388529</td>\n",
       "      <td>1.864792</td>\n",
       "      <td>4.652379e+05</td>\n",
       "      <td>2.550842e+05</td>\n",
       "    </tr>\n",
       "    <tr>\n",
       "      <th>min</th>\n",
       "      <td>197.120000</td>\n",
       "      <td>1.093000</td>\n",
       "      <td>2.894155e+05</td>\n",
       "      <td>1.148338e+06</td>\n",
       "    </tr>\n",
       "    <tr>\n",
       "      <th>25%</th>\n",
       "      <td>234.662500</td>\n",
       "      <td>5.255500</td>\n",
       "      <td>1.277796e+06</td>\n",
       "      <td>1.400008e+06</td>\n",
       "    </tr>\n",
       "    <tr>\n",
       "      <th>50%</th>\n",
       "      <td>246.405000</td>\n",
       "      <td>6.453500</td>\n",
       "      <td>1.587918e+06</td>\n",
       "      <td>1.473075e+06</td>\n",
       "    </tr>\n",
       "    <tr>\n",
       "      <th>75%</th>\n",
       "      <td>254.947500</td>\n",
       "      <td>7.728000</td>\n",
       "      <td>1.890055e+06</td>\n",
       "      <td>1.642282e+06</td>\n",
       "    </tr>\n",
       "    <tr>\n",
       "      <th>max</th>\n",
       "      <td>278.860000</td>\n",
       "      <td>12.198000</td>\n",
       "      <td>3.152694e+06</td>\n",
       "      <td>2.903276e+06</td>\n",
       "    </tr>\n",
       "  </tbody>\n",
       "</table>\n",
       "</div>"
      ],
      "text/plain": [
       "       yield [thousands of bushels]  price [$/bushel]         total  \\\n",
       "count                   1000.000000       1000.000000  1.000000e+03   \n",
       "mean                     244.663360          6.472742  1.583351e+06   \n",
       "std                       14.388529          1.864792  4.652379e+05   \n",
       "min                      197.120000          1.093000  2.894155e+05   \n",
       "25%                      234.662500          5.255500  1.277796e+06   \n",
       "50%                      246.405000          6.453500  1.587918e+06   \n",
       "75%                      254.947500          7.728000  1.890055e+06   \n",
       "max                      278.860000         12.198000  3.152694e+06   \n",
       "\n",
       "       expected_income_options  \n",
       "count             1.000000e+03  \n",
       "mean              1.560676e+06  \n",
       "std               2.550842e+05  \n",
       "min               1.148338e+06  \n",
       "25%               1.400008e+06  \n",
       "50%               1.473075e+06  \n",
       "75%               1.642282e+06  \n",
       "max               2.903276e+06  "
      ]
     },
     "execution_count": 208,
     "metadata": {},
     "output_type": "execute_result"
    }
   ],
   "source": [
    "scenario.describe()"
   ]
  },
  {
   "cell_type": "code",
   "execution_count": null,
   "id": "d1acc257",
   "metadata": {},
   "outputs": [],
   "source": []
  },
  {
   "cell_type": "code",
   "execution_count": 189,
   "id": "175c19e7",
   "metadata": {},
   "outputs": [],
   "source": [
    "scenario.to_csv('expected_income' + str(SCENARIO_NUMBER) + '.csv' )"
   ]
  },
  {
   "cell_type": "code",
   "execution_count": 190,
   "id": "c6cbc355",
   "metadata": {},
   "outputs": [],
   "source": [
    "from matplotlib import pyplot"
   ]
  },
  {
   "cell_type": "code",
   "execution_count": 191,
   "id": "bac7e95e",
   "metadata": {},
   "outputs": [
    {
     "data": {
      "image/png": "[encoded data removed]",
      "text/plain": [
       "<Figure size 640x480 with 1 Axes>"
      ]
     },
     "metadata": {},
     "output_type": "display_data"
    }
   ],
   "source": [
    "pyplot.hist(scenario['total'], alpha=0.5, label='Expected Income without Options')\n",
    "pyplot.hist(scenario['expected_income_options'], alpha=0.5, label='Expected Income with Options')\n",
    "pyplot.legend(loc='upper right')\n",
    "pyplot.show()"
   ]
  },
  {
   "cell_type": "code",
   "execution_count": null,
   "id": "bc59f494",
   "metadata": {},
   "outputs": [],
   "source": []
  },
  {
   "cell_type": "code",
   "execution_count": null,
   "id": "b3d47d5c",
   "metadata": {},
   "outputs": [],
   "source": []
  }
 ],
 "metadata": {
  "kernelspec": {
   "display_name": "Python 3 (ipykernel)",
   "language": "python",
   "name": "python3"
  },
  "language_info": {
   "codemirror_mode": {
    "name": "ipython",
    "version": 3
   },
   "file_extension": ".py",
   "mimetype": "text/x-python",
   "name": "python",
   "nbconvert_exporter": "python",
   "pygments_lexer": "ipython3",
   "version": "3.9.13"
  }
 },
 "nbformat": 4,
 "nbformat_minor": 5
}
