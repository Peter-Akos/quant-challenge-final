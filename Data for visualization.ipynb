{
 "cells": [
  {
   "cell_type": "code",
   "execution_count": 2,
   "id": "3f6da2f1",
   "metadata": {},
   "outputs": [],
   "source": [
    "import pandas as pd\n",
    "import numpy as np"
   ]
  },
  {
   "cell_type": "code",
   "execution_count": 76,
   "id": "246b7b33",
   "metadata": {},
   "outputs": [],
   "source": [
    "SCENARIO_NUMBER = 3\n",
    "options = {\n",
    "    0:(5.0,'put'),\n",
    "    1:(5.5,'put'),\n",
    "    2:(6.0,'put'),\n",
    "    3:(6.5,'put'),\n",
    "    4:(7.0,'put'),\n",
    "    5:(7.5,'put'),\n",
    "    6:(8.0,'put'),\n",
    "    7:(5.0,'call'),\n",
    "    8:(5.5,'call'),\n",
    "    9:(6.0,'call'),\n",
    "    10:(6.5,'call'),\n",
    "    11:(7.0,'call'),\n",
    "    12:(7.5,'call'),\n",
    "    13:(8.0,'call'),\n",
    "}\n",
    "scenario = pd.read_csv('104/Scenario'+ str(SCENARIO_NUMBER) +'.csv')\n",
    "prices = pd.read_csv('104/option_prices_scenario_'+ str(SCENARIO_NUMBER) + '.csv')\n",
    "prices_list = prices['Price [USD]'].to_list()\n",
    "scenario_list = scenario.to_dict(orient='list')"
   ]
  },
  {
   "cell_type": "code",
   "execution_count": 77,
   "id": "f594f963",
   "metadata": {},
   "outputs": [],
   "source": [
    "scenario['total'] = scenario['yield [thousands of bushels]'] * scenario['price [$/bushel]'] * 1000"
   ]
  },
  {
   "cell_type": "code",
   "execution_count": 78,
   "id": "0be47368",
   "metadata": {},
   "outputs": [
    {
     "data": {
      "text/plain": [
       "<Axes: ylabel='Frequency'>"
      ]
     },
     "execution_count": 78,
     "metadata": {},
     "output_type": "execute_result"
    },
    {
     "data": {
      "image/png": "[encoded data removed]",
      "text/plain": [
       "<Figure size 640x480 with 1 Axes>"
      ]
     },
     "metadata": {},
     "output_type": "display_data"
    }
   ],
   "source": [
    "scenario['total'].plot.hist()"
   ]
  },
  {
   "cell_type": "code",
   "execution_count": 79,
   "id": "f02c6a7b",
   "metadata": {},
   "outputs": [],
   "source": [
    "def calculate_profit(strike, market_price, typ):\n",
    "    if typ == 'call':\n",
    "        return max(100 * (market_price - strike), 0.0)\n",
    "    return max(100 * (strike - market_price), 0.0)\n"
   ]
  },
  {
   "cell_type": "code",
   "execution_count": 80,
   "id": "8e1e9060",
   "metadata": {},
   "outputs": [],
   "source": [
    "def profit(option_prices, yi, market_price, strategy):\n",
    "    res = yi * market_price * 1000\n",
    "    before_options = res\n",
    "    for i in range(14):\n",
    "        strike, typ = options[i]\n",
    "        res += strategy[i] * calculate_profit(strike, market_price, typ)\n",
    "        res -= option_prices[i] * strategy[i]\n",
    "    return res"
   ]
  },
  {
   "cell_type": "code",
   "execution_count": 81,
   "id": "aae58c5a",
   "metadata": {},
   "outputs": [],
   "source": [
    "def get_incomes_of_strategy(strategy, market_prices, yields, option_prices, return_quantiles=False):\n",
    "    profits = []\n",
    "    for i in range(1000):\n",
    "        curr_profit = profit(option_prices, yields[i], market_prices[i], strategy)\n",
    "        profits.append(curr_profit)\n",
    "    return profits"
   ]
  },
  {
   "cell_type": "code",
   "execution_count": 70,
   "id": "aae6d2b7",
   "metadata": {},
   "outputs": [],
   "source": [
    "strat = [256.0, 136.0, 332.0, 622.0, 1221.0, 180.0, 0.0, 0.0, 0.0, 0.0, 0.0, 0.0, 0.0, 0.0]"
   ]
  },
  {
   "cell_type": "code",
   "execution_count": 71,
   "id": "8c3f9277",
   "metadata": {},
   "outputs": [],
   "source": [
    "total_options = get_incomes_of_strategy(strat, scenario_list['price [$/bushel]'], scenario_list['yield [thousands of bushels]'], prices_list,)"
   ]
  },
  {
   "cell_type": "code",
   "execution_count": 72,
   "id": "26c33262",
   "metadata": {},
   "outputs": [],
   "source": [
    "scenario['expected_income_options'] = total_options"
   ]
  },
  {
   "cell_type": "code",
   "execution_count": 73,
   "id": "43a869da",
   "metadata": {},
   "outputs": [
    {
     "data": {
      "text/plain": [
       "<Axes: ylabel='Frequency'>"
      ]
     },
     "execution_count": 73,
     "metadata": {},
     "output_type": "execute_result"
    },
    {
     "data": {
      "image/png": "[encoded data removed]",
      "text/plain": [
       "<Figure size 640x480 with 1 Axes>"
      ]
     },
     "metadata": {},
     "output_type": "display_data"
    }
   ],
   "source": [
    "scenario['expected_income_options'].plot.hist()"
   ]
  },
  {
   "cell_type": "code",
   "execution_count": 74,
   "id": "cc19c2ba",
   "metadata": {},
   "outputs": [
    {
     "data": {
      "text/html": [
       "<div>\n",
       "<style scoped>\n",
       "    .dataframe tbody tr th:only-of-type {\n",
       "        vertical-align: middle;\n",
       "    }\n",
       "\n",
       "    .dataframe tbody tr th {\n",
       "        vertical-align: top;\n",
       "    }\n",
       "\n",
       "    .dataframe thead th {\n",
       "        text-align: right;\n",
       "    }\n",
       "</style>\n",
       "<table border=\"1\" class=\"dataframe\">\n",
       "  <thead>\n",
       "    <tr style=\"text-align: right;\">\n",
       "      <th></th>\n",
       "      <th>yield [thousands of bushels]</th>\n",
       "      <th>price [$/bushel]</th>\n",
       "      <th>total</th>\n",
       "      <th>expected_income_options</th>\n",
       "    </tr>\n",
       "  </thead>\n",
       "  <tbody>\n",
       "    <tr>\n",
       "      <th>0</th>\n",
       "      <td>213.45</td>\n",
       "      <td>4.418</td>\n",
       "      <td>943022.10</td>\n",
       "      <td>1.275980e+06</td>\n",
       "    </tr>\n",
       "    <tr>\n",
       "      <th>1</th>\n",
       "      <td>247.56</td>\n",
       "      <td>6.063</td>\n",
       "      <td>1500956.28</td>\n",
       "      <td>1.418993e+06</td>\n",
       "    </tr>\n",
       "    <tr>\n",
       "      <th>2</th>\n",
       "      <td>212.81</td>\n",
       "      <td>6.224</td>\n",
       "      <td>1324529.44</td>\n",
       "      <td>1.209996e+06</td>\n",
       "    </tr>\n",
       "    <tr>\n",
       "      <th>3</th>\n",
       "      <td>250.25</td>\n",
       "      <td>7.117</td>\n",
       "      <td>1781029.25</td>\n",
       "      <td>1.538505e+06</td>\n",
       "    </tr>\n",
       "    <tr>\n",
       "      <th>4</th>\n",
       "      <td>255.31</td>\n",
       "      <td>7.632</td>\n",
       "      <td>1948525.92</td>\n",
       "      <td>1.699108e+06</td>\n",
       "    </tr>\n",
       "    <tr>\n",
       "      <th>...</th>\n",
       "      <td>...</td>\n",
       "      <td>...</td>\n",
       "      <td>...</td>\n",
       "      <td>...</td>\n",
       "    </tr>\n",
       "    <tr>\n",
       "      <th>995</th>\n",
       "      <td>246.38</td>\n",
       "      <td>4.579</td>\n",
       "      <td>1128174.02</td>\n",
       "      <td>1.416905e+06</td>\n",
       "    </tr>\n",
       "    <tr>\n",
       "      <th>996</th>\n",
       "      <td>253.58</td>\n",
       "      <td>6.767</td>\n",
       "      <td>1715975.86</td>\n",
       "      <td>1.508201e+06</td>\n",
       "    </tr>\n",
       "    <tr>\n",
       "      <th>997</th>\n",
       "      <td>242.81</td>\n",
       "      <td>6.918</td>\n",
       "      <td>1679759.58</td>\n",
       "      <td>1.450830e+06</td>\n",
       "    </tr>\n",
       "    <tr>\n",
       "      <th>998</th>\n",
       "      <td>259.14</td>\n",
       "      <td>6.701</td>\n",
       "      <td>1736497.14</td>\n",
       "      <td>1.537969e+06</td>\n",
       "    </tr>\n",
       "    <tr>\n",
       "      <th>999</th>\n",
       "      <td>263.70</td>\n",
       "      <td>7.126</td>\n",
       "      <td>1879126.20</td>\n",
       "      <td>1.636440e+06</td>\n",
       "    </tr>\n",
       "  </tbody>\n",
       "</table>\n",
       "<p>1000 rows × 4 columns</p>\n",
       "</div>"
      ],
      "text/plain": [
       "     yield [thousands of bushels]  price [$/bushel]       total  \\\n",
       "0                          213.45             4.418   943022.10   \n",
       "1                          247.56             6.063  1500956.28   \n",
       "2                          212.81             6.224  1324529.44   \n",
       "3                          250.25             7.117  1781029.25   \n",
       "4                          255.31             7.632  1948525.92   \n",
       "..                            ...               ...         ...   \n",
       "995                        246.38             4.579  1128174.02   \n",
       "996                        253.58             6.767  1715975.86   \n",
       "997                        242.81             6.918  1679759.58   \n",
       "998                        259.14             6.701  1736497.14   \n",
       "999                        263.70             7.126  1879126.20   \n",
       "\n",
       "     expected_income_options  \n",
       "0               1.275980e+06  \n",
       "1               1.418993e+06  \n",
       "2               1.209996e+06  \n",
       "3               1.538505e+06  \n",
       "4               1.699108e+06  \n",
       "..                       ...  \n",
       "995             1.416905e+06  \n",
       "996             1.508201e+06  \n",
       "997             1.450830e+06  \n",
       "998             1.537969e+06  \n",
       "999             1.636440e+06  \n",
       "\n",
       "[1000 rows x 4 columns]"
      ]
     },
     "execution_count": 74,
     "metadata": {},
     "output_type": "execute_result"
    }
   ],
   "source": [
    "scenario"
   ]
  },
  {
   "cell_type": "code",
   "execution_count": 75,
   "id": "ccaaf297",
   "metadata": {},
   "outputs": [],
   "source": [
    "scenario.to_csv('expected_income_without_options' + str(SCENARIO_NUMBER) + '.csv' )"
   ]
  },
  {
   "cell_type": "code",
   "execution_count": null,
   "id": "6e84eed5",
   "metadata": {},
   "outputs": [],
   "source": []
  }
 ],
 "metadata": {
  "kernelspec": {
   "display_name": "Python 3 (ipykernel)",
   "language": "python",
   "name": "python3"
  },
  "language_info": {
   "codemirror_mode": {
    "name": "ipython",
    "version": 3
   },
   "file_extension": ".py",
   "mimetype": "text/x-python",
   "name": "python",
   "nbconvert_exporter": "python",
   "pygments_lexer": "ipython3",
   "version": "3.9.13"
  }
 },
 "nbformat": 4,
 "nbformat_minor": 5
}
