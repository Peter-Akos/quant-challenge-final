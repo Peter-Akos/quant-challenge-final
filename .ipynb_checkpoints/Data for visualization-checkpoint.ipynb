{
 "cells": [
  {
   "cell_type": "code",
   "execution_count": 2,
   "id": "eb659ed4",
   "metadata": {},
   "outputs": [],
   "source": [
    "import pandas as pd\n",
    "import numpy as np"
   ]
  },
  {
   "cell_type": "code",
   "execution_count": 76,
   "id": "a0555425",
   "metadata": {},
   "outputs": [],
   "source": [
    "SCENARIO_NUMBER = 3\n",
    "options = {\n",
    "    0:(5.0,'put'),\n",
    "    1:(5.5,'put'),\n",
    "    2:(6.0,'put'),\n",
    "    3:(6.5,'put'),\n",
    "    4:(7.0,'put'),\n",
    "    5:(7.5,'put'),\n",
    "    6:(8.0,'put'),\n",
    "    7:(5.0,'call'),\n",
    "    8:(5.5,'call'),\n",
    "    9:(6.0,'call'),\n",
    "    10:(6.5,'call'),\n",
    "    11:(7.0,'call'),\n",
    "    12:(7.5,'call'),\n",
    "    13:(8.0,'call'),\n",
    "}\n",
    "scenario = pd.read_csv('104/Scenario'+ str(SCENARIO_NUMBER) +'.csv')\n",
    "prices = pd.read_csv('104/option_prices_scenario_'+ str(SCENARIO_NUMBER) + '.csv')\n",
    "prices_list = prices['Price [USD]'].to_list()\n",
    "scenario_list = scenario.to_dict(orient='list')"
   ]
  },
  {
   "cell_type": "code",
   "execution_count": 77,
   "id": "82ccd98c",
   "metadata": {},
   "outputs": [],
   "source": [
    "scenario['total'] = scenario['yield [thousands of bushels]'] * scenario['price [$/bushel]'] * 1000"
   ]
  },
  {
   "cell_type": "code",
   "execution_count": 78,
   "id": "43b52693",
   "metadata": {},
   "outputs": [
    {
     "data": {
      "text/plain": [
       "<Axes: ylabel='Frequency'>"
      ]
     },
     "execution_count": 78,
     "metadata": {},
     "output_type": "execute_result"
    },
    {
     "data": {
      "image/png": "[encoded data removed]",
      "text/plain": [
       "<Figure size 640x480 with 1 Axes>"
      ]
     },
     "metadata": {},
     "output_type": "display_data"
    }
   ],
   "source": [
    "scenario['total'].plot.hist()"
   ]
  },
  {
   "cell_type": "code",
   "execution_count": 79,
   "id": "ce1e5ffc",
   "metadata": {},
   "outputs": [],
   "source": [
    "def calculate_profit(strike, market_price, typ):\n",
    "    if typ == 'call':\n",
    "        return max(100 * (market_price - strike), 0.0)\n",
    "    return max(100 * (strike - market_price), 0.0)\n"
   ]
  },
  {
   "cell_type": "code",
   "execution_count": 80,
   "id": "c8e06804",
   "metadata": {},
   "outputs": [],
   "source": [
    "def profit(option_prices, yi, market_price, strategy):\n",
    "    res = yi * market_price * 1000\n",
    "    before_options = res\n",
    "    for i in range(14):\n",
    "        strike, typ = options[i]\n",
    "        res += strategy[i] * calculate_profit(strike, market_price, typ)\n",
    "        res -= option_prices[i] * strategy[i]\n",
    "    return res"
   ]
  },
  {
   "cell_type": "code",
   "execution_count": 81,
   "id": "af323281",
   "metadata": {},
   "outputs": [],
   "source": [
    "def get_incomes_of_strategy(strategy, market_prices, yields, option_prices, return_quantiles=False):\n",
    "    profits = []\n",
    "    for i in range(1000):\n",
    "        curr_profit = profit(option_prices, yields[i], market_prices[i], strategy)\n",
    "        profits.append(curr_profit)\n",
    "    return profits"
   ]
  },
  {
   "cell_type": "code",
   "execution_count": 82,
   "id": "965998ed",
   "metadata": {},
   "outputs": [],
   "source": [
    "strat = [145.0, 387.0, 537.0, 1090.0, 267.0, 256.0, 237.0, 0.0, 0.0, 0.0, 0.0, 0.0, 0.0, 0.0]"
   ]
  },
  {
   "cell_type": "code",
   "execution_count": 83,
   "id": "9c21bbbc",
   "metadata": {},
   "outputs": [],
   "source": [
    "total_options = get_incomes_of_strategy(strat, scenario_list['price [$/bushel]'], scenario_list['yield [thousands of bushels]'], prices_list,)"
   ]
  },
  {
   "cell_type": "code",
   "execution_count": 84,
   "id": "668b1bcf",
   "metadata": {},
   "outputs": [],
   "source": [
    "scenario['expected_income_options'] = total_options"
   ]
  },
  {
   "cell_type": "code",
   "execution_count": 85,
   "id": "681b322c",
   "metadata": {},
   "outputs": [
    {
     "data": {
      "text/plain": [
       "<Axes: ylabel='Frequency'>"
      ]
     },
     "execution_count": 85,
     "metadata": {},
     "output_type": "execute_result"
    },
    {
     "data": {
      "image/png": "[encoded data removed]",
      "text/plain": [
       "<Figure size 640x480 with 1 Axes>"
      ]
     },
     "metadata": {},
     "output_type": "display_data"
    }
   ],
   "source": [
    "scenario['expected_income_options'].plot.hist()"
   ]
  },
  {
   "cell_type": "code",
   "execution_count": 86,
   "id": "9af938b2",
   "metadata": {},
   "outputs": [
    {
     "data": {
      "text/html": [
       "<div>\n",
       "<style scoped>\n",
       "    .dataframe tbody tr th:only-of-type {\n",
       "        vertical-align: middle;\n",
       "    }\n",
       "\n",
       "    .dataframe tbody tr th {\n",
       "        vertical-align: top;\n",
       "    }\n",
       "\n",
       "    .dataframe thead th {\n",
       "        text-align: right;\n",
       "    }\n",
       "</style>\n",
       "<table border=\"1\" class=\"dataframe\">\n",
       "  <thead>\n",
       "    <tr style=\"text-align: right;\">\n",
       "      <th></th>\n",
       "      <th>yield [thousands of bushels]</th>\n",
       "      <th>price [$/bushel]</th>\n",
       "      <th>total</th>\n",
       "      <th>expected_income_options</th>\n",
       "    </tr>\n",
       "  </thead>\n",
       "  <tbody>\n",
       "    <tr>\n",
       "      <th>0</th>\n",
       "      <td>214.09</td>\n",
       "      <td>4.749</td>\n",
       "      <td>1016713.41</td>\n",
       "      <td>1.226297e+06</td>\n",
       "    </tr>\n",
       "    <tr>\n",
       "      <th>1</th>\n",
       "      <td>248.23</td>\n",
       "      <td>5.217</td>\n",
       "      <td>1295015.91</td>\n",
       "      <td>1.371137e+06</td>\n",
       "    </tr>\n",
       "    <tr>\n",
       "      <th>2</th>\n",
       "      <td>212.46</td>\n",
       "      <td>4.904</td>\n",
       "      <td>1041903.84</td>\n",
       "      <td>1.206243e+06</td>\n",
       "    </tr>\n",
       "    <tr>\n",
       "      <th>3</th>\n",
       "      <td>249.63</td>\n",
       "      <td>4.193</td>\n",
       "      <td>1046698.59</td>\n",
       "      <td>1.418579e+06</td>\n",
       "    </tr>\n",
       "    <tr>\n",
       "      <th>4</th>\n",
       "      <td>255.92</td>\n",
       "      <td>8.064</td>\n",
       "      <td>2063738.88</td>\n",
       "      <td>1.775006e+06</td>\n",
       "    </tr>\n",
       "    <tr>\n",
       "      <th>...</th>\n",
       "      <td>...</td>\n",
       "      <td>...</td>\n",
       "      <td>...</td>\n",
       "      <td>...</td>\n",
       "    </tr>\n",
       "    <tr>\n",
       "      <th>995</th>\n",
       "      <td>247.05</td>\n",
       "      <td>5.927</td>\n",
       "      <td>1464265.35</td>\n",
       "      <td>1.359957e+06</td>\n",
       "    </tr>\n",
       "    <tr>\n",
       "      <th>996</th>\n",
       "      <td>253.23</td>\n",
       "      <td>6.957</td>\n",
       "      <td>1761721.11</td>\n",
       "      <td>1.512756e+06</td>\n",
       "    </tr>\n",
       "    <tr>\n",
       "      <th>997</th>\n",
       "      <td>242.14</td>\n",
       "      <td>5.403</td>\n",
       "      <td>1308282.42</td>\n",
       "      <td>1.332807e+06</td>\n",
       "    </tr>\n",
       "    <tr>\n",
       "      <th>998</th>\n",
       "      <td>259.24</td>\n",
       "      <td>5.875</td>\n",
       "      <td>1523035.00</td>\n",
       "      <td>1.431139e+06</td>\n",
       "    </tr>\n",
       "    <tr>\n",
       "      <th>999</th>\n",
       "      <td>264.38</td>\n",
       "      <td>9.474</td>\n",
       "      <td>2504736.12</td>\n",
       "      <td>2.216003e+06</td>\n",
       "    </tr>\n",
       "  </tbody>\n",
       "</table>\n",
       "<p>1000 rows × 4 columns</p>\n",
       "</div>"
      ],
      "text/plain": [
       "     yield [thousands of bushels]  price [$/bushel]       total  \\\n",
       "0                          214.09             4.749  1016713.41   \n",
       "1                          248.23             5.217  1295015.91   \n",
       "2                          212.46             4.904  1041903.84   \n",
       "3                          249.63             4.193  1046698.59   \n",
       "4                          255.92             8.064  2063738.88   \n",
       "..                            ...               ...         ...   \n",
       "995                        247.05             5.927  1464265.35   \n",
       "996                        253.23             6.957  1761721.11   \n",
       "997                        242.14             5.403  1308282.42   \n",
       "998                        259.24             5.875  1523035.00   \n",
       "999                        264.38             9.474  2504736.12   \n",
       "\n",
       "     expected_income_options  \n",
       "0               1.226297e+06  \n",
       "1               1.371137e+06  \n",
       "2               1.206243e+06  \n",
       "3               1.418579e+06  \n",
       "4               1.775006e+06  \n",
       "..                       ...  \n",
       "995             1.359957e+06  \n",
       "996             1.512756e+06  \n",
       "997             1.332807e+06  \n",
       "998             1.431139e+06  \n",
       "999             2.216003e+06  \n",
       "\n",
       "[1000 rows x 4 columns]"
      ]
     },
     "execution_count": 86,
     "metadata": {},
     "output_type": "execute_result"
    }
   ],
   "source": [
    "scenario"
   ]
  },
  {
   "cell_type": "code",
   "execution_count": 87,
   "id": "9620de4e",
   "metadata": {},
   "outputs": [],
   "source": [
    "scenario.to_csv('expected_income' + str(SCENARIO_NUMBER) + '.csv' )"
   ]
  },
  {
   "cell_type": "code",
   "execution_count": null,
   "id": "36b57e63",
   "metadata": {},
   "outputs": [],
   "source": []
  }
 ],
 "metadata": {
  "kernelspec": {
   "display_name": "Python 3 (ipykernel)",
   "language": "python",
   "name": "python3"
  },
  "language_info": {
   "codemirror_mode": {
    "name": "ipython",
    "version": 3
   },
   "file_extension": ".py",
   "mimetype": "text/x-python",
   "name": "python",
   "nbconvert_exporter": "python",
   "pygments_lexer": "ipython3",
   "version": "3.9.13"
  }
 },
 "nbformat": 4,
 "nbformat_minor": 5
}
